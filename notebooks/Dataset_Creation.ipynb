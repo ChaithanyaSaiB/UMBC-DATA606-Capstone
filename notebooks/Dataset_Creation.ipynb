{
  "nbformat": 4,
  "nbformat_minor": 0,
  "metadata": {
    "colab": {
      "provenance": [],
      "gpuType": "T4",
      "authorship_tag": "ABX9TyMJc98KtnqxsiIwhvs2EnUG",
      "include_colab_link": true
    },
    "kernelspec": {
      "name": "python3",
      "display_name": "Python 3"
    },
    "language_info": {
      "name": "python"
    },
    "accelerator": "GPU"
  },
  "cells": [
    {
      "cell_type": "markdown",
      "metadata": {
        "id": "view-in-github",
        "colab_type": "text"
      },
      "source": [
        "<a href=\"https://colab.research.google.com/github/ChaithanyaSaiB/UMBC-DATA606-Capstone/blob/main/notebooks/Dataset_Creation.ipynb\" target=\"_parent\"><img src=\"https://colab.research.google.com/assets/colab-badge.svg\" alt=\"Open In Colab\"/></a>"
      ]
    },
    {
      "cell_type": "code",
      "source": [
        "# Importing necessary libraries\n",
        "import pandas as pd\n",
        "import re\n",
        "import os\n",
        "import requests\n",
        "from bs4 import BeautifulSoup\n",
        "import nltk\n",
        "from nltk.tokenize import word_tokenize\n",
        "from nltk.corpus import stopwords\n",
        "from nltk.stem import WordNetLemmatizer\n",
        "from nltk.corpus import wordnet\n",
        "# Import the tqdm library for progress bar\n",
        "from tqdm import tqdm\n",
        "\n",
        "# Download NLTK resources\n",
        "nltk.download('punkt')\n",
        "nltk.download('stopwords')\n",
        "nltk.download('averaged_perceptron_tagger')\n",
        "nltk.download('wordnet')"
      ],
      "metadata": {
        "id": "8kh4t6C6WttG",
        "outputId": "c43ac03e-a454-4b72-da6b-729e41868da0",
        "colab": {
          "base_uri": "https://localhost:8080/"
        }
      },
      "execution_count": 2,
      "outputs": [
        {
          "output_type": "stream",
          "name": "stderr",
          "text": [
            "[nltk_data] Downloading package punkt to /root/nltk_data...\n",
            "[nltk_data]   Unzipping tokenizers/punkt.zip.\n",
            "[nltk_data] Downloading package stopwords to /root/nltk_data...\n",
            "[nltk_data]   Unzipping corpora/stopwords.zip.\n",
            "[nltk_data] Downloading package averaged_perceptron_tagger to\n",
            "[nltk_data]     /root/nltk_data...\n",
            "[nltk_data]   Unzipping taggers/averaged_perceptron_tagger.zip.\n",
            "[nltk_data] Downloading package wordnet to /root/nltk_data...\n"
          ]
        },
        {
          "output_type": "execute_result",
          "data": {
            "text/plain": [
              "True"
            ]
          },
          "metadata": {},
          "execution_count": 2
        }
      ]
    },
    {
      "cell_type": "code",
      "execution_count": null,
      "metadata": {
        "colab": {
          "base_uri": "https://localhost:8080/",
          "height": 206
        },
        "id": "G9VMqiw81-c6",
        "outputId": "743bb398-f5b4-4f40-ab8a-7f60f5daff6e"
      },
      "outputs": [
        {
          "output_type": "execute_result",
          "data": {
            "text/plain": [
              "                   ID                        DateTime  \\\n",
              "0  576880531301801984  Sat Mar 14 23:00:11 +0000 2015   \n",
              "1  576820122666471424  Sat Mar 14 19:00:08 +0000 2015   \n",
              "2  576744652717461504  Sat Mar 14 14:00:15 +0000 2015   \n",
              "3  576736754436304896  Sat Mar 14 13:28:52 +0000 2015   \n",
              "4  576736614766010368  Sat Mar 14 13:28:18 +0000 2015   \n",
              "\n",
              "                              Article Title and Link  \n",
              "0  An abundance of online info can turn us into e...  \n",
              "1  A plant-based diet that incorporates fish may ...  \n",
              "2  It doesn't take much to damage your hearing at...  \n",
              "3  RT @CNN: Forever young? Discover this island’s...  \n",
              "4  RT @CNN: Is post-traumatic stress disorder in ...  "
            ],
            "text/html": [
              "\n",
              "  <div id=\"df-01863593-6fec-4779-b8d7-55c8e1ca0f75\" class=\"colab-df-container\">\n",
              "    <div>\n",
              "<style scoped>\n",
              "    .dataframe tbody tr th:only-of-type {\n",
              "        vertical-align: middle;\n",
              "    }\n",
              "\n",
              "    .dataframe tbody tr th {\n",
              "        vertical-align: top;\n",
              "    }\n",
              "\n",
              "    .dataframe thead th {\n",
              "        text-align: right;\n",
              "    }\n",
              "</style>\n",
              "<table border=\"1\" class=\"dataframe\">\n",
              "  <thead>\n",
              "    <tr style=\"text-align: right;\">\n",
              "      <th></th>\n",
              "      <th>ID</th>\n",
              "      <th>DateTime</th>\n",
              "      <th>Article Title and Link</th>\n",
              "    </tr>\n",
              "  </thead>\n",
              "  <tbody>\n",
              "    <tr>\n",
              "      <th>0</th>\n",
              "      <td>576880531301801984</td>\n",
              "      <td>Sat Mar 14 23:00:11 +0000 2015</td>\n",
              "      <td>An abundance of online info can turn us into e...</td>\n",
              "    </tr>\n",
              "    <tr>\n",
              "      <th>1</th>\n",
              "      <td>576820122666471424</td>\n",
              "      <td>Sat Mar 14 19:00:08 +0000 2015</td>\n",
              "      <td>A plant-based diet that incorporates fish may ...</td>\n",
              "    </tr>\n",
              "    <tr>\n",
              "      <th>2</th>\n",
              "      <td>576744652717461504</td>\n",
              "      <td>Sat Mar 14 14:00:15 +0000 2015</td>\n",
              "      <td>It doesn't take much to damage your hearing at...</td>\n",
              "    </tr>\n",
              "    <tr>\n",
              "      <th>3</th>\n",
              "      <td>576736754436304896</td>\n",
              "      <td>Sat Mar 14 13:28:52 +0000 2015</td>\n",
              "      <td>RT @CNN: Forever young? Discover this island’s...</td>\n",
              "    </tr>\n",
              "    <tr>\n",
              "      <th>4</th>\n",
              "      <td>576736614766010368</td>\n",
              "      <td>Sat Mar 14 13:28:18 +0000 2015</td>\n",
              "      <td>RT @CNN: Is post-traumatic stress disorder in ...</td>\n",
              "    </tr>\n",
              "  </tbody>\n",
              "</table>\n",
              "</div>\n",
              "    <div class=\"colab-df-buttons\">\n",
              "\n",
              "  <div class=\"colab-df-container\">\n",
              "    <button class=\"colab-df-convert\" onclick=\"convertToInteractive('df-01863593-6fec-4779-b8d7-55c8e1ca0f75')\"\n",
              "            title=\"Convert this dataframe to an interactive table.\"\n",
              "            style=\"display:none;\">\n",
              "\n",
              "  <svg xmlns=\"http://www.w3.org/2000/svg\" height=\"24px\" viewBox=\"0 -960 960 960\">\n",
              "    <path d=\"M120-120v-720h720v720H120Zm60-500h600v-160H180v160Zm220 220h160v-160H400v160Zm0 220h160v-160H400v160ZM180-400h160v-160H180v160Zm440 0h160v-160H620v160ZM180-180h160v-160H180v160Zm440 0h160v-160H620v160Z\"/>\n",
              "  </svg>\n",
              "    </button>\n",
              "\n",
              "  <style>\n",
              "    .colab-df-container {\n",
              "      display:flex;\n",
              "      gap: 12px;\n",
              "    }\n",
              "\n",
              "    .colab-df-convert {\n",
              "      background-color: #E8F0FE;\n",
              "      border: none;\n",
              "      border-radius: 50%;\n",
              "      cursor: pointer;\n",
              "      display: none;\n",
              "      fill: #1967D2;\n",
              "      height: 32px;\n",
              "      padding: 0 0 0 0;\n",
              "      width: 32px;\n",
              "    }\n",
              "\n",
              "    .colab-df-convert:hover {\n",
              "      background-color: #E2EBFA;\n",
              "      box-shadow: 0px 1px 2px rgba(60, 64, 67, 0.3), 0px 1px 3px 1px rgba(60, 64, 67, 0.15);\n",
              "      fill: #174EA6;\n",
              "    }\n",
              "\n",
              "    .colab-df-buttons div {\n",
              "      margin-bottom: 4px;\n",
              "    }\n",
              "\n",
              "    [theme=dark] .colab-df-convert {\n",
              "      background-color: #3B4455;\n",
              "      fill: #D2E3FC;\n",
              "    }\n",
              "\n",
              "    [theme=dark] .colab-df-convert:hover {\n",
              "      background-color: #434B5C;\n",
              "      box-shadow: 0px 1px 3px 1px rgba(0, 0, 0, 0.15);\n",
              "      filter: drop-shadow(0px 1px 2px rgba(0, 0, 0, 0.3));\n",
              "      fill: #FFFFFF;\n",
              "    }\n",
              "  </style>\n",
              "\n",
              "    <script>\n",
              "      const buttonEl =\n",
              "        document.querySelector('#df-01863593-6fec-4779-b8d7-55c8e1ca0f75 button.colab-df-convert');\n",
              "      buttonEl.style.display =\n",
              "        google.colab.kernel.accessAllowed ? 'block' : 'none';\n",
              "\n",
              "      async function convertToInteractive(key) {\n",
              "        const element = document.querySelector('#df-01863593-6fec-4779-b8d7-55c8e1ca0f75');\n",
              "        const dataTable =\n",
              "          await google.colab.kernel.invokeFunction('convertToInteractive',\n",
              "                                                    [key], {});\n",
              "        if (!dataTable) return;\n",
              "\n",
              "        const docLinkHtml = 'Like what you see? Visit the ' +\n",
              "          '<a target=\"_blank\" href=https://colab.research.google.com/notebooks/data_table.ipynb>data table notebook</a>'\n",
              "          + ' to learn more about interactive tables.';\n",
              "        element.innerHTML = '';\n",
              "        dataTable['output_type'] = 'display_data';\n",
              "        await google.colab.output.renderOutput(dataTable, element);\n",
              "        const docLink = document.createElement('div');\n",
              "        docLink.innerHTML = docLinkHtml;\n",
              "        element.appendChild(docLink);\n",
              "      }\n",
              "    </script>\n",
              "  </div>\n",
              "\n",
              "\n",
              "<div id=\"df-251ee644-8a11-4780-96e4-41fcd768e9bb\">\n",
              "  <button class=\"colab-df-quickchart\" onclick=\"quickchart('df-251ee644-8a11-4780-96e4-41fcd768e9bb')\"\n",
              "            title=\"Suggest charts\"\n",
              "            style=\"display:none;\">\n",
              "\n",
              "<svg xmlns=\"http://www.w3.org/2000/svg\" height=\"24px\"viewBox=\"0 0 24 24\"\n",
              "     width=\"24px\">\n",
              "    <g>\n",
              "        <path d=\"M19 3H5c-1.1 0-2 .9-2 2v14c0 1.1.9 2 2 2h14c1.1 0 2-.9 2-2V5c0-1.1-.9-2-2-2zM9 17H7v-7h2v7zm4 0h-2V7h2v10zm4 0h-2v-4h2v4z\"/>\n",
              "    </g>\n",
              "</svg>\n",
              "  </button>\n",
              "\n",
              "<style>\n",
              "  .colab-df-quickchart {\n",
              "      --bg-color: #E8F0FE;\n",
              "      --fill-color: #1967D2;\n",
              "      --hover-bg-color: #E2EBFA;\n",
              "      --hover-fill-color: #174EA6;\n",
              "      --disabled-fill-color: #AAA;\n",
              "      --disabled-bg-color: #DDD;\n",
              "  }\n",
              "\n",
              "  [theme=dark] .colab-df-quickchart {\n",
              "      --bg-color: #3B4455;\n",
              "      --fill-color: #D2E3FC;\n",
              "      --hover-bg-color: #434B5C;\n",
              "      --hover-fill-color: #FFFFFF;\n",
              "      --disabled-bg-color: #3B4455;\n",
              "      --disabled-fill-color: #666;\n",
              "  }\n",
              "\n",
              "  .colab-df-quickchart {\n",
              "    background-color: var(--bg-color);\n",
              "    border: none;\n",
              "    border-radius: 50%;\n",
              "    cursor: pointer;\n",
              "    display: none;\n",
              "    fill: var(--fill-color);\n",
              "    height: 32px;\n",
              "    padding: 0;\n",
              "    width: 32px;\n",
              "  }\n",
              "\n",
              "  .colab-df-quickchart:hover {\n",
              "    background-color: var(--hover-bg-color);\n",
              "    box-shadow: 0 1px 2px rgba(60, 64, 67, 0.3), 0 1px 3px 1px rgba(60, 64, 67, 0.15);\n",
              "    fill: var(--button-hover-fill-color);\n",
              "  }\n",
              "\n",
              "  .colab-df-quickchart-complete:disabled,\n",
              "  .colab-df-quickchart-complete:disabled:hover {\n",
              "    background-color: var(--disabled-bg-color);\n",
              "    fill: var(--disabled-fill-color);\n",
              "    box-shadow: none;\n",
              "  }\n",
              "\n",
              "  .colab-df-spinner {\n",
              "    border: 2px solid var(--fill-color);\n",
              "    border-color: transparent;\n",
              "    border-bottom-color: var(--fill-color);\n",
              "    animation:\n",
              "      spin 1s steps(1) infinite;\n",
              "  }\n",
              "\n",
              "  @keyframes spin {\n",
              "    0% {\n",
              "      border-color: transparent;\n",
              "      border-bottom-color: var(--fill-color);\n",
              "      border-left-color: var(--fill-color);\n",
              "    }\n",
              "    20% {\n",
              "      border-color: transparent;\n",
              "      border-left-color: var(--fill-color);\n",
              "      border-top-color: var(--fill-color);\n",
              "    }\n",
              "    30% {\n",
              "      border-color: transparent;\n",
              "      border-left-color: var(--fill-color);\n",
              "      border-top-color: var(--fill-color);\n",
              "      border-right-color: var(--fill-color);\n",
              "    }\n",
              "    40% {\n",
              "      border-color: transparent;\n",
              "      border-right-color: var(--fill-color);\n",
              "      border-top-color: var(--fill-color);\n",
              "    }\n",
              "    60% {\n",
              "      border-color: transparent;\n",
              "      border-right-color: var(--fill-color);\n",
              "    }\n",
              "    80% {\n",
              "      border-color: transparent;\n",
              "      border-right-color: var(--fill-color);\n",
              "      border-bottom-color: var(--fill-color);\n",
              "    }\n",
              "    90% {\n",
              "      border-color: transparent;\n",
              "      border-bottom-color: var(--fill-color);\n",
              "    }\n",
              "  }\n",
              "</style>\n",
              "\n",
              "  <script>\n",
              "    async function quickchart(key) {\n",
              "      const quickchartButtonEl =\n",
              "        document.querySelector('#' + key + ' button');\n",
              "      quickchartButtonEl.disabled = true;  // To prevent multiple clicks.\n",
              "      quickchartButtonEl.classList.add('colab-df-spinner');\n",
              "      try {\n",
              "        const charts = await google.colab.kernel.invokeFunction(\n",
              "            'suggestCharts', [key], {});\n",
              "      } catch (error) {\n",
              "        console.error('Error during call to suggestCharts:', error);\n",
              "      }\n",
              "      quickchartButtonEl.classList.remove('colab-df-spinner');\n",
              "      quickchartButtonEl.classList.add('colab-df-quickchart-complete');\n",
              "    }\n",
              "    (() => {\n",
              "      let quickchartButtonEl =\n",
              "        document.querySelector('#df-251ee644-8a11-4780-96e4-41fcd768e9bb button');\n",
              "      quickchartButtonEl.style.display =\n",
              "        google.colab.kernel.accessAllowed ? 'block' : 'none';\n",
              "    })();\n",
              "  </script>\n",
              "</div>\n",
              "\n",
              "    </div>\n",
              "  </div>\n"
            ],
            "application/vnd.google.colaboratory.intrinsic+json": {
              "type": "dataframe",
              "variable_name": "cnnhealth",
              "summary": "{\n  \"name\": \"cnnhealth\",\n  \"rows\": 4061,\n  \"fields\": [\n    {\n      \"column\": \"ID\",\n      \"properties\": {\n        \"dtype\": \"number\",\n        \"std\": 89617103662231104,\n        \"min\": 239366825018806272,\n        \"max\": 576880531301801984,\n        \"num_unique_values\": 4061,\n        \"samples\": [\n          294848433674649601,\n          343337995912503296,\n          239410205757145088\n        ],\n        \"semantic_type\": \"\",\n        \"description\": \"\"\n      }\n    },\n    {\n      \"column\": \"DateTime\",\n      \"properties\": {\n        \"dtype\": \"object\",\n        \"num_unique_values\": 4057,\n        \"samples\": [\n          \"Fri Jan 03 02:55:11 +0000 2014\",\n          \"Sun Jun 16 18:53:01 +0000 2013\",\n          \"Sat Aug 25 17:13:35 +0000 2012\"\n        ],\n        \"semantic_type\": \"\",\n        \"description\": \"\"\n      }\n    },\n    {\n      \"column\": \"Article Title and Link\",\n      \"properties\": {\n        \"dtype\": \"string\",\n        \"num_unique_values\": 4046,\n        \"samples\": [\n          \"Meet NYU's heroic nurses http://at.cnn.com/pcmeVK #Sandy\",\n          \"The debilitating outbreak sweeping the Americas http://www.cnn.com/2014/12/17/health/chikungunya-infects-the-americas/index.html?sr=sharebar_twitter\",\n          \"Could a condom company change the world? http://at.cnn.com/jtSHcqY @MySirRichards @PIH #Haiti\"\n        ],\n        \"semantic_type\": \"\",\n        \"description\": \"\"\n      }\n    }\n  ]\n}"
            }
          },
          "metadata": {},
          "execution_count": 2
        }
      ],
      "source": [
        "# Load CNN health data\n",
        "cnnhealth = pd.read_csv(\"/content/cnnhealth.txt\", sep=r\"(?<!\\s)[|](?!\\s)\", names=['ID', 'DateTime', 'Article Title and Link'], engine=\"python\")\n",
        "cnnhealth.head()"
      ]
    },
    {
      "cell_type": "code",
      "source": [
        "# Extract all URLs from article titles and links\n",
        "cnnhealth['URL'] = [re.findall(r'https?://\\S+', text) for text in cnnhealth['Article Title and Link']]\n",
        "\n",
        "# Drop rows with multiple or no URLs\n",
        "drop_indices = cnnhealth['Article Title and Link'][cnnhealth['URL'].apply(len) != 1].index\n",
        "cnnhealth.drop(drop_indices, inplace=True)\n",
        "\n",
        "# Extract CNN URL for articles\n",
        "cnnhealth['URL'] = [url[0] for url in cnnhealth['URL']]"
      ],
      "metadata": {
        "id": "R9WrPgv-PDGK"
      },
      "execution_count": null,
      "outputs": []
    },
    {
      "cell_type": "code",
      "source": [
        "# Function to fetch content from a URL\n",
        "def fetch_content(url):\n",
        "    try:\n",
        "        response = requests.get(url, timeout=10)\n",
        "        if response.status_code == 200:\n",
        "            return response.text\n",
        "        else:\n",
        "            return None\n",
        "    except Exception as e:\n",
        "        print(\"Error fetching content:\", e)\n",
        "        return None\n",
        "\n",
        "# Function to extract body content from HTML using BeautifulSoup\n",
        "def extract_body(html_content):\n",
        "    if html_content:\n",
        "        soup = BeautifulSoup(html_content, 'html.parser')\n",
        "        article_body = soup.findAll('p', class_='paragraph')\n",
        "        if article_body:\n",
        "            return article_body\n",
        "        else:\n",
        "            return None\n",
        "    else:\n",
        "        return None\n",
        "\n",
        "# Apply web scraping to extract content and store it in a new column\n",
        "def extract_content_with_progress(url_list):\n",
        "    content_list = []\n",
        "    for url in tqdm(url_list, desc='Extracting content'):\n",
        "        content = extract_body(fetch_content(url))\n",
        "        content_list.append(content)\n",
        "    return content_list\n",
        "\n",
        "# Apply web scraping to extract content and store it in a new column\n",
        "cnnhealth['Content'] = extract_content_with_progress(cnnhealth['URL'])"
      ],
      "metadata": {
        "colab": {
          "base_uri": "https://localhost:8080/"
        },
        "id": "q_TRtZzUKwoB",
        "outputId": "5882c49e-c848-4e4d-faf2-abddf0185bbd"
      },
      "execution_count": null,
      "outputs": [
        {
          "metadata": {
            "tags": null
          },
          "name": "stderr",
          "output_type": "stream",
          "text": [
            "Extracting content:   0%|          | 15/3299 [00:14<40:11,  1.36it/s]/usr/lib/python3.10/html/parser.py:170: XMLParsedAsHTMLWarning: It looks like you're parsing an XML document using an HTML parser. If this really is an HTML document (maybe it's XHTML?), you can ignore or filter this warning. If it's XML, you should know that using an XML parser will be more reliable. To parse this document as XML, make sure you have the lxml package installed, and pass the keyword argument `features=\"xml\"` into the BeautifulSoup constructor.\n",
            "  k = self.parse_starttag(i)\n",
            "Extracting content:   3%|▎         | 113/3299 [01:15<27:07,  1.96it/s]"
          ]
        },
        {
          "metadata": {
            "tags": null
          },
          "name": "stdout",
          "output_type": "stream",
          "text": [
            "Error fetching content: Failed to parse: https://t…\n"
          ]
        },
        {
          "metadata": {
            "tags": null
          },
          "name": "stderr",
          "output_type": "stream",
          "text": [
            "Extracting content:   6%|▌         | 200/3299 [02:04<41:49,  1.23it/s]"
          ]
        },
        {
          "metadata": {
            "tags": null
          },
          "name": "stdout",
          "output_type": "stream",
          "text": [
            "Error fetching content: Failed to parse: http://t.c…\n"
          ]
        },
        {
          "metadata": {
            "tags": null
          },
          "name": "stderr",
          "output_type": "stream",
          "text": [
            "Extracting content:   7%|▋         | 246/3299 [02:29<24:43,  2.06it/s]"
          ]
        },
        {
          "metadata": {
            "tags": null
          },
          "name": "stdout",
          "output_type": "stream",
          "text": [
            "Error fetching content: Failed to parse: http://…\n"
          ]
        },
        {
          "metadata": {
            "tags": null
          },
          "name": "stderr",
          "output_type": "stream",
          "text": [
            "Extracting content:   8%|▊         | 254/3299 [02:35<39:31,  1.28it/s]"
          ]
        },
        {
          "metadata": {
            "tags": null
          },
          "name": "stdout",
          "output_type": "stream",
          "text": [
            "Error fetching content: Failed to parse: http://t.co…\n"
          ]
        },
        {
          "metadata": {
            "tags": null
          },
          "name": "stderr",
          "output_type": "stream",
          "text": [
            "Extracting content:  11%|█         | 362/3299 [03:43<2:42:08,  3.31s/it]"
          ]
        },
        {
          "metadata": {
            "tags": null
          },
          "name": "stdout",
          "output_type": "stream",
          "text": [
            "Error fetching content: HTTPSConnectionPool(host='flipboard.com', port=443): Read timed out. (read timeout=10)\n"
          ]
        },
        {
          "metadata": {
            "tags": null
          },
          "name": "stderr",
          "output_type": "stream",
          "text": [
            "\rExtracting content:  11%|█         | 363/3299 [03:53<4:23:01,  5.38s/it]"
          ]
        },
        {
          "metadata": {
            "tags": null
          },
          "name": "stdout",
          "output_type": "stream",
          "text": [
            "Error fetching content: HTTPSConnectionPool(host='flipboard.com', port=443): Read timed out. (read timeout=10)\n"
          ]
        },
        {
          "metadata": {
            "tags": null
          },
          "name": "stderr",
          "output_type": "stream",
          "text": [
            "Extracting content:  11%|█         | 365/3299 [04:04<4:44:46,  5.82s/it]"
          ]
        },
        {
          "metadata": {
            "tags": null
          },
          "name": "stdout",
          "output_type": "stream",
          "text": [
            "Error fetching content: HTTPSConnectionPool(host='flipboard.com', port=443): Read timed out. (read timeout=10)\n"
          ]
        },
        {
          "metadata": {
            "tags": null
          },
          "name": "stderr",
          "output_type": "stream",
          "text": [
            "Extracting content:  12%|█▏        | 386/3299 [04:18<57:15,  1.18s/it]  "
          ]
        },
        {
          "metadata": {
            "tags": null
          },
          "name": "stdout",
          "output_type": "stream",
          "text": [
            "Error fetching content: Failed to parse: http://…\n"
          ]
        },
        {
          "metadata": {
            "tags": null
          },
          "name": "stderr",
          "output_type": "stream",
          "text": [
            "Extracting content:  12%|█▏        | 395/3299 [04:31<2:38:49,  3.28s/it]"
          ]
        },
        {
          "metadata": {
            "tags": null
          },
          "name": "stdout",
          "output_type": "stream",
          "text": [
            "Error fetching content: HTTPSConnectionPool(host='flipboard.com', port=443): Read timed out. (read timeout=10)\n"
          ]
        },
        {
          "metadata": {
            "tags": null
          },
          "name": "stderr",
          "output_type": "stream",
          "text": [
            "Extracting content:  12%|█▏        | 406/3299 [04:46<2:51:27,  3.56s/it]"
          ]
        },
        {
          "metadata": {
            "tags": null
          },
          "name": "stdout",
          "output_type": "stream",
          "text": [
            "Error fetching content: HTTPSConnectionPool(host='flipboard.com', port=443): Read timed out. (read timeout=10)\n"
          ]
        },
        {
          "metadata": {
            "tags": null
          },
          "name": "stderr",
          "output_type": "stream",
          "text": [
            "Extracting content:  17%|█▋        | 549/3299 [05:59<27:12,  1.68it/s]"
          ]
        },
        {
          "metadata": {
            "tags": null
          },
          "name": "stdout",
          "output_type": "stream",
          "text": [
            "Error fetching content: Failed to parse: http://t.co…\n"
          ]
        },
        {
          "metadata": {
            "tags": null
          },
          "name": "stderr",
          "output_type": "stream",
          "text": [
            "Extracting content:  19%|█▉        | 634/3299 [06:50<2:30:45,  3.39s/it]"
          ]
        },
        {
          "metadata": {
            "tags": null
          },
          "name": "stdout",
          "output_type": "stream",
          "text": [
            "Error fetching content: HTTPConnectionPool(host='upwave.co', port=80): Max retries exceeded with url: /1kTcVP2 (Caused by ConnectTimeoutError(<urllib3.connection.HTTPConnection object at 0x7b45757fb820>, 'Connection to upwave.co timed out. (connect timeout=10)'))\n"
          ]
        },
        {
          "metadata": {
            "tags": null
          },
          "name": "stderr",
          "output_type": "stream",
          "text": [
            "Extracting content:  21%|██        | 683/3299 [07:08<30:36,  1.42it/s]"
          ]
        },
        {
          "metadata": {
            "tags": null
          },
          "name": "stdout",
          "output_type": "stream",
          "text": [
            "Error fetching content: Failed to parse: http://t.co…\n",
            "Error fetching content: Failed to parse: http://…\n"
          ]
        },
        {
          "metadata": {
            "tags": null
          },
          "name": "stderr",
          "output_type": "stream",
          "text": [
            "Extracting content:  22%|██▏       | 721/3299 [07:34<2:26:31,  3.41s/it]"
          ]
        },
        {
          "metadata": {
            "tags": null
          },
          "name": "stdout",
          "output_type": "stream",
          "text": [
            "Error fetching content: HTTPConnectionPool(host='www.kansascity.com', port=80): Read timed out. (read timeout=10)\n"
          ]
        },
        {
          "metadata": {
            "tags": null
          },
          "name": "stderr",
          "output_type": "stream",
          "text": [
            "Extracting content:  23%|██▎       | 747/3299 [07:45<22:26,  1.90it/s]"
          ]
        },
        {
          "metadata": {
            "tags": null
          },
          "name": "stdout",
          "output_type": "stream",
          "text": [
            "Error fetching content: Failed to parse: http://t…\n"
          ]
        },
        {
          "metadata": {
            "tags": null
          },
          "name": "stderr",
          "output_type": "stream",
          "text": [
            "Extracting content:  23%|██▎       | 751/3299 [07:56<2:03:53,  2.92s/it]"
          ]
        },
        {
          "metadata": {
            "tags": null
          },
          "name": "stdout",
          "output_type": "stream",
          "text": [
            "Error fetching content: HTTPConnectionPool(host='upwave.co', port=80): Max retries exceeded with url: /1duFGv0 (Caused by ConnectTimeoutError(<urllib3.connection.HTTPConnection object at 0x7b455a8766b0>, 'Connection to upwave.co timed out. (connect timeout=10)'))\n"
          ]
        },
        {
          "metadata": {
            "tags": null
          },
          "name": "stderr",
          "output_type": "stream",
          "text": [
            "Extracting content:  24%|██▎       | 782/3299 [08:09<20:42,  2.03it/s]"
          ]
        },
        {
          "metadata": {
            "tags": null
          },
          "name": "stdout",
          "output_type": "stream",
          "text": [
            "Error fetching content: Failed to parse: http://…\n"
          ]
        },
        {
          "metadata": {
            "tags": null
          },
          "name": "stderr",
          "output_type": "stream",
          "text": [
            "Extracting content:  24%|██▍       | 791/3299 [08:12<12:19,  3.39it/s]"
          ]
        },
        {
          "metadata": {
            "tags": null
          },
          "name": "stdout",
          "output_type": "stream",
          "text": [
            "Error fetching content: Failed to parse: http://t…\n"
          ]
        },
        {
          "metadata": {
            "tags": null
          },
          "name": "stderr",
          "output_type": "stream",
          "text": [
            "Extracting content:  24%|██▍       | 798/3299 [08:15<16:20,  2.55it/s]"
          ]
        },
        {
          "metadata": {
            "tags": null
          },
          "name": "stdout",
          "output_type": "stream",
          "text": [
            "Error fetching content: Failed to parse: http://t.co…\n"
          ]
        },
        {
          "metadata": {
            "tags": null
          },
          "name": "stderr",
          "output_type": "stream",
          "text": [
            "Extracting content:  27%|██▋       | 907/3299 [09:06<07:47,  5.12it/s]"
          ]
        },
        {
          "metadata": {
            "tags": null
          },
          "name": "stdout",
          "output_type": "stream",
          "text": [
            "Error fetching content: Failed to parse: http://t.c…\n"
          ]
        },
        {
          "metadata": {
            "tags": null
          },
          "name": "stderr",
          "output_type": "stream",
          "text": [
            "Extracting content:  29%|██▉       | 956/3299 [09:28<13:19,  2.93it/s]"
          ]
        },
        {
          "metadata": {
            "tags": null
          },
          "name": "stdout",
          "output_type": "stream",
          "text": [
            "Error fetching content: HTTPConnectionPool(host='shpe.co', port=80): Max retries exceeded with url: /1eAdojE (Caused by NameResolutionError(\"<urllib3.connection.HTTPConnection object at 0x7b4544e66f20>: Failed to resolve 'shpe.co' ([Errno -2] Name or service not known)\"))\n"
          ]
        },
        {
          "metadata": {
            "tags": null
          },
          "name": "stderr",
          "output_type": "stream",
          "text": [
            "Extracting content:  29%|██▉       | 960/3299 [09:30<18:14,  2.14it/s]"
          ]
        },
        {
          "metadata": {
            "tags": null
          },
          "name": "stdout",
          "output_type": "stream",
          "text": [
            "Error fetching content: Failed to parse: http://t.…\n"
          ]
        },
        {
          "metadata": {
            "tags": null
          },
          "name": "stderr",
          "output_type": "stream",
          "text": [
            "Extracting content:  30%|██▉       | 984/3299 [09:49<29:09,  1.32it/s]"
          ]
        },
        {
          "metadata": {
            "tags": null
          },
          "name": "stdout",
          "output_type": "stream",
          "text": [
            "Error fetching content: Failed to parse: http://t…\n"
          ]
        },
        {
          "metadata": {
            "tags": null
          },
          "name": "stderr",
          "output_type": "stream",
          "text": [
            "Extracting content:  30%|███       | 994/3299 [09:53<19:04,  2.01it/s]"
          ]
        },
        {
          "metadata": {
            "tags": null
          },
          "name": "stdout",
          "output_type": "stream",
          "text": [
            "Error fetching content: Failed to parse: http://t.co…\n"
          ]
        },
        {
          "metadata": {
            "tags": null
          },
          "name": "stderr",
          "output_type": "stream",
          "text": [
            "Extracting content:  32%|███▏      | 1055/3299 [10:19<16:16,  2.30it/s]"
          ]
        },
        {
          "metadata": {
            "tags": null
          },
          "name": "stdout",
          "output_type": "stream",
          "text": [
            "Error fetching content: HTTPConnectionPool(host='healthysummer.me', port=80): Max retries exceeded with url: /2013/12/19/yoga-forget-what-you-think-you-know/ (Caused by NameResolutionError(\"<urllib3.connection.HTTPConnection object at 0x7b453b031db0>: Failed to resolve 'healthysummer.me' ([Errno -2] Name or service not known)\"))\n"
          ]
        },
        {
          "metadata": {
            "tags": null
          },
          "name": "stderr",
          "output_type": "stream",
          "text": [
            "Extracting content:  32%|███▏      | 1058/3299 [10:19<09:24,  3.97it/s]"
          ]
        },
        {
          "metadata": {
            "tags": null
          },
          "name": "stdout",
          "output_type": "stream",
          "text": [
            "Error fetching content: HTTPConnectionPool(host='shpe.co', port=80): Max retries exceeded with url: /1c1TMq4 (Caused by NameResolutionError(\"<urllib3.connection.HTTPConnection object at 0x7b453b0325f0>: Failed to resolve 'shpe.co' ([Errno -2] Name or service not known)\"))\n"
          ]
        },
        {
          "metadata": {
            "tags": null
          },
          "name": "stderr",
          "output_type": "stream",
          "text": [
            "Extracting content:  32%|███▏      | 1067/3299 [10:33<2:03:09,  3.31s/it]"
          ]
        },
        {
          "metadata": {
            "tags": null
          },
          "name": "stdout",
          "output_type": "stream",
          "text": [
            "Error fetching content: HTTPConnectionPool(host='upwave.co', port=80): Max retries exceeded with url: /1cArLCl (Caused by ConnectTimeoutError(<urllib3.connection.HTTPConnection object at 0x7b453a2b6590>, 'Connection to upwave.co timed out. (connect timeout=10)'))\n"
          ]
        },
        {
          "metadata": {
            "tags": null
          },
          "name": "stderr",
          "output_type": "stream",
          "text": [
            "Extracting content:  36%|███▌      | 1175/3299 [11:24<1:55:21,  3.26s/it]"
          ]
        },
        {
          "metadata": {
            "tags": null
          },
          "name": "stdout",
          "output_type": "stream",
          "text": [
            "Error fetching content: HTTPConnectionPool(host='upwave.co', port=80): Max retries exceeded with url: /17J2Wb9 (Caused by ConnectTimeoutError(<urllib3.connection.HTTPConnection object at 0x7b4530196e60>, 'Connection to upwave.co timed out. (connect timeout=10)'))\n"
          ]
        },
        {
          "metadata": {
            "tags": null
          },
          "name": "stderr",
          "output_type": "stream",
          "text": [
            "Extracting content:  38%|███▊      | 1259/3299 [12:06<17:03,  1.99it/s]"
          ]
        },
        {
          "metadata": {
            "tags": null
          },
          "name": "stdout",
          "output_type": "stream",
          "text": [
            "Error fetching content: Failed to parse: http://t.co…\n"
          ]
        },
        {
          "metadata": {
            "tags": null
          },
          "name": "stderr",
          "output_type": "stream",
          "text": [
            "Extracting content:  40%|███▉      | 1318/3299 [12:34<1:39:03,  3.00s/it]"
          ]
        },
        {
          "metadata": {
            "tags": null
          },
          "name": "stdout",
          "output_type": "stream",
          "text": [
            "Error fetching content: HTTPConnectionPool(host='upwave.co', port=80): Max retries exceeded with url: /18pyCjM (Caused by ConnectTimeoutError(<urllib3.connection.HTTPConnection object at 0x7b452856c5e0>, 'Connection to upwave.co timed out. (connect timeout=10)'))\n"
          ]
        },
        {
          "metadata": {
            "tags": null
          },
          "name": "stderr",
          "output_type": "stream",
          "text": [
            "Extracting content:  40%|████      | 1320/3299 [12:35<55:38,  1.69s/it]  "
          ]
        },
        {
          "metadata": {
            "tags": null
          },
          "name": "stdout",
          "output_type": "stream",
          "text": [
            "Error fetching content: Failed to parse: http://…\n"
          ]
        },
        {
          "metadata": {
            "tags": null
          },
          "name": "stderr",
          "output_type": "stream",
          "text": [
            "Extracting content:  40%|████      | 1325/3299 [12:45<1:33:13,  2.83s/it]"
          ]
        },
        {
          "metadata": {
            "tags": null
          },
          "name": "stdout",
          "output_type": "stream",
          "text": [
            "Error fetching content: HTTPConnectionPool(host='on.cnn.com', port=80): Max retries exceeded with url: /1bwg1Co (Caused by ConnectTimeoutError(<urllib3.connection.HTTPConnection object at 0x7b4527ea4bb0>, 'Connection to on.cnn.com timed out. (connect timeout=10)'))\n"
          ]
        },
        {
          "metadata": {
            "tags": null
          },
          "name": "stderr",
          "output_type": "stream",
          "text": [
            "Extracting content:  40%|████      | 1329/3299 [12:56<1:56:10,  3.54s/it]"
          ]
        },
        {
          "metadata": {
            "tags": null
          },
          "name": "stdout",
          "output_type": "stream",
          "text": [
            "Error fetching content: HTTPConnectionPool(host='on.cnn.com', port=80): Max retries exceeded with url: /1aG810k (Caused by ConnectTimeoutError(<urllib3.connection.HTTPConnection object at 0x7b45279a4c40>, 'Connection to on.cnn.com timed out. (connect timeout=10)'))\n"
          ]
        },
        {
          "metadata": {
            "tags": null
          },
          "name": "stderr",
          "output_type": "stream",
          "text": [
            "Extracting content:  40%|████      | 1333/3299 [13:07<2:02:58,  3.75s/it]"
          ]
        },
        {
          "metadata": {
            "tags": null
          },
          "name": "stdout",
          "output_type": "stream",
          "text": [
            "Error fetching content: HTTPConnectionPool(host='on.cnn.com', port=80): Max retries exceeded with url: /1agl2fP (Caused by ConnectTimeoutError(<urllib3.connection.HTTPConnection object at 0x7b45274a4970>, 'Connection to on.cnn.com timed out. (connect timeout=10)'))\n"
          ]
        },
        {
          "metadata": {
            "tags": null
          },
          "name": "stderr",
          "output_type": "stream",
          "text": [
            "\rExtracting content:  40%|████      | 1334/3299 [13:17<2:55:50,  5.37s/it]"
          ]
        },
        {
          "metadata": {
            "tags": null
          },
          "name": "stdout",
          "output_type": "stream",
          "text": [
            "Error fetching content: HTTPConnectionPool(host='on.cnn.com', port=80): Max retries exceeded with url: /1cFft0A (Caused by ConnectTimeoutError(<urllib3.connection.HTTPConnection object at 0x7b45274a51b0>, 'Connection to on.cnn.com timed out. (connect timeout=10)'))\n"
          ]
        },
        {
          "metadata": {
            "tags": null
          },
          "name": "stderr",
          "output_type": "stream",
          "text": [
            "Extracting content:  41%|████      | 1340/3299 [13:29<2:06:38,  3.88s/it]"
          ]
        },
        {
          "metadata": {
            "tags": null
          },
          "name": "stdout",
          "output_type": "stream",
          "text": [
            "Error fetching content: HTTPConnectionPool(host='on.cnn.com', port=80): Max retries exceeded with url: /1bgB37P (Caused by ConnectTimeoutError(<urllib3.connection.HTTPConnection object at 0x7b4526adb370>, 'Connection to on.cnn.com timed out. (connect timeout=10)'))\n"
          ]
        },
        {
          "metadata": {
            "tags": null
          },
          "name": "stderr",
          "output_type": "stream",
          "text": [
            "\rExtracting content:  41%|████      | 1341/3299 [13:39<3:05:53,  5.70s/it]"
          ]
        },
        {
          "metadata": {
            "tags": null
          },
          "name": "stdout",
          "output_type": "stream",
          "text": [
            "Error fetching content: HTTPConnectionPool(host='on.cnn.com', port=80): Max retries exceeded with url: /15ruChD (Caused by ConnectTimeoutError(<urllib3.connection.HTTPConnection object at 0x7b4526adba90>, 'Connection to on.cnn.com timed out. (connect timeout=10)'))\n"
          ]
        },
        {
          "metadata": {
            "tags": null
          },
          "name": "stderr",
          "output_type": "stream",
          "text": [
            "Extracting content:  41%|████      | 1343/3299 [13:49<3:11:44,  5.88s/it]"
          ]
        },
        {
          "metadata": {
            "tags": null
          },
          "name": "stdout",
          "output_type": "stream",
          "text": [
            "Error fetching content: HTTPConnectionPool(host='upwave.co', port=80): Max retries exceeded with url: /18SjdaS (Caused by ConnectTimeoutError(<urllib3.connection.HTTPConnection object at 0x7b452675e7a0>, 'Connection to upwave.co timed out. (connect timeout=10)'))\n"
          ]
        },
        {
          "metadata": {
            "tags": null
          },
          "name": "stderr",
          "output_type": "stream",
          "text": [
            "\rExtracting content:  41%|████      | 1344/3299 [13:59<3:52:03,  7.12s/it]"
          ]
        },
        {
          "metadata": {
            "tags": null
          },
          "name": "stdout",
          "output_type": "stream",
          "text": [
            "Error fetching content: HTTPConnectionPool(host='on.cnn.com', port=80): Max retries exceeded with url: /16y2hab (Caused by ConnectTimeoutError(<urllib3.connection.HTTPConnection object at 0x7b452675eec0>, 'Connection to on.cnn.com timed out. (connect timeout=10)'))\n"
          ]
        },
        {
          "metadata": {
            "tags": null
          },
          "name": "stderr",
          "output_type": "stream",
          "text": [
            "Extracting content:  41%|████      | 1346/3299 [14:10<3:33:28,  6.56s/it]"
          ]
        },
        {
          "metadata": {
            "tags": null
          },
          "name": "stdout",
          "output_type": "stream",
          "text": [
            "Error fetching content: HTTPConnectionPool(host='on.cnn.com', port=80): Max retries exceeded with url: /16y2hab (Caused by ConnectTimeoutError(<urllib3.connection.HTTPConnection object at 0x7b45265d9ab0>, 'Connection to on.cnn.com timed out. (connect timeout=10)'))\n"
          ]
        },
        {
          "metadata": {
            "tags": null
          },
          "name": "stderr",
          "output_type": "stream",
          "text": [
            "\rExtracting content:  41%|████      | 1347/3299 [14:20<4:07:02,  7.59s/it]"
          ]
        },
        {
          "metadata": {
            "tags": null
          },
          "name": "stdout",
          "output_type": "stream",
          "text": [
            "Error fetching content: HTTPConnectionPool(host='on.cnn.com', port=80): Max retries exceeded with url: /16xeLyX (Caused by ConnectTimeoutError(<urllib3.connection.HTTPConnection object at 0x7b45265da2f0>, 'Connection to on.cnn.com timed out. (connect timeout=10)'))\n"
          ]
        },
        {
          "metadata": {
            "tags": null
          },
          "name": "stderr",
          "output_type": "stream",
          "text": [
            "Extracting content:  41%|████      | 1350/3299 [14:30<3:05:33,  5.71s/it]"
          ]
        },
        {
          "metadata": {
            "tags": null
          },
          "name": "stdout",
          "output_type": "stream",
          "text": [
            "Error fetching content: HTTPConnectionPool(host='on.cnn.com', port=80): Max retries exceeded with url: /17eEngB (Caused by ConnectTimeoutError(<urllib3.connection.HTTPConnection object at 0x7b45260ed1e0>, 'Connection to on.cnn.com timed out. (connect timeout=10)'))\n"
          ]
        },
        {
          "metadata": {
            "tags": null
          },
          "name": "stderr",
          "output_type": "stream",
          "text": [
            "Extracting content:  41%|████      | 1352/3299 [14:40<3:10:12,  5.86s/it]"
          ]
        },
        {
          "metadata": {
            "tags": null
          },
          "name": "stdout",
          "output_type": "stream",
          "text": [
            "Error fetching content: HTTPConnectionPool(host='on.cnn.com', port=80): Max retries exceeded with url: /1coPDhd (Caused by ConnectTimeoutError(<urllib3.connection.HTTPConnection object at 0x7b4525d68cd0>, 'Connection to on.cnn.com timed out. (connect timeout=10)'))\n"
          ]
        },
        {
          "metadata": {
            "tags": null
          },
          "name": "stderr",
          "output_type": "stream",
          "text": [
            "\rExtracting content:  41%|████      | 1353/3299 [14:50<3:50:31,  7.11s/it]"
          ]
        },
        {
          "metadata": {
            "tags": null
          },
          "name": "stdout",
          "output_type": "stream",
          "text": [
            "Error fetching content: HTTPConnectionPool(host='on.cnn.com', port=80): Max retries exceeded with url: /1cn3Ew2 (Caused by ConnectTimeoutError(<urllib3.connection.HTTPConnection object at 0x7b4525d694e0>, 'Connection to on.cnn.com timed out. (connect timeout=10)'))\n"
          ]
        },
        {
          "metadata": {
            "tags": null
          },
          "name": "stderr",
          "output_type": "stream",
          "text": [
            "Extracting content:  41%|████      | 1355/3299 [15:01<3:33:19,  6.58s/it]"
          ]
        },
        {
          "metadata": {
            "tags": null
          },
          "name": "stdout",
          "output_type": "stream",
          "text": [
            "Error fetching content: HTTPConnectionPool(host='on.cnn.com', port=80): Max retries exceeded with url: /1cn3Ew2 (Caused by ConnectTimeoutError(<urllib3.connection.HTTPConnection object at 0x7b4525be0c70>, 'Connection to on.cnn.com timed out. (connect timeout=10)'))\n"
          ]
        },
        {
          "metadata": {
            "tags": null
          },
          "name": "stderr",
          "output_type": "stream",
          "text": [
            "\rExtracting content:  41%|████      | 1356/3299 [15:11<4:06:29,  7.61s/it]"
          ]
        },
        {
          "metadata": {
            "tags": null
          },
          "name": "stdout",
          "output_type": "stream",
          "text": [
            "Error fetching content: HTTPConnectionPool(host='on.cnn.com', port=80): Max retries exceeded with url: /19ZTATf (Caused by ConnectTimeoutError(<urllib3.connection.HTTPConnection object at 0x7b4525be14b0>, 'Connection to on.cnn.com timed out. (connect timeout=10)'))\n"
          ]
        },
        {
          "metadata": {
            "tags": null
          },
          "name": "stderr",
          "output_type": "stream",
          "text": [
            "Extracting content:  41%|████      | 1360/3299 [15:21<2:40:59,  4.98s/it]"
          ]
        },
        {
          "metadata": {
            "tags": null
          },
          "name": "stdout",
          "output_type": "stream",
          "text": [
            "Error fetching content: HTTPConnectionPool(host='on.cnn.com', port=80): Max retries exceeded with url: /1dYpxQ9 (Caused by ConnectTimeoutError(<urllib3.connection.HTTPConnection object at 0x7b45256a3550>, 'Connection to on.cnn.com timed out. (connect timeout=10)'))\n",
            "Error fetching content: ('Connection aborted.', RemoteDisconnected('Remote end closed connection without response'))\n"
          ]
        },
        {
          "metadata": {
            "tags": null
          },
          "name": "stderr",
          "output_type": "stream",
          "text": [
            "\rExtracting content:  41%|████▏     | 1363/3299 [15:25<1:33:18,  2.89s/it]"
          ]
        },
        {
          "metadata": {
            "tags": null
          },
          "name": "stdout",
          "output_type": "stream",
          "text": [
            "Error fetching content: ('Connection aborted.', RemoteDisconnected('Remote end closed connection without response'))\n",
            "Error fetching content: ('Connection aborted.', RemoteDisconnected('Remote end closed connection without response'))\n"
          ]
        },
        {
          "metadata": {
            "tags": null
          },
          "name": "stderr",
          "output_type": "stream",
          "text": [
            "\rExtracting content:  41%|████▏     | 1365/3299 [15:35<1:56:10,  3.60s/it]"
          ]
        },
        {
          "metadata": {
            "tags": null
          },
          "name": "stdout",
          "output_type": "stream",
          "text": [
            "Error fetching content: HTTPConnectionPool(host='on.cnn.com', port=80): Max retries exceeded with url: /16inogx (Caused by ConnectTimeoutError(<urllib3.connection.HTTPConnection object at 0x7b45256a35b0>, 'Connection to on.cnn.com timed out. (connect timeout=10)'))\n"
          ]
        },
        {
          "metadata": {
            "tags": null
          },
          "name": "stderr",
          "output_type": "stream",
          "text": [
            "Extracting content:  42%|████▏     | 1381/3299 [15:50<1:42:22,  3.20s/it]"
          ]
        },
        {
          "metadata": {
            "tags": null
          },
          "name": "stdout",
          "output_type": "stream",
          "text": [
            "Error fetching content: HTTPConnectionPool(host='on.cnn.com', port=80): Max retries exceeded with url: /16Aj9sg (Caused by ConnectTimeoutError(<urllib3.connection.HTTPConnection object at 0x7b4523c2a530>, 'Connection to on.cnn.com timed out. (connect timeout=10)'))\n"
          ]
        },
        {
          "metadata": {
            "tags": null
          },
          "name": "stderr",
          "output_type": "stream",
          "text": [
            "Extracting content:  42%|████▏     | 1384/3299 [16:01<2:13:02,  4.17s/it]"
          ]
        },
        {
          "metadata": {
            "tags": null
          },
          "name": "stdout",
          "output_type": "stream",
          "text": [
            "Error fetching content: HTTPConnectionPool(host='on.cnn.com', port=80): Max retries exceeded with url: /1dGBBp7 (Caused by ConnectTimeoutError(<urllib3.connection.HTTPConnection object at 0x7b4523ad8ca0>, 'Connection to on.cnn.com timed out. (connect timeout=10)'))\n"
          ]
        },
        {
          "metadata": {
            "tags": null
          },
          "name": "stderr",
          "output_type": "stream",
          "text": [
            "Extracting content:  42%|████▏     | 1386/3299 [16:11<2:42:49,  5.11s/it]"
          ]
        },
        {
          "metadata": {
            "tags": null
          },
          "name": "stdout",
          "output_type": "stream",
          "text": [
            "Error fetching content: HTTPConnectionPool(host='on.cnn.com', port=80): Max retries exceeded with url: /18S6e5D (Caused by ConnectTimeoutError(<urllib3.connection.HTTPConnection object at 0x7b45238e7550>, 'Connection to on.cnn.com timed out. (connect timeout=10)'))\n"
          ]
        },
        {
          "metadata": {
            "tags": null
          },
          "name": "stderr",
          "output_type": "stream",
          "text": [
            "Extracting content:  42%|████▏     | 1389/3299 [16:22<2:36:20,  4.91s/it]"
          ]
        },
        {
          "metadata": {
            "tags": null
          },
          "name": "stdout",
          "output_type": "stream",
          "text": [
            "Error fetching content: HTTPConnectionPool(host='on.cnn.com', port=80): Max retries exceeded with url: /1aPZ31W (Caused by ConnectTimeoutError(<urllib3.connection.HTTPConnection object at 0x7b45232700d0>, 'Connection to on.cnn.com timed out. (connect timeout=10)'))\n"
          ]
        },
        {
          "metadata": {
            "tags": null
          },
          "name": "stderr",
          "output_type": "stream",
          "text": [
            "Extracting content:  42%|████▏     | 1395/3299 [16:33<1:46:00,  3.34s/it]"
          ]
        },
        {
          "metadata": {
            "tags": null
          },
          "name": "stdout",
          "output_type": "stream",
          "text": [
            "Error fetching content: HTTPConnectionPool(host='on.cnn.com', port=80): Max retries exceeded with url: /16mwTYg (Caused by ConnectTimeoutError(<urllib3.connection.HTTPConnection object at 0x7b45229b7940>, 'Connection to on.cnn.com timed out. (connect timeout=10)'))\n"
          ]
        },
        {
          "metadata": {
            "tags": null
          },
          "name": "stderr",
          "output_type": "stream",
          "text": [
            "Extracting content:  43%|████▎     | 1404/3299 [16:47<1:28:45,  2.81s/it]"
          ]
        },
        {
          "metadata": {
            "tags": null
          },
          "name": "stdout",
          "output_type": "stream",
          "text": [
            "Error fetching content: HTTPConnectionPool(host='on.cnn.com', port=80): Max retries exceeded with url: /1goZl0q (Caused by ConnectTimeoutError(<urllib3.connection.HTTPConnection object at 0x7b45218aac50>, 'Connection to on.cnn.com timed out. (connect timeout=10)'))\n"
          ]
        },
        {
          "metadata": {
            "tags": null
          },
          "name": "stderr",
          "output_type": "stream",
          "text": [
            "Extracting content:  43%|████▎     | 1408/3299 [16:48<33:42,  1.07s/it]"
          ]
        },
        {
          "metadata": {
            "tags": null
          },
          "name": "stdout",
          "output_type": "stream",
          "text": [
            "Error fetching content: Failed to parse: http://t.…\n"
          ]
        },
        {
          "metadata": {
            "tags": null
          },
          "name": "stderr",
          "output_type": "stream",
          "text": [
            "Extracting content:  43%|████▎     | 1413/3299 [16:59<1:35:21,  3.03s/it]"
          ]
        },
        {
          "metadata": {
            "tags": null
          },
          "name": "stdout",
          "output_type": "stream",
          "text": [
            "Error fetching content: HTTPConnectionPool(host='on.cnn.com', port=80): Max retries exceeded with url: /1d8UHE9 (Caused by ConnectTimeoutError(<urllib3.connection.HTTPConnection object at 0x7b4520ca0d60>, 'Connection to on.cnn.com timed out. (connect timeout=10)'))\n"
          ]
        },
        {
          "metadata": {
            "tags": null
          },
          "name": "stderr",
          "output_type": "stream",
          "text": [
            "Extracting content:  43%|████▎     | 1419/3299 [17:10<1:28:50,  2.84s/it]"
          ]
        },
        {
          "metadata": {
            "tags": null
          },
          "name": "stdout",
          "output_type": "stream",
          "text": [
            "Error fetching content: HTTPConnectionPool(host='on.cnn.com', port=80): Max retries exceeded with url: /17qLpkp (Caused by ConnectTimeoutError(<urllib3.connection.HTTPConnection object at 0x7b45205d1570>, 'Connection to on.cnn.com timed out. (connect timeout=10)'))\n"
          ]
        },
        {
          "metadata": {
            "tags": null
          },
          "name": "stderr",
          "output_type": "stream",
          "text": [
            "Extracting content:  43%|████▎     | 1421/3299 [17:21<2:12:45,  4.24s/it]"
          ]
        },
        {
          "metadata": {
            "tags": null
          },
          "name": "stdout",
          "output_type": "stream",
          "text": [
            "Error fetching content: HTTPConnectionPool(host='on.cnn.com', port=80): Max retries exceeded with url: /17pNFZd (Caused by ConnectTimeoutError(<urllib3.connection.HTTPConnection object at 0x7b4520253190>, 'Connection to on.cnn.com timed out. (connect timeout=10)'))\n"
          ]
        },
        {
          "metadata": {
            "tags": null
          },
          "name": "stderr",
          "output_type": "stream",
          "text": [
            "Extracting content:  43%|████▎     | 1428/3299 [17:34<1:54:07,  3.66s/it]"
          ]
        },
        {
          "metadata": {
            "tags": null
          },
          "name": "stdout",
          "output_type": "stream",
          "text": [
            "Error fetching content: HTTPConnectionPool(host='on.cnn.com', port=80): Max retries exceeded with url: /14DyRmC (Caused by ConnectTimeoutError(<urllib3.connection.HTTPConnection object at 0x7b451f6d0580>, 'Connection to on.cnn.com timed out. (connect timeout=10)'))\n"
          ]
        },
        {
          "metadata": {
            "tags": null
          },
          "name": "stderr",
          "output_type": "stream",
          "text": [
            "Extracting content:  43%|████▎     | 1430/3299 [17:44<2:31:58,  4.88s/it]"
          ]
        },
        {
          "metadata": {
            "tags": null
          },
          "name": "stdout",
          "output_type": "stream",
          "text": [
            "Error fetching content: HTTPConnectionPool(host='on.cnn.com', port=80): Max retries exceeded with url: /18B0Gyi (Caused by ConnectTimeoutError(<urllib3.connection.HTTPConnection object at 0x7b451f353760>, 'Connection to on.cnn.com timed out. (connect timeout=10)'))\n"
          ]
        },
        {
          "metadata": {
            "tags": null
          },
          "name": "stderr",
          "output_type": "stream",
          "text": [
            "\rExtracting content:  43%|████▎     | 1431/3299 [17:44<1:49:20,  3.51s/it]"
          ]
        },
        {
          "metadata": {
            "tags": null
          },
          "name": "stdout",
          "output_type": "stream",
          "text": [
            "Error fetching content: Failed to parse: http://t…\n"
          ]
        },
        {
          "metadata": {
            "tags": null
          },
          "name": "stderr",
          "output_type": "stream",
          "text": [
            "Extracting content:  43%|████▎     | 1434/3299 [17:55<2:03:12,  3.96s/it]"
          ]
        },
        {
          "metadata": {
            "tags": null
          },
          "name": "stdout",
          "output_type": "stream",
          "text": [
            "Error fetching content: HTTPConnectionPool(host='on.cnn.com', port=80): Max retries exceeded with url: /17CqV97 (Caused by ConnectTimeoutError(<urllib3.connection.HTTPConnection object at 0x7b451eefb250>, 'Connection to on.cnn.com timed out. (connect timeout=10)'))\n"
          ]
        },
        {
          "metadata": {
            "tags": null
          },
          "name": "stderr",
          "output_type": "stream",
          "text": [
            "Extracting content:  44%|████▎     | 1437/3299 [18:05<2:16:47,  4.41s/it]"
          ]
        },
        {
          "metadata": {
            "tags": null
          },
          "name": "stdout",
          "output_type": "stream",
          "text": [
            "Error fetching content: HTTPConnectionPool(host='on.cnn.com', port=80): Max retries exceeded with url: /14ZxqlW (Caused by ConnectTimeoutError(<urllib3.connection.HTTPConnection object at 0x7b451eb7f520>, 'Connection to on.cnn.com timed out. (connect timeout=10)'))\n"
          ]
        },
        {
          "metadata": {
            "tags": null
          },
          "name": "stderr",
          "output_type": "stream",
          "text": [
            "Extracting content:  44%|████▎     | 1441/3299 [18:16<2:09:58,  4.20s/it]"
          ]
        },
        {
          "metadata": {
            "tags": null
          },
          "name": "stdout",
          "output_type": "stream",
          "text": [
            "Error fetching content: HTTPConnectionPool(host='on.cnn.com', port=80): Max retries exceeded with url: /17CA9QU (Caused by ConnectTimeoutError(<urllib3.connection.HTTPConnection object at 0x7b451e347850>, 'Connection to on.cnn.com timed out. (connect timeout=10)'))\n"
          ]
        },
        {
          "metadata": {
            "tags": null
          },
          "name": "stderr",
          "output_type": "stream",
          "text": [
            "Extracting content:  44%|████▍     | 1448/3299 [18:28<1:52:33,  3.65s/it]"
          ]
        },
        {
          "metadata": {
            "tags": null
          },
          "name": "stdout",
          "output_type": "stream",
          "text": [
            "Error fetching content: HTTPConnectionPool(host='on.cnn.com', port=80): Max retries exceeded with url: /14kEIx0 (Caused by ConnectTimeoutError(<urllib3.connection.HTTPConnection object at 0x7b451d935540>, 'Connection to on.cnn.com timed out. (connect timeout=10)'))\n"
          ]
        },
        {
          "metadata": {
            "tags": null
          },
          "name": "stderr",
          "output_type": "stream",
          "text": [
            "Extracting content:  44%|████▍     | 1452/3299 [18:39<2:03:28,  4.01s/it]"
          ]
        },
        {
          "metadata": {
            "tags": null
          },
          "name": "stdout",
          "output_type": "stream",
          "text": [
            "Error fetching content: HTTPConnectionPool(host='on.cnn.com', port=80): Max retries exceeded with url: /14HGWdj (Caused by ConnectTimeoutError(<urllib3.connection.HTTPConnection object at 0x7b451d26ac50>, 'Connection to on.cnn.com timed out. (connect timeout=10)'))\n"
          ]
        },
        {
          "metadata": {
            "tags": null
          },
          "name": "stderr",
          "output_type": "stream",
          "text": [
            "\rExtracting content:  44%|████▍     | 1453/3299 [18:49<2:58:47,  5.81s/it]"
          ]
        },
        {
          "metadata": {
            "tags": null
          },
          "name": "stdout",
          "output_type": "stream",
          "text": [
            "Error fetching content: HTTPConnectionPool(host='on.cnn.com', port=80): Max retries exceeded with url: /1ckDfMr (Caused by ConnectTimeoutError(<urllib3.connection.HTTPConnection object at 0x7b451d26b490>, 'Connection to on.cnn.com timed out. (connect timeout=10)'))\n"
          ]
        },
        {
          "metadata": {
            "tags": null
          },
          "name": "stderr",
          "output_type": "stream",
          "text": [
            "Extracting content:  44%|████▍     | 1465/3299 [19:03<1:43:16,  3.38s/it]"
          ]
        },
        {
          "metadata": {
            "tags": null
          },
          "name": "stdout",
          "output_type": "stream",
          "text": [
            "Error fetching content: HTTPConnectionPool(host='on.cnn.com', port=80): Max retries exceeded with url: /17fASZX (Caused by ConnectTimeoutError(<urllib3.connection.HTTPConnection object at 0x7b451b7fc2b0>, 'Connection to on.cnn.com timed out. (connect timeout=10)'))\n"
          ]
        },
        {
          "metadata": {
            "tags": null
          },
          "name": "stderr",
          "output_type": "stream",
          "text": [
            "Extracting content:  44%|████▍     | 1467/3299 [19:14<2:24:09,  4.72s/it]"
          ]
        },
        {
          "metadata": {
            "tags": null
          },
          "name": "stdout",
          "output_type": "stream",
          "text": [
            "Error fetching content: HTTPConnectionPool(host='on.cnn.com', port=80): Max retries exceeded with url: /14VinpN (Caused by ConnectTimeoutError(<urllib3.connection.HTTPConnection object at 0x7b451b48d780>, 'Connection to on.cnn.com timed out. (connect timeout=10)'))\n"
          ]
        },
        {
          "metadata": {
            "tags": null
          },
          "name": "stderr",
          "output_type": "stream",
          "text": [
            "\rExtracting content:  44%|████▍     | 1468/3299 [19:24<3:12:34,  6.31s/it]"
          ]
        },
        {
          "metadata": {
            "tags": null
          },
          "name": "stdout",
          "output_type": "stream",
          "text": [
            "Error fetching content: HTTPConnectionPool(host='on.cnn.com', port=80): Max retries exceeded with url: /13XdD2S (Caused by ConnectTimeoutError(<urllib3.connection.HTTPConnection object at 0x7b451b48dfc0>, 'Connection to on.cnn.com timed out. (connect timeout=10)'))\n"
          ]
        },
        {
          "metadata": {
            "tags": null
          },
          "name": "stderr",
          "output_type": "stream",
          "text": [
            "Extracting content:  45%|████▍     | 1478/3299 [19:36<1:26:35,  2.85s/it]"
          ]
        },
        {
          "metadata": {
            "tags": null
          },
          "name": "stdout",
          "output_type": "stream",
          "text": [
            "Error fetching content: HTTPConnectionPool(host='on.cnn.com', port=80): Max retries exceeded with url: /1cVdUwc (Caused by ConnectTimeoutError(<urllib3.connection.HTTPConnection object at 0x7b451a406b60>, 'Connection to on.cnn.com timed out. (connect timeout=10)'))\n"
          ]
        },
        {
          "metadata": {
            "tags": null
          },
          "name": "stderr",
          "output_type": "stream",
          "text": [
            "Extracting content:  45%|████▍     | 1480/3299 [19:47<2:10:47,  4.31s/it]"
          ]
        },
        {
          "metadata": {
            "tags": null
          },
          "name": "stdout",
          "output_type": "stream",
          "text": [
            "Error fetching content: HTTPConnectionPool(host='on.cnn.com', port=80): Max retries exceeded with url: /1d3wr8I (Caused by ConnectTimeoutError(<urllib3.connection.HTTPConnection object at 0x7b451a085990>, 'Connection to on.cnn.com timed out. (connect timeout=10)'))\n"
          ]
        },
        {
          "metadata": {
            "tags": null
          },
          "name": "stderr",
          "output_type": "stream",
          "text": [
            "\rExtracting content:  45%|████▍     | 1481/3299 [19:47<1:36:30,  3.18s/it]"
          ]
        },
        {
          "metadata": {
            "tags": null
          },
          "name": "stdout",
          "output_type": "stream",
          "text": [
            "Error fetching content: Failed to parse: http://t.…\n"
          ]
        },
        {
          "metadata": {
            "tags": null
          },
          "name": "stderr",
          "output_type": "stream",
          "text": [
            "Extracting content:  45%|████▌     | 1488/3299 [19:58<1:42:12,  3.39s/it]"
          ]
        },
        {
          "metadata": {
            "tags": null
          },
          "name": "stdout",
          "output_type": "stream",
          "text": [
            "Error fetching content: HTTPConnectionPool(host='on.cnn.com', port=80): Max retries exceeded with url: /18A1BQf (Caused by ConnectTimeoutError(<urllib3.connection.HTTPConnection object at 0x7b4519181ea0>, 'Connection to on.cnn.com timed out. (connect timeout=10)'))\n"
          ]
        },
        {
          "metadata": {
            "tags": null
          },
          "name": "stderr",
          "output_type": "stream",
          "text": [
            "\rExtracting content:  45%|████▌     | 1489/3299 [20:08<2:39:56,  5.30s/it]"
          ]
        },
        {
          "metadata": {
            "tags": null
          },
          "name": "stdout",
          "output_type": "stream",
          "text": [
            "Error fetching content: HTTPConnectionPool(host='on.cnn.com', port=80): Max retries exceeded with url: /18zNhah (Caused by ConnectTimeoutError(<urllib3.connection.HTTPConnection object at 0x7b4519182740>, 'Connection to on.cnn.com timed out. (connect timeout=10)'))\n"
          ]
        },
        {
          "metadata": {
            "tags": null
          },
          "name": "stderr",
          "output_type": "stream",
          "text": [
            "\rExtracting content:  45%|████▌     | 1491/3299 [20:19<2:36:00,  5.18s/it]"
          ]
        },
        {
          "metadata": {
            "tags": null
          },
          "name": "stdout",
          "output_type": "stream",
          "text": [
            "Error fetching content: HTTPConnectionPool(host='on.cnn.com', port=80): Max retries exceeded with url: /16q8AgT (Caused by ConnectTimeoutError(<urllib3.connection.HTTPConnection object at 0x7b4519182980>, 'Connection to on.cnn.com timed out. (connect timeout=10)'))\n"
          ]
        },
        {
          "metadata": {
            "tags": null
          },
          "name": "stderr",
          "output_type": "stream",
          "text": [
            "Extracting content:  45%|████▌     | 1493/3299 [20:29<2:46:47,  5.54s/it]"
          ]
        },
        {
          "metadata": {
            "tags": null
          },
          "name": "stdout",
          "output_type": "stream",
          "text": [
            "Error fetching content: HTTPConnectionPool(host='on.cnn.com', port=80): Max retries exceeded with url: /14BTmPt (Caused by ConnectTimeoutError(<urllib3.connection.HTTPConnection object at 0x7b4518ffd900>, 'Connection to on.cnn.com timed out. (connect timeout=10)'))\n"
          ]
        },
        {
          "metadata": {
            "tags": null
          },
          "name": "stderr",
          "output_type": "stream",
          "text": [
            "Extracting content:  45%|████▌     | 1497/3299 [20:40<1:58:22,  3.94s/it]"
          ]
        },
        {
          "metadata": {
            "tags": null
          },
          "name": "stdout",
          "output_type": "stream",
          "text": [
            "Error fetching content: HTTPConnectionPool(host='on.cnn.com', port=80): Max retries exceeded with url: /1a61Ypn (Caused by ConnectTimeoutError(<urllib3.connection.HTTPConnection object at 0x7b4518ae7c10>, 'Connection to on.cnn.com timed out. (connect timeout=10)'))\n"
          ]
        },
        {
          "metadata": {
            "tags": null
          },
          "name": "stderr",
          "output_type": "stream",
          "text": [
            "Extracting content:  46%|████▌     | 1505/3299 [20:52<1:22:39,  2.76s/it]"
          ]
        },
        {
          "metadata": {
            "tags": null
          },
          "name": "stdout",
          "output_type": "stream",
          "text": [
            "Error fetching content: HTTPConnectionPool(host='on.cnn.com', port=80): Max retries exceeded with url: /1cIwDdA (Caused by ConnectTimeoutError(<urllib3.connection.HTTPConnection object at 0x7b4517c2e170>, 'Connection to on.cnn.com timed out. (connect timeout=10)'))\n"
          ]
        },
        {
          "metadata": {
            "tags": null
          },
          "name": "stderr",
          "output_type": "stream",
          "text": [
            "Extracting content:  46%|████▌     | 1508/3299 [21:02<1:56:51,  3.91s/it]"
          ]
        },
        {
          "metadata": {
            "tags": null
          },
          "name": "stdout",
          "output_type": "stream",
          "text": [
            "Error fetching content: HTTPConnectionPool(host='on.cnn.com', port=80): Max retries exceeded with url: /14emLPm (Caused by ConnectTimeoutError(<urllib3.connection.HTTPConnection object at 0x7b451772cac0>, 'Connection to on.cnn.com timed out. (connect timeout=10)'))\n"
          ]
        },
        {
          "metadata": {
            "tags": null
          },
          "name": "stderr",
          "output_type": "stream",
          "text": [
            "\rExtracting content:  46%|████▌     | 1509/3299 [21:12<2:47:25,  5.61s/it]"
          ]
        },
        {
          "metadata": {
            "tags": null
          },
          "name": "stdout",
          "output_type": "stream",
          "text": [
            "Error fetching content: HTTPConnectionPool(host='on.cnn.com', port=80): Max retries exceeded with url: /14e3Rs3 (Caused by ConnectTimeoutError(<urllib3.connection.HTTPConnection object at 0x7b451772d1e0>, 'Connection to on.cnn.com timed out. (connect timeout=10)'))\n"
          ]
        },
        {
          "metadata": {
            "tags": null
          },
          "name": "stderr",
          "output_type": "stream",
          "text": [
            "Extracting content:  46%|████▌     | 1511/3299 [21:23<2:53:53,  5.84s/it]"
          ]
        },
        {
          "metadata": {
            "tags": null
          },
          "name": "stdout",
          "output_type": "stream",
          "text": [
            "Error fetching content: HTTPConnectionPool(host='on.cnn.com', port=80): Max retries exceeded with url: /13n9THC (Caused by ConnectTimeoutError(<urllib3.connection.HTTPConnection object at 0x7b4517572620>, 'Connection to on.cnn.com timed out. (connect timeout=10)'))\n"
          ]
        },
        {
          "metadata": {
            "tags": null
          },
          "name": "stderr",
          "output_type": "stream",
          "text": [
            "Extracting content:  46%|████▌     | 1514/3299 [21:33<2:32:13,  5.12s/it]"
          ]
        },
        {
          "metadata": {
            "tags": null
          },
          "name": "stdout",
          "output_type": "stream",
          "text": [
            "Error fetching content: HTTPConnectionPool(host='on.cnn.com', port=80): Max retries exceeded with url: /145lev5 (Caused by ConnectTimeoutError(<urllib3.connection.HTTPConnection object at 0x7b4517603790>, 'Connection to on.cnn.com timed out. (connect timeout=10)'))\n"
          ]
        },
        {
          "metadata": {
            "tags": null
          },
          "name": "stderr",
          "output_type": "stream",
          "text": [
            "Extracting content:  46%|████▌     | 1518/3299 [21:44<2:06:33,  4.26s/it]"
          ]
        },
        {
          "metadata": {
            "tags": null
          },
          "name": "stdout",
          "output_type": "stream",
          "text": [
            "Error fetching content: HTTPConnectionPool(host='on.cnn.com', port=80): Max retries exceeded with url: /15KDAFB (Caused by ConnectTimeoutError(<urllib3.connection.HTTPConnection object at 0x7b45170ad1b0>, 'Connection to on.cnn.com timed out. (connect timeout=10)'))\n"
          ]
        },
        {
          "metadata": {
            "tags": null
          },
          "name": "stderr",
          "output_type": "stream",
          "text": [
            "\rExtracting content:  46%|████▌     | 1519/3299 [21:54<2:52:43,  5.82s/it]"
          ]
        },
        {
          "metadata": {
            "tags": null
          },
          "name": "stdout",
          "output_type": "stream",
          "text": [
            "Error fetching content: HTTPConnectionPool(host='on.cnn.com', port=80): Max retries exceeded with url: /15LPu1X (Caused by ConnectTimeoutError(<urllib3.connection.HTTPConnection object at 0x7b45170ad9f0>, 'Connection to on.cnn.com timed out. (connect timeout=10)'))\n"
          ]
        },
        {
          "metadata": {
            "tags": null
          },
          "name": "stderr",
          "output_type": "stream",
          "text": [
            "Extracting content:  46%|████▌     | 1523/3299 [22:05<2:12:04,  4.46s/it]"
          ]
        },
        {
          "metadata": {
            "tags": null
          },
          "name": "stdout",
          "output_type": "stream",
          "text": [
            "Error fetching content: HTTPConnectionPool(host='on.cnn.com', port=80): Max retries exceeded with url: /12V7EQL (Caused by ConnectTimeoutError(<urllib3.connection.HTTPConnection object at 0x7b4516d25090>, 'Connection to on.cnn.com timed out. (connect timeout=10)'))\n"
          ]
        },
        {
          "metadata": {
            "tags": null
          },
          "name": "stderr",
          "output_type": "stream",
          "text": [
            "Extracting content:  46%|████▋     | 1527/3299 [22:15<2:00:16,  4.07s/it]"
          ]
        },
        {
          "metadata": {
            "tags": null
          },
          "name": "stdout",
          "output_type": "stream",
          "text": [
            "Error fetching content: HTTPConnectionPool(host='on.cnn.com', port=80): Max retries exceeded with url: /1ehdA6x (Caused by ConnectTimeoutError(<urllib3.connection.HTTPConnection object at 0x7b4516bafeb0>, 'Connection to on.cnn.com timed out. (connect timeout=10)'))\n"
          ]
        },
        {
          "metadata": {
            "tags": null
          },
          "name": "stderr",
          "output_type": "stream",
          "text": [
            "\rExtracting content:  46%|████▋     | 1528/3299 [22:25<2:46:03,  5.63s/it]"
          ]
        },
        {
          "metadata": {
            "tags": null
          },
          "name": "stdout",
          "output_type": "stream",
          "text": [
            "Error fetching content: HTTPConnectionPool(host='on.cnn.com', port=80): Max retries exceeded with url: /19BXRBn (Caused by ConnectTimeoutError(<urllib3.connection.HTTPConnection object at 0x7b4516be88b0>, 'Connection to on.cnn.com timed out. (connect timeout=10)'))\n"
          ]
        },
        {
          "metadata": {
            "tags": null
          },
          "name": "stderr",
          "output_type": "stream",
          "text": [
            "\rExtracting content:  46%|████▋     | 1529/3299 [22:35<3:21:12,  6.82s/it]"
          ]
        },
        {
          "metadata": {
            "tags": null
          },
          "name": "stdout",
          "output_type": "stream",
          "text": [
            "Error fetching content: HTTPConnectionPool(host='on.cnn.com', port=80): Max retries exceeded with url: /19BPLZx (Caused by ConnectTimeoutError(<urllib3.connection.HTTPConnection object at 0x7b4516be90f0>, 'Connection to on.cnn.com timed out. (connect timeout=10)'))\n"
          ]
        },
        {
          "metadata": {
            "tags": null
          },
          "name": "stderr",
          "output_type": "stream",
          "text": [
            "Extracting content:  46%|████▋     | 1531/3299 [22:46<3:09:27,  6.43s/it]"
          ]
        },
        {
          "metadata": {
            "tags": null
          },
          "name": "stdout",
          "output_type": "stream",
          "text": [
            "Error fetching content: HTTPConnectionPool(host='on.cnn.com', port=80): Max retries exceeded with url: /1aZuSVO (Caused by ConnectTimeoutError(<urllib3.connection.HTTPConnection object at 0x7b451682a7a0>, 'Connection to on.cnn.com timed out. (connect timeout=10)'))\n"
          ]
        },
        {
          "metadata": {
            "tags": null
          },
          "name": "stderr",
          "output_type": "stream",
          "text": [
            "Extracting content:  47%|████▋     | 1537/3299 [22:57<1:43:30,  3.52s/it]"
          ]
        },
        {
          "metadata": {
            "tags": null
          },
          "name": "stdout",
          "output_type": "stream",
          "text": [
            "Error fetching content: HTTPConnectionPool(host='on.cnn.com', port=80): Max retries exceeded with url: /1ebuQdp (Caused by ConnectTimeoutError(<urllib3.connection.HTTPConnection object at 0x7b4515e25360>, 'Connection to on.cnn.com timed out. (connect timeout=10)'))\n"
          ]
        },
        {
          "metadata": {
            "tags": null
          },
          "name": "stderr",
          "output_type": "stream",
          "text": [
            "Extracting content:  47%|████▋     | 1540/3299 [23:07<2:04:48,  4.26s/it]"
          ]
        },
        {
          "metadata": {
            "tags": null
          },
          "name": "stdout",
          "output_type": "stream",
          "text": [
            "Error fetching content: HTTPConnectionPool(host='on.cnn.com', port=80): Max retries exceeded with url: /13i1ZCE (Caused by ConnectTimeoutError(<urllib3.connection.HTTPConnection object at 0x7b451591c2e0>, 'Connection to on.cnn.com timed out. (connect timeout=10)'))\n"
          ]
        },
        {
          "metadata": {
            "tags": null
          },
          "name": "stderr",
          "output_type": "stream",
          "text": [
            "Extracting content:  47%|████▋     | 1542/3299 [23:18<2:30:51,  5.15s/it]"
          ]
        },
        {
          "metadata": {
            "tags": null
          },
          "name": "stdout",
          "output_type": "stream",
          "text": [
            "Error fetching content: HTTPConnectionPool(host='on.cnn.com', port=80): Max retries exceeded with url: /13X0Hg2 (Caused by ConnectTimeoutError(<urllib3.connection.HTTPConnection object at 0x7b45157980a0>, 'Connection to on.cnn.com timed out. (connect timeout=10)'))\n"
          ]
        },
        {
          "metadata": {
            "tags": null
          },
          "name": "stderr",
          "output_type": "stream",
          "text": [
            "\rExtracting content:  47%|████▋     | 1543/3299 [23:28<3:12:21,  6.57s/it]"
          ]
        },
        {
          "metadata": {
            "tags": null
          },
          "name": "stdout",
          "output_type": "stream",
          "text": [
            "Error fetching content: HTTPConnectionPool(host='on.cnn.com', port=80): Max retries exceeded with url: /13shzba (Caused by ConnectTimeoutError(<urllib3.connection.HTTPConnection object at 0x7b45157988e0>, 'Connection to on.cnn.com timed out. (connect timeout=10)'))\n"
          ]
        },
        {
          "metadata": {
            "tags": null
          },
          "name": "stderr",
          "output_type": "stream",
          "text": [
            "Extracting content:  48%|████▊     | 1583/3299 [23:50<1:09:44,  2.44s/it]"
          ]
        },
        {
          "metadata": {
            "tags": null
          },
          "name": "stdout",
          "output_type": "stream",
          "text": [
            "Error fetching content: HTTPConnectionPool(host='on.cnn.com', port=80): Max retries exceeded with url: /1bJzyAH (Caused by ConnectTimeoutError(<urllib3.connection.HTTPConnection object at 0x7b4510e80ee0>, 'Connection to on.cnn.com timed out. (connect timeout=10)'))\n"
          ]
        },
        {
          "metadata": {
            "tags": null
          },
          "name": "stderr",
          "output_type": "stream",
          "text": [
            "Extracting content:  50%|████▉     | 1637/3299 [24:01<07:09,  3.87it/s]"
          ]
        },
        {
          "metadata": {
            "tags": null
          },
          "name": "stdout",
          "output_type": "stream",
          "text": [
            "Error fetching content: HTTPConnectionPool(host='on.cnn.com', port=80): Max retries exceeded with url: /15fu7nP (Caused by ConnectTimeoutError(<urllib3.connection.HTTPConnection object at 0x7b45105f7730>, 'Connection to on.cnn.com timed out. (connect timeout=10)'))\n"
          ]
        },
        {
          "metadata": {
            "tags": null
          },
          "name": "stderr",
          "output_type": "stream",
          "text": [
            "Extracting content:  51%|█████     | 1671/3299 [24:02<02:16, 11.90it/s]"
          ]
        },
        {
          "metadata": {
            "tags": null
          },
          "name": "stdout",
          "output_type": "stream",
          "text": [
            "Error fetching content: ('Connection aborted.', RemoteDisconnected('Remote end closed connection without response'))\n",
            "Error fetching content: ('Connection aborted.', RemoteDisconnected('Remote end closed connection without response'))\n"
          ]
        },
        {
          "metadata": {
            "tags": null
          },
          "name": "stderr",
          "output_type": "stream",
          "text": [
            "Extracting content:  52%|█████▏    | 1724/3299 [24:02<00:36, 43.46it/s]"
          ]
        },
        {
          "metadata": {
            "tags": null
          },
          "name": "stdout",
          "output_type": "stream",
          "text": [
            "Error fetching content: HTTPConnectionPool(host='on.cnn.com', port=80): Max retries exceeded with url: /11pVr3P (Caused by ConnectTimeoutError(<urllib3.connection.HTTPConnection object at 0x7b45105f78b0>, 'Connection to on.cnn.com timed out. (connect timeout=10)'))\n"
          ]
        },
        {
          "metadata": {
            "tags": null
          },
          "name": "stderr",
          "output_type": "stream",
          "text": [
            "\rExtracting content:  53%|█████▎    | 1737/3299 [24:12<06:43,  3.87it/s]"
          ]
        },
        {
          "metadata": {
            "tags": null
          },
          "name": "stdout",
          "output_type": "stream",
          "text": [
            "Error fetching content: Failed to parse: http://t.co…\n"
          ]
        },
        {
          "metadata": {
            "tags": null
          },
          "name": "stderr",
          "output_type": "stream",
          "text": [
            "\rExtracting content:  53%|█████▎    | 1742/3299 [24:22<13:11,  1.97it/s]"
          ]
        },
        {
          "metadata": {
            "tags": null
          },
          "name": "stdout",
          "output_type": "stream",
          "text": [
            "Error fetching content: HTTPConnectionPool(host='on.cnn.com', port=80): Max retries exceeded with url: /16KclLy (Caused by ConnectTimeoutError(<urllib3.connection.HTTPConnection object at 0x7b4510280eb0>, 'Connection to on.cnn.com timed out. (connect timeout=10)'))\n"
          ]
        },
        {
          "metadata": {
            "tags": null
          },
          "name": "stderr",
          "output_type": "stream",
          "text": [
            "\rExtracting content:  53%|█████▎    | 1743/3299 [24:24<14:04,  1.84it/s]"
          ]
        },
        {
          "metadata": {
            "tags": null
          },
          "name": "stdout",
          "output_type": "stream",
          "text": [
            "Error fetching content: HTTPConnectionPool(host='on.cnn.com', port=80): Max retries exceeded with url: /102LiJF (Caused by ConnectTimeoutError(<urllib3.connection.HTTPConnection object at 0x7b45102819c0>, 'Connection to on.cnn.com timed out. (connect timeout=10)'))\n"
          ]
        },
        {
          "metadata": {
            "tags": null
          },
          "name": "stderr",
          "output_type": "stream",
          "text": [
            "Extracting content:  53%|█████▎    | 1745/3299 [24:44<38:46,  1.50s/it]"
          ]
        },
        {
          "metadata": {
            "tags": null
          },
          "name": "stdout",
          "output_type": "stream",
          "text": [
            "Error fetching content: HTTPConnectionPool(host='on.cnn.com', port=80): Max retries exceeded with url: /102JZKw (Caused by ConnectTimeoutError(<urllib3.connection.HTTPConnection object at 0x7b4510282620>, 'Connection to on.cnn.com timed out. (connect timeout=10)'))\n"
          ]
        },
        {
          "metadata": {
            "tags": null
          },
          "name": "stderr",
          "output_type": "stream",
          "text": [
            "\rExtracting content:  53%|█████▎    | 1746/3299 [24:54<53:34,  2.07s/it]"
          ]
        },
        {
          "metadata": {
            "tags": null
          },
          "name": "stdout",
          "output_type": "stream",
          "text": [
            "Error fetching content: HTTPConnectionPool(host='on.cnn.com', port=80): Max retries exceeded with url: /1038PKd (Caused by ConnectTimeoutError(<urllib3.connection.HTTPConnection object at 0x7b4510282ce0>, 'Connection to on.cnn.com timed out. (connect timeout=10)'))\n"
          ]
        },
        {
          "metadata": {
            "tags": null
          },
          "name": "stderr",
          "output_type": "stream",
          "text": [
            "\rExtracting content:  53%|█████▎    | 1747/3299 [25:04<1:11:32,  2.77s/it]"
          ]
        },
        {
          "metadata": {
            "tags": null
          },
          "name": "stdout",
          "output_type": "stream",
          "text": [
            "Error fetching content: HTTPConnectionPool(host='on.cnn.com', port=80): Max retries exceeded with url: /102IGeK (Caused by ConnectTimeoutError(<urllib3.connection.HTTPConnection object at 0x7b4510283520>, 'Connection to on.cnn.com timed out. (connect timeout=10)'))\n"
          ]
        },
        {
          "metadata": {
            "tags": null
          },
          "name": "stderr",
          "output_type": "stream",
          "text": [
            "\rExtracting content:  53%|█████▎    | 1748/3299 [25:06<1:08:47,  2.66s/it]"
          ]
        },
        {
          "metadata": {
            "tags": null
          },
          "name": "stdout",
          "output_type": "stream",
          "text": [
            "Error fetching content: HTTPConnectionPool(host='on.cnn.com', port=80): Max retries exceeded with url: /102IGeK (Caused by ConnectTimeoutError(<urllib3.connection.HTTPConnection object at 0x7b45102827d0>, 'Connection to on.cnn.com timed out. (connect timeout=10)'))\n"
          ]
        },
        {
          "metadata": {
            "tags": null
          },
          "name": "stderr",
          "output_type": "stream",
          "text": [
            "Extracting content:  53%|█████▎    | 1763/3299 [25:26<35:12,  1.38s/it]  "
          ]
        },
        {
          "metadata": {
            "tags": null
          },
          "name": "stdout",
          "output_type": "stream",
          "text": [
            "Error fetching content: HTTPConnectionPool(host='on.cnn.com', port=80): Max retries exceeded with url: /102KWCK (Caused by ConnectTimeoutError(<urllib3.connection.HTTPConnection object at 0x7b4510282c80>, 'Connection to on.cnn.com timed out. (connect timeout=10)'))\n"
          ]
        },
        {
          "metadata": {
            "tags": null
          },
          "name": "stderr",
          "output_type": "stream",
          "text": [
            "Extracting content:  58%|█████▊    | 1903/3299 [25:38<06:38,  3.50it/s]"
          ]
        },
        {
          "metadata": {
            "tags": null
          },
          "name": "stdout",
          "output_type": "stream",
          "text": [
            "Error fetching content: HTTPConnectionPool(host='on.cnn.com', port=80): Max retries exceeded with url: /10plI1Z (Caused by ConnectTimeoutError(<urllib3.connection.HTTPConnection object at 0x7b45102c5c00>, 'Connection to on.cnn.com timed out. (connect timeout=10)'))\n"
          ]
        },
        {
          "metadata": {
            "tags": null
          },
          "name": "stderr",
          "output_type": "stream",
          "text": [
            "Extracting content:  59%|█████▉    | 1954/3299 [25:50<06:57,  3.22it/s]"
          ]
        },
        {
          "metadata": {
            "tags": null
          },
          "name": "stdout",
          "output_type": "stream",
          "text": [
            "Error fetching content: HTTPConnectionPool(host='on.cnn.com', port=80): Max retries exceeded with url: /10IBAw0 (Caused by ConnectTimeoutError(<urllib3.connection.HTTPConnection object at 0x7b450ff42f80>, 'Connection to on.cnn.com timed out. (connect timeout=10)'))\n"
          ]
        },
        {
          "metadata": {
            "tags": null
          },
          "name": "stderr",
          "output_type": "stream",
          "text": [
            "Extracting content:  61%|██████▏   | 2027/3299 [25:53<01:26, 14.78it/s]"
          ]
        },
        {
          "metadata": {
            "tags": null
          },
          "name": "stdout",
          "output_type": "stream",
          "text": [
            "Error fetching content: ('Connection aborted.', RemoteDisconnected('Remote end closed connection without response'))\n"
          ]
        },
        {
          "metadata": {
            "tags": null
          },
          "name": "stderr",
          "output_type": "stream",
          "text": [
            "Extracting content:  62%|██████▏   | 2046/3299 [26:03<05:03,  4.13it/s]"
          ]
        },
        {
          "metadata": {
            "tags": null
          },
          "name": "stdout",
          "output_type": "stream",
          "text": [
            "Error fetching content: HTTPConnectionPool(host='on.cnn.com', port=80): Max retries exceeded with url: /15ApskV (Caused by ConnectTimeoutError(<urllib3.connection.HTTPConnection object at 0x7b450fbfe230>, 'Connection to on.cnn.com timed out. (connect timeout=10)'))\n"
          ]
        },
        {
          "metadata": {
            "tags": null
          },
          "name": "stderr",
          "output_type": "stream",
          "text": [
            "Extracting content:  76%|███████▌  | 2500/3299 [26:29<00:23, 34.11it/s]"
          ]
        },
        {
          "metadata": {
            "tags": null
          },
          "name": "stdout",
          "output_type": "stream",
          "text": [
            "Error fetching content: HTTPConnectionPool(host='t.c', port=80): Max retries exceeded with url: / (Caused by NameResolutionError(\"<urllib3.connection.HTTPConnection object at 0x7b450f5a4fd0>: Failed to resolve 't.c' ([Errno -2] Name or service not known)\"))\n"
          ]
        },
        {
          "metadata": {
            "tags": null
          },
          "name": "stderr",
          "output_type": "stream",
          "text": [
            "Extracting content:  76%|███████▋  | 2521/3299 [26:29<00:20, 38.39it/s]"
          ]
        },
        {
          "metadata": {
            "tags": null
          },
          "name": "stdout",
          "output_type": "stream",
          "text": [
            "Error fetching content: HTTPSConnectionPool(host='makingcancerhistory.com', port=443): Max retries exceeded with url: /WhyMDA/Myths.html (Caused by SSLError(SSLError(1, '[SSL: WRONG_SIGNATURE_TYPE] wrong signature type (_ssl.c:1007)')))\n"
          ]
        },
        {
          "metadata": {
            "tags": null
          },
          "name": "stderr",
          "output_type": "stream",
          "text": [
            "Extracting content:  80%|███████▉  | 2639/3299 [26:34<00:12, 51.48it/s]"
          ]
        },
        {
          "metadata": {
            "tags": null
          },
          "name": "stdout",
          "output_type": "stream",
          "text": [
            "Error fetching content: HTTPConnectionPool(host='t.', port=80): Max retries exceeded with url: / (Caused by NameResolutionError(\"<urllib3.connection.HTTPConnection object at 0x7b450f139e40>: Failed to resolve 't' ([Errno -2] Name or service not known)\"))\n"
          ]
        },
        {
          "metadata": {
            "tags": null
          },
          "name": "stderr",
          "output_type": "stream",
          "text": [
            "Extracting content:  81%|████████  | 2662/3299 [26:34<00:13, 47.87it/s]"
          ]
        },
        {
          "metadata": {
            "tags": null
          },
          "name": "stdout",
          "output_type": "stream",
          "text": [
            "Error fetching content: HTTPConnectionPool(host='t.c', port=80): Max retries exceeded with url: / (Caused by NameResolutionError(\"<urllib3.connection.HTTPConnection object at 0x7b450f13b610>: Failed to resolve 't.c' ([Errno -2] Name or service not known)\"))\n"
          ]
        },
        {
          "metadata": {
            "tags": null
          },
          "name": "stderr",
          "output_type": "stream",
          "text": [
            "Extracting content: 100%|██████████| 3299/3299 [26:55<00:00,  2.04it/s]"
          ]
        },
        {
          "metadata": {
            "tags": null
          },
          "name": "stdout",
          "output_type": "stream",
          "text": [
            "Error fetching content: HTTPConnectionPool(host='on.cnn.com', port=80): Max retries exceeded with url: /SO1PxT (Caused by ConnectTimeoutError(<urllib3.connection.HTTPConnection object at 0x7b450dbd85b0>, 'Connection to on.cnn.com timed out. (connect timeout=10)'))\n"
          ]
        },
        {
          "metadata": {
            "tags": null
          },
          "name": "stderr",
          "output_type": "stream",
          "text": [
            "\n"
          ]
        }
      ]
    },
    {
      "cell_type": "code",
      "source": [
        "# Drop rows with missing content\n",
        "cnnhealth.dropna(subset=['Content'], inplace=True)\n",
        "\n",
        "# Combine content paragraphs into a single string\n",
        "cnnhealth['Content'] = [\" \".join([p_tag.text.strip() for p_tag in content]) for content in cnnhealth['Content']]"
      ],
      "metadata": {
        "id": "G_1LYUMD-Ofm"
      },
      "execution_count": null,
      "outputs": []
    },
    {
      "cell_type": "code",
      "source": [
        "# Clean the content data\n",
        "def clean_text(text):\n",
        "    text = re.sub(r'-', ' ', text)  # Substitute hyphens with empty spaces\n",
        "    text = re.sub(r'[^a-zA-Z\\s]', '', text)  # Remove non-alphabetic characters\n",
        "    text = text.lower()  # Convert text to lowercase\n",
        "    return text\n",
        "\n",
        "cnnhealth['Content'] = cnnhealth['Content'].apply(clean_text)"
      ],
      "metadata": {
        "id": "dkaPESWZHcB_"
      },
      "execution_count": null,
      "outputs": []
    },
    {
      "cell_type": "code",
      "source": [
        "# Convert to wordnet tags\n",
        "def get_wordnet_pos(tag):\n",
        "    if tag.startswith('J'):\n",
        "        return wordnet.ADJ\n",
        "    elif tag.startswith('V'):\n",
        "        return wordnet.VERB\n",
        "    elif tag.startswith('N'):\n",
        "        return wordnet.NOUN\n",
        "    elif tag.startswith('R'):\n",
        "        return wordnet.ADV\n",
        "    else:\n",
        "        return None  # Use default POS for lemmatization"
      ],
      "metadata": {
        "id": "-1323tzLOuRf"
      },
      "execution_count": null,
      "outputs": []
    },
    {
      "cell_type": "code",
      "source": [
        "# Tokenize and preprocess text data\n",
        "def preprocess_text(text):\n",
        "    tokens = word_tokenize(text)  # Tokenize text\n",
        "    lemmatizer = WordNetLemmatizer()  # Initialize lemmatizer\n",
        "    pos_tags = nltk.pos_tag(tokens)  # Get part-of-speech tags\n",
        "    for i, (token, tag) in enumerate(pos_tags):\n",
        "        pos = get_wordnet_pos(tag)  # Convert NLTK POS tags to WordNet POS tags\n",
        "        if pos:\n",
        "            tokens[i] = lemmatizer.lemmatize(token, pos=pos)  # Lemmatize tokens\n",
        "        else:\n",
        "            tokens[i] = lemmatizer.lemmatize(token)  # Use default POS for lemmatization\n",
        "    stop_words = set(stopwords.words('english'))  # Get stopwords\n",
        "    custom_stopwords = [    # Custom stopwords\n",
        "    \"patient\", \"doctor\", \"say\", \"year\", \"state\", \"day\", \"need\", \"come\", \"well\",\n",
        "    \"make\", \"think\", \"know\", \"go\", \"use\", \"one\", \"like\", \"people\", \"may\",\n",
        "    \"many\", \"still\", \"even\", \"two\", \"way\", \"good\", \"much\", \"back\", \"new\",\n",
        "    \"time\", \"first\", \"really\",\n",
        "    \"a\", \"b\", \"c\", \"d\", \"e\", \"f\", \"g\", \"h\", \"i\", \"j\", \"k\", \"l\", \"m\", \"n\",\n",
        "    \"o\", \"p\", \"q\", \"r\", \"s\", \"t\", \"u\", \"v\", \"w\", \"x\", \"y\", \"z\"\n",
        "    ]\n",
        "    tokens = [token for token in tokens if token not in stop_words and token not in custom_stopwords]  # Remove stopwords\n",
        "    return ' '.join(tokens)\n",
        "\n",
        "cnnhealth['Content'] = cnnhealth['Content'].apply(preprocess_text)"
      ],
      "metadata": {
        "id": "8kLZQrTPzm1p"
      },
      "execution_count": null,
      "outputs": []
    },
    {
      "cell_type": "code",
      "source": [
        "# Save preprocessed data to CSV\n",
        "cnnhealth.to_csv('cnnhealth_preprocessed.csv', index=False)"
      ],
      "metadata": {
        "id": "49KAL4r3AS2y"
      },
      "execution_count": null,
      "outputs": []
    },
    {
      "cell_type": "code",
      "source": [
        "# Define the directory path containing the .txt files\n",
        "directory = '/content'\n",
        "\n",
        "# Initialize an empty list to store DataFrames\n",
        "dfs = []\n",
        "\n",
        "# Iterate over all files in the directory\n",
        "for filename in os.listdir(directory):\n",
        "    if filename.endswith('.txt'):\n",
        "        # Read the .txt file into a DataFrame\n",
        "        df_name = os.path.splitext(filename)[0]  # Extract filename without extension\n",
        "        try:\n",
        "            df = pd.read_csv(os.path.join(directory, filename),\n",
        "                             sep=r\"(?<!\\s)[|](?!\\s)\",\n",
        "                             names=['ID', 'DateTime', 'Article Title and Link'],\n",
        "                             engine=\"python\")\n",
        "            # Add the DataFrame to the list\n",
        "            dfs.append(df)\n",
        "            print(f\"DataFrame '{df_name}' loaded with {len(df)} rows.\")\n",
        "        except UnicodeDecodeError:\n",
        "            print(f\"Error reading {filename}: UnicodeDecodeError. Skipping this file.\")\n",
        "\n",
        "# Concatenate all DataFrames in the list into one DataFrame\n",
        "combined_df = pd.concat(dfs, ignore_index=True)\n",
        "\n",
        "# Display the combined DataFrame\n",
        "print(\"Combined DataFrame:\")\n",
        "print(combined_df)"
      ],
      "metadata": {
        "id": "HjgVm5rcqaAd",
        "outputId": "c00c0c5f-81c7-49d0-bf2a-f56ea08578b1",
        "colab": {
          "base_uri": "https://localhost:8080/"
        }
      },
      "execution_count": 3,
      "outputs": [
        {
          "output_type": "stream",
          "name": "stdout",
          "text": [
            "DataFrame 'everydayhealth' loaded with 3239 rows.\n",
            "DataFrame 'cnnhealth' loaded with 4061 rows.\n",
            "DataFrame 'latimeshealth' loaded with 4171 rows.\n",
            "DataFrame 'nprhealth' loaded with 4837 rows.\n",
            "DataFrame 'cbchealth' loaded with 3741 rows.\n",
            "Combined DataFrame:\n",
            "                       ID                        DateTime  \\\n",
            "0      304596701757464576  Thu Feb 21 14:21:27 +0000 2013   \n",
            "1      304595191329853441  Thu Feb 21 14:15:27 +0000 2013   \n",
            "2      304587659018371072  Thu Feb 21 13:45:31 +0000 2013   \n",
            "3      304580073380524032  Thu Feb 21 13:15:22 +0000 2013   \n",
            "4      304572560270573569  Thu Feb 21 12:45:31 +0000 2013   \n",
            "...                   ...                             ...   \n",
            "20044  324528904306057216  Wed Apr 17 14:24:54 +0000 2013   \n",
            "20045  324503137597665282  Wed Apr 17 12:42:31 +0000 2013   \n",
            "20046  324261559025160193  Tue Apr 16 20:42:34 +0000 2013   \n",
            "20047  324251178919657474  Tue Apr 16 20:01:20 +0000 2013   \n",
            "20048  324205113348616192  Tue Apr 16 16:58:17 +0000 2013   \n",
            "\n",
            "                                  Article Title and Link  \n",
            "0      #FastFood Makes Up 11 Percent of #Calories in ...  \n",
            "1      10 snacks to help you lose weight, burn fat, a...  \n",
            "2      10 foods that boost your skin AND slim your wa...  \n",
            "3      What a heart attack feels like in women (it's ...  \n",
            "4      #McDonalds oatmeal has almost 7 teaspoons of s...  \n",
            "...                                                  ...  \n",
            "20044  Rural doctors mentor medical students in U of ...  \n",
            "20045  More men suffering from eating disorders, says...  \n",
            "20046  5 sources of objective drug information sugges...  \n",
            "20047  Top five ways to avoid allergies this spring h...  \n",
            "20048  Health Canada to stop sales of small magnets h...  \n",
            "\n",
            "[20049 rows x 3 columns]\n"
          ]
        }
      ]
    },
    {
      "cell_type": "code",
      "source": [
        "# Extract all URLs from article titles and links in combined_df\n",
        "combined_df['URL'] = [re.findall(r'https?://\\S+', text) for text in combined_df['Article Title and Link']]\n",
        "\n",
        "# Drop rows with multiple or no URLs\n",
        "drop_indices = combined_df['Article Title and Link'][combined_df['URL'].apply(len) != 1].index\n",
        "combined_df.drop(drop_indices, inplace=True)\n",
        "\n",
        "# Extract URL for articles\n",
        "combined_df['URL'] = [url[0] for url in combined_df['URL']]\n"
      ],
      "metadata": {
        "id": "2uO-qr0QN4uU"
      },
      "execution_count": 4,
      "outputs": []
    },
    {
      "cell_type": "code",
      "source": [
        "!pip install fake-useragent"
      ],
      "metadata": {
        "id": "zN2VKf--XtCc",
        "outputId": "a970fbc7-4710-4eac-820e-196465a58ae6",
        "colab": {
          "base_uri": "https://localhost:8080/"
        }
      },
      "execution_count": 5,
      "outputs": [
        {
          "output_type": "stream",
          "name": "stdout",
          "text": [
            "Collecting fake-useragent\n",
            "  Downloading fake_useragent-1.5.1-py3-none-any.whl (17 kB)\n",
            "Installing collected packages: fake-useragent\n",
            "Successfully installed fake-useragent-1.5.1\n"
          ]
        }
      ]
    },
    {
      "cell_type": "code",
      "source": [
        "split_1 = combined_df.iloc[:5000].copy()\n",
        "split_2 = combined_df.iloc[5000:10000].copy()\n",
        "split_3 = combined_df.iloc[10000:15000].copy()\n",
        "split_4 = combined_df.iloc[15000:20000].copy()\n",
        "split_5 = combined_df.iloc[20000:].copy()"
      ],
      "metadata": {
        "id": "6H5kM__OYobU"
      },
      "execution_count": 6,
      "outputs": []
    },
    {
      "cell_type": "code",
      "source": [
        "import requests\n",
        "from fake_useragent import UserAgent\n",
        "from bs4 import BeautifulSoup\n",
        "from urllib.parse import urlparse\n",
        "\n",
        "# Create a UserAgent instance\n",
        "ua = UserAgent()\n",
        "\n",
        "# Function to fetch content from a URL\n",
        "def fetch_content(url):\n",
        "    try:\n",
        "        # Define user-agent header using a random user agent\n",
        "        headers = {'User-Agent': ua.random}\n",
        "\n",
        "        # Create a session to handle cookies and maintain connection state\n",
        "        with requests.Session() as session:\n",
        "            response = session.get(url, headers=headers, timeout=4, allow_redirects=True)\n",
        "            response.raise_for_status()  # Raise an error for 4xx and 5xx status codes\n",
        "            final_url = response.url  # Get the final URL after following redirects\n",
        "            website_name = get_website_name(final_url)\n",
        "            return (response.text, website_name)\n",
        "    except Exception as e:\n",
        "        print(\"Error fetching content:\", e)\n",
        "        return (None, None)\n",
        "\n",
        "# Function to extract website name from URL\n",
        "def get_website_name(url):\n",
        "    parsed_url = urlparse(url)\n",
        "    return parsed_url.netloc\n",
        "\n",
        "# Function to extract body content from HTML using BeautifulSoup\n",
        "def extract_body(html_content_with_website_name):\n",
        "    html_content, website_name = html_content_with_website_name\n",
        "    if html_content:\n",
        "        soup = BeautifulSoup(html_content, 'html.parser')\n",
        "        if website_name == 'www.cnn.com':\n",
        "          article_body = soup.findAll('p', class_='paragraph')\n",
        "        elif website_name == 'www.health.usnews.com':\n",
        "          article_body = soup.findAll('p')\n",
        "        elif website_name == 'www.latimes.com':\n",
        "          article_body = soup.findAll('p')\n",
        "        elif website_name == 'www.npr.org':\n",
        "          article_body = soup.find('div', id='storytext').find_all('p')\n",
        "        elif website_name == 'www.nytimes.com':\n",
        "          article_body = soup.findAll('p', class_='story-body-text')\n",
        "        else:\n",
        "          article_body = None\n",
        "\n",
        "        if article_body:\n",
        "            return article_body\n",
        "        else:\n",
        "            return None\n",
        "    else:\n",
        "        return None\n",
        "\n",
        "# Apply web scraping to extract content and store it in a new column\n",
        "def extract_content_with_progress(url_list):\n",
        "    content_list = []\n",
        "    for url in tqdm(url_list, desc='Extracting content'):\n",
        "        content = extract_body(fetch_content(url))\n",
        "        content_list.append(content)\n",
        "    return content_list\n",
        "\n",
        "# Apply web scraping to extract content and store it in a new column\n",
        "#combined_df['Content'] = extract_content_with_progress(combined_df['URL'])"
      ],
      "metadata": {
        "id": "FRU39yS1Vosk"
      },
      "execution_count": 7,
      "outputs": []
    },
    {
      "cell_type": "code",
      "source": [
        "split_1['Content'] = extract_content_with_progress(split_1['URL'])\n",
        "split_1.to_csv('split_1_preprocessed.csv', index=False)"
      ],
      "metadata": {
        "id": "7oM_CgS2aJZz",
        "outputId": "e4a709bd-9354-4161-b7c7-dfc58852767c",
        "colab": {
          "base_uri": "https://localhost:8080/"
        }
      },
      "execution_count": 8,
      "outputs": [
        {
          "metadata": {
            "tags": null
          },
          "name": "stderr",
          "output_type": "stream",
          "text": [
            "Extracting content:   0%|          | 13/5000 [00:31<2:50:32,  2.05s/it]"
          ]
        },
        {
          "metadata": {
            "tags": null
          },
          "name": "stdout",
          "output_type": "stream",
          "text": [
            "Error fetching content: ('Connection aborted.', HTTPException('got more than 100 headers'))\n"
          ]
        },
        {
          "metadata": {
            "tags": null
          },
          "name": "stderr",
          "output_type": "stream",
          "text": [
            "Extracting content:   1%|          | 44/5000 [01:28<2:07:50,  1.55s/it]"
          ]
        },
        {
          "metadata": {
            "tags": null
          },
          "name": "stdout",
          "output_type": "stream",
          "text": [
            "Error fetching content: 410 Client Error: Gone for url: https://www.everydayhealth.com/healthy-living-pictures/consumer-electronics-show-health.aspx#/slide-1\n"
          ]
        },
        {
          "metadata": {
            "tags": null
          },
          "name": "stderr",
          "output_type": "stream",
          "text": [
            "Extracting content:   1%|          | 49/5000 [01:35<1:45:33,  1.28s/it]"
          ]
        },
        {
          "metadata": {
            "tags": null
          },
          "name": "stdout",
          "output_type": "stream",
          "text": [
            "Error fetching content: 403 Client Error: Forbidden for url: http://www.montefiore.org/heartmonth\n"
          ]
        },
        {
          "metadata": {
            "tags": null
          },
          "name": "stderr",
          "output_type": "stream",
          "text": [
            "\rExtracting content:   1%|          | 50/5000 [01:39<3:00:37,  2.19s/it]"
          ]
        },
        {
          "metadata": {
            "tags": null
          },
          "name": "stdout",
          "output_type": "stream",
          "text": [
            "Error fetching content: HTTPConnectionPool(host='mmcny.org', port=80): Max retries exceeded with url: /WDdbWv (Caused by ConnectTimeoutError(<urllib3.connection.HTTPConnection object at 0x7d7bf89103d0>, 'Connection to mmcny.org timed out. (connect timeout=4)'))\n",
            "Error fetching content: 403 Client Error: Forbidden for url: http://www.montefiore.org/heartmonth\n"
          ]
        },
        {
          "metadata": {
            "tags": null
          },
          "name": "stderr",
          "output_type": "stream",
          "text": [
            "Extracting content:   1%|          | 53/5000 [01:40<1:29:31,  1.09s/it]"
          ]
        },
        {
          "metadata": {
            "tags": null
          },
          "name": "stdout",
          "output_type": "stream",
          "text": [
            "Error fetching content: 404 Client Error: Not Found for url: http://bit.ly/YGA5JV\n"
          ]
        },
        {
          "metadata": {
            "tags": null
          },
          "name": "stderr",
          "output_type": "stream",
          "text": [
            "Extracting content:   1%|          | 56/5000 [01:48<2:53:09,  2.10s/it]"
          ]
        },
        {
          "metadata": {
            "tags": null
          },
          "name": "stdout",
          "output_type": "stream",
          "text": [
            "Error fetching content: HTTPConnectionPool(host='mmcny.org', port=80): Max retries exceeded with url: /11oNXPs (Caused by ConnectTimeoutError(<urllib3.connection.HTTPConnection object at 0x7d7bf88b2d70>, 'Connection to mmcny.org timed out. (connect timeout=4)'))\n"
          ]
        },
        {
          "metadata": {
            "tags": null
          },
          "name": "stderr",
          "output_type": "stream",
          "text": [
            "Extracting content:   1%|          | 58/5000 [01:50<2:08:27,  1.56s/it]"
          ]
        },
        {
          "metadata": {
            "tags": null
          },
          "name": "stdout",
          "output_type": "stream",
          "text": [
            "Error fetching content: 404 Client Error: Not Found for url: http://bit.ly/XlaNnI\n"
          ]
        },
        {
          "metadata": {
            "tags": null
          },
          "name": "stderr",
          "output_type": "stream",
          "text": [
            "\rExtracting content:   1%|          | 59/5000 [01:54<3:07:28,  2.28s/it]"
          ]
        },
        {
          "metadata": {
            "tags": null
          },
          "name": "stdout",
          "output_type": "stream",
          "text": [
            "Error fetching content: HTTPConnectionPool(host='mmcny.org', port=80): Max retries exceeded with url: /14AJ5WU (Caused by ConnectTimeoutError(<urllib3.connection.HTTPConnection object at 0x7d7bf8c80b50>, 'Connection to mmcny.org timed out. (connect timeout=4)'))\n"
          ]
        },
        {
          "metadata": {
            "tags": null
          },
          "name": "stderr",
          "output_type": "stream",
          "text": [
            "\rExtracting content:   1%|          | 60/5000 [01:58<3:49:30,  2.79s/it]"
          ]
        },
        {
          "metadata": {
            "tags": null
          },
          "name": "stdout",
          "output_type": "stream",
          "text": [
            "Error fetching content: HTTPConnectionPool(host='mmcny.org', port=80): Max retries exceeded with url: /YIXuA0 (Caused by ConnectTimeoutError(<urllib3.connection.HTTPConnection object at 0x7d7bf8c81750>, 'Connection to mmcny.org timed out. (connect timeout=4)'))\n"
          ]
        },
        {
          "metadata": {
            "tags": null
          },
          "name": "stderr",
          "output_type": "stream",
          "text": [
            "\rExtracting content:   1%|          | 61/5000 [02:02<4:19:16,  3.15s/it]"
          ]
        },
        {
          "metadata": {
            "tags": null
          },
          "name": "stdout",
          "output_type": "stream",
          "text": [
            "Error fetching content: HTTPConnectionPool(host='mmcny.org', port=80): Max retries exceeded with url: /14AJ5WU (Caused by ConnectTimeoutError(<urllib3.connection.HTTPConnection object at 0x7d7bf8c83d90>, 'Connection to mmcny.org timed out. (connect timeout=4)'))\n"
          ]
        },
        {
          "metadata": {
            "tags": null
          },
          "name": "stderr",
          "output_type": "stream",
          "text": [
            "Extracting content:   1%|▏         | 63/5000 [02:07<4:08:25,  3.02s/it]"
          ]
        },
        {
          "metadata": {
            "tags": null
          },
          "name": "stdout",
          "output_type": "stream",
          "text": [
            "Error fetching content: HTTPConnectionPool(host='mmcny.org', port=80): Max retries exceeded with url: /WDVd5O (Caused by ConnectTimeoutError(<urllib3.connection.HTTPConnection object at 0x7d7bfa0c0400>, 'Connection to mmcny.org timed out. (connect timeout=4)'))\n"
          ]
        },
        {
          "metadata": {
            "tags": null
          },
          "name": "stderr",
          "output_type": "stream",
          "text": [
            "Extracting content:   1%|▏         | 73/5000 [02:31<4:06:47,  3.01s/it]"
          ]
        },
        {
          "metadata": {
            "tags": null
          },
          "name": "stdout",
          "output_type": "stream",
          "text": [
            "Error fetching content: HTTPConnectionPool(host='mmcny.org', port=80): Max retries exceeded with url: /11oNXPs (Caused by ConnectTimeoutError(<urllib3.connection.HTTPConnection object at 0x7d7bf9433f70>, 'Connection to mmcny.org timed out. (connect timeout=4)'))\n"
          ]
        },
        {
          "metadata": {
            "tags": null
          },
          "name": "stderr",
          "output_type": "stream",
          "text": [
            "Extracting content:   2%|▏         | 120/5000 [03:59<2:50:20,  2.09s/it]"
          ]
        },
        {
          "metadata": {
            "tags": null
          },
          "name": "stdout",
          "output_type": "stream",
          "text": [
            "Error fetching content: HTTPConnectionPool(host='mmcny.org', port=80): Max retries exceeded with url: /12HXqlk (Caused by ConnectTimeoutError(<urllib3.connection.HTTPConnection object at 0x7d7bf8aa97e0>, 'Connection to mmcny.org timed out. (connect timeout=4)'))\n"
          ]
        },
        {
          "metadata": {
            "tags": null
          },
          "name": "stderr",
          "output_type": "stream",
          "text": [
            "Extracting content:   2%|▏         | 123/5000 [04:04<2:14:04,  1.65s/it]"
          ]
        },
        {
          "metadata": {
            "tags": null
          },
          "name": "stdout",
          "output_type": "stream",
          "text": [
            "Error fetching content: 410 Client Error: Gone for url: https://www.everydayhealth.com/healthy-living-pictures/consumer-electronics-show-health.aspx#/slide-1\n"
          ]
        },
        {
          "metadata": {
            "tags": null
          },
          "name": "stderr",
          "output_type": "stream",
          "text": [
            "Extracting content:   3%|▎         | 128/5000 [04:13<2:18:19,  1.70s/it]"
          ]
        },
        {
          "metadata": {
            "tags": null
          },
          "name": "stdout",
          "output_type": "stream",
          "text": [
            "Error fetching content: ('Connection aborted.', HTTPException('got more than 100 headers'))\n"
          ]
        },
        {
          "metadata": {
            "tags": null
          },
          "name": "stderr",
          "output_type": "stream",
          "text": [
            "Extracting content:   3%|▎         | 148/5000 [04:48<2:40:11,  1.98s/it]"
          ]
        },
        {
          "metadata": {
            "tags": null
          },
          "name": "stdout",
          "output_type": "stream",
          "text": [
            "Error fetching content: ('Connection aborted.', HTTPException('got more than 100 headers'))\n"
          ]
        },
        {
          "metadata": {
            "tags": null
          },
          "name": "stderr",
          "output_type": "stream",
          "text": [
            "Extracting content:   4%|▎         | 178/5000 [05:42<1:50:59,  1.38s/it]"
          ]
        },
        {
          "metadata": {
            "tags": null
          },
          "name": "stdout",
          "output_type": "stream",
          "text": [
            "Error fetching content: HTTPConnectionPool(host='qa1.everydayhealth.com', port=80): Max retries exceeded with url: /emotional-health/0614/what-do-your-shoes-say-about-your-personality.aspx?xid=tw_everydayhealth_sf (Caused by NameResolutionError(\"<urllib3.connection.HTTPConnection object at 0x7d7bf91afeb0>: Failed to resolve 'qa1.everydayhealth.com' ([Errno -2] Name or service not known)\"))\n"
          ]
        },
        {
          "metadata": {
            "tags": null
          },
          "name": "stderr",
          "output_type": "stream",
          "text": [
            "Extracting content:   4%|▍         | 192/5000 [06:06<2:02:51,  1.53s/it]"
          ]
        },
        {
          "metadata": {
            "tags": null
          },
          "name": "stdout",
          "output_type": "stream",
          "text": [
            "Error fetching content: 410 Client Error: Gone for url: https://www.everydayhealth.com/diet-and-nutrition/0308/fruits-veggies-can-be-beauty-tools.aspx?xid=tw_everydayhealth_sf\n"
          ]
        },
        {
          "metadata": {
            "tags": null
          },
          "name": "stderr",
          "output_type": "stream",
          "text": [
            "Extracting content:   5%|▍         | 228/5000 [07:04<2:06:20,  1.59s/it]"
          ]
        },
        {
          "metadata": {
            "tags": null
          },
          "name": "stdout",
          "output_type": "stream",
          "text": [
            "Error fetching content: 404 Client Error: Not Found for url: https://www.everydayhealth.com/blog/trevis-life-with-multiple-sclerosis-ms/a-post-holidays-check-in-hows-your-ms-today/?xid=tw_everydayhealth_sf\n"
          ]
        },
        {
          "metadata": {
            "tags": null
          },
          "name": "stderr",
          "output_type": "stream",
          "text": [
            "Extracting content:   5%|▌         | 254/5000 [07:50<2:02:58,  1.55s/it]"
          ]
        },
        {
          "metadata": {
            "tags": null
          },
          "name": "stdout",
          "output_type": "stream",
          "text": [
            "Error fetching content: HTTPConnectionPool(host='qa1.everydayhealth.com', port=80): Max retries exceeded with url: /weight/0322/could-two-words-help-you-resist-temptation.aspx?xid=tw_everydayhealth_sf (Caused by NameResolutionError(\"<urllib3.connection.HTTPConnection object at 0x7d7bf8a23640>: Failed to resolve 'qa1.everydayhealth.com' ([Errno -2] Name or service not known)\"))\n"
          ]
        },
        {
          "metadata": {
            "tags": null
          },
          "name": "stderr",
          "output_type": "stream",
          "text": [
            "Extracting content:   6%|▌         | 305/5000 [09:09<2:00:14,  1.54s/it]"
          ]
        },
        {
          "metadata": {
            "tags": null
          },
          "name": "stdout",
          "output_type": "stream",
          "text": [
            "Error fetching content: 410 Client Error: Gone for url: https://www.everydayhealth.com/diet-and-nutrition/0308/fruits-veggies-can-be-beauty-tools.aspx?xid=tw_everydayhealth_sf\n"
          ]
        },
        {
          "metadata": {
            "tags": null
          },
          "name": "stderr",
          "output_type": "stream",
          "text": [
            "Extracting content:   6%|▋         | 323/5000 [09:38<1:39:29,  1.28s/it]"
          ]
        },
        {
          "metadata": {
            "tags": null
          },
          "name": "stdout",
          "output_type": "stream",
          "text": [
            "Error fetching content: HTTPConnectionPool(host='qa1.everydayhealth.com', port=80): Max retries exceeded with url: /emotional-health/0614/what-do-your-shoes-say-about-your-personality.aspx?xid=tw_everydayhealth_sf (Caused by NameResolutionError(\"<urllib3.connection.HTTPConnection object at 0x7d7bf94d5270>: Failed to resolve 'qa1.everydayhealth.com' ([Errno -2] Name or service not known)\"))\n"
          ]
        },
        {
          "metadata": {
            "tags": null
          },
          "name": "stderr",
          "output_type": "stream",
          "text": [
            "Extracting content:   7%|▋         | 340/5000 [10:19<6:48:15,  5.26s/it]"
          ]
        },
        {
          "metadata": {
            "tags": null
          },
          "name": "stdout",
          "output_type": "stream",
          "text": [
            "Error fetching content: HTTPConnectionPool(host='preview.everydayhealth.com', port=80): Max retries exceeded with url: /multiple-sclerosis/exercises-to-improve-balance.aspx?xid=tw_everydayhealth_sf (Caused by ConnectTimeoutError(<urllib3.connection.HTTPConnection object at 0x7d7bf87fc4f0>, 'Connection to preview.everydayhealth.com timed out. (connect timeout=4)'))\n"
          ]
        },
        {
          "metadata": {
            "tags": null
          },
          "name": "stderr",
          "output_type": "stream",
          "text": [
            "Extracting content:   7%|▋         | 358/5000 [10:48<2:07:38,  1.65s/it]"
          ]
        },
        {
          "metadata": {
            "tags": null
          },
          "name": "stdout",
          "output_type": "stream",
          "text": [
            "Error fetching content: 410 Client Error: Gone for url: https://www.everydayhealth.com/blogs/the-sex-blog/yes-sex-really-does-get-better-with-age/\n"
          ]
        },
        {
          "metadata": {
            "tags": null
          },
          "name": "stderr",
          "output_type": "stream",
          "text": [
            "Extracting content:   8%|▊         | 388/5000 [11:41<2:12:36,  1.73s/it]"
          ]
        },
        {
          "metadata": {
            "tags": null
          },
          "name": "stdout",
          "output_type": "stream",
          "text": [
            "Error fetching content: ('Connection aborted.', HTTPException('got more than 100 headers'))\n"
          ]
        },
        {
          "metadata": {
            "tags": null
          },
          "name": "stderr",
          "output_type": "stream",
          "text": [
            "Extracting content:   8%|▊         | 396/5000 [11:52<1:45:39,  1.38s/it]"
          ]
        },
        {
          "metadata": {
            "tags": null
          },
          "name": "stdout",
          "output_type": "stream",
          "text": [
            "Error fetching content: 404 Client Error: Not Found for url: http://bit.ly/XwgSt7\n"
          ]
        },
        {
          "metadata": {
            "tags": null
          },
          "name": "stderr",
          "output_type": "stream",
          "text": [
            "Extracting content:   8%|▊         | 416/5000 [12:15<1:04:52,  1.18it/s]"
          ]
        },
        {
          "metadata": {
            "tags": null
          },
          "name": "stdout",
          "output_type": "stream",
          "text": [
            "Error fetching content: 404 Client Error: Not Found for url: http://trib.al/hUgp5s%22\n"
          ]
        },
        {
          "metadata": {
            "tags": null
          },
          "name": "stderr",
          "output_type": "stream",
          "text": [
            "Extracting content:   9%|▉         | 443/5000 [12:58<1:45:21,  1.39s/it]"
          ]
        },
        {
          "metadata": {
            "tags": null
          },
          "name": "stdout",
          "output_type": "stream",
          "text": [
            "Error fetching content: 410 Client Error: Gone for url: https://www.everydayhealth.com/healthy-living/sars-like-virus-strikes-a-third-uk-patient-8766.aspx?xid=tw_everydayhealth_sf\n"
          ]
        },
        {
          "metadata": {
            "tags": null
          },
          "name": "stderr",
          "output_type": "stream",
          "text": [
            "Extracting content:   9%|▉         | 453/5000 [13:14<2:41:39,  2.13s/it]"
          ]
        },
        {
          "metadata": {
            "tags": null
          },
          "name": "stdout",
          "output_type": "stream",
          "text": [
            "Error fetching content: ('Connection aborted.', HTTPException('got more than 100 headers'))\n"
          ]
        },
        {
          "metadata": {
            "tags": null
          },
          "name": "stderr",
          "output_type": "stream",
          "text": [
            "Extracting content:   9%|▉         | 465/5000 [13:33<2:17:57,  1.83s/it]"
          ]
        },
        {
          "metadata": {
            "tags": null
          },
          "name": "stdout",
          "output_type": "stream",
          "text": [
            "Error fetching content: 404 Client Error: Not Found for url: https://www.everydayhealth.com/blog/health-in-the-news/2011/12/06/instant-soups-in-a-cup-can-cause-dangerous-burns-in-kids/?xid=tw_everydayhealth_20111206_soup\n"
          ]
        },
        {
          "metadata": {
            "tags": null
          },
          "name": "stderr",
          "output_type": "stream",
          "text": [
            "Extracting content:  10%|█         | 504/5000 [14:35<1:45:06,  1.40s/it]"
          ]
        },
        {
          "metadata": {
            "tags": null
          },
          "name": "stdout",
          "output_type": "stream",
          "text": [
            "Error fetching content: 410 Client Error: Gone for url: https://www.everydayhealth.com/heart-health/0212/silent-atrial-fibrillation-may-be-behind-stroke.aspx?xid=tw_everydayhealth_sf\n"
          ]
        },
        {
          "metadata": {
            "tags": null
          },
          "name": "stderr",
          "output_type": "stream",
          "text": [
            "Extracting content:  11%|█▏        | 565/5000 [16:13<2:20:22,  1.90s/it]"
          ]
        },
        {
          "metadata": {
            "tags": null
          },
          "name": "stdout",
          "output_type": "stream",
          "text": [
            "Error fetching content: 404 Client Error: Not Found for url: https://www.everydayhealth.com/blog/life-with-breast-cancer/you-are-strong-and-you-are-beautiful/?xid=tw_everydayhealth_sf\n"
          ]
        },
        {
          "metadata": {
            "tags": null
          },
          "name": "stderr",
          "output_type": "stream",
          "text": [
            "Extracting content:  11%|█▏        | 574/5000 [16:27<1:34:00,  1.27s/it]"
          ]
        },
        {
          "metadata": {
            "tags": null
          },
          "name": "stdout",
          "output_type": "stream",
          "text": [
            "Error fetching content: 404 Client Error: Not Found for url: http://bit.ly/14O7ck5\n"
          ]
        },
        {
          "metadata": {
            "tags": null
          },
          "name": "stderr",
          "output_type": "stream",
          "text": [
            "Extracting content:  12%|█▏        | 577/5000 [16:33<1:47:47,  1.46s/it]"
          ]
        },
        {
          "metadata": {
            "tags": null
          },
          "name": "stdout",
          "output_type": "stream",
          "text": [
            "Error fetching content: 410 Client Error: Gone for url: http://bit.ly/WBQZge\n"
          ]
        },
        {
          "metadata": {
            "tags": null
          },
          "name": "stderr",
          "output_type": "stream",
          "text": [
            "Extracting content:  12%|█▏        | 593/5000 [17:17<6:17:29,  5.14s/it]"
          ]
        },
        {
          "metadata": {
            "tags": null
          },
          "name": "stdout",
          "output_type": "stream",
          "text": [
            "Error fetching content: HTTPConnectionPool(host='preview.everydayhealth.com', port=80): Max retries exceeded with url: /healthtalk/healthtalk-with-julieanna-hever-and-dreena-burton-how-to-go-vegan-5813.aspx (Caused by ConnectTimeoutError(<urllib3.connection.HTTPConnection object at 0x7d7bf95c0880>, 'Connection to preview.everydayhealth.com timed out. (connect timeout=4)'))\n"
          ]
        },
        {
          "metadata": {
            "tags": null
          },
          "name": "stderr",
          "output_type": "stream",
          "text": [
            "Extracting content:  12%|█▏        | 595/5000 [17:32<8:22:16,  6.84s/it]"
          ]
        },
        {
          "metadata": {
            "tags": null
          },
          "name": "stdout",
          "output_type": "stream",
          "text": [
            "Error fetching content: HTTPConnectionPool(host='preview.everydayhealth.com', port=80): Max retries exceeded with url: /healthtalk/healthtalk-with-julieanna-hever-and-dreena-burton-how-to-go-vegan-5813.aspx (Caused by ConnectTimeoutError(<urllib3.connection.HTTPConnection object at 0x7d7bf8c53850>, 'Connection to preview.everydayhealth.com timed out. (connect timeout=4)'))\n"
          ]
        },
        {
          "metadata": {
            "tags": null
          },
          "name": "stderr",
          "output_type": "stream",
          "text": [
            "Extracting content:  12%|█▏        | 613/5000 [18:02<1:55:52,  1.58s/it]"
          ]
        },
        {
          "metadata": {
            "tags": null
          },
          "name": "stdout",
          "output_type": "stream",
          "text": [
            "Error fetching content: 404 Client Error: Not Found for url: https://www.everydayhealth.com/blog/life-with-breast-cancer/should-you-google-your-medical-condition/?xid=tw_everydayhealth_sf\n"
          ]
        },
        {
          "metadata": {
            "tags": null
          },
          "name": "stderr",
          "output_type": "stream",
          "text": [
            "Extracting content:  12%|█▏        | 617/5000 [18:08<1:42:29,  1.40s/it]"
          ]
        },
        {
          "metadata": {
            "tags": null
          },
          "name": "stdout",
          "output_type": "stream",
          "text": [
            "Error fetching content: 404 Client Error: Not Found for url: https://www.everydayhealth.com/blog/trevis-life-with-multiple-sclerosis-ms/life-with-ms-can-be-have-beautiful-limitations/?xid=tw_everydayhealth_sf\n"
          ]
        },
        {
          "metadata": {
            "tags": null
          },
          "name": "stderr",
          "output_type": "stream",
          "text": [
            "Extracting content:  13%|█▎        | 660/5000 [19:19<1:49:09,  1.51s/it]"
          ]
        },
        {
          "metadata": {
            "tags": null
          },
          "name": "stdout",
          "output_type": "stream",
          "text": [
            "Error fetching content: 404 Client Error: Not Found for url: https://www.everydayhealth.com/blog/the-organized-caregiver/end-of-life-caregiving/?xid=tw_everydayhealth_sf\n"
          ]
        },
        {
          "metadata": {
            "tags": null
          },
          "name": "stderr",
          "output_type": "stream",
          "text": [
            "Extracting content:  13%|█▎        | 668/5000 [19:34<2:02:04,  1.69s/it]"
          ]
        },
        {
          "metadata": {
            "tags": null
          },
          "name": "stdout",
          "output_type": "stream",
          "text": [
            "Error fetching content: 410 Client Error: Gone for url: https://www.everydayhealth.com/southbeachdiet/five-ways-to-jumpstart-your-weight-loss.aspx?xid=tw_weightloss_20120104_sbd\n"
          ]
        },
        {
          "metadata": {
            "tags": null
          },
          "name": "stderr",
          "output_type": "stream",
          "text": [
            "\rExtracting content:  13%|█▎        | 669/5000 [19:35<1:51:36,  1.55s/it]"
          ]
        },
        {
          "metadata": {
            "tags": null
          },
          "name": "stdout",
          "output_type": "stream",
          "text": [
            "Error fetching content: 410 Client Error: Gone for url: https://www.everydayhealth.com/healthy-living-pictures/consumer-electronics-show-health.aspx#/slide-1\n"
          ]
        },
        {
          "metadata": {
            "tags": null
          },
          "name": "stderr",
          "output_type": "stream",
          "text": [
            "Extracting content:  14%|█▎        | 675/5000 [19:45<1:56:34,  1.62s/it]"
          ]
        },
        {
          "metadata": {
            "tags": null
          },
          "name": "stdout",
          "output_type": "stream",
          "text": [
            "Error fetching content: 404 Client Error: Not Found for url: https://www.everydayhealth.com/blog/trevis-life-with-multiple-sclerosis-ms/is-routine-important-to-your-ms/?xid=tw_everydayhealth_sf\n"
          ]
        },
        {
          "metadata": {
            "tags": null
          },
          "name": "stderr",
          "output_type": "stream",
          "text": [
            "Extracting content:  14%|█▍        | 701/5000 [20:25<1:42:54,  1.44s/it]"
          ]
        },
        {
          "metadata": {
            "tags": null
          },
          "name": "stdout",
          "output_type": "stream",
          "text": [
            "Error fetching content: 404 Client Error: Not Found for url: http://ow.ly/8zHET?xid=tw_everydayhealth_sf\n"
          ]
        },
        {
          "metadata": {
            "tags": null
          },
          "name": "stderr",
          "output_type": "stream",
          "text": [
            "Extracting content:  14%|█▍        | 724/5000 [21:08<1:46:18,  1.49s/it]"
          ]
        },
        {
          "metadata": {
            "tags": null
          },
          "name": "stdout",
          "output_type": "stream",
          "text": [
            "Error fetching content: HTTPConnectionPool(host='v', port=80): Max retries exceeded with url: / (Caused by NameResolutionError(\"<urllib3.connection.HTTPConnection object at 0x7d7bf8c465f0>: Failed to resolve 'v' ([Errno -2] Name or service not known)\"))\n"
          ]
        },
        {
          "metadata": {
            "tags": null
          },
          "name": "stderr",
          "output_type": "stream",
          "text": [
            "Extracting content:  15%|█▍        | 749/5000 [21:43<1:42:32,  1.45s/it]"
          ]
        },
        {
          "metadata": {
            "tags": null
          },
          "name": "stdout",
          "output_type": "stream",
          "text": [
            "Error fetching content: 410 Client Error: Gone for url: https://www.everydayhealth.com/healthy-living-pictures/consumer-electronics-show-health.aspx#/slide-1\n"
          ]
        },
        {
          "metadata": {
            "tags": null
          },
          "name": "stderr",
          "output_type": "stream",
          "text": [
            "Extracting content:  16%|█▌        | 803/5000 [23:06<2:57:08,  2.53s/it]"
          ]
        },
        {
          "metadata": {
            "tags": null
          },
          "name": "stdout",
          "output_type": "stream",
          "text": [
            "Error fetching content: 404 Client Error: Not Found for url: http://w.ly/8UtEL?xid=tw_everydayhealth_sf\n"
          ]
        },
        {
          "metadata": {
            "tags": null
          },
          "name": "stderr",
          "output_type": "stream",
          "text": [
            "Extracting content:  16%|█▌        | 810/5000 [23:17<1:32:23,  1.32s/it]"
          ]
        },
        {
          "metadata": {
            "tags": null
          },
          "name": "stdout",
          "output_type": "stream",
          "text": [
            "Error fetching content: 404 Client Error: Not Found for url: http://bit.ly/11sqm18\n"
          ]
        },
        {
          "metadata": {
            "tags": null
          },
          "name": "stderr",
          "output_type": "stream",
          "text": [
            "\rExtracting content:  16%|█▌        | 811/5000 [23:17<1:09:36,  1.00it/s]"
          ]
        },
        {
          "metadata": {
            "tags": null
          },
          "name": "stdout",
          "output_type": "stream",
          "text": [
            "Error fetching content: 404 Client Error: Not Found for url: http://bit.ly/TPHCsO\n"
          ]
        },
        {
          "metadata": {
            "tags": null
          },
          "name": "stderr",
          "output_type": "stream",
          "text": [
            "\rExtracting content:  16%|█▌        | 812/5000 [23:18<1:09:57,  1.00s/it]"
          ]
        },
        {
          "metadata": {
            "tags": null
          },
          "name": "stdout",
          "output_type": "stream",
          "text": [
            "Error fetching content: 404 Client Error: Not Found for url: https://www.everydayhealth.com/blog/trevis-life-with-multiple-sclerosis-ms/finally-a-study-of-a-generic-ms-med/?xid=tw_everydayhealth_sf\n"
          ]
        },
        {
          "metadata": {
            "tags": null
          },
          "name": "stderr",
          "output_type": "stream",
          "text": [
            "Extracting content:  17%|█▋        | 871/5000 [24:49<1:29:18,  1.30s/it]"
          ]
        },
        {
          "metadata": {
            "tags": null
          },
          "name": "stdout",
          "output_type": "stream",
          "text": [
            "Error fetching content: 404 Client Error: Not Found for url: http://blogs.einstein.yu.edu/?p=3738\n"
          ]
        },
        {
          "metadata": {
            "tags": null
          },
          "name": "stderr",
          "output_type": "stream",
          "text": [
            "Extracting content:  17%|█▋        | 874/5000 [24:53<1:36:08,  1.40s/it]"
          ]
        },
        {
          "metadata": {
            "tags": null
          },
          "name": "stdout",
          "output_type": "stream",
          "text": [
            "Error fetching content: 404 Client Error: Not Found for url: https://rachelbegun.com/join-a-heart-healthtalk\n"
          ]
        },
        {
          "metadata": {
            "tags": null
          },
          "name": "stderr",
          "output_type": "stream",
          "text": [
            "Extracting content:  18%|█▊        | 880/5000 [25:01<1:13:37,  1.07s/it]"
          ]
        },
        {
          "metadata": {
            "tags": null
          },
          "name": "stdout",
          "output_type": "stream",
          "text": [
            "Error fetching content: 404 Client Error: Not Found for url: http://bit.ly/VGpt0\n"
          ]
        },
        {
          "metadata": {
            "tags": null
          },
          "name": "stderr",
          "output_type": "stream",
          "text": [
            "Extracting content:  18%|█▊        | 885/5000 [25:07<1:08:00,  1.01it/s]"
          ]
        },
        {
          "metadata": {
            "tags": null
          },
          "name": "stdout",
          "output_type": "stream",
          "text": [
            "Error fetching content: 404 Client Error: Not Found for url: http://trib.al/xwBz4i%22\n"
          ]
        },
        {
          "metadata": {
            "tags": null
          },
          "name": "stderr",
          "output_type": "stream",
          "text": [
            "Extracting content:  19%|█▊        | 937/5000 [26:23<1:26:37,  1.28s/it]"
          ]
        },
        {
          "metadata": {
            "tags": null
          },
          "name": "stdout",
          "output_type": "stream",
          "text": [
            "Error fetching content: 404 Client Error: Not Found for url: http://bit.ly/SoFfro\n"
          ]
        },
        {
          "metadata": {
            "tags": null
          },
          "name": "stderr",
          "output_type": "stream",
          "text": [
            "\rExtracting content:  19%|█▉        | 938/5000 [26:28<2:35:54,  2.30s/it]"
          ]
        },
        {
          "metadata": {
            "tags": null
          },
          "name": "stdout",
          "output_type": "stream",
          "text": [
            "Error fetching content: HTTPConnectionPool(host='einstein.yu.edu', port=80): Max retries exceeded with url: /features/stories/846/preventing-diabetes-and-its-complications-offers-public-health-challenge/ (Caused by ConnectTimeoutError(<urllib3.connection.HTTPConnection object at 0x7d7bf95e12a0>, 'Connection to einstein.yu.edu timed out. (connect timeout=4)'))\n"
          ]
        },
        {
          "metadata": {
            "tags": null
          },
          "name": "stderr",
          "output_type": "stream",
          "text": [
            "Extracting content:  19%|█▉        | 942/5000 [26:35<2:08:07,  1.89s/it]"
          ]
        },
        {
          "metadata": {
            "tags": null
          },
          "name": "stdout",
          "output_type": "stream",
          "text": [
            "Error fetching content: 404 Client Error: Not Found for url: https://creedooca.st/11njqlX\n"
          ]
        },
        {
          "metadata": {
            "tags": null
          },
          "name": "stderr",
          "output_type": "stream",
          "text": [
            "Extracting content:  19%|█▉        | 944/5000 [26:48<5:35:52,  4.97s/it]"
          ]
        },
        {
          "metadata": {
            "tags": null
          },
          "name": "stdout",
          "output_type": "stream",
          "text": [
            "Error fetching content: HTTPConnectionPool(host='preview.everydayhealth.com', port=80): Max retries exceeded with url: /healthtalk/expert-advice-on-living-well-with-diabetes.aspx (Caused by ConnectTimeoutError(<urllib3.connection.HTTPConnection object at 0x7d7bf9525f90>, 'Connection to preview.everydayhealth.com timed out. (connect timeout=4)'))\n"
          ]
        },
        {
          "metadata": {
            "tags": null
          },
          "name": "stderr",
          "output_type": "stream",
          "text": [
            "Extracting content:  19%|█▉        | 950/5000 [27:07<5:36:56,  4.99s/it]"
          ]
        },
        {
          "metadata": {
            "tags": null
          },
          "name": "stdout",
          "output_type": "stream",
          "text": [
            "Error fetching content: HTTPConnectionPool(host='preview.everydayhealth.com', port=80): Max retries exceeded with url: /healthtalk/expert-advice-on-living-well-with-diabetes.aspx (Caused by ConnectTimeoutError(<urllib3.connection.HTTPConnection object at 0x7d7bf91f7d30>, 'Connection to preview.everydayhealth.com timed out. (connect timeout=4)'))\n"
          ]
        },
        {
          "metadata": {
            "tags": null
          },
          "name": "stderr",
          "output_type": "stream",
          "text": [
            "Extracting content:  19%|█▉        | 956/5000 [27:27<5:55:27,  5.27s/it]"
          ]
        },
        {
          "metadata": {
            "tags": null
          },
          "name": "stdout",
          "output_type": "stream",
          "text": [
            "Error fetching content: HTTPConnectionPool(host='preview.everydayhealth.com', port=80): Max retries exceeded with url: /healthtalk/expert-advice-on-living-well-with-diabetes.aspx (Caused by ConnectTimeoutError(<urllib3.connection.HTTPConnection object at 0x7d7bf94d5ed0>, 'Connection to preview.everydayhealth.com timed out. (connect timeout=4)'))\n"
          ]
        },
        {
          "metadata": {
            "tags": null
          },
          "name": "stderr",
          "output_type": "stream",
          "text": [
            "Extracting content:  19%|█▉        | 960/5000 [27:34<3:03:07,  2.72s/it]"
          ]
        },
        {
          "metadata": {
            "tags": null
          },
          "name": "stdout",
          "output_type": "stream",
          "text": [
            "Error fetching content: 410 Client Error: Gone for url: https://www.everydayhealth.com/healthy-living-pictures/consumer-electronics-show-health.aspx#/slide-1\n"
          ]
        },
        {
          "metadata": {
            "tags": null
          },
          "name": "stderr",
          "output_type": "stream",
          "text": [
            "Extracting content:  20%|█▉        | 976/5000 [28:00<1:57:08,  1.75s/it]"
          ]
        },
        {
          "metadata": {
            "tags": null
          },
          "name": "stdout",
          "output_type": "stream",
          "text": [
            "Error fetching content: 410 Client Error: Gone for url: https://www.everydayhealth.com/healthy-living-pictures/consumer-electronics-show-health.aspx#/slide-1\n"
          ]
        },
        {
          "metadata": {
            "tags": null
          },
          "name": "stderr",
          "output_type": "stream",
          "text": [
            "Extracting content:  20%|█▉        | 989/5000 [28:21<1:56:38,  1.74s/it]"
          ]
        },
        {
          "metadata": {
            "tags": null
          },
          "name": "stdout",
          "output_type": "stream",
          "text": [
            "Error fetching content: ('Connection aborted.', HTTPException('got more than 100 headers'))\n"
          ]
        },
        {
          "metadata": {
            "tags": null
          },
          "name": "stderr",
          "output_type": "stream",
          "text": [
            "\rExtracting content:  20%|█▉        | 990/5000 [28:33<5:31:41,  4.96s/it]"
          ]
        },
        {
          "metadata": {
            "tags": null
          },
          "name": "stdout",
          "output_type": "stream",
          "text": [
            "Error fetching content: HTTPConnectionPool(host='preview.everydayhealth.com', port=80): Max retries exceeded with url: /healthtalk/expert-advice-on-living-well-with-diabetes.aspx (Caused by ConnectTimeoutError(<urllib3.connection.HTTPConnection object at 0x7d7bf8a53bb0>, 'Connection to preview.everydayhealth.com timed out. (connect timeout=4)'))\n"
          ]
        },
        {
          "metadata": {
            "tags": null
          },
          "name": "stderr",
          "output_type": "stream",
          "text": [
            "\rExtracting content:  20%|█▉        | 991/5000 [28:34<4:06:29,  3.69s/it]"
          ]
        },
        {
          "metadata": {
            "tags": null
          },
          "name": "stdout",
          "output_type": "stream",
          "text": [
            "Error fetching content: HTTPConnectionPool(host='qa1.everydayhealth.com', port=80): Max retries exceeded with url: /emotional-health/0614/what-do-your-shoes-say-about-your-personality.aspx?xid=tw_everydayhealth_sf (Caused by NameResolutionError(\"<urllib3.connection.HTTPConnection object at 0x7d7bf8833cd0>: Failed to resolve 'qa1.everydayhealth.com' ([Errno -2] Name or service not known)\"))\n"
          ]
        },
        {
          "metadata": {
            "tags": null
          },
          "name": "stderr",
          "output_type": "stream",
          "text": [
            "Extracting content:  20%|█▉        | 996/5000 [28:45<2:39:26,  2.39s/it]"
          ]
        },
        {
          "metadata": {
            "tags": null
          },
          "name": "stdout",
          "output_type": "stream",
          "text": [
            "Error fetching content: ('Connection aborted.', HTTPException('got more than 100 headers'))\n"
          ]
        },
        {
          "metadata": {
            "tags": null
          },
          "name": "stderr",
          "output_type": "stream",
          "text": [
            "Extracting content:  20%|██        | 1025/5000 [29:22<1:24:06,  1.27s/it]"
          ]
        },
        {
          "metadata": {
            "tags": null
          },
          "name": "stdout",
          "output_type": "stream",
          "text": [
            "Error fetching content: 404 Client Error: Not Found for url: https://www.everydayhealth.com/blog/health-in-the-news/2011/11/30/are-you-living-in-one-of-america%E2%80%99s-saddest-cities/?xid=tw_everydayhealth_20111130_sadcity\n"
          ]
        },
        {
          "metadata": {
            "tags": null
          },
          "name": "stderr",
          "output_type": "stream",
          "text": [
            "Extracting content:  21%|██        | 1035/5000 [29:35<1:17:49,  1.18s/it]"
          ]
        },
        {
          "metadata": {
            "tags": null
          },
          "name": "stdout",
          "output_type": "stream",
          "text": [
            "Error fetching content: 410 Client Error: Gone for url: https://www.everydayhealth.com/diet-and-nutrition/0308/fruits-veggies-can-be-beauty-tools.aspx?xid=tw_everydayhealth_sf\n"
          ]
        },
        {
          "metadata": {
            "tags": null
          },
          "name": "stderr",
          "output_type": "stream",
          "text": [
            "Extracting content:  21%|██        | 1048/5000 [30:05<5:10:17,  4.71s/it]"
          ]
        },
        {
          "metadata": {
            "tags": null
          },
          "name": "stdout",
          "output_type": "stream",
          "text": [
            "Error fetching content: HTTPConnectionPool(host='preview.everydayhealth.com', port=80): Max retries exceeded with url: /healthtalk/expert-advice-on-living-well-with-diabetes.aspx (Caused by ConnectTimeoutError(<urllib3.connection.HTTPConnection object at 0x7d7bf8e263e0>, 'Connection to preview.everydayhealth.com timed out. (connect timeout=4)'))\n"
          ]
        },
        {
          "metadata": {
            "tags": null
          },
          "name": "stderr",
          "output_type": "stream",
          "text": [
            "Extracting content:  21%|██        | 1060/5000 [30:22<1:44:00,  1.58s/it]"
          ]
        },
        {
          "metadata": {
            "tags": null
          },
          "name": "stdout",
          "output_type": "stream",
          "text": [
            "Error fetching content: 404 Client Error: Not Found for url: https://www.everydayhealth.com/blog/health-in-the-news/2011/12/05/grey%E2%80%99s-anatomy-saved-moms-life/?xid=tw_everydayhealth_20111205_greysanatomy\n"
          ]
        },
        {
          "metadata": {
            "tags": null
          },
          "name": "stderr",
          "output_type": "stream",
          "text": [
            "Extracting content:  21%|██▏       | 1073/5000 [30:39<1:14:54,  1.14s/it]"
          ]
        },
        {
          "metadata": {
            "tags": null
          },
          "name": "stdout",
          "output_type": "stream",
          "text": [
            "Error fetching content: 404 Client Error: Not Found for url: http://trib.al/xvDnsR%22\n"
          ]
        },
        {
          "metadata": {
            "tags": null
          },
          "name": "stderr",
          "output_type": "stream",
          "text": [
            "Extracting content:  23%|██▎       | 1152/5000 [32:36<1:35:57,  1.50s/it]"
          ]
        },
        {
          "metadata": {
            "tags": null
          },
          "name": "stdout",
          "output_type": "stream",
          "text": [
            "Error fetching content: 404 Client Error: Not Found for url: https://www.everydayhealth.com/blog/health-in-the-news/2011/12/08/should-nuns-be-popping-birth-control-pills/?xid=tw_everydayhealth_20111208_nuns\n"
          ]
        },
        {
          "metadata": {
            "tags": null
          },
          "name": "stderr",
          "output_type": "stream",
          "text": [
            "Extracting content:  23%|██▎       | 1158/5000 [32:43<1:11:07,  1.11s/it]"
          ]
        },
        {
          "metadata": {
            "tags": null
          },
          "name": "stdout",
          "output_type": "stream",
          "text": [
            "Error fetching content: 404 Client Error: Not Found for url: https://www.everydayhealth.com/blog/life-with-chronic-pain/chronic-pain-dont-make-a-meal-out-of-it/?xid=tw_everydayhealth_sf\n"
          ]
        },
        {
          "metadata": {
            "tags": null
          },
          "name": "stderr",
          "output_type": "stream",
          "text": [
            "\rExtracting content:  23%|██▎       | 1159/5000 [32:44<1:08:59,  1.08s/it]"
          ]
        },
        {
          "metadata": {
            "tags": null
          },
          "name": "stdout",
          "output_type": "stream",
          "text": [
            "Error fetching content: 404 Client Error: Not Found for url: https://www.everydayhealth.com/blog/trevis-life-with-multiple-sclerosis-ms/multiple-sclerosis-and-meditation/?xid=tw_everydayhealth_sf\n"
          ]
        },
        {
          "metadata": {
            "tags": null
          },
          "name": "stderr",
          "output_type": "stream",
          "text": [
            "\rExtracting content:  23%|██▎       | 1160/5000 [32:45<1:07:18,  1.05s/it]"
          ]
        },
        {
          "metadata": {
            "tags": null
          },
          "name": "stdout",
          "output_type": "stream",
          "text": [
            "Error fetching content: 404 Client Error: Not Found for url: https://www.everydayhealth.com/blog/life-with-breast-cancer/old-news-is-good-news-for-breast-cancer-patients/?xid=tw_everydayhealth_sf\n"
          ]
        },
        {
          "metadata": {
            "tags": null
          },
          "name": "stderr",
          "output_type": "stream",
          "text": [
            "Extracting content:  23%|██▎       | 1172/5000 [33:00<1:09:46,  1.09s/it]"
          ]
        },
        {
          "metadata": {
            "tags": null
          },
          "name": "stdout",
          "output_type": "stream",
          "text": [
            "Error fetching content: 410 Client Error: Gone for url: https://www.everydayhealth.com/healthy-living-pictures/consumer-electronics-show-health.aspx#/slide-1\n"
          ]
        },
        {
          "metadata": {
            "tags": null
          },
          "name": "stderr",
          "output_type": "stream",
          "text": [
            "Extracting content:  24%|██▎       | 1175/5000 [33:04<1:11:24,  1.12s/it]"
          ]
        },
        {
          "metadata": {
            "tags": null
          },
          "name": "stdout",
          "output_type": "stream",
          "text": [
            "Error fetching content: 410 Client Error: Gone for url: https://www.everydayhealth.com/diet-and-nutrition/0308/fruits-veggies-can-be-beauty-tools.aspx?xid=tw_everydayhealth_sf\n"
          ]
        },
        {
          "metadata": {
            "tags": null
          },
          "name": "stderr",
          "output_type": "stream",
          "text": [
            "Extracting content:  24%|██▍       | 1195/5000 [33:35<1:42:30,  1.62s/it]"
          ]
        },
        {
          "metadata": {
            "tags": null
          },
          "name": "stdout",
          "output_type": "stream",
          "text": [
            "Error fetching content: HTTPConnectionPool(host='yoz.io', port=80): Max retries exceeded with url: /r/3e?xid=tw_everydayhealth_sf (Caused by NameResolutionError(\"<urllib3.connection.HTTPConnection object at 0x7d7bf8952770>: Failed to resolve 'yoz.io' ([Errno -2] Name or service not known)\"))\n"
          ]
        },
        {
          "metadata": {
            "tags": null
          },
          "name": "stderr",
          "output_type": "stream",
          "text": [
            "Extracting content:  25%|██▌       | 1256/5000 [35:03<1:23:16,  1.33s/it]"
          ]
        },
        {
          "metadata": {
            "tags": null
          },
          "name": "stdout",
          "output_type": "stream",
          "text": [
            "Error fetching content: 404 Client Error: Not Found for url: https://www.everydayhealth.com/blog/trevis-life-with-multiple-sclerosis-ms/at-least-its-only-ms-not-cancer-really/?xid=tw_everydayhealth_sf\n"
          ]
        },
        {
          "metadata": {
            "tags": null
          },
          "name": "stderr",
          "output_type": "stream",
          "text": [
            "Extracting content:  26%|██▋       | 1323/5000 [36:49<1:12:00,  1.18s/it]"
          ]
        },
        {
          "metadata": {
            "tags": null
          },
          "name": "stdout",
          "output_type": "stream",
          "text": [
            "Error fetching content: HTTPConnectionPool(host='qa1.everydayhealth.com', port=80): Max retries exceeded with url: /emotional-health/0614/what-do-your-shoes-say-about-your-personality.aspx?xid=tw_everydayhealth_sf (Caused by NameResolutionError(\"<urllib3.connection.HTTPConnection object at 0x7d7bf8e9c490>: Failed to resolve 'qa1.everydayhealth.com' ([Errno -2] Name or service not known)\"))\n"
          ]
        },
        {
          "metadata": {
            "tags": null
          },
          "name": "stderr",
          "output_type": "stream",
          "text": [
            "\rExtracting content:  26%|██▋       | 1324/5000 [36:53<2:10:09,  2.12s/it]"
          ]
        },
        {
          "metadata": {
            "tags": null
          },
          "name": "stdout",
          "output_type": "stream",
          "text": [
            "Error fetching content: HTTPSConnectionPool(host='health.usnews.com', port=443): Read timed out. (read timeout=4)\n"
          ]
        },
        {
          "metadata": {
            "tags": null
          },
          "name": "stderr",
          "output_type": "stream",
          "text": [
            "Extracting content:  27%|██▋       | 1328/5000 [36:57<1:25:51,  1.40s/it]"
          ]
        },
        {
          "metadata": {
            "tags": null
          },
          "name": "stdout",
          "output_type": "stream",
          "text": [
            "Error fetching content: 404 Client Error: Not Found for url: http://www.sarahstanleyinspired.com/\n"
          ]
        },
        {
          "metadata": {
            "tags": null
          },
          "name": "stderr",
          "output_type": "stream",
          "text": [
            "Extracting content:  27%|██▋       | 1364/5000 [37:51<1:23:40,  1.38s/it]"
          ]
        },
        {
          "metadata": {
            "tags": null
          },
          "name": "stdout",
          "output_type": "stream",
          "text": [
            "Error fetching content: 410 Client Error: Gone for url: https://www.everydayhealth.com/diet-and-nutrition/0920/court-awards-seven-million-dollars-in-microwave-popcorn-damages.aspx?xid=tw_everydayhealth_sf\n"
          ]
        },
        {
          "metadata": {
            "tags": null
          },
          "name": "stderr",
          "output_type": "stream",
          "text": [
            "Extracting content:  29%|██▉       | 1449/5000 [39:59<1:20:27,  1.36s/it]"
          ]
        },
        {
          "metadata": {
            "tags": null
          },
          "name": "stdout",
          "output_type": "stream",
          "text": [
            "Error fetching content: 404 Client Error: Not Found for url: https://www.everydayhealth.com/blog/the-organized-caregiver/get-well-heeled-for-new-years-eve/?xid=tw_everydayhealth_20111227_heels\n"
          ]
        },
        {
          "metadata": {
            "tags": null
          },
          "name": "stderr",
          "output_type": "stream",
          "text": [
            "Extracting content:  30%|██▉       | 1498/5000 [41:12<1:34:01,  1.61s/it]"
          ]
        },
        {
          "metadata": {
            "tags": null
          },
          "name": "stdout",
          "output_type": "stream",
          "text": [
            "Error fetching content: ('Connection aborted.', HTTPException('got more than 100 headers'))\n"
          ]
        },
        {
          "metadata": {
            "tags": null
          },
          "name": "stderr",
          "output_type": "stream",
          "text": [
            "Extracting content:  30%|███       | 1508/5000 [41:26<1:16:07,  1.31s/it]"
          ]
        },
        {
          "metadata": {
            "tags": null
          },
          "name": "stdout",
          "output_type": "stream",
          "text": [
            "Error fetching content: 404 Client Error: Not Found for url: https://apps.apple.com/us/app/jillian-michaels-slim-down/id399841706?xid=tw_everydayhealth_sf\n"
          ]
        },
        {
          "metadata": {
            "tags": null
          },
          "name": "stderr",
          "output_type": "stream",
          "text": [
            "Extracting content:  30%|███       | 1523/5000 [41:50<1:19:17,  1.37s/it]"
          ]
        },
        {
          "metadata": {
            "tags": null
          },
          "name": "stdout",
          "output_type": "stream",
          "text": [
            "Error fetching content: 404 Client Error: Not Found for url: http://ow.ly/8zHET?xid=tw_everydayhealth\n"
          ]
        },
        {
          "metadata": {
            "tags": null
          },
          "name": "stderr",
          "output_type": "stream",
          "text": [
            "Extracting content:  31%|███       | 1529/5000 [42:00<1:27:20,  1.51s/it]"
          ]
        },
        {
          "metadata": {
            "tags": null
          },
          "name": "stdout",
          "output_type": "stream",
          "text": [
            "Error fetching content: 404 Client Error: Not Found for url: https://www.everydayhealth.com/blog/trevis-life-with-multiple-sclerosis-ms/multiple-sclerosis-and-a-second-wind/?xid=tw_everydayhealth_sf\n"
          ]
        },
        {
          "metadata": {
            "tags": null
          },
          "name": "stderr",
          "output_type": "stream",
          "text": [
            "Extracting content:  32%|███▏      | 1582/5000 [43:13<1:11:58,  1.26s/it]"
          ]
        },
        {
          "metadata": {
            "tags": null
          },
          "name": "stdout",
          "output_type": "stream",
          "text": [
            "Error fetching content: HTTPConnectionPool(host='qa1.everydayhealth.com', port=80): Max retries exceeded with url: /emotional-health/0614/what-do-your-shoes-say-about-your-personality.aspx?xid=tw_everydayhealth_sf (Caused by NameResolutionError(\"<urllib3.connection.HTTPConnection object at 0x7d7bfa0c1e40>: Failed to resolve 'qa1.everydayhealth.com' ([Errno -2] Name or service not known)\"))\n"
          ]
        },
        {
          "metadata": {
            "tags": null
          },
          "name": "stderr",
          "output_type": "stream",
          "text": [
            "Extracting content:  32%|███▏      | 1599/5000 [43:38<54:38,  1.04it/s]  "
          ]
        },
        {
          "metadata": {
            "tags": null
          },
          "name": "stdout",
          "output_type": "stream",
          "text": [
            "Error fetching content: 404 Client Error: Not Found for url: http://bit.ly/14e04NS\n"
          ]
        },
        {
          "metadata": {
            "tags": null
          },
          "name": "stderr",
          "output_type": "stream",
          "text": [
            "Extracting content:  32%|███▏      | 1601/5000 [43:44<1:57:09,  2.07s/it]"
          ]
        },
        {
          "metadata": {
            "tags": null
          },
          "name": "stdout",
          "output_type": "stream",
          "text": [
            "Error fetching content: HTTPConnectionPool(host='www.socialsecuritydisability.tv', port=80): Max retries exceeded with url: /social-security-disabling-conditions/psoriasis (Caused by NameResolutionError(\"<urllib3.connection.HTTPConnection object at 0x7d7bf93c3be0>: Failed to resolve 'www.socialsecuritydisability.tv' ([Errno -2] Name or service not known)\"))\n"
          ]
        },
        {
          "metadata": {
            "tags": null
          },
          "name": "stderr",
          "output_type": "stream",
          "text": [
            "Extracting content:  32%|███▏      | 1603/5000 [43:45<1:15:01,  1.33s/it]"
          ]
        },
        {
          "metadata": {
            "tags": null
          },
          "name": "stdout",
          "output_type": "stream",
          "text": [
            "Error fetching content: 404 Client Error: Not Found for url: http://bit.ly/SE23bp\n"
          ]
        },
        {
          "metadata": {
            "tags": null
          },
          "name": "stderr",
          "output_type": "stream",
          "text": [
            "Extracting content:  32%|███▏      | 1605/5000 [43:48<1:12:04,  1.27s/it]"
          ]
        },
        {
          "metadata": {
            "tags": null
          },
          "name": "stdout",
          "output_type": "stream",
          "text": [
            "Error fetching content: 404 Client Error: Not Found for url: http://bit.ly/xhvgao\n"
          ]
        },
        {
          "metadata": {
            "tags": null
          },
          "name": "stderr",
          "output_type": "stream",
          "text": [
            "Extracting content:  32%|███▏      | 1607/5000 [43:49<54:59,  1.03it/s]  "
          ]
        },
        {
          "metadata": {
            "tags": null
          },
          "name": "stdout",
          "output_type": "stream",
          "text": [
            "Error fetching content: 404 Client Error: Not Found for url: http://bit.ly/xQ8eAn\n"
          ]
        },
        {
          "metadata": {
            "tags": null
          },
          "name": "stderr",
          "output_type": "stream",
          "text": [
            "\rExtracting content:  32%|███▏      | 1608/5000 [43:50<42:43,  1.32it/s]"
          ]
        },
        {
          "metadata": {
            "tags": null
          },
          "name": "stdout",
          "output_type": "stream",
          "text": [
            "Error fetching content: 404 Client Error: Not Found for url: http://bit.ly/YoyPRe\n"
          ]
        },
        {
          "metadata": {
            "tags": null
          },
          "name": "stderr",
          "output_type": "stream",
          "text": [
            "\rExtracting content:  32%|███▏      | 1609/5000 [43:50<34:11,  1.65it/s]"
          ]
        },
        {
          "metadata": {
            "tags": null
          },
          "name": "stdout",
          "output_type": "stream",
          "text": [
            "Error fetching content: 404 Client Error: Not Found for url: http://bit.ly/YoyPRe\n"
          ]
        },
        {
          "metadata": {
            "tags": null
          },
          "name": "stderr",
          "output_type": "stream",
          "text": [
            "Extracting content:  32%|███▏      | 1611/5000 [43:51<36:05,  1.56it/s]"
          ]
        },
        {
          "metadata": {
            "tags": null
          },
          "name": "stdout",
          "output_type": "stream",
          "text": [
            "Error fetching content: 404 Client Error: Not Found for url: http://bit.ly/Z13dhr\n"
          ]
        },
        {
          "metadata": {
            "tags": null
          },
          "name": "stderr",
          "output_type": "stream",
          "text": [
            "Extracting content:  33%|███▎      | 1659/5000 [45:05<1:11:38,  1.29s/it]"
          ]
        },
        {
          "metadata": {
            "tags": null
          },
          "name": "stdout",
          "output_type": "stream",
          "text": [
            "Error fetching content: 404 Client Error: Not Found for url: https://www.everydayhealth.com/blog/the-organized-caregiver/end-of-life-caregiving/?xid=tw_everydayhealth_sf\n"
          ]
        },
        {
          "metadata": {
            "tags": null
          },
          "name": "stderr",
          "output_type": "stream",
          "text": [
            "Extracting content:  34%|███▎      | 1679/5000 [45:33<1:11:43,  1.30s/it]"
          ]
        },
        {
          "metadata": {
            "tags": null
          },
          "name": "stdout",
          "output_type": "stream",
          "text": [
            "Error fetching content: 410 Client Error: Gone for url: https://www.everydayhealth.com/diet-and-nutrition/0308/fruits-veggies-can-be-beauty-tools.aspx?xid=tw_everydayhealth_sf\n"
          ]
        },
        {
          "metadata": {
            "tags": null
          },
          "name": "stderr",
          "output_type": "stream",
          "text": [
            "Extracting content:  34%|███▎      | 1687/5000 [45:43<1:18:47,  1.43s/it]"
          ]
        },
        {
          "metadata": {
            "tags": null
          },
          "name": "stdout",
          "output_type": "stream",
          "text": [
            "Error fetching content: 404 Client Error: Not Found for url: https://www.everydayhealth.com/blog/the-organized-caregiver/get-well-heeled-for-new-years-eve/?xid=tw_everydayhealth_20111227_heels\n"
          ]
        },
        {
          "metadata": {
            "tags": null
          },
          "name": "stderr",
          "output_type": "stream",
          "text": [
            "Extracting content:  34%|███▍      | 1698/5000 [46:02<1:18:09,  1.42s/it]"
          ]
        },
        {
          "metadata": {
            "tags": null
          },
          "name": "stdout",
          "output_type": "stream",
          "text": [
            "Error fetching content: 410 Client Error: Gone for url: https://www.everydayhealth.com/diet-and-nutrition/0308/fruits-veggies-can-be-beauty-tools.aspx?xid=tw_everydayhealth_sf\n"
          ]
        },
        {
          "metadata": {
            "tags": null
          },
          "name": "stderr",
          "output_type": "stream",
          "text": [
            "Extracting content:  35%|███▍      | 1727/5000 [46:44<1:07:05,  1.23s/it]"
          ]
        },
        {
          "metadata": {
            "tags": null
          },
          "name": "stdout",
          "output_type": "stream",
          "text": [
            "Error fetching content: 404 Client Error: Not Found for url: https://www.everydayhealth.com/blog/life-with-breast-cancer/should-you-google-your-medical-condition/?xid=tw_everydayhealth_sf\n"
          ]
        },
        {
          "metadata": {
            "tags": null
          },
          "name": "stderr",
          "output_type": "stream",
          "text": [
            "\rExtracting content:  35%|███▍      | 1728/5000 [46:45<1:03:05,  1.16s/it]"
          ]
        },
        {
          "metadata": {
            "tags": null
          },
          "name": "stdout",
          "output_type": "stream",
          "text": [
            "Error fetching content: 404 Client Error: Not Found for url: https://www.everydayhealth.com/blog/trevis-life-with-multiple-sclerosis-ms/life-with-ms-can-be-have-beautiful-limitations/?xid=tw_everydayhealth_sf\n"
          ]
        },
        {
          "metadata": {
            "tags": null
          },
          "name": "stderr",
          "output_type": "stream",
          "text": [
            "Extracting content:  38%|███▊      | 1894/5000 [51:05<1:25:39,  1.65s/it]"
          ]
        },
        {
          "metadata": {
            "tags": null
          },
          "name": "stdout",
          "output_type": "stream",
          "text": [
            "Error fetching content: 410 Client Error: Gone for url: https://www.everydayhealth.com/healthy-living/0606/21-year-old-chicago-man-becomes-an-md.aspx?xid=tw_everydayhealth_sf\n"
          ]
        },
        {
          "metadata": {
            "tags": null
          },
          "name": "stderr",
          "output_type": "stream",
          "text": [
            "Extracting content:  39%|███▉      | 1939/5000 [52:20<1:10:11,  1.38s/it]"
          ]
        },
        {
          "metadata": {
            "tags": null
          },
          "name": "stdout",
          "output_type": "stream",
          "text": [
            "Error fetching content: HTTPConnectionPool(host='qa1.everydayhealth.com', port=80): Max retries exceeded with url: /emotional-health/0614/what-do-your-shoes-say-about-your-personality.aspx?xid=tw_everydayhealth_sf (Caused by NameResolutionError(\"<urllib3.connection.HTTPConnection object at 0x7d7bf8a60b50>: Failed to resolve 'qa1.everydayhealth.com' ([Errno -2] Name or service not known)\"))\n"
          ]
        },
        {
          "metadata": {
            "tags": null
          },
          "name": "stderr",
          "output_type": "stream",
          "text": [
            "Extracting content:  39%|███▉      | 1951/5000 [52:39<53:00,  1.04s/it]  "
          ]
        },
        {
          "metadata": {
            "tags": null
          },
          "name": "stdout",
          "output_type": "stream",
          "text": [
            "Error fetching content: 404 Client Error: Not Found for url: http://bit.ly/WmYbJG\n"
          ]
        },
        {
          "metadata": {
            "tags": null
          },
          "name": "stderr",
          "output_type": "stream",
          "text": [
            "Extracting content:  39%|███▉      | 1958/5000 [52:51<1:27:10,  1.72s/it]"
          ]
        },
        {
          "metadata": {
            "tags": null
          },
          "name": "stdout",
          "output_type": "stream",
          "text": [
            "Error fetching content: 410 Client Error: Gone for url: https://www.everydayhealth.com/diet-and-nutrition/0308/fruits-veggies-can-be-beauty-tools.aspx?xid=tw_everydayhealth_sf\n"
          ]
        },
        {
          "metadata": {
            "tags": null
          },
          "name": "stderr",
          "output_type": "stream",
          "text": [
            "Extracting content:  40%|███▉      | 1993/5000 [53:48<2:05:38,  2.51s/it]"
          ]
        },
        {
          "metadata": {
            "tags": null
          },
          "name": "stdout",
          "output_type": "stream",
          "text": [
            "Error fetching content: HTTPConnectionPool(host='therealbears.org', port=80): Max retries exceeded with url: / (Caused by ConnectTimeoutError(<urllib3.connection.HTTPConnection object at 0x7d7bf86db310>, 'Connection to therealbears.org timed out. (connect timeout=4)'))\n"
          ]
        },
        {
          "metadata": {
            "tags": null
          },
          "name": "stderr",
          "output_type": "stream",
          "text": [
            "Extracting content:  40%|████      | 2001/5000 [54:00<1:10:40,  1.41s/it]"
          ]
        },
        {
          "metadata": {
            "tags": null
          },
          "name": "stdout",
          "output_type": "stream",
          "text": [
            "Error fetching content: 403 Client Error: Forbidden for url: https://www.cspinet.org/article/xtreme-eating-2013-extremism-running-amok-americas-restaurant-chains\n"
          ]
        },
        {
          "metadata": {
            "tags": null
          },
          "name": "stderr",
          "output_type": "stream",
          "text": [
            "Extracting content:  40%|████      | 2005/5000 [54:08<1:31:27,  1.83s/it]"
          ]
        },
        {
          "metadata": {
            "tags": null
          },
          "name": "stdout",
          "output_type": "stream",
          "text": [
            "Error fetching content: 404 Client Error: Not Found for url: https://www.cbsnews.com/2100-500368_162-972825.html/\n"
          ]
        },
        {
          "metadata": {
            "tags": null
          },
          "name": "stderr",
          "output_type": "stream",
          "text": [
            "\rExtracting content:  40%|████      | 2006/5000 [54:08<1:07:31,  1.35s/it]"
          ]
        },
        {
          "metadata": {
            "tags": null
          },
          "name": "stdout",
          "output_type": "stream",
          "text": [
            "Error fetching content: 404 Client Error: Not Found for url: http://bit.ly/10C438E\n"
          ]
        },
        {
          "metadata": {
            "tags": null
          },
          "name": "stderr",
          "output_type": "stream",
          "text": [
            "Extracting content:  40%|████      | 2008/5000 [54:09<43:53,  1.14it/s]"
          ]
        },
        {
          "metadata": {
            "tags": null
          },
          "name": "stdout",
          "output_type": "stream",
          "text": [
            "Error fetching content: 404 Client Error: Not Found for url: http://bit.ly/1027mQF\n"
          ]
        },
        {
          "metadata": {
            "tags": null
          },
          "name": "stderr",
          "output_type": "stream",
          "text": [
            "\rExtracting content:  40%|████      | 2009/5000 [54:09<34:08,  1.46it/s]"
          ]
        },
        {
          "metadata": {
            "tags": null
          },
          "name": "stdout",
          "output_type": "stream",
          "text": [
            "Error fetching content: 404 Client Error: Not Found for url: http://bit.ly/XdEceY\n"
          ]
        },
        {
          "metadata": {
            "tags": null
          },
          "name": "stderr",
          "output_type": "stream",
          "text": [
            "Extracting content:  41%|████      | 2043/5000 [55:02<1:06:42,  1.35s/it]"
          ]
        },
        {
          "metadata": {
            "tags": null
          },
          "name": "stdout",
          "output_type": "stream",
          "text": [
            "Error fetching content: HTTPConnectionPool(host='qa1.everydayhealth.com', port=80): Max retries exceeded with url: /weight/0322/could-two-words-help-you-resist-temptation.aspx?xid=tw_everydayhealth_sf (Caused by NameResolutionError(\"<urllib3.connection.HTTPConnection object at 0x7d7bf898cbb0>: Failed to resolve 'qa1.everydayhealth.com' ([Errno -2] Name or service not known)\"))\n"
          ]
        },
        {
          "metadata": {
            "tags": null
          },
          "name": "stderr",
          "output_type": "stream",
          "text": [
            "Extracting content:  41%|████      | 2057/5000 [55:22<59:08,  1.21s/it]  "
          ]
        },
        {
          "output_type": "stream",
          "name": "stdout",
          "text": [
            "Error fetching content: 403 Client Error: Forbidden for url: http://www.southbeachdiet.com/diet/bathing-suits-for-your-body-type?xid=tw_everydayhealth_sf\n"
          ]
        },
        {
          "output_type": "stream",
          "name": "stderr",
          "text": [
            "Extracting content:  42%|████▏     | 2084/5000 [56:06<1:02:23,  1.28s/it]"
          ]
        },
        {
          "output_type": "stream",
          "name": "stdout",
          "text": [
            "Error fetching content: 404 Client Error: Not Found for url: https://www.facebook.com/DailyGlow/app_107727025983833?xid=tw_DG_sf\n"
          ]
        },
        {
          "output_type": "stream",
          "name": "stderr",
          "text": [
            "Extracting content:  42%|████▏     | 2094/5000 [56:21<1:18:05,  1.61s/it]"
          ]
        },
        {
          "output_type": "stream",
          "name": "stdout",
          "text": [
            "Error fetching content: ('Connection aborted.', HTTPException('got more than 100 headers'))\n"
          ]
        },
        {
          "output_type": "stream",
          "name": "stderr",
          "text": [
            "Extracting content:  42%|████▏     | 2107/5000 [56:42<1:24:37,  1.76s/it]"
          ]
        },
        {
          "output_type": "stream",
          "name": "stdout",
          "text": [
            "Error fetching content: 410 Client Error: Gone for url: https://www.everydayhealth.com/diet-and-nutrition/0308/fruits-veggies-can-be-beauty-tools.aspx?xid=tw_everydayhealth_sf\n"
          ]
        },
        {
          "output_type": "stream",
          "name": "stderr",
          "text": [
            "Extracting content:  43%|████▎     | 2127/5000 [57:14<46:54,  1.02it/s]"
          ]
        },
        {
          "output_type": "stream",
          "name": "stdout",
          "text": [
            "Error fetching content: HTTPConnectionPool(host='qa1.everydayhealth.com', port=80): Max retries exceeded with url: /emotional-health/0614/what-do-your-shoes-say-about-your-personality.aspx?xid=tw_everydayhealth_sf (Caused by NameResolutionError(\"<urllib3.connection.HTTPConnection object at 0x7d7bf9526950>: Failed to resolve 'qa1.everydayhealth.com' ([Errno -2] Name or service not known)\"))\n"
          ]
        },
        {
          "output_type": "stream",
          "name": "stderr",
          "text": [
            "Extracting content:  43%|████▎     | 2146/5000 [57:39<1:00:25,  1.27s/it]"
          ]
        },
        {
          "output_type": "stream",
          "name": "stdout",
          "text": [
            "Error fetching content: 410 Client Error: Gone for url: https://www.everydayhealth.com/healthy-living-pictures/consumer-electronics-show-health.aspx#/slide-1\n"
          ]
        },
        {
          "output_type": "stream",
          "name": "stderr",
          "text": [
            "Extracting content:  43%|████▎     | 2165/5000 [58:11<1:12:51,  1.54s/it]"
          ]
        },
        {
          "output_type": "stream",
          "name": "stdout",
          "text": [
            "Error fetching content: 410 Client Error: Gone for url: https://www.everydayhealth.com/blogs/the-sex-blog/yes-sex-really-does-get-better-with-age/\n"
          ]
        },
        {
          "output_type": "stream",
          "name": "stderr",
          "text": [
            "Extracting content:  44%|████▍     | 2200/5000 [59:07<1:12:44,  1.56s/it]"
          ]
        },
        {
          "output_type": "stream",
          "name": "stdout",
          "text": [
            "Error fetching content: 404 Client Error: Not Found for url: https://www.everydayhealth.com/blog/trevis-life-with-multiple-sclerosis-ms/a-post-holidays-check-in-hows-your-ms-today/?xid=tw_everydayhealth_sf\n"
          ]
        },
        {
          "output_type": "stream",
          "name": "stderr",
          "text": [
            "Extracting content:  44%|████▍     | 2203/5000 [59:13<1:20:21,  1.72s/it]"
          ]
        },
        {
          "output_type": "stream",
          "name": "stdout",
          "text": [
            "Error fetching content: 410 Client Error: Gone for url: https://www.everydayhealth.com/healthy-living-pictures/consumer-electronics-show-health.aspx#/slide-1\n"
          ]
        },
        {
          "output_type": "stream",
          "name": "stderr",
          "text": [
            "Extracting content:  45%|████▍     | 2228/5000 [59:49<58:51,  1.27s/it]  "
          ]
        },
        {
          "output_type": "stream",
          "name": "stdout",
          "text": [
            "Error fetching content: 404 Client Error: Not Found for url: http://trib.al/hUgp5s%22\n"
          ]
        },
        {
          "output_type": "stream",
          "name": "stderr",
          "text": [
            "Extracting content:  46%|████▌     | 2285/5000 [1:01:15<1:01:16,  1.35s/it]"
          ]
        },
        {
          "output_type": "stream",
          "name": "stdout",
          "text": [
            "Error fetching content: 404 Client Error: Not Found for url: https://www.everydayhealth.com/blog/health-in-the-news/2011/12/06/instant-soups-in-a-cup-can-cause-dangerous-burns-in-kids/?xid=tw_everydayhealth_20111206_soup\n"
          ]
        },
        {
          "output_type": "stream",
          "name": "stderr",
          "text": [
            "\rExtracting content:  46%|████▌     | 2286/5000 [1:01:17<59:24,  1.31s/it]  "
          ]
        },
        {
          "output_type": "stream",
          "name": "stdout",
          "text": [
            "Error fetching content: 404 Client Error: Not Found for url: https://www.everydayhealth.com/blog/health-in-the-news/2011/12/06/instant-soups-in-a-cup-can-cause-dangerous-burns-in-kids/?xid=tw_everydayhealth_20111206_soup\n"
          ]
        },
        {
          "output_type": "stream",
          "name": "stderr",
          "text": [
            "Extracting content:  46%|████▌     | 2291/5000 [1:01:22<48:15,  1.07s/it]"
          ]
        },
        {
          "output_type": "stream",
          "name": "stdout",
          "text": [
            "Error fetching content: 410 Client Error: Gone for url: https://www.everydayhealth.com/healthy-living-pictures/consumer-electronics-show-health.aspx#/slide-1\n"
          ]
        },
        {
          "output_type": "stream",
          "name": "stderr",
          "text": [
            "Extracting content:  47%|████▋     | 2356/5000 [1:02:59<1:06:37,  1.51s/it]"
          ]
        },
        {
          "output_type": "stream",
          "name": "stdout",
          "text": [
            "Error fetching content: 410 Client Error: Gone for url: https://www.everydayhealth.com/healthy-living-pictures/consumer-electronics-show-health.aspx#/slide-1\n"
          ]
        },
        {
          "output_type": "stream",
          "name": "stderr",
          "text": [
            "Extracting content:  47%|████▋     | 2364/5000 [1:03:11<58:20,  1.33s/it]  "
          ]
        },
        {
          "output_type": "stream",
          "name": "stdout",
          "text": [
            "Error fetching content: 404 Client Error: Not Found for url: http://trib.al/iqTm4U%22\n"
          ]
        },
        {
          "output_type": "stream",
          "name": "stderr",
          "text": [
            "Extracting content:  48%|████▊     | 2387/5000 [1:03:47<1:10:30,  1.62s/it]"
          ]
        },
        {
          "output_type": "stream",
          "name": "stdout",
          "text": [
            "Error fetching content: 410 Client Error: Gone for url: https://www.everydayhealth.com/healthy-living-pictures/consumer-electronics-show-health.aspx#/slide-1\n"
          ]
        },
        {
          "output_type": "stream",
          "name": "stderr",
          "text": [
            "Extracting content:  48%|████▊     | 2399/5000 [1:04:05<1:08:41,  1.58s/it]"
          ]
        },
        {
          "output_type": "stream",
          "name": "stdout",
          "text": [
            "Error fetching content: 404 Client Error: Not Found for url: https://www.everydayhealth.com/blog/trevis-life-with-multiple-sclerosis-ms/is-routine-important-to-your-ms/?xid=tw_everydayhealth_sf\n"
          ]
        },
        {
          "output_type": "stream",
          "name": "stderr",
          "text": [
            "Extracting content:  49%|████▉     | 2466/5000 [1:05:55<1:03:41,  1.51s/it]"
          ]
        },
        {
          "output_type": "stream",
          "name": "stdout",
          "text": [
            "Error fetching content: 404 Client Error: Not Found for url: https://www.everydayhealth.com/blog/health-in-the-news/2011/12/08/should-nuns-be-popping-birth-control-pills/?xid=tw_everydayhealth_20111208_nuns\n"
          ]
        },
        {
          "output_type": "stream",
          "name": "stderr",
          "text": [
            "Extracting content:  50%|████▉     | 2490/5000 [1:06:33<1:14:45,  1.79s/it]/usr/lib/python3.10/html/parser.py:170: XMLParsedAsHTMLWarning: It looks like you're parsing an XML document using an HTML parser. If this really is an HTML document (maybe it's XHTML?), you can ignore or filter this warning. If it's XML, you should know that using an XML parser will be more reliable. To parse this document as XML, make sure you have the lxml package installed, and pass the keyword argument `features=\"xml\"` into the BeautifulSoup constructor.\n",
            "  k = self.parse_starttag(i)\n",
            "Extracting content:  51%|█████     | 2559/5000 [1:08:17<52:20,  1.29s/it]  "
          ]
        },
        {
          "output_type": "stream",
          "name": "stdout",
          "text": [
            "Error fetching content: 404 Client Error: Not Found for url: https://t.co/QB1SbTE%E2%80%A6\n"
          ]
        },
        {
          "output_type": "stream",
          "name": "stderr",
          "text": [
            "\rExtracting content:  51%|█████     | 2560/5000 [1:08:18<44:04,  1.08s/it]"
          ]
        },
        {
          "output_type": "stream",
          "name": "stdout",
          "text": [
            "Error fetching content: 404 Client Error: Not Found for url: https://t.co/1%E2%80%A6\n"
          ]
        },
        {
          "output_type": "stream",
          "name": "stderr",
          "text": [
            "Extracting content:  51%|█████▏    | 2565/5000 [1:08:25<51:00,  1.26s/it]  "
          ]
        },
        {
          "output_type": "stream",
          "name": "stdout",
          "text": [
            "Error fetching content: 404 Client Error: Not Found for url: https://t.co/cI%E2%80%A6\n"
          ]
        },
        {
          "output_type": "stream",
          "name": "stderr",
          "text": [
            "\rExtracting content:  51%|█████▏    | 2566/5000 [1:08:26<40:41,  1.00s/it]"
          ]
        },
        {
          "output_type": "stream",
          "name": "stdout",
          "text": [
            "Error fetching content: 404 Client Error: Not Found for url: http://pbs.twimg.com/media/B1IZ9hmCEAEQrfj.jpg\n"
          ]
        },
        {
          "output_type": "stream",
          "name": "stderr",
          "text": [
            "Extracting content:  51%|█████▏    | 2568/5000 [1:08:27<31:58,  1.27it/s]"
          ]
        },
        {
          "output_type": "stream",
          "name": "stdout",
          "text": [
            "Error fetching content: 404 Client Error: Not Found for url: http://pbs.twimg.com/media/B1IVu2QCAAAM8or.jpg\n"
          ]
        },
        {
          "output_type": "stream",
          "name": "stderr",
          "text": [
            "Extracting content:  51%|█████▏    | 2570/5000 [1:08:29<32:20,  1.25it/s]"
          ]
        },
        {
          "output_type": "stream",
          "name": "stdout",
          "text": [
            "Error fetching content: 404 Client Error: Not Found for url: http://pbs.twimg.com/media/B1G_rDaCAAANet9.jpg\n"
          ]
        },
        {
          "output_type": "stream",
          "name": "stderr",
          "text": [
            "\rExtracting content:  51%|█████▏    | 2571/5000 [1:08:29<27:31,  1.47it/s]"
          ]
        },
        {
          "output_type": "stream",
          "name": "stdout",
          "text": [
            "Error fetching content: 404 Client Error: Not Found for url: http://pbs.twimg.com/media/B1G_aLSCAAAeyBU.jpg\n"
          ]
        },
        {
          "output_type": "stream",
          "name": "stderr",
          "text": [
            "Extracting content:  52%|█████▏    | 2587/5000 [1:08:54<55:53,  1.39s/it]  "
          ]
        },
        {
          "output_type": "stream",
          "name": "stdout",
          "text": [
            "Error fetching content: 404 Client Error: Not Found for url: https://t.co/%E2%80%A6\n"
          ]
        },
        {
          "output_type": "stream",
          "name": "stderr",
          "text": [
            "\rExtracting content:  52%|█████▏    | 2588/5000 [1:08:56<1:01:29,  1.53s/it]"
          ]
        },
        {
          "output_type": "stream",
          "name": "stdout",
          "text": [
            "Error fetching content: Failed to parse: https://t…\n"
          ]
        },
        {
          "output_type": "stream",
          "name": "stderr",
          "text": [
            "Extracting content:  52%|█████▏    | 2609/5000 [1:09:23<36:25,  1.09it/s]"
          ]
        },
        {
          "output_type": "stream",
          "name": "stdout",
          "text": [
            "Error fetching content: 404 Client Error: Not Found for url: http://bitly.com/1uzKHzd\n"
          ]
        },
        {
          "output_type": "stream",
          "name": "stderr",
          "text": [
            "\rExtracting content:  52%|█████▏    | 2610/5000 [1:09:24<42:03,  1.06s/it]"
          ]
        },
        {
          "output_type": "stream",
          "name": "stdout",
          "text": [
            "Error fetching content: 404 Client Error: Not Found for url: https://1.usa.gov/1wVzirD/\n"
          ]
        },
        {
          "output_type": "stream",
          "name": "stderr",
          "text": [
            "Extracting content:  52%|█████▏    | 2617/5000 [1:09:33<42:19,  1.07s/it]"
          ]
        },
        {
          "output_type": "stream",
          "name": "stdout",
          "text": [
            "Error fetching content: 404 Client Error: Not Found for url: https://t.co/wg1%E2%80%A6\n"
          ]
        },
        {
          "output_type": "stream",
          "name": "stderr",
          "text": [
            "Extracting content:  53%|█████▎    | 2648/5000 [1:10:16<35:55,  1.09it/s]"
          ]
        },
        {
          "output_type": "stream",
          "name": "stdout",
          "text": [
            "Error fetching content: 403 Client Error: Blocked for url: https://www.reddit.com/r/IAmA/comments/2gnn1r/iama_human_guinea_pig_getting_the_newest_ebola/\n"
          ]
        },
        {
          "output_type": "stream",
          "name": "stderr",
          "text": [
            "Extracting content:  53%|█████▎    | 2662/5000 [1:10:35<42:21,  1.09s/it]"
          ]
        },
        {
          "output_type": "stream",
          "name": "stdout",
          "text": [
            "Error fetching content: 404 Client Error: Not Found for url: https://t.co/iq%E2%80%A6\n"
          ]
        },
        {
          "output_type": "stream",
          "name": "stderr",
          "text": [
            "Extracting content:  54%|█████▎    | 2675/5000 [1:10:51<51:25,  1.33s/it]  "
          ]
        },
        {
          "output_type": "stream",
          "name": "stdout",
          "text": [
            "Error fetching content: 404 Client Error: Not Found for url: https://t.co/QLd4ufT%E2%80%A6\n",
            "Error fetching content: Failed to parse: http://t.c…\n"
          ]
        },
        {
          "output_type": "stream",
          "name": "stderr",
          "text": [
            "Extracting content:  54%|█████▍    | 2695/5000 [1:11:20<1:25:09,  2.22s/it]"
          ]
        },
        {
          "output_type": "stream",
          "name": "stdout",
          "text": [
            "Error fetching content: 404 Client Error: Not Found for url: http://webtv.un.org/live-now/watch/briefing-to-member-states-on-the-%E2%80%9Cebola-outbreak-in-west-africa%E2%80%9D/2730069558001\n"
          ]
        },
        {
          "output_type": "stream",
          "name": "stderr",
          "text": [
            "Extracting content:  54%|█████▍    | 2700/5000 [1:11:28<1:00:08,  1.57s/it]"
          ]
        },
        {
          "output_type": "stream",
          "name": "stdout",
          "text": [
            "Error fetching content: 404 Client Error: Not Found for url: https://t.co/m2%E2%80%A6\n"
          ]
        },
        {
          "output_type": "stream",
          "name": "stderr",
          "text": [
            "Extracting content:  54%|█████▍    | 2715/5000 [1:11:48<38:18,  1.01s/it]"
          ]
        },
        {
          "output_type": "stream",
          "name": "stdout",
          "text": [
            "Error fetching content: 404 Client Error: Not Found for url: https://t.co/Xul%E2%80%A6\n"
          ]
        },
        {
          "output_type": "stream",
          "name": "stderr",
          "text": [
            "Extracting content:  54%|█████▍    | 2719/5000 [1:11:53<36:25,  1.04it/s]"
          ]
        },
        {
          "output_type": "stream",
          "name": "stdout",
          "text": [
            "Error fetching content: 404 Client Error: Not Found for url: http://pbs.twimg.com/media/BvkgOleIEAAad3k.jpg\n"
          ]
        },
        {
          "output_type": "stream",
          "name": "stderr",
          "text": [
            "Extracting content:  54%|█████▍    | 2721/5000 [1:11:56<46:32,  1.23s/it]"
          ]
        },
        {
          "output_type": "stream",
          "name": "stdout",
          "text": [
            "Error fetching content: Failed to parse: http://…\n"
          ]
        },
        {
          "output_type": "stream",
          "name": "stderr",
          "text": [
            "Extracting content:  55%|█████▍    | 2729/5000 [1:12:08<1:04:48,  1.71s/it]"
          ]
        },
        {
          "output_type": "stream",
          "name": "stdout",
          "text": [
            "Error fetching content: Failed to parse: http://t.co…\n"
          ]
        },
        {
          "output_type": "stream",
          "name": "stderr",
          "text": [
            "Extracting content:  55%|█████▍    | 2744/5000 [1:12:24<40:17,  1.07s/it]"
          ]
        },
        {
          "output_type": "stream",
          "name": "stdout",
          "text": [
            "Error fetching content: 410 Client Error: Gone for url: http://thechart.blogs.cnn.com/2014/08/12/hand-sanitizer-doesnt-help-in-schools/\n"
          ]
        },
        {
          "output_type": "stream",
          "name": "stderr",
          "text": [
            "Extracting content:  55%|█████▍    | 2747/5000 [1:12:27<41:57,  1.12s/it]"
          ]
        },
        {
          "output_type": "stream",
          "name": "stdout",
          "text": [
            "Error fetching content: 404 Client Error: Not Found for url: http://edition.cnn.com/article/2014/08/08/workout-mom-bottles-and-barbells-instagram?hpt=hln10_5\n"
          ]
        },
        {
          "output_type": "stream",
          "name": "stderr",
          "text": [
            "Extracting content:  55%|█████▌    | 2759/5000 [1:12:45<48:25,  1.30s/it]"
          ]
        },
        {
          "output_type": "stream",
          "name": "stdout",
          "text": [
            "Error fetching content: 410 Client Error: Gone for url: http://outfront.blogs.cnn.com/2014/05/16/is-gluten-free-food-a-joke/\n"
          ]
        },
        {
          "output_type": "stream",
          "name": "stderr",
          "text": [
            "Extracting content:  55%|█████▌    | 2766/5000 [1:12:56<55:11,  1.48s/it]  "
          ]
        },
        {
          "output_type": "stream",
          "name": "stdout",
          "text": [
            "Error fetching content: 404 Client Error: Not Found for url: https://www.self.com/flash/nutrition/2014/07/10-genius-kitchen-hacks-will-seriously-change-life\n"
          ]
        },
        {
          "output_type": "stream",
          "name": "stderr",
          "text": [
            "\rExtracting content:  55%|█████▌    | 2767/5000 [1:12:57<45:33,  1.22s/it]"
          ]
        },
        {
          "output_type": "stream",
          "name": "stdout",
          "text": [
            "Error fetching content: 404 Client Error: Not Found for url: https://t.co/JpTPtMTjy%E2%80%A6\n"
          ]
        },
        {
          "output_type": "stream",
          "name": "stderr",
          "text": [
            "Extracting content:  56%|█████▌    | 2793/5000 [1:13:36<44:07,  1.20s/it]"
          ]
        },
        {
          "output_type": "stream",
          "name": "stdout",
          "text": [
            "Error fetching content: 404 Client Error: Not Found for url: http://edition.cnn.com/video/2014/07/29/man-loses-100-lbs-plant-based-diet\n"
          ]
        },
        {
          "output_type": "stream",
          "name": "stderr",
          "text": [
            "Extracting content:  56%|█████▌    | 2795/5000 [1:13:39<46:35,  1.27s/it]"
          ]
        },
        {
          "output_type": "stream",
          "name": "stdout",
          "text": [
            "Error fetching content: 410 Client Error: Gone for url: http://thechart.blogs.cnn.com/2014/07/28/even-a-5-minute-run-can-help-prevent-heart-disease/\n"
          ]
        },
        {
          "output_type": "stream",
          "name": "stderr",
          "text": [
            "Extracting content:  56%|█████▌    | 2797/5000 [1:13:42<54:28,  1.48s/it]"
          ]
        },
        {
          "output_type": "stream",
          "name": "stdout",
          "text": [
            "Error fetching content: 403 Client Error: Forbidden for url: http://www.preview.cnn.com/2014/07/28/health/irpt-weight-loss-benji-kurtz/index.html\n"
          ]
        },
        {
          "output_type": "stream",
          "name": "stderr",
          "text": [
            "\rExtracting content:  56%|█████▌    | 2798/5000 [1:13:44<52:54,  1.44s/it]"
          ]
        },
        {
          "output_type": "stream",
          "name": "stdout",
          "text": [
            "Error fetching content: 403 Client Error: Forbidden for url: http://www.preview.cnn.com/2014/07/28/health/irpt-weight-loss-benji-kurtz/index.html\n"
          ]
        },
        {
          "output_type": "stream",
          "name": "stderr",
          "text": [
            "Extracting content:  56%|█████▌    | 2803/5000 [1:13:52<1:03:35,  1.74s/it]"
          ]
        },
        {
          "output_type": "stream",
          "name": "stdout",
          "text": [
            "Error fetching content: 410 Client Error: Gone for url: http://thechart.blogs.cnn.com/2014/07/24/acetaminophen-may-not-relieve-back-pain/\n"
          ]
        },
        {
          "output_type": "stream",
          "name": "stderr",
          "text": [
            "Extracting content:  56%|█████▌    | 2811/5000 [1:14:03<39:58,  1.10s/it]"
          ]
        },
        {
          "output_type": "stream",
          "name": "stdout",
          "text": [
            "Error fetching content: 410 Client Error: Gone for url: http://thechart.blogs.cnn.com/2014/07/22/genetics-play-a-bigger-role-than-environmental-causes-for-autism/\n"
          ]
        },
        {
          "output_type": "stream",
          "name": "stderr",
          "text": [
            "Extracting content:  57%|█████▋    | 2826/5000 [1:14:19<34:09,  1.06it/s]"
          ]
        },
        {
          "output_type": "stream",
          "name": "stdout",
          "text": [
            "Error fetching content: 404 Client Error: Not Found for url: https://t.co/o%E2%80%A6\n"
          ]
        },
        {
          "output_type": "stream",
          "name": "stderr",
          "text": [
            "\rExtracting content:  57%|█████▋    | 2827/5000 [1:14:19<31:33,  1.15it/s]"
          ]
        },
        {
          "output_type": "stream",
          "name": "stdout",
          "text": [
            "Error fetching content: 404 Client Error: Not Found for url: https://www.self.com/flash/one-minute-master-class/2014/07/crossfit-games-competitor-amanda-douglas/\n"
          ]
        },
        {
          "output_type": "stream",
          "name": "stderr",
          "text": [
            "Extracting content:  57%|█████▋    | 2829/5000 [1:14:21<27:04,  1.34it/s]"
          ]
        },
        {
          "output_type": "stream",
          "name": "stdout",
          "text": [
            "Error fetching content: 410 Client Error: Gone for url: http://thechart.blogs.cnn.com/2014/07/15/babies-want-to-speak-as-early-as-7-months/\n"
          ]
        },
        {
          "output_type": "stream",
          "name": "stderr",
          "text": [
            "Extracting content:  57%|█████▋    | 2834/5000 [1:14:27<38:47,  1.07s/it]"
          ]
        },
        {
          "output_type": "stream",
          "name": "stdout",
          "text": [
            "Error fetching content: 410 Client Error: Gone for url: http://thechart.blogs.cnn.com/2014/07/14/child-medication-measurements-confuse-parents/\n"
          ]
        },
        {
          "output_type": "stream",
          "name": "stderr",
          "text": [
            "Extracting content:  57%|█████▋    | 2836/5000 [1:14:29<37:03,  1.03s/it]"
          ]
        },
        {
          "output_type": "stream",
          "name": "stdout",
          "text": [
            "Error fetching content: 404 Client Error: Not Found for url: https://t.co/W3Wd6p%E2%80%A6\n"
          ]
        },
        {
          "output_type": "stream",
          "name": "stderr",
          "text": [
            "\rExtracting content:  57%|█████▋    | 2837/5000 [1:14:30<37:57,  1.05s/it]"
          ]
        },
        {
          "output_type": "stream",
          "name": "stdout",
          "text": [
            "Error fetching content: 404 Client Error: Not Found for url: https://flipboard.com/section/get-fit!-__ZmxpcGJvYXJkL2N1cmF0b3IlMkZtYWdhemluZSUyRkhDRHVpNVJwUUFLMWZaZFA4R3JaQVElM0FtJTNBMTMyMzYxMTc4#social\n"
          ]
        },
        {
          "output_type": "stream",
          "name": "stderr",
          "text": [
            "\rExtracting content:  57%|█████▋    | 2838/5000 [1:14:32<40:49,  1.13s/it]"
          ]
        },
        {
          "output_type": "stream",
          "name": "stdout",
          "text": [
            "Error fetching content: 404 Client Error: Not Found for url: https://flipboard.com/section/get-fit!-__ZmxpcGJvYXJkL2N1cmF0b3IlMkZtYWdhemluZSUyRkhDRHVpNVJwUUFLMWZaZFA4R3JaQVElM0FtJTNBMTMyMzYxMTc4#social\n"
          ]
        },
        {
          "output_type": "stream",
          "name": "stderr",
          "text": [
            "Extracting content:  57%|█████▋    | 2840/5000 [1:14:34<44:10,  1.23s/it]"
          ]
        },
        {
          "output_type": "stream",
          "name": "stdout",
          "text": [
            "Error fetching content: 404 Client Error: Not Found for url: https://flipboard.com/section/get-fit!-__ZmxpcGJvYXJkL2N1cmF0b3IlMkZtYWdhemluZSUyRkhDRHVpNVJwUUFLMWZaZFA4R3JaQVElM0FtJTNBMTMyMzYxMTc4#social\n"
          ]
        },
        {
          "output_type": "stream",
          "name": "stderr",
          "text": [
            "Extracting content:  57%|█████▋    | 2855/5000 [1:14:56<49:22,  1.38s/it]  "
          ]
        },
        {
          "output_type": "stream",
          "name": "stdout",
          "text": [
            "Error fetching content: 404 Client Error: Not Found for url: https://t.co/ux2o1%E2%80%A6\n"
          ]
        },
        {
          "output_type": "stream",
          "name": "stderr",
          "text": [
            "Extracting content:  57%|█████▋    | 2857/5000 [1:14:58<42:48,  1.20s/it]"
          ]
        },
        {
          "output_type": "stream",
          "name": "stdout",
          "text": [
            "Error fetching content: 410 Client Error: Gone for url: http://thechart.blogs.cnn.com/2011/06/22/why-you-should-never-go-to-the-hospital-in-july/\n"
          ]
        },
        {
          "output_type": "stream",
          "name": "stderr",
          "text": [
            "Extracting content:  57%|█████▋    | 2861/5000 [1:15:05<55:07,  1.55s/it]"
          ]
        },
        {
          "output_type": "stream",
          "name": "stdout",
          "text": [
            "Error fetching content: Failed to parse: http://…\n"
          ]
        },
        {
          "output_type": "stream",
          "name": "stderr",
          "text": [
            "Extracting content:  57%|█████▋    | 2866/5000 [1:15:07<29:24,  1.21it/s]"
          ]
        },
        {
          "output_type": "stream",
          "name": "stdout",
          "text": [
            "Error fetching content: 410 Client Error: Gone for url: http://thechart.blogs.cnn.com/2014/06/30/what-your-next-gyno-exam-may-not-include/\n"
          ]
        },
        {
          "output_type": "stream",
          "name": "stderr",
          "text": [
            "\rExtracting content:  57%|█████▋    | 2867/5000 [1:15:08<28:27,  1.25it/s]"
          ]
        },
        {
          "output_type": "stream",
          "name": "stdout",
          "text": [
            "Error fetching content: 410 Client Error: Gone for url: http://thechart.blogs.cnn.com/2014/06/30/study-13-of-knee-replacements-are-questionable/\n"
          ]
        },
        {
          "output_type": "stream",
          "name": "stderr",
          "text": [
            "Extracting content:  57%|█████▋    | 2869/5000 [1:15:10<32:26,  1.09it/s]"
          ]
        },
        {
          "output_type": "stream",
          "name": "stdout",
          "text": [
            "Error fetching content: 410 Client Error: Gone for url: http://thechart.blogs.cnn.com/2014/06/30/have-you-had-the-sext-talk-with-your-kids/\n"
          ]
        },
        {
          "output_type": "stream",
          "name": "stderr",
          "text": [
            "\rExtracting content:  57%|█████▋    | 2870/5000 [1:15:12<34:22,  1.03it/s]"
          ]
        },
        {
          "output_type": "stream",
          "name": "stdout",
          "text": [
            "Error fetching content: 404 Client Error: Not Found for url: https://flipboard.com/section/get-fit!-__ZmxpcGJvYXJkL2N1cmF0b3IlMkZtYWdhemluZSUyRkhDRHVpNVJwUUFLMWZaZFA4R3JaQVElM0FtJTNBMTMyMzYxMTc4#social\n"
          ]
        },
        {
          "output_type": "stream",
          "name": "stderr",
          "text": [
            "Extracting content:  57%|█████▋    | 2872/5000 [1:15:14<35:05,  1.01it/s]"
          ]
        },
        {
          "output_type": "stream",
          "name": "stdout",
          "text": [
            "Error fetching content: 410 Client Error: Gone for url: http://thechart.blogs.cnn.com/2014/06/27/5-studies-you-may-have-missed-36/\n"
          ]
        },
        {
          "output_type": "stream",
          "name": "stderr",
          "text": [
            "\rExtracting content:  57%|█████▋    | 2873/5000 [1:15:14<31:33,  1.12it/s]"
          ]
        },
        {
          "output_type": "stream",
          "name": "stdout",
          "text": [
            "Error fetching content: 404 Client Error: Not Found for url: https://t.co/5G1nWPoj%E2%80%A6\n"
          ]
        },
        {
          "output_type": "stream",
          "name": "stderr",
          "text": [
            "Extracting content:  58%|█████▊    | 2877/5000 [1:15:19<40:36,  1.15s/it]"
          ]
        },
        {
          "output_type": "stream",
          "name": "stdout",
          "text": [
            "Error fetching content: 410 Client Error: Gone for url: http://thechart.blogs.cnn.com/2014/06/26/how-reliable-is-the-drug-info-you-find-online/\n"
          ]
        },
        {
          "output_type": "stream",
          "name": "stderr",
          "text": [
            "\rExtracting content:  58%|█████▊    | 2878/5000 [1:15:20<36:06,  1.02s/it]"
          ]
        },
        {
          "output_type": "stream",
          "name": "stdout",
          "text": [
            "Error fetching content: 410 Client Error: Gone for url: http://thechart.blogs.cnn.com/2014/06/26/how-reliable-is-the-drug-info-you-find-online/\n"
          ]
        },
        {
          "output_type": "stream",
          "name": "stderr",
          "text": [
            "Extracting content:  58%|█████▊    | 2885/5000 [1:15:32<49:11,  1.40s/it]"
          ]
        },
        {
          "output_type": "stream",
          "name": "stdout",
          "text": [
            "Error fetching content: 410 Client Error: Gone for url: http://thechart.blogs.cnn.com/2014/06/24/do-i-need-a-3-d-mammogram/\n"
          ]
        },
        {
          "output_type": "stream",
          "name": "stderr",
          "text": [
            "Extracting content:  58%|█████▊    | 2888/5000 [1:15:39<58:09,  1.65s/it]  "
          ]
        },
        {
          "output_type": "stream",
          "name": "stdout",
          "text": [
            "Error fetching content: 410 Client Error: Gone for url: http://thechart.blogs.cnn.com/2014/06/24/pesticide-exposure-during-pregnancy-may-increase-autism-risk/\n"
          ]
        },
        {
          "output_type": "stream",
          "name": "stderr",
          "text": [
            "Extracting content:  58%|█████▊    | 2893/5000 [1:15:45<41:59,  1.20s/it]"
          ]
        },
        {
          "output_type": "stream",
          "name": "stdout",
          "text": [
            "Error fetching content: 410 Client Error: Gone for url: http://thechart.blogs.cnn.com/2014/06/20/5-studies-you-may-have-missed-35/\n"
          ]
        },
        {
          "output_type": "stream",
          "name": "stderr",
          "text": [
            "Extracting content:  58%|█████▊    | 2897/5000 [1:15:50<44:41,  1.27s/it]"
          ]
        },
        {
          "output_type": "stream",
          "name": "stdout",
          "text": [
            "Error fetching content: 404 Client Error: Not Found for url: https://t.co/M%E2%80%A6\n"
          ]
        },
        {
          "output_type": "stream",
          "name": "stderr",
          "text": [
            "Extracting content:  58%|█████▊    | 2900/5000 [1:15:53<38:50,  1.11s/it]"
          ]
        },
        {
          "output_type": "stream",
          "name": "stdout",
          "text": [
            "Error fetching content: 410 Client Error: Gone for url: http://thechart.blogs.cnn.com/2014/06/19/depression-a-powerful-risk-factor-for-heart-disease-in-young-women/\n"
          ]
        },
        {
          "output_type": "stream",
          "name": "stderr",
          "text": [
            "Extracting content:  58%|█████▊    | 2904/5000 [1:15:59<43:00,  1.23s/it]"
          ]
        },
        {
          "output_type": "stream",
          "name": "stdout",
          "text": [
            "Error fetching content: 410 Client Error: Gone for url: http://thechart.blogs.cnn.com/2014/06/17/sitting-too-long-may-increase-your-cancer-risk/\n"
          ]
        },
        {
          "output_type": "stream",
          "name": "stderr",
          "text": [
            "Extracting content:  58%|█████▊    | 2908/5000 [1:16:04<39:38,  1.14s/it]"
          ]
        },
        {
          "output_type": "stream",
          "name": "stdout",
          "text": [
            "Error fetching content: 404 Client Error: Not Found for url: https://t.co/pYWkiDye%E2%80%A6\n"
          ]
        },
        {
          "output_type": "stream",
          "name": "stderr",
          "text": [
            "Extracting content:  58%|█████▊    | 2923/5000 [1:16:26<52:14,  1.51s/it]  "
          ]
        },
        {
          "output_type": "stream",
          "name": "stdout",
          "text": [
            "Error fetching content: 410 Client Error: Gone for url: http://thechart.blogs.cnn.com/2014/06/10/teaming-up-with-google-to-find-autism-cause/\n"
          ]
        },
        {
          "output_type": "stream",
          "name": "stderr",
          "text": [
            "Extracting content:  58%|█████▊    | 2925/5000 [1:16:27<40:06,  1.16s/it]"
          ]
        },
        {
          "output_type": "stream",
          "name": "stdout",
          "text": [
            "Error fetching content: 410 Client Error: Gone for url: http://thechart.blogs.cnn.com/2014/06/10/1-in-4-americans-living-with-diabetes-dont-know/\n"
          ]
        },
        {
          "output_type": "stream",
          "name": "stderr",
          "text": [
            "Extracting content:  59%|█████▊    | 2930/5000 [1:16:34<44:54,  1.30s/it]"
          ]
        },
        {
          "output_type": "stream",
          "name": "stdout",
          "text": [
            "Error fetching content: 410 Client Error: Gone for url: http://thechart.blogs.cnn.com/2014/06/05/hope-for-parkinsons-patients-5-studies-you-may-have-missed/\n"
          ]
        },
        {
          "output_type": "stream",
          "name": "stderr",
          "text": [
            "\rExtracting content:  59%|█████▊    | 2931/5000 [1:16:35<39:01,  1.13s/it]"
          ]
        },
        {
          "output_type": "stream",
          "name": "stdout",
          "text": [
            "Error fetching content: 410 Client Error: Gone for url: http://thechart.blogs.cnn.com/2014/06/05/hope-for-parkinsons-patients-5-studies-you-may-have-missed/\n"
          ]
        },
        {
          "output_type": "stream",
          "name": "stderr",
          "text": [
            "Extracting content:  59%|█████▊    | 2933/5000 [1:16:38<39:41,  1.15s/it]"
          ]
        },
        {
          "output_type": "stream",
          "name": "stdout",
          "text": [
            "Error fetching content: 410 Client Error: Gone for url: http://thechart.blogs.cnn.com/2014/06/05/marijuana-may-affect-fertility-in-young-men/\n"
          ]
        },
        {
          "output_type": "stream",
          "name": "stderr",
          "text": [
            "Extracting content:  59%|█████▊    | 2935/5000 [1:16:41<41:45,  1.21s/it]"
          ]
        },
        {
          "output_type": "stream",
          "name": "stdout",
          "text": [
            "Error fetching content: 410 Client Error: Gone for url: http://thechart.blogs.cnn.com/2014/06/04/eating-breakfast-may-not-matter-for-weight-loss/\n"
          ]
        },
        {
          "output_type": "stream",
          "name": "stderr",
          "text": [
            "\rExtracting content:  59%|█████▊    | 2936/5000 [1:16:41<36:38,  1.07s/it]"
          ]
        },
        {
          "output_type": "stream",
          "name": "stdout",
          "text": [
            "Error fetching content: 410 Client Error: Gone for url: http://thechart.blogs.cnn.com/2014/06/04/eating-breakfast-may-not-matter-for-weight-loss/\n"
          ]
        },
        {
          "output_type": "stream",
          "name": "stderr",
          "text": [
            "Extracting content:  59%|█████▉    | 2939/5000 [1:16:45<37:43,  1.10s/it]"
          ]
        },
        {
          "output_type": "stream",
          "name": "stdout",
          "text": [
            "Error fetching content: 410 Client Error: Gone for url: http://thechart.blogs.cnn.com/2014/06/03/food-poisoning-it-was-likely-a-restaurant-worker/\n"
          ]
        },
        {
          "output_type": "stream",
          "name": "stderr",
          "text": [
            "Extracting content:  59%|█████▉    | 2942/5000 [1:16:48<32:07,  1.07it/s]"
          ]
        },
        {
          "output_type": "stream",
          "name": "stdout",
          "text": [
            "Error fetching content: 404 Client Error: Not Found for url: http://pbs.twimg.com/media/BpNRZhfCYAAc1xT.jpg\n"
          ]
        },
        {
          "output_type": "stream",
          "name": "stderr",
          "text": [
            "Extracting content:  59%|█████▉    | 2949/5000 [1:16:57<38:29,  1.13s/it]"
          ]
        },
        {
          "output_type": "stream",
          "name": "stdout",
          "text": [
            "Error fetching content: 410 Client Error: Gone for url: http://thechart.blogs.cnn.com/2014/05/30/5-studies-you-may-have-missed-33/\n"
          ]
        },
        {
          "output_type": "stream",
          "name": "stderr",
          "text": [
            "Extracting content:  59%|█████▉    | 2962/5000 [1:17:10<35:03,  1.03s/it]"
          ]
        },
        {
          "output_type": "stream",
          "name": "stdout",
          "text": [
            "Error fetching content: 410 Client Error: Gone for url: http://thechart.blogs.cnn.com/2014/05/23/5-studies-you-may-have-missed-32/\n"
          ]
        },
        {
          "output_type": "stream",
          "name": "stderr",
          "text": [
            "Extracting content:  59%|█████▉    | 2970/5000 [1:17:23<54:44,  1.62s/it]"
          ]
        },
        {
          "output_type": "stream",
          "name": "stdout",
          "text": [
            "Error fetching content: 404 Client Error: Not Found for url: https://www.life.com/culture/what-the-battle-to-save-preemies-looked-like-75-years-ago/#1\n"
          ]
        },
        {
          "output_type": "stream",
          "name": "stderr",
          "text": [
            "\rExtracting content:  59%|█████▉    | 2971/5000 [1:17:24<45:42,  1.35s/it]"
          ]
        },
        {
          "output_type": "stream",
          "name": "stdout",
          "text": [
            "Error fetching content: 410 Client Error: Gone for url: http://thechart.blogs.cnn.com/2014/05/22/xanax-related-er-visits-double-in-6-years/\n"
          ]
        },
        {
          "output_type": "stream",
          "name": "stderr",
          "text": [
            "Extracting content:  60%|█████▉    | 2978/5000 [1:17:34<43:42,  1.30s/it]"
          ]
        },
        {
          "output_type": "stream",
          "name": "stdout",
          "text": [
            "Error fetching content: 410 Client Error: Gone for url: http://thechart.blogs.cnn.com/2014/05/20/e-coli-mrsa-can-survive-for-days-on-planes/\n"
          ]
        },
        {
          "output_type": "stream",
          "name": "stderr",
          "text": [
            "\rExtracting content:  60%|█████▉    | 2979/5000 [1:17:34<37:57,  1.13s/it]"
          ]
        },
        {
          "output_type": "stream",
          "name": "stdout",
          "text": [
            "Error fetching content: 410 Client Error: Gone for url: http://thechart.blogs.cnn.com/2014/05/19/study-dont-delay-measles-vaccine/\n"
          ]
        },
        {
          "output_type": "stream",
          "name": "stderr",
          "text": [
            "Extracting content:  60%|█████▉    | 2981/5000 [1:17:37<36:22,  1.08s/it]"
          ]
        },
        {
          "output_type": "stream",
          "name": "stdout",
          "text": [
            "Error fetching content: 410 Client Error: Gone for url: http://thechart.blogs.cnn.com/2014/05/19/study-dont-delay-measles-vaccine/\n"
          ]
        },
        {
          "output_type": "stream",
          "name": "stderr",
          "text": [
            "Extracting content:  60%|█████▉    | 2988/5000 [1:17:45<40:12,  1.20s/it]"
          ]
        },
        {
          "output_type": "stream",
          "name": "stdout",
          "text": [
            "Error fetching content: 410 Client Error: Gone for url: http://thechart.blogs.cnn.com/2014/05/16/obesity-may-affect-cancer-patients-outcomes/\n"
          ]
        },
        {
          "output_type": "stream",
          "name": "stderr",
          "text": [
            "Extracting content:  60%|█████▉    | 2990/5000 [1:17:49<44:52,  1.34s/it]"
          ]
        },
        {
          "output_type": "stream",
          "name": "stdout",
          "text": [
            "Error fetching content: 410 Client Error: Gone for url: http://thechart.blogs.cnn.com/2014/05/15/two-big-meals-may-be-better-than-six-small-ones/\n"
          ]
        },
        {
          "output_type": "stream",
          "name": "stderr",
          "text": [
            "Extracting content:  60%|█████▉    | 2996/5000 [1:17:56<38:27,  1.15s/it]"
          ]
        },
        {
          "output_type": "stream",
          "name": "stdout",
          "text": [
            "Error fetching content: 410 Client Error: Gone for url: http://thechart.blogs.cnn.com/2014/05/14/50-of-americans-take-prescription-drugs/\n"
          ]
        },
        {
          "output_type": "stream",
          "name": "stderr",
          "text": [
            "\rExtracting content:  60%|█████▉    | 2997/5000 [1:17:57<34:10,  1.02s/it]"
          ]
        },
        {
          "output_type": "stream",
          "name": "stdout",
          "text": [
            "Error fetching content: 410 Client Error: Gone for url: http://thechart.blogs.cnn.com/2014/05/14/50-of-americans-take-prescription-drugs/\n"
          ]
        },
        {
          "output_type": "stream",
          "name": "stderr",
          "text": [
            "Extracting content:  60%|██████    | 3000/5000 [1:18:05<1:23:29,  2.50s/it]"
          ]
        },
        {
          "output_type": "stream",
          "name": "stdout",
          "text": [
            "Error fetching content: HTTPSConnectionPool(host='edition.cnn.com', port=443): Read timed out. (read timeout=4)\n"
          ]
        },
        {
          "output_type": "stream",
          "name": "stderr",
          "text": [
            "Extracting content:  60%|██████    | 3002/5000 [1:18:08<59:54,  1.80s/it]  "
          ]
        },
        {
          "output_type": "stream",
          "name": "stdout",
          "text": [
            "Error fetching content: 410 Client Error: Gone for url: http://thechart.blogs.cnn.com/2014/05/14/only-10-of-alcoholics-get-meds-to-treat-addiction/\n"
          ]
        },
        {
          "output_type": "stream",
          "name": "stderr",
          "text": [
            "Extracting content:  60%|██████    | 3005/5000 [1:18:12<45:51,  1.38s/it]"
          ]
        },
        {
          "output_type": "stream",
          "name": "stdout",
          "text": [
            "Error fetching content: 410 Client Error: Gone for url: http://thechart.blogs.cnn.com/2014/05/12/antioxidant-in-red-wine-has-no-benefit-at-low-doses/\n"
          ]
        },
        {
          "output_type": "stream",
          "name": "stderr",
          "text": [
            "Extracting content:  60%|██████    | 3009/5000 [1:18:17<41:38,  1.26s/it]"
          ]
        },
        {
          "output_type": "stream",
          "name": "stdout",
          "text": [
            "Error fetching content: 404 Client Error: Not Found for url: http://pbs.twimg.com/media/BniADweCcAANbty.jpg\n"
          ]
        },
        {
          "output_type": "stream",
          "name": "stderr",
          "text": [
            "Extracting content:  60%|██████    | 3012/5000 [1:18:22<43:35,  1.32s/it]"
          ]
        },
        {
          "output_type": "stream",
          "name": "stdout",
          "text": [
            "Error fetching content: 410 Client Error: Gone for url: http://thechart.blogs.cnn.com/2014/05/12/impairment-from-solvents-might-last-decades/\n"
          ]
        },
        {
          "output_type": "stream",
          "name": "stderr",
          "text": [
            "\rExtracting content:  60%|██████    | 3013/5000 [1:18:22<37:44,  1.14s/it]"
          ]
        },
        {
          "output_type": "stream",
          "name": "stdout",
          "text": [
            "Error fetching content: 410 Client Error: Gone for url: http://thechart.blogs.cnn.com/2014/05/12/common-chemicals-challenge-sperm/\n"
          ]
        },
        {
          "output_type": "stream",
          "name": "stderr",
          "text": [
            "Extracting content:  60%|██████    | 3024/5000 [1:18:41<54:02,  1.64s/it]"
          ]
        },
        {
          "output_type": "stream",
          "name": "stdout",
          "text": [
            "Error fetching content: Failed to parse: http://t.co…\n"
          ]
        },
        {
          "output_type": "stream",
          "name": "stderr",
          "text": [
            "Extracting content:  61%|██████    | 3032/5000 [1:18:53<47:28,  1.45s/it]"
          ]
        },
        {
          "output_type": "stream",
          "name": "stdout",
          "text": [
            "Error fetching content: 404 Client Error: Not Found for url: https://t.co/HjI5U%E2%80%A6\n"
          ]
        },
        {
          "output_type": "stream",
          "name": "stderr",
          "text": [
            "Extracting content:  61%|██████    | 3035/5000 [1:18:57<42:25,  1.30s/it]"
          ]
        },
        {
          "output_type": "stream",
          "name": "stdout",
          "text": [
            "Error fetching content: 410 Client Error: Gone for url: http://thechart.blogs.cnn.com/2014/05/06/vibrating-capsule-may-relieve-chronic-constipation/\n"
          ]
        },
        {
          "output_type": "stream",
          "name": "stderr",
          "text": [
            "Extracting content:  61%|██████    | 3046/5000 [1:19:12<40:38,  1.25s/it]"
          ]
        },
        {
          "output_type": "stream",
          "name": "stdout",
          "text": [
            "Error fetching content: 410 Client Error: Gone for url: http://thechart.blogs.cnn.com/2014/05/02/5-studies-you-may-have-missed-29/\n"
          ]
        },
        {
          "output_type": "stream",
          "name": "stderr",
          "text": [
            "\rExtracting content:  61%|██████    | 3047/5000 [1:19:13<35:31,  1.09s/it]"
          ]
        },
        {
          "output_type": "stream",
          "name": "stdout",
          "text": [
            "Error fetching content: 410 Client Error: Gone for url: http://thechart.blogs.cnn.com/2014/05/02/5-studies-you-may-have-missed-29/\n"
          ]
        },
        {
          "output_type": "stream",
          "name": "stderr",
          "text": [
            "\rExtracting content:  61%|██████    | 3048/5000 [1:19:18<1:12:24,  2.23s/it]"
          ]
        },
        {
          "output_type": "stream",
          "name": "stdout",
          "text": [
            "Error fetching content: HTTPSConnectionPool(host='edition.cnn.com', port=443): Read timed out. (read timeout=4)\n"
          ]
        },
        {
          "output_type": "stream",
          "name": "stderr",
          "text": [
            "Extracting content:  61%|██████    | 3060/5000 [1:19:39<56:17,  1.74s/it]  "
          ]
        },
        {
          "output_type": "stream",
          "name": "stdout",
          "text": [
            "Error fetching content: 410 Client Error: Gone for url: http://thechart.blogs.cnn.com/2014/04/29/treating-brain-diseases-with-marijuana/\n"
          ]
        },
        {
          "output_type": "stream",
          "name": "stderr",
          "text": [
            "Extracting content:  61%|██████    | 3062/5000 [1:19:42<47:41,  1.48s/it]"
          ]
        },
        {
          "output_type": "stream",
          "name": "stdout",
          "text": [
            "Error fetching content: 410 Client Error: Gone for url: http://thechart.blogs.cnn.com/2014/04/29/is-diabetes-shrinking-my-brain/\n"
          ]
        },
        {
          "output_type": "stream",
          "name": "stderr",
          "text": [
            "Extracting content:  61%|██████▏   | 3065/5000 [1:19:46<39:22,  1.22s/it]"
          ]
        },
        {
          "output_type": "stream",
          "name": "stdout",
          "text": [
            "Error fetching content: 410 Client Error: Gone for url: http://thechart.blogs.cnn.com/2014/04/28/why-laughing-is-healthy/\n"
          ]
        },
        {
          "output_type": "stream",
          "name": "stderr",
          "text": [
            "Extracting content:  62%|██████▏   | 3087/5000 [1:20:08<32:38,  1.02s/it]"
          ]
        },
        {
          "output_type": "stream",
          "name": "stdout",
          "text": [
            "Error fetching content: 410 Client Error: Gone for url: http://thechart.blogs.cnn.com/2014/04/23/marijuana-use-linked-to-heart-problems/?hpt=he_c2\n"
          ]
        },
        {
          "output_type": "stream",
          "name": "stderr",
          "text": [
            "Extracting content:  62%|██████▏   | 3100/5000 [1:20:22<28:28,  1.11it/s]"
          ]
        },
        {
          "output_type": "stream",
          "name": "stdout",
          "text": [
            "Error fetching content: 410 Client Error: Gone for url: http://thechart.blogs.cnn.com/2014/04/22/new-migraine-treatments-show-promise/\n"
          ]
        },
        {
          "output_type": "stream",
          "name": "stderr",
          "text": [
            "Extracting content:  62%|██████▏   | 3109/5000 [1:20:34<55:37,  1.76s/it]"
          ]
        },
        {
          "output_type": "stream",
          "name": "stdout",
          "text": [
            "Error fetching content: HTTPConnectionPool(host='upwave.co', port=80): Max retries exceeded with url: /1kTcVP2 (Caused by ConnectTimeoutError(<urllib3.connection.HTTPConnection object at 0x7d7bf90ff670>, 'Connection to upwave.co timed out. (connect timeout=4)'))\n"
          ]
        },
        {
          "output_type": "stream",
          "name": "stderr",
          "text": [
            "\rExtracting content:  62%|██████▏   | 3110/5000 [1:20:34<46:18,  1.47s/it]"
          ]
        },
        {
          "output_type": "stream",
          "name": "stdout",
          "text": [
            "Error fetching content: 410 Client Error: Gone for url: http://globalpublicsquare.blogs.cnn.com/2014/04/19/how-u-s-is-lagging-on-quality-of-life/\n"
          ]
        },
        {
          "output_type": "stream",
          "name": "stderr",
          "text": [
            "Extracting content:  62%|██████▏   | 3116/5000 [1:20:39<31:45,  1.01s/it]"
          ]
        },
        {
          "output_type": "stream",
          "name": "stdout",
          "text": [
            "Error fetching content: 410 Client Error: Gone for url: http://thechart.blogs.cnn.com/2014/04/18/5-studies-you-may-have-missed-27/\n"
          ]
        },
        {
          "output_type": "stream",
          "name": "stderr",
          "text": [
            "Extracting content:  62%|██████▏   | 3123/5000 [1:20:44<23:50,  1.31it/s]"
          ]
        },
        {
          "output_type": "stream",
          "name": "stdout",
          "text": [
            "Error fetching content: 410 Client Error: Gone for url: http://thechart.blogs.cnn.com/2014/04/17/salmonella-cases-down-but-watch-out-for-other-foodborne-bacteria/\n"
          ]
        },
        {
          "output_type": "stream",
          "name": "stderr",
          "text": [
            "Extracting content:  63%|██████▎   | 3129/5000 [1:20:54<46:25,  1.49s/it]"
          ]
        },
        {
          "output_type": "stream",
          "name": "stdout",
          "text": [
            "Error fetching content: 410 Client Error: Gone for url: http://thechart.blogs.cnn.com/2014/04/16/brain-scans-may-predict-if-patients-will-wake-up/\n"
          ]
        },
        {
          "output_type": "stream",
          "name": "stderr",
          "text": [
            "Extracting content:  63%|██████▎   | 3132/5000 [1:20:56<30:32,  1.02it/s]"
          ]
        },
        {
          "output_type": "stream",
          "name": "stdout",
          "text": [
            "Error fetching content: 410 Client Error: Gone for url: http://thechart.blogs.cnn.com/2014/04/16/casual-marijuana-use-may-damage-your-brain/\n",
            "Error fetching content: 410 Client Error: Gone for url: http://thechart.blogs.cnn.com/2014/04/15/obesity-during-pregnancy-raises-stillbirth-risk/\n"
          ]
        },
        {
          "output_type": "stream",
          "name": "stderr",
          "text": [
            "Extracting content:  63%|██████▎   | 3137/5000 [1:20:59<22:31,  1.38it/s]"
          ]
        },
        {
          "output_type": "stream",
          "name": "stdout",
          "text": [
            "Error fetching content: 410 Client Error: Gone for url: http://thechart.blogs.cnn.com/2014/04/14/herbal-remedy-may-improve-arthritis-symptoms/\n",
            "Error fetching content: 410 Client Error: Gone for url: http://thechart.blogs.cnn.com/2014/04/14/low-blood-sugar-makes-couples-more-aggressive/%E2%80%9D\n",
            "Error fetching content: 410 Client Error: Gone for url: http://thechart.blogs.cnn.com/2014/04/14/low-blood-sugar-makes-couples-more-aggressive/\n",
            "Error fetching content: 410 Client Error: Gone for url: http://thechart.blogs.cnn.com/2014/04/14/diabetes-doubles-over-two-decades/\n"
          ]
        },
        {
          "output_type": "stream",
          "name": "stderr",
          "text": [
            "\rExtracting content:  63%|██████▎   | 3142/5000 [1:21:00<14:16,  2.17it/s]"
          ]
        },
        {
          "output_type": "stream",
          "name": "stdout",
          "text": [
            "Error fetching content: 410 Client Error: Gone for url: http://thechart.blogs.cnn.com/2014/04/14/low-blood-sugar-makes-couples-more-aggressive/\n"
          ]
        },
        {
          "output_type": "stream",
          "name": "stderr",
          "text": [
            "Extracting content:  63%|██████▎   | 3145/5000 [1:21:02<17:13,  1.79it/s]"
          ]
        },
        {
          "output_type": "stream",
          "name": "stdout",
          "text": [
            "Error fetching content: 410 Client Error: Gone for url: http://thechart.blogs.cnn.com/2014/04/14/fussy-infants-and-toddlers-watch-more-tv/?sr=tw041414fussytoddlers1130aStory\n"
          ]
        },
        {
          "output_type": "stream",
          "name": "stderr",
          "text": [
            "Extracting content:  63%|██████▎   | 3152/5000 [1:21:08<22:13,  1.39it/s]"
          ]
        },
        {
          "output_type": "stream",
          "name": "stdout",
          "text": [
            "Error fetching content: 410 Client Error: Gone for url: http://thechart.blogs.cnn.com/2014/04/10/flu-drugs-may-not-be-worth-stockpiling/\n"
          ]
        },
        {
          "output_type": "stream",
          "name": "stderr",
          "text": [
            "Extracting content:  63%|██████▎   | 3156/5000 [1:21:10<21:24,  1.44it/s]"
          ]
        },
        {
          "output_type": "stream",
          "name": "stdout",
          "text": [
            "Error fetching content: 404 Client Error: Not Found for url: https://t.co/MAdCZ%E2%80%A6\n"
          ]
        },
        {
          "output_type": "stream",
          "name": "stderr",
          "text": [
            "Extracting content:  63%|██████▎   | 3158/5000 [1:21:12<21:32,  1.43it/s]"
          ]
        },
        {
          "output_type": "stream",
          "name": "stdout",
          "text": [
            "Error fetching content: Failed to parse: http://t.co…\n",
            "Error fetching content: Failed to parse: http://…\n",
            "Error fetching content: 410 Client Error: Gone for url: http://thechart.blogs.cnn.com/2014/03/31/study-eat-7-servings-of-fruit-veggies-daily/\n"
          ]
        },
        {
          "output_type": "stream",
          "name": "stderr",
          "text": [
            "Extracting content:  63%|██████▎   | 3164/5000 [1:21:14<18:02,  1.70it/s]"
          ]
        },
        {
          "output_type": "stream",
          "name": "stdout",
          "text": [
            "Error fetching content: 404 Client Error: Not Found for url: https://1.usa.gov/1jzWGVt/\n"
          ]
        },
        {
          "output_type": "stream",
          "name": "stderr",
          "text": [
            "Extracting content:  63%|██████▎   | 3167/5000 [1:21:16<19:46,  1.54it/s]"
          ]
        },
        {
          "output_type": "stream",
          "name": "stdout",
          "text": [
            "Error fetching content: 404 Client Error: Not Found for url: https://t.co/SF%E2%80%A6\n"
          ]
        },
        {
          "output_type": "stream",
          "name": "stderr",
          "text": [
            "Extracting content:  64%|██████▎   | 3177/5000 [1:21:31<51:06,  1.68s/it]  "
          ]
        },
        {
          "output_type": "stream",
          "name": "stdout",
          "text": [
            "Error fetching content: 410 Client Error: Gone for url: http://thechart.blogs.cnn.com/2014/04/07/severe-obesity-in-kids-on-the-rise/\n"
          ]
        },
        {
          "output_type": "stream",
          "name": "stderr",
          "text": [
            "Extracting content:  64%|██████▎   | 3180/5000 [1:21:36<44:51,  1.48s/it]"
          ]
        },
        {
          "output_type": "stream",
          "name": "stdout",
          "text": [
            "Error fetching content: 404 Client Error: Not Found for url: https://t.co/gLm%E2%80%A6\n"
          ]
        },
        {
          "output_type": "stream",
          "name": "stderr",
          "text": [
            "Extracting content:  64%|██████▎   | 3184/5000 [1:21:41<42:52,  1.42s/it]"
          ]
        },
        {
          "output_type": "stream",
          "name": "stdout",
          "text": [
            "Error fetching content: 410 Client Error: Gone for url: http://thechart.blogs.cnn.com/2014/04/04/5-studies-you-may-have-missed-25/\n",
            "Error fetching content: 410 Client Error: Gone for url: http://thechart.blogs.cnn.com/2014/04/03/running-more-may-not-help-you-live-longer/\n"
          ]
        },
        {
          "output_type": "stream",
          "name": "stderr",
          "text": [
            "Extracting content:  64%|██████▍   | 3196/5000 [1:21:52<39:16,  1.31s/it]"
          ]
        },
        {
          "output_type": "stream",
          "name": "stdout",
          "text": [
            "Error fetching content: 404 Client Error: Not Found for url: https://www.kansascity.com/2014/03/31/4927494/new-mural-at-the-center-for-the.html\n"
          ]
        },
        {
          "output_type": "stream",
          "name": "stderr",
          "text": [
            "\rExtracting content:  64%|██████▍   | 3197/5000 [1:21:52<31:37,  1.05s/it]"
          ]
        },
        {
          "output_type": "stream",
          "name": "stdout",
          "text": [
            "Error fetching content: 410 Client Error: Gone for url: http://thechart.blogs.cnn.com/2014/03/31/study-eat-7-servings-of-fruit-veggies-daily/\n"
          ]
        },
        {
          "output_type": "stream",
          "name": "stderr",
          "text": [
            "\rExtracting content:  64%|██████▍   | 3199/5000 [1:21:52<18:34,  1.62it/s]"
          ]
        },
        {
          "output_type": "stream",
          "name": "stdout",
          "text": [
            "Error fetching content: 410 Client Error: Gone for url: http://thechart.blogs.cnn.com/2014/03/31/marriage-is-good-for-your-heart-and-other-new-research/\n"
          ]
        },
        {
          "output_type": "stream",
          "name": "stderr",
          "text": [
            "Extracting content:  64%|██████▍   | 3203/5000 [1:21:55<18:30,  1.62it/s]"
          ]
        },
        {
          "output_type": "stream",
          "name": "stdout",
          "text": [
            "Error fetching content: 410 Client Error: Gone for url: http://thechart.blogs.cnn.com/2014/03/28/five-studies-you-may-have-missed-2/\n"
          ]
        },
        {
          "output_type": "stream",
          "name": "stderr",
          "text": [
            "Extracting content:  64%|██████▍   | 3206/5000 [1:21:56<17:19,  1.73it/s]"
          ]
        },
        {
          "output_type": "stream",
          "name": "stdout",
          "text": [
            "Error fetching content: 410 Client Error: Gone for url: http://thechart.blogs.cnn.com/2014/03/28/five-studies-you-may-have-missed-2/\n"
          ]
        },
        {
          "output_type": "stream",
          "name": "stderr",
          "text": [
            "Extracting content:  64%|██████▍   | 3219/5000 [1:22:08<23:41,  1.25it/s]"
          ]
        },
        {
          "output_type": "stream",
          "name": "stdout",
          "text": [
            "Error fetching content: 404 Client Error: Not Found for url: http://pbs.twimg.com/media/BjqbzykCEAAU7Sc.jpg\n"
          ]
        },
        {
          "output_type": "stream",
          "name": "stderr",
          "text": [
            "Extracting content:  64%|██████▍   | 3222/5000 [1:22:11<23:35,  1.26it/s]"
          ]
        },
        {
          "output_type": "stream",
          "name": "stdout",
          "text": [
            "Error fetching content: Failed to parse: http://t…\n"
          ]
        },
        {
          "output_type": "stream",
          "name": "stderr",
          "text": [
            "Extracting content:  65%|██████▍   | 3226/5000 [1:22:16<45:34,  1.54s/it]"
          ]
        },
        {
          "output_type": "stream",
          "name": "stdout",
          "text": [
            "Error fetching content: HTTPConnectionPool(host='upwave.co', port=80): Max retries exceeded with url: /1duFGv0 (Caused by ConnectTimeoutError(<urllib3.connection.HTTPConnection object at 0x7d7bf8abab90>, 'Connection to upwave.co timed out. (connect timeout=4)'))\n"
          ]
        },
        {
          "output_type": "stream",
          "name": "stderr",
          "text": [
            "Extracting content:  65%|██████▍   | 3231/5000 [1:22:20<26:36,  1.11it/s]"
          ]
        },
        {
          "output_type": "stream",
          "name": "stdout",
          "text": [
            "Error fetching content: 410 Client Error: Gone for url: http://thechart.blogs.cnn.com/2014/03/24/study-stress-may-reduce-fertility/\n"
          ]
        },
        {
          "output_type": "stream",
          "name": "stderr",
          "text": [
            "\rExtracting content:  65%|██████▍   | 3232/5000 [1:22:21<24:08,  1.22it/s]"
          ]
        },
        {
          "output_type": "stream",
          "name": "stdout",
          "text": [
            "Error fetching content: 404 Client Error: Not Found for url: https://t.co/9%E2%80%A6\n"
          ]
        },
        {
          "output_type": "stream",
          "name": "stderr",
          "text": [
            "Extracting content:  65%|██████▍   | 3235/5000 [1:22:23<24:32,  1.20it/s]"
          ]
        },
        {
          "output_type": "stream",
          "name": "stdout",
          "text": [
            "Error fetching content: 410 Client Error: Gone for url: http://thechart.blogs.cnn.com/2014/03/21/5-studies-you-may-have-missed-24/\n"
          ]
        },
        {
          "output_type": "stream",
          "name": "stderr",
          "text": [
            "Extracting content:  65%|██████▍   | 3240/5000 [1:22:31<53:13,  1.81s/it]"
          ]
        },
        {
          "output_type": "stream",
          "name": "stdout",
          "text": [
            "Error fetching content: HTTPSConnectionPool(host='edition.cnn.com', port=443): Read timed out. (read timeout=4)\n"
          ]
        },
        {
          "output_type": "stream",
          "name": "stderr",
          "text": [
            "Extracting content:  65%|██████▍   | 3249/5000 [1:22:39<26:55,  1.08it/s]"
          ]
        },
        {
          "output_type": "stream",
          "name": "stdout",
          "text": [
            "Error fetching content: 410 Client Error: Gone for url: http://thechart.blogs.cnn.com/2014/03/17/studies-question-fatty-acids-heart-benefits/\n",
            "Error fetching content: 410 Client Error: Gone for url: http://thechart.blogs.cnn.com/2014/03/17/colon-cancer-rates-down-since-1980s/\n"
          ]
        },
        {
          "output_type": "stream",
          "name": "stderr",
          "text": [
            "Extracting content:  65%|██████▌   | 3252/5000 [1:22:42<25:41,  1.13it/s]"
          ]
        },
        {
          "output_type": "stream",
          "name": "stdout",
          "text": [
            "Error fetching content: 410 Client Error: Gone for url: http://thechart.blogs.cnn.com/2014/03/14/5-studies-you-may-have-missed-23/\n"
          ]
        },
        {
          "output_type": "stream",
          "name": "stderr",
          "text": [
            "Extracting content:  65%|██████▌   | 3257/5000 [1:22:47<24:31,  1.18it/s]"
          ]
        },
        {
          "output_type": "stream",
          "name": "stdout",
          "text": [
            "Error fetching content: Failed to parse: http://…\n"
          ]
        },
        {
          "output_type": "stream",
          "name": "stderr",
          "text": [
            "Extracting content:  65%|██████▌   | 3264/5000 [1:22:51<21:20,  1.36it/s]"
          ]
        },
        {
          "output_type": "stream",
          "name": "stdout",
          "text": [
            "Error fetching content: Failed to parse: http://t…\n"
          ]
        },
        {
          "output_type": "stream",
          "name": "stderr",
          "text": [
            "\rExtracting content:  65%|██████▌   | 3266/5000 [1:22:52<15:48,  1.83it/s]"
          ]
        },
        {
          "output_type": "stream",
          "name": "stdout",
          "text": [
            "Error fetching content: 404 Client Error: Not Found for url: https://t.co/%E2%80%A6\n"
          ]
        },
        {
          "output_type": "stream",
          "name": "stderr",
          "text": [
            "Extracting content:  65%|██████▌   | 3270/5000 [1:22:55<25:12,  1.14it/s]"
          ]
        },
        {
          "output_type": "stream",
          "name": "stdout",
          "text": [
            "Error fetching content: 410 Client Error: Gone for url: http://thechart.blogs.cnn.com/2014/03/07/5-studies-you-may-have-missed-22/\n"
          ]
        },
        {
          "output_type": "stream",
          "name": "stderr",
          "text": [
            "Extracting content:  65%|██████▌   | 3273/5000 [1:22:57<18:58,  1.52it/s]"
          ]
        },
        {
          "output_type": "stream",
          "name": "stdout",
          "text": [
            "Error fetching content: Failed to parse: http://t.co…\n"
          ]
        },
        {
          "output_type": "stream",
          "name": "stderr",
          "text": [
            "Extracting content:  66%|██████▌   | 3282/5000 [1:23:03<21:59,  1.30it/s]"
          ]
        },
        {
          "output_type": "stream",
          "name": "stdout",
          "text": [
            "Error fetching content: 410 Client Error: Gone for url: http://thechart.blogs.cnn.com/2014/03/05/middle-aged-put-down-the-meat/\n",
            "Error fetching content: 410 Client Error: Gone for url: http://thechart.blogs.cnn.com/2014/03/04/schoolchildren-are-eating-more-fruits-veggies\n"
          ]
        },
        {
          "output_type": "stream",
          "name": "stderr",
          "text": [
            "Extracting content:  66%|██████▌   | 3296/5000 [1:23:18<34:19,  1.21s/it]"
          ]
        },
        {
          "output_type": "stream",
          "name": "stdout",
          "text": [
            "Error fetching content: 410 Client Error: Gone for url: http://thechart.blogs.cnn.com/2014/02/28/five-studies-you-may-have-missed/\n"
          ]
        },
        {
          "output_type": "stream",
          "name": "stderr",
          "text": [
            "Extracting content:  66%|██████▌   | 3303/5000 [1:23:28<31:05,  1.10s/it]"
          ]
        },
        {
          "output_type": "stream",
          "name": "stdout",
          "text": [
            "Error fetching content: 410 Client Error: Gone for url: http://thechart.blogs.cnn.com/2014/02/25/mers-coronavirus-in-74-of-saudi-arabian-camels/\n"
          ]
        },
        {
          "output_type": "stream",
          "name": "stderr",
          "text": [
            "Extracting content:  66%|██████▌   | 3306/5000 [1:23:29<20:17,  1.39it/s]"
          ]
        },
        {
          "output_type": "stream",
          "name": "stdout",
          "text": [
            "Error fetching content: 410 Client Error: Gone for url: http://thechart.blogs.cnn.com/2014/02/24/vegetarian-diet-may-lower-your-blood-pressure/\n"
          ]
        },
        {
          "output_type": "stream",
          "name": "stderr",
          "text": [
            "Extracting content:  66%|██████▌   | 3310/5000 [1:23:31<17:42,  1.59it/s]"
          ]
        },
        {
          "output_type": "stream",
          "name": "stdout",
          "text": [
            "Error fetching content: 410 Client Error: Gone for url: http://thechart.blogs.cnn.com/2014/02/24/acetaminophen-in-pregnancy-linked-to-adhd-like-behaviors/\n"
          ]
        },
        {
          "output_type": "stream",
          "name": "stderr",
          "text": [
            "Extracting content:  66%|██████▋   | 3322/5000 [1:23:46<50:16,  1.80s/it]"
          ]
        },
        {
          "output_type": "stream",
          "name": "stdout",
          "text": [
            "Error fetching content: HTTPSConnectionPool(host='edition.cnn.com', port=443): Read timed out. (read timeout=4)\n"
          ]
        },
        {
          "output_type": "stream",
          "name": "stderr",
          "text": [
            "Extracting content:  66%|██████▋   | 3325/5000 [1:23:48<33:55,  1.22s/it]"
          ]
        },
        {
          "output_type": "stream",
          "name": "stdout",
          "text": [
            "Error fetching content: 410 Client Error: Gone for url: http://thechart.blogs.cnn.com/2014/02/18/zit-causing-bug-bears-frank-zappas-name/\n"
          ]
        },
        {
          "output_type": "stream",
          "name": "stderr",
          "text": [
            "\rExtracting content:  67%|██████▋   | 3326/5000 [1:23:50<35:08,  1.26s/it]"
          ]
        },
        {
          "output_type": "stream",
          "name": "stdout",
          "text": [
            "Error fetching content: 410 Client Error: Gone for url: http://thechart.blogs.cnn.com/2014/02/17/bullyings-mental-health-toll-may-last-years/\n"
          ]
        },
        {
          "output_type": "stream",
          "name": "stderr",
          "text": [
            "Extracting content:  67%|██████▋   | 3333/5000 [1:23:56<28:04,  1.01s/it]"
          ]
        },
        {
          "output_type": "stream",
          "name": "stdout",
          "text": [
            "Error fetching content: 410 Client Error: Gone for url: http://thechart.blogs.cnn.com/2014/02/14/playing-cupid-makes-us-happy/\n"
          ]
        },
        {
          "output_type": "stream",
          "name": "stderr",
          "text": [
            "Extracting content:  67%|██████▋   | 3337/5000 [1:24:00<25:54,  1.07it/s]"
          ]
        },
        {
          "output_type": "stream",
          "name": "stdout",
          "text": [
            "Error fetching content: 404 Client Error: Not Found for url: http://pbs.twimg.com/media/BgYEawSCEAA08Xz.jpg\n"
          ]
        },
        {
          "output_type": "stream",
          "name": "stderr",
          "text": [
            "Extracting content:  67%|██████▋   | 3343/5000 [1:24:08<30:07,  1.09s/it]"
          ]
        },
        {
          "output_type": "stream",
          "name": "stdout",
          "text": [
            "Error fetching content: 410 Client Error: Gone for url: http://thechart.blogs.cnn.com/2014/02/11/schools-picking-up-autism-tab/\n"
          ]
        },
        {
          "output_type": "stream",
          "name": "stderr",
          "text": [
            "Extracting content:  67%|██████▋   | 3352/5000 [1:24:17<31:40,  1.15s/it]"
          ]
        },
        {
          "output_type": "stream",
          "name": "stdout",
          "text": [
            "Error fetching content: 410 Client Error: Gone for url: http://thechart.blogs.cnn.com/2014/02/07/5-studies-you-may-have-missed-19/\n"
          ]
        },
        {
          "output_type": "stream",
          "name": "stderr",
          "text": [
            "\rExtracting content:  67%|██████▋   | 3354/5000 [1:24:17<19:46,  1.39it/s]"
          ]
        },
        {
          "output_type": "stream",
          "name": "stdout",
          "text": [
            "Error fetching content: 404 Client Error: Not Found for url: http://pbs.twimg.com/media/Bf47r4ICcAA2SnG.jpg\n"
          ]
        },
        {
          "output_type": "stream",
          "name": "stderr",
          "text": [
            "\rExtracting content:  67%|██████▋   | 3355/5000 [1:24:18<17:06,  1.60it/s]"
          ]
        },
        {
          "output_type": "stream",
          "name": "stdout",
          "text": [
            "Error fetching content: 404 Client Error: Not Found for url: http://pbs.twimg.com/media/Bf4zk2mIQAAHbW9.jpg\n"
          ]
        },
        {
          "output_type": "stream",
          "name": "stderr",
          "text": [
            "\rExtracting content:  67%|██████▋   | 3356/5000 [1:24:18<15:24,  1.78it/s]"
          ]
        },
        {
          "output_type": "stream",
          "name": "stdout",
          "text": [
            "Error fetching content: 404 Client Error: Not Found for url: http://pbs.twimg.com/media/Bf425H9CMAABJPn.jpg\n"
          ]
        },
        {
          "output_type": "stream",
          "name": "stderr",
          "text": [
            "Extracting content:  67%|██████▋   | 3364/5000 [1:24:25<22:26,  1.21it/s]"
          ]
        },
        {
          "output_type": "stream",
          "name": "stdout",
          "text": [
            "Error fetching content: 404 Client Error: Not Found for url: https://t.co/FiEk%E2%80%A6\n"
          ]
        },
        {
          "output_type": "stream",
          "name": "stderr",
          "text": [
            "Extracting content:  67%|██████▋   | 3368/5000 [1:24:30<29:12,  1.07s/it]"
          ]
        },
        {
          "output_type": "stream",
          "name": "stdout",
          "text": [
            "Error fetching content: 410 Client Error: Gone for url: http://thechart.blogs.cnn.com/2014/02/03/sugar-not-only-makes-you-fat-it-may-make-you-sick/\n"
          ]
        },
        {
          "output_type": "stream",
          "name": "stderr",
          "text": [
            "Extracting content:  67%|██████▋   | 3373/5000 [1:24:33<20:08,  1.35it/s]"
          ]
        },
        {
          "output_type": "stream",
          "name": "stdout",
          "text": [
            "Error fetching content: 404 Client Error: Not Found for url: https://t.co/vm%E2%80%A6\n"
          ]
        },
        {
          "output_type": "stream",
          "name": "stderr",
          "text": [
            "Extracting content:  68%|██████▊   | 3376/5000 [1:24:36<21:09,  1.28it/s]"
          ]
        },
        {
          "output_type": "stream",
          "name": "stdout",
          "text": [
            "Error fetching content: 410 Client Error: Gone for url: http://thechart.blogs.cnn.com/2014/01/30/your-kindergartner%E2%80%8Es-weight-matters/\n"
          ]
        },
        {
          "output_type": "stream",
          "name": "stderr",
          "text": [
            "\rExtracting content:  68%|██████▊   | 3377/5000 [1:24:38<33:50,  1.25s/it]"
          ]
        },
        {
          "output_type": "stream",
          "name": "stdout",
          "text": [
            "Error fetching content: 404 Client Error: Not Found for url: https://t.co/PESzU5hFC%E2%80%A6\n"
          ]
        },
        {
          "output_type": "stream",
          "name": "stderr",
          "text": [
            "\rExtracting content:  68%|██████▊   | 3378/5000 [1:24:41<47:32,  1.76s/it]"
          ]
        },
        {
          "output_type": "stream",
          "name": "stdout",
          "text": [
            "Error fetching content: 404 Client Error: Not Found for url: http://vitalcommunities.org/valleyquest/index.cfm\n"
          ]
        },
        {
          "output_type": "stream",
          "name": "stderr",
          "text": [
            "\rExtracting content:  68%|██████▊   | 3379/5000 [1:24:42<38:22,  1.42s/it]"
          ]
        },
        {
          "output_type": "stream",
          "name": "stdout",
          "text": [
            "Error fetching content: 404 Client Error: Not Found for url: http://edition.cnn.com/SPECIALS/living/kelly-wallace\n"
          ]
        },
        {
          "output_type": "stream",
          "name": "stderr",
          "text": [
            "\rExtracting content:  68%|██████▊   | 3380/5000 [1:24:43<32:47,  1.21s/it]"
          ]
        },
        {
          "output_type": "stream",
          "name": "stdout",
          "text": [
            "Error fetching content: 410 Client Error: Gone for url: http://thechart.blogs.cnn.com/2014/01/30/your-kindergartners-weight-matters/\n"
          ]
        },
        {
          "output_type": "stream",
          "name": "stderr",
          "text": [
            "Extracting content:  68%|██████▊   | 3382/5000 [1:24:44<25:07,  1.07it/s]"
          ]
        },
        {
          "output_type": "stream",
          "name": "stdout",
          "text": [
            "Error fetching content: 410 Client Error: Gone for url: http://thechart.blogs.cnn.com/2014/01/31/5-studies-you-may-have-missed-18/\n",
            "Error fetching content: Failed to parse: http://t.c…\n"
          ]
        },
        {
          "output_type": "stream",
          "name": "stderr",
          "text": [
            "\rExtracting content:  68%|██████▊   | 3384/5000 [1:24:45<18:37,  1.45it/s]"
          ]
        },
        {
          "output_type": "stream",
          "name": "stdout",
          "text": [
            "Error fetching content: 410 Client Error: Gone for url: http://thechart.blogs.cnn.com/2014/01/30/your-kindergartner%E2%80%8Es-weight-matters/\n"
          ]
        },
        {
          "output_type": "stream",
          "name": "stderr",
          "text": [
            "Extracting content:  68%|██████▊   | 3394/5000 [1:24:56<40:03,  1.50s/it]"
          ]
        },
        {
          "output_type": "stream",
          "name": "stdout",
          "text": [
            "Error fetching content: 404 Client Error: Not Found for url: https://health.clevelandclinic.org/2013/06/love-your-muscles-in-10-minutes-or-less/?utm_campaign=cc+tweets&utm_medium=social&utm_source=twitter&utm_content=130711+muscles+minutes&dynid=twitter-_-cc+tweets-_-social-_-social-_-130711+muscles+minutes\n",
            "Error fetching content: 410 Client Error: Gone for url: http://thechart.blogs.cnn.com/2014/01/27/best-ways-to-prevent-and-treat-the-common-cold/\n"
          ]
        },
        {
          "output_type": "stream",
          "name": "stderr",
          "text": [
            "Extracting content:  68%|██████▊   | 3398/5000 [1:24:58<20:36,  1.30it/s]"
          ]
        },
        {
          "output_type": "stream",
          "name": "stdout",
          "text": [
            "Error fetching content: 404 Client Error: Not Found for url: http://pbs.twimg.com/media/Bew1FFwCQAA4U2Z.jpg\n"
          ]
        },
        {
          "output_type": "stream",
          "name": "stderr",
          "text": [
            "Extracting content:  68%|██████▊   | 3400/5000 [1:25:00<20:31,  1.30it/s]"
          ]
        },
        {
          "output_type": "stream",
          "name": "stdout",
          "text": [
            "Error fetching content: 404 Client Error: Not Found for url: http://pbs.twimg.com/media/BewKqJ6CIAEoH_d.jpg\n"
          ]
        },
        {
          "output_type": "stream",
          "name": "stderr",
          "text": [
            "Extracting content:  68%|██████▊   | 3405/5000 [1:25:06<27:29,  1.03s/it]"
          ]
        },
        {
          "output_type": "stream",
          "name": "stdout",
          "text": [
            "Error fetching content: 404 Client Error: Not Found for url: https://t.co/%E2%80%A6\n"
          ]
        },
        {
          "output_type": "stream",
          "name": "stderr",
          "text": [
            "Extracting content:  68%|██████▊   | 3408/5000 [1:25:09<26:16,  1.01it/s]"
          ]
        },
        {
          "output_type": "stream",
          "name": "stdout",
          "text": [
            "Error fetching content: 410 Client Error: Gone for url: http://thechart.blogs.cnn.com/2014/01/22/lower-the-thermostat-whittle-your-waistline/\n"
          ]
        },
        {
          "output_type": "stream",
          "name": "stderr",
          "text": [
            "Extracting content:  68%|██████▊   | 3410/5000 [1:25:11<24:55,  1.06it/s]"
          ]
        },
        {
          "output_type": "stream",
          "name": "stdout",
          "text": [
            "Error fetching content: 404 Client Error: Not Found for url: https://www.health.com/health/gallery/0,,20406798_3,00.html\n"
          ]
        },
        {
          "output_type": "stream",
          "name": "stderr",
          "text": [
            "Extracting content:  68%|██████▊   | 3419/5000 [1:25:26<35:32,  1.35s/it]"
          ]
        },
        {
          "output_type": "stream",
          "name": "stdout",
          "text": [
            "Error fetching content: 410 Client Error: Gone for url: http://thechart.blogs.cnn.com/2014/01/17/5-studies-you-may-have-missed-16/\n"
          ]
        },
        {
          "output_type": "stream",
          "name": "stderr",
          "text": [
            "Extracting content:  68%|██████▊   | 3422/5000 [1:25:30<33:42,  1.28s/it]"
          ]
        },
        {
          "output_type": "stream",
          "name": "stdout",
          "text": [
            "Error fetching content: 410 Client Error: Gone for url: http://thechart.blogs.cnn.com/2014/01/17/5-studies-you-may-have-missed-16/\n"
          ]
        },
        {
          "output_type": "stream",
          "name": "stderr",
          "text": [
            "Extracting content:  69%|██████▊   | 3431/5000 [1:25:39<21:15,  1.23it/s]"
          ]
        },
        {
          "output_type": "stream",
          "name": "stdout",
          "text": [
            "Error fetching content: HTTPConnectionPool(host='shpe.co', port=80): Max retries exceeded with url: /1eAdojE (Caused by NameResolutionError(\"<urllib3.connection.HTTPConnection object at 0x7d7bf8e83070>: Failed to resolve 'shpe.co' ([Errno -2] Name or service not known)\"))\n"
          ]
        },
        {
          "output_type": "stream",
          "name": "stderr",
          "text": [
            "Extracting content:  69%|██████▊   | 3433/5000 [1:25:41<24:50,  1.05it/s]"
          ]
        },
        {
          "output_type": "stream",
          "name": "stdout",
          "text": [
            "Error fetching content: 410 Client Error: Gone for url: http://thechart.blogs.cnn.com/2014/01/15/studies-link-alcohol-to-early-death-memory-loss/?hpt=he_c2\n"
          ]
        },
        {
          "output_type": "stream",
          "name": "stderr",
          "text": [
            "Extracting content:  69%|██████▊   | 3435/5000 [1:25:45<35:46,  1.37s/it]"
          ]
        },
        {
          "output_type": "stream",
          "name": "stdout",
          "text": [
            "Error fetching content: Failed to parse: http://t.…\n"
          ]
        },
        {
          "output_type": "stream",
          "name": "stderr",
          "text": [
            "Extracting content:  69%|██████▉   | 3448/5000 [1:26:03<33:52,  1.31s/it]"
          ]
        },
        {
          "output_type": "stream",
          "name": "stdout",
          "text": [
            "Error fetching content: 410 Client Error: Gone for url: http://thechart.blogs.cnn.com/2014/01/10/5-studies-you-may-have-missed-15/\n"
          ]
        },
        {
          "output_type": "stream",
          "name": "stderr",
          "text": [
            "Extracting content:  69%|██████▉   | 3459/5000 [1:26:19<36:36,  1.43s/it]"
          ]
        },
        {
          "output_type": "stream",
          "name": "stdout",
          "text": [
            "Error fetching content: Failed to parse: http://t…\n"
          ]
        },
        {
          "output_type": "stream",
          "name": "stderr",
          "text": [
            "Extracting content:  69%|██████▉   | 3463/5000 [1:26:23<28:30,  1.11s/it]"
          ]
        },
        {
          "output_type": "stream",
          "name": "stdout",
          "text": [
            "Error fetching content: 404 Client Error: Not Found for url: https://health.clevelandclinic.org/2013/02/5-foods-for-winter-weather/?utm_campaign=cc+tweets&utm_medium=social&utm_source=twitter&utm_content=140103+winter+food&dynid=twitter-_-cc+tweets-_-social-_-social-_-140103+winter+food\n"
          ]
        },
        {
          "output_type": "stream",
          "name": "stderr",
          "text": [
            "Extracting content:  69%|██████▉   | 3465/5000 [1:26:25<24:58,  1.02it/s]"
          ]
        },
        {
          "output_type": "stream",
          "name": "stdout",
          "text": [
            "Error fetching content: 410 Client Error: Gone for url: http://thechart.blogs.cnn.com/2014/01/07/anti-smoking-efforts-have-saved-8-million-lives/\n"
          ]
        },
        {
          "output_type": "stream",
          "name": "stderr",
          "text": [
            "Extracting content:  69%|██████▉   | 3469/5000 [1:26:29<28:39,  1.12s/it]"
          ]
        },
        {
          "output_type": "stream",
          "name": "stdout",
          "text": [
            "Error fetching content: Failed to parse: http://t.co…\n"
          ]
        },
        {
          "output_type": "stream",
          "name": "stderr",
          "text": [
            "Extracting content:  69%|██████▉   | 3472/5000 [1:26:31<21:13,  1.20it/s]"
          ]
        },
        {
          "output_type": "stream",
          "name": "stdout",
          "text": [
            "Error fetching content: 404 Client Error: Not Found for url: https://www.health.com/health/gallery/0,,20766435_2,00.html\n"
          ]
        },
        {
          "output_type": "stream",
          "name": "stderr",
          "text": [
            "Extracting content:  70%|██████▉   | 3478/5000 [1:26:38<28:54,  1.14s/it]"
          ]
        },
        {
          "output_type": "stream",
          "name": "stdout",
          "text": [
            "Error fetching content: 410 Client Error: Gone for url: http://thechart.blogs.cnn.com/2014/01/03/5-studies-you-may-have-missed-14/\n"
          ]
        },
        {
          "output_type": "stream",
          "name": "stderr",
          "text": [
            "Extracting content:  70%|██████▉   | 3480/5000 [1:26:40<24:44,  1.02it/s]"
          ]
        },
        {
          "output_type": "stream",
          "name": "stdout",
          "text": [
            "Error fetching content: 410 Client Error: Gone for url: http://thechart.blogs.cnn.com/2014/01/02/shingles-may-increase-stroke-heart-attack-risk/\n"
          ]
        },
        {
          "output_type": "stream",
          "name": "stderr",
          "text": [
            "Extracting content:  70%|██████▉   | 3482/5000 [1:26:43<32:48,  1.30s/it]"
          ]
        },
        {
          "output_type": "stream",
          "name": "stdout",
          "text": [
            "Error fetching content: 404 Client Error: Not Found for url: https://www.lymedisease.org/resources/referrals.html\n"
          ]
        },
        {
          "output_type": "stream",
          "name": "stderr",
          "text": [
            "\rExtracting content:  70%|██████▉   | 3483/5000 [1:26:45<35:30,  1.40s/it]"
          ]
        },
        {
          "output_type": "stream",
          "name": "stdout",
          "text": [
            "Error fetching content: 404 Client Error: Not Found for url: https://www.upwave.com/happiness/dont-waste-your-time-with-these-things-in-2014\n"
          ]
        },
        {
          "output_type": "stream",
          "name": "stderr",
          "text": [
            "Extracting content:  70%|███████   | 3501/5000 [1:27:09<27:54,  1.12s/it]"
          ]
        },
        {
          "output_type": "stream",
          "name": "stdout",
          "text": [
            "Error fetching content: 410 Client Error: Gone for url: http://thechart.blogs.cnn.com/2013/12/31/study-vitamin-e-may-help-alzheimers-patients/\n"
          ]
        },
        {
          "output_type": "stream",
          "name": "stderr",
          "text": [
            "Extracting content:  70%|███████   | 3515/5000 [1:27:30<29:31,  1.19s/it]"
          ]
        },
        {
          "output_type": "stream",
          "name": "stdout",
          "text": [
            "Error fetching content: 410 Client Error: Gone for url: http://thechart.blogs.cnn.com/2013/12/27/5-studies-you-may-have-missed-13/\n"
          ]
        },
        {
          "output_type": "stream",
          "name": "stderr",
          "text": [
            "\rExtracting content:  70%|███████   | 3516/5000 [1:27:31<25:59,  1.05s/it]"
          ]
        },
        {
          "output_type": "stream",
          "name": "stdout",
          "text": [
            "Error fetching content: 410 Client Error: Gone for url: http://thechart.blogs.cnn.com/2013/12/27/5-studies-you-may-have-missed-13/\n"
          ]
        },
        {
          "output_type": "stream",
          "name": "stderr",
          "text": [
            "Extracting content:  71%|███████   | 3531/5000 [1:27:55<29:49,  1.22s/it]"
          ]
        },
        {
          "output_type": "stream",
          "name": "stdout",
          "text": [
            "Error fetching content: HTTPConnectionPool(host='healthysummer.me', port=80): Max retries exceeded with url: /2013/12/19/yoga-forget-what-you-think-you-know/ (Caused by NameResolutionError(\"<urllib3.connection.HTTPConnection object at 0x7d7bf901e770>: Failed to resolve 'healthysummer.me' ([Errno -2] Name or service not known)\"))\n"
          ]
        },
        {
          "output_type": "stream",
          "name": "stderr",
          "text": [
            "\rExtracting content:  71%|███████   | 3532/5000 [1:27:55<24:22,  1.00it/s]"
          ]
        },
        {
          "output_type": "stream",
          "name": "stdout",
          "text": [
            "Error fetching content: HTTPConnectionPool(host='shpe.co', port=80): Max retries exceeded with url: /1c1TMq4 (Caused by NameResolutionError(\"<urllib3.connection.HTTPConnection object at 0x7d7bf901d210>: Failed to resolve 'shpe.co' ([Errno -2] Name or service not known)\"))\n"
          ]
        },
        {
          "output_type": "stream",
          "name": "stderr",
          "text": [
            "\rExtracting content:  71%|███████   | 3533/5000 [1:27:56<22:25,  1.09it/s]"
          ]
        },
        {
          "output_type": "stream",
          "name": "stdout",
          "text": [
            "Error fetching content: 410 Client Error: Gone for url: http://thechart.blogs.cnn.com/2013/12/20/5-studies-you-may-have-missed-12/\n"
          ]
        },
        {
          "output_type": "stream",
          "name": "stderr",
          "text": [
            "\rExtracting content:  71%|███████   | 3534/5000 [1:27:56<19:43,  1.24it/s]"
          ]
        },
        {
          "output_type": "stream",
          "name": "stdout",
          "text": [
            "Error fetching content: 410 Client Error: Gone for url: https://healthnewsandviews.wordpress.com/?p=92841\n"
          ]
        },
        {
          "output_type": "stream",
          "name": "stderr",
          "text": [
            "Extracting content:  71%|███████   | 3542/5000 [1:28:11<53:35,  2.21s/it]"
          ]
        },
        {
          "output_type": "stream",
          "name": "stdout",
          "text": [
            "Error fetching content: HTTPConnectionPool(host='upwave.co', port=80): Max retries exceeded with url: /1cArLCl (Caused by ConnectTimeoutError(<urllib3.connection.HTTPConnection object at 0x7d7bf8338280>, 'Connection to upwave.co timed out. (connect timeout=4)'))\n"
          ]
        },
        {
          "output_type": "stream",
          "name": "stderr",
          "text": [
            "Extracting content:  71%|███████   | 3545/5000 [1:28:14<33:31,  1.38s/it]"
          ]
        },
        {
          "output_type": "stream",
          "name": "stdout",
          "text": [
            "Error fetching content: 410 Client Error: Gone for url: http://thechart.blogs.cnn.com/2013/12/18/more-students-think-marijuana-is-ok/\n"
          ]
        },
        {
          "output_type": "stream",
          "name": "stderr",
          "text": [
            "\rExtracting content:  71%|███████   | 3546/5000 [1:28:14<27:15,  1.12s/it]"
          ]
        },
        {
          "output_type": "stream",
          "name": "stdout",
          "text": [
            "Error fetching content: 404 Client Error: Not Found for url: http://rss.cnn.com/~r/rss/cnn_health/~3/T_e6hQAJGMM/ac-making-sense-of-multivitamins.cnn.html?utm_source=twitterfeed&utm_medium=twitter\n"
          ]
        },
        {
          "output_type": "stream",
          "name": "stderr",
          "text": [
            "Extracting content:  71%|███████   | 3548/5000 [1:28:17<25:36,  1.06s/it]"
          ]
        },
        {
          "output_type": "stream",
          "name": "stdout",
          "text": [
            "Error fetching content: 410 Client Error: Gone for url: http://thechart.blogs.cnn.com/2013/12/18/more-students-think-marijuana-is-ok/\n"
          ]
        },
        {
          "output_type": "stream",
          "name": "stderr",
          "text": [
            "Extracting content:  71%|███████   | 3554/5000 [1:28:27<37:31,  1.56s/it]"
          ]
        },
        {
          "output_type": "stream",
          "name": "stdout",
          "text": [
            "Error fetching content: 404 Client Error: Not Found for url: https://www.health.com/health/gallery/0,,20733510,00.html\n"
          ]
        },
        {
          "output_type": "stream",
          "name": "stderr",
          "text": [
            "Extracting content:  71%|███████▏  | 3569/5000 [1:28:50<33:58,  1.42s/it]"
          ]
        },
        {
          "output_type": "stream",
          "name": "stdout",
          "text": [
            "Error fetching content: 410 Client Error: Gone for url: http://thechart.blogs.cnn.com/2013/12/12/flu-activity-increasing-cdc-urges-vaccinations/\n"
          ]
        },
        {
          "output_type": "stream",
          "name": "stderr",
          "text": [
            "Extracting content:  72%|███████▏  | 3582/5000 [1:29:06<22:40,  1.04it/s]"
          ]
        },
        {
          "output_type": "stream",
          "name": "stdout",
          "text": [
            "Error fetching content: 404 Client Error: Not Found for url: https://t.co/Y98tQJe%E2%80%A6\n"
          ]
        },
        {
          "output_type": "stream",
          "name": "stderr",
          "text": [
            "Extracting content:  72%|███████▏  | 3594/5000 [1:29:19<25:00,  1.07s/it]"
          ]
        },
        {
          "output_type": "stream",
          "name": "stdout",
          "text": [
            "Error fetching content: 404 Client Error: Not Found for url: https://edition.cnn.com/2013/12/06/health/arce-rivera-alcohol/index.html.\n"
          ]
        },
        {
          "output_type": "stream",
          "name": "stderr",
          "text": [
            "Extracting content:  72%|███████▏  | 3606/5000 [1:29:33<23:57,  1.03s/it]"
          ]
        },
        {
          "output_type": "stream",
          "name": "stdout",
          "text": [
            "Error fetching content: 410 Client Error: Gone for url: https://healthnewsandviews.wordpress.com/?p=92056\n"
          ]
        },
        {
          "output_type": "stream",
          "name": "stderr",
          "text": [
            "\rExtracting content:  72%|███████▏  | 3607/5000 [1:29:34<21:58,  1.06it/s]"
          ]
        },
        {
          "output_type": "stream",
          "name": "stdout",
          "text": [
            "Error fetching content: 410 Client Error: Gone for url: http://thechart.blogs.cnn.com/2013/12/06/5-studies-you-may-have-missed-10/\n"
          ]
        },
        {
          "output_type": "stream",
          "name": "stderr",
          "text": [
            "Extracting content:  72%|███████▏  | 3610/5000 [1:29:37<23:14,  1.00s/it]"
          ]
        },
        {
          "output_type": "stream",
          "name": "stdout",
          "text": [
            "Error fetching content: 410 Client Error: Gone for url: http://thechart.blogs.cnn.com/2013/12/06/u-s-women-having-fewer-children/\n"
          ]
        },
        {
          "output_type": "stream",
          "name": "stderr",
          "text": [
            "\rExtracting content:  72%|███████▏  | 3611/5000 [1:29:38<21:21,  1.08it/s]"
          ]
        },
        {
          "output_type": "stream",
          "name": "stdout",
          "text": [
            "Error fetching content: 410 Client Error: Gone for url: http://thechart.blogs.cnn.com/2013/12/05/healthy-eating-costs-you-1-50-more-a-day/\n"
          ]
        },
        {
          "output_type": "stream",
          "name": "stderr",
          "text": [
            "Extracting content:  72%|███████▏  | 3620/5000 [1:29:50<26:04,  1.13s/it]"
          ]
        },
        {
          "output_type": "stream",
          "name": "stdout",
          "text": [
            "Error fetching content: 410 Client Error: Gone for url: http://thechart.blogs.cnn.com/2013/12/03/study-theres-no-such-thing-as-healthy-obesity/\n"
          ]
        },
        {
          "output_type": "stream",
          "name": "stderr",
          "text": [
            "\rExtracting content:  72%|███████▏  | 3621/5000 [1:29:51<23:11,  1.01s/it]"
          ]
        },
        {
          "output_type": "stream",
          "name": "stdout",
          "text": [
            "Error fetching content: 410 Client Error: Gone for url: http://thechart.blogs.cnn.com/2013/12/03/study-theres-no-such-thing-as-healthy-obesity/\n"
          ]
        },
        {
          "output_type": "stream",
          "name": "stderr",
          "text": [
            "Extracting content:  73%|███████▎  | 3626/5000 [1:29:57<26:24,  1.15s/it]"
          ]
        },
        {
          "output_type": "stream",
          "name": "stdout",
          "text": [
            "Error fetching content: 404 Client Error: Not Found for url: https://edition.cnn.com/error\n"
          ]
        },
        {
          "output_type": "stream",
          "name": "stderr",
          "text": [
            "Extracting content:  73%|███████▎  | 3631/5000 [1:30:04<28:35,  1.25s/it]"
          ]
        },
        {
          "output_type": "stream",
          "name": "stdout",
          "text": [
            "Error fetching content: 404 Client Error: Not Found for url: https://t.co/9zt7gu9P%E2%80%A6\n"
          ]
        },
        {
          "output_type": "stream",
          "name": "stderr",
          "text": [
            "\rExtracting content:  73%|███████▎  | 3632/5000 [1:30:05<25:55,  1.14s/it]"
          ]
        },
        {
          "output_type": "stream",
          "name": "stdout",
          "text": [
            "Error fetching content: 404 Client Error: Not Found for url: https://edition.cnn.com/error\n"
          ]
        },
        {
          "output_type": "stream",
          "name": "stderr",
          "text": [
            "\rExtracting content:  73%|███████▎  | 3633/5000 [1:30:06<24:03,  1.06s/it]"
          ]
        },
        {
          "output_type": "stream",
          "name": "stdout",
          "text": [
            "Error fetching content: 404 Client Error: Not Found for url: https://edition.cnn.com/error\n"
          ]
        },
        {
          "output_type": "stream",
          "name": "stderr",
          "text": [
            "Extracting content:  73%|███████▎  | 3635/5000 [1:30:08<21:23,  1.06it/s]"
          ]
        },
        {
          "output_type": "stream",
          "name": "stdout",
          "text": [
            "Error fetching content: 404 Client Error: Not Found for url: https://edition.cnn.com/error\n"
          ]
        },
        {
          "output_type": "stream",
          "name": "stderr",
          "text": [
            "\rExtracting content:  73%|███████▎  | 3636/5000 [1:30:09<20:52,  1.09it/s]"
          ]
        },
        {
          "output_type": "stream",
          "name": "stdout",
          "text": [
            "Error fetching content: 404 Client Error: Not Found for url: https://edition.cnn.com/error\n"
          ]
        },
        {
          "output_type": "stream",
          "name": "stderr",
          "text": [
            "Extracting content:  73%|███████▎  | 3638/5000 [1:30:10<19:57,  1.14it/s]"
          ]
        },
        {
          "output_type": "stream",
          "name": "stdout",
          "text": [
            "Error fetching content: 404 Client Error: Not Found for url: https://edition.cnn.com/error\n"
          ]
        },
        {
          "output_type": "stream",
          "name": "stderr",
          "text": [
            "\rExtracting content:  73%|███████▎  | 3639/5000 [1:30:11<19:52,  1.14it/s]"
          ]
        },
        {
          "output_type": "stream",
          "name": "stdout",
          "text": [
            "Error fetching content: 404 Client Error: Not Found for url: https://edition.cnn.com/error\n"
          ]
        },
        {
          "output_type": "stream",
          "name": "stderr",
          "text": [
            "\rExtracting content:  73%|███████▎  | 3640/5000 [1:30:12<19:49,  1.14it/s]"
          ]
        },
        {
          "output_type": "stream",
          "name": "stdout",
          "text": [
            "Error fetching content: 404 Client Error: Not Found for url: https://edition.cnn.com/error\n"
          ]
        },
        {
          "output_type": "stream",
          "name": "stderr",
          "text": [
            "\rExtracting content:  73%|███████▎  | 3641/5000 [1:30:13<19:47,  1.14it/s]"
          ]
        },
        {
          "output_type": "stream",
          "name": "stdout",
          "text": [
            "Error fetching content: 404 Client Error: Not Found for url: https://edition.cnn.com/error\n"
          ]
        },
        {
          "output_type": "stream",
          "name": "stderr",
          "text": [
            "\rExtracting content:  73%|███████▎  | 3642/5000 [1:30:14<20:22,  1.11it/s]"
          ]
        },
        {
          "output_type": "stream",
          "name": "stdout",
          "text": [
            "Error fetching content: 404 Client Error: Not Found for url: https://edition.cnn.com/error\n"
          ]
        },
        {
          "output_type": "stream",
          "name": "stderr",
          "text": [
            "Extracting content:  73%|███████▎  | 3645/5000 [1:30:18<24:37,  1.09s/it]"
          ]
        },
        {
          "output_type": "stream",
          "name": "stdout",
          "text": [
            "Error fetching content: 410 Client Error: Gone for url: http://thechart.blogs.cnn.com/2013/11/25/hospitals-getting-better-at-preventing-mrsa/\n"
          ]
        },
        {
          "output_type": "stream",
          "name": "stderr",
          "text": [
            "\rExtracting content:  73%|███████▎  | 3646/5000 [1:30:19<23:06,  1.02s/it]"
          ]
        },
        {
          "output_type": "stream",
          "name": "stdout",
          "text": [
            "Error fetching content: 404 Client Error: Not Found for url: https://edition.cnn.com/error\n"
          ]
        },
        {
          "output_type": "stream",
          "name": "stderr",
          "text": [
            "Extracting content:  73%|███████▎  | 3650/5000 [1:30:27<45:46,  2.03s/it]"
          ]
        },
        {
          "output_type": "stream",
          "name": "stdout",
          "text": [
            "Error fetching content: HTTPConnectionPool(host='upwave.co', port=80): Max retries exceeded with url: /17J2Wb9 (Caused by ConnectTimeoutError(<urllib3.connection.HTTPConnection object at 0x7d7bfa0607f0>, 'Connection to upwave.co timed out. (connect timeout=4)'))\n"
          ]
        },
        {
          "output_type": "stream",
          "name": "stderr",
          "text": [
            "Extracting content:  73%|███████▎  | 3653/5000 [1:30:30<29:17,  1.31s/it]"
          ]
        },
        {
          "output_type": "stream",
          "name": "stdout",
          "text": [
            "Error fetching content: 410 Client Error: Gone for url: http://thechart.blogs.cnn.com/2013/11/19/got-a-minute-you-could-save-lives/\n"
          ]
        },
        {
          "output_type": "stream",
          "name": "stderr",
          "text": [
            "Extracting content:  73%|███████▎  | 3655/5000 [1:30:33<31:18,  1.40s/it]"
          ]
        },
        {
          "output_type": "stream",
          "name": "stdout",
          "text": [
            "Error fetching content: 404 Client Error: Not Found for url: https://edition.cnn.com/error\n"
          ]
        },
        {
          "output_type": "stream",
          "name": "stderr",
          "text": [
            "Extracting content:  73%|███████▎  | 3659/5000 [1:30:38<27:26,  1.23s/it]"
          ]
        },
        {
          "output_type": "stream",
          "name": "stdout",
          "text": [
            "Error fetching content: 404 Client Error: Not Found for url: https://www.health.com/health/gallery/0,,20464902,00.html\n"
          ]
        },
        {
          "output_type": "stream",
          "name": "stderr",
          "text": [
            "Extracting content:  73%|███████▎  | 3661/5000 [1:30:40<24:49,  1.11s/it]"
          ]
        },
        {
          "output_type": "stream",
          "name": "stdout",
          "text": [
            "Error fetching content: 404 Client Error: Not Found for url: https://edition.cnn.com/error\n"
          ]
        },
        {
          "output_type": "stream",
          "name": "stderr",
          "text": [
            "\rExtracting content:  73%|███████▎  | 3662/5000 [1:30:41<24:13,  1.09s/it]"
          ]
        },
        {
          "output_type": "stream",
          "name": "stdout",
          "text": [
            "Error fetching content: 404 Client Error: Not Found for url: https://edition.cnn.com/error\n"
          ]
        },
        {
          "output_type": "stream",
          "name": "stderr",
          "text": [
            "\rExtracting content:  73%|███████▎  | 3663/5000 [1:30:42<22:45,  1.02s/it]"
          ]
        },
        {
          "output_type": "stream",
          "name": "stdout",
          "text": [
            "Error fetching content: 404 Client Error: Not Found for url: https://edition.cnn.com/error\n"
          ]
        },
        {
          "output_type": "stream",
          "name": "stderr",
          "text": [
            "\rExtracting content:  73%|███████▎  | 3664/5000 [1:30:42<21:41,  1.03it/s]"
          ]
        },
        {
          "output_type": "stream",
          "name": "stdout",
          "text": [
            "Error fetching content: 404 Client Error: Not Found for url: https://edition.cnn.com/error\n"
          ]
        },
        {
          "output_type": "stream",
          "name": "stderr",
          "text": [
            "\rExtracting content:  73%|███████▎  | 3665/5000 [1:30:43<21:02,  1.06it/s]"
          ]
        },
        {
          "output_type": "stream",
          "name": "stdout",
          "text": [
            "Error fetching content: 404 Client Error: Not Found for url: https://edition.cnn.com/error\n"
          ]
        },
        {
          "output_type": "stream",
          "name": "stderr",
          "text": [
            "\rExtracting content:  73%|███████▎  | 3666/5000 [1:30:44<20:29,  1.09it/s]"
          ]
        },
        {
          "output_type": "stream",
          "name": "stdout",
          "text": [
            "Error fetching content: 404 Client Error: Not Found for url: https://edition.cnn.com/error\n"
          ]
        },
        {
          "output_type": "stream",
          "name": "stderr",
          "text": [
            "\rExtracting content:  73%|███████▎  | 3667/5000 [1:30:45<20:16,  1.10it/s]"
          ]
        },
        {
          "output_type": "stream",
          "name": "stdout",
          "text": [
            "Error fetching content: 404 Client Error: Not Found for url: https://edition.cnn.com/error\n"
          ]
        },
        {
          "output_type": "stream",
          "name": "stderr",
          "text": [
            "\rExtracting content:  73%|███████▎  | 3668/5000 [1:30:46<19:59,  1.11it/s]"
          ]
        },
        {
          "output_type": "stream",
          "name": "stdout",
          "text": [
            "Error fetching content: 404 Client Error: Not Found for url: https://edition.cnn.com/error\n"
          ]
        },
        {
          "output_type": "stream",
          "name": "stderr",
          "text": [
            "\rExtracting content:  73%|███████▎  | 3669/5000 [1:30:47<19:49,  1.12it/s]"
          ]
        },
        {
          "output_type": "stream",
          "name": "stdout",
          "text": [
            "Error fetching content: 404 Client Error: Not Found for url: https://edition.cnn.com/error\n"
          ]
        },
        {
          "output_type": "stream",
          "name": "stderr",
          "text": [
            "\rExtracting content:  73%|███████▎  | 3670/5000 [1:30:48<19:46,  1.12it/s]"
          ]
        },
        {
          "output_type": "stream",
          "name": "stdout",
          "text": [
            "Error fetching content: 404 Client Error: Not Found for url: https://edition.cnn.com/error\n"
          ]
        },
        {
          "output_type": "stream",
          "name": "stderr",
          "text": [
            "\rExtracting content:  73%|███████▎  | 3671/5000 [1:30:49<20:44,  1.07it/s]"
          ]
        },
        {
          "output_type": "stream",
          "name": "stdout",
          "text": [
            "Error fetching content: 404 Client Error: Not Found for url: https://edition.cnn.com/error\n"
          ]
        },
        {
          "output_type": "stream",
          "name": "stderr",
          "text": [
            "\rExtracting content:  73%|███████▎  | 3672/5000 [1:30:50<20:31,  1.08it/s]"
          ]
        },
        {
          "output_type": "stream",
          "name": "stdout",
          "text": [
            "Error fetching content: 404 Client Error: Not Found for url: https://edition.cnn.com/error\n"
          ]
        },
        {
          "output_type": "stream",
          "name": "stderr",
          "text": [
            "\rExtracting content:  73%|███████▎  | 3673/5000 [1:30:51<20:07,  1.10it/s]"
          ]
        },
        {
          "output_type": "stream",
          "name": "stdout",
          "text": [
            "Error fetching content: 404 Client Error: Not Found for url: https://edition.cnn.com/error\n"
          ]
        },
        {
          "output_type": "stream",
          "name": "stderr",
          "text": [
            "\rExtracting content:  73%|███████▎  | 3674/5000 [1:30:51<19:53,  1.11it/s]"
          ]
        },
        {
          "output_type": "stream",
          "name": "stdout",
          "text": [
            "Error fetching content: 404 Client Error: Not Found for url: https://edition.cnn.com/error\n"
          ]
        },
        {
          "output_type": "stream",
          "name": "stderr",
          "text": [
            "\rExtracting content:  74%|███████▎  | 3675/5000 [1:30:52<19:49,  1.11it/s]"
          ]
        },
        {
          "output_type": "stream",
          "name": "stdout",
          "text": [
            "Error fetching content: 404 Client Error: Not Found for url: https://edition.cnn.com/error\n"
          ]
        },
        {
          "output_type": "stream",
          "name": "stderr",
          "text": [
            "\rExtracting content:  74%|███████▎  | 3676/5000 [1:30:53<19:42,  1.12it/s]"
          ]
        },
        {
          "output_type": "stream",
          "name": "stdout",
          "text": [
            "Error fetching content: 404 Client Error: Not Found for url: https://edition.cnn.com/error\n"
          ]
        },
        {
          "output_type": "stream",
          "name": "stderr",
          "text": [
            "Extracting content:  74%|███████▍  | 3688/5000 [1:31:10<26:45,  1.22s/it]"
          ]
        },
        {
          "output_type": "stream",
          "name": "stdout",
          "text": [
            "Error fetching content: 410 Client Error: Gone for url: http://thechart.blogs.cnn.com/2013/11/14/diabetes-continues-to-spread-around-the-world/\n"
          ]
        },
        {
          "output_type": "stream",
          "name": "stderr",
          "text": [
            "\rExtracting content:  74%|███████▍  | 3689/5000 [1:31:11<22:45,  1.04s/it]"
          ]
        },
        {
          "output_type": "stream",
          "name": "stdout",
          "text": [
            "Error fetching content: 404 Client Error: Not Found for url: https://t.co/7a74p%E2%80%A6\n"
          ]
        },
        {
          "output_type": "stream",
          "name": "stderr",
          "text": [
            "Extracting content:  74%|███████▍  | 3701/5000 [1:31:25<23:30,  1.09s/it]"
          ]
        },
        {
          "output_type": "stream",
          "name": "stdout",
          "text": [
            "Error fetching content: 404 Client Error: Not Found for url: https://edition.cnn.com/error\n"
          ]
        },
        {
          "output_type": "stream",
          "name": "stderr",
          "text": [
            "Extracting content:  74%|███████▍  | 3714/5000 [1:31:44<30:13,  1.41s/it]"
          ]
        },
        {
          "output_type": "stream",
          "name": "stdout",
          "text": [
            "Error fetching content: 410 Client Error: Gone for url: http://thechart.blogs.cnn.com/2013/11/06/study-signs-of-autism-may-show-up-as-early-as-first-month/\n"
          ]
        },
        {
          "output_type": "stream",
          "name": "stderr",
          "text": [
            "\rExtracting content:  74%|███████▍  | 3715/5000 [1:31:45<25:49,  1.21s/it]"
          ]
        },
        {
          "output_type": "stream",
          "name": "stdout",
          "text": [
            "Error fetching content: 410 Client Error: Gone for url: http://thechart.blogs.cnn.com/2013/11/06/study-signs-of-autism-may-show-up-as-early-as-first-month/\n"
          ]
        },
        {
          "output_type": "stream",
          "name": "stderr",
          "text": [
            "Extracting content:  74%|███████▍  | 3720/5000 [1:31:52<28:58,  1.36s/it]"
          ]
        },
        {
          "output_type": "stream",
          "name": "stdout",
          "text": [
            "Error fetching content: 410 Client Error: Gone for url: http://thechart.blogs.cnn.com/\n"
          ]
        },
        {
          "output_type": "stream",
          "name": "stderr",
          "text": [
            "\rExtracting content:  74%|███████▍  | 3722/5000 [1:31:53<19:13,  1.11it/s]"
          ]
        },
        {
          "output_type": "stream",
          "name": "stdout",
          "text": [
            "Error fetching content: 410 Client Error: Gone for url: http://thechart.blogs.cnn.com/2013/11/05/testosterone-treatment-could-be-dangerous-to-the-heart/\n"
          ]
        },
        {
          "output_type": "stream",
          "name": "stderr",
          "text": [
            "Extracting content:  74%|███████▍  | 3724/5000 [1:31:56<22:05,  1.04s/it]"
          ]
        },
        {
          "output_type": "stream",
          "name": "stdout",
          "text": [
            "Error fetching content: 410 Client Error: Gone for url: http://politicalticker.blogs.cnn.com/2013/11/05/debunking-4-obamacare-myths-both-sides-get-it-wrong/\n"
          ]
        },
        {
          "output_type": "stream",
          "name": "stderr",
          "text": [
            "Extracting content:  75%|███████▍  | 3726/5000 [1:31:58<20:43,  1.02it/s]"
          ]
        },
        {
          "output_type": "stream",
          "name": "stdout",
          "text": [
            "Error fetching content: 410 Client Error: Gone for url: http://thechart.blogs.cnn.com/2013/11/05/banned-pesticides-linked-to-endometriosis/?hpt=he_c2\n"
          ]
        },
        {
          "output_type": "stream",
          "name": "stderr",
          "text": [
            "Extracting content:  75%|███████▍  | 3729/5000 [1:32:01<21:31,  1.02s/it]"
          ]
        },
        {
          "output_type": "stream",
          "name": "stdout",
          "text": [
            "Error fetching content: 410 Client Error: Gone for url: http://thechart.blogs.cnn.com/2013/11/04/improved-brain-injury-survival-furthers-organ-shortage/\n"
          ]
        },
        {
          "output_type": "stream",
          "name": "stderr",
          "text": [
            "Extracting content:  75%|███████▍  | 3732/5000 [1:32:04<20:43,  1.02it/s]"
          ]
        },
        {
          "output_type": "stream",
          "name": "stdout",
          "text": [
            "Error fetching content: 410 Client Error: Gone for url: http://thechart.blogs.cnn.com/2013/11/04/a-single-dose-of-hpv-vaccine-may-be-enough/?hpt=he_c2\n"
          ]
        },
        {
          "output_type": "stream",
          "name": "stderr",
          "text": [
            "Extracting content:  75%|███████▍  | 3734/5000 [1:32:07<22:51,  1.08s/it]"
          ]
        },
        {
          "output_type": "stream",
          "name": "stdout",
          "text": [
            "Error fetching content: Failed to parse: http://t.co…\n"
          ]
        },
        {
          "output_type": "stream",
          "name": "stderr",
          "text": [
            "Extracting content:  75%|███████▍  | 3737/5000 [1:32:10<22:53,  1.09s/it]"
          ]
        },
        {
          "output_type": "stream",
          "name": "stdout",
          "text": [
            "Error fetching content: 404 Client Error: Not Found for url: https://edition.cnn.com/error\n"
          ]
        },
        {
          "output_type": "stream",
          "name": "stderr",
          "text": [
            "\rExtracting content:  75%|███████▍  | 3738/5000 [1:32:11<21:47,  1.04s/it]"
          ]
        },
        {
          "output_type": "stream",
          "name": "stdout",
          "text": [
            "Error fetching content: 404 Client Error: Not Found for url: https://edition.cnn.com/error\n"
          ]
        },
        {
          "output_type": "stream",
          "name": "stderr",
          "text": [
            "\rExtracting content:  75%|███████▍  | 3739/5000 [1:32:12<20:52,  1.01it/s]"
          ]
        },
        {
          "output_type": "stream",
          "name": "stdout",
          "text": [
            "Error fetching content: 404 Client Error: Not Found for url: https://edition.cnn.com/error\n"
          ]
        },
        {
          "output_type": "stream",
          "name": "stderr",
          "text": [
            "\rExtracting content:  75%|███████▍  | 3740/5000 [1:32:13<20:06,  1.04it/s]"
          ]
        },
        {
          "output_type": "stream",
          "name": "stdout",
          "text": [
            "Error fetching content: 404 Client Error: Not Found for url: https://edition.cnn.com/error\n"
          ]
        },
        {
          "output_type": "stream",
          "name": "stderr",
          "text": [
            "\rExtracting content:  75%|███████▍  | 3741/5000 [1:32:13<19:34,  1.07it/s]"
          ]
        },
        {
          "output_type": "stream",
          "name": "stdout",
          "text": [
            "Error fetching content: 404 Client Error: Not Found for url: https://edition.cnn.com/error\n"
          ]
        },
        {
          "output_type": "stream",
          "name": "stderr",
          "text": [
            "Extracting content:  75%|███████▍  | 3743/5000 [1:32:15<20:13,  1.04it/s]"
          ]
        },
        {
          "output_type": "stream",
          "name": "stdout",
          "text": [
            "Error fetching content: 404 Client Error: Not Found for url: https://edition.cnn.com/error\n"
          ]
        },
        {
          "output_type": "stream",
          "name": "stderr",
          "text": [
            "\rExtracting content:  75%|███████▍  | 3744/5000 [1:32:16<19:43,  1.06it/s]"
          ]
        },
        {
          "output_type": "stream",
          "name": "stdout",
          "text": [
            "Error fetching content: 404 Client Error: Not Found for url: https://edition.cnn.com/error\n"
          ]
        },
        {
          "output_type": "stream",
          "name": "stderr",
          "text": [
            "\rExtracting content:  75%|███████▍  | 3745/5000 [1:32:17<19:14,  1.09it/s]"
          ]
        },
        {
          "output_type": "stream",
          "name": "stdout",
          "text": [
            "Error fetching content: 404 Client Error: Not Found for url: https://edition.cnn.com/error\n"
          ]
        },
        {
          "output_type": "stream",
          "name": "stderr",
          "text": [
            "\rExtracting content:  75%|███████▍  | 3746/5000 [1:32:21<38:17,  1.83s/it]"
          ]
        },
        {
          "output_type": "stream",
          "name": "stdout",
          "text": [
            "Error fetching content: 404 Client Error: Not Found for url: https://www.michiganmedicine.org/news/archive/201310/pregnant-women-who-snore-higher-risk-c-sections-delivering\n"
          ]
        },
        {
          "output_type": "stream",
          "name": "stderr",
          "text": [
            "\rExtracting content:  75%|███████▍  | 3747/5000 [1:32:22<32:16,  1.55s/it]"
          ]
        },
        {
          "output_type": "stream",
          "name": "stdout",
          "text": [
            "Error fetching content: 404 Client Error: Not Found for url: https://edition.cnn.com/error\n"
          ]
        },
        {
          "output_type": "stream",
          "name": "stderr",
          "text": [
            "\rExtracting content:  75%|███████▍  | 3748/5000 [1:32:23<28:09,  1.35s/it]"
          ]
        },
        {
          "output_type": "stream",
          "name": "stdout",
          "text": [
            "Error fetching content: 404 Client Error: Not Found for url: https://edition.cnn.com/error\n"
          ]
        },
        {
          "output_type": "stream",
          "name": "stderr",
          "text": [
            "\rExtracting content:  75%|███████▍  | 3749/5000 [1:32:24<25:07,  1.20s/it]"
          ]
        },
        {
          "output_type": "stream",
          "name": "stdout",
          "text": [
            "Error fetching content: 404 Client Error: Not Found for url: https://edition.cnn.com/error\n"
          ]
        },
        {
          "output_type": "stream",
          "name": "stderr",
          "text": [
            "\rExtracting content:  75%|███████▌  | 3750/5000 [1:32:25<23:04,  1.11s/it]"
          ]
        },
        {
          "output_type": "stream",
          "name": "stdout",
          "text": [
            "Error fetching content: 404 Client Error: Not Found for url: https://edition.cnn.com/error\n"
          ]
        },
        {
          "output_type": "stream",
          "name": "stderr",
          "text": [
            "\rExtracting content:  75%|███████▌  | 3751/5000 [1:32:26<21:35,  1.04s/it]"
          ]
        },
        {
          "output_type": "stream",
          "name": "stdout",
          "text": [
            "Error fetching content: 404 Client Error: Not Found for url: https://edition.cnn.com/error\n"
          ]
        },
        {
          "output_type": "stream",
          "name": "stderr",
          "text": [
            "\rExtracting content:  75%|███████▌  | 3752/5000 [1:32:27<20:38,  1.01it/s]"
          ]
        },
        {
          "output_type": "stream",
          "name": "stdout",
          "text": [
            "Error fetching content: 404 Client Error: Not Found for url: https://edition.cnn.com/error\n"
          ]
        },
        {
          "output_type": "stream",
          "name": "stderr",
          "text": [
            "\rExtracting content:  75%|███████▌  | 3753/5000 [1:32:27<19:50,  1.05it/s]"
          ]
        },
        {
          "output_type": "stream",
          "name": "stdout",
          "text": [
            "Error fetching content: 404 Client Error: Not Found for url: https://edition.cnn.com/error\n"
          ]
        },
        {
          "output_type": "stream",
          "name": "stderr",
          "text": [
            "\rExtracting content:  75%|███████▌  | 3754/5000 [1:32:29<21:13,  1.02s/it]"
          ]
        },
        {
          "output_type": "stream",
          "name": "stdout",
          "text": [
            "Error fetching content: 404 Client Error: Not Found for url: https://www.eatingwell.com/healthy_cooking/healthy_cooking_101_basics_techniques/kitchen_tips_techniques/how_to_cook_pumpkin\n"
          ]
        },
        {
          "output_type": "stream",
          "name": "stderr",
          "text": [
            "\rExtracting content:  75%|███████▌  | 3755/5000 [1:32:29<20:20,  1.02it/s]"
          ]
        },
        {
          "output_type": "stream",
          "name": "stdout",
          "text": [
            "Error fetching content: 404 Client Error: Not Found for url: https://edition.cnn.com/error\n"
          ]
        },
        {
          "output_type": "stream",
          "name": "stderr",
          "text": [
            "\rExtracting content:  75%|███████▌  | 3756/5000 [1:32:30<19:39,  1.05it/s]"
          ]
        },
        {
          "output_type": "stream",
          "name": "stdout",
          "text": [
            "Error fetching content: 404 Client Error: Not Found for url: https://edition.cnn.com/error\n"
          ]
        },
        {
          "output_type": "stream",
          "name": "stderr",
          "text": [
            "\rExtracting content:  75%|███████▌  | 3757/5000 [1:32:31<19:57,  1.04it/s]"
          ]
        },
        {
          "output_type": "stream",
          "name": "stdout",
          "text": [
            "Error fetching content: 404 Client Error: Not Found for url: https://edition.cnn.com/error\n"
          ]
        },
        {
          "output_type": "stream",
          "name": "stderr",
          "text": [
            "\rExtracting content:  75%|███████▌  | 3758/5000 [1:32:32<19:40,  1.05it/s]"
          ]
        },
        {
          "output_type": "stream",
          "name": "stdout",
          "text": [
            "Error fetching content: 404 Client Error: Not Found for url: https://edition.cnn.com/error\n"
          ]
        },
        {
          "output_type": "stream",
          "name": "stderr",
          "text": [
            "Extracting content:  75%|███████▌  | 3761/5000 [1:32:35<17:27,  1.18it/s]"
          ]
        },
        {
          "output_type": "stream",
          "name": "stdout",
          "text": [
            "Error fetching content: 404 Client Error: Not Found for url: https://edition.cnn.com/error\n"
          ]
        },
        {
          "output_type": "stream",
          "name": "stderr",
          "text": [
            "\rExtracting content:  75%|███████▌  | 3762/5000 [1:32:35<17:39,  1.17it/s]"
          ]
        },
        {
          "output_type": "stream",
          "name": "stdout",
          "text": [
            "Error fetching content: 404 Client Error: Not Found for url: https://edition.cnn.com/error\n"
          ]
        },
        {
          "output_type": "stream",
          "name": "stderr",
          "text": [
            "\rExtracting content:  75%|███████▌  | 3763/5000 [1:32:36<17:47,  1.16it/s]"
          ]
        },
        {
          "output_type": "stream",
          "name": "stdout",
          "text": [
            "Error fetching content: 404 Client Error: Not Found for url: https://edition.cnn.com/error\n"
          ]
        },
        {
          "output_type": "stream",
          "name": "stderr",
          "text": [
            "Extracting content:  75%|███████▌  | 3765/5000 [1:32:37<12:46,  1.61it/s]"
          ]
        },
        {
          "output_type": "stream",
          "name": "stdout",
          "text": [
            "Error fetching content: 404 Client Error: Not Found for url: http://bit.ly/1auWtgS\n"
          ]
        },
        {
          "output_type": "stream",
          "name": "stderr",
          "text": [
            "\rExtracting content:  75%|███████▌  | 3766/5000 [1:32:38<14:19,  1.44it/s]"
          ]
        },
        {
          "output_type": "stream",
          "name": "stdout",
          "text": [
            "Error fetching content: 404 Client Error: Not Found for url: https://edition.cnn.com/error\n"
          ]
        },
        {
          "output_type": "stream",
          "name": "stderr",
          "text": [
            "\rExtracting content:  75%|███████▌  | 3767/5000 [1:32:39<15:27,  1.33it/s]"
          ]
        },
        {
          "output_type": "stream",
          "name": "stdout",
          "text": [
            "Error fetching content: 404 Client Error: Not Found for url: https://edition.cnn.com/error\n"
          ]
        },
        {
          "output_type": "stream",
          "name": "stderr",
          "text": [
            "\rExtracting content:  75%|███████▌  | 3768/5000 [1:32:40<16:17,  1.26it/s]"
          ]
        },
        {
          "output_type": "stream",
          "name": "stdout",
          "text": [
            "Error fetching content: 404 Client Error: Not Found for url: https://edition.cnn.com/error\n"
          ]
        },
        {
          "output_type": "stream",
          "name": "stderr",
          "text": [
            "Extracting content:  75%|███████▌  | 3770/5000 [1:32:41<15:25,  1.33it/s]"
          ]
        },
        {
          "output_type": "stream",
          "name": "stdout",
          "text": [
            "Error fetching content: 404 Client Error: Not Found for url: https://www.health.com/health/gallery/0,,20395219_16,00.html\n"
          ]
        },
        {
          "output_type": "stream",
          "name": "stderr",
          "text": [
            "\rExtracting content:  75%|███████▌  | 3771/5000 [1:32:42<16:24,  1.25it/s]"
          ]
        },
        {
          "output_type": "stream",
          "name": "stdout",
          "text": [
            "Error fetching content: 404 Client Error: Not Found for url: https://edition.cnn.com/error\n",
            "Error fetching content: 410 Client Error: Gone for url: http://thechart.blogs.cnn.com/2013/10/25/5-studies-you-may-have-missed-5/\n"
          ]
        },
        {
          "output_type": "stream",
          "name": "stderr",
          "text": [
            "\rExtracting content:  75%|███████▌  | 3773/5000 [1:32:43<13:32,  1.51it/s]"
          ]
        },
        {
          "output_type": "stream",
          "name": "stdout",
          "text": [
            "Error fetching content: 404 Client Error: Not Found for url: https://edition.cnn.com/error\n"
          ]
        },
        {
          "output_type": "stream",
          "name": "stderr",
          "text": [
            "\rExtracting content:  75%|███████▌  | 3774/5000 [1:32:44<14:52,  1.37it/s]"
          ]
        },
        {
          "output_type": "stream",
          "name": "stdout",
          "text": [
            "Error fetching content: 404 Client Error: Not Found for url: https://edition.cnn.com/error\n"
          ]
        },
        {
          "output_type": "stream",
          "name": "stderr",
          "text": [
            "\rExtracting content:  76%|███████▌  | 3775/5000 [1:32:45<15:40,  1.30it/s]"
          ]
        },
        {
          "output_type": "stream",
          "name": "stdout",
          "text": [
            "Error fetching content: 404 Client Error: Not Found for url: https://edition.cnn.com/error\n"
          ]
        },
        {
          "output_type": "stream",
          "name": "stderr",
          "text": [
            "\rExtracting content:  76%|███████▌  | 3776/5000 [1:32:46<16:15,  1.25it/s]"
          ]
        },
        {
          "output_type": "stream",
          "name": "stdout",
          "text": [
            "Error fetching content: 404 Client Error: Not Found for url: https://edition.cnn.com/error\n"
          ]
        },
        {
          "output_type": "stream",
          "name": "stderr",
          "text": [
            "\rExtracting content:  76%|███████▌  | 3777/5000 [1:32:47<16:48,  1.21it/s]"
          ]
        },
        {
          "output_type": "stream",
          "name": "stdout",
          "text": [
            "Error fetching content: 404 Client Error: Not Found for url: https://edition.cnn.com/error\n",
            "Error fetching content: 410 Client Error: Gone for url: http://newday.blogs.cnn.com/2013/10/25/kate-bolduans-instagram-challenge-week-two-weeklyworkout/\n"
          ]
        },
        {
          "output_type": "stream",
          "name": "stderr",
          "text": [
            "\rExtracting content:  76%|███████▌  | 3779/5000 [1:32:48<13:22,  1.52it/s]"
          ]
        },
        {
          "output_type": "stream",
          "name": "stdout",
          "text": [
            "Error fetching content: 404 Client Error: Not Found for url: https://edition.cnn.com/error\n"
          ]
        },
        {
          "output_type": "stream",
          "name": "stderr",
          "text": [
            "\rExtracting content:  76%|███████▌  | 3780/5000 [1:32:48<14:28,  1.40it/s]"
          ]
        },
        {
          "output_type": "stream",
          "name": "stdout",
          "text": [
            "Error fetching content: 404 Client Error: Not Found for url: https://edition.cnn.com/error\n"
          ]
        },
        {
          "output_type": "stream",
          "name": "stderr",
          "text": [
            "\rExtracting content:  76%|███████▌  | 3781/5000 [1:32:49<15:53,  1.28it/s]"
          ]
        },
        {
          "output_type": "stream",
          "name": "stdout",
          "text": [
            "Error fetching content: 404 Client Error: Not Found for url: https://edition.cnn.com/error\n"
          ]
        },
        {
          "output_type": "stream",
          "name": "stderr",
          "text": [
            "\rExtracting content:  76%|███████▌  | 3782/5000 [1:32:50<16:24,  1.24it/s]"
          ]
        },
        {
          "output_type": "stream",
          "name": "stdout",
          "text": [
            "Error fetching content: 404 Client Error: Not Found for url: https://edition.cnn.com/error\n"
          ]
        },
        {
          "output_type": "stream",
          "name": "stderr",
          "text": [
            "\rExtracting content:  76%|███████▌  | 3783/5000 [1:32:51<15:52,  1.28it/s]"
          ]
        },
        {
          "output_type": "stream",
          "name": "stdout",
          "text": [
            "Error fetching content: 410 Client Error: Gone for url: http://thechart.blogs.cnn.com/2013/10/22/from-a-mouses-back-hair-restoration-hope/?hpt=he_c2\n"
          ]
        },
        {
          "output_type": "stream",
          "name": "stderr",
          "text": [
            "Extracting content:  76%|███████▌  | 3786/5000 [1:32:52<11:46,  1.72it/s]"
          ]
        },
        {
          "output_type": "stream",
          "name": "stdout",
          "text": [
            "Error fetching content: 410 Client Error: Gone for url: http://thechart.blogs.cnn.com/2013/10/21/buying-breast-milk-online-beware/?hpt=he_c2\n"
          ]
        },
        {
          "output_type": "stream",
          "name": "stderr",
          "text": [
            "Extracting content:  76%|███████▌  | 3793/5000 [1:33:01<33:39,  1.67s/it]"
          ]
        },
        {
          "output_type": "stream",
          "name": "stdout",
          "text": [
            "Error fetching content: HTTPConnectionPool(host='upwave.co', port=80): Max retries exceeded with url: /18pyCjM (Caused by ConnectTimeoutError(<urllib3.connection.HTTPConnection object at 0x7d7bf8fe7730>, 'Connection to upwave.co timed out. (connect timeout=4)'))\n"
          ]
        },
        {
          "output_type": "stream",
          "name": "stderr",
          "text": [
            "Extracting content:  76%|███████▌  | 3795/5000 [1:33:02<23:43,  1.18s/it]"
          ]
        },
        {
          "output_type": "stream",
          "name": "stdout",
          "text": [
            "Error fetching content: 404 Client Error: Not Found for url: https://tinyurl.com/kt4zx6n.\n",
            "Error fetching content: 410 Client Error: Gone for url: http://thechart.blogs.cnn.com/2013/10/16/attention-sperm-bacon-bad-fish-good/\n",
            "Error fetching content: Failed to parse: http://…\n"
          ]
        },
        {
          "output_type": "stream",
          "name": "stderr",
          "text": [
            "Extracting content:  76%|███████▌  | 3800/5000 [1:33:07<27:58,  1.40s/it]"
          ]
        },
        {
          "output_type": "stream",
          "name": "stdout",
          "text": [
            "Error fetching content: HTTPConnectionPool(host='on.cnn.com', port=80): Max retries exceeded with url: /1bwg1Co (Caused by ConnectTimeoutError(<urllib3.connection.HTTPConnection object at 0x7d7bf8e9e860>, 'Connection to on.cnn.com timed out. (connect timeout=4)'))\n",
            "Error fetching content: 410 Client Error: Gone for url: http://thechart.blogs.cnn.com/2013/10/15/30000-may-carry-human-form-of-mad-cow/\n"
          ]
        },
        {
          "output_type": "stream",
          "name": "stderr",
          "text": [
            "Extracting content:  76%|███████▌  | 3804/5000 [1:33:14<35:12,  1.77s/it]"
          ]
        },
        {
          "output_type": "stream",
          "name": "stdout",
          "text": [
            "Error fetching content: HTTPConnectionPool(host='on.cnn.com', port=80): Max retries exceeded with url: /1aG810k (Caused by ConnectTimeoutError(<urllib3.connection.HTTPConnection object at 0x7d7bf8dac700>, 'Connection to on.cnn.com timed out. (connect timeout=4)'))\n",
            "Error fetching content: 410 Client Error: Gone for url: http://thechart.blogs.cnn.com/2013/10/14/study-diet-supplement-has-meth-like-chemical/\n"
          ]
        },
        {
          "output_type": "stream",
          "name": "stderr",
          "text": [
            "Extracting content:  76%|███████▌  | 3808/5000 [1:33:19<36:25,  1.83s/it]"
          ]
        },
        {
          "output_type": "stream",
          "name": "stdout",
          "text": [
            "Error fetching content: HTTPConnectionPool(host='on.cnn.com', port=80): Max retries exceeded with url: /1agl2fP (Caused by ConnectTimeoutError(<urllib3.connection.HTTPConnection object at 0x7d7bf93d8340>, 'Connection to on.cnn.com timed out. (connect timeout=4)'))\n"
          ]
        },
        {
          "output_type": "stream",
          "name": "stderr",
          "text": [
            "\rExtracting content:  76%|███████▌  | 3809/5000 [1:33:23<47:32,  2.40s/it]"
          ]
        },
        {
          "output_type": "stream",
          "name": "stdout",
          "text": [
            "Error fetching content: HTTPConnectionPool(host='on.cnn.com', port=80): Max retries exceeded with url: /1cFft0A (Caused by ConnectTimeoutError(<urllib3.connection.HTTPConnection object at 0x7d7bf93d8b80>, 'Connection to on.cnn.com timed out. (connect timeout=4)'))\n"
          ]
        },
        {
          "output_type": "stream",
          "name": "stderr",
          "text": [
            "Extracting content:  76%|███████▋  | 3813/5000 [1:33:26<23:08,  1.17s/it]"
          ]
        },
        {
          "output_type": "stream",
          "name": "stdout",
          "text": [
            "Error fetching content: 404 Client Error: Not Found for url: https://t.co/qx1%E2%80%A6\n"
          ]
        },
        {
          "output_type": "stream",
          "name": "stderr",
          "text": [
            "Extracting content:  76%|███████▋  | 3815/5000 [1:33:32<39:42,  2.01s/it]"
          ]
        },
        {
          "output_type": "stream",
          "name": "stdout",
          "text": [
            "Error fetching content: HTTPConnectionPool(host='on.cnn.com', port=80): Max retries exceeded with url: /1bgB37P (Caused by ConnectTimeoutError(<urllib3.connection.HTTPConnection object at 0x7d7bfa0c2530>, 'Connection to on.cnn.com timed out. (connect timeout=4)'))\n"
          ]
        },
        {
          "output_type": "stream",
          "name": "stderr",
          "text": [
            "\rExtracting content:  76%|███████▋  | 3816/5000 [1:33:36<51:21,  2.60s/it]"
          ]
        },
        {
          "output_type": "stream",
          "name": "stdout",
          "text": [
            "Error fetching content: HTTPConnectionPool(host='on.cnn.com', port=80): Max retries exceeded with url: /15ruChD (Caused by ConnectTimeoutError(<urllib3.connection.HTTPConnection object at 0x7d7bfa0c1cc0>, 'Connection to on.cnn.com timed out. (connect timeout=4)'))\n"
          ]
        },
        {
          "output_type": "stream",
          "name": "stderr",
          "text": [
            "Extracting content:  76%|███████▋  | 3818/5000 [1:33:40<49:50,  2.53s/it]"
          ]
        },
        {
          "output_type": "stream",
          "name": "stdout",
          "text": [
            "Error fetching content: HTTPConnectionPool(host='upwave.co', port=80): Max retries exceeded with url: /18SjdaS (Caused by ConnectTimeoutError(<urllib3.connection.HTTPConnection object at 0x7d7bf9527250>, 'Connection to upwave.co timed out. (connect timeout=4)'))\n"
          ]
        },
        {
          "output_type": "stream",
          "name": "stderr",
          "text": [
            "\rExtracting content:  76%|███████▋  | 3819/5000 [1:33:44<58:32,  2.97s/it]"
          ]
        },
        {
          "output_type": "stream",
          "name": "stdout",
          "text": [
            "Error fetching content: HTTPConnectionPool(host='on.cnn.com', port=80): Max retries exceeded with url: /16y2hab (Caused by ConnectTimeoutError(<urllib3.connection.HTTPConnection object at 0x7d7bf9524b20>, 'Connection to on.cnn.com timed out. (connect timeout=4)'))\n"
          ]
        },
        {
          "output_type": "stream",
          "name": "stderr",
          "text": [
            "Extracting content:  76%|███████▋  | 3821/5000 [1:33:48<53:10,  2.71s/it]"
          ]
        },
        {
          "output_type": "stream",
          "name": "stdout",
          "text": [
            "Error fetching content: HTTPConnectionPool(host='on.cnn.com', port=80): Max retries exceeded with url: /16y2hab (Caused by ConnectTimeoutError(<urllib3.connection.HTTPConnection object at 0x7d7bf8e1d2a0>, 'Connection to on.cnn.com timed out. (connect timeout=4)'))\n"
          ]
        },
        {
          "output_type": "stream",
          "name": "stderr",
          "text": [
            "\rExtracting content:  76%|███████▋  | 3822/5000 [1:33:52<1:00:47,  3.10s/it]"
          ]
        },
        {
          "output_type": "stream",
          "name": "stdout",
          "text": [
            "Error fetching content: HTTPConnectionPool(host='on.cnn.com', port=80): Max retries exceeded with url: /16xeLyX (Caused by ConnectTimeoutError(<urllib3.connection.HTTPConnection object at 0x7d7bf8e1dc00>, 'Connection to on.cnn.com timed out. (connect timeout=4)'))\n"
          ]
        },
        {
          "output_type": "stream",
          "name": "stderr",
          "text": [
            "Extracting content:  76%|███████▋  | 3825/5000 [1:33:57<47:19,  2.42s/it]"
          ]
        },
        {
          "output_type": "stream",
          "name": "stdout",
          "text": [
            "Error fetching content: HTTPConnectionPool(host='on.cnn.com', port=80): Max retries exceeded with url: /17eEngB (Caused by ConnectTimeoutError(<urllib3.connection.HTTPConnection object at 0x7d7bf8ecc970>, 'Connection to on.cnn.com timed out. (connect timeout=4)'))\n"
          ]
        },
        {
          "output_type": "stream",
          "name": "stderr",
          "text": [
            "Extracting content:  77%|███████▋  | 3827/5000 [1:34:02<49:18,  2.52s/it]"
          ]
        },
        {
          "output_type": "stream",
          "name": "stdout",
          "text": [
            "Error fetching content: HTTPConnectionPool(host='on.cnn.com', port=80): Max retries exceeded with url: /1coPDhd (Caused by ConnectTimeoutError(<urllib3.connection.HTTPConnection object at 0x7d7bf8ca0310>, 'Connection to on.cnn.com timed out. (connect timeout=4)'))\n"
          ]
        },
        {
          "output_type": "stream",
          "name": "stderr",
          "text": [
            "\rExtracting content:  77%|███████▋  | 3828/5000 [1:34:06<57:59,  2.97s/it]"
          ]
        },
        {
          "output_type": "stream",
          "name": "stdout",
          "text": [
            "Error fetching content: HTTPConnectionPool(host='on.cnn.com', port=80): Max retries exceeded with url: /1cn3Ew2 (Caused by ConnectTimeoutError(<urllib3.connection.HTTPConnection object at 0x7d7bf8ca0b50>, 'Connection to on.cnn.com timed out. (connect timeout=4)'))\n"
          ]
        },
        {
          "output_type": "stream",
          "name": "stderr",
          "text": [
            "Extracting content:  77%|███████▋  | 3830/5000 [1:34:10<55:27,  2.84s/it]"
          ]
        },
        {
          "output_type": "stream",
          "name": "stdout",
          "text": [
            "Error fetching content: HTTPConnectionPool(host='on.cnn.com', port=80): Max retries exceeded with url: /1cn3Ew2 (Caused by ConnectTimeoutError(<urllib3.connection.HTTPConnection object at 0x7d7bf81883a0>, 'Connection to on.cnn.com timed out. (connect timeout=4)'))\n"
          ]
        },
        {
          "output_type": "stream",
          "name": "stderr",
          "text": [
            "\rExtracting content:  77%|███████▋  | 3831/5000 [1:34:14<1:02:14,  3.19s/it]"
          ]
        },
        {
          "output_type": "stream",
          "name": "stdout",
          "text": [
            "Error fetching content: HTTPConnectionPool(host='on.cnn.com', port=80): Max retries exceeded with url: /19ZTATf (Caused by ConnectTimeoutError(<urllib3.connection.HTTPConnection object at 0x7d7bf817f190>, 'Connection to on.cnn.com timed out. (connect timeout=4)'))\n",
            "Error fetching content: 410 Client Error: Gone for url: http://thechart.blogs.cnn.com/2013/10/04/5-studies-you-may-have-missed-2/\n"
          ]
        },
        {
          "output_type": "stream",
          "name": "stderr",
          "text": [
            "Extracting content:  77%|███████▋  | 3837/5000 [1:34:20<25:21,  1.31s/it]"
          ]
        },
        {
          "output_type": "stream",
          "name": "stdout",
          "text": [
            "Error fetching content: HTTPConnectionPool(host='on.cnn.com', port=80): Max retries exceeded with url: /1dYpxQ9 (Caused by ConnectTimeoutError(<urllib3.connection.HTTPConnection object at 0x7d7bf8c811e0>, 'Connection to on.cnn.com timed out. (connect timeout=4)'))\n",
            "Error fetching content: 410 Client Error: Gone for url: http://thechart.blogs.cnn.com/2013/10/03/doctors-still-overprescribing-antibiotics/\n"
          ]
        },
        {
          "output_type": "stream",
          "name": "stderr",
          "text": [
            "Extracting content:  77%|███████▋  | 3840/5000 [1:34:24<31:46,  1.64s/it]"
          ]
        },
        {
          "output_type": "stream",
          "name": "stdout",
          "text": [
            "Error fetching content: HTTPConnectionPool(host='on.cnn.com', port=80): Max retries exceeded with url: /16inogx (Caused by ConnectTimeoutError(<urllib3.connection.HTTPConnection object at 0x7d7bf8c81690>, 'Connection to on.cnn.com timed out. (connect timeout=4)'))\n"
          ]
        },
        {
          "output_type": "stream",
          "name": "stderr",
          "text": [
            "\rExtracting content:  77%|███████▋  | 3841/5000 [1:34:25<26:39,  1.38s/it]"
          ]
        },
        {
          "output_type": "stream",
          "name": "stdout",
          "text": [
            "Error fetching content: 404 Client Error: Not Found for url: https://t.co/YcQ64Y%E2%80%A6\n"
          ]
        },
        {
          "output_type": "stream",
          "name": "stderr",
          "text": [
            "\rExtracting content:  77%|███████▋  | 3842/5000 [1:34:26<22:26,  1.16s/it]"
          ]
        },
        {
          "output_type": "stream",
          "name": "stdout",
          "text": [
            "Error fetching content: 404 Client Error: Not Found for url: https://t.co/aSRssjo%E2%80%A6\n"
          ]
        },
        {
          "output_type": "stream",
          "name": "stderr",
          "text": [
            "Extracting content:  77%|███████▋  | 3844/5000 [1:34:27<18:50,  1.02it/s]"
          ]
        },
        {
          "output_type": "stream",
          "name": "stdout",
          "text": [
            "Error fetching content: 410 Client Error: Gone for url: http://thechart.blogs.cnn.com/2013/10/01/the-last-word-on-hormone-therapy/\n"
          ]
        },
        {
          "output_type": "stream",
          "name": "stderr",
          "text": [
            "Extracting content:  77%|███████▋  | 3856/5000 [1:34:39<31:47,  1.67s/it]"
          ]
        },
        {
          "output_type": "stream",
          "name": "stdout",
          "text": [
            "Error fetching content: HTTPConnectionPool(host='on.cnn.com', port=80): Max retries exceeded with url: /16Aj9sg (Caused by ConnectTimeoutError(<urllib3.connection.HTTPConnection object at 0x7d7bfa1296f0>, 'Connection to on.cnn.com timed out. (connect timeout=4)'))\n"
          ]
        },
        {
          "output_type": "stream",
          "name": "stderr",
          "text": [
            "Extracting content:  77%|███████▋  | 3859/5000 [1:34:44<36:39,  1.93s/it]"
          ]
        },
        {
          "output_type": "stream",
          "name": "stdout",
          "text": [
            "Error fetching content: HTTPConnectionPool(host='on.cnn.com', port=80): Max retries exceeded with url: /1dGBBp7 (Caused by ConnectTimeoutError(<urllib3.connection.HTTPConnection object at 0x7d7bf8f13f40>, 'Connection to on.cnn.com timed out. (connect timeout=4)'))\n"
          ]
        },
        {
          "output_type": "stream",
          "name": "stderr",
          "text": [
            "Extracting content:  77%|███████▋  | 3861/5000 [1:34:49<42:36,  2.24s/it]"
          ]
        },
        {
          "output_type": "stream",
          "name": "stdout",
          "text": [
            "Error fetching content: HTTPConnectionPool(host='on.cnn.com', port=80): Max retries exceeded with url: /18S6e5D (Caused by ConnectTimeoutError(<urllib3.connection.HTTPConnection object at 0x7d7bf8bd6830>, 'Connection to on.cnn.com timed out. (connect timeout=4)'))\n"
          ]
        },
        {
          "output_type": "stream",
          "name": "stderr",
          "text": [
            "Extracting content:  77%|███████▋  | 3864/5000 [1:34:55<45:29,  2.40s/it]"
          ]
        },
        {
          "output_type": "stream",
          "name": "stdout",
          "text": [
            "Error fetching content: HTTPConnectionPool(host='on.cnn.com', port=80): Max retries exceeded with url: /1aPZ31W (Caused by ConnectTimeoutError(<urllib3.connection.HTTPConnection object at 0x7d7bf8bd4bb0>, 'Connection to on.cnn.com timed out. (connect timeout=4)'))\n"
          ]
        },
        {
          "output_type": "stream",
          "name": "stderr",
          "text": [
            "Extracting content:  77%|███████▋  | 3867/5000 [1:34:58<28:28,  1.51s/it]"
          ]
        },
        {
          "output_type": "stream",
          "name": "stdout",
          "text": [
            "Error fetching content: 410 Client Error: Gone for url: http://thechart.blogs.cnn.com/2013/09/18/e-readers-may-help-people-with-dyslexia/\n"
          ]
        },
        {
          "output_type": "stream",
          "name": "stderr",
          "text": [
            "Extracting content:  77%|███████▋  | 3870/5000 [1:35:03<32:48,  1.74s/it]"
          ]
        },
        {
          "output_type": "stream",
          "name": "stdout",
          "text": [
            "Error fetching content: HTTPConnectionPool(host='on.cnn.com', port=80): Max retries exceeded with url: /16mwTYg (Caused by ConnectTimeoutError(<urllib3.connection.HTTPConnection object at 0x7d7bf94c13c0>, 'Connection to on.cnn.com timed out. (connect timeout=4)'))\n",
            "Error fetching content: 410 Client Error: Gone for url: http://thechart.blogs.cnn.com/2013/09/18/10-worst-cities-for-fall-allergies/\n"
          ]
        },
        {
          "output_type": "stream",
          "name": "stderr",
          "text": [
            "Extracting content:  78%|███████▊  | 3877/5000 [1:35:09<22:04,  1.18s/it]"
          ]
        },
        {
          "output_type": "stream",
          "name": "stdout",
          "text": [
            "Error fetching content: 410 Client Error: Gone for url: http://thechart.blogs.cnn.com/2013/09/16/teens-gaining-healthy-habits-but-not-enough/\n"
          ]
        },
        {
          "output_type": "stream",
          "name": "stderr",
          "text": [
            "\rExtracting content:  78%|███████▊  | 3879/5000 [1:35:13<28:55,  1.55s/it]"
          ]
        },
        {
          "output_type": "stream",
          "name": "stdout",
          "text": [
            "Error fetching content: HTTPConnectionPool(host='on.cnn.com', port=80): Max retries exceeded with url: /1goZl0q (Caused by ConnectTimeoutError(<urllib3.connection.HTTPConnection object at 0x7d7bf8e9d390>, 'Connection to on.cnn.com timed out. (connect timeout=4)'))\n"
          ]
        },
        {
          "output_type": "stream",
          "name": "stderr",
          "text": [
            "Extracting content:  78%|███████▊  | 3883/5000 [1:35:17<20:48,  1.12s/it]"
          ]
        },
        {
          "output_type": "stream",
          "name": "stdout",
          "text": [
            "Error fetching content: Failed to parse: http://t.…\n"
          ]
        },
        {
          "output_type": "stream",
          "name": "stderr",
          "text": [
            "Extracting content:  78%|███████▊  | 3886/5000 [1:35:18<13:44,  1.35it/s]"
          ]
        },
        {
          "output_type": "stream",
          "name": "stdout",
          "text": [
            "Error fetching content: 404 Client Error: Not Found for url: https://t.co/POS%E2%80%A6\n"
          ]
        },
        {
          "output_type": "stream",
          "name": "stderr",
          "text": [
            "Extracting content:  78%|███████▊  | 3888/5000 [1:35:23<29:35,  1.60s/it]"
          ]
        },
        {
          "output_type": "stream",
          "name": "stdout",
          "text": [
            "Error fetching content: HTTPConnectionPool(host='on.cnn.com', port=80): Max retries exceeded with url: /1d8UHE9 (Caused by ConnectTimeoutError(<urllib3.connection.HTTPConnection object at 0x7d7bf8c2c790>, 'Connection to on.cnn.com timed out. (connect timeout=4)'))\n"
          ]
        },
        {
          "output_type": "stream",
          "name": "stderr",
          "text": [
            "Extracting content:  78%|███████▊  | 3892/5000 [1:35:26<17:23,  1.06it/s]"
          ]
        },
        {
          "output_type": "stream",
          "name": "stdout",
          "text": [
            "Error fetching content: 404 Client Error: Not Found for url: https://t.co/JtB8mp%E2%80%A6\n"
          ]
        },
        {
          "output_type": "stream",
          "name": "stderr",
          "text": [
            "\rExtracting content:  78%|███████▊  | 3893/5000 [1:35:26<13:34,  1.36it/s]"
          ]
        },
        {
          "output_type": "stream",
          "name": "stdout",
          "text": [
            "Error fetching content: 404 Client Error: Not Found for url: http://bit.ly/1d6lD7o\n"
          ]
        },
        {
          "output_type": "stream",
          "name": "stderr",
          "text": [
            "\rExtracting content:  78%|███████▊  | 3894/5000 [1:35:30<31:24,  1.70s/it]"
          ]
        },
        {
          "output_type": "stream",
          "name": "stdout",
          "text": [
            "Error fetching content: HTTPConnectionPool(host='on.cnn.com', port=80): Max retries exceeded with url: /17qLpkp (Caused by ConnectTimeoutError(<urllib3.connection.HTTPConnection object at 0x7d7bfa700760>, 'Connection to on.cnn.com timed out. (connect timeout=4)'))\n"
          ]
        },
        {
          "output_type": "stream",
          "name": "stderr",
          "text": [
            "Extracting content:  78%|███████▊  | 3896/5000 [1:35:35<40:26,  2.20s/it]"
          ]
        },
        {
          "output_type": "stream",
          "name": "stdout",
          "text": [
            "Error fetching content: HTTPConnectionPool(host='on.cnn.com', port=80): Max retries exceeded with url: /17pNFZd (Caused by ConnectTimeoutError(<urllib3.connection.HTTPConnection object at 0x7d7bf95c0400>, 'Connection to on.cnn.com timed out. (connect timeout=4)'))\n"
          ]
        },
        {
          "output_type": "stream",
          "name": "stderr",
          "text": [
            "Extracting content:  78%|███████▊  | 3901/5000 [1:35:38<17:08,  1.07it/s]"
          ]
        },
        {
          "output_type": "stream",
          "name": "stdout",
          "text": [
            "Error fetching content: 404 Client Error: Not Found for url: https://t.co/quzaDZWI%E2%80%A6\n"
          ]
        },
        {
          "output_type": "stream",
          "name": "stderr",
          "text": [
            "Extracting content:  78%|███████▊  | 3903/5000 [1:35:43<33:12,  1.82s/it]"
          ]
        },
        {
          "output_type": "stream",
          "name": "stdout",
          "text": [
            "Error fetching content: HTTPConnectionPool(host='on.cnn.com', port=80): Max retries exceeded with url: /14DyRmC (Caused by ConnectTimeoutError(<urllib3.connection.HTTPConnection object at 0x7d7bf84cf8b0>, 'Connection to on.cnn.com timed out. (connect timeout=4)'))\n"
          ]
        },
        {
          "output_type": "stream",
          "name": "stderr",
          "text": [
            "Extracting content:  78%|███████▊  | 3905/5000 [1:35:48<41:30,  2.27s/it]"
          ]
        },
        {
          "output_type": "stream",
          "name": "stdout",
          "text": [
            "Error fetching content: HTTPConnectionPool(host='on.cnn.com', port=80): Max retries exceeded with url: /18B0Gyi (Caused by ConnectTimeoutError(<urllib3.connection.HTTPConnection object at 0x7d7bf92ac070>, 'Connection to on.cnn.com timed out. (connect timeout=4)'))\n"
          ]
        },
        {
          "output_type": "stream",
          "name": "stderr",
          "text": [
            "\rExtracting content:  78%|███████▊  | 3906/5000 [1:35:49<32:39,  1.79s/it]"
          ]
        },
        {
          "output_type": "stream",
          "name": "stdout",
          "text": [
            "Error fetching content: Failed to parse: http://t…\n"
          ]
        },
        {
          "output_type": "stream",
          "name": "stderr",
          "text": [
            "Extracting content:  78%|███████▊  | 3909/5000 [1:35:53<33:39,  1.85s/it]"
          ]
        },
        {
          "output_type": "stream",
          "name": "stdout",
          "text": [
            "Error fetching content: HTTPConnectionPool(host='on.cnn.com', port=80): Max retries exceeded with url: /17CqV97 (Caused by ConnectTimeoutError(<urllib3.connection.HTTPConnection object at 0x7d7bf8e66800>, 'Connection to on.cnn.com timed out. (connect timeout=4)'))\n"
          ]
        },
        {
          "output_type": "stream",
          "name": "stderr",
          "text": [
            "Extracting content:  78%|███████▊  | 3911/5000 [1:35:55<24:11,  1.33s/it]"
          ]
        },
        {
          "output_type": "stream",
          "name": "stdout",
          "text": [
            "Error fetching content: 404 Client Error: Not Found for url: https://t.co/WA%E2%80%A6\n"
          ]
        },
        {
          "output_type": "stream",
          "name": "stderr",
          "text": [
            "\rExtracting content:  78%|███████▊  | 3912/5000 [1:35:59<37:45,  2.08s/it]"
          ]
        },
        {
          "output_type": "stream",
          "name": "stdout",
          "text": [
            "Error fetching content: HTTPConnectionPool(host='on.cnn.com', port=80): Max retries exceeded with url: /14ZxqlW (Caused by ConnectTimeoutError(<urllib3.connection.HTTPConnection object at 0x7d7bf8bf6fb0>, 'Connection to on.cnn.com timed out. (connect timeout=4)'))\n"
          ]
        },
        {
          "output_type": "stream",
          "name": "stderr",
          "text": [
            "Extracting content:  78%|███████▊  | 3916/5000 [1:36:05<34:57,  1.94s/it]"
          ]
        },
        {
          "output_type": "stream",
          "name": "stdout",
          "text": [
            "Error fetching content: HTTPConnectionPool(host='on.cnn.com', port=80): Max retries exceeded with url: /17CA9QU (Caused by ConnectTimeoutError(<urllib3.connection.HTTPConnection object at 0x7d7bf89bb4f0>, 'Connection to on.cnn.com timed out. (connect timeout=4)'))\n"
          ]
        },
        {
          "output_type": "stream",
          "name": "stderr",
          "text": [
            "Extracting content:  78%|███████▊  | 3920/5000 [1:36:07<15:24,  1.17it/s]"
          ]
        },
        {
          "output_type": "stream",
          "name": "stdout",
          "text": [
            "Error fetching content: 404 Client Error: Not Found for url: http://pbs.twimg.com/media/BTM1plCCQAAyiyf.jpg\n"
          ]
        },
        {
          "output_type": "stream",
          "name": "stderr",
          "text": [
            "Extracting content:  78%|███████▊  | 3923/5000 [1:36:13<32:49,  1.83s/it]"
          ]
        },
        {
          "output_type": "stream",
          "name": "stdout",
          "text": [
            "Error fetching content: HTTPConnectionPool(host='on.cnn.com', port=80): Max retries exceeded with url: /14kEIx0 (Caused by ConnectTimeoutError(<urllib3.connection.HTTPConnection object at 0x7d7bf95c1ed0>, 'Connection to on.cnn.com timed out. (connect timeout=4)'))\n"
          ]
        },
        {
          "output_type": "stream",
          "name": "stderr",
          "text": [
            "Extracting content:  79%|███████▊  | 3927/5000 [1:36:20<36:21,  2.03s/it]"
          ]
        },
        {
          "output_type": "stream",
          "name": "stdout",
          "text": [
            "Error fetching content: HTTPConnectionPool(host='on.cnn.com', port=80): Max retries exceeded with url: /14HGWdj (Caused by ConnectTimeoutError(<urllib3.connection.HTTPConnection object at 0x7d7bf8b374c0>, 'Connection to on.cnn.com timed out. (connect timeout=4)'))\n"
          ]
        },
        {
          "output_type": "stream",
          "name": "stderr",
          "text": [
            "\rExtracting content:  79%|███████▊  | 3928/5000 [1:36:24<46:56,  2.63s/it]"
          ]
        },
        {
          "output_type": "stream",
          "name": "stdout",
          "text": [
            "Error fetching content: HTTPConnectionPool(host='on.cnn.com', port=80): Max retries exceeded with url: /1ckDfMr (Caused by ConnectTimeoutError(<urllib3.connection.HTTPConnection object at 0x7d7bf8b37be0>, 'Connection to on.cnn.com timed out. (connect timeout=4)'))\n"
          ]
        },
        {
          "output_type": "stream",
          "name": "stderr",
          "text": [
            "Extracting content:  79%|███████▉  | 3940/5000 [1:36:38<37:38,  2.13s/it]"
          ]
        },
        {
          "output_type": "stream",
          "name": "stdout",
          "text": [
            "Error fetching content: HTTPConnectionPool(host='on.cnn.com', port=80): Max retries exceeded with url: /17fASZX (Caused by ConnectTimeoutError(<urllib3.connection.HTTPConnection object at 0x7d7bf8912d40>, 'Connection to on.cnn.com timed out. (connect timeout=4)'))\n"
          ]
        },
        {
          "output_type": "stream",
          "name": "stderr",
          "text": [
            "Extracting content:  79%|███████▉  | 3942/5000 [1:36:43<42:52,  2.43s/it]"
          ]
        },
        {
          "output_type": "stream",
          "name": "stdout",
          "text": [
            "Error fetching content: HTTPConnectionPool(host='on.cnn.com', port=80): Max retries exceeded with url: /14VinpN (Caused by ConnectTimeoutError(<urllib3.connection.HTTPConnection object at 0x7d7bf86dbd30>, 'Connection to on.cnn.com timed out. (connect timeout=4)'))\n"
          ]
        },
        {
          "output_type": "stream",
          "name": "stderr",
          "text": [
            "\rExtracting content:  79%|███████▉  | 3943/5000 [1:36:47<51:09,  2.90s/it]"
          ]
        },
        {
          "output_type": "stream",
          "name": "stdout",
          "text": [
            "Error fetching content: HTTPConnectionPool(host='on.cnn.com', port=80): Max retries exceeded with url: /13XdD2S (Caused by ConnectTimeoutError(<urllib3.connection.HTTPConnection object at 0x7d7bf86d8070>, 'Connection to on.cnn.com timed out. (connect timeout=4)'))\n"
          ]
        },
        {
          "output_type": "stream",
          "name": "stderr",
          "text": [
            "Extracting content:  79%|███████▉  | 3950/5000 [1:36:54<19:25,  1.11s/it]"
          ]
        },
        {
          "output_type": "stream",
          "name": "stdout",
          "text": [
            "Error fetching content: 410 Client Error: Gone for url: http://thechart.blogs.cnn.com/2013/08/21/new-deadly-flu-launched-by-live-bird-markets/\n"
          ]
        },
        {
          "output_type": "stream",
          "name": "stderr",
          "text": [
            "Extracting content:  79%|███████▉  | 3953/5000 [1:36:59<27:57,  1.60s/it]"
          ]
        },
        {
          "output_type": "stream",
          "name": "stdout",
          "text": [
            "Error fetching content: HTTPConnectionPool(host='on.cnn.com', port=80): Max retries exceeded with url: /1cVdUwc (Caused by ConnectTimeoutError(<urllib3.connection.HTTPConnection object at 0x7d7bf91ad2a0>, 'Connection to on.cnn.com timed out. (connect timeout=4)'))\n"
          ]
        },
        {
          "output_type": "stream",
          "name": "stderr",
          "text": [
            "Extracting content:  79%|███████▉  | 3955/5000 [1:37:04<36:14,  2.08s/it]"
          ]
        },
        {
          "output_type": "stream",
          "name": "stdout",
          "text": [
            "Error fetching content: HTTPConnectionPool(host='on.cnn.com', port=80): Max retries exceeded with url: /1d3wr8I (Caused by ConnectTimeoutError(<urllib3.connection.HTTPConnection object at 0x7d7bf93c2020>, 'Connection to on.cnn.com timed out. (connect timeout=4)'))\n"
          ]
        },
        {
          "output_type": "stream",
          "name": "stderr",
          "text": [
            "\rExtracting content:  79%|███████▉  | 3956/5000 [1:37:05<32:53,  1.89s/it]"
          ]
        },
        {
          "output_type": "stream",
          "name": "stdout",
          "text": [
            "Error fetching content: Failed to parse: http://t.…\n"
          ]
        },
        {
          "output_type": "stream",
          "name": "stderr",
          "text": [
            "Extracting content:  79%|███████▉  | 3963/5000 [1:37:13<30:21,  1.76s/it]"
          ]
        },
        {
          "output_type": "stream",
          "name": "stdout",
          "text": [
            "Error fetching content: HTTPConnectionPool(host='on.cnn.com', port=80): Max retries exceeded with url: /18A1BQf (Caused by ConnectTimeoutError(<urllib3.connection.HTTPConnection object at 0x7d7bf8168b20>, 'Connection to on.cnn.com timed out. (connect timeout=4)'))\n"
          ]
        },
        {
          "output_type": "stream",
          "name": "stderr",
          "text": [
            "\rExtracting content:  79%|███████▉  | 3964/5000 [1:37:17<41:33,  2.41s/it]"
          ]
        },
        {
          "output_type": "stream",
          "name": "stdout",
          "text": [
            "Error fetching content: HTTPConnectionPool(host='on.cnn.com', port=80): Max retries exceeded with url: /18zNhah (Caused by ConnectTimeoutError(<urllib3.connection.HTTPConnection object at 0x7d7bf8169240>, 'Connection to on.cnn.com timed out. (connect timeout=4)'))\n",
            "Error fetching content: 404 Client Error: Not Found for url: http://pbs.twimg.com/media/BRwAWk-CIAAJaUh.jpg%E2%80%9D\n"
          ]
        },
        {
          "output_type": "stream",
          "name": "stderr",
          "text": [
            "Extracting content:  79%|███████▉  | 3966/5000 [1:37:21<41:45,  2.42s/it]"
          ]
        },
        {
          "output_type": "stream",
          "name": "stdout",
          "text": [
            "Error fetching content: HTTPConnectionPool(host='on.cnn.com', port=80): Max retries exceeded with url: /16q8AgT (Caused by ConnectTimeoutError(<urllib3.connection.HTTPConnection object at 0x7d7bf8169660>, 'Connection to on.cnn.com timed out. (connect timeout=4)'))\n"
          ]
        },
        {
          "output_type": "stream",
          "name": "stderr",
          "text": [
            "Extracting content:  79%|███████▉  | 3968/5000 [1:37:26<45:48,  2.66s/it]"
          ]
        },
        {
          "output_type": "stream",
          "name": "stdout",
          "text": [
            "Error fetching content: HTTPConnectionPool(host='on.cnn.com', port=80): Max retries exceeded with url: /14BTmPt (Caused by ConnectTimeoutError(<urllib3.connection.HTTPConnection object at 0x7d7bf9646fb0>, 'Connection to on.cnn.com timed out. (connect timeout=4)'))\n"
          ]
        },
        {
          "output_type": "stream",
          "name": "stderr",
          "text": [
            "Extracting content:  79%|███████▉  | 3971/5000 [1:37:29<25:27,  1.48s/it]"
          ]
        },
        {
          "output_type": "stream",
          "name": "stdout",
          "text": [
            "Error fetching content: 400 Client Error: Bad Request for url: http://newsource.ns.cnn.com:443/wires/viewWiresScript.aspx?WireId=197350\n"
          ]
        },
        {
          "output_type": "stream",
          "name": "stderr",
          "text": [
            "\rExtracting content:  79%|███████▉  | 3972/5000 [1:37:33<38:22,  2.24s/it]"
          ]
        },
        {
          "output_type": "stream",
          "name": "stdout",
          "text": [
            "Error fetching content: HTTPConnectionPool(host='on.cnn.com', port=80): Max retries exceeded with url: /1a61Ypn (Caused by ConnectTimeoutError(<urllib3.connection.HTTPConnection object at 0x7d7bf89897b0>, 'Connection to on.cnn.com timed out. (connect timeout=4)'))\n"
          ]
        },
        {
          "output_type": "stream",
          "name": "stderr",
          "text": [
            "Extracting content:  80%|███████▉  | 3976/5000 [1:37:36<18:57,  1.11s/it]"
          ]
        },
        {
          "output_type": "stream",
          "name": "stdout",
          "text": [
            "Error fetching content: 404 Client Error: Not Found for url: https://t.co/tY2e%E2%80%A6\n"
          ]
        },
        {
          "output_type": "stream",
          "name": "stderr",
          "text": [
            "Extracting content:  80%|███████▉  | 3978/5000 [1:37:37<14:06,  1.21it/s]"
          ]
        },
        {
          "output_type": "stream",
          "name": "stdout",
          "text": [
            "Error fetching content: 410 Client Error: Gone for url: http://thechart.blogs.cnn.com/2013/08/12/eating-fatty-fish-may-help-prevent-rheumatoid-arthritis/\n"
          ]
        },
        {
          "output_type": "stream",
          "name": "stderr",
          "text": [
            "\rExtracting content:  80%|███████▉  | 3980/5000 [1:37:41<23:21,  1.37s/it]"
          ]
        },
        {
          "output_type": "stream",
          "name": "stdout",
          "text": [
            "Error fetching content: HTTPConnectionPool(host='on.cnn.com', port=80): Max retries exceeded with url: /1cIwDdA (Caused by ConnectTimeoutError(<urllib3.connection.HTTPConnection object at 0x7d7bf827b430>, 'Connection to on.cnn.com timed out. (connect timeout=4)'))\n"
          ]
        },
        {
          "output_type": "stream",
          "name": "stderr",
          "text": [
            "Extracting content:  80%|███████▉  | 3983/5000 [1:37:47<35:38,  2.10s/it]"
          ]
        },
        {
          "output_type": "stream",
          "name": "stdout",
          "text": [
            "Error fetching content: HTTPConnectionPool(host='on.cnn.com', port=80): Max retries exceeded with url: /14emLPm (Caused by ConnectTimeoutError(<urllib3.connection.HTTPConnection object at 0x7d7bf8a63820>, 'Connection to on.cnn.com timed out. (connect timeout=4)'))\n"
          ]
        },
        {
          "output_type": "stream",
          "name": "stderr",
          "text": [
            "\rExtracting content:  80%|███████▉  | 3984/5000 [1:37:51<44:38,  2.64s/it]"
          ]
        },
        {
          "output_type": "stream",
          "name": "stdout",
          "text": [
            "Error fetching content: HTTPConnectionPool(host='on.cnn.com', port=80): Max retries exceeded with url: /14e3Rs3 (Caused by ConnectTimeoutError(<urllib3.connection.HTTPConnection object at 0x7d7bf8a63070>, 'Connection to on.cnn.com timed out. (connect timeout=4)'))\n"
          ]
        },
        {
          "output_type": "stream",
          "name": "stderr",
          "text": [
            "Extracting content:  80%|███████▉  | 3986/5000 [1:37:56<44:45,  2.65s/it]"
          ]
        },
        {
          "output_type": "stream",
          "name": "stdout",
          "text": [
            "Error fetching content: HTTPConnectionPool(host='on.cnn.com', port=80): Max retries exceeded with url: /13n9THC (Caused by ConnectTimeoutError(<urllib3.connection.HTTPConnection object at 0x7d7bf8833460>, 'Connection to on.cnn.com timed out. (connect timeout=4)'))\n"
          ]
        },
        {
          "output_type": "stream",
          "name": "stderr",
          "text": [
            "Extracting content:  80%|███████▉  | 3988/5000 [1:37:58<28:46,  1.71s/it]"
          ]
        },
        {
          "output_type": "stream",
          "name": "stdout",
          "text": [
            "Error fetching content: 404 Client Error: Not Found for url: https://t.co/%E2%80%A6\n"
          ]
        },
        {
          "output_type": "stream",
          "name": "stderr",
          "text": [
            "\rExtracting content:  80%|███████▉  | 3989/5000 [1:38:02<40:16,  2.39s/it]"
          ]
        },
        {
          "output_type": "stream",
          "name": "stdout",
          "text": [
            "Error fetching content: HTTPConnectionPool(host='on.cnn.com', port=80): Max retries exceeded with url: /145lev5 (Caused by ConnectTimeoutError(<urllib3.connection.HTTPConnection object at 0x7d7bf9524bb0>, 'Connection to on.cnn.com timed out. (connect timeout=4)'))\n",
            "Error fetching content: 410 Client Error: Gone for url: http://thechart.blogs.cnn.com/2012/06/08/spend-money-mindfully-to-stress-less/\n"
          ]
        },
        {
          "output_type": "stream",
          "name": "stderr",
          "text": [
            "Extracting content:  80%|███████▉  | 3993/5000 [1:38:07<32:55,  1.96s/it]"
          ]
        },
        {
          "output_type": "stream",
          "name": "stdout",
          "text": [
            "Error fetching content: HTTPConnectionPool(host='on.cnn.com', port=80): Max retries exceeded with url: /15KDAFB (Caused by ConnectTimeoutError(<urllib3.connection.HTTPConnection object at 0x7d7bf91d4160>, 'Connection to on.cnn.com timed out. (connect timeout=4)'))\n"
          ]
        },
        {
          "output_type": "stream",
          "name": "stderr",
          "text": [
            "\rExtracting content:  80%|███████▉  | 3994/5000 [1:38:11<42:12,  2.52s/it]"
          ]
        },
        {
          "output_type": "stream",
          "name": "stdout",
          "text": [
            "Error fetching content: HTTPConnectionPool(host='on.cnn.com', port=80): Max retries exceeded with url: /15LPu1X (Caused by ConnectTimeoutError(<urllib3.connection.HTTPConnection object at 0x7d7bf91d4880>, 'Connection to on.cnn.com timed out. (connect timeout=4)'))\n",
            "Error fetching content: 410 Client Error: Gone for url: http://thechart.blogs.cnn.com/2013/08/06/signs-of-progress-in-childhood-obesity-fight/\n"
          ]
        },
        {
          "output_type": "stream",
          "name": "stderr",
          "text": [
            "Extracting content:  80%|███████▉  | 3998/5000 [1:38:18<37:09,  2.23s/it]"
          ]
        },
        {
          "output_type": "stream",
          "name": "stdout",
          "text": [
            "Error fetching content: HTTPConnectionPool(host='on.cnn.com', port=80): Max retries exceeded with url: /12V7EQL (Caused by ConnectTimeoutError(<urllib3.connection.HTTPConnection object at 0x7d7bf8d3ca00>, 'Connection to on.cnn.com timed out. (connect timeout=4)'))\n",
            "Error fetching content: 410 Client Error: Gone for url: http://thechart.blogs.cnn.com/2013/08/05/study-kids-who-drink-soda-sugary-juice-weigh-more/\n"
          ]
        },
        {
          "output_type": "stream",
          "name": "stderr",
          "text": [
            "\rExtracting content:  80%|████████  | 4000/5000 [1:38:18<23:41,  1.42s/it]"
          ]
        },
        {
          "output_type": "stream",
          "name": "stdout",
          "text": [
            "Error fetching content: 404 Client Error: Not Found for url: https://t.co/s0VVdO%E2%80%A6\n"
          ]
        },
        {
          "output_type": "stream",
          "name": "stderr",
          "text": [
            "Extracting content:  80%|████████  | 4002/5000 [1:38:23<32:56,  1.98s/it]"
          ]
        },
        {
          "output_type": "stream",
          "name": "stdout",
          "text": [
            "Error fetching content: HTTPConnectionPool(host='on.cnn.com', port=80): Max retries exceeded with url: /1ehdA6x (Caused by ConnectTimeoutError(<urllib3.connection.HTTPConnection object at 0x7d7bf954f8b0>, 'Connection to on.cnn.com timed out. (connect timeout=4)'))\n"
          ]
        },
        {
          "output_type": "stream",
          "name": "stderr",
          "text": [
            "\rExtracting content:  80%|████████  | 4003/5000 [1:38:27<41:43,  2.51s/it]"
          ]
        },
        {
          "output_type": "stream",
          "name": "stdout",
          "text": [
            "Error fetching content: HTTPConnectionPool(host='on.cnn.com', port=80): Max retries exceeded with url: /19BXRBn (Caused by ConnectTimeoutError(<urllib3.connection.HTTPConnection object at 0x7d7bf8763fd0>, 'Connection to on.cnn.com timed out. (connect timeout=4)'))\n"
          ]
        },
        {
          "output_type": "stream",
          "name": "stderr",
          "text": [
            "\rExtracting content:  80%|████████  | 4004/5000 [1:38:31<48:28,  2.92s/it]"
          ]
        },
        {
          "output_type": "stream",
          "name": "stdout",
          "text": [
            "Error fetching content: HTTPConnectionPool(host='on.cnn.com', port=80): Max retries exceeded with url: /19BPLZx (Caused by ConnectTimeoutError(<urllib3.connection.HTTPConnection object at 0x7d7bf954fd00>, 'Connection to on.cnn.com timed out. (connect timeout=4)'))\n"
          ]
        },
        {
          "output_type": "stream",
          "name": "stderr",
          "text": [
            "Extracting content:  80%|████████  | 4006/5000 [1:38:36<47:22,  2.86s/it]"
          ]
        },
        {
          "output_type": "stream",
          "name": "stdout",
          "text": [
            "Error fetching content: HTTPConnectionPool(host='on.cnn.com', port=80): Max retries exceeded with url: /1aZuSVO (Caused by ConnectTimeoutError(<urllib3.connection.HTTPConnection object at 0x7d7bf954db40>, 'Connection to on.cnn.com timed out. (connect timeout=4)'))\n"
          ]
        },
        {
          "output_type": "stream",
          "name": "stderr",
          "text": [
            "Extracting content:  80%|████████  | 4009/5000 [1:38:40<29:23,  1.78s/it]"
          ]
        },
        {
          "output_type": "stream",
          "name": "stdout",
          "text": [
            "Error fetching content: 410 Client Error: Gone for url: http://thechart.blogs.cnn.com/2013/07/31/anemia-linked-to-increased-risk-of-dementia/\n"
          ]
        },
        {
          "output_type": "stream",
          "name": "stderr",
          "text": [
            "Extracting content:  80%|████████  | 4012/5000 [1:38:45<30:10,  1.83s/it]"
          ]
        },
        {
          "output_type": "stream",
          "name": "stdout",
          "text": [
            "Error fetching content: HTTPConnectionPool(host='on.cnn.com', port=80): Max retries exceeded with url: /1ebuQdp (Caused by ConnectTimeoutError(<urllib3.connection.HTTPConnection object at 0x7d7bf8b7a8c0>, 'Connection to on.cnn.com timed out. (connect timeout=4)'))\n"
          ]
        },
        {
          "output_type": "stream",
          "name": "stderr",
          "text": [
            "Extracting content:  80%|████████  | 4015/5000 [1:38:50<34:04,  2.08s/it]"
          ]
        },
        {
          "output_type": "stream",
          "name": "stdout",
          "text": [
            "Error fetching content: HTTPConnectionPool(host='on.cnn.com', port=80): Max retries exceeded with url: /13i1ZCE (Caused by ConnectTimeoutError(<urllib3.connection.HTTPConnection object at 0x7d7bf913c7f0>, 'Connection to on.cnn.com timed out. (connect timeout=4)'))\n"
          ]
        },
        {
          "output_type": "stream",
          "name": "stderr",
          "text": [
            "Extracting content:  80%|████████  | 4017/5000 [1:38:55<38:44,  2.36s/it]"
          ]
        },
        {
          "output_type": "stream",
          "name": "stdout",
          "text": [
            "Error fetching content: HTTPConnectionPool(host='on.cnn.com', port=80): Max retries exceeded with url: /13X0Hg2 (Caused by ConnectTimeoutError(<urllib3.connection.HTTPConnection object at 0x7d7bf82534c0>, 'Connection to on.cnn.com timed out. (connect timeout=4)'))\n"
          ]
        },
        {
          "output_type": "stream",
          "name": "stderr",
          "text": [
            "\rExtracting content:  80%|████████  | 4018/5000 [1:38:59<46:35,  2.85s/it]"
          ]
        },
        {
          "output_type": "stream",
          "name": "stdout",
          "text": [
            "Error fetching content: HTTPConnectionPool(host='on.cnn.com', port=80): Max retries exceeded with url: /13shzba (Caused by ConnectTimeoutError(<urllib3.connection.HTTPConnection object at 0x7d7bf8253400>, 'Connection to on.cnn.com timed out. (connect timeout=4)'))\n"
          ]
        },
        {
          "output_type": "stream",
          "name": "stderr",
          "text": [
            "Extracting content:  80%|████████  | 4021/5000 [1:39:01<23:17,  1.43s/it]"
          ]
        },
        {
          "output_type": "stream",
          "name": "stdout",
          "text": [
            "Error fetching content: 410 Client Error: Gone for url: http://thechart.blogs.cnn.com/2013/07/29/diaper-needs-put-stress-on-moms/\n"
          ]
        },
        {
          "output_type": "stream",
          "name": "stderr",
          "text": [
            "\rExtracting content:  80%|████████  | 4023/5000 [1:39:02<17:56,  1.10s/it]"
          ]
        },
        {
          "output_type": "stream",
          "name": "stdout",
          "text": [
            "Error fetching content: 404 Client Error: Not Found for url: https://www.sue-sanders.com/2013/07/27/why-i-write-about-mental-illness/\n",
            "Error fetching content: 410 Client Error: Gone for url: http://thechart.blogs.cnn.com/2013/07/29/should-there-be-choking-warning-labels-on-food/\n"
          ]
        },
        {
          "output_type": "stream",
          "name": "stderr",
          "text": [
            "Extracting content:  81%|████████  | 4027/5000 [1:39:04<10:22,  1.56it/s]"
          ]
        },
        {
          "output_type": "stream",
          "name": "stdout",
          "text": [
            "Error fetching content: 404 Client Error: Not Found for url: http://pbs.twimg.com/media/BQNYgMtCAAAAv1X.jpg\n"
          ]
        },
        {
          "output_type": "stream",
          "name": "stderr",
          "text": [
            "\rExtracting content:  81%|████████  | 4028/5000 [1:39:04<08:52,  1.83it/s]"
          ]
        },
        {
          "output_type": "stream",
          "name": "stdout",
          "text": [
            "Error fetching content: 404 Client Error: Not Found for url: http://pbs.twimg.com/media/BQLmSU_CMAAFB6C.jpg\n"
          ]
        },
        {
          "output_type": "stream",
          "name": "stderr",
          "text": [
            "Extracting content:  81%|████████  | 4030/5000 [1:39:05<07:01,  2.30it/s]"
          ]
        },
        {
          "output_type": "stream",
          "name": "stdout",
          "text": [
            "Error fetching content: 404 Client Error: Not Found for url: http://pbs.twimg.com/media/BQHlLeZCcAAzeEo.jpg\n"
          ]
        },
        {
          "output_type": "stream",
          "name": "stderr",
          "text": [
            "\rExtracting content:  81%|████████  | 4031/5000 [1:39:06<08:34,  1.88it/s]"
          ]
        },
        {
          "output_type": "stream",
          "name": "stdout",
          "text": [
            "Error fetching content: 410 Client Error: Gone for url: http://thechart.blogs.cnn.com/2013/07/26/full-moon-may-disrupt-sleep-study-says/\n"
          ]
        },
        {
          "output_type": "stream",
          "name": "stderr",
          "text": [
            "Extracting content:  81%|████████  | 4035/5000 [1:39:08<10:39,  1.51it/s]"
          ]
        },
        {
          "output_type": "stream",
          "name": "stdout",
          "text": [
            "Error fetching content: 410 Client Error: Gone for url: http://thechart.blogs.cnn.com/2013/07/25/skip-breakfast-lose-weight-not-so-fast/\n"
          ]
        },
        {
          "output_type": "stream",
          "name": "stderr",
          "text": [
            "Extracting content:  81%|████████  | 4045/5000 [1:39:16<11:49,  1.35it/s]"
          ]
        },
        {
          "output_type": "stream",
          "name": "stdout",
          "text": [
            "Error fetching content: 500 Server Error: Domain Not Found for url: http://at.cnn.com/64t52r1\n",
            "Error fetching content: 410 Client Error: Gone for url: http://thechart.blogs.cnn.com/2013/07/22/more-children-being-injured-by-toppling-tvs/\n"
          ]
        },
        {
          "output_type": "stream",
          "name": "stderr",
          "text": [
            "Extracting content:  81%|████████  | 4056/5000 [1:39:22<09:27,  1.66it/s]"
          ]
        },
        {
          "output_type": "stream",
          "name": "stdout",
          "text": [
            "Error fetching content: 410 Client Error: Gone for url: http://thechart.blogs.cnn.com/2013/07/18/blacks-die-earlier-from-homicide-heart-disease/\n"
          ]
        },
        {
          "output_type": "stream",
          "name": "stderr",
          "text": [
            "\rExtracting content:  81%|████████  | 4058/5000 [1:39:26<19:27,  1.24s/it]"
          ]
        },
        {
          "output_type": "stream",
          "name": "stdout",
          "text": [
            "Error fetching content: HTTPConnectionPool(host='on.cnn.com', port=80): Max retries exceeded with url: /1bJzyAH (Caused by ConnectTimeoutError(<urllib3.connection.HTTPConnection object at 0x7d7bf920d780>, 'Connection to on.cnn.com timed out. (connect timeout=4)'))\n"
          ]
        },
        {
          "output_type": "stream",
          "name": "stderr",
          "text": [
            "Extracting content:  82%|████████▏ | 4079/5000 [1:39:29<01:51,  8.25it/s]"
          ]
        },
        {
          "output_type": "stream",
          "name": "stdout",
          "text": [
            "Error fetching content: 500 Server Error: Domain Not Found for url: http://at.cnn.com/1MYe4EM\n",
            "Error fetching content: 500 Server Error: Domain Not Found for url: http://at.cnn.com/PSzAzCt\n",
            "Error fetching content: 500 Server Error: Domain Not Found for url: http://at.cnn.com/UcW3D50\n",
            "Error fetching content: 500 Server Error: Domain Not Found for url: http://at.cnn.com/33aQ61L\n",
            "Error fetching content: 500 Server Error: Domain Not Found for url: http://at.cnn.com/M5YEJHa\n",
            "Error fetching content: 500 Server Error: Domain Not Found for url: http://at.cnn.com/UN935yZ\n",
            "Error fetching content: 500 Server Error: Domain Not Found for url: http://at.cnn.com/sNNEBDC\n",
            "Error fetching content: 500 Server Error: Domain Not Found for url: http://at.cnn.com/ZPZNksN\n",
            "Error fetching content: 500 Server Error: Domain Not Found for url: http://at.cnn.com/RbnXOCV\n",
            "Error fetching content: 500 Server Error: Domain Not Found for url: http://at.cnn.com/XiS8n0S\n",
            "Error fetching content: 500 Server Error: Domain Not Found for url: http://at.cnn.com/DIG22fy\n",
            "Error fetching content: 500 Server Error: Domain Not Found for url: http://at.cnn.com/HJ3O1zh\n",
            "Error fetching content: 500 Server Error: Domain Not Found for url: http://at.cnn.com/FtED6aC\n",
            "Error fetching content: 500 Server Error: Domain Not Found for url: http://at.cnn.com/i7IlAvU\n",
            "Error fetching content: 500 Server Error: Domain Not Found for url: http://at.cnn.com/dwFDeJy\n",
            "Error fetching content: 500 Server Error: Domain Not Found for url: http://at.cnn.com/87YlmZO\n",
            "Error fetching content: 500 Server Error: Domain Not Found for url: http://at.cnn.com/RVWV4hz\n",
            "Error fetching content: 500 Server Error: Domain Not Found for url: http://at.cnn.com/5ys8Km2\n",
            "Error fetching content: 500 Server Error: Domain Not Found for url: http://at.cnn.com/zHbv9d8\n",
            "Error fetching content: 500 Server Error: Domain Not Found for url: http://at.cnn.com/Btwtbtg\n",
            "Error fetching content: 500 Server Error: Domain Not Found for url: http://at.cnn.com/92afubR\n",
            "Error fetching content: 500 Server Error: Domain Not Found for url: http://at.cnn.com/K4vdf1r\n",
            "Error fetching content: 500 Server Error: Domain Not Found for url: http://at.cnn.com/7FxDUxR\n",
            "Error fetching content: 500 Server Error: Domain Not Found for url: http://at.cnn.com/k8Sx0UA\n",
            "Error fetching content: 500 Server Error: Domain Not Found for url: http://at.cnn.com/8BQr50r\n",
            "Error fetching content: 500 Server Error: Domain Not Found for url: http://at.cnn.com/D6l2BSa\n",
            "Error fetching content: 500 Server Error: Domain Not Found for url: http://at.cnn.com/12yD6zl\n",
            "Error fetching content: 500 Server Error: Domain Not Found for url: http://at.cnn.com/qN7lVad\n",
            "Error fetching content: 500 Server Error: Domain Not Found for url: http://at.cnn.com/dVzwgKs\n",
            "Error fetching content: 500 Server Error: Domain Not Found for url: http://at.cnn.com/uTAQcyF\n",
            "Error fetching content: 500 Server Error: Domain Not Found for url: http://at.cnn.com/edPKm8l\n",
            "Error fetching content: 500 Server Error: Domain Not Found for url: http://at.cnn.com/cWAKmn1\n",
            "Error fetching content: 500 Server Error: Domain Not Found for url: http://at.cnn.com/tQIivOK\n",
            "Error fetching content: 500 Server Error: Domain Not Found for url: http://at.cnn.com/xUTHpOW\n"
          ]
        },
        {
          "output_type": "stream",
          "name": "stderr",
          "text": [
            "\rExtracting content:  82%|████████▏ | 4096/5000 [1:39:29<00:51, 17.44it/s]"
          ]
        },
        {
          "output_type": "stream",
          "name": "stdout",
          "text": [
            "Error fetching content: 500 Server Error: Domain Not Found for url: http://at.cnn.com/3KVA1ZM\n",
            "Error fetching content: 500 Server Error: Domain Not Found for url: http://at.cnn.com/AtQ9aRR\n",
            "Error fetching content: 500 Server Error: Domain Not Found for url: http://at.cnn.com/ngibvr7\n",
            "Error fetching content: 500 Server Error: Domain Not Found for url: http://at.cnn.com/DqEd50n\n",
            "Error fetching content: 500 Server Error: Domain Not Found for url: http://at.cnn.com/FHvHHTQ\n"
          ]
        },
        {
          "output_type": "stream",
          "name": "stderr",
          "text": [
            "Extracting content:  82%|████████▏ | 4123/5000 [1:39:33<01:24, 10.35it/s]"
          ]
        },
        {
          "output_type": "stream",
          "name": "stdout",
          "text": [
            "Error fetching content: HTTPConnectionPool(host='on.cnn.com', port=80): Max retries exceeded with url: /15fu7nP (Caused by ConnectTimeoutError(<urllib3.connection.HTTPConnection object at 0x7d7bf8342320>, 'Connection to on.cnn.com timed out. (connect timeout=4)'))\n",
            "Error fetching content: 500 Server Error: Domain Not Found for url: http://at.cnn.com/wnyzQNn\n",
            "Error fetching content: 500 Server Error: Domain Not Found for url: http://at.cnn.com/M5MEA3p\n",
            "Error fetching content: 500 Server Error: Domain Not Found for url: http://at.cnn.com/d8vJbPQ\n",
            "Error fetching content: 500 Server Error: Domain Not Found for url: http://at.cnn.com/uGsfiGR\n",
            "Error fetching content: 500 Server Error: Domain Not Found for url: http://at.cnn.com/D6K0bxR\n",
            "Error fetching content: 500 Server Error: Domain Not Found for url: http://at.cnn.com/XjBVRB9\n",
            "Error fetching content: 500 Server Error: Domain Not Found for url: http://at.cnn.com/TE2sbB5\n",
            "Error fetching content: 500 Server Error: Domain Not Found for url: http://at.cnn.com/tRDsB3b\n",
            "Error fetching content: 500 Server Error: Domain Not Found for url: http://at.cnn.com/JmlfbXh\n",
            "Error fetching content: 500 Server Error: Domain Not Found for url: http://at.cnn.com/PzKpg1g\n",
            "Error fetching content: 500 Server Error: Domain Not Found for url: http://at.cnn.com/naA45JY\n",
            "Error fetching content: 500 Server Error: Domain Not Found for url: http://at.cnn.com/Jqnf0UU\n",
            "Error fetching content: 500 Server Error: Domain Not Found for url: http://at.cnn.com/pLsIOwt\n",
            "Error fetching content: 500 Server Error: Domain Not Found for url: http://at.cnn.com/XICP65s\n",
            "Error fetching content: 500 Server Error: Domain Not Found for url: http://at.cnn.com/YkAHDHe\n",
            "Error fetching content: 500 Server Error: Domain Not Found for url: http://at.cnn.com/5iN8Tqb\n",
            "Error fetching content: 500 Server Error: Domain Not Found for url: http://at.cnn.com/ZHPbrig\n",
            "Error fetching content: 500 Server Error: Domain Not Found for url: http://at.cnn.com/CPv3Lxy\n",
            "Error fetching content: 500 Server Error: Domain Not Found for url: http://at.cnn.com/gjJOMrr\n",
            "Error fetching content: 500 Server Error: Domain Not Found for url: http://at.cnn.com/23H8OOa\n",
            "Error fetching content: 500 Server Error: Domain Not Found for url: http://at.cnn.com/U228kK4\n",
            "Error fetching content: 500 Server Error: Domain Not Found for url: http://at.cnn.com/xvMgITo\n",
            "Error fetching content: 500 Server Error: Domain Not Found for url: http://at.cnn.com/8SpZ49x\n",
            "Error fetching content: 500 Server Error: Domain Not Found for url: http://at.cnn.com/FygZIYW\n"
          ]
        },
        {
          "output_type": "stream",
          "name": "stderr",
          "text": [
            "Extracting content:  83%|████████▎ | 4151/5000 [1:39:34<00:41, 20.54it/s]"
          ]
        },
        {
          "output_type": "stream",
          "name": "stdout",
          "text": [
            "Error fetching content: 500 Server Error: Domain Not Found for url: http://at.cnn.com/vYud881\n",
            "Error fetching content: 500 Server Error: Domain Not Found for url: http://at.cnn.com/HRacLkk\n",
            "Error fetching content: 500 Server Error: Domain Not Found for url: http://at.cnn.com/C7BZmVK\n",
            "Error fetching content: 500 Server Error: Domain Not Found for url: http://at.cnn.com/mxfDRZl\n",
            "Error fetching content: 500 Server Error: Domain Not Found for url: http://at.cnn.com/Hm18Rql\n",
            "Error fetching content: 500 Server Error: Domain Not Found for url: http://at.cnn.com/xhtyhP2\n",
            "Error fetching content: 500 Server Error: Domain Not Found for url: http://at.cnn.com/Y0KlOIG\n",
            "Error fetching content: 500 Server Error: Domain Not Found for url: http://at.cnn.com/Uhi3AU0\n",
            "Error fetching content: 500 Server Error: Domain Not Found for url: http://at.cnn.com/XAKLGpC\n",
            "Error fetching content: 500 Server Error: Domain Not Found for url: http://at.cnn.com/pmFcx2q\n",
            "Error fetching content: 500 Server Error: Domain Not Found for url: http://at.cnn.com/pE3mkBk\n",
            "Error fetching content: 500 Server Error: Domain Not Found for url: http://at.cnn.com/N9jQPwG\n",
            "Error fetching content: 500 Server Error: Domain Not Found for url: http://at.cnn.com/H8zgHZn\n",
            "Error fetching content: 500 Server Error: Domain Not Found for url: http://at.cnn.com/96zfx7i\n",
            "Error fetching content: 500 Server Error: Domain Not Found for url: http://at.cnn.com/l77iawh\n",
            "Error fetching content: 500 Server Error: Domain Not Found for url: http://at.cnn.com/QvFjnEL\n",
            "Error fetching content: 500 Server Error: Domain Not Found for url: http://at.cnn.com/fO24yJa\n",
            "Error fetching content: 500 Server Error: Domain Not Found for url: http://at.cnn.com/doxPXc7\n",
            "Error fetching content: 500 Server Error: Domain Not Found for url: http://at.cnn.com/QdgBMkd\n",
            "Error fetching content: 500 Server Error: Domain Not Found for url: http://at.cnn.com/iky3b3R\n",
            "Error fetching content: 500 Server Error: Domain Not Found for url: http://at.cnn.com/2gr8kzS\n",
            "Error fetching content: 500 Server Error: Domain Not Found for url: http://at.cnn.com/KXbjfTx\n",
            "Error fetching content: 500 Server Error: Domain Not Found for url: http://at.cnn.com/Cu2nTeA\n",
            "Error fetching content: 500 Server Error: Domain Not Found for url: http://at.cnn.com/aFXFFYJ\n",
            "Error fetching content: 500 Server Error: Domain Not Found for url: http://at.cnn.com/uqFsu48\n",
            "Error fetching content: 500 Server Error: Domain Not Found for url: http://at.cnn.com/aecbHsH\n",
            "Error fetching content: 500 Server Error: Domain Not Found for url: http://at.cnn.com/tkkM34T\n",
            "Error fetching content: 500 Server Error: Domain Not Found for url: http://at.cnn.com/X93V16Z\n",
            "Error fetching content: 500 Server Error: Domain Not Found for url: http://at.cnn.com/gnN8OIC\n",
            "Error fetching content: 500 Server Error: Domain Not Found for url: http://at.cnn.com/zUvg0Wj\n",
            "Error fetching content: 500 Server Error: Domain Not Found for url: http://at.cnn.com/4nIpDow\n",
            "Error fetching content: 500 Server Error: Domain Not Found for url: http://at.cnn.com/P0wwASI\n",
            "Error fetching content: 500 Server Error: Domain Not Found for url: http://at.cnn.com/h0eZNqG\n",
            "Error fetching content: 500 Server Error: Domain Not Found for url: http://at.cnn.com/94EQns8\n"
          ]
        },
        {
          "output_type": "stream",
          "name": "stderr",
          "text": [
            "Extracting content:  84%|████████▎ | 4184/5000 [1:39:34<00:20, 40.59it/s]"
          ]
        },
        {
          "output_type": "stream",
          "name": "stdout",
          "text": [
            "Error fetching content: 500 Server Error: Domain Not Found for url: http://at.cnn.com/N0OX533\n",
            "Error fetching content: 500 Server Error: Domain Not Found for url: http://at.cnn.com/2aaFo5k\n",
            "Error fetching content: 500 Server Error: Domain Not Found for url: http://at.cnn.com/sX55OFg\n",
            "Error fetching content: 500 Server Error: Domain Not Found for url: http://at.cnn.com/y1hzDbU\n",
            "Error fetching content: 500 Server Error: Domain Not Found for url: http://at.cnn.com/OaFyLYi\n",
            "Error fetching content: 500 Server Error: Domain Not Found for url: http://at.cnn.com/mfjfOpL\n",
            "Error fetching content: 500 Server Error: Domain Not Found for url: http://at.cnn.com/DdcPSqz\n",
            "Error fetching content: 500 Server Error: Domain Not Found for url: http://at.cnn.com/sZlw4ms\n",
            "Error fetching content: 500 Server Error: Domain Not Found for url: http://at.cnn.com/KHrxWYC\n",
            "Error fetching content: 500 Server Error: Domain Not Found for url: http://at.cnn.com/q83tHus\n",
            "Error fetching content: 500 Server Error: Domain Not Found for url: http://at.cnn.com/CnvtnIL\n",
            "Error fetching content: 500 Server Error: Domain Not Found for url: http://at.cnn.com/IILaxb0\n",
            "Error fetching content: 500 Server Error: Domain Not Found for url: http://at.cnn.com/6GfnD2H\n",
            "Error fetching content: 500 Server Error: Domain Not Found for url: http://at.cnn.com/Ixs5Lgq\n",
            "Error fetching content: 500 Server Error: Domain Not Found for url: http://at.cnn.com/RLlD4FO\n",
            "Error fetching content: 500 Server Error: Domain Not Found for url: http://at.cnn.com/KZ7lVMR\n",
            "Error fetching content: 500 Server Error: Domain Not Found for url: http://at.cnn.com/8S8WLaN\n",
            "Error fetching content: 500 Server Error: Domain Not Found for url: http://at.cnn.com/L7oerGA\n",
            "Error fetching content: 500 Server Error: Domain Not Found for url: http://at.cnn.com/iXi8vKq\n",
            "Error fetching content: 500 Server Error: Domain Not Found for url: http://at.cnn.com/2CxTKWg\n",
            "Error fetching content: 500 Server Error: Domain Not Found for url: http://at.cnn.com/nQqiMCp\n",
            "Error fetching content: 500 Server Error: Domain Not Found for url: http://at.cnn.com/UAYdJ6K\n",
            "Error fetching content: 500 Server Error: Domain Not Found for url: http://at.cnn.com/WMVeMYp\n",
            "Error fetching content: 500 Server Error: Domain Not Found for url: http://at.cnn.com/eBs7GH6\n",
            "Error fetching content: 500 Server Error: Domain Not Found for url: http://at.cnn.com/USBPcfV\n",
            "Error fetching content: 500 Server Error: Domain Not Found for url: http://at.cnn.com/aWj5nod\n",
            "Error fetching content: 500 Server Error: Domain Not Found for url: http://at.cnn.com/CFswrOK\n",
            "Error fetching content: 500 Server Error: Domain Not Found for url: http://at.cnn.com/VXgWQ5o\n",
            "Error fetching content: 500 Server Error: Domain Not Found for url: http://at.cnn.com/zZgRrGf\n",
            "Error fetching content: 500 Server Error: Domain Not Found for url: http://at.cnn.com/2rU3T4N\n",
            "Error fetching content: 500 Server Error: Domain Not Found for url: http://at.cnn.com/4GM1mWp\n",
            "Error fetching content: 500 Server Error: Domain Not Found for url: http://at.cnn.com/LkuzASr\n",
            "Error fetching content: 500 Server Error: Domain Not Found for url: http://at.cnn.com/c2zseAc\n",
            "Error fetching content: 500 Server Error: Domain Not Found for url: http://at.cnn.com/XMmOYoq\n"
          ]
        },
        {
          "output_type": "stream",
          "name": "stderr",
          "text": [
            "\rExtracting content:  84%|████████▍ | 4201/5000 [1:39:34<00:14, 53.91it/s]"
          ]
        },
        {
          "output_type": "stream",
          "name": "stdout",
          "text": [
            "Error fetching content: 500 Server Error: Domain Not Found for url: http://at.cnn.com/OsxgDVp\n",
            "Error fetching content: 500 Server Error: Domain Not Found for url: http://at.cnn.com/p46TeEY\n",
            "Error fetching content: 500 Server Error: Domain Not Found for url: http://at.cnn.com/6EvBiSm\n",
            "Error fetching content: 500 Server Error: Domain Not Found for url: http://at.cnn.com/qxYy67b\n",
            "Error fetching content: 500 Server Error: Domain Not Found for url: http://at.cnn.com/JmQ86Z4\n",
            "Error fetching content: 500 Server Error: Domain Not Found for url: http://at.cnn.com/XNi0PPS\n",
            "Error fetching content: 500 Server Error: Domain Not Found for url: http://at.cnn.com/YdsX25n\n",
            "Error fetching content: 500 Server Error: Domain Not Found for url: http://at.cnn.com/BgcB0nZ\n",
            "Error fetching content: 500 Server Error: Domain Not Found for url: http://at.cnn.com/KW4XSkn\n",
            "Error fetching content: 500 Server Error: Domain Not Found for url: http://at.cnn.com/WVmoESk\n",
            "Error fetching content: 500 Server Error: Domain Not Found for url: http://at.cnn.com/rARLTa5\n",
            "Error fetching content: HTTPConnectionPool(host='on.cnn.com', port=80): Max retries exceeded with url: /11pVr3P (Caused by ConnectTimeoutError(<urllib3.connection.HTTPConnection object at 0x7d7bf83423b0>, 'Connection to on.cnn.com timed out. (connect timeout=4)'))\n"
          ]
        },
        {
          "output_type": "stream",
          "name": "stderr",
          "text": [
            "\rExtracting content:  84%|████████▍ | 4216/5000 [1:39:39<01:27,  8.99it/s]"
          ]
        },
        {
          "output_type": "stream",
          "name": "stdout",
          "text": [
            "Error fetching content: Failed to parse: http://t.co…\n",
            "Error fetching content: 500 Server Error: Domain Not Found for url: http://at.cnn.com/KM2o4xH\n",
            "Error fetching content: 500 Server Error: Domain Not Found for url: http://at.cnn.com/nicGs81\n",
            "Error fetching content: 500 Server Error: Domain Not Found for url: http://at.cnn.com/yepcSfB\n",
            "Error fetching content: 500 Server Error: Domain Not Found for url: http://at.cnn.com/vzZp7CA\n",
            "Error fetching content: 500 Server Error: Domain Not Found for url: http://at.cnn.com/sF5n05w\n",
            "Error fetching content: 500 Server Error: Domain Not Found for url: http://at.cnn.com/HA5b0Rk\n",
            "Error fetching content: HTTPConnectionPool(host='on.cnn.com', port=80): Max retries exceeded with url: /16KclLy (Caused by ConnectTimeoutError(<urllib3.connection.HTTPConnection object at 0x7d7bf960dcc0>, 'Connection to on.cnn.com timed out. (connect timeout=4)'))\n",
            "Error fetching content: HTTPConnectionPool(host='on.cnn.com', port=80): Max retries exceeded with url: /102LiJF (Caused by ConnectTimeoutError(<urllib3.connection.HTTPConnection object at 0x7d7bf8a62920>, 'Connection to on.cnn.com timed out. (connect timeout=4)'))\n"
          ]
        },
        {
          "output_type": "stream",
          "name": "stderr",
          "text": [
            "Extracting content:  84%|████████▍ | 4220/5000 [1:39:54<06:02,  2.15it/s]"
          ]
        },
        {
          "output_type": "stream",
          "name": "stdout",
          "text": [
            "Error fetching content: HTTPConnectionPool(host='on.cnn.com', port=80): Max retries exceeded with url: /102JZKw (Caused by ConnectTimeoutError(<urllib3.connection.HTTPConnection object at 0x7d7bf8a60ca0>, 'Connection to on.cnn.com timed out. (connect timeout=4)'))\n"
          ]
        },
        {
          "output_type": "stream",
          "name": "stderr",
          "text": [
            "\rExtracting content:  84%|████████▍ | 4221/5000 [1:39:58<07:37,  1.70it/s]"
          ]
        },
        {
          "output_type": "stream",
          "name": "stdout",
          "text": [
            "Error fetching content: HTTPConnectionPool(host='on.cnn.com', port=80): Max retries exceeded with url: /1038PKd (Caused by ConnectTimeoutError(<urllib3.connection.HTTPConnection object at 0x7d7bf8cf2230>, 'Connection to on.cnn.com timed out. (connect timeout=4)'))\n",
            "Error fetching content: HTTPConnectionPool(host='on.cnn.com', port=80): Max retries exceeded with url: /102IGeK (Caused by ConnectTimeoutError(<urllib3.connection.HTTPConnection object at 0x7d7bf8cf3820>, 'Connection to on.cnn.com timed out. (connect timeout=4)'))\n",
            "Error fetching content: HTTPConnectionPool(host='on.cnn.com', port=80): Max retries exceeded with url: /102IGeK (Caused by ConnectTimeoutError(<urllib3.connection.HTTPConnection object at 0x7d7bf9527550>, 'Connection to on.cnn.com timed out. (connect timeout=4)'))\n"
          ]
        },
        {
          "output_type": "stream",
          "name": "stderr",
          "text": [
            "Extracting content:  85%|████████▍ | 4242/5000 [1:40:11<06:38,  1.90it/s]"
          ]
        },
        {
          "output_type": "stream",
          "name": "stdout",
          "text": [
            "Error fetching content: HTTPConnectionPool(host='on.cnn.com', port=80): Max retries exceeded with url: /102KWCK (Caused by ConnectTimeoutError(<urllib3.connection.HTTPConnection object at 0x7d7bf9527a60>, 'Connection to on.cnn.com timed out. (connect timeout=4)'))\n",
            "Error fetching content: 500 Server Error: Domain Not Found for url: http://at.cnn.com/JhwiXv5\n",
            "Error fetching content: 500 Server Error: Domain Not Found for url: http://at.cnn.com/wJ0cXlw\n",
            "Error fetching content: 500 Server Error: Domain Not Found for url: http://at.cnn.com/CKDf8ku\n",
            "Error fetching content: 500 Server Error: Domain Not Found for url: http://at.cnn.com/DVVRw8S\n",
            "Error fetching content: 500 Server Error: Domain Not Found for url: http://at.cnn.com/eqQk3dy\n",
            "Error fetching content: 500 Server Error: Domain Not Found for url: http://at.cnn.com/BCrDRJ7\n",
            "Error fetching content: 500 Server Error: Domain Not Found for url: http://at.cnn.com/sG2QRvA\n",
            "Error fetching content: 500 Server Error: Domain Not Found for url: http://at.cnn.com/1siBFKA\n",
            "Error fetching content: 500 Server Error: Domain Not Found for url: http://at.cnn.com/zshgSf1\n",
            "Error fetching content: 500 Server Error: Domain Not Found for url: http://at.cnn.com/Cv17yDa\n",
            "Error fetching content: 500 Server Error: Domain Not Found for url: http://at.cnn.com/yxSPmGB\n",
            "Error fetching content: 500 Server Error: Domain Not Found for url: http://at.cnn.com/bHUrhfn\n",
            "Error fetching content: 500 Server Error: Domain Not Found for url: http://at.cnn.com/D9lAbcR\n",
            "Error fetching content: 500 Server Error: Domain Not Found for url: http://at.cnn.com/NCmer4J\n",
            "Error fetching content: 500 Server Error: Domain Not Found for url: http://at.cnn.com/KNvqvd3\n",
            "Error fetching content: 500 Server Error: Domain Not Found for url: http://at.cnn.com/KQ4AE2m\n",
            "Error fetching content: 500 Server Error: Domain Not Found for url: http://at.cnn.com/xuROKtX\n",
            "Error fetching content: 500 Server Error: Domain Not Found for url: http://at.cnn.com/n1eMNkK\n"
          ]
        },
        {
          "output_type": "stream",
          "name": "stderr",
          "text": [
            "\rExtracting content:  85%|████████▌ | 4252/5000 [1:40:12<04:57,  2.52it/s]"
          ]
        },
        {
          "output_type": "stream",
          "name": "stdout",
          "text": [
            "Error fetching content: 500 Server Error: Domain Not Found for url: http://at.cnn.com/QBiLO3e\n",
            "Error fetching content: 500 Server Error: Domain Not Found for url: http://at.cnn.com/91xxiHg\n",
            "Error fetching content: 500 Server Error: Domain Not Found for url: http://at.cnn.com/H1zReha\n",
            "Error fetching content: 500 Server Error: Domain Not Found for url: http://at.cnn.com/pS5ufnT\n",
            "Error fetching content: 500 Server Error: Domain Not Found for url: http://at.cnn.com/rCJ2Pda\n",
            "Error fetching content: 500 Server Error: Domain Not Found for url: http://at.cnn.com/w0DWJIL\n",
            "Error fetching content: 500 Server Error: Domain Not Found for url: http://at.cnn.com/nBOzJjV\n",
            "Error fetching content: 500 Server Error: Domain Not Found for url: http://at.cnn.com/vl5cbhK\n",
            "Error fetching content: 500 Server Error: Domain Not Found for url: http://at.cnn.com/PwuzFNx\n",
            "Error fetching content: 500 Server Error: Domain Not Found for url: http://at.cnn.com/r4GbROT\n",
            "Error fetching content: 500 Server Error: Domain Not Found for url: http://at.cnn.com/ScTmFWm\n",
            "Error fetching content: 500 Server Error: Domain Not Found for url: http://at.cnn.com/V8dbCnN\n",
            "Error fetching content: 500 Server Error: Domain Not Found for url: http://at.cnn.com/HiQ1aEy\n",
            "Error fetching content: 500 Server Error: Domain Not Found for url: http://at.cnn.com/XQ55jCK\n",
            "Error fetching content: 500 Server Error: Domain Not Found for url: http://at.cnn.com/7Rq2aYk\n",
            "Error fetching content: 500 Server Error: Domain Not Found for url: http://at.cnn.com/X7FcTSt\n"
          ]
        },
        {
          "output_type": "stream",
          "name": "stderr",
          "text": [
            "Extracting content:  86%|████████▌ | 4276/5000 [1:40:13<02:16,  5.29it/s]"
          ]
        },
        {
          "output_type": "stream",
          "name": "stdout",
          "text": [
            "Error fetching content: 404 Client Error: Not Found for url: https://t.co/NH16Q95%E2%80%A6\n",
            "Error fetching content: 500 Server Error: Domain Not Found for url: http://at.cnn.com/W6gKidK\n",
            "Error fetching content: 500 Server Error: Domain Not Found for url: http://at.cnn.com/LLiQYwD\n",
            "Error fetching content: 500 Server Error: Domain Not Found for url: http://at.cnn.com/PLoC0WL\n",
            "Error fetching content: 500 Server Error: Domain Not Found for url: http://at.cnn.com/LlZAYcI\n",
            "Error fetching content: 500 Server Error: Domain Not Found for url: http://at.cnn.com/o7hCCMX\n",
            "Error fetching content: 500 Server Error: Domain Not Found for url: http://at.cnn.com/4zI2vnq\n",
            "Error fetching content: 500 Server Error: Domain Not Found for url: http://at.cnn.com/8PNbinM\n",
            "Error fetching content: 500 Server Error: Domain Not Found for url: http://at.cnn.com/rKqTdi2\n",
            "Error fetching content: 500 Server Error: Domain Not Found for url: http://at.cnn.com/KrSnToR\n",
            "Error fetching content: 500 Server Error: Domain Not Found for url: http://at.cnn.com/jmjW0n9\n",
            "Error fetching content: 500 Server Error: Domain Not Found for url: http://at.cnn.com/6IpcXHt\n",
            "Error fetching content: 500 Server Error: Domain Not Found for url: http://at.cnn.com/hn4nc7S\n",
            "Error fetching content: 500 Server Error: Domain Not Found for url: http://at.cnn.com/kwRpic2\n",
            "Error fetching content: 500 Server Error: Domain Not Found for url: http://at.cnn.com/10lcOif\n",
            "Error fetching content: 500 Server Error: Domain Not Found for url: http://at.cnn.com/KvSjEt1\n",
            "Error fetching content: 500 Server Error: Domain Not Found for url: http://at.cnn.com/dCXPId5\n",
            "Error fetching content: 500 Server Error: Domain Not Found for url: http://at.cnn.com/PgndJbR\n",
            "Error fetching content: 500 Server Error: Domain Not Found for url: http://at.cnn.com/PhcAAnc\n",
            "Error fetching content: 500 Server Error: Domain Not Found for url: http://at.cnn.com/g4Zyp5j\n",
            "Error fetching content: 500 Server Error: Domain Not Found for url: http://at.cnn.com/q241d5F\n",
            "Error fetching content: 500 Server Error: Domain Not Found for url: http://at.cnn.com/OukSLew\n",
            "Error fetching content: 500 Server Error: Domain Not Found for url: http://at.cnn.com/rLnFV92\n",
            "Error fetching content: 500 Server Error: Domain Not Found for url: http://at.cnn.com/L1UKpYS\n",
            "Error fetching content: 500 Server Error: Domain Not Found for url: http://at.cnn.com/BTFIdxW\n",
            "Error fetching content: 500 Server Error: Domain Not Found for url: http://at.cnn.com/WIfaEAA\n",
            "Error fetching content: 500 Server Error: Domain Not Found for url: http://at.cnn.com/VGrA7mk\n",
            "Error fetching content: 500 Server Error: Domain Not Found for url: http://at.cnn.com/cVCnR2S\n"
          ]
        },
        {
          "output_type": "stream",
          "name": "stderr",
          "text": [
            "Extracting content:  86%|████████▌ | 4306/5000 [1:40:13<00:57, 12.05it/s]"
          ]
        },
        {
          "output_type": "stream",
          "name": "stdout",
          "text": [
            "Error fetching content: 500 Server Error: Domain Not Found for url: http://at.cnn.com/kq7Hgs2\n",
            "Error fetching content: 500 Server Error: Domain Not Found for url: http://at.cnn.com/fNLdN2v\n",
            "Error fetching content: 500 Server Error: Domain Not Found for url: http://at.cnn.com/2GBg9PQ\n",
            "Error fetching content: 500 Server Error: Domain Not Found for url: http://at.cnn.com/nxykyDo\n",
            "Error fetching content: 500 Server Error: Domain Not Found for url: http://at.cnn.com/mPk5HXC\n",
            "Error fetching content: 500 Server Error: Domain Not Found for url: http://at.cnn.com/9nCUG10\n",
            "Error fetching content: 500 Server Error: Domain Not Found for url: http://at.cnn.com/igj3VYW\n",
            "Error fetching content: 500 Server Error: Domain Not Found for url: http://at.cnn.com/JGvYFuO\n",
            "Error fetching content: 500 Server Error: Domain Not Found for url: http://at.cnn.com/99t2xsC\n",
            "Error fetching content: 500 Server Error: Domain Not Found for url: http://at.cnn.com/ZUNZocc\n",
            "Error fetching content: 500 Server Error: Domain Not Found for url: http://at.cnn.com/i4DU6MP\n",
            "Error fetching content: 500 Server Error: Domain Not Found for url: http://at.cnn.com/7aoveYI\n",
            "Error fetching content: 500 Server Error: Domain Not Found for url: http://at.cnn.com/a8zps5v\n",
            "Error fetching content: 500 Server Error: Domain Not Found for url: http://at.cnn.com/HujDdas\n",
            "Error fetching content: 500 Server Error: Domain Not Found for url: http://at.cnn.com/WriNqfa\n",
            "Error fetching content: 500 Server Error: Domain Not Found for url: http://at.cnn.com/qjJNZhD\n",
            "Error fetching content: 500 Server Error: Domain Not Found for url: http://at.cnn.com/ILIWiQw\n",
            "Error fetching content: 500 Server Error: Domain Not Found for url: http://at.cnn.com/Q6LfzXN\n",
            "Error fetching content: 500 Server Error: Domain Not Found for url: http://at.cnn.com/EBVqwhI\n",
            "Error fetching content: 500 Server Error: Domain Not Found for url: http://at.cnn.com/KGa2JzC\n",
            "Error fetching content: 500 Server Error: Domain Not Found for url: http://at.cnn.com/LAP39fk\n",
            "Error fetching content: 500 Server Error: Domain Not Found for url: http://at.cnn.com/ue6388Y\n",
            "Error fetching content: 500 Server Error: Domain Not Found for url: http://at.cnn.com/L5waymF\n",
            "Error fetching content: 500 Server Error: Domain Not Found for url: http://at.cnn.com/8B45MyE\n",
            "Error fetching content: 500 Server Error: Domain Not Found for url: http://at.cnn.com/bR6fjW6\n",
            "Error fetching content: 500 Server Error: Domain Not Found for url: http://at.cnn.com/LfCUjXr\n",
            "Error fetching content: 500 Server Error: Domain Not Found for url: http://at.cnn.com/Syjlub6\n",
            "Error fetching content: 500 Server Error: Domain Not Found for url: http://at.cnn.com/4iHqHKA\n",
            "Error fetching content: 500 Server Error: Domain Not Found for url: http://at.cnn.com/Gg2fwPE\n",
            "Error fetching content: 500 Server Error: Domain Not Found for url: http://at.cnn.com/mRS3M2l\n",
            "Error fetching content: 500 Server Error: Domain Not Found for url: http://at.cnn.com/YdykiOx\n"
          ]
        },
        {
          "output_type": "stream",
          "name": "stderr",
          "text": [
            "Extracting content:  87%|████████▋ | 4339/5000 [1:40:13<00:26, 25.15it/s]"
          ]
        },
        {
          "output_type": "stream",
          "name": "stdout",
          "text": [
            "Error fetching content: 500 Server Error: Domain Not Found for url: http://at.cnn.com/dEZJne2\n",
            "Error fetching content: 500 Server Error: Domain Not Found for url: http://at.cnn.com/rkcc3jC\n",
            "Error fetching content: 500 Server Error: Domain Not Found for url: http://at.cnn.com/ivh4E8Y\n",
            "Error fetching content: 500 Server Error: Domain Not Found for url: http://at.cnn.com/3fxq5Wp\n",
            "Error fetching content: 500 Server Error: Domain Not Found for url: http://at.cnn.com/Sa8iDs6\n",
            "Error fetching content: 500 Server Error: Domain Not Found for url: http://at.cnn.com/hwsdRja\n",
            "Error fetching content: 500 Server Error: Domain Not Found for url: http://at.cnn.com/zojnNeN\n",
            "Error fetching content: 500 Server Error: Domain Not Found for url: http://at.cnn.com/jsHrEMZ\n",
            "Error fetching content: 500 Server Error: Domain Not Found for url: http://at.cnn.com/1aqKPCO\n",
            "Error fetching content: 500 Server Error: Domain Not Found for url: http://at.cnn.com/BdZzE0D\n",
            "Error fetching content: 500 Server Error: Domain Not Found for url: http://at.cnn.com/VkeiwEN\n",
            "Error fetching content: 500 Server Error: Domain Not Found for url: http://at.cnn.com/WZknmCO\n",
            "Error fetching content: 500 Server Error: Domain Not Found for url: http://at.cnn.com/2HkoHQ2\n",
            "Error fetching content: 500 Server Error: Domain Not Found for url: http://at.cnn.com/JXuMmyX\n",
            "Error fetching content: 500 Server Error: Domain Not Found for url: http://at.cnn.com/NhIiIg3\n",
            "Error fetching content: 500 Server Error: Domain Not Found for url: http://at.cnn.com/87J4BaS\n",
            "Error fetching content: 500 Server Error: Domain Not Found for url: http://at.cnn.com/zbE4iqJ\n",
            "Error fetching content: 500 Server Error: Domain Not Found for url: http://at.cnn.com/lsOhl3k\n",
            "Error fetching content: 500 Server Error: Domain Not Found for url: http://at.cnn.com/tyg1eZk\n",
            "Error fetching content: 500 Server Error: Domain Not Found for url: http://at.cnn.com/7OjalrT\n",
            "Error fetching content: 500 Server Error: Domain Not Found for url: http://at.cnn.com/BkwPOug\n",
            "Error fetching content: 500 Server Error: Domain Not Found for url: http://at.cnn.com/S75MvX2\n",
            "Error fetching content: 500 Server Error: Domain Not Found for url: http://at.cnn.com/v7al0R4\n",
            "Error fetching content: 500 Server Error: Domain Not Found for url: http://at.cnn.com/DDkafDP\n",
            "Error fetching content: 500 Server Error: Domain Not Found for url: http://at.cnn.com/qLhr8eN\n",
            "Error fetching content: 500 Server Error: Domain Not Found for url: http://at.cnn.com/mf1Rkpp\n",
            "Error fetching content: 500 Server Error: Domain Not Found for url: http://at.cnn.com/5EBK0co\n",
            "Error fetching content: 500 Server Error: Domain Not Found for url: http://at.cnn.com/BSN4hTr\n",
            "Error fetching content: 500 Server Error: Domain Not Found for url: http://at.cnn.com/GQDhqvY\n",
            "Error fetching content: 500 Server Error: Domain Not Found for url: http://at.cnn.com/LwfJ7EY\n",
            "Error fetching content: 500 Server Error: Domain Not Found for url: http://at.cnn.com/oDwZJRX\n",
            "Error fetching content: 500 Server Error: Domain Not Found for url: http://at.cnn.com/P4lRppA\n"
          ]
        },
        {
          "output_type": "stream",
          "name": "stderr",
          "text": [
            "Extracting content:  87%|████████▋ | 4370/5000 [1:40:14<00:14, 44.21it/s]"
          ]
        },
        {
          "output_type": "stream",
          "name": "stdout",
          "text": [
            "Error fetching content: 500 Server Error: Domain Not Found for url: http://at.cnn.com/jtSHcqY\n",
            "Error fetching content: 500 Server Error: Domain Not Found for url: http://at.cnn.com/DNW1iP2\n",
            "Error fetching content: 500 Server Error: Domain Not Found for url: http://at.cnn.com/Dm4agfE\n",
            "Error fetching content: 500 Server Error: Domain Not Found for url: http://at.cnn.com/tBOJJ2P\n",
            "Error fetching content: 500 Server Error: Domain Not Found for url: http://at.cnn.com/sSZJEo8\n",
            "Error fetching content: 500 Server Error: Domain Not Found for url: http://at.cnn.com/0dfPoKj\n",
            "Error fetching content: 500 Server Error: Domain Not Found for url: http://at.cnn.com/CgYgq0W\n",
            "Error fetching content: 500 Server Error: Domain Not Found for url: http://at.cnn.com/mtaJMfG\n",
            "Error fetching content: 500 Server Error: Domain Not Found for url: http://at.cnn.com/vgguPnW\n",
            "Error fetching content: 500 Server Error: Domain Not Found for url: http://at.cnn.com/fLdfGOe\n",
            "Error fetching content: 500 Server Error: Domain Not Found for url: http://at.cnn.com/QTdLOtV\n",
            "Error fetching content: 500 Server Error: Domain Not Found for url: http://at.cnn.com/pHmfGOr\n",
            "Error fetching content: 500 Server Error: Domain Not Found for url: http://at.cnn.com/aqWub1j\n",
            "Error fetching content: 500 Server Error: Domain Not Found for url: http://at.cnn.com/7i6jhh1\n",
            "Error fetching content: 500 Server Error: Domain Not Found for url: http://at.cnn.com/cFQuHp3\n",
            "Error fetching content: 500 Server Error: Domain Not Found for url: http://at.cnn.com/ITCBJKA\n",
            "Error fetching content: 500 Server Error: Domain Not Found for url: http://at.cnn.com/ANvMXcg\n",
            "Error fetching content: 500 Server Error: Domain Not Found for url: http://at.cnn.com/zY53feC\n",
            "Error fetching content: 500 Server Error: Domain Not Found for url: http://at.cnn.com/ZdLrpyT\n",
            "Error fetching content: 500 Server Error: Domain Not Found for url: http://at.cnn.com/zgeyAlH\n",
            "Error fetching content: 500 Server Error: Domain Not Found for url: http://at.cnn.com/jQF2dFu\n",
            "Error fetching content: 500 Server Error: Domain Not Found for url: http://at.cnn.com/HzNIiq7\n",
            "Error fetching content: 500 Server Error: Domain Not Found for url: http://at.cnn.com/x7AC6wH\n",
            "Error fetching content: 500 Server Error: Domain Not Found for url: http://at.cnn.com/iYFzTSk\n",
            "Error fetching content: 500 Server Error: Domain Not Found for url: http://at.cnn.com/Ym8wCbH\n",
            "Error fetching content: 500 Server Error: Domain Not Found for url: http://at.cnn.com/5KLalMK\n",
            "Error fetching content: HTTPConnectionPool(host='on.cnn.com', port=80): Max retries exceeded with url: /10plI1Z (Caused by ConnectTimeoutError(<urllib3.connection.HTTPConnection object at 0x7d7bf9527100>, 'Connection to on.cnn.com timed out. (connect timeout=4)'))\n",
            "Error fetching content: 500 Server Error: Domain Not Found for url: http://at.cnn.com/SUfYvjJ\n",
            "Error fetching content: 500 Server Error: Domain Not Found for url: http://at.cnn.com/0R6NESE\n",
            "Error fetching content: 500 Server Error: Domain Not Found for url: http://at.cnn.com/ZeDf02Y\n",
            "Error fetching content: 500 Server Error: Domain Not Found for url: http://at.cnn.com/XLGWFlO\n",
            "Error fetching content: 500 Server Error: Domain Not Found for url: http://at.cnn.com/WYUNesr\n",
            "Error fetching content: 500 Server Error: Domain Not Found for url: http://at.cnn.com/qZJZa3s\n"
          ]
        },
        {
          "output_type": "stream",
          "name": "stderr",
          "text": [
            "Extracting content:  88%|████████▊ | 4402/5000 [1:40:18<00:44, 13.54it/s]"
          ]
        },
        {
          "output_type": "stream",
          "name": "stdout",
          "text": [
            "Error fetching content: 500 Server Error: Domain Not Found for url: http://at.cnn.com/jc6pi10\n",
            "Error fetching content: 500 Server Error: Domain Not Found for url: http://at.cnn.com/gITgzCt\n",
            "Error fetching content: 500 Server Error: Domain Not Found for url: http://at.cnn.com/EAlme6H\n",
            "Error fetching content: 500 Server Error: Domain Not Found for url: http://at.cnn.com/zHpa3ae\n",
            "Error fetching content: 500 Server Error: Domain Not Found for url: http://at.cnn.com/BOvPCJI\n",
            "Error fetching content: 500 Server Error: Domain Not Found for url: http://at.cnn.com/onczVli\n",
            "Error fetching content: 500 Server Error: Domain Not Found for url: http://at.cnn.com/kdb6ZW9\n",
            "Error fetching content: 500 Server Error: Domain Not Found for url: http://at.cnn.com/ZyAM2Xi\n",
            "Error fetching content: 500 Server Error: Domain Not Found for url: http://at.cnn.com/ehYAJWE\n",
            "Error fetching content: 500 Server Error: Domain Not Found for url: http://at.cnn.com/ZLaCEAr\n",
            "Error fetching content: 500 Server Error: Domain Not Found for url: http://at.cnn.com/ktXUxQI\n",
            "Error fetching content: 500 Server Error: Domain Not Found for url: http://at.cnn.com/bCrVRkO\n",
            "Error fetching content: 500 Server Error: Domain Not Found for url: http://at.cnn.com/AuoyKAu\n",
            "Error fetching content: 500 Server Error: Domain Not Found for url: http://at.cnn.com/pD22NIo\n",
            "Error fetching content: 500 Server Error: Domain Not Found for url: http://at.cnn.com/1QGhQMB\n",
            "Error fetching content: 500 Server Error: Domain Not Found for url: http://at.cnn.com/HNbuNJ1\n",
            "Error fetching content: 500 Server Error: Domain Not Found for url: http://at.cnn.com/B00dZin\n",
            "Error fetching content: 500 Server Error: Domain Not Found for url: http://at.cnn.com/PyOpNqb\n",
            "Error fetching content: 500 Server Error: Domain Not Found for url: http://at.cnn.com/ijj2GZ8\n",
            "Error fetching content: 500 Server Error: Domain Not Found for url: http://at.cnn.com/8s9sIOq\n",
            "Error fetching content: 500 Server Error: Domain Not Found for url: http://at.cnn.com/zrOTT8o\n",
            "Error fetching content: 500 Server Error: Domain Not Found for url: http://at.cnn.com/FG8W3gH\n",
            "Error fetching content: 500 Server Error: Domain Not Found for url: http://at.cnn.com/QCQYjtN\n",
            "Error fetching content: 500 Server Error: Domain Not Found for url: http://at.cnn.com/ZgwyARY\n",
            "Error fetching content: 500 Server Error: Domain Not Found for url: http://at.cnn.com/6IGEF9T\n",
            "Error fetching content: 404 Client Error: Not Found for url: http://twbirthday.com/cnnhealth/\n",
            "Error fetching content: 404 Client Error: Not Found for url: http://pbs.twimg.com/media/BJ6--z8CQAAAtaL.jpg\n",
            "Error fetching content: 500 Server Error: Domain Not Found for url: http://at.cnn.com/FUyefM1\n"
          ]
        },
        {
          "output_type": "stream",
          "name": "stderr",
          "text": [
            "\rExtracting content:  88%|████████▊ | 4415/5000 [1:40:21<01:05,  8.91it/s]"
          ]
        },
        {
          "output_type": "stream",
          "name": "stdout",
          "text": [
            "Error fetching content: 500 Server Error: Domain Not Found for url: http://at.cnn.com/n4Lqhlh\n",
            "Error fetching content: 500 Server Error: Domain Not Found for url: http://at.cnn.com/itt21nA\n",
            "Error fetching content: 500 Server Error: Domain Not Found for url: http://at.cnn.com/1ZPw87t\n"
          ]
        },
        {
          "output_type": "stream",
          "name": "stderr",
          "text": [
            "Extracting content:  89%|████████▉ | 4439/5000 [1:40:25<01:09,  8.04it/s]"
          ]
        },
        {
          "output_type": "stream",
          "name": "stdout",
          "text": [
            "Error fetching content: HTTPConnectionPool(host='on.cnn.com', port=80): Max retries exceeded with url: /10IBAw0 (Caused by ConnectTimeoutError(<urllib3.connection.HTTPConnection object at 0x7d7bf8aca380>, 'Connection to on.cnn.com timed out. (connect timeout=4)'))\n",
            "Error fetching content: 500 Server Error: Domain Not Found for url: http://at.cnn.com/hvG6ttE\n",
            "Error fetching content: 500 Server Error: Domain Not Found for url: http://at.cnn.com/BdLVGH8\n",
            "Error fetching content: 500 Server Error: Domain Not Found for url: http://at.cnn.com/rTF4PR1\n",
            "Error fetching content: 500 Server Error: Domain Not Found for url: http://at.cnn.com/5IjRN1m\n",
            "Error fetching content: 500 Server Error: Domain Not Found for url: http://at.cnn.com/WFTr1zB\n",
            "Error fetching content: 500 Server Error: Domain Not Found for url: http://at.cnn.com/fLmXIJ9\n",
            "Error fetching content: 500 Server Error: Domain Not Found for url: http://at.cnn.com/avngAEJ\n",
            "Error fetching content: 500 Server Error: Domain Not Found for url: http://at.cnn.com/wnNZSEB\n",
            "Error fetching content: 500 Server Error: Domain Not Found for url: http://at.cnn.com/uZhIX09\n",
            "Error fetching content: 500 Server Error: Domain Not Found for url: http://at.cnn.com/mF7mZM8\n",
            "Error fetching content: 500 Server Error: Domain Not Found for url: http://at.cnn.com/kW9qRYF\n",
            "Error fetching content: 500 Server Error: Domain Not Found for url: http://at.cnn.com/wzrChuU\n",
            "Error fetching content: 500 Server Error: Domain Not Found for url: http://at.cnn.com/MLPZ1Se\n",
            "Error fetching content: 500 Server Error: Domain Not Found for url: http://at.cnn.com/VTHXAWt\n",
            "Error fetching content: 500 Server Error: Domain Not Found for url: http://at.cnn.com/IoPTOIw\n",
            "Error fetching content: 500 Server Error: Domain Not Found for url: http://at.cnn.com/QIswpL1\n",
            "Error fetching content: 500 Server Error: Domain Not Found for url: http://at.cnn.com/Xv45Ruy\n",
            "Error fetching content: 500 Server Error: Domain Not Found for url: http://at.cnn.com/3akrI00\n",
            "Error fetching content: 500 Server Error: Domain Not Found for url: http://at.cnn.com/yCAsDQd\n",
            "Error fetching content: 500 Server Error: Domain Not Found for url: http://at.cnn.com/Lxy2XZT\n",
            "Error fetching content: 500 Server Error: Domain Not Found for url: http://at.cnn.com/DFLA1go\n",
            "Error fetching content: 500 Server Error: Domain Not Found for url: http://at.cnn.com/xsI7X6v\n",
            "Error fetching content: 500 Server Error: Domain Not Found for url: http://at.cnn.com/W44eOTI\n",
            "Error fetching content: 500 Server Error: Domain Not Found for url: http://at.cnn.com/FrTNGKV\n",
            "Error fetching content: 500 Server Error: Domain Not Found for url: http://at.cnn.com/inoIwRt\n",
            "Error fetching content: 500 Server Error: Domain Not Found for url: http://at.cnn.com/U4OGBbf\n",
            "Error fetching content: 500 Server Error: Domain Not Found for url: http://at.cnn.com/bMocgXD\n",
            "Error fetching content: 500 Server Error: Domain Not Found for url: http://at.cnn.com/SFcmutV\n",
            "Error fetching content: 500 Server Error: Domain Not Found for url: http://at.cnn.com/9BUJvR7\n",
            "Error fetching content: 500 Server Error: Domain Not Found for url: http://at.cnn.com/Ly1Crs2\n"
          ]
        },
        {
          "output_type": "stream",
          "name": "stderr",
          "text": [
            "Extracting content:  89%|████████▉ | 4473/5000 [1:40:28<00:43, 12.21it/s]"
          ]
        },
        {
          "output_type": "stream",
          "name": "stdout",
          "text": [
            "Error fetching content: 500 Server Error: Domain Not Found for url: http://at.cnn.com/dI84mQB\n",
            "Error fetching content: 500 Server Error: Domain Not Found for url: http://at.cnn.com/6tMVQOx\n",
            "Error fetching content: 500 Server Error: Domain Not Found for url: http://at.cnn.com/Yg0JwON\n",
            "Error fetching content: 500 Server Error: Domain Not Found for url: http://at.cnn.com/M0Ty4HD\n",
            "Error fetching content: 500 Server Error: Domain Not Found for url: http://at.cnn.com/LsOUMzV\n",
            "Error fetching content: 500 Server Error: Domain Not Found for url: http://at.cnn.com/VVnpTTj\n",
            "Error fetching content: 500 Server Error: Domain Not Found for url: http://at.cnn.com/n059Q6B\n",
            "Error fetching content: 500 Server Error: Domain Not Found for url: http://at.cnn.com/pOilgBi\n",
            "Error fetching content: 500 Server Error: Domain Not Found for url: http://at.cnn.com/Ix5Pppa\n",
            "Error fetching content: 500 Server Error: Domain Not Found for url: http://at.cnn.com/IrJEStO\n",
            "Error fetching content: 500 Server Error: Domain Not Found for url: http://at.cnn.com/hAdQX4x\n",
            "Error fetching content: 500 Server Error: Domain Not Found for url: http://at.cnn.com/C3tKTst\n",
            "Error fetching content: 500 Server Error: Domain Not Found for url: http://at.cnn.com/gZWwDBw\n",
            "Error fetching content: 500 Server Error: Domain Not Found for url: http://at.cnn.com/Uw0Tiu2\n",
            "Error fetching content: 500 Server Error: Domain Not Found for url: http://at.cnn.com/HV6rTHd\n",
            "Error fetching content: 500 Server Error: Domain Not Found for url: http://at.cnn.com/b0nEVUy\n",
            "Error fetching content: 500 Server Error: Domain Not Found for url: http://at.cnn.com/xKSI1Lo\n",
            "Error fetching content: 500 Server Error: Domain Not Found for url: http://at.cnn.com/lcLbYjj\n",
            "Error fetching content: 500 Server Error: Domain Not Found for url: http://at.cnn.com/6E6cXPy\n",
            "Error fetching content: 500 Server Error: Domain Not Found for url: http://at.cnn.com/3eAQRzH\n",
            "Error fetching content: 500 Server Error: Domain Not Found for url: http://at.cnn.com/oluxFM4\n",
            "Error fetching content: 500 Server Error: Domain Not Found for url: http://at.cnn.com/MoVIKVd\n",
            "Error fetching content: 500 Server Error: Domain Not Found for url: http://at.cnn.com/nReuNbF\n",
            "Error fetching content: 500 Server Error: Domain Not Found for url: http://at.cnn.com/y1A7Z4z\n",
            "Error fetching content: 500 Server Error: Domain Not Found for url: http://at.cnn.com/cA7gYag\n",
            "Error fetching content: 500 Server Error: Domain Not Found for url: http://at.cnn.com/GhLeMNn\n",
            "Error fetching content: 500 Server Error: Domain Not Found for url: http://at.cnn.com/YPjdPgv\n",
            "Error fetching content: 500 Server Error: Domain Not Found for url: http://at.cnn.com/pz3n7Te\n",
            "Error fetching content: 500 Server Error: Domain Not Found for url: http://at.cnn.com/Kira8V8\n",
            "Error fetching content: 500 Server Error: Domain Not Found for url: http://at.cnn.com/vyun9lg\n",
            "Error fetching content: 500 Server Error: Domain Not Found for url: http://at.cnn.com/X8JsOfI\n",
            "Error fetching content: 500 Server Error: Domain Not Found for url: http://at.cnn.com/N7atVZJ\n",
            "Error fetching content: 500 Server Error: Domain Not Found for url: http://at.cnn.com/a8VcnYo\n",
            "Error fetching content: 500 Server Error: Domain Not Found for url: http://at.cnn.com/aRdMEQc\n",
            "Error fetching content: 500 Server Error: Domain Not Found for url: http://at.cnn.com/dXbOMiT\n"
          ]
        },
        {
          "output_type": "stream",
          "name": "stderr",
          "text": [
            "\rExtracting content:  90%|████████▉ | 4490/5000 [1:40:28<00:27, 18.42it/s]"
          ]
        },
        {
          "output_type": "stream",
          "name": "stdout",
          "text": [
            "Error fetching content: 500 Server Error: Domain Not Found for url: http://at.cnn.com/6YB93SQ\n",
            "Error fetching content: 500 Server Error: Domain Not Found for url: http://at.cnn.com/1SFT7HZ\n",
            "Error fetching content: 500 Server Error: Domain Not Found for url: http://at.cnn.com/yWScDn8\n",
            "Error fetching content: 500 Server Error: Domain Not Found for url: http://at.cnn.com/FUgeVC0\n",
            "Error fetching content: 500 Server Error: Domain Not Found for url: http://at.cnn.com/mFMXPz3\n",
            "Error fetching content: 500 Server Error: Domain Not Found for url: http://at.cnn.com/0vgq3Gw\n",
            "Error fetching content: 500 Server Error: Domain Not Found for url: http://at.cnn.com/yl07pBv\n",
            "Error fetching content: 404 Client Error: Not Found for url: https://t.co/GaZWUp%E2%80%A6\n",
            "Error fetching content: 500 Server Error: Domain Not Found for url: http://at.cnn.com/BiXd7kS\n"
          ]
        },
        {
          "output_type": "stream",
          "name": "stderr",
          "text": [
            "\rExtracting content:  90%|█████████ | 4501/5000 [1:40:30<00:38, 13.02it/s]"
          ]
        },
        {
          "output_type": "stream",
          "name": "stdout",
          "text": [
            "Error fetching content: 500 Server Error: Domain Not Found for url: http://at.cnn.com/rkmQe7N\n",
            "Error fetching content: 500 Server Error: Domain Not Found for url: http://at.cnn.com/dsVQgXw\n",
            "Error fetching content: 500 Server Error: Domain Not Found for url: http://at.cnn.com/J305NMQ\n",
            "Error fetching content: 500 Server Error: Domain Not Found for url: http://at.cnn.com/g2VLWGC\n",
            "Error fetching content: 500 Server Error: Domain Not Found for url: http://at.cnn.com/vNSZ5oJ\n",
            "Error fetching content: 500 Server Error: Domain Not Found for url: http://at.cnn.com/95vMtNB\n",
            "Error fetching content: 500 Server Error: Domain Not Found for url: http://at.cnn.com/k1A5hy6\n",
            "Error fetching content: 500 Server Error: Domain Not Found for url: http://at.cnn.com/5lmCe1Y\n",
            "Error fetching content: 500 Server Error: Domain Not Found for url: http://at.cnn.com/sMEO1iX\n",
            "Error fetching content: 500 Server Error: Domain Not Found for url: http://at.cnn.com/dfx6iQa\n",
            "Error fetching content: 500 Server Error: Domain Not Found for url: http://at.cnn.com/Hopk2lH\n"
          ]
        },
        {
          "output_type": "stream",
          "name": "stderr",
          "text": [
            "Extracting content:  90%|█████████ | 4525/5000 [1:40:34<00:50,  9.39it/s]"
          ]
        },
        {
          "output_type": "stream",
          "name": "stdout",
          "text": [
            "Error fetching content: HTTPConnectionPool(host='on.cnn.com', port=80): Max retries exceeded with url: /15ApskV (Caused by ConnectTimeoutError(<urllib3.connection.HTTPConnection object at 0x7d7bf92da260>, 'Connection to on.cnn.com timed out. (connect timeout=4)'))\n",
            "Error fetching content: 500 Server Error: Domain Not Found for url: http://at.cnn.com/eRxDb3w\n",
            "Error fetching content: 500 Server Error: Domain Not Found for url: http://at.cnn.com/pXdfs9R\n",
            "Error fetching content: 500 Server Error: Domain Not Found for url: http://at.cnn.com/BBEnyWX\n",
            "Error fetching content: 500 Server Error: Domain Not Found for url: http://at.cnn.com/wtPYr5c\n",
            "Error fetching content: 500 Server Error: Domain Not Found for url: http://at.cnn.com/fMY9blt\n",
            "Error fetching content: 500 Server Error: Domain Not Found for url: http://at.cnn.com/DEVEBus\n",
            "Error fetching content: 500 Server Error: Domain Not Found for url: http://at.cnn.com/nk5CXpU\n",
            "Error fetching content: 500 Server Error: Domain Not Found for url: http://at.cnn.com/aTPoetr\n",
            "Error fetching content: 500 Server Error: Domain Not Found for url: http://at.cnn.com/8FerUmP\n",
            "Error fetching content: 500 Server Error: Domain Not Found for url: http://at.cnn.com/AfbcPAv\n",
            "Error fetching content: 500 Server Error: Domain Not Found for url: http://at.cnn.com/nPnWxd2\n",
            "Error fetching content: 500 Server Error: Domain Not Found for url: http://at.cnn.com/CSMn7jT\n",
            "Error fetching content: 500 Server Error: Domain Not Found for url: http://at.cnn.com/psDAEm9\n",
            "Error fetching content: 500 Server Error: Domain Not Found for url: http://at.cnn.com/QO49hnd\n",
            "Error fetching content: 500 Server Error: Domain Not Found for url: http://at.cnn.com/MfnB86w\n",
            "Error fetching content: 500 Server Error: Domain Not Found for url: http://at.cnn.com/VAnSXV1\n",
            "Error fetching content: 500 Server Error: Domain Not Found for url: http://at.cnn.com/OMDN92C\n",
            "Error fetching content: 500 Server Error: Domain Not Found for url: http://at.cnn.com/O2n96ot\n",
            "Error fetching content: 500 Server Error: Domain Not Found for url: http://at.cnn.com/fat0yHt\n",
            "Error fetching content: 500 Server Error: Domain Not Found for url: http://at.cnn.com/ajAYP41\n",
            "Error fetching content: 500 Server Error: Domain Not Found for url: http://at.cnn.com/7BD1lgH\n",
            "Error fetching content: 500 Server Error: Domain Not Found for url: http://at.cnn.com/mppAfBH\n",
            "Error fetching content: 500 Server Error: Domain Not Found for url: http://at.cnn.com/PBsh1Qz\n",
            "Error fetching content: 500 Server Error: Domain Not Found for url: http://at.cnn.com/d55Rs6U\n",
            "Error fetching content: 500 Server Error: Domain Not Found for url: http://at.cnn.com/AXQTplp\n",
            "Error fetching content: 500 Server Error: Domain Not Found for url: http://at.cnn.com/IDG1nuT\n",
            "Error fetching content: 500 Server Error: Domain Not Found for url: http://at.cnn.com/FYQXqsw\n",
            "Error fetching content: 500 Server Error: Domain Not Found for url: http://at.cnn.com/Je4VmeC\n",
            "Error fetching content: 500 Server Error: Domain Not Found for url: http://at.cnn.com/Bsnps3H\n",
            "Error fetching content: 500 Server Error: Domain Not Found for url: http://at.cnn.com/YhLcwrV\n",
            "Error fetching content: 500 Server Error: Domain Not Found for url: http://at.cnn.com/05gvcEj\n"
          ]
        },
        {
          "output_type": "stream",
          "name": "stderr",
          "text": [
            "Extracting content:  91%|█████████ | 4558/5000 [1:40:34<00:21, 20.39it/s]"
          ]
        },
        {
          "output_type": "stream",
          "name": "stdout",
          "text": [
            "Error fetching content: 500 Server Error: Domain Not Found for url: http://at.cnn.com/r6vVgjI\n",
            "Error fetching content: 500 Server Error: Domain Not Found for url: http://at.cnn.com/xG6jU7t\n",
            "Error fetching content: 500 Server Error: Domain Not Found for url: http://at.cnn.com/GFqsgCs\n",
            "Error fetching content: 500 Server Error: Domain Not Found for url: http://at.cnn.com/jt63EKG\n",
            "Error fetching content: 500 Server Error: Domain Not Found for url: http://at.cnn.com/W0YWG4S\n",
            "Error fetching content: 500 Server Error: Domain Not Found for url: http://at.cnn.com/cWxbeQ7\n",
            "Error fetching content: 500 Server Error: Domain Not Found for url: http://at.cnn.com/wsNag8C\n",
            "Error fetching content: 500 Server Error: Domain Not Found for url: http://at.cnn.com/2wneHhn\n",
            "Error fetching content: 500 Server Error: Domain Not Found for url: http://at.cnn.com/8iEBLfE\n",
            "Error fetching content: 500 Server Error: Domain Not Found for url: http://at.cnn.com/ndasmk4\n",
            "Error fetching content: 500 Server Error: Domain Not Found for url: http://at.cnn.com/nYnY5Ja\n",
            "Error fetching content: 500 Server Error: Domain Not Found for url: http://at.cnn.com/VNQC4MC\n",
            "Error fetching content: 500 Server Error: Domain Not Found for url: http://at.cnn.com/Th6DI4v\n",
            "Error fetching content: 500 Server Error: Domain Not Found for url: http://at.cnn.com/Hm7C0kZ\n",
            "Error fetching content: 500 Server Error: Domain Not Found for url: http://at.cnn.com/AC6SxTn\n",
            "Error fetching content: 500 Server Error: Domain Not Found for url: http://at.cnn.com/gc9jyCz\n",
            "Error fetching content: 500 Server Error: Domain Not Found for url: http://at.cnn.com/geEkAJ9\n",
            "Error fetching content: 500 Server Error: Domain Not Found for url: http://at.cnn.com/LEjJSqJ\n",
            "Error fetching content: 500 Server Error: Domain Not Found for url: http://at.cnn.com/wgSs5ZF\n",
            "Error fetching content: 500 Server Error: Domain Not Found for url: http://at.cnn.com/WfbTAgW\n",
            "Error fetching content: 500 Server Error: Domain Not Found for url: http://at.cnn.com/esb1rmh\n",
            "Error fetching content: 500 Server Error: Domain Not Found for url: http://at.cnn.com/aysSieZ\n",
            "Error fetching content: 500 Server Error: Domain Not Found for url: http://at.cnn.com/Mn7zxuu\n"
          ]
        },
        {
          "output_type": "stream",
          "name": "stderr",
          "text": [
            "\rExtracting content:  91%|█████████▏| 4571/5000 [1:40:35<00:29, 14.53it/s]"
          ]
        },
        {
          "output_type": "stream",
          "name": "stdout",
          "text": [
            "Error fetching content: 500 Server Error: Domain Not Found for url: http://at.cnn.com/XVXFJH4\n",
            "Error fetching content: 500 Server Error: Domain Not Found for url: http://at.cnn.com/52eLGHc\n",
            "Error fetching content: 500 Server Error: Domain Not Found for url: http://at.cnn.com/1UWNLTW\n",
            "Error fetching content: 500 Server Error: Domain Not Found for url: http://at.cnn.com/s09C0Yd\n",
            "Error fetching content: 500 Server Error: Domain Not Found for url: http://at.cnn.com/QupuM0T\n",
            "Error fetching content: 500 Server Error: Domain Not Found for url: http://at.cnn.com/ci8i0im\n",
            "Error fetching content: 500 Server Error: Domain Not Found for url: http://at.cnn.com/DXtuNRn\n",
            "Error fetching content: 500 Server Error: Domain Not Found for url: http://at.cnn.com/ptzMKd4\n",
            "Error fetching content: 500 Server Error: Domain Not Found for url: http://at.cnn.com/5nuVciF\n",
            "Error fetching content: 500 Server Error: Domain Not Found for url: http://at.cnn.com/3g4YcLW\n",
            "Error fetching content: 500 Server Error: Domain Not Found for url: http://at.cnn.com/jX3uzSt\n",
            "Error fetching content: 500 Server Error: Domain Not Found for url: http://at.cnn.com/yLcrgRf\n",
            "Error fetching content: 500 Server Error: Domain Not Found for url: http://at.cnn.com/tmfsgZe\n",
            "Error fetching content: 500 Server Error: Domain Not Found for url: http://at.cnn.com/W9X5l0w\n",
            "Error fetching content: 500 Server Error: Domain Not Found for url: http://at.cnn.com/kE73SeL\n",
            "Error fetching content: 500 Server Error: Domain Not Found for url: http://at.cnn.com/0yVZkoj\n",
            "Error fetching content: 500 Server Error: Domain Not Found for url: http://at.cnn.com/xqYebEg\n",
            "Error fetching content: 500 Server Error: Domain Not Found for url: http://at.cnn.com/iGwapLD\n",
            "Error fetching content: 500 Server Error: Domain Not Found for url: http://at.cnn.com/SsJOxwS\n"
          ]
        },
        {
          "output_type": "stream",
          "name": "stderr",
          "text": [
            "\rExtracting content:  92%|█████████▏| 4583/5000 [1:40:36<00:22, 18.15it/s]"
          ]
        },
        {
          "output_type": "stream",
          "name": "stdout",
          "text": [
            "Error fetching content: 403 Client Error: Forbidden for url: https://www.kickstarter.com/projects/1294205820/western-middle-school-community-garden\n"
          ]
        },
        {
          "output_type": "stream",
          "name": "stderr",
          "text": [
            "\rExtracting content:  92%|█████████▏| 4592/5000 [1:40:36<00:24, 16.92it/s]"
          ]
        },
        {
          "output_type": "stream",
          "name": "stdout",
          "text": [
            "Error fetching content: 404 Client Error: Not Found for url: https://t.co/jHLCFIx5%E2%80%A6\n",
            "Error fetching content: 500 Server Error: Domain Not Found for url: http://at.cnn.com/lj9AeCf\n",
            "Error fetching content: 500 Server Error: Domain Not Found for url: http://at.cnn.com/myVUzB3\n",
            "Error fetching content: 500 Server Error: Domain Not Found for url: http://at.cnn.com/Z8gfGs7\n",
            "Error fetching content: 500 Server Error: Domain Not Found for url: http://at.cnn.com/YfMfl7r\n",
            "Error fetching content: 500 Server Error: Domain Not Found for url: http://at.cnn.com/JEdNbEZ\n",
            "Error fetching content: 500 Server Error: Domain Not Found for url: http://at.cnn.com/PVYbKAe\n",
            "Error fetching content: 500 Server Error: Domain Not Found for url: http://at.cnn.com/UjVs9j5\n",
            "Error fetching content: 500 Server Error: Domain Not Found for url: http://at.cnn.com/uHIvN8H\n",
            "Error fetching content: 500 Server Error: Domain Not Found for url: http://at.cnn.com/PZt0p2p\n",
            "Error fetching content: 500 Server Error: Domain Not Found for url: http://at.cnn.com/mU8f7sx\n",
            "Error fetching content: 500 Server Error: Domain Not Found for url: http://at.cnn.com/UKopnkE\n",
            "Error fetching content: 500 Server Error: Domain Not Found for url: http://at.cnn.com/l0bQirI\n",
            "Error fetching content: 500 Server Error: Domain Not Found for url: http://at.cnn.com/rgLBm5R\n",
            "Error fetching content: 500 Server Error: Domain Not Found for url: http://at.cnn.com/CBWYqI2\n",
            "Error fetching content: 500 Server Error: Domain Not Found for url: http://at.cnn.com/ZuDwFuI\n",
            "Error fetching content: 500 Server Error: Domain Not Found for url: http://at.cnn.com/WUAFuEc\n",
            "Error fetching content: 500 Server Error: Domain Not Found for url: http://at.cnn.com/XeTzNJ1\n",
            "Error fetching content: 500 Server Error: Domain Not Found for url: http://at.cnn.com/BsKmGrq\n",
            "Error fetching content: 500 Server Error: Domain Not Found for url: http://at.cnn.com/cn54yZK\n",
            "Error fetching content: 500 Server Error: Domain Not Found for url: http://at.cnn.com/YE2bNoC\n"
          ]
        },
        {
          "output_type": "stream",
          "name": "stderr",
          "text": [
            "Extracting content:  92%|█████████▏| 4619/5000 [1:40:38<00:19, 20.02it/s]"
          ]
        },
        {
          "output_type": "stream",
          "name": "stdout",
          "text": [
            "Error fetching content: 500 Server Error: Domain Not Found for url: http://at.cnn.com/gh4cvsD\n",
            "Error fetching content: 500 Server Error: Domain Not Found for url: http://at.cnn.com/CZ1FrZm\n",
            "Error fetching content: 500 Server Error: Domain Not Found for url: http://at.cnn.com/aZzcyjw\n",
            "Error fetching content: 500 Server Error: Domain Not Found for url: http://at.cnn.com/5sXEdvh\n",
            "Error fetching content: 500 Server Error: Domain Not Found for url: http://at.cnn.com/rhd1HZC\n",
            "Error fetching content: 500 Server Error: Domain Not Found for url: http://at.cnn.com/1kbb5qB\n",
            "Error fetching content: 500 Server Error: Domain Not Found for url: http://at.cnn.com/Y0oBB0Z\n",
            "Error fetching content: 500 Server Error: Domain Not Found for url: http://at.cnn.com/zyt5bPE\n",
            "Error fetching content: 500 Server Error: Domain Not Found for url: http://at.cnn.com/oK0uBpb\n",
            "Error fetching content: 500 Server Error: Domain Not Found for url: http://at.cnn.com/y9pxXCw\n",
            "Error fetching content: 500 Server Error: Domain Not Found for url: http://at.cnn.com/a7FQcoo\n",
            "Error fetching content: 500 Server Error: Domain Not Found for url: http://at.cnn.com/HOqXU3Q\n",
            "Error fetching content: 500 Server Error: Domain Not Found for url: http://at.cnn.com/t118Nrp\n",
            "Error fetching content: 500 Server Error: Domain Not Found for url: http://at.cnn.com/saa3Zgy\n",
            "Error fetching content: 500 Server Error: Domain Not Found for url: http://at.cnn.com/1dIA02N\n",
            "Error fetching content: 500 Server Error: Domain Not Found for url: http://at.cnn.com/UxDbWcI\n",
            "Error fetching content: 500 Server Error: Domain Not Found for url: http://at.cnn.com/8QaevSR\n",
            "Error fetching content: 500 Server Error: Domain Not Found for url: http://at.cnn.com/PgCC3He\n",
            "Error fetching content: 500 Server Error: Domain Not Found for url: http://at.cnn.com/V3JWxZo\n",
            "Error fetching content: 500 Server Error: Domain Not Found for url: http://at.cnn.com/QM0wfq6\n",
            "Error fetching content: 500 Server Error: Domain Not Found for url: http://at.cnn.com/ZfyCf5x\n",
            "Error fetching content: 500 Server Error: Domain Not Found for url: http://at.cnn.com/PgCC3He\n"
          ]
        },
        {
          "output_type": "stream",
          "name": "stderr",
          "text": [
            "Extracting content:  93%|█████████▎| 4650/5000 [1:40:42<00:28, 12.07it/s]"
          ]
        },
        {
          "output_type": "stream",
          "name": "stdout",
          "text": [
            "Error fetching content: 500 Server Error: Domain Not Found for url: http://at.cnn.com/vNIRA3q\n",
            "Error fetching content: 500 Server Error: Domain Not Found for url: http://at.cnn.com/47RivW6\n",
            "Error fetching content: 500 Server Error: Domain Not Found for url: http://at.cnn.com/LQ1J9lQ\n",
            "Error fetching content: 500 Server Error: Domain Not Found for url: http://at.cnn.com/onNUkUr\n",
            "Error fetching content: 500 Server Error: Domain Not Found for url: http://at.cnn.com/2toYjNN\n",
            "Error fetching content: 500 Server Error: Domain Not Found for url: http://at.cnn.com/N88C6EA\n",
            "Error fetching content: 500 Server Error: Domain Not Found for url: http://at.cnn.com/M7pUfT4\n",
            "Error fetching content: 500 Server Error: Domain Not Found for url: http://at.cnn.com/deNX6V8\n",
            "Error fetching content: 500 Server Error: Domain Not Found for url: http://at.cnn.com/dkKRIyC\n",
            "Error fetching content: 500 Server Error: Domain Not Found for url: http://at.cnn.com/gEekscR\n",
            "Error fetching content: 500 Server Error: Domain Not Found for url: http://at.cnn.com/BX2k48D\n",
            "Error fetching content: 500 Server Error: Domain Not Found for url: http://at.cnn.com/C39CRJF\n",
            "Error fetching content: 500 Server Error: Domain Not Found for url: http://at.cnn.com/PA5LilZ\n",
            "Error fetching content: 500 Server Error: Domain Not Found for url: http://at.cnn.com/QqHzPWS\n",
            "Error fetching content: 500 Server Error: Domain Not Found for url: http://at.cnn.com/A8Jkj0k\n",
            "Error fetching content: 500 Server Error: Domain Not Found for url: http://at.cnn.com/A7aHTcA\n",
            "Error fetching content: 500 Server Error: Domain Not Found for url: http://at.cnn.com/Xl8dcS6\n",
            "Error fetching content: 500 Server Error: Domain Not Found for url: http://at.cnn.com/RPK3Al8\n",
            "Error fetching content: 500 Server Error: Domain Not Found for url: http://at.cnn.com/DmP8mlv\n",
            "Error fetching content: 500 Server Error: Domain Not Found for url: http://at.cnn.com/6pkkcWY\n",
            "Error fetching content: 500 Server Error: Domain Not Found for url: http://at.cnn.com/6IvALYZ\n",
            "Error fetching content: 500 Server Error: Domain Not Found for url: http://at.cnn.com/9JV0IdY\n",
            "Error fetching content: 500 Server Error: Domain Not Found for url: http://at.cnn.com/wfVFFhm\n",
            "Error fetching content: 500 Server Error: Domain Not Found for url: http://at.cnn.com/0T5aH6l\n"
          ]
        },
        {
          "output_type": "stream",
          "name": "stderr",
          "text": [
            "\rExtracting content:  93%|█████████▎| 4659/5000 [1:40:42<00:28, 11.92it/s]"
          ]
        },
        {
          "output_type": "stream",
          "name": "stdout",
          "text": [
            "Error fetching content: 500 Server Error: Domain Not Found for url: http://at.cnn.com/5a4Md7r\n",
            "Error fetching content: 500 Server Error: Domain Not Found for url: http://at.cnn.com/Cyrth1s\n",
            "Error fetching content: 500 Server Error: Domain Not Found for url: http://at.cnn.com/EkFzNa1\n"
          ]
        },
        {
          "output_type": "stream",
          "name": "stderr",
          "text": [
            "Extracting content:  94%|█████████▎| 4682/5000 [1:40:44<00:19, 16.06it/s]"
          ]
        },
        {
          "output_type": "stream",
          "name": "stdout",
          "text": [
            "Error fetching content: 500 Server Error: Domain Not Found for url: http://at.cnn.com/CcX6jXD\n",
            "Error fetching content: 500 Server Error: Domain Not Found for url: http://at.cnn.com/deP63Kj\n",
            "Error fetching content: 500 Server Error: Domain Not Found for url: http://at.cnn.com/lFyjOEH\n",
            "Error fetching content: 500 Server Error: Domain Not Found for url: http://at.cnn.com/H5mpSdC\n",
            "Error fetching content: 500 Server Error: Domain Not Found for url: http://at.cnn.com/K98FQfq\n",
            "Error fetching content: 500 Server Error: Domain Not Found for url: http://at.cnn.com/yPEU5OI\n",
            "Error fetching content: 500 Server Error: Domain Not Found for url: http://at.cnn.com/4OoVl9q\n",
            "Error fetching content: 500 Server Error: Domain Not Found for url: http://at.cnn.com/LaaXuAS\n",
            "Error fetching content: 500 Server Error: Domain Not Found for url: http://at.cnn.com/bcjILll\n",
            "Error fetching content: 500 Server Error: Domain Not Found for url: http://at.cnn.com/1JEf7ui\n",
            "Error fetching content: 500 Server Error: Domain Not Found for url: http://at.cnn.com/PfDYVz7\n",
            "Error fetching content: 500 Server Error: Domain Not Found for url: http://at.cnn.com/ttNoeHR\n",
            "Error fetching content: 500 Server Error: Domain Not Found for url: http://at.cnn.com/74Gu4rN\n",
            "Error fetching content: 500 Server Error: Domain Not Found for url: http://at.cnn.com/497aRfP\n",
            "Error fetching content: 500 Server Error: Domain Not Found for url: http://at.cnn.com/fJqoPg7\n",
            "Error fetching content: 500 Server Error: Domain Not Found for url: http://at.cnn.com/v2XWR3Z\n",
            "Error fetching content: 500 Server Error: Domain Not Found for url: http://at.cnn.com/5hlUBHC\n",
            "Error fetching content: 500 Server Error: Domain Not Found for url: http://at.cnn.com/EkpVRlI\n",
            "Error fetching content: 500 Server Error: Domain Not Found for url: http://at.cnn.com/r7oiLaU\n",
            "Error fetching content: 500 Server Error: Domain Not Found for url: http://at.cnn.com/jiGVDXE\n",
            "Error fetching content: 500 Server Error: Domain Not Found for url: http://at.cnn.com/7qYmE3s\n",
            "Error fetching content: 500 Server Error: Domain Not Found for url: http://at.cnn.com/uUz3quA\n",
            "Error fetching content: 500 Server Error: Domain Not Found for url: http://at.cnn.com/iMDXH39\n",
            "Error fetching content: 500 Server Error: Domain Not Found for url: http://at.cnn.com/Vi5LmHQ\n",
            "Error fetching content: 500 Server Error: Domain Not Found for url: http://at.cnn.com/qeih0Pe\n",
            "Error fetching content: 500 Server Error: Domain Not Found for url: http://at.cnn.com/zWuHTvu\n",
            "Error fetching content: 500 Server Error: Domain Not Found for url: http://at.cnn.com/vMfxbCj\n",
            "Error fetching content: 500 Server Error: Domain Not Found for url: http://at.cnn.com/pqKlcCX\n",
            "Error fetching content: 500 Server Error: Domain Not Found for url: http://at.cnn.com/HHoXmNE\n",
            "Error fetching content: 500 Server Error: Domain Not Found for url: http://at.cnn.com/TyJOVgb\n",
            "Error fetching content: 500 Server Error: Domain Not Found for url: http://at.cnn.com/YqPpczo\n",
            "Error fetching content: 500 Server Error: Domain Not Found for url: http://at.cnn.com/gQUyvox\n",
            "Error fetching content: 500 Server Error: Domain Not Found for url: http://at.cnn.com/xlCnV26\n"
          ]
        },
        {
          "output_type": "stream",
          "name": "stderr",
          "text": [
            "Extracting content:  94%|█████████▍| 4716/5000 [1:40:44<00:08, 35.32it/s]"
          ]
        },
        {
          "output_type": "stream",
          "name": "stdout",
          "text": [
            "Error fetching content: 500 Server Error: Domain Not Found for url: http://at.cnn.com/OW43lsz\n",
            "Error fetching content: 500 Server Error: Domain Not Found for url: http://at.cnn.com/ajqRHWG\n",
            "Error fetching content: 500 Server Error: Domain Not Found for url: http://at.cnn.com/0nQ3RYe\n",
            "Error fetching content: 500 Server Error: Domain Not Found for url: http://at.cnn.com/ygqcdQW\n",
            "Error fetching content: 500 Server Error: Domain Not Found for url: http://at.cnn.com/3jefspI\n",
            "Error fetching content: 500 Server Error: Domain Not Found for url: http://at.cnn.com/CMJ62kQ\n",
            "Error fetching content: 500 Server Error: Domain Not Found for url: http://at.cnn.com/8ldgNAq\n",
            "Error fetching content: 500 Server Error: Domain Not Found for url: http://at.cnn.com/n4tsKvW\n",
            "Error fetching content: 500 Server Error: Domain Not Found for url: http://at.cnn.com/pnxHPeF\n",
            "Error fetching content: 500 Server Error: Domain Not Found for url: http://at.cnn.com/wsfyjiF\n",
            "Error fetching content: 500 Server Error: Domain Not Found for url: http://at.cnn.com/4iKDNot\n",
            "Error fetching content: 500 Server Error: Domain Not Found for url: http://at.cnn.com/tmwsQJN\n",
            "Error fetching content: 500 Server Error: Domain Not Found for url: http://at.cnn.com/Fz8ByS5\n",
            "Error fetching content: 500 Server Error: Domain Not Found for url: http://at.cnn.com/008RelO\n",
            "Error fetching content: 500 Server Error: Domain Not Found for url: http://at.cnn.com/PgOvCgx\n",
            "Error fetching content: 500 Server Error: Domain Not Found for url: http://at.cnn.com/8p70nHu\n",
            "Error fetching content: 500 Server Error: Domain Not Found for url: http://at.cnn.com/4XVxbhi\n",
            "Error fetching content: 500 Server Error: Domain Not Found for url: http://at.cnn.com/yONIkjw\n",
            "Error fetching content: 500 Server Error: Domain Not Found for url: http://at.cnn.com/7KQzG2a\n",
            "Error fetching content: 500 Server Error: Domain Not Found for url: http://at.cnn.com/KpICKXc\n",
            "Error fetching content: 500 Server Error: Domain Not Found for url: http://at.cnn.com/Xikclz3\n",
            "Error fetching content: 500 Server Error: Domain Not Found for url: http://at.cnn.com/S9QT0n2\n",
            "Error fetching content: 500 Server Error: Domain Not Found for url: http://at.cnn.com/wxokAnK\n",
            "Error fetching content: 500 Server Error: Domain Not Found for url: http://at.cnn.com/KX5GTDt\n",
            "Error fetching content: 500 Server Error: Domain Not Found for url: http://at.cnn.com/21q7Fru\n",
            "Error fetching content: 500 Server Error: Domain Not Found for url: http://at.cnn.com/SvT9S1F\n",
            "Error fetching content: 500 Server Error: Domain Not Found for url: http://at.cnn.com/fGylTIg\n",
            "Error fetching content: 500 Server Error: Domain Not Found for url: http://at.cnn.com/GW6mCJk\n",
            "Error fetching content: 500 Server Error: Domain Not Found for url: http://at.cnn.com/3V0LV78\n",
            "Error fetching content: 500 Server Error: Domain Not Found for url: http://at.cnn.com/CmEq4cd\n",
            "Error fetching content: 500 Server Error: Domain Not Found for url: http://at.cnn.com/HyV2MJV\n",
            "Error fetching content: 500 Server Error: Domain Not Found for url: http://at.cnn.com/683gnDg\n",
            "Error fetching content: 500 Server Error: Domain Not Found for url: http://at.cnn.com/rQZJ5rC\n",
            "Error fetching content: 500 Server Error: Domain Not Found for url: http://at.cnn.com/vJNoBoO\n",
            "Error fetching content: 500 Server Error: Domain Not Found for url: http://at.cnn.com/tgdd2rF\n"
          ]
        },
        {
          "output_type": "stream",
          "name": "stderr",
          "text": [
            "\rExtracting content:  95%|█████████▍| 4733/5000 [1:40:44<00:05, 48.00it/s]"
          ]
        },
        {
          "output_type": "stream",
          "name": "stdout",
          "text": [
            "Error fetching content: 500 Server Error: Domain Not Found for url: http://at.cnn.com/o6jwHuq\n",
            "Error fetching content: 500 Server Error: Domain Not Found for url: http://at.cnn.com/7CP9ncv\n",
            "Error fetching content: 500 Server Error: Domain Not Found for url: http://at.cnn.com/fyqanxC\n",
            "Error fetching content: 500 Server Error: Domain Not Found for url: http://at.cnn.com/neXtfb0\n",
            "Error fetching content: 500 Server Error: Domain Not Found for url: http://at.cnn.com/ji9kcUX\n",
            "Error fetching content: 500 Server Error: Domain Not Found for url: http://at.cnn.com/Pl5hvFJ\n",
            "Error fetching content: 500 Server Error: Domain Not Found for url: http://at.cnn.com/E3TiMPB\n",
            "Error fetching content: 500 Server Error: Domain Not Found for url: http://at.cnn.com/HBXWUHQ\n",
            "Error fetching content: 500 Server Error: Domain Not Found for url: http://at.cnn.com/kr1nDWZ\n"
          ]
        },
        {
          "output_type": "stream",
          "name": "stderr",
          "text": [
            "\rExtracting content:  95%|█████████▍| 4747/5000 [1:40:45<00:08, 31.55it/s]"
          ]
        },
        {
          "output_type": "stream",
          "name": "stdout",
          "text": [
            "Error fetching content: 500 Server Error: Domain Not Found for url: http://at.cnn.com/Ii5Sk7G\n",
            "Error fetching content: 500 Server Error: Domain Not Found for url: http://at.cnn.com/EQF0vi0\n",
            "Error fetching content: 500 Server Error: Domain Not Found for url: http://at.cnn.com/gs2ghO3\n",
            "Error fetching content: 500 Server Error: Domain Not Found for url: http://at.cnn.com/rBjTFPi\n",
            "Error fetching content: 500 Server Error: Domain Not Found for url: http://at.cnn.com/G5ty1HM\n",
            "Error fetching content: 500 Server Error: Domain Not Found for url: http://at.cnn.com/ZqI3yu1\n",
            "Error fetching content: 500 Server Error: Domain Not Found for url: http://at.cnn.com/RfG5iEQ\n",
            "Error fetching content: 500 Server Error: Domain Not Found for url: http://at.cnn.com/UY7mKFf\n"
          ]
        },
        {
          "output_type": "stream",
          "name": "stderr",
          "text": [
            "\rExtracting content:  95%|█████████▌| 4758/5000 [1:40:46<00:13, 17.92it/s]"
          ]
        },
        {
          "output_type": "stream",
          "name": "stdout",
          "text": [
            "Error fetching content: 500 Server Error: Domain Not Found for url: http://at.cnn.com/IQvOQmo\n",
            "Error fetching content: 500 Server Error: Domain Not Found for url: http://at.cnn.com/hb42hzR\n",
            "Error fetching content: 500 Server Error: Domain Not Found for url: http://at.cnn.com/LnGshJD\n",
            "Error fetching content: 500 Server Error: Domain Not Found for url: http://at.cnn.com/IXPVsdo\n",
            "Error fetching content: 500 Server Error: Domain Not Found for url: http://at.cnn.com/QvF55lf\n",
            "Error fetching content: 500 Server Error: Domain Not Found for url: http://at.cnn.com/nR5vqHh\n",
            "Error fetching content: 500 Server Error: Domain Not Found for url: http://at.cnn.com/d1rxMzl\n",
            "Error fetching content: 500 Server Error: Domain Not Found for url: http://at.cnn.com/G3I11HP\n",
            "Error fetching content: 500 Server Error: Domain Not Found for url: http://at.cnn.com/hmghJ8C\n",
            "Error fetching content: 500 Server Error: Domain Not Found for url: http://at.cnn.com/0bT4fwY\n",
            "Error fetching content: 500 Server Error: Domain Not Found for url: http://at.cnn.com/OtJbB9i\n"
          ]
        },
        {
          "output_type": "stream",
          "name": "stderr",
          "text": [
            "Extracting content:  96%|█████████▌| 4784/5000 [1:40:47<00:09, 23.49it/s]"
          ]
        },
        {
          "output_type": "stream",
          "name": "stdout",
          "text": [
            "Error fetching content: 500 Server Error: Domain Not Found for url: http://at.cnn.com/XXTKAvF\n",
            "Error fetching content: 500 Server Error: Domain Not Found for url: http://at.cnn.com/n9zAm9t\n",
            "Error fetching content: 500 Server Error: Domain Not Found for url: http://at.cnn.com/geQu2Gh\n",
            "Error fetching content: 500 Server Error: Domain Not Found for url: http://at.cnn.com/PLYBRGu\n",
            "Error fetching content: 500 Server Error: Domain Not Found for url: http://at.cnn.com/WwA5vUp\n",
            "Error fetching content: 500 Server Error: Domain Not Found for url: http://at.cnn.com/BcYa1xv\n",
            "Error fetching content: 500 Server Error: Domain Not Found for url: http://at.cnn.com/v80uGUn\n",
            "Error fetching content: 500 Server Error: Domain Not Found for url: http://at.cnn.com/608BdHG\n",
            "Error fetching content: 500 Server Error: Domain Not Found for url: http://at.cnn.com/t1mftdm\n",
            "Error fetching content: 500 Server Error: Domain Not Found for url: http://at.cnn.com/K8CuCI6\n",
            "Error fetching content: 500 Server Error: Domain Not Found for url: http://at.cnn.com/OSUlmEy\n",
            "Error fetching content: 500 Server Error: Domain Not Found for url: http://at.cnn.com/NctvipF\n",
            "Error fetching content: 500 Server Error: Domain Not Found for url: http://at.cnn.com/39Y1jxo\n",
            "Error fetching content: 500 Server Error: Domain Not Found for url: http://at.cnn.com/QKnyjeL\n",
            "Error fetching content: 500 Server Error: Domain Not Found for url: http://at.cnn.com/GywWFv0\n",
            "Error fetching content: 500 Server Error: Domain Not Found for url: http://at.cnn.com/3pp5bXB\n",
            "Error fetching content: 500 Server Error: Domain Not Found for url: http://at.cnn.com/6aFJ3Ud\n",
            "Error fetching content: 500 Server Error: Domain Not Found for url: http://at.cnn.com/vF3PbBl\n",
            "Error fetching content: 500 Server Error: Domain Not Found for url: http://at.cnn.com/fc6UL9N\n",
            "Error fetching content: 500 Server Error: Domain Not Found for url: http://at.cnn.com/z6TSdlL\n",
            "Error fetching content: 500 Server Error: Domain Not Found for url: http://at.cnn.com/149NJSK\n",
            "Error fetching content: 500 Server Error: Domain Not Found for url: http://at.cnn.com/JmgGuLq\n",
            "Error fetching content: 500 Server Error: Domain Not Found for url: http://at.cnn.com/hTdZTzc\n",
            "Error fetching content: 500 Server Error: Domain Not Found for url: http://at.cnn.com/s39naSL\n",
            "Error fetching content: 500 Server Error: Domain Not Found for url: http://at.cnn.com/NO49rrD\n"
          ]
        },
        {
          "output_type": "stream",
          "name": "stderr",
          "text": [
            "Extracting content:  96%|█████████▌| 4811/5000 [1:40:48<00:06, 27.85it/s]"
          ]
        },
        {
          "output_type": "stream",
          "name": "stdout",
          "text": [
            "Error fetching content: 500 Server Error: Domain Not Found for url: http://at.cnn.com/cH9cEaD\n",
            "Error fetching content: 500 Server Error: Domain Not Found for url: http://at.cnn.com/rXUjztx\n",
            "Error fetching content: 500 Server Error: Domain Not Found for url: http://at.cnn.com/yPd7iK0\n",
            "Error fetching content: 500 Server Error: Domain Not Found for url: http://at.cnn.com/OBwb4z5\n",
            "Error fetching content: 500 Server Error: Domain Not Found for url: http://at.cnn.com/JNWrDrB\n",
            "Error fetching content: 500 Server Error: Domain Not Found for url: http://at.cnn.com/4noNMPf\n",
            "Error fetching content: 500 Server Error: Domain Not Found for url: http://at.cnn.com/Tp9KLGY\n",
            "Error fetching content: 500 Server Error: Domain Not Found for url: http://at.cnn.com/TswUn1k\n",
            "Error fetching content: 500 Server Error: Domain Not Found for url: http://at.cnn.com/BRDzGoO\n",
            "Error fetching content: 500 Server Error: Domain Not Found for url: http://at.cnn.com/0GGsebF\n",
            "Error fetching content: 500 Server Error: Domain Not Found for url: http://at.cnn.com/sSnqLR9\n",
            "Error fetching content: 500 Server Error: Domain Not Found for url: http://at.cnn.com/jAt0li0\n",
            "Error fetching content: 500 Server Error: Domain Not Found for url: http://at.cnn.com/TuazZwv\n",
            "Error fetching content: 500 Server Error: Domain Not Found for url: http://at.cnn.com/YIcxgEk\n",
            "Error fetching content: 500 Server Error: Domain Not Found for url: http://at.cnn.com/hkEy49l\n",
            "Error fetching content: 500 Server Error: Domain Not Found for url: http://at.cnn.com/BLlO1gm\n",
            "Error fetching content: 500 Server Error: Domain Not Found for url: http://at.cnn.com/dukyjzL\n",
            "Error fetching content: 500 Server Error: Domain Not Found for url: http://at.cnn.com/cGoHpNo\n",
            "Error fetching content: 500 Server Error: Domain Not Found for url: http://at.cnn.com/THZQ6Yw\n",
            "Error fetching content: 500 Server Error: Domain Not Found for url: http://at.cnn.com/1lWRbBZ\n",
            "Error fetching content: 500 Server Error: Domain Not Found for url: http://at.cnn.com/xVm0l3w\n",
            "Error fetching content: 500 Server Error: Domain Not Found for url: http://at.cnn.com/TKPmpJb\n",
            "Error fetching content: 500 Server Error: Domain Not Found for url: http://at.cnn.com/vYi2pGh\n",
            "Error fetching content: 500 Server Error: Domain Not Found for url: http://at.cnn.com/EloBGr6\n",
            "Error fetching content: 500 Server Error: Domain Not Found for url: http://at.cnn.com/TcLTz9L\n",
            "Error fetching content: 500 Server Error: Domain Not Found for url: http://at.cnn.com/6EF6EuB\n",
            "Error fetching content: 500 Server Error: Domain Not Found for url: http://at.cnn.com/yoE1jOS\n"
          ]
        },
        {
          "output_type": "stream",
          "name": "stderr",
          "text": [
            "\rExtracting content:  96%|█████████▋| 4821/5000 [1:40:49<00:10, 17.48it/s]"
          ]
        },
        {
          "output_type": "stream",
          "name": "stdout",
          "text": [
            "Error fetching content: 500 Server Error: Domain Not Found for url: http://at.cnn.com/n0NbrgM\n",
            "Error fetching content: 500 Server Error: Domain Not Found for url: http://at.cnn.com/3dvjDna\n",
            "Error fetching content: 500 Server Error: Domain Not Found for url: http://at.cnn.com/YbfrZIp\n",
            "Error fetching content: 500 Server Error: Domain Not Found for url: http://at.cnn.com/n8d72wB\n",
            "Error fetching content: 500 Server Error: Domain Not Found for url: http://at.cnn.com/00IgYUa\n",
            "Error fetching content: 500 Server Error: Domain Not Found for url: http://at.cnn.com/4fwCXHB\n",
            "Error fetching content: 500 Server Error: Domain Not Found for url: http://at.cnn.com/Ob8Q894\n",
            "Error fetching content: 500 Server Error: Domain Not Found for url: http://at.cnn.com/KBIdF7B\n",
            "Error fetching content: 500 Server Error: Domain Not Found for url: http://at.cnn.com/RuA3cVa\n",
            "Error fetching content: 500 Server Error: Domain Not Found for url: http://at.cnn.com/QGZM0Fs\n",
            "Error fetching content: 500 Server Error: Domain Not Found for url: http://at.cnn.com/CFcmusE\n",
            "Error fetching content: 500 Server Error: Domain Not Found for url: http://at.cnn.com/80BwBqd\n",
            "Error fetching content: 500 Server Error: Domain Not Found for url: http://at.cnn.com/zPrpLW0\n",
            "Error fetching content: 500 Server Error: Domain Not Found for url: http://at.cnn.com/cnAcphv\n",
            "Error fetching content: 500 Server Error: Domain Not Found for url: http://at.cnn.com/SFduWah\n"
          ]
        },
        {
          "output_type": "stream",
          "name": "stderr",
          "text": [
            "\rExtracting content:  97%|█████████▋| 4832/5000 [1:40:50<00:10, 16.53it/s]"
          ]
        },
        {
          "output_type": "stream",
          "name": "stdout",
          "text": [
            "Error fetching content: 500 Server Error: Domain Not Found for url: http://at.cnn.com/lEbLetc\n",
            "Error fetching content: 500 Server Error: Domain Not Found for url: http://at.cnn.com/1mtPetc\n",
            "Error fetching content: 500 Server Error: Domain Not Found for url: http://at.cnn.com/7Of7Plm\n",
            "Error fetching content: 500 Server Error: Domain Not Found for url: http://at.cnn.com/iclkiJu\n",
            "Error fetching content: 500 Server Error: Domain Not Found for url: http://at.cnn.com/o0z4Jz4\n"
          ]
        },
        {
          "output_type": "stream",
          "name": "stderr",
          "text": [
            "Extracting content:  97%|█████████▋| 4853/5000 [1:40:51<00:08, 18.27it/s]"
          ]
        },
        {
          "output_type": "stream",
          "name": "stdout",
          "text": [
            "Error fetching content: 500 Server Error: Domain Not Found for url: http://at.cnn.com/7aZ67v2\n",
            "Error fetching content: 500 Server Error: Domain Not Found for url: http://at.cnn.com/5Atn4KR\n",
            "Error fetching content: 500 Server Error: Domain Not Found for url: http://at.cnn.com/jK9XbGs\n",
            "Error fetching content: 500 Server Error: Domain Not Found for url: http://at.cnn.com/zhjO3ge\n",
            "Error fetching content: 500 Server Error: Domain Not Found for url: http://at.cnn.com/LkeRVIY\n",
            "Error fetching content: 500 Server Error: Domain Not Found for url: http://at.cnn.com/bvZoZf7\n",
            "Error fetching content: 500 Server Error: Domain Not Found for url: http://at.cnn.com/NcjL5Fo\n",
            "Error fetching content: 500 Server Error: Domain Not Found for url: http://at.cnn.com/dEoIMJg\n",
            "Error fetching content: 500 Server Error: Domain Not Found for url: http://at.cnn.com/ndW1Wal\n",
            "Error fetching content: 500 Server Error: Domain Not Found for url: http://at.cnn.com/EmodNI3\n",
            "Error fetching content: 500 Server Error: Domain Not Found for url: http://at.cnn.com/1iuGYUF\n",
            "Error fetching content: 500 Server Error: Domain Not Found for url: http://at.cnn.com/uDY72i0\n",
            "Error fetching content: 500 Server Error: Domain Not Found for url: http://at.cnn.com/RONHvOa\n",
            "Error fetching content: 500 Server Error: Domain Not Found for url: http://at.cnn.com/nYENh22\n",
            "Error fetching content: 500 Server Error: Domain Not Found for url: http://at.cnn.com/UaS7IOA\n",
            "Error fetching content: 500 Server Error: Domain Not Found for url: http://at.cnn.com/lzumd4W\n",
            "Error fetching content: 500 Server Error: Domain Not Found for url: http://at.cnn.com/9hyxxH9\n",
            "Error fetching content: 500 Server Error: Domain Not Found for url: http://at.cnn.com/Dz1R43f\n",
            "Error fetching content: 500 Server Error: Domain Not Found for url: http://at.cnn.com/alejchb\n",
            "Error fetching content: 500 Server Error: Domain Not Found for url: http://at.cnn.com/0oAApDM\n",
            "Error fetching content: 500 Server Error: Domain Not Found for url: http://at.cnn.com/bNz4a8V\n",
            "Error fetching content: 500 Server Error: Domain Not Found for url: http://at.cnn.com/c3dEmBA\n",
            "Error fetching content: 500 Server Error: Domain Not Found for url: http://at.cnn.com/wkE40M8\n"
          ]
        },
        {
          "output_type": "stream",
          "name": "stderr",
          "text": [
            "\rExtracting content:  97%|█████████▋| 4862/5000 [1:40:52<00:07, 19.69it/s]"
          ]
        },
        {
          "output_type": "stream",
          "name": "stdout",
          "text": [
            "Error fetching content: 404 Client Error: Not Found for url: http://pbs.twimg.com/media/BES5BYLCcAA4MC0.jpg\n",
            "Error fetching content: 500 Server Error: Domain Not Found for url: http://at.cnn.com/9SQndWj\n",
            "Error fetching content: 500 Server Error: Domain Not Found for url: http://at.cnn.com/JQ7re7u\n"
          ]
        },
        {
          "output_type": "stream",
          "name": "stderr",
          "text": [
            "\rExtracting content:  97%|█████████▋| 4868/5000 [1:40:54<00:13, 10.07it/s]"
          ]
        },
        {
          "output_type": "stream",
          "name": "stdout",
          "text": [
            "Error fetching content: 500 Server Error: Domain Not Found for url: http://at.cnn.com/CWhr47N\n",
            "Error fetching content: 500 Server Error: Domain Not Found for url: http://at.cnn.com/Fsa74k5\n",
            "Error fetching content: 500 Server Error: Domain Not Found for url: http://at.cnn.com/ggp1FYK\n",
            "Error fetching content: 500 Server Error: Domain Not Found for url: http://at.cnn.com/AsR9cId\n",
            "Error fetching content: 500 Server Error: Domain Not Found for url: http://at.cnn.com/bHmDdre\n",
            "Error fetching content: 500 Server Error: Domain Not Found for url: http://at.cnn.com/Ep6WuX2\n",
            "Error fetching content: 500 Server Error: Domain Not Found for url: http://at.cnn.com/F8gF2Jz\n",
            "Error fetching content: 500 Server Error: Domain Not Found for url: http://at.cnn.com/HPMZooB\n",
            "Error fetching content: 500 Server Error: Domain Not Found for url: http://at.cnn.com/0jA7PFT\n",
            "Error fetching content: 500 Server Error: Domain Not Found for url: http://at.cnn.com/3MpXeXd\n",
            "Error fetching content: 500 Server Error: Domain Not Found for url: http://at.cnn.com/LKUgO9r\n"
          ]
        },
        {
          "output_type": "stream",
          "name": "stderr",
          "text": [
            "\rExtracting content:  98%|█████████▊| 4878/5000 [1:40:54<00:11, 10.69it/s]"
          ]
        },
        {
          "output_type": "stream",
          "name": "stdout",
          "text": [
            "Error fetching content: 500 Server Error: Domain Not Found for url: http://at.cnn.com/nVFU2R2\n",
            "Error fetching content: 500 Server Error: Domain Not Found for url: http://at.cnn.com/27WwpJC\n",
            "Error fetching content: 500 Server Error: Domain Not Found for url: http://at.cnn.com/7NTAYfF\n",
            "Error fetching content: 500 Server Error: Domain Not Found for url: http://at.cnn.com/PlSolEC\n",
            "Error fetching content: 500 Server Error: Domain Not Found for url: http://at.cnn.com/lV4druw\n",
            "Error fetching content: 500 Server Error: Domain Not Found for url: http://at.cnn.com/PglEhGm\n",
            "Error fetching content: 500 Server Error: Domain Not Found for url: http://at.cnn.com/Z44lnda\n",
            "Error fetching content: 500 Server Error: Domain Not Found for url: http://at.cnn.com/XXSvgCI\n",
            "Error fetching content: 500 Server Error: Domain Not Found for url: http://at.cnn.com/u6Tvvkq\n",
            "Error fetching content: 500 Server Error: Domain Not Found for url: http://at.cnn.com/49tUdJ4\n",
            "Error fetching content: 500 Server Error: Domain Not Found for url: http://at.cnn.com/neklpTn\n",
            "Error fetching content: 500 Server Error: Domain Not Found for url: http://at.cnn.com/wvBfOsl\n"
          ]
        },
        {
          "output_type": "stream",
          "name": "stderr",
          "text": [
            "\rExtracting content:  98%|█████████▊| 4891/5000 [1:40:56<00:11,  9.84it/s]"
          ]
        },
        {
          "output_type": "stream",
          "name": "stdout",
          "text": [
            "Error fetching content: 500 Server Error: Domain Not Found for url: http://at.cnn.com/v26T7MR\n",
            "Error fetching content: 500 Server Error: Domain Not Found for url: http://at.cnn.com/Sbl1GtT\n",
            "Error fetching content: 500 Server Error: Domain Not Found for url: http://at.cnn.com/AzSVJys\n",
            "Error fetching content: 500 Server Error: Domain Not Found for url: http://at.cnn.com/E9CVo7E\n",
            "Error fetching content: 500 Server Error: Domain Not Found for url: http://at.cnn.com/Ojai5rg\n",
            "Error fetching content: 500 Server Error: Domain Not Found for url: http://at.cnn.com/x1qXrWG\n",
            "Error fetching content: 500 Server Error: Domain Not Found for url: http://at.cnn.com/01Tdt1o\n"
          ]
        },
        {
          "output_type": "stream",
          "name": "stderr",
          "text": [
            "\rExtracting content:  98%|█████████▊| 4899/5000 [1:40:56<00:09, 10.85it/s]"
          ]
        },
        {
          "output_type": "stream",
          "name": "stdout",
          "text": [
            "Error fetching content: 500 Server Error: Domain Not Found for url: http://at.cnn.com/S3jSB9G\n",
            "Error fetching content: 500 Server Error: Domain Not Found for url: http://at.cnn.com/K0qXC0K\n",
            "Error fetching content: 500 Server Error: Domain Not Found for url: http://at.cnn.com/iu4CPrm\n",
            "Error fetching content: 500 Server Error: Domain Not Found for url: http://at.cnn.com/suMAN5K\n",
            "Error fetching content: 500 Server Error: Domain Not Found for url: http://at.cnn.com/cvrq7En\n",
            "Error fetching content: 500 Server Error: Domain Not Found for url: http://at.cnn.com/wpWyjvA\n",
            "Error fetching content: 500 Server Error: Domain Not Found for url: http://at.cnn.com/0nbdAnP\n",
            "Error fetching content: 500 Server Error: Domain Not Found for url: http://at.cnn.com/qmN1lF9\n",
            "Error fetching content: 500 Server Error: Domain Not Found for url: http://at.cnn.com/sv9WVaa\n",
            "Error fetching content: 500 Server Error: Domain Not Found for url: http://at.cnn.com/ggQb92z\n",
            "Error fetching content: 500 Server Error: Domain Not Found for url: http://at.cnn.com/uuGhUcs\n",
            "Error fetching content: 500 Server Error: Domain Not Found for url: http://at.cnn.com/p5QWwSw\n"
          ]
        },
        {
          "output_type": "stream",
          "name": "stderr",
          "text": [
            "\rExtracting content:  98%|█████████▊| 4912/5000 [1:40:59<00:12,  7.12it/s]"
          ]
        },
        {
          "output_type": "stream",
          "name": "stdout",
          "text": [
            "Error fetching content: 500 Server Error: Domain Not Found for url: http://at.cnn.com/TYXUoPJ\n",
            "Error fetching content: 500 Server Error: Domain Not Found for url: http://at.cnn.com/JIdXuik\n",
            "Error fetching content: 500 Server Error: Domain Not Found for url: http://at.cnn.com/nKeURKu\n",
            "Error fetching content: 500 Server Error: Domain Not Found for url: http://at.cnn.com/kogpDMw\n",
            "Error fetching content: 500 Server Error: Domain Not Found for url: http://at.cnn.com/Wm6UJb0\n",
            "Error fetching content: 500 Server Error: Domain Not Found for url: http://at.cnn.com/sp6Iu8M\n"
          ]
        },
        {
          "output_type": "stream",
          "name": "stderr",
          "text": [
            "Extracting content:  99%|█████████▊| 4936/5000 [1:41:01<00:05, 11.57it/s]"
          ]
        },
        {
          "output_type": "stream",
          "name": "stdout",
          "text": [
            "Error fetching content: 500 Server Error: Domain Not Found for url: http://at.cnn.com/tm2VoaB\n",
            "Error fetching content: 500 Server Error: Domain Not Found for url: http://at.cnn.com/iY1BPHx\n",
            "Error fetching content: 500 Server Error: Domain Not Found for url: http://at.cnn.com/TQqHcxX\n",
            "Error fetching content: 500 Server Error: Domain Not Found for url: http://at.cnn.com/2uGV3LR\n",
            "Error fetching content: 500 Server Error: Domain Not Found for url: http://at.cnn.com/50FQPL2\n",
            "Error fetching content: 500 Server Error: Domain Not Found for url: http://at.cnn.com/0CRok0N\n",
            "Error fetching content: 500 Server Error: Domain Not Found for url: http://at.cnn.com/P5rmr6i\n",
            "Error fetching content: 500 Server Error: Domain Not Found for url: http://at.cnn.com/T8LFXJh\n",
            "Error fetching content: 500 Server Error: Domain Not Found for url: http://at.cnn.com/B3qMQSA\n",
            "Error fetching content: 500 Server Error: Domain Not Found for url: http://at.cnn.com/clYiMmi\n",
            "Error fetching content: 500 Server Error: Domain Not Found for url: http://at.cnn.com/r0jpb1A\n",
            "Error fetching content: 500 Server Error: Domain Not Found for url: http://at.cnn.com/7b6KA52\n",
            "Error fetching content: 500 Server Error: Domain Not Found for url: http://at.cnn.com/pcTcGna\n",
            "Error fetching content: 500 Server Error: Domain Not Found for url: http://at.cnn.com/OwTLI5f\n",
            "Error fetching content: 500 Server Error: Domain Not Found for url: http://at.cnn.com/JQebAcY\n",
            "Error fetching content: 500 Server Error: Domain Not Found for url: http://at.cnn.com/RqDy70C\n",
            "Error fetching content: 500 Server Error: Domain Not Found for url: http://at.cnn.com/vNCby8C\n",
            "Error fetching content: 500 Server Error: Domain Not Found for url: http://at.cnn.com/Y0DSDXS\n",
            "Error fetching content: 500 Server Error: Domain Not Found for url: http://at.cnn.com/Gc4r7gH\n"
          ]
        },
        {
          "output_type": "stream",
          "name": "stderr",
          "text": [
            "Extracting content:  99%|█████████▉| 4959/5000 [1:41:02<00:02, 15.49it/s]"
          ]
        },
        {
          "output_type": "stream",
          "name": "stdout",
          "text": [
            "Error fetching content: 500 Server Error: Domain Not Found for url: http://at.cnn.com/BTgCabE\n",
            "Error fetching content: 500 Server Error: Domain Not Found for url: http://at.cnn.com/Ga3Fz0W...\n",
            "Error fetching content: 500 Server Error: Domain Not Found for url: http://at.cnn.com/Jd4ShzJ\n",
            "Error fetching content: 500 Server Error: Domain Not Found for url: http://at.cnn.com/25D5dYl\n",
            "Error fetching content: 500 Server Error: Domain Not Found for url: http://at.cnn.com/1JuMFUo\n",
            "Error fetching content: 500 Server Error: Domain Not Found for url: http://at.cnn.com/io5OwIs\n",
            "Error fetching content: 500 Server Error: Domain Not Found for url: http://at.cnn.com/ilhUC3i\n",
            "Error fetching content: 500 Server Error: Domain Not Found for url: http://at.cnn.com/w6smEia\n",
            "Error fetching content: 500 Server Error: Domain Not Found for url: http://at.cnn.com/vfFWnel\n",
            "Error fetching content: 500 Server Error: Domain Not Found for url: http://at.cnn.com/3nMbNb7\n",
            "Error fetching content: 500 Server Error: Domain Not Found for url: http://at.cnn.com/bfddyAO\n",
            "Error fetching content: 500 Server Error: Domain Not Found for url: http://at.cnn.com/VSGqKNU\n",
            "Error fetching content: 500 Server Error: Domain Not Found for url: http://at.cnn.com/Z9jug2y\n",
            "Error fetching content: 500 Server Error: Domain Not Found for url: http://at.cnn.com/kUUMWNq\n",
            "Error fetching content: 500 Server Error: Domain Not Found for url: http://at.cnn.com/XAB7tGP\n",
            "Error fetching content: 500 Server Error: Domain Not Found for url: http://at.cnn.com/R8ROHZ5\n",
            "Error fetching content: 500 Server Error: Domain Not Found for url: http://at.cnn.com/Va8lUu4\n",
            "Error fetching content: 500 Server Error: Domain Not Found for url: http://at.cnn.com/qCY5mOD\n",
            "Error fetching content: 500 Server Error: Domain Not Found for url: http://at.cnn.com/Yh096Wg\n",
            "Error fetching content: 500 Server Error: Domain Not Found for url: http://at.cnn.com/Yw9sxGM\n",
            "Error fetching content: 500 Server Error: Domain Not Found for url: http://at.cnn.com/kUmBwq4\n",
            "Error fetching content: 500 Server Error: Domain Not Found for url: http://at.cnn.com/xKEe0hf\n",
            "Error fetching content: 500 Server Error: Domain Not Found for url: http://at.cnn.com/MBH8cHJ\n",
            "Error fetching content: 500 Server Error: Domain Not Found for url: http://at.cnn.com/mbkKyBR\n",
            "Error fetching content: 500 Server Error: Domain Not Found for url: http://at.cnn.com/0ZOg4M7\n",
            "Error fetching content: 500 Server Error: Domain Not Found for url: http://at.cnn.com/YhSQRLE\n",
            "Error fetching content: 500 Server Error: Domain Not Found for url: http://at.cnn.com/3W2Mwwp\n",
            "Error fetching content: 500 Server Error: Domain Not Found for url: http://at.cnn.com/S99fSuK\n"
          ]
        },
        {
          "output_type": "stream",
          "name": "stderr",
          "text": [
            "\rExtracting content:  99%|█████████▉| 4968/5000 [1:41:03<00:02, 13.44it/s]"
          ]
        },
        {
          "output_type": "stream",
          "name": "stdout",
          "text": [
            "Error fetching content: 500 Server Error: Domain Not Found for url: http://at.cnn.com/fFVs88G\n",
            "Error fetching content: 500 Server Error: Domain Not Found for url: http://at.cnn.com/jDFcxLh\n",
            "Error fetching content: HTTPConnectionPool(host='t.c', port=80): Max retries exceeded with url: / (Caused by NameResolutionError(\"<urllib3.connection.HTTPConnection object at 0x7d7bf8b792a0>: Failed to resolve 't.c' ([Errno -2] Name or service not known)\"))\n"
          ]
        },
        {
          "output_type": "stream",
          "name": "stderr",
          "text": [
            "\rExtracting content:  99%|█████████▉| 4974/5000 [1:41:04<00:02,  9.32it/s]"
          ]
        },
        {
          "output_type": "stream",
          "name": "stdout",
          "text": [
            "Error fetching content: 500 Server Error: Domain Not Found for url: http://at.cnn.com/y9lMVA7\n",
            "Error fetching content: 500 Server Error: Domain Not Found for url: http://at.cnn.com/AlCB33I\n",
            "Error fetching content: 500 Server Error: Domain Not Found for url: http://at.cnn.com/r6pZXEw\n",
            "Error fetching content: 500 Server Error: Domain Not Found for url: http://at.cnn.com/2QOrgxd\n",
            "Error fetching content: 500 Server Error: Domain Not Found for url: http://at.cnn.com/xsH9wmh\n",
            "Error fetching content: 500 Server Error: Domain Not Found for url: http://at.cnn.com/puBCFE8\n",
            "Error fetching content: 500 Server Error: Domain Not Found for url: http://at.cnn.com/z86uglb\n",
            "Error fetching content: 500 Server Error: Domain Not Found for url: http://at.cnn.com/NCD2bIo\n",
            "Error fetching content: 500 Server Error: Domain Not Found for url: http://at.cnn.com/DLNXjom\n",
            "Error fetching content: 500 Server Error: Domain Not Found for url: http://at.cnn.com/Y4GQsE9\n"
          ]
        },
        {
          "output_type": "stream",
          "name": "stderr",
          "text": [
            "\rExtracting content: 100%|█████████▉| 4983/5000 [1:41:07<00:02,  6.91it/s]"
          ]
        },
        {
          "output_type": "stream",
          "name": "stdout",
          "text": [
            "Error fetching content: HTTPSConnectionPool(host='makingcancerhistory.com', port=443): Max retries exceeded with url: /WhyMDA/Myths.html (Caused by SSLError(SSLError(1, '[SSL: WRONG_SIGNATURE_TYPE] wrong signature type (_ssl.c:1007)')))\n",
            "Error fetching content: 500 Server Error: Domain Not Found for url: http://at.cnn.com/keesFm8\n",
            "Error fetching content: 500 Server Error: Domain Not Found for url: http://at.cnn.com/dntM3I6\n",
            "Error fetching content: 500 Server Error: Domain Not Found for url: http://at.cnn.com/heZEauq\n",
            "Error fetching content: 500 Server Error: Domain Not Found for url: http://at.cnn.com/zAY0jdL\n",
            "Error fetching content: 500 Server Error: Domain Not Found for url: http://at.cnn.com/1ypDGAa\n",
            "Error fetching content: 500 Server Error: Domain Not Found for url: http://at.cnn.com/j3Nr7Uv\n",
            "Error fetching content: 500 Server Error: Domain Not Found for url: http://at.cnn.com/HT9EwCH\n",
            "Error fetching content: 500 Server Error: Domain Not Found for url: http://at.cnn.com/CeyGFdk\n",
            "Error fetching content: 500 Server Error: Domain Not Found for url: http://at.cnn.com/HNpRGeJ\n",
            "Error fetching content: 500 Server Error: Domain Not Found for url: http://at.cnn.com/6FKpSr5\n",
            "Error fetching content: 500 Server Error: Domain Not Found for url: http://at.cnn.com/PTKtxU7\n",
            "Error fetching content: 500 Server Error: Domain Not Found for url: http://at.cnn.com/Mhnc3fa\n",
            "Error fetching content: 500 Server Error: Domain Not Found for url: http://at.cnn.com/R9f82sS\n",
            "Error fetching content: 500 Server Error: Domain Not Found for url: http://at.cnn.com/NQH9kZe\n",
            "Error fetching content: 500 Server Error: Domain Not Found for url: http://at.cnn.com/ehQZkw0\n"
          ]
        },
        {
          "output_type": "stream",
          "name": "stderr",
          "text": [
            "Extracting content: 100%|██████████| 5000/5000 [1:41:07<00:00,  1.21s/it]"
          ]
        },
        {
          "output_type": "stream",
          "name": "stdout",
          "text": [
            "Error fetching content: 404 Client Error: Not Found for url: https://t.co/SV\n",
            "Error fetching content: 500 Server Error: Domain Not Found for url: http://at.cnn.com/0o4Jsnh\n"
          ]
        },
        {
          "output_type": "stream",
          "name": "stderr",
          "text": [
            "\n"
          ]
        }
      ]
    },
    {
      "cell_type": "code",
      "source": [
        "split_2['Content'] = extract_content_with_progress(split_2['URL'])\n",
        "split_2.to_csv('split_2_preprocessed.csv', index=False)"
      ],
      "metadata": {
        "id": "Eom3GqaGwuHh"
      },
      "execution_count": null,
      "outputs": []
    },
    {
      "cell_type": "code",
      "source": [
        "split_3['Content'] = extract_content_with_progress(split_3['URL'])\n",
        "split_3.to_csv('split_3_preprocessed.csv', index=False)"
      ],
      "metadata": {
        "id": "QoyyOud3cjju"
      },
      "execution_count": null,
      "outputs": []
    },
    {
      "cell_type": "code",
      "source": [
        "split_4['Content'] = extract_content_with_progress(split_4['URL'])\n",
        "split_4.to_csv('split_4_preprocessed.csv', index=False)"
      ],
      "metadata": {
        "id": "0gmAn27OwzAc"
      },
      "execution_count": null,
      "outputs": []
    },
    {
      "cell_type": "code",
      "source": [
        "split_5['Content'] = extract_content_with_progress(split_5['URL'])\n",
        "split_5.to_csv('split_5_preprocessed.csv', index=False)"
      ],
      "metadata": {
        "id": "NgVUlb80w0zP"
      },
      "execution_count": null,
      "outputs": []
    },
    {
      "cell_type": "code",
      "source": [
        "# Drop rows with missing content\n",
        "combined_df.dropna(subset=['Content'], inplace=True)\n",
        "\n",
        "# Combine content paragraphs into a single string\n",
        "combined_df['Content'] = [\" \".join([p_tag.text.strip() for p_tag in content]) for content in combined_df['Content']]"
      ],
      "metadata": {
        "id": "58xoEhRuOjL5"
      },
      "execution_count": null,
      "outputs": []
    },
    {
      "cell_type": "code",
      "source": [
        "# Clean the content data\n",
        "def clean_text(text):\n",
        "    text = re.sub(r'-', ' ', text)  # Substitute hyphens with empty spaces\n",
        "    text = re.sub(r'[^a-zA-Z\\s]', '', text)  # Remove non-alphabetic characters\n",
        "    text = text.lower()  # Convert text to lowercase\n",
        "    return text\n",
        "\n",
        "combined_df['Content'] = combined_df['Content'].apply(clean_text)"
      ],
      "metadata": {
        "id": "6u_IwlTNOjL6"
      },
      "execution_count": null,
      "outputs": []
    },
    {
      "cell_type": "code",
      "source": [
        "# Convert to wordnet tags\n",
        "def get_wordnet_pos(tag):\n",
        "    if tag.startswith('J'):\n",
        "        return wordnet.ADJ\n",
        "    elif tag.startswith('V'):\n",
        "        return wordnet.VERB\n",
        "    elif tag.startswith('N'):\n",
        "        return wordnet.NOUN\n",
        "    elif tag.startswith('R'):\n",
        "        return wordnet.ADV\n",
        "    else:\n",
        "        return None  # Use default POS for lemmatization"
      ],
      "metadata": {
        "id": "oGZM5CJvOjL6"
      },
      "execution_count": null,
      "outputs": []
    },
    {
      "cell_type": "code",
      "source": [
        "# Tokenize and preprocess text data\n",
        "def preprocess_text(text):\n",
        "    tokens = word_tokenize(text)  # Tokenize text\n",
        "    lemmatizer = WordNetLemmatizer()  # Initialize lemmatizer\n",
        "    pos_tags = nltk.pos_tag(tokens)  # Get part-of-speech tags\n",
        "    for i, (token, tag) in enumerate(pos_tags):\n",
        "        pos = get_wordnet_pos(tag)  # Convert NLTK POS tags to WordNet POS tags\n",
        "        if pos:\n",
        "            tokens[i] = lemmatizer.lemmatize(token, pos=pos)  # Lemmatize tokens\n",
        "        else:\n",
        "            tokens[i] = lemmatizer.lemmatize(token)  # Use default POS for lemmatization\n",
        "    stop_words = set(stopwords.words('english'))  # Get stopwords\n",
        "    custom_stopwords = [    # Custom stopwords\n",
        "    \"patient\", \"doctor\", \"say\", \"year\", \"state\", \"day\", \"need\", \"come\", \"well\",\n",
        "    \"make\", \"think\", \"know\", \"go\", \"use\", \"one\", \"like\", \"people\", \"may\",\n",
        "    \"many\", \"still\", \"even\", \"two\", \"way\", \"good\", \"much\", \"back\", \"new\",\n",
        "    \"time\", \"first\", \"really\",\n",
        "    \"a\", \"b\", \"c\", \"d\", \"e\", \"f\", \"g\", \"h\", \"i\", \"j\", \"k\", \"l\", \"m\", \"n\",\n",
        "    \"o\", \"p\", \"q\", \"r\", \"s\", \"t\", \"u\", \"v\", \"w\", \"x\", \"y\", \"z\"\n",
        "    ]\n",
        "    tokens = [token for token in tokens if token not in stop_words and token not in custom_stopwords]  # Remove stopwords\n",
        "    return ' '.join(tokens)\n",
        "\n",
        "combined_df['Content'] = combined_df['Content'].apply(preprocess_text)"
      ],
      "metadata": {
        "id": "0K2VTcFjOjL7"
      },
      "execution_count": null,
      "outputs": []
    },
    {
      "cell_type": "code",
      "source": [
        "# Save preprocessed data to CSV\n",
        "combined_df.to_csv('combined_preprocessed.csv', index=False)"
      ],
      "metadata": {
        "id": "PbXfpmHKOjL7"
      },
      "execution_count": null,
      "outputs": []
    }
  ]
}