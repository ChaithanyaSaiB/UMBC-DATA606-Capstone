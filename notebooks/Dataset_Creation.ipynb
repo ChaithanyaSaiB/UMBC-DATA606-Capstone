{
  "nbformat": 4,
  "nbformat_minor": 0,
  "metadata": {
    "colab": {
      "provenance": [],
      "authorship_tag": "ABX9TyP7/Redlyuu2STXGGagAWyj",
      "include_colab_link": true
    },
    "kernelspec": {
      "name": "python3",
      "display_name": "Python 3"
    },
    "language_info": {
      "name": "python"
    }
  },
  "cells": [
    {
      "cell_type": "markdown",
      "metadata": {
        "id": "view-in-github",
        "colab_type": "text"
      },
      "source": [
        "<a href=\"https://colab.research.google.com/github/ChaithanyaSaiB/UMBC-DATA606-Capstone/blob/main/notebooks/Dataset_Creation.ipynb\" target=\"_parent\"><img src=\"https://colab.research.google.com/assets/colab-badge.svg\" alt=\"Open In Colab\"/></a>"
      ]
    },
    {
      "cell_type": "code",
      "source": [
        "# Importing necessary libraries\n",
        "import pandas as pd\n",
        "import re\n",
        "import os\n",
        "import requests\n",
        "from bs4 import BeautifulSoup\n",
        "import nltk\n",
        "from nltk.tokenize import word_tokenize\n",
        "from nltk.corpus import stopwords\n",
        "from nltk.stem import WordNetLemmatizer\n",
        "from nltk.corpus import wordnet\n",
        "# Import the tqdm library for progress bar\n",
        "from tqdm import tqdm\n",
        "\n",
        "# Download NLTK resources\n",
        "nltk.download('punkt')\n",
        "nltk.download('stopwords')\n",
        "nltk.download('averaged_perceptron_tagger')\n",
        "nltk.download('wordnet')"
      ],
      "metadata": {
        "id": "8kh4t6C6WttG",
        "outputId": "b684c3a3-3abd-4465-dd70-a2e850661120",
        "colab": {
          "base_uri": "https://localhost:8080/"
        }
      },
      "execution_count": 1,
      "outputs": [
        {
          "output_type": "stream",
          "name": "stderr",
          "text": [
            "[nltk_data] Downloading package punkt to /root/nltk_data...\n",
            "[nltk_data]   Package punkt is already up-to-date!\n",
            "[nltk_data] Downloading package stopwords to /root/nltk_data...\n",
            "[nltk_data]   Package stopwords is already up-to-date!\n",
            "[nltk_data] Downloading package averaged_perceptron_tagger to\n",
            "[nltk_data]     /root/nltk_data...\n",
            "[nltk_data]   Package averaged_perceptron_tagger is already up-to-\n",
            "[nltk_data]       date!\n",
            "[nltk_data] Downloading package wordnet to /root/nltk_data...\n",
            "[nltk_data]   Package wordnet is already up-to-date!\n"
          ]
        },
        {
          "output_type": "execute_result",
          "data": {
            "text/plain": [
              "True"
            ]
          },
          "metadata": {},
          "execution_count": 1
        }
      ]
    },
    {
      "cell_type": "code",
      "execution_count": 2,
      "metadata": {
        "colab": {
          "base_uri": "https://localhost:8080/",
          "height": 206
        },
        "id": "G9VMqiw81-c6",
        "outputId": "743bb398-f5b4-4f40-ab8a-7f60f5daff6e"
      },
      "outputs": [
        {
          "output_type": "execute_result",
          "data": {
            "text/plain": [
              "                   ID                        DateTime  \\\n",
              "0  576880531301801984  Sat Mar 14 23:00:11 +0000 2015   \n",
              "1  576820122666471424  Sat Mar 14 19:00:08 +0000 2015   \n",
              "2  576744652717461504  Sat Mar 14 14:00:15 +0000 2015   \n",
              "3  576736754436304896  Sat Mar 14 13:28:52 +0000 2015   \n",
              "4  576736614766010368  Sat Mar 14 13:28:18 +0000 2015   \n",
              "\n",
              "                              Article Title and Link  \n",
              "0  An abundance of online info can turn us into e...  \n",
              "1  A plant-based diet that incorporates fish may ...  \n",
              "2  It doesn't take much to damage your hearing at...  \n",
              "3  RT @CNN: Forever young? Discover this island’s...  \n",
              "4  RT @CNN: Is post-traumatic stress disorder in ...  "
            ],
            "text/html": [
              "\n",
              "  <div id=\"df-01863593-6fec-4779-b8d7-55c8e1ca0f75\" class=\"colab-df-container\">\n",
              "    <div>\n",
              "<style scoped>\n",
              "    .dataframe tbody tr th:only-of-type {\n",
              "        vertical-align: middle;\n",
              "    }\n",
              "\n",
              "    .dataframe tbody tr th {\n",
              "        vertical-align: top;\n",
              "    }\n",
              "\n",
              "    .dataframe thead th {\n",
              "        text-align: right;\n",
              "    }\n",
              "</style>\n",
              "<table border=\"1\" class=\"dataframe\">\n",
              "  <thead>\n",
              "    <tr style=\"text-align: right;\">\n",
              "      <th></th>\n",
              "      <th>ID</th>\n",
              "      <th>DateTime</th>\n",
              "      <th>Article Title and Link</th>\n",
              "    </tr>\n",
              "  </thead>\n",
              "  <tbody>\n",
              "    <tr>\n",
              "      <th>0</th>\n",
              "      <td>576880531301801984</td>\n",
              "      <td>Sat Mar 14 23:00:11 +0000 2015</td>\n",
              "      <td>An abundance of online info can turn us into e...</td>\n",
              "    </tr>\n",
              "    <tr>\n",
              "      <th>1</th>\n",
              "      <td>576820122666471424</td>\n",
              "      <td>Sat Mar 14 19:00:08 +0000 2015</td>\n",
              "      <td>A plant-based diet that incorporates fish may ...</td>\n",
              "    </tr>\n",
              "    <tr>\n",
              "      <th>2</th>\n",
              "      <td>576744652717461504</td>\n",
              "      <td>Sat Mar 14 14:00:15 +0000 2015</td>\n",
              "      <td>It doesn't take much to damage your hearing at...</td>\n",
              "    </tr>\n",
              "    <tr>\n",
              "      <th>3</th>\n",
              "      <td>576736754436304896</td>\n",
              "      <td>Sat Mar 14 13:28:52 +0000 2015</td>\n",
              "      <td>RT @CNN: Forever young? Discover this island’s...</td>\n",
              "    </tr>\n",
              "    <tr>\n",
              "      <th>4</th>\n",
              "      <td>576736614766010368</td>\n",
              "      <td>Sat Mar 14 13:28:18 +0000 2015</td>\n",
              "      <td>RT @CNN: Is post-traumatic stress disorder in ...</td>\n",
              "    </tr>\n",
              "  </tbody>\n",
              "</table>\n",
              "</div>\n",
              "    <div class=\"colab-df-buttons\">\n",
              "\n",
              "  <div class=\"colab-df-container\">\n",
              "    <button class=\"colab-df-convert\" onclick=\"convertToInteractive('df-01863593-6fec-4779-b8d7-55c8e1ca0f75')\"\n",
              "            title=\"Convert this dataframe to an interactive table.\"\n",
              "            style=\"display:none;\">\n",
              "\n",
              "  <svg xmlns=\"http://www.w3.org/2000/svg\" height=\"24px\" viewBox=\"0 -960 960 960\">\n",
              "    <path d=\"M120-120v-720h720v720H120Zm60-500h600v-160H180v160Zm220 220h160v-160H400v160Zm0 220h160v-160H400v160ZM180-400h160v-160H180v160Zm440 0h160v-160H620v160ZM180-180h160v-160H180v160Zm440 0h160v-160H620v160Z\"/>\n",
              "  </svg>\n",
              "    </button>\n",
              "\n",
              "  <style>\n",
              "    .colab-df-container {\n",
              "      display:flex;\n",
              "      gap: 12px;\n",
              "    }\n",
              "\n",
              "    .colab-df-convert {\n",
              "      background-color: #E8F0FE;\n",
              "      border: none;\n",
              "      border-radius: 50%;\n",
              "      cursor: pointer;\n",
              "      display: none;\n",
              "      fill: #1967D2;\n",
              "      height: 32px;\n",
              "      padding: 0 0 0 0;\n",
              "      width: 32px;\n",
              "    }\n",
              "\n",
              "    .colab-df-convert:hover {\n",
              "      background-color: #E2EBFA;\n",
              "      box-shadow: 0px 1px 2px rgba(60, 64, 67, 0.3), 0px 1px 3px 1px rgba(60, 64, 67, 0.15);\n",
              "      fill: #174EA6;\n",
              "    }\n",
              "\n",
              "    .colab-df-buttons div {\n",
              "      margin-bottom: 4px;\n",
              "    }\n",
              "\n",
              "    [theme=dark] .colab-df-convert {\n",
              "      background-color: #3B4455;\n",
              "      fill: #D2E3FC;\n",
              "    }\n",
              "\n",
              "    [theme=dark] .colab-df-convert:hover {\n",
              "      background-color: #434B5C;\n",
              "      box-shadow: 0px 1px 3px 1px rgba(0, 0, 0, 0.15);\n",
              "      filter: drop-shadow(0px 1px 2px rgba(0, 0, 0, 0.3));\n",
              "      fill: #FFFFFF;\n",
              "    }\n",
              "  </style>\n",
              "\n",
              "    <script>\n",
              "      const buttonEl =\n",
              "        document.querySelector('#df-01863593-6fec-4779-b8d7-55c8e1ca0f75 button.colab-df-convert');\n",
              "      buttonEl.style.display =\n",
              "        google.colab.kernel.accessAllowed ? 'block' : 'none';\n",
              "\n",
              "      async function convertToInteractive(key) {\n",
              "        const element = document.querySelector('#df-01863593-6fec-4779-b8d7-55c8e1ca0f75');\n",
              "        const dataTable =\n",
              "          await google.colab.kernel.invokeFunction('convertToInteractive',\n",
              "                                                    [key], {});\n",
              "        if (!dataTable) return;\n",
              "\n",
              "        const docLinkHtml = 'Like what you see? Visit the ' +\n",
              "          '<a target=\"_blank\" href=https://colab.research.google.com/notebooks/data_table.ipynb>data table notebook</a>'\n",
              "          + ' to learn more about interactive tables.';\n",
              "        element.innerHTML = '';\n",
              "        dataTable['output_type'] = 'display_data';\n",
              "        await google.colab.output.renderOutput(dataTable, element);\n",
              "        const docLink = document.createElement('div');\n",
              "        docLink.innerHTML = docLinkHtml;\n",
              "        element.appendChild(docLink);\n",
              "      }\n",
              "    </script>\n",
              "  </div>\n",
              "\n",
              "\n",
              "<div id=\"df-251ee644-8a11-4780-96e4-41fcd768e9bb\">\n",
              "  <button class=\"colab-df-quickchart\" onclick=\"quickchart('df-251ee644-8a11-4780-96e4-41fcd768e9bb')\"\n",
              "            title=\"Suggest charts\"\n",
              "            style=\"display:none;\">\n",
              "\n",
              "<svg xmlns=\"http://www.w3.org/2000/svg\" height=\"24px\"viewBox=\"0 0 24 24\"\n",
              "     width=\"24px\">\n",
              "    <g>\n",
              "        <path d=\"M19 3H5c-1.1 0-2 .9-2 2v14c0 1.1.9 2 2 2h14c1.1 0 2-.9 2-2V5c0-1.1-.9-2-2-2zM9 17H7v-7h2v7zm4 0h-2V7h2v10zm4 0h-2v-4h2v4z\"/>\n",
              "    </g>\n",
              "</svg>\n",
              "  </button>\n",
              "\n",
              "<style>\n",
              "  .colab-df-quickchart {\n",
              "      --bg-color: #E8F0FE;\n",
              "      --fill-color: #1967D2;\n",
              "      --hover-bg-color: #E2EBFA;\n",
              "      --hover-fill-color: #174EA6;\n",
              "      --disabled-fill-color: #AAA;\n",
              "      --disabled-bg-color: #DDD;\n",
              "  }\n",
              "\n",
              "  [theme=dark] .colab-df-quickchart {\n",
              "      --bg-color: #3B4455;\n",
              "      --fill-color: #D2E3FC;\n",
              "      --hover-bg-color: #434B5C;\n",
              "      --hover-fill-color: #FFFFFF;\n",
              "      --disabled-bg-color: #3B4455;\n",
              "      --disabled-fill-color: #666;\n",
              "  }\n",
              "\n",
              "  .colab-df-quickchart {\n",
              "    background-color: var(--bg-color);\n",
              "    border: none;\n",
              "    border-radius: 50%;\n",
              "    cursor: pointer;\n",
              "    display: none;\n",
              "    fill: var(--fill-color);\n",
              "    height: 32px;\n",
              "    padding: 0;\n",
              "    width: 32px;\n",
              "  }\n",
              "\n",
              "  .colab-df-quickchart:hover {\n",
              "    background-color: var(--hover-bg-color);\n",
              "    box-shadow: 0 1px 2px rgba(60, 64, 67, 0.3), 0 1px 3px 1px rgba(60, 64, 67, 0.15);\n",
              "    fill: var(--button-hover-fill-color);\n",
              "  }\n",
              "\n",
              "  .colab-df-quickchart-complete:disabled,\n",
              "  .colab-df-quickchart-complete:disabled:hover {\n",
              "    background-color: var(--disabled-bg-color);\n",
              "    fill: var(--disabled-fill-color);\n",
              "    box-shadow: none;\n",
              "  }\n",
              "\n",
              "  .colab-df-spinner {\n",
              "    border: 2px solid var(--fill-color);\n",
              "    border-color: transparent;\n",
              "    border-bottom-color: var(--fill-color);\n",
              "    animation:\n",
              "      spin 1s steps(1) infinite;\n",
              "  }\n",
              "\n",
              "  @keyframes spin {\n",
              "    0% {\n",
              "      border-color: transparent;\n",
              "      border-bottom-color: var(--fill-color);\n",
              "      border-left-color: var(--fill-color);\n",
              "    }\n",
              "    20% {\n",
              "      border-color: transparent;\n",
              "      border-left-color: var(--fill-color);\n",
              "      border-top-color: var(--fill-color);\n",
              "    }\n",
              "    30% {\n",
              "      border-color: transparent;\n",
              "      border-left-color: var(--fill-color);\n",
              "      border-top-color: var(--fill-color);\n",
              "      border-right-color: var(--fill-color);\n",
              "    }\n",
              "    40% {\n",
              "      border-color: transparent;\n",
              "      border-right-color: var(--fill-color);\n",
              "      border-top-color: var(--fill-color);\n",
              "    }\n",
              "    60% {\n",
              "      border-color: transparent;\n",
              "      border-right-color: var(--fill-color);\n",
              "    }\n",
              "    80% {\n",
              "      border-color: transparent;\n",
              "      border-right-color: var(--fill-color);\n",
              "      border-bottom-color: var(--fill-color);\n",
              "    }\n",
              "    90% {\n",
              "      border-color: transparent;\n",
              "      border-bottom-color: var(--fill-color);\n",
              "    }\n",
              "  }\n",
              "</style>\n",
              "\n",
              "  <script>\n",
              "    async function quickchart(key) {\n",
              "      const quickchartButtonEl =\n",
              "        document.querySelector('#' + key + ' button');\n",
              "      quickchartButtonEl.disabled = true;  // To prevent multiple clicks.\n",
              "      quickchartButtonEl.classList.add('colab-df-spinner');\n",
              "      try {\n",
              "        const charts = await google.colab.kernel.invokeFunction(\n",
              "            'suggestCharts', [key], {});\n",
              "      } catch (error) {\n",
              "        console.error('Error during call to suggestCharts:', error);\n",
              "      }\n",
              "      quickchartButtonEl.classList.remove('colab-df-spinner');\n",
              "      quickchartButtonEl.classList.add('colab-df-quickchart-complete');\n",
              "    }\n",
              "    (() => {\n",
              "      let quickchartButtonEl =\n",
              "        document.querySelector('#df-251ee644-8a11-4780-96e4-41fcd768e9bb button');\n",
              "      quickchartButtonEl.style.display =\n",
              "        google.colab.kernel.accessAllowed ? 'block' : 'none';\n",
              "    })();\n",
              "  </script>\n",
              "</div>\n",
              "\n",
              "    </div>\n",
              "  </div>\n"
            ],
            "application/vnd.google.colaboratory.intrinsic+json": {
              "type": "dataframe",
              "variable_name": "cnnhealth",
              "summary": "{\n  \"name\": \"cnnhealth\",\n  \"rows\": 4061,\n  \"fields\": [\n    {\n      \"column\": \"ID\",\n      \"properties\": {\n        \"dtype\": \"number\",\n        \"std\": 89617103662231104,\n        \"min\": 239366825018806272,\n        \"max\": 576880531301801984,\n        \"num_unique_values\": 4061,\n        \"samples\": [\n          294848433674649601,\n          343337995912503296,\n          239410205757145088\n        ],\n        \"semantic_type\": \"\",\n        \"description\": \"\"\n      }\n    },\n    {\n      \"column\": \"DateTime\",\n      \"properties\": {\n        \"dtype\": \"object\",\n        \"num_unique_values\": 4057,\n        \"samples\": [\n          \"Fri Jan 03 02:55:11 +0000 2014\",\n          \"Sun Jun 16 18:53:01 +0000 2013\",\n          \"Sat Aug 25 17:13:35 +0000 2012\"\n        ],\n        \"semantic_type\": \"\",\n        \"description\": \"\"\n      }\n    },\n    {\n      \"column\": \"Article Title and Link\",\n      \"properties\": {\n        \"dtype\": \"string\",\n        \"num_unique_values\": 4046,\n        \"samples\": [\n          \"Meet NYU's heroic nurses http://at.cnn.com/pcmeVK #Sandy\",\n          \"The debilitating outbreak sweeping the Americas http://www.cnn.com/2014/12/17/health/chikungunya-infects-the-americas/index.html?sr=sharebar_twitter\",\n          \"Could a condom company change the world? http://at.cnn.com/jtSHcqY @MySirRichards @PIH #Haiti\"\n        ],\n        \"semantic_type\": \"\",\n        \"description\": \"\"\n      }\n    }\n  ]\n}"
            }
          },
          "metadata": {},
          "execution_count": 2
        }
      ],
      "source": [
        "# Load CNN health data\n",
        "cnnhealth = pd.read_csv(\"/content/cnnhealth.txt\", sep=r\"(?<!\\s)[|](?!\\s)\", names=['ID', 'DateTime', 'Article Title and Link'], engine=\"python\")\n",
        "cnnhealth.head()"
      ]
    },
    {
      "cell_type": "code",
      "source": [
        "# Define the directory path containing the .txt files\n",
        "directory = '/content'\n",
        "\n",
        "# Initialize an empty list to store DataFrames\n",
        "dfs = []\n",
        "\n",
        "# Iterate over all files in the directory\n",
        "for filename in os.listdir(directory):\n",
        "    if filename.endswith('.txt'):\n",
        "        # Read the .txt file into a DataFrame\n",
        "        df_name = os.path.splitext(filename)[0]  # Extract filename without extension\n",
        "        try:\n",
        "            df = pd.read_csv(os.path.join(directory, filename),\n",
        "                             sep=r\"(?<!\\s)[|](?!\\s)\",\n",
        "                             names=['ID', 'DateTime', 'Article Title and Link'],\n",
        "                             engine=\"python\")\n",
        "            # Add the DataFrame to the list\n",
        "            dfs.append(df)\n",
        "            print(f\"DataFrame '{df_name}' loaded with {len(df)} rows.\")\n",
        "        except UnicodeDecodeError:\n",
        "            print(f\"Error reading {filename}: UnicodeDecodeError. Skipping this file.\")\n",
        "\n",
        "# Concatenate all DataFrames in the list into one DataFrame\n",
        "combined_df = pd.concat(dfs, ignore_index=True)\n",
        "\n",
        "# Display the combined DataFrame\n",
        "print(\"Combined DataFrame:\")\n",
        "print(combined_df)"
      ],
      "metadata": {
        "id": "HjgVm5rcqaAd",
        "outputId": "97f4f0ba-69ea-4491-bbdc-5a13ef0ed43c",
        "colab": {
          "base_uri": "https://localhost:8080/"
        }
      },
      "execution_count": 3,
      "outputs": [
        {
          "output_type": "stream",
          "name": "stdout",
          "text": [
            "DataFrame 'usnewshealth' loaded with 1400 rows.\n",
            "DataFrame 'nprhealth' loaded with 4837 rows.\n",
            "Error reading foxnewshealth.txt: UnicodeDecodeError. Skipping this file.\n",
            "DataFrame 'latimeshealth' loaded with 4171 rows.\n",
            "DataFrame 'cnnhealth' loaded with 4061 rows.\n",
            "Error reading msnhealthnews.txt: UnicodeDecodeError. Skipping this file.\n",
            "DataFrame 'nytimeshealth' loaded with 6245 rows.\n",
            "DataFrame 'goodhealth' loaded with 7864 rows.\n",
            "DataFrame 'reuters_health' loaded with 4719 rows.\n",
            "Error reading NBChealth.txt: UnicodeDecodeError. Skipping this file.\n",
            "Error reading KaiserHealthNews.txt: UnicodeDecodeError. Skipping this file.\n",
            "Error reading wsjhealth.txt: UnicodeDecodeError. Skipping this file.\n",
            "DataFrame 'cbchealth' loaded with 3741 rows.\n",
            "DataFrame 'everydayhealth' loaded with 3239 rows.\n",
            "DataFrame 'gdnhealthcare' loaded with 2997 rows.\n",
            "DataFrame 'bbchealth' loaded with 3929 rows.\n",
            "Combined DataFrame:\n",
            "                       ID                        DateTime  \\\n",
            "0      586278450392133633  Thu Apr 09 21:24:09 +0000 2015   \n",
            "1      586260156155043843  Thu Apr 09 20:11:28 +0000 2015   \n",
            "2      586248551811932160  Thu Apr 09 19:25:21 +0000 2015   \n",
            "3      586229697165586432  Thu Apr 09 18:10:26 +0000 2015   \n",
            "4      586215972731822080  Thu Apr 09 17:15:53 +0000 2015   \n",
            "...                   ...                             ...   \n",
            "47198  384766023120871424  Mon Sep 30 19:45:43 +0000 2013   \n",
            "47199  384700230920175617  Mon Sep 30 15:24:17 +0000 2013   \n",
            "47200  384678543088562178  Mon Sep 30 13:58:06 +0000 2013   \n",
            "47201  384678542455222273  Mon Sep 30 13:58:06 +0000 2013   \n",
            "47202  384569546108964864  Mon Sep 30 06:44:59 +0000 2013   \n",
            "\n",
            "                                  Article Title and Link  \n",
            "0      Planning to hire a personal trainer? Read thes...  \n",
            "1      RT @AnnaMedaris: Any dads out their who strugg...  \n",
            "2      America's problem with diabetes in one map: ht...  \n",
            "3      Think water &amp; fiber will cure your constip...  \n",
            "4      About to lose it? Here, try one of these offic...  \n",
            "...                                                  ...  \n",
            "47198  Baby born after ovaries 'reawakened' http://bb...  \n",
            "47199  Identical triplets born against odds http://bb...  \n",
            "47200  Hospital failed to make improvements http://bb...  \n",
            "47201  New patient targets pledge for NHS http://bbc....  \n",
            "47202  C. diff 'manslaughter' inquiry call http://bbc...  \n",
            "\n",
            "[47203 rows x 3 columns]\n"
          ]
        }
      ]
    },
    {
      "cell_type": "code",
      "source": [
        "# Extract all URLs from article titles and links\n",
        "cnnhealth['URL'] = [re.findall(r'https?://\\S+', text) for text in cnnhealth['Article Title and Link']]\n",
        "\n",
        "# Drop rows with multiple or no URLs\n",
        "drop_indices = cnnhealth['Article Title and Link'][cnnhealth['URL'].apply(len) != 1].index\n",
        "cnnhealth.drop(drop_indices, inplace=True)\n",
        "\n",
        "# Extract CNN URL for articles\n",
        "cnnhealth['URL'] = [url[0] for url in cnnhealth['URL']]"
      ],
      "metadata": {
        "id": "R9WrPgv-PDGK"
      },
      "execution_count": 4,
      "outputs": []
    },
    {
      "cell_type": "code",
      "source": [
        "# Function to fetch content from a URL\n",
        "def fetch_content(url):\n",
        "    try:\n",
        "        response = requests.get(url, timeout=10)\n",
        "        if response.status_code == 200:\n",
        "            return response.text\n",
        "        else:\n",
        "            return None\n",
        "    except Exception as e:\n",
        "        print(\"Error fetching content:\", e)\n",
        "        return None\n",
        "\n",
        "# Function to extract body content from HTML using BeautifulSoup\n",
        "def extract_body(html_content):\n",
        "    if html_content:\n",
        "        soup = BeautifulSoup(html_content, 'html.parser')\n",
        "        article_body = soup.findAll('p', class_='paragraph')\n",
        "        if article_body:\n",
        "            return article_body\n",
        "        else:\n",
        "            return None\n",
        "    else:\n",
        "        return None\n",
        "\n",
        "# Apply web scraping to extract content and store it in a new column\n",
        "def extract_content_with_progress(url_list):\n",
        "    content_list = []\n",
        "    for url in tqdm(url_list, desc='Extracting content'):\n",
        "        content = extract_body(fetch_content(url))\n",
        "        content_list.append(content)\n",
        "    return content_list\n",
        "\n",
        "# Apply web scraping to extract content and store it in a new column\n",
        "cnnhealth['Content'] = extract_content_with_progress(cnnhealth['URL'])"
      ],
      "metadata": {
        "colab": {
          "base_uri": "https://localhost:8080/"
        },
        "id": "q_TRtZzUKwoB",
        "outputId": "5882c49e-c848-4e4d-faf2-abddf0185bbd"
      },
      "execution_count": 5,
      "outputs": [
        {
          "metadata": {
            "tags": null
          },
          "name": "stderr",
          "output_type": "stream",
          "text": [
            "Extracting content:   0%|          | 15/3299 [00:14<40:11,  1.36it/s]/usr/lib/python3.10/html/parser.py:170: XMLParsedAsHTMLWarning: It looks like you're parsing an XML document using an HTML parser. If this really is an HTML document (maybe it's XHTML?), you can ignore or filter this warning. If it's XML, you should know that using an XML parser will be more reliable. To parse this document as XML, make sure you have the lxml package installed, and pass the keyword argument `features=\"xml\"` into the BeautifulSoup constructor.\n",
            "  k = self.parse_starttag(i)\n",
            "Extracting content:   3%|▎         | 113/3299 [01:15<27:07,  1.96it/s]"
          ]
        },
        {
          "metadata": {
            "tags": null
          },
          "name": "stdout",
          "output_type": "stream",
          "text": [
            "Error fetching content: Failed to parse: https://t…\n"
          ]
        },
        {
          "metadata": {
            "tags": null
          },
          "name": "stderr",
          "output_type": "stream",
          "text": [
            "Extracting content:   6%|▌         | 200/3299 [02:04<41:49,  1.23it/s]"
          ]
        },
        {
          "metadata": {
            "tags": null
          },
          "name": "stdout",
          "output_type": "stream",
          "text": [
            "Error fetching content: Failed to parse: http://t.c…\n"
          ]
        },
        {
          "metadata": {
            "tags": null
          },
          "name": "stderr",
          "output_type": "stream",
          "text": [
            "Extracting content:   7%|▋         | 246/3299 [02:29<24:43,  2.06it/s]"
          ]
        },
        {
          "metadata": {
            "tags": null
          },
          "name": "stdout",
          "output_type": "stream",
          "text": [
            "Error fetching content: Failed to parse: http://…\n"
          ]
        },
        {
          "metadata": {
            "tags": null
          },
          "name": "stderr",
          "output_type": "stream",
          "text": [
            "Extracting content:   8%|▊         | 254/3299 [02:35<39:31,  1.28it/s]"
          ]
        },
        {
          "metadata": {
            "tags": null
          },
          "name": "stdout",
          "output_type": "stream",
          "text": [
            "Error fetching content: Failed to parse: http://t.co…\n"
          ]
        },
        {
          "metadata": {
            "tags": null
          },
          "name": "stderr",
          "output_type": "stream",
          "text": [
            "Extracting content:  11%|█         | 362/3299 [03:43<2:42:08,  3.31s/it]"
          ]
        },
        {
          "metadata": {
            "tags": null
          },
          "name": "stdout",
          "output_type": "stream",
          "text": [
            "Error fetching content: HTTPSConnectionPool(host='flipboard.com', port=443): Read timed out. (read timeout=10)\n"
          ]
        },
        {
          "metadata": {
            "tags": null
          },
          "name": "stderr",
          "output_type": "stream",
          "text": [
            "\rExtracting content:  11%|█         | 363/3299 [03:53<4:23:01,  5.38s/it]"
          ]
        },
        {
          "metadata": {
            "tags": null
          },
          "name": "stdout",
          "output_type": "stream",
          "text": [
            "Error fetching content: HTTPSConnectionPool(host='flipboard.com', port=443): Read timed out. (read timeout=10)\n"
          ]
        },
        {
          "metadata": {
            "tags": null
          },
          "name": "stderr",
          "output_type": "stream",
          "text": [
            "Extracting content:  11%|█         | 365/3299 [04:04<4:44:46,  5.82s/it]"
          ]
        },
        {
          "metadata": {
            "tags": null
          },
          "name": "stdout",
          "output_type": "stream",
          "text": [
            "Error fetching content: HTTPSConnectionPool(host='flipboard.com', port=443): Read timed out. (read timeout=10)\n"
          ]
        },
        {
          "metadata": {
            "tags": null
          },
          "name": "stderr",
          "output_type": "stream",
          "text": [
            "Extracting content:  12%|█▏        | 386/3299 [04:18<57:15,  1.18s/it]  "
          ]
        },
        {
          "metadata": {
            "tags": null
          },
          "name": "stdout",
          "output_type": "stream",
          "text": [
            "Error fetching content: Failed to parse: http://…\n"
          ]
        },
        {
          "metadata": {
            "tags": null
          },
          "name": "stderr",
          "output_type": "stream",
          "text": [
            "Extracting content:  12%|█▏        | 395/3299 [04:31<2:38:49,  3.28s/it]"
          ]
        },
        {
          "metadata": {
            "tags": null
          },
          "name": "stdout",
          "output_type": "stream",
          "text": [
            "Error fetching content: HTTPSConnectionPool(host='flipboard.com', port=443): Read timed out. (read timeout=10)\n"
          ]
        },
        {
          "metadata": {
            "tags": null
          },
          "name": "stderr",
          "output_type": "stream",
          "text": [
            "Extracting content:  12%|█▏        | 406/3299 [04:46<2:51:27,  3.56s/it]"
          ]
        },
        {
          "metadata": {
            "tags": null
          },
          "name": "stdout",
          "output_type": "stream",
          "text": [
            "Error fetching content: HTTPSConnectionPool(host='flipboard.com', port=443): Read timed out. (read timeout=10)\n"
          ]
        },
        {
          "metadata": {
            "tags": null
          },
          "name": "stderr",
          "output_type": "stream",
          "text": [
            "Extracting content:  17%|█▋        | 549/3299 [05:59<27:12,  1.68it/s]"
          ]
        },
        {
          "metadata": {
            "tags": null
          },
          "name": "stdout",
          "output_type": "stream",
          "text": [
            "Error fetching content: Failed to parse: http://t.co…\n"
          ]
        },
        {
          "metadata": {
            "tags": null
          },
          "name": "stderr",
          "output_type": "stream",
          "text": [
            "Extracting content:  19%|█▉        | 634/3299 [06:50<2:30:45,  3.39s/it]"
          ]
        },
        {
          "metadata": {
            "tags": null
          },
          "name": "stdout",
          "output_type": "stream",
          "text": [
            "Error fetching content: HTTPConnectionPool(host='upwave.co', port=80): Max retries exceeded with url: /1kTcVP2 (Caused by ConnectTimeoutError(<urllib3.connection.HTTPConnection object at 0x7b45757fb820>, 'Connection to upwave.co timed out. (connect timeout=10)'))\n"
          ]
        },
        {
          "metadata": {
            "tags": null
          },
          "name": "stderr",
          "output_type": "stream",
          "text": [
            "Extracting content:  21%|██        | 683/3299 [07:08<30:36,  1.42it/s]"
          ]
        },
        {
          "metadata": {
            "tags": null
          },
          "name": "stdout",
          "output_type": "stream",
          "text": [
            "Error fetching content: Failed to parse: http://t.co…\n",
            "Error fetching content: Failed to parse: http://…\n"
          ]
        },
        {
          "metadata": {
            "tags": null
          },
          "name": "stderr",
          "output_type": "stream",
          "text": [
            "Extracting content:  22%|██▏       | 721/3299 [07:34<2:26:31,  3.41s/it]"
          ]
        },
        {
          "metadata": {
            "tags": null
          },
          "name": "stdout",
          "output_type": "stream",
          "text": [
            "Error fetching content: HTTPConnectionPool(host='www.kansascity.com', port=80): Read timed out. (read timeout=10)\n"
          ]
        },
        {
          "metadata": {
            "tags": null
          },
          "name": "stderr",
          "output_type": "stream",
          "text": [
            "Extracting content:  23%|██▎       | 747/3299 [07:45<22:26,  1.90it/s]"
          ]
        },
        {
          "metadata": {
            "tags": null
          },
          "name": "stdout",
          "output_type": "stream",
          "text": [
            "Error fetching content: Failed to parse: http://t…\n"
          ]
        },
        {
          "metadata": {
            "tags": null
          },
          "name": "stderr",
          "output_type": "stream",
          "text": [
            "Extracting content:  23%|██▎       | 751/3299 [07:56<2:03:53,  2.92s/it]"
          ]
        },
        {
          "metadata": {
            "tags": null
          },
          "name": "stdout",
          "output_type": "stream",
          "text": [
            "Error fetching content: HTTPConnectionPool(host='upwave.co', port=80): Max retries exceeded with url: /1duFGv0 (Caused by ConnectTimeoutError(<urllib3.connection.HTTPConnection object at 0x7b455a8766b0>, 'Connection to upwave.co timed out. (connect timeout=10)'))\n"
          ]
        },
        {
          "metadata": {
            "tags": null
          },
          "name": "stderr",
          "output_type": "stream",
          "text": [
            "Extracting content:  24%|██▎       | 782/3299 [08:09<20:42,  2.03it/s]"
          ]
        },
        {
          "metadata": {
            "tags": null
          },
          "name": "stdout",
          "output_type": "stream",
          "text": [
            "Error fetching content: Failed to parse: http://…\n"
          ]
        },
        {
          "metadata": {
            "tags": null
          },
          "name": "stderr",
          "output_type": "stream",
          "text": [
            "Extracting content:  24%|██▍       | 791/3299 [08:12<12:19,  3.39it/s]"
          ]
        },
        {
          "metadata": {
            "tags": null
          },
          "name": "stdout",
          "output_type": "stream",
          "text": [
            "Error fetching content: Failed to parse: http://t…\n"
          ]
        },
        {
          "metadata": {
            "tags": null
          },
          "name": "stderr",
          "output_type": "stream",
          "text": [
            "Extracting content:  24%|██▍       | 798/3299 [08:15<16:20,  2.55it/s]"
          ]
        },
        {
          "metadata": {
            "tags": null
          },
          "name": "stdout",
          "output_type": "stream",
          "text": [
            "Error fetching content: Failed to parse: http://t.co…\n"
          ]
        },
        {
          "metadata": {
            "tags": null
          },
          "name": "stderr",
          "output_type": "stream",
          "text": [
            "Extracting content:  27%|██▋       | 907/3299 [09:06<07:47,  5.12it/s]"
          ]
        },
        {
          "metadata": {
            "tags": null
          },
          "name": "stdout",
          "output_type": "stream",
          "text": [
            "Error fetching content: Failed to parse: http://t.c…\n"
          ]
        },
        {
          "metadata": {
            "tags": null
          },
          "name": "stderr",
          "output_type": "stream",
          "text": [
            "Extracting content:  29%|██▉       | 956/3299 [09:28<13:19,  2.93it/s]"
          ]
        },
        {
          "metadata": {
            "tags": null
          },
          "name": "stdout",
          "output_type": "stream",
          "text": [
            "Error fetching content: HTTPConnectionPool(host='shpe.co', port=80): Max retries exceeded with url: /1eAdojE (Caused by NameResolutionError(\"<urllib3.connection.HTTPConnection object at 0x7b4544e66f20>: Failed to resolve 'shpe.co' ([Errno -2] Name or service not known)\"))\n"
          ]
        },
        {
          "metadata": {
            "tags": null
          },
          "name": "stderr",
          "output_type": "stream",
          "text": [
            "Extracting content:  29%|██▉       | 960/3299 [09:30<18:14,  2.14it/s]"
          ]
        },
        {
          "metadata": {
            "tags": null
          },
          "name": "stdout",
          "output_type": "stream",
          "text": [
            "Error fetching content: Failed to parse: http://t.…\n"
          ]
        },
        {
          "metadata": {
            "tags": null
          },
          "name": "stderr",
          "output_type": "stream",
          "text": [
            "Extracting content:  30%|██▉       | 984/3299 [09:49<29:09,  1.32it/s]"
          ]
        },
        {
          "metadata": {
            "tags": null
          },
          "name": "stdout",
          "output_type": "stream",
          "text": [
            "Error fetching content: Failed to parse: http://t…\n"
          ]
        },
        {
          "metadata": {
            "tags": null
          },
          "name": "stderr",
          "output_type": "stream",
          "text": [
            "Extracting content:  30%|███       | 994/3299 [09:53<19:04,  2.01it/s]"
          ]
        },
        {
          "metadata": {
            "tags": null
          },
          "name": "stdout",
          "output_type": "stream",
          "text": [
            "Error fetching content: Failed to parse: http://t.co…\n"
          ]
        },
        {
          "metadata": {
            "tags": null
          },
          "name": "stderr",
          "output_type": "stream",
          "text": [
            "Extracting content:  32%|███▏      | 1055/3299 [10:19<16:16,  2.30it/s]"
          ]
        },
        {
          "metadata": {
            "tags": null
          },
          "name": "stdout",
          "output_type": "stream",
          "text": [
            "Error fetching content: HTTPConnectionPool(host='healthysummer.me', port=80): Max retries exceeded with url: /2013/12/19/yoga-forget-what-you-think-you-know/ (Caused by NameResolutionError(\"<urllib3.connection.HTTPConnection object at 0x7b453b031db0>: Failed to resolve 'healthysummer.me' ([Errno -2] Name or service not known)\"))\n"
          ]
        },
        {
          "metadata": {
            "tags": null
          },
          "name": "stderr",
          "output_type": "stream",
          "text": [
            "Extracting content:  32%|███▏      | 1058/3299 [10:19<09:24,  3.97it/s]"
          ]
        },
        {
          "metadata": {
            "tags": null
          },
          "name": "stdout",
          "output_type": "stream",
          "text": [
            "Error fetching content: HTTPConnectionPool(host='shpe.co', port=80): Max retries exceeded with url: /1c1TMq4 (Caused by NameResolutionError(\"<urllib3.connection.HTTPConnection object at 0x7b453b0325f0>: Failed to resolve 'shpe.co' ([Errno -2] Name or service not known)\"))\n"
          ]
        },
        {
          "metadata": {
            "tags": null
          },
          "name": "stderr",
          "output_type": "stream",
          "text": [
            "Extracting content:  32%|███▏      | 1067/3299 [10:33<2:03:09,  3.31s/it]"
          ]
        },
        {
          "metadata": {
            "tags": null
          },
          "name": "stdout",
          "output_type": "stream",
          "text": [
            "Error fetching content: HTTPConnectionPool(host='upwave.co', port=80): Max retries exceeded with url: /1cArLCl (Caused by ConnectTimeoutError(<urllib3.connection.HTTPConnection object at 0x7b453a2b6590>, 'Connection to upwave.co timed out. (connect timeout=10)'))\n"
          ]
        },
        {
          "metadata": {
            "tags": null
          },
          "name": "stderr",
          "output_type": "stream",
          "text": [
            "Extracting content:  36%|███▌      | 1175/3299 [11:24<1:55:21,  3.26s/it]"
          ]
        },
        {
          "metadata": {
            "tags": null
          },
          "name": "stdout",
          "output_type": "stream",
          "text": [
            "Error fetching content: HTTPConnectionPool(host='upwave.co', port=80): Max retries exceeded with url: /17J2Wb9 (Caused by ConnectTimeoutError(<urllib3.connection.HTTPConnection object at 0x7b4530196e60>, 'Connection to upwave.co timed out. (connect timeout=10)'))\n"
          ]
        },
        {
          "metadata": {
            "tags": null
          },
          "name": "stderr",
          "output_type": "stream",
          "text": [
            "Extracting content:  38%|███▊      | 1259/3299 [12:06<17:03,  1.99it/s]"
          ]
        },
        {
          "metadata": {
            "tags": null
          },
          "name": "stdout",
          "output_type": "stream",
          "text": [
            "Error fetching content: Failed to parse: http://t.co…\n"
          ]
        },
        {
          "metadata": {
            "tags": null
          },
          "name": "stderr",
          "output_type": "stream",
          "text": [
            "Extracting content:  40%|███▉      | 1318/3299 [12:34<1:39:03,  3.00s/it]"
          ]
        },
        {
          "metadata": {
            "tags": null
          },
          "name": "stdout",
          "output_type": "stream",
          "text": [
            "Error fetching content: HTTPConnectionPool(host='upwave.co', port=80): Max retries exceeded with url: /18pyCjM (Caused by ConnectTimeoutError(<urllib3.connection.HTTPConnection object at 0x7b452856c5e0>, 'Connection to upwave.co timed out. (connect timeout=10)'))\n"
          ]
        },
        {
          "metadata": {
            "tags": null
          },
          "name": "stderr",
          "output_type": "stream",
          "text": [
            "Extracting content:  40%|████      | 1320/3299 [12:35<55:38,  1.69s/it]  "
          ]
        },
        {
          "metadata": {
            "tags": null
          },
          "name": "stdout",
          "output_type": "stream",
          "text": [
            "Error fetching content: Failed to parse: http://…\n"
          ]
        },
        {
          "metadata": {
            "tags": null
          },
          "name": "stderr",
          "output_type": "stream",
          "text": [
            "Extracting content:  40%|████      | 1325/3299 [12:45<1:33:13,  2.83s/it]"
          ]
        },
        {
          "metadata": {
            "tags": null
          },
          "name": "stdout",
          "output_type": "stream",
          "text": [
            "Error fetching content: HTTPConnectionPool(host='on.cnn.com', port=80): Max retries exceeded with url: /1bwg1Co (Caused by ConnectTimeoutError(<urllib3.connection.HTTPConnection object at 0x7b4527ea4bb0>, 'Connection to on.cnn.com timed out. (connect timeout=10)'))\n"
          ]
        },
        {
          "metadata": {
            "tags": null
          },
          "name": "stderr",
          "output_type": "stream",
          "text": [
            "Extracting content:  40%|████      | 1329/3299 [12:56<1:56:10,  3.54s/it]"
          ]
        },
        {
          "metadata": {
            "tags": null
          },
          "name": "stdout",
          "output_type": "stream",
          "text": [
            "Error fetching content: HTTPConnectionPool(host='on.cnn.com', port=80): Max retries exceeded with url: /1aG810k (Caused by ConnectTimeoutError(<urllib3.connection.HTTPConnection object at 0x7b45279a4c40>, 'Connection to on.cnn.com timed out. (connect timeout=10)'))\n"
          ]
        },
        {
          "metadata": {
            "tags": null
          },
          "name": "stderr",
          "output_type": "stream",
          "text": [
            "Extracting content:  40%|████      | 1333/3299 [13:07<2:02:58,  3.75s/it]"
          ]
        },
        {
          "metadata": {
            "tags": null
          },
          "name": "stdout",
          "output_type": "stream",
          "text": [
            "Error fetching content: HTTPConnectionPool(host='on.cnn.com', port=80): Max retries exceeded with url: /1agl2fP (Caused by ConnectTimeoutError(<urllib3.connection.HTTPConnection object at 0x7b45274a4970>, 'Connection to on.cnn.com timed out. (connect timeout=10)'))\n"
          ]
        },
        {
          "metadata": {
            "tags": null
          },
          "name": "stderr",
          "output_type": "stream",
          "text": [
            "\rExtracting content:  40%|████      | 1334/3299 [13:17<2:55:50,  5.37s/it]"
          ]
        },
        {
          "metadata": {
            "tags": null
          },
          "name": "stdout",
          "output_type": "stream",
          "text": [
            "Error fetching content: HTTPConnectionPool(host='on.cnn.com', port=80): Max retries exceeded with url: /1cFft0A (Caused by ConnectTimeoutError(<urllib3.connection.HTTPConnection object at 0x7b45274a51b0>, 'Connection to on.cnn.com timed out. (connect timeout=10)'))\n"
          ]
        },
        {
          "metadata": {
            "tags": null
          },
          "name": "stderr",
          "output_type": "stream",
          "text": [
            "Extracting content:  41%|████      | 1340/3299 [13:29<2:06:38,  3.88s/it]"
          ]
        },
        {
          "metadata": {
            "tags": null
          },
          "name": "stdout",
          "output_type": "stream",
          "text": [
            "Error fetching content: HTTPConnectionPool(host='on.cnn.com', port=80): Max retries exceeded with url: /1bgB37P (Caused by ConnectTimeoutError(<urllib3.connection.HTTPConnection object at 0x7b4526adb370>, 'Connection to on.cnn.com timed out. (connect timeout=10)'))\n"
          ]
        },
        {
          "metadata": {
            "tags": null
          },
          "name": "stderr",
          "output_type": "stream",
          "text": [
            "\rExtracting content:  41%|████      | 1341/3299 [13:39<3:05:53,  5.70s/it]"
          ]
        },
        {
          "metadata": {
            "tags": null
          },
          "name": "stdout",
          "output_type": "stream",
          "text": [
            "Error fetching content: HTTPConnectionPool(host='on.cnn.com', port=80): Max retries exceeded with url: /15ruChD (Caused by ConnectTimeoutError(<urllib3.connection.HTTPConnection object at 0x7b4526adba90>, 'Connection to on.cnn.com timed out. (connect timeout=10)'))\n"
          ]
        },
        {
          "metadata": {
            "tags": null
          },
          "name": "stderr",
          "output_type": "stream",
          "text": [
            "Extracting content:  41%|████      | 1343/3299 [13:49<3:11:44,  5.88s/it]"
          ]
        },
        {
          "metadata": {
            "tags": null
          },
          "name": "stdout",
          "output_type": "stream",
          "text": [
            "Error fetching content: HTTPConnectionPool(host='upwave.co', port=80): Max retries exceeded with url: /18SjdaS (Caused by ConnectTimeoutError(<urllib3.connection.HTTPConnection object at 0x7b452675e7a0>, 'Connection to upwave.co timed out. (connect timeout=10)'))\n"
          ]
        },
        {
          "metadata": {
            "tags": null
          },
          "name": "stderr",
          "output_type": "stream",
          "text": [
            "\rExtracting content:  41%|████      | 1344/3299 [13:59<3:52:03,  7.12s/it]"
          ]
        },
        {
          "metadata": {
            "tags": null
          },
          "name": "stdout",
          "output_type": "stream",
          "text": [
            "Error fetching content: HTTPConnectionPool(host='on.cnn.com', port=80): Max retries exceeded with url: /16y2hab (Caused by ConnectTimeoutError(<urllib3.connection.HTTPConnection object at 0x7b452675eec0>, 'Connection to on.cnn.com timed out. (connect timeout=10)'))\n"
          ]
        },
        {
          "metadata": {
            "tags": null
          },
          "name": "stderr",
          "output_type": "stream",
          "text": [
            "Extracting content:  41%|████      | 1346/3299 [14:10<3:33:28,  6.56s/it]"
          ]
        },
        {
          "metadata": {
            "tags": null
          },
          "name": "stdout",
          "output_type": "stream",
          "text": [
            "Error fetching content: HTTPConnectionPool(host='on.cnn.com', port=80): Max retries exceeded with url: /16y2hab (Caused by ConnectTimeoutError(<urllib3.connection.HTTPConnection object at 0x7b45265d9ab0>, 'Connection to on.cnn.com timed out. (connect timeout=10)'))\n"
          ]
        },
        {
          "metadata": {
            "tags": null
          },
          "name": "stderr",
          "output_type": "stream",
          "text": [
            "\rExtracting content:  41%|████      | 1347/3299 [14:20<4:07:02,  7.59s/it]"
          ]
        },
        {
          "metadata": {
            "tags": null
          },
          "name": "stdout",
          "output_type": "stream",
          "text": [
            "Error fetching content: HTTPConnectionPool(host='on.cnn.com', port=80): Max retries exceeded with url: /16xeLyX (Caused by ConnectTimeoutError(<urllib3.connection.HTTPConnection object at 0x7b45265da2f0>, 'Connection to on.cnn.com timed out. (connect timeout=10)'))\n"
          ]
        },
        {
          "metadata": {
            "tags": null
          },
          "name": "stderr",
          "output_type": "stream",
          "text": [
            "Extracting content:  41%|████      | 1350/3299 [14:30<3:05:33,  5.71s/it]"
          ]
        },
        {
          "metadata": {
            "tags": null
          },
          "name": "stdout",
          "output_type": "stream",
          "text": [
            "Error fetching content: HTTPConnectionPool(host='on.cnn.com', port=80): Max retries exceeded with url: /17eEngB (Caused by ConnectTimeoutError(<urllib3.connection.HTTPConnection object at 0x7b45260ed1e0>, 'Connection to on.cnn.com timed out. (connect timeout=10)'))\n"
          ]
        },
        {
          "metadata": {
            "tags": null
          },
          "name": "stderr",
          "output_type": "stream",
          "text": [
            "Extracting content:  41%|████      | 1352/3299 [14:40<3:10:12,  5.86s/it]"
          ]
        },
        {
          "metadata": {
            "tags": null
          },
          "name": "stdout",
          "output_type": "stream",
          "text": [
            "Error fetching content: HTTPConnectionPool(host='on.cnn.com', port=80): Max retries exceeded with url: /1coPDhd (Caused by ConnectTimeoutError(<urllib3.connection.HTTPConnection object at 0x7b4525d68cd0>, 'Connection to on.cnn.com timed out. (connect timeout=10)'))\n"
          ]
        },
        {
          "metadata": {
            "tags": null
          },
          "name": "stderr",
          "output_type": "stream",
          "text": [
            "\rExtracting content:  41%|████      | 1353/3299 [14:50<3:50:31,  7.11s/it]"
          ]
        },
        {
          "metadata": {
            "tags": null
          },
          "name": "stdout",
          "output_type": "stream",
          "text": [
            "Error fetching content: HTTPConnectionPool(host='on.cnn.com', port=80): Max retries exceeded with url: /1cn3Ew2 (Caused by ConnectTimeoutError(<urllib3.connection.HTTPConnection object at 0x7b4525d694e0>, 'Connection to on.cnn.com timed out. (connect timeout=10)'))\n"
          ]
        },
        {
          "metadata": {
            "tags": null
          },
          "name": "stderr",
          "output_type": "stream",
          "text": [
            "Extracting content:  41%|████      | 1355/3299 [15:01<3:33:19,  6.58s/it]"
          ]
        },
        {
          "metadata": {
            "tags": null
          },
          "name": "stdout",
          "output_type": "stream",
          "text": [
            "Error fetching content: HTTPConnectionPool(host='on.cnn.com', port=80): Max retries exceeded with url: /1cn3Ew2 (Caused by ConnectTimeoutError(<urllib3.connection.HTTPConnection object at 0x7b4525be0c70>, 'Connection to on.cnn.com timed out. (connect timeout=10)'))\n"
          ]
        },
        {
          "metadata": {
            "tags": null
          },
          "name": "stderr",
          "output_type": "stream",
          "text": [
            "\rExtracting content:  41%|████      | 1356/3299 [15:11<4:06:29,  7.61s/it]"
          ]
        },
        {
          "metadata": {
            "tags": null
          },
          "name": "stdout",
          "output_type": "stream",
          "text": [
            "Error fetching content: HTTPConnectionPool(host='on.cnn.com', port=80): Max retries exceeded with url: /19ZTATf (Caused by ConnectTimeoutError(<urllib3.connection.HTTPConnection object at 0x7b4525be14b0>, 'Connection to on.cnn.com timed out. (connect timeout=10)'))\n"
          ]
        },
        {
          "metadata": {
            "tags": null
          },
          "name": "stderr",
          "output_type": "stream",
          "text": [
            "Extracting content:  41%|████      | 1360/3299 [15:21<2:40:59,  4.98s/it]"
          ]
        },
        {
          "metadata": {
            "tags": null
          },
          "name": "stdout",
          "output_type": "stream",
          "text": [
            "Error fetching content: HTTPConnectionPool(host='on.cnn.com', port=80): Max retries exceeded with url: /1dYpxQ9 (Caused by ConnectTimeoutError(<urllib3.connection.HTTPConnection object at 0x7b45256a3550>, 'Connection to on.cnn.com timed out. (connect timeout=10)'))\n",
            "Error fetching content: ('Connection aborted.', RemoteDisconnected('Remote end closed connection without response'))\n"
          ]
        },
        {
          "metadata": {
            "tags": null
          },
          "name": "stderr",
          "output_type": "stream",
          "text": [
            "\rExtracting content:  41%|████▏     | 1363/3299 [15:25<1:33:18,  2.89s/it]"
          ]
        },
        {
          "metadata": {
            "tags": null
          },
          "name": "stdout",
          "output_type": "stream",
          "text": [
            "Error fetching content: ('Connection aborted.', RemoteDisconnected('Remote end closed connection without response'))\n",
            "Error fetching content: ('Connection aborted.', RemoteDisconnected('Remote end closed connection without response'))\n"
          ]
        },
        {
          "metadata": {
            "tags": null
          },
          "name": "stderr",
          "output_type": "stream",
          "text": [
            "\rExtracting content:  41%|████▏     | 1365/3299 [15:35<1:56:10,  3.60s/it]"
          ]
        },
        {
          "metadata": {
            "tags": null
          },
          "name": "stdout",
          "output_type": "stream",
          "text": [
            "Error fetching content: HTTPConnectionPool(host='on.cnn.com', port=80): Max retries exceeded with url: /16inogx (Caused by ConnectTimeoutError(<urllib3.connection.HTTPConnection object at 0x7b45256a35b0>, 'Connection to on.cnn.com timed out. (connect timeout=10)'))\n"
          ]
        },
        {
          "metadata": {
            "tags": null
          },
          "name": "stderr",
          "output_type": "stream",
          "text": [
            "Extracting content:  42%|████▏     | 1381/3299 [15:50<1:42:22,  3.20s/it]"
          ]
        },
        {
          "metadata": {
            "tags": null
          },
          "name": "stdout",
          "output_type": "stream",
          "text": [
            "Error fetching content: HTTPConnectionPool(host='on.cnn.com', port=80): Max retries exceeded with url: /16Aj9sg (Caused by ConnectTimeoutError(<urllib3.connection.HTTPConnection object at 0x7b4523c2a530>, 'Connection to on.cnn.com timed out. (connect timeout=10)'))\n"
          ]
        },
        {
          "metadata": {
            "tags": null
          },
          "name": "stderr",
          "output_type": "stream",
          "text": [
            "Extracting content:  42%|████▏     | 1384/3299 [16:01<2:13:02,  4.17s/it]"
          ]
        },
        {
          "metadata": {
            "tags": null
          },
          "name": "stdout",
          "output_type": "stream",
          "text": [
            "Error fetching content: HTTPConnectionPool(host='on.cnn.com', port=80): Max retries exceeded with url: /1dGBBp7 (Caused by ConnectTimeoutError(<urllib3.connection.HTTPConnection object at 0x7b4523ad8ca0>, 'Connection to on.cnn.com timed out. (connect timeout=10)'))\n"
          ]
        },
        {
          "metadata": {
            "tags": null
          },
          "name": "stderr",
          "output_type": "stream",
          "text": [
            "Extracting content:  42%|████▏     | 1386/3299 [16:11<2:42:49,  5.11s/it]"
          ]
        },
        {
          "metadata": {
            "tags": null
          },
          "name": "stdout",
          "output_type": "stream",
          "text": [
            "Error fetching content: HTTPConnectionPool(host='on.cnn.com', port=80): Max retries exceeded with url: /18S6e5D (Caused by ConnectTimeoutError(<urllib3.connection.HTTPConnection object at 0x7b45238e7550>, 'Connection to on.cnn.com timed out. (connect timeout=10)'))\n"
          ]
        },
        {
          "metadata": {
            "tags": null
          },
          "name": "stderr",
          "output_type": "stream",
          "text": [
            "Extracting content:  42%|████▏     | 1389/3299 [16:22<2:36:20,  4.91s/it]"
          ]
        },
        {
          "metadata": {
            "tags": null
          },
          "name": "stdout",
          "output_type": "stream",
          "text": [
            "Error fetching content: HTTPConnectionPool(host='on.cnn.com', port=80): Max retries exceeded with url: /1aPZ31W (Caused by ConnectTimeoutError(<urllib3.connection.HTTPConnection object at 0x7b45232700d0>, 'Connection to on.cnn.com timed out. (connect timeout=10)'))\n"
          ]
        },
        {
          "metadata": {
            "tags": null
          },
          "name": "stderr",
          "output_type": "stream",
          "text": [
            "Extracting content:  42%|████▏     | 1395/3299 [16:33<1:46:00,  3.34s/it]"
          ]
        },
        {
          "metadata": {
            "tags": null
          },
          "name": "stdout",
          "output_type": "stream",
          "text": [
            "Error fetching content: HTTPConnectionPool(host='on.cnn.com', port=80): Max retries exceeded with url: /16mwTYg (Caused by ConnectTimeoutError(<urllib3.connection.HTTPConnection object at 0x7b45229b7940>, 'Connection to on.cnn.com timed out. (connect timeout=10)'))\n"
          ]
        },
        {
          "metadata": {
            "tags": null
          },
          "name": "stderr",
          "output_type": "stream",
          "text": [
            "Extracting content:  43%|████▎     | 1404/3299 [16:47<1:28:45,  2.81s/it]"
          ]
        },
        {
          "metadata": {
            "tags": null
          },
          "name": "stdout",
          "output_type": "stream",
          "text": [
            "Error fetching content: HTTPConnectionPool(host='on.cnn.com', port=80): Max retries exceeded with url: /1goZl0q (Caused by ConnectTimeoutError(<urllib3.connection.HTTPConnection object at 0x7b45218aac50>, 'Connection to on.cnn.com timed out. (connect timeout=10)'))\n"
          ]
        },
        {
          "metadata": {
            "tags": null
          },
          "name": "stderr",
          "output_type": "stream",
          "text": [
            "Extracting content:  43%|████▎     | 1408/3299 [16:48<33:42,  1.07s/it]"
          ]
        },
        {
          "metadata": {
            "tags": null
          },
          "name": "stdout",
          "output_type": "stream",
          "text": [
            "Error fetching content: Failed to parse: http://t.…\n"
          ]
        },
        {
          "metadata": {
            "tags": null
          },
          "name": "stderr",
          "output_type": "stream",
          "text": [
            "Extracting content:  43%|████▎     | 1413/3299 [16:59<1:35:21,  3.03s/it]"
          ]
        },
        {
          "metadata": {
            "tags": null
          },
          "name": "stdout",
          "output_type": "stream",
          "text": [
            "Error fetching content: HTTPConnectionPool(host='on.cnn.com', port=80): Max retries exceeded with url: /1d8UHE9 (Caused by ConnectTimeoutError(<urllib3.connection.HTTPConnection object at 0x7b4520ca0d60>, 'Connection to on.cnn.com timed out. (connect timeout=10)'))\n"
          ]
        },
        {
          "metadata": {
            "tags": null
          },
          "name": "stderr",
          "output_type": "stream",
          "text": [
            "Extracting content:  43%|████▎     | 1419/3299 [17:10<1:28:50,  2.84s/it]"
          ]
        },
        {
          "metadata": {
            "tags": null
          },
          "name": "stdout",
          "output_type": "stream",
          "text": [
            "Error fetching content: HTTPConnectionPool(host='on.cnn.com', port=80): Max retries exceeded with url: /17qLpkp (Caused by ConnectTimeoutError(<urllib3.connection.HTTPConnection object at 0x7b45205d1570>, 'Connection to on.cnn.com timed out. (connect timeout=10)'))\n"
          ]
        },
        {
          "metadata": {
            "tags": null
          },
          "name": "stderr",
          "output_type": "stream",
          "text": [
            "Extracting content:  43%|████▎     | 1421/3299 [17:21<2:12:45,  4.24s/it]"
          ]
        },
        {
          "metadata": {
            "tags": null
          },
          "name": "stdout",
          "output_type": "stream",
          "text": [
            "Error fetching content: HTTPConnectionPool(host='on.cnn.com', port=80): Max retries exceeded with url: /17pNFZd (Caused by ConnectTimeoutError(<urllib3.connection.HTTPConnection object at 0x7b4520253190>, 'Connection to on.cnn.com timed out. (connect timeout=10)'))\n"
          ]
        },
        {
          "metadata": {
            "tags": null
          },
          "name": "stderr",
          "output_type": "stream",
          "text": [
            "Extracting content:  43%|████▎     | 1428/3299 [17:34<1:54:07,  3.66s/it]"
          ]
        },
        {
          "metadata": {
            "tags": null
          },
          "name": "stdout",
          "output_type": "stream",
          "text": [
            "Error fetching content: HTTPConnectionPool(host='on.cnn.com', port=80): Max retries exceeded with url: /14DyRmC (Caused by ConnectTimeoutError(<urllib3.connection.HTTPConnection object at 0x7b451f6d0580>, 'Connection to on.cnn.com timed out. (connect timeout=10)'))\n"
          ]
        },
        {
          "metadata": {
            "tags": null
          },
          "name": "stderr",
          "output_type": "stream",
          "text": [
            "Extracting content:  43%|████▎     | 1430/3299 [17:44<2:31:58,  4.88s/it]"
          ]
        },
        {
          "metadata": {
            "tags": null
          },
          "name": "stdout",
          "output_type": "stream",
          "text": [
            "Error fetching content: HTTPConnectionPool(host='on.cnn.com', port=80): Max retries exceeded with url: /18B0Gyi (Caused by ConnectTimeoutError(<urllib3.connection.HTTPConnection object at 0x7b451f353760>, 'Connection to on.cnn.com timed out. (connect timeout=10)'))\n"
          ]
        },
        {
          "metadata": {
            "tags": null
          },
          "name": "stderr",
          "output_type": "stream",
          "text": [
            "\rExtracting content:  43%|████▎     | 1431/3299 [17:44<1:49:20,  3.51s/it]"
          ]
        },
        {
          "metadata": {
            "tags": null
          },
          "name": "stdout",
          "output_type": "stream",
          "text": [
            "Error fetching content: Failed to parse: http://t…\n"
          ]
        },
        {
          "metadata": {
            "tags": null
          },
          "name": "stderr",
          "output_type": "stream",
          "text": [
            "Extracting content:  43%|████▎     | 1434/3299 [17:55<2:03:12,  3.96s/it]"
          ]
        },
        {
          "metadata": {
            "tags": null
          },
          "name": "stdout",
          "output_type": "stream",
          "text": [
            "Error fetching content: HTTPConnectionPool(host='on.cnn.com', port=80): Max retries exceeded with url: /17CqV97 (Caused by ConnectTimeoutError(<urllib3.connection.HTTPConnection object at 0x7b451eefb250>, 'Connection to on.cnn.com timed out. (connect timeout=10)'))\n"
          ]
        },
        {
          "metadata": {
            "tags": null
          },
          "name": "stderr",
          "output_type": "stream",
          "text": [
            "Extracting content:  44%|████▎     | 1437/3299 [18:05<2:16:47,  4.41s/it]"
          ]
        },
        {
          "metadata": {
            "tags": null
          },
          "name": "stdout",
          "output_type": "stream",
          "text": [
            "Error fetching content: HTTPConnectionPool(host='on.cnn.com', port=80): Max retries exceeded with url: /14ZxqlW (Caused by ConnectTimeoutError(<urllib3.connection.HTTPConnection object at 0x7b451eb7f520>, 'Connection to on.cnn.com timed out. (connect timeout=10)'))\n"
          ]
        },
        {
          "metadata": {
            "tags": null
          },
          "name": "stderr",
          "output_type": "stream",
          "text": [
            "Extracting content:  44%|████▎     | 1441/3299 [18:16<2:09:58,  4.20s/it]"
          ]
        },
        {
          "metadata": {
            "tags": null
          },
          "name": "stdout",
          "output_type": "stream",
          "text": [
            "Error fetching content: HTTPConnectionPool(host='on.cnn.com', port=80): Max retries exceeded with url: /17CA9QU (Caused by ConnectTimeoutError(<urllib3.connection.HTTPConnection object at 0x7b451e347850>, 'Connection to on.cnn.com timed out. (connect timeout=10)'))\n"
          ]
        },
        {
          "metadata": {
            "tags": null
          },
          "name": "stderr",
          "output_type": "stream",
          "text": [
            "Extracting content:  44%|████▍     | 1448/3299 [18:28<1:52:33,  3.65s/it]"
          ]
        },
        {
          "metadata": {
            "tags": null
          },
          "name": "stdout",
          "output_type": "stream",
          "text": [
            "Error fetching content: HTTPConnectionPool(host='on.cnn.com', port=80): Max retries exceeded with url: /14kEIx0 (Caused by ConnectTimeoutError(<urllib3.connection.HTTPConnection object at 0x7b451d935540>, 'Connection to on.cnn.com timed out. (connect timeout=10)'))\n"
          ]
        },
        {
          "metadata": {
            "tags": null
          },
          "name": "stderr",
          "output_type": "stream",
          "text": [
            "Extracting content:  44%|████▍     | 1452/3299 [18:39<2:03:28,  4.01s/it]"
          ]
        },
        {
          "metadata": {
            "tags": null
          },
          "name": "stdout",
          "output_type": "stream",
          "text": [
            "Error fetching content: HTTPConnectionPool(host='on.cnn.com', port=80): Max retries exceeded with url: /14HGWdj (Caused by ConnectTimeoutError(<urllib3.connection.HTTPConnection object at 0x7b451d26ac50>, 'Connection to on.cnn.com timed out. (connect timeout=10)'))\n"
          ]
        },
        {
          "metadata": {
            "tags": null
          },
          "name": "stderr",
          "output_type": "stream",
          "text": [
            "\rExtracting content:  44%|████▍     | 1453/3299 [18:49<2:58:47,  5.81s/it]"
          ]
        },
        {
          "metadata": {
            "tags": null
          },
          "name": "stdout",
          "output_type": "stream",
          "text": [
            "Error fetching content: HTTPConnectionPool(host='on.cnn.com', port=80): Max retries exceeded with url: /1ckDfMr (Caused by ConnectTimeoutError(<urllib3.connection.HTTPConnection object at 0x7b451d26b490>, 'Connection to on.cnn.com timed out. (connect timeout=10)'))\n"
          ]
        },
        {
          "metadata": {
            "tags": null
          },
          "name": "stderr",
          "output_type": "stream",
          "text": [
            "Extracting content:  44%|████▍     | 1465/3299 [19:03<1:43:16,  3.38s/it]"
          ]
        },
        {
          "metadata": {
            "tags": null
          },
          "name": "stdout",
          "output_type": "stream",
          "text": [
            "Error fetching content: HTTPConnectionPool(host='on.cnn.com', port=80): Max retries exceeded with url: /17fASZX (Caused by ConnectTimeoutError(<urllib3.connection.HTTPConnection object at 0x7b451b7fc2b0>, 'Connection to on.cnn.com timed out. (connect timeout=10)'))\n"
          ]
        },
        {
          "metadata": {
            "tags": null
          },
          "name": "stderr",
          "output_type": "stream",
          "text": [
            "Extracting content:  44%|████▍     | 1467/3299 [19:14<2:24:09,  4.72s/it]"
          ]
        },
        {
          "metadata": {
            "tags": null
          },
          "name": "stdout",
          "output_type": "stream",
          "text": [
            "Error fetching content: HTTPConnectionPool(host='on.cnn.com', port=80): Max retries exceeded with url: /14VinpN (Caused by ConnectTimeoutError(<urllib3.connection.HTTPConnection object at 0x7b451b48d780>, 'Connection to on.cnn.com timed out. (connect timeout=10)'))\n"
          ]
        },
        {
          "metadata": {
            "tags": null
          },
          "name": "stderr",
          "output_type": "stream",
          "text": [
            "\rExtracting content:  44%|████▍     | 1468/3299 [19:24<3:12:34,  6.31s/it]"
          ]
        },
        {
          "metadata": {
            "tags": null
          },
          "name": "stdout",
          "output_type": "stream",
          "text": [
            "Error fetching content: HTTPConnectionPool(host='on.cnn.com', port=80): Max retries exceeded with url: /13XdD2S (Caused by ConnectTimeoutError(<urllib3.connection.HTTPConnection object at 0x7b451b48dfc0>, 'Connection to on.cnn.com timed out. (connect timeout=10)'))\n"
          ]
        },
        {
          "metadata": {
            "tags": null
          },
          "name": "stderr",
          "output_type": "stream",
          "text": [
            "Extracting content:  45%|████▍     | 1478/3299 [19:36<1:26:35,  2.85s/it]"
          ]
        },
        {
          "metadata": {
            "tags": null
          },
          "name": "stdout",
          "output_type": "stream",
          "text": [
            "Error fetching content: HTTPConnectionPool(host='on.cnn.com', port=80): Max retries exceeded with url: /1cVdUwc (Caused by ConnectTimeoutError(<urllib3.connection.HTTPConnection object at 0x7b451a406b60>, 'Connection to on.cnn.com timed out. (connect timeout=10)'))\n"
          ]
        },
        {
          "metadata": {
            "tags": null
          },
          "name": "stderr",
          "output_type": "stream",
          "text": [
            "Extracting content:  45%|████▍     | 1480/3299 [19:47<2:10:47,  4.31s/it]"
          ]
        },
        {
          "metadata": {
            "tags": null
          },
          "name": "stdout",
          "output_type": "stream",
          "text": [
            "Error fetching content: HTTPConnectionPool(host='on.cnn.com', port=80): Max retries exceeded with url: /1d3wr8I (Caused by ConnectTimeoutError(<urllib3.connection.HTTPConnection object at 0x7b451a085990>, 'Connection to on.cnn.com timed out. (connect timeout=10)'))\n"
          ]
        },
        {
          "metadata": {
            "tags": null
          },
          "name": "stderr",
          "output_type": "stream",
          "text": [
            "\rExtracting content:  45%|████▍     | 1481/3299 [19:47<1:36:30,  3.18s/it]"
          ]
        },
        {
          "metadata": {
            "tags": null
          },
          "name": "stdout",
          "output_type": "stream",
          "text": [
            "Error fetching content: Failed to parse: http://t.…\n"
          ]
        },
        {
          "metadata": {
            "tags": null
          },
          "name": "stderr",
          "output_type": "stream",
          "text": [
            "Extracting content:  45%|████▌     | 1488/3299 [19:58<1:42:12,  3.39s/it]"
          ]
        },
        {
          "metadata": {
            "tags": null
          },
          "name": "stdout",
          "output_type": "stream",
          "text": [
            "Error fetching content: HTTPConnectionPool(host='on.cnn.com', port=80): Max retries exceeded with url: /18A1BQf (Caused by ConnectTimeoutError(<urllib3.connection.HTTPConnection object at 0x7b4519181ea0>, 'Connection to on.cnn.com timed out. (connect timeout=10)'))\n"
          ]
        },
        {
          "metadata": {
            "tags": null
          },
          "name": "stderr",
          "output_type": "stream",
          "text": [
            "\rExtracting content:  45%|████▌     | 1489/3299 [20:08<2:39:56,  5.30s/it]"
          ]
        },
        {
          "metadata": {
            "tags": null
          },
          "name": "stdout",
          "output_type": "stream",
          "text": [
            "Error fetching content: HTTPConnectionPool(host='on.cnn.com', port=80): Max retries exceeded with url: /18zNhah (Caused by ConnectTimeoutError(<urllib3.connection.HTTPConnection object at 0x7b4519182740>, 'Connection to on.cnn.com timed out. (connect timeout=10)'))\n"
          ]
        },
        {
          "metadata": {
            "tags": null
          },
          "name": "stderr",
          "output_type": "stream",
          "text": [
            "\rExtracting content:  45%|████▌     | 1491/3299 [20:19<2:36:00,  5.18s/it]"
          ]
        },
        {
          "metadata": {
            "tags": null
          },
          "name": "stdout",
          "output_type": "stream",
          "text": [
            "Error fetching content: HTTPConnectionPool(host='on.cnn.com', port=80): Max retries exceeded with url: /16q8AgT (Caused by ConnectTimeoutError(<urllib3.connection.HTTPConnection object at 0x7b4519182980>, 'Connection to on.cnn.com timed out. (connect timeout=10)'))\n"
          ]
        },
        {
          "metadata": {
            "tags": null
          },
          "name": "stderr",
          "output_type": "stream",
          "text": [
            "Extracting content:  45%|████▌     | 1493/3299 [20:29<2:46:47,  5.54s/it]"
          ]
        },
        {
          "metadata": {
            "tags": null
          },
          "name": "stdout",
          "output_type": "stream",
          "text": [
            "Error fetching content: HTTPConnectionPool(host='on.cnn.com', port=80): Max retries exceeded with url: /14BTmPt (Caused by ConnectTimeoutError(<urllib3.connection.HTTPConnection object at 0x7b4518ffd900>, 'Connection to on.cnn.com timed out. (connect timeout=10)'))\n"
          ]
        },
        {
          "metadata": {
            "tags": null
          },
          "name": "stderr",
          "output_type": "stream",
          "text": [
            "Extracting content:  45%|████▌     | 1497/3299 [20:40<1:58:22,  3.94s/it]"
          ]
        },
        {
          "metadata": {
            "tags": null
          },
          "name": "stdout",
          "output_type": "stream",
          "text": [
            "Error fetching content: HTTPConnectionPool(host='on.cnn.com', port=80): Max retries exceeded with url: /1a61Ypn (Caused by ConnectTimeoutError(<urllib3.connection.HTTPConnection object at 0x7b4518ae7c10>, 'Connection to on.cnn.com timed out. (connect timeout=10)'))\n"
          ]
        },
        {
          "metadata": {
            "tags": null
          },
          "name": "stderr",
          "output_type": "stream",
          "text": [
            "Extracting content:  46%|████▌     | 1505/3299 [20:52<1:22:39,  2.76s/it]"
          ]
        },
        {
          "metadata": {
            "tags": null
          },
          "name": "stdout",
          "output_type": "stream",
          "text": [
            "Error fetching content: HTTPConnectionPool(host='on.cnn.com', port=80): Max retries exceeded with url: /1cIwDdA (Caused by ConnectTimeoutError(<urllib3.connection.HTTPConnection object at 0x7b4517c2e170>, 'Connection to on.cnn.com timed out. (connect timeout=10)'))\n"
          ]
        },
        {
          "metadata": {
            "tags": null
          },
          "name": "stderr",
          "output_type": "stream",
          "text": [
            "Extracting content:  46%|████▌     | 1508/3299 [21:02<1:56:51,  3.91s/it]"
          ]
        },
        {
          "metadata": {
            "tags": null
          },
          "name": "stdout",
          "output_type": "stream",
          "text": [
            "Error fetching content: HTTPConnectionPool(host='on.cnn.com', port=80): Max retries exceeded with url: /14emLPm (Caused by ConnectTimeoutError(<urllib3.connection.HTTPConnection object at 0x7b451772cac0>, 'Connection to on.cnn.com timed out. (connect timeout=10)'))\n"
          ]
        },
        {
          "metadata": {
            "tags": null
          },
          "name": "stderr",
          "output_type": "stream",
          "text": [
            "\rExtracting content:  46%|████▌     | 1509/3299 [21:12<2:47:25,  5.61s/it]"
          ]
        },
        {
          "metadata": {
            "tags": null
          },
          "name": "stdout",
          "output_type": "stream",
          "text": [
            "Error fetching content: HTTPConnectionPool(host='on.cnn.com', port=80): Max retries exceeded with url: /14e3Rs3 (Caused by ConnectTimeoutError(<urllib3.connection.HTTPConnection object at 0x7b451772d1e0>, 'Connection to on.cnn.com timed out. (connect timeout=10)'))\n"
          ]
        },
        {
          "metadata": {
            "tags": null
          },
          "name": "stderr",
          "output_type": "stream",
          "text": [
            "Extracting content:  46%|████▌     | 1511/3299 [21:23<2:53:53,  5.84s/it]"
          ]
        },
        {
          "metadata": {
            "tags": null
          },
          "name": "stdout",
          "output_type": "stream",
          "text": [
            "Error fetching content: HTTPConnectionPool(host='on.cnn.com', port=80): Max retries exceeded with url: /13n9THC (Caused by ConnectTimeoutError(<urllib3.connection.HTTPConnection object at 0x7b4517572620>, 'Connection to on.cnn.com timed out. (connect timeout=10)'))\n"
          ]
        },
        {
          "metadata": {
            "tags": null
          },
          "name": "stderr",
          "output_type": "stream",
          "text": [
            "Extracting content:  46%|████▌     | 1514/3299 [21:33<2:32:13,  5.12s/it]"
          ]
        },
        {
          "metadata": {
            "tags": null
          },
          "name": "stdout",
          "output_type": "stream",
          "text": [
            "Error fetching content: HTTPConnectionPool(host='on.cnn.com', port=80): Max retries exceeded with url: /145lev5 (Caused by ConnectTimeoutError(<urllib3.connection.HTTPConnection object at 0x7b4517603790>, 'Connection to on.cnn.com timed out. (connect timeout=10)'))\n"
          ]
        },
        {
          "metadata": {
            "tags": null
          },
          "name": "stderr",
          "output_type": "stream",
          "text": [
            "Extracting content:  46%|████▌     | 1518/3299 [21:44<2:06:33,  4.26s/it]"
          ]
        },
        {
          "metadata": {
            "tags": null
          },
          "name": "stdout",
          "output_type": "stream",
          "text": [
            "Error fetching content: HTTPConnectionPool(host='on.cnn.com', port=80): Max retries exceeded with url: /15KDAFB (Caused by ConnectTimeoutError(<urllib3.connection.HTTPConnection object at 0x7b45170ad1b0>, 'Connection to on.cnn.com timed out. (connect timeout=10)'))\n"
          ]
        },
        {
          "metadata": {
            "tags": null
          },
          "name": "stderr",
          "output_type": "stream",
          "text": [
            "\rExtracting content:  46%|████▌     | 1519/3299 [21:54<2:52:43,  5.82s/it]"
          ]
        },
        {
          "metadata": {
            "tags": null
          },
          "name": "stdout",
          "output_type": "stream",
          "text": [
            "Error fetching content: HTTPConnectionPool(host='on.cnn.com', port=80): Max retries exceeded with url: /15LPu1X (Caused by ConnectTimeoutError(<urllib3.connection.HTTPConnection object at 0x7b45170ad9f0>, 'Connection to on.cnn.com timed out. (connect timeout=10)'))\n"
          ]
        },
        {
          "metadata": {
            "tags": null
          },
          "name": "stderr",
          "output_type": "stream",
          "text": [
            "Extracting content:  46%|████▌     | 1523/3299 [22:05<2:12:04,  4.46s/it]"
          ]
        },
        {
          "metadata": {
            "tags": null
          },
          "name": "stdout",
          "output_type": "stream",
          "text": [
            "Error fetching content: HTTPConnectionPool(host='on.cnn.com', port=80): Max retries exceeded with url: /12V7EQL (Caused by ConnectTimeoutError(<urllib3.connection.HTTPConnection object at 0x7b4516d25090>, 'Connection to on.cnn.com timed out. (connect timeout=10)'))\n"
          ]
        },
        {
          "metadata": {
            "tags": null
          },
          "name": "stderr",
          "output_type": "stream",
          "text": [
            "Extracting content:  46%|████▋     | 1527/3299 [22:15<2:00:16,  4.07s/it]"
          ]
        },
        {
          "metadata": {
            "tags": null
          },
          "name": "stdout",
          "output_type": "stream",
          "text": [
            "Error fetching content: HTTPConnectionPool(host='on.cnn.com', port=80): Max retries exceeded with url: /1ehdA6x (Caused by ConnectTimeoutError(<urllib3.connection.HTTPConnection object at 0x7b4516bafeb0>, 'Connection to on.cnn.com timed out. (connect timeout=10)'))\n"
          ]
        },
        {
          "metadata": {
            "tags": null
          },
          "name": "stderr",
          "output_type": "stream",
          "text": [
            "\rExtracting content:  46%|████▋     | 1528/3299 [22:25<2:46:03,  5.63s/it]"
          ]
        },
        {
          "metadata": {
            "tags": null
          },
          "name": "stdout",
          "output_type": "stream",
          "text": [
            "Error fetching content: HTTPConnectionPool(host='on.cnn.com', port=80): Max retries exceeded with url: /19BXRBn (Caused by ConnectTimeoutError(<urllib3.connection.HTTPConnection object at 0x7b4516be88b0>, 'Connection to on.cnn.com timed out. (connect timeout=10)'))\n"
          ]
        },
        {
          "metadata": {
            "tags": null
          },
          "name": "stderr",
          "output_type": "stream",
          "text": [
            "\rExtracting content:  46%|████▋     | 1529/3299 [22:35<3:21:12,  6.82s/it]"
          ]
        },
        {
          "metadata": {
            "tags": null
          },
          "name": "stdout",
          "output_type": "stream",
          "text": [
            "Error fetching content: HTTPConnectionPool(host='on.cnn.com', port=80): Max retries exceeded with url: /19BPLZx (Caused by ConnectTimeoutError(<urllib3.connection.HTTPConnection object at 0x7b4516be90f0>, 'Connection to on.cnn.com timed out. (connect timeout=10)'))\n"
          ]
        },
        {
          "metadata": {
            "tags": null
          },
          "name": "stderr",
          "output_type": "stream",
          "text": [
            "Extracting content:  46%|████▋     | 1531/3299 [22:46<3:09:27,  6.43s/it]"
          ]
        },
        {
          "metadata": {
            "tags": null
          },
          "name": "stdout",
          "output_type": "stream",
          "text": [
            "Error fetching content: HTTPConnectionPool(host='on.cnn.com', port=80): Max retries exceeded with url: /1aZuSVO (Caused by ConnectTimeoutError(<urllib3.connection.HTTPConnection object at 0x7b451682a7a0>, 'Connection to on.cnn.com timed out. (connect timeout=10)'))\n"
          ]
        },
        {
          "metadata": {
            "tags": null
          },
          "name": "stderr",
          "output_type": "stream",
          "text": [
            "Extracting content:  47%|████▋     | 1537/3299 [22:57<1:43:30,  3.52s/it]"
          ]
        },
        {
          "metadata": {
            "tags": null
          },
          "name": "stdout",
          "output_type": "stream",
          "text": [
            "Error fetching content: HTTPConnectionPool(host='on.cnn.com', port=80): Max retries exceeded with url: /1ebuQdp (Caused by ConnectTimeoutError(<urllib3.connection.HTTPConnection object at 0x7b4515e25360>, 'Connection to on.cnn.com timed out. (connect timeout=10)'))\n"
          ]
        },
        {
          "metadata": {
            "tags": null
          },
          "name": "stderr",
          "output_type": "stream",
          "text": [
            "Extracting content:  47%|████▋     | 1540/3299 [23:07<2:04:48,  4.26s/it]"
          ]
        },
        {
          "metadata": {
            "tags": null
          },
          "name": "stdout",
          "output_type": "stream",
          "text": [
            "Error fetching content: HTTPConnectionPool(host='on.cnn.com', port=80): Max retries exceeded with url: /13i1ZCE (Caused by ConnectTimeoutError(<urllib3.connection.HTTPConnection object at 0x7b451591c2e0>, 'Connection to on.cnn.com timed out. (connect timeout=10)'))\n"
          ]
        },
        {
          "metadata": {
            "tags": null
          },
          "name": "stderr",
          "output_type": "stream",
          "text": [
            "Extracting content:  47%|████▋     | 1542/3299 [23:18<2:30:51,  5.15s/it]"
          ]
        },
        {
          "metadata": {
            "tags": null
          },
          "name": "stdout",
          "output_type": "stream",
          "text": [
            "Error fetching content: HTTPConnectionPool(host='on.cnn.com', port=80): Max retries exceeded with url: /13X0Hg2 (Caused by ConnectTimeoutError(<urllib3.connection.HTTPConnection object at 0x7b45157980a0>, 'Connection to on.cnn.com timed out. (connect timeout=10)'))\n"
          ]
        },
        {
          "metadata": {
            "tags": null
          },
          "name": "stderr",
          "output_type": "stream",
          "text": [
            "\rExtracting content:  47%|████▋     | 1543/3299 [23:28<3:12:21,  6.57s/it]"
          ]
        },
        {
          "metadata": {
            "tags": null
          },
          "name": "stdout",
          "output_type": "stream",
          "text": [
            "Error fetching content: HTTPConnectionPool(host='on.cnn.com', port=80): Max retries exceeded with url: /13shzba (Caused by ConnectTimeoutError(<urllib3.connection.HTTPConnection object at 0x7b45157988e0>, 'Connection to on.cnn.com timed out. (connect timeout=10)'))\n"
          ]
        },
        {
          "metadata": {
            "tags": null
          },
          "name": "stderr",
          "output_type": "stream",
          "text": [
            "Extracting content:  48%|████▊     | 1583/3299 [23:50<1:09:44,  2.44s/it]"
          ]
        },
        {
          "metadata": {
            "tags": null
          },
          "name": "stdout",
          "output_type": "stream",
          "text": [
            "Error fetching content: HTTPConnectionPool(host='on.cnn.com', port=80): Max retries exceeded with url: /1bJzyAH (Caused by ConnectTimeoutError(<urllib3.connection.HTTPConnection object at 0x7b4510e80ee0>, 'Connection to on.cnn.com timed out. (connect timeout=10)'))\n"
          ]
        },
        {
          "metadata": {
            "tags": null
          },
          "name": "stderr",
          "output_type": "stream",
          "text": [
            "Extracting content:  50%|████▉     | 1637/3299 [24:01<07:09,  3.87it/s]"
          ]
        },
        {
          "metadata": {
            "tags": null
          },
          "name": "stdout",
          "output_type": "stream",
          "text": [
            "Error fetching content: HTTPConnectionPool(host='on.cnn.com', port=80): Max retries exceeded with url: /15fu7nP (Caused by ConnectTimeoutError(<urllib3.connection.HTTPConnection object at 0x7b45105f7730>, 'Connection to on.cnn.com timed out. (connect timeout=10)'))\n"
          ]
        },
        {
          "metadata": {
            "tags": null
          },
          "name": "stderr",
          "output_type": "stream",
          "text": [
            "Extracting content:  51%|█████     | 1671/3299 [24:02<02:16, 11.90it/s]"
          ]
        },
        {
          "metadata": {
            "tags": null
          },
          "name": "stdout",
          "output_type": "stream",
          "text": [
            "Error fetching content: ('Connection aborted.', RemoteDisconnected('Remote end closed connection without response'))\n",
            "Error fetching content: ('Connection aborted.', RemoteDisconnected('Remote end closed connection without response'))\n"
          ]
        },
        {
          "metadata": {
            "tags": null
          },
          "name": "stderr",
          "output_type": "stream",
          "text": [
            "Extracting content:  52%|█████▏    | 1724/3299 [24:02<00:36, 43.46it/s]"
          ]
        },
        {
          "metadata": {
            "tags": null
          },
          "name": "stdout",
          "output_type": "stream",
          "text": [
            "Error fetching content: HTTPConnectionPool(host='on.cnn.com', port=80): Max retries exceeded with url: /11pVr3P (Caused by ConnectTimeoutError(<urllib3.connection.HTTPConnection object at 0x7b45105f78b0>, 'Connection to on.cnn.com timed out. (connect timeout=10)'))\n"
          ]
        },
        {
          "metadata": {
            "tags": null
          },
          "name": "stderr",
          "output_type": "stream",
          "text": [
            "\rExtracting content:  53%|█████▎    | 1737/3299 [24:12<06:43,  3.87it/s]"
          ]
        },
        {
          "metadata": {
            "tags": null
          },
          "name": "stdout",
          "output_type": "stream",
          "text": [
            "Error fetching content: Failed to parse: http://t.co…\n"
          ]
        },
        {
          "metadata": {
            "tags": null
          },
          "name": "stderr",
          "output_type": "stream",
          "text": [
            "\rExtracting content:  53%|█████▎    | 1742/3299 [24:22<13:11,  1.97it/s]"
          ]
        },
        {
          "metadata": {
            "tags": null
          },
          "name": "stdout",
          "output_type": "stream",
          "text": [
            "Error fetching content: HTTPConnectionPool(host='on.cnn.com', port=80): Max retries exceeded with url: /16KclLy (Caused by ConnectTimeoutError(<urllib3.connection.HTTPConnection object at 0x7b4510280eb0>, 'Connection to on.cnn.com timed out. (connect timeout=10)'))\n"
          ]
        },
        {
          "metadata": {
            "tags": null
          },
          "name": "stderr",
          "output_type": "stream",
          "text": [
            "\rExtracting content:  53%|█████▎    | 1743/3299 [24:24<14:04,  1.84it/s]"
          ]
        },
        {
          "metadata": {
            "tags": null
          },
          "name": "stdout",
          "output_type": "stream",
          "text": [
            "Error fetching content: HTTPConnectionPool(host='on.cnn.com', port=80): Max retries exceeded with url: /102LiJF (Caused by ConnectTimeoutError(<urllib3.connection.HTTPConnection object at 0x7b45102819c0>, 'Connection to on.cnn.com timed out. (connect timeout=10)'))\n"
          ]
        },
        {
          "metadata": {
            "tags": null
          },
          "name": "stderr",
          "output_type": "stream",
          "text": [
            "Extracting content:  53%|█████▎    | 1745/3299 [24:44<38:46,  1.50s/it]"
          ]
        },
        {
          "metadata": {
            "tags": null
          },
          "name": "stdout",
          "output_type": "stream",
          "text": [
            "Error fetching content: HTTPConnectionPool(host='on.cnn.com', port=80): Max retries exceeded with url: /102JZKw (Caused by ConnectTimeoutError(<urllib3.connection.HTTPConnection object at 0x7b4510282620>, 'Connection to on.cnn.com timed out. (connect timeout=10)'))\n"
          ]
        },
        {
          "metadata": {
            "tags": null
          },
          "name": "stderr",
          "output_type": "stream",
          "text": [
            "\rExtracting content:  53%|█████▎    | 1746/3299 [24:54<53:34,  2.07s/it]"
          ]
        },
        {
          "metadata": {
            "tags": null
          },
          "name": "stdout",
          "output_type": "stream",
          "text": [
            "Error fetching content: HTTPConnectionPool(host='on.cnn.com', port=80): Max retries exceeded with url: /1038PKd (Caused by ConnectTimeoutError(<urllib3.connection.HTTPConnection object at 0x7b4510282ce0>, 'Connection to on.cnn.com timed out. (connect timeout=10)'))\n"
          ]
        },
        {
          "metadata": {
            "tags": null
          },
          "name": "stderr",
          "output_type": "stream",
          "text": [
            "\rExtracting content:  53%|█████▎    | 1747/3299 [25:04<1:11:32,  2.77s/it]"
          ]
        },
        {
          "metadata": {
            "tags": null
          },
          "name": "stdout",
          "output_type": "stream",
          "text": [
            "Error fetching content: HTTPConnectionPool(host='on.cnn.com', port=80): Max retries exceeded with url: /102IGeK (Caused by ConnectTimeoutError(<urllib3.connection.HTTPConnection object at 0x7b4510283520>, 'Connection to on.cnn.com timed out. (connect timeout=10)'))\n"
          ]
        },
        {
          "metadata": {
            "tags": null
          },
          "name": "stderr",
          "output_type": "stream",
          "text": [
            "\rExtracting content:  53%|█████▎    | 1748/3299 [25:06<1:08:47,  2.66s/it]"
          ]
        },
        {
          "metadata": {
            "tags": null
          },
          "name": "stdout",
          "output_type": "stream",
          "text": [
            "Error fetching content: HTTPConnectionPool(host='on.cnn.com', port=80): Max retries exceeded with url: /102IGeK (Caused by ConnectTimeoutError(<urllib3.connection.HTTPConnection object at 0x7b45102827d0>, 'Connection to on.cnn.com timed out. (connect timeout=10)'))\n"
          ]
        },
        {
          "metadata": {
            "tags": null
          },
          "name": "stderr",
          "output_type": "stream",
          "text": [
            "Extracting content:  53%|█████▎    | 1763/3299 [25:26<35:12,  1.38s/it]  "
          ]
        },
        {
          "metadata": {
            "tags": null
          },
          "name": "stdout",
          "output_type": "stream",
          "text": [
            "Error fetching content: HTTPConnectionPool(host='on.cnn.com', port=80): Max retries exceeded with url: /102KWCK (Caused by ConnectTimeoutError(<urllib3.connection.HTTPConnection object at 0x7b4510282c80>, 'Connection to on.cnn.com timed out. (connect timeout=10)'))\n"
          ]
        },
        {
          "metadata": {
            "tags": null
          },
          "name": "stderr",
          "output_type": "stream",
          "text": [
            "Extracting content:  58%|█████▊    | 1903/3299 [25:38<06:38,  3.50it/s]"
          ]
        },
        {
          "metadata": {
            "tags": null
          },
          "name": "stdout",
          "output_type": "stream",
          "text": [
            "Error fetching content: HTTPConnectionPool(host='on.cnn.com', port=80): Max retries exceeded with url: /10plI1Z (Caused by ConnectTimeoutError(<urllib3.connection.HTTPConnection object at 0x7b45102c5c00>, 'Connection to on.cnn.com timed out. (connect timeout=10)'))\n"
          ]
        },
        {
          "metadata": {
            "tags": null
          },
          "name": "stderr",
          "output_type": "stream",
          "text": [
            "Extracting content:  59%|█████▉    | 1954/3299 [25:50<06:57,  3.22it/s]"
          ]
        },
        {
          "metadata": {
            "tags": null
          },
          "name": "stdout",
          "output_type": "stream",
          "text": [
            "Error fetching content: HTTPConnectionPool(host='on.cnn.com', port=80): Max retries exceeded with url: /10IBAw0 (Caused by ConnectTimeoutError(<urllib3.connection.HTTPConnection object at 0x7b450ff42f80>, 'Connection to on.cnn.com timed out. (connect timeout=10)'))\n"
          ]
        },
        {
          "metadata": {
            "tags": null
          },
          "name": "stderr",
          "output_type": "stream",
          "text": [
            "Extracting content:  61%|██████▏   | 2027/3299 [25:53<01:26, 14.78it/s]"
          ]
        },
        {
          "metadata": {
            "tags": null
          },
          "name": "stdout",
          "output_type": "stream",
          "text": [
            "Error fetching content: ('Connection aborted.', RemoteDisconnected('Remote end closed connection without response'))\n"
          ]
        },
        {
          "metadata": {
            "tags": null
          },
          "name": "stderr",
          "output_type": "stream",
          "text": [
            "Extracting content:  62%|██████▏   | 2046/3299 [26:03<05:03,  4.13it/s]"
          ]
        },
        {
          "metadata": {
            "tags": null
          },
          "name": "stdout",
          "output_type": "stream",
          "text": [
            "Error fetching content: HTTPConnectionPool(host='on.cnn.com', port=80): Max retries exceeded with url: /15ApskV (Caused by ConnectTimeoutError(<urllib3.connection.HTTPConnection object at 0x7b450fbfe230>, 'Connection to on.cnn.com timed out. (connect timeout=10)'))\n"
          ]
        },
        {
          "metadata": {
            "tags": null
          },
          "name": "stderr",
          "output_type": "stream",
          "text": [
            "Extracting content:  76%|███████▌  | 2500/3299 [26:29<00:23, 34.11it/s]"
          ]
        },
        {
          "metadata": {
            "tags": null
          },
          "name": "stdout",
          "output_type": "stream",
          "text": [
            "Error fetching content: HTTPConnectionPool(host='t.c', port=80): Max retries exceeded with url: / (Caused by NameResolutionError(\"<urllib3.connection.HTTPConnection object at 0x7b450f5a4fd0>: Failed to resolve 't.c' ([Errno -2] Name or service not known)\"))\n"
          ]
        },
        {
          "metadata": {
            "tags": null
          },
          "name": "stderr",
          "output_type": "stream",
          "text": [
            "Extracting content:  76%|███████▋  | 2521/3299 [26:29<00:20, 38.39it/s]"
          ]
        },
        {
          "metadata": {
            "tags": null
          },
          "name": "stdout",
          "output_type": "stream",
          "text": [
            "Error fetching content: HTTPSConnectionPool(host='makingcancerhistory.com', port=443): Max retries exceeded with url: /WhyMDA/Myths.html (Caused by SSLError(SSLError(1, '[SSL: WRONG_SIGNATURE_TYPE] wrong signature type (_ssl.c:1007)')))\n"
          ]
        },
        {
          "metadata": {
            "tags": null
          },
          "name": "stderr",
          "output_type": "stream",
          "text": [
            "Extracting content:  80%|███████▉  | 2639/3299 [26:34<00:12, 51.48it/s]"
          ]
        },
        {
          "metadata": {
            "tags": null
          },
          "name": "stdout",
          "output_type": "stream",
          "text": [
            "Error fetching content: HTTPConnectionPool(host='t.', port=80): Max retries exceeded with url: / (Caused by NameResolutionError(\"<urllib3.connection.HTTPConnection object at 0x7b450f139e40>: Failed to resolve 't' ([Errno -2] Name or service not known)\"))\n"
          ]
        },
        {
          "metadata": {
            "tags": null
          },
          "name": "stderr",
          "output_type": "stream",
          "text": [
            "Extracting content:  81%|████████  | 2662/3299 [26:34<00:13, 47.87it/s]"
          ]
        },
        {
          "metadata": {
            "tags": null
          },
          "name": "stdout",
          "output_type": "stream",
          "text": [
            "Error fetching content: HTTPConnectionPool(host='t.c', port=80): Max retries exceeded with url: / (Caused by NameResolutionError(\"<urllib3.connection.HTTPConnection object at 0x7b450f13b610>: Failed to resolve 't.c' ([Errno -2] Name or service not known)\"))\n"
          ]
        },
        {
          "metadata": {
            "tags": null
          },
          "name": "stderr",
          "output_type": "stream",
          "text": [
            "Extracting content: 100%|██████████| 3299/3299 [26:55<00:00,  2.04it/s]"
          ]
        },
        {
          "metadata": {
            "tags": null
          },
          "name": "stdout",
          "output_type": "stream",
          "text": [
            "Error fetching content: HTTPConnectionPool(host='on.cnn.com', port=80): Max retries exceeded with url: /SO1PxT (Caused by ConnectTimeoutError(<urllib3.connection.HTTPConnection object at 0x7b450dbd85b0>, 'Connection to on.cnn.com timed out. (connect timeout=10)'))\n"
          ]
        },
        {
          "metadata": {
            "tags": null
          },
          "name": "stderr",
          "output_type": "stream",
          "text": [
            "\n"
          ]
        }
      ]
    },
    {
      "cell_type": "code",
      "source": [
        "# Drop rows with missing content\n",
        "cnnhealth.dropna(subset=['Content'], inplace=True)\n",
        "\n",
        "# Combine content paragraphs into a single string\n",
        "cnnhealth['Content'] = [\" \".join([p_tag.text.strip() for p_tag in content]) for content in cnnhealth['Content']]"
      ],
      "metadata": {
        "id": "G_1LYUMD-Ofm"
      },
      "execution_count": 6,
      "outputs": []
    },
    {
      "cell_type": "code",
      "source": [
        "# Clean the content data\n",
        "def clean_text(text):\n",
        "    text = re.sub(r'-', ' ', text)  # Substitute hyphens with empty spaces\n",
        "    text = re.sub(r'[^a-zA-Z\\s]', '', text)  # Remove non-alphabetic characters\n",
        "    text = text.lower()  # Convert text to lowercase\n",
        "    return text\n",
        "\n",
        "cnnhealth['Content'] = cnnhealth['Content'].apply(clean_text)"
      ],
      "metadata": {
        "id": "dkaPESWZHcB_"
      },
      "execution_count": 7,
      "outputs": []
    },
    {
      "cell_type": "code",
      "source": [
        "# Convert to wordnet tags\n",
        "def get_wordnet_pos(tag):\n",
        "    if tag.startswith('J'):\n",
        "        return wordnet.ADJ\n",
        "    elif tag.startswith('V'):\n",
        "        return wordnet.VERB\n",
        "    elif tag.startswith('N'):\n",
        "        return wordnet.NOUN\n",
        "    elif tag.startswith('R'):\n",
        "        return wordnet.ADV\n",
        "    else:\n",
        "        return None  # Use default POS for lemmatization"
      ],
      "metadata": {
        "id": "-1323tzLOuRf"
      },
      "execution_count": 8,
      "outputs": []
    },
    {
      "cell_type": "code",
      "source": [
        "# Tokenize and preprocess text data\n",
        "def preprocess_text(text):\n",
        "    tokens = word_tokenize(text)  # Tokenize text\n",
        "    lemmatizer = WordNetLemmatizer()  # Initialize lemmatizer\n",
        "    pos_tags = nltk.pos_tag(tokens)  # Get part-of-speech tags\n",
        "    for i, (token, tag) in enumerate(pos_tags):\n",
        "        pos = get_wordnet_pos(tag)  # Convert NLTK POS tags to WordNet POS tags\n",
        "        if pos:\n",
        "            tokens[i] = lemmatizer.lemmatize(token, pos=pos)  # Lemmatize tokens\n",
        "        else:\n",
        "            tokens[i] = lemmatizer.lemmatize(token)  # Use default POS for lemmatization\n",
        "    stop_words = set(stopwords.words('english'))  # Get stopwords\n",
        "    custom_stopwords = [    # Custom stopwords\n",
        "    \"patient\", \"doctor\", \"say\", \"year\", \"state\", \"day\", \"need\", \"come\", \"well\",\n",
        "    \"make\", \"think\", \"know\", \"go\", \"use\", \"one\", \"like\", \"people\", \"may\",\n",
        "    \"many\", \"still\", \"even\", \"two\", \"way\", \"good\", \"much\", \"back\", \"new\",\n",
        "    \"time\", \"first\", \"really\",\n",
        "    \"a\", \"b\", \"c\", \"d\", \"e\", \"f\", \"g\", \"h\", \"i\", \"j\", \"k\", \"l\", \"m\", \"n\",\n",
        "    \"o\", \"p\", \"q\", \"r\", \"s\", \"t\", \"u\", \"v\", \"w\", \"x\", \"y\", \"z\"\n",
        "    ]\n",
        "    tokens = [token for token in tokens if token not in stop_words and token not in custom_stopwords]  # Remove stopwords\n",
        "    return ' '.join(tokens)\n",
        "\n",
        "cnnhealth['Content'] = cnnhealth['Content'].apply(preprocess_text)"
      ],
      "metadata": {
        "id": "8kLZQrTPzm1p"
      },
      "execution_count": 9,
      "outputs": []
    },
    {
      "cell_type": "code",
      "source": [
        "# Save preprocessed data to CSV\n",
        "cnnhealth.to_csv('cnnhealth_preprocessed.csv', index=False)"
      ],
      "metadata": {
        "id": "49KAL4r3AS2y"
      },
      "execution_count": 10,
      "outputs": []
    }
  ]
}