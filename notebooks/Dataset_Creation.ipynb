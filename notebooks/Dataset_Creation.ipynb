{
  "nbformat": 4,
  "nbformat_minor": 0,
  "metadata": {
    "colab": {
      "provenance": [],
      "authorship_tag": "ABX9TyO9u+WjUAof8R5ItWLeWFxM",
      "include_colab_link": true
    },
    "kernelspec": {
      "name": "python3",
      "display_name": "Python 3"
    },
    "language_info": {
      "name": "python"
    }
  },
  "cells": [
    {
      "cell_type": "markdown",
      "metadata": {
        "id": "view-in-github",
        "colab_type": "text"
      },
      "source": [
        "<a href=\"https://colab.research.google.com/github/ChaithanyaSaiB/UMBC-DATA606-Capstone/blob/main/notebooks/Dataset_Creation.ipynb\" target=\"_parent\"><img src=\"https://colab.research.google.com/assets/colab-badge.svg\" alt=\"Open In Colab\"/></a>"
      ]
    },
    {
      "cell_type": "code",
      "source": [
        "# Importing necessary libraries\n",
        "import pandas as pd\n",
        "import re\n",
        "import os\n",
        "import requests\n",
        "from bs4 import BeautifulSoup\n",
        "import nltk\n",
        "from nltk.tokenize import word_tokenize\n",
        "from nltk.corpus import stopwords\n",
        "from nltk.stem import WordNetLemmatizer\n",
        "from nltk.corpus import wordnet\n",
        "# Import the tqdm library for progress bar\n",
        "from tqdm import tqdm\n",
        "\n",
        "# Download NLTK resources\n",
        "nltk.download('punkt')\n",
        "nltk.download('stopwords')\n",
        "nltk.download('averaged_perceptron_tagger')\n",
        "nltk.download('wordnet')"
      ],
      "metadata": {
        "id": "8kh4t6C6WttG",
        "outputId": "6a1a6bc6-3bea-4106-ff3e-f9bd63453cc2",
        "colab": {
          "base_uri": "https://localhost:8080/"
        }
      },
      "execution_count": 2,
      "outputs": [
        {
          "output_type": "stream",
          "name": "stderr",
          "text": [
            "[nltk_data] Downloading package punkt to /root/nltk_data...\n",
            "[nltk_data]   Unzipping tokenizers/punkt.zip.\n",
            "[nltk_data] Downloading package stopwords to /root/nltk_data...\n",
            "[nltk_data]   Unzipping corpora/stopwords.zip.\n",
            "[nltk_data] Downloading package averaged_perceptron_tagger to\n",
            "[nltk_data]     /root/nltk_data...\n",
            "[nltk_data]   Unzipping taggers/averaged_perceptron_tagger.zip.\n",
            "[nltk_data] Downloading package wordnet to /root/nltk_data...\n"
          ]
        },
        {
          "output_type": "execute_result",
          "data": {
            "text/plain": [
              "True"
            ]
          },
          "metadata": {},
          "execution_count": 2
        }
      ]
    },
    {
      "cell_type": "code",
      "execution_count": null,
      "metadata": {
        "colab": {
          "base_uri": "https://localhost:8080/",
          "height": 206
        },
        "id": "G9VMqiw81-c6",
        "outputId": "743bb398-f5b4-4f40-ab8a-7f60f5daff6e"
      },
      "outputs": [
        {
          "output_type": "execute_result",
          "data": {
            "text/plain": [
              "                   ID                        DateTime  \\\n",
              "0  576880531301801984  Sat Mar 14 23:00:11 +0000 2015   \n",
              "1  576820122666471424  Sat Mar 14 19:00:08 +0000 2015   \n",
              "2  576744652717461504  Sat Mar 14 14:00:15 +0000 2015   \n",
              "3  576736754436304896  Sat Mar 14 13:28:52 +0000 2015   \n",
              "4  576736614766010368  Sat Mar 14 13:28:18 +0000 2015   \n",
              "\n",
              "                              Article Title and Link  \n",
              "0  An abundance of online info can turn us into e...  \n",
              "1  A plant-based diet that incorporates fish may ...  \n",
              "2  It doesn't take much to damage your hearing at...  \n",
              "3  RT @CNN: Forever young? Discover this island’s...  \n",
              "4  RT @CNN: Is post-traumatic stress disorder in ...  "
            ],
            "text/html": [
              "\n",
              "  <div id=\"df-01863593-6fec-4779-b8d7-55c8e1ca0f75\" class=\"colab-df-container\">\n",
              "    <div>\n",
              "<style scoped>\n",
              "    .dataframe tbody tr th:only-of-type {\n",
              "        vertical-align: middle;\n",
              "    }\n",
              "\n",
              "    .dataframe tbody tr th {\n",
              "        vertical-align: top;\n",
              "    }\n",
              "\n",
              "    .dataframe thead th {\n",
              "        text-align: right;\n",
              "    }\n",
              "</style>\n",
              "<table border=\"1\" class=\"dataframe\">\n",
              "  <thead>\n",
              "    <tr style=\"text-align: right;\">\n",
              "      <th></th>\n",
              "      <th>ID</th>\n",
              "      <th>DateTime</th>\n",
              "      <th>Article Title and Link</th>\n",
              "    </tr>\n",
              "  </thead>\n",
              "  <tbody>\n",
              "    <tr>\n",
              "      <th>0</th>\n",
              "      <td>576880531301801984</td>\n",
              "      <td>Sat Mar 14 23:00:11 +0000 2015</td>\n",
              "      <td>An abundance of online info can turn us into e...</td>\n",
              "    </tr>\n",
              "    <tr>\n",
              "      <th>1</th>\n",
              "      <td>576820122666471424</td>\n",
              "      <td>Sat Mar 14 19:00:08 +0000 2015</td>\n",
              "      <td>A plant-based diet that incorporates fish may ...</td>\n",
              "    </tr>\n",
              "    <tr>\n",
              "      <th>2</th>\n",
              "      <td>576744652717461504</td>\n",
              "      <td>Sat Mar 14 14:00:15 +0000 2015</td>\n",
              "      <td>It doesn't take much to damage your hearing at...</td>\n",
              "    </tr>\n",
              "    <tr>\n",
              "      <th>3</th>\n",
              "      <td>576736754436304896</td>\n",
              "      <td>Sat Mar 14 13:28:52 +0000 2015</td>\n",
              "      <td>RT @CNN: Forever young? Discover this island’s...</td>\n",
              "    </tr>\n",
              "    <tr>\n",
              "      <th>4</th>\n",
              "      <td>576736614766010368</td>\n",
              "      <td>Sat Mar 14 13:28:18 +0000 2015</td>\n",
              "      <td>RT @CNN: Is post-traumatic stress disorder in ...</td>\n",
              "    </tr>\n",
              "  </tbody>\n",
              "</table>\n",
              "</div>\n",
              "    <div class=\"colab-df-buttons\">\n",
              "\n",
              "  <div class=\"colab-df-container\">\n",
              "    <button class=\"colab-df-convert\" onclick=\"convertToInteractive('df-01863593-6fec-4779-b8d7-55c8e1ca0f75')\"\n",
              "            title=\"Convert this dataframe to an interactive table.\"\n",
              "            style=\"display:none;\">\n",
              "\n",
              "  <svg xmlns=\"http://www.w3.org/2000/svg\" height=\"24px\" viewBox=\"0 -960 960 960\">\n",
              "    <path d=\"M120-120v-720h720v720H120Zm60-500h600v-160H180v160Zm220 220h160v-160H400v160Zm0 220h160v-160H400v160ZM180-400h160v-160H180v160Zm440 0h160v-160H620v160ZM180-180h160v-160H180v160Zm440 0h160v-160H620v160Z\"/>\n",
              "  </svg>\n",
              "    </button>\n",
              "\n",
              "  <style>\n",
              "    .colab-df-container {\n",
              "      display:flex;\n",
              "      gap: 12px;\n",
              "    }\n",
              "\n",
              "    .colab-df-convert {\n",
              "      background-color: #E8F0FE;\n",
              "      border: none;\n",
              "      border-radius: 50%;\n",
              "      cursor: pointer;\n",
              "      display: none;\n",
              "      fill: #1967D2;\n",
              "      height: 32px;\n",
              "      padding: 0 0 0 0;\n",
              "      width: 32px;\n",
              "    }\n",
              "\n",
              "    .colab-df-convert:hover {\n",
              "      background-color: #E2EBFA;\n",
              "      box-shadow: 0px 1px 2px rgba(60, 64, 67, 0.3), 0px 1px 3px 1px rgba(60, 64, 67, 0.15);\n",
              "      fill: #174EA6;\n",
              "    }\n",
              "\n",
              "    .colab-df-buttons div {\n",
              "      margin-bottom: 4px;\n",
              "    }\n",
              "\n",
              "    [theme=dark] .colab-df-convert {\n",
              "      background-color: #3B4455;\n",
              "      fill: #D2E3FC;\n",
              "    }\n",
              "\n",
              "    [theme=dark] .colab-df-convert:hover {\n",
              "      background-color: #434B5C;\n",
              "      box-shadow: 0px 1px 3px 1px rgba(0, 0, 0, 0.15);\n",
              "      filter: drop-shadow(0px 1px 2px rgba(0, 0, 0, 0.3));\n",
              "      fill: #FFFFFF;\n",
              "    }\n",
              "  </style>\n",
              "\n",
              "    <script>\n",
              "      const buttonEl =\n",
              "        document.querySelector('#df-01863593-6fec-4779-b8d7-55c8e1ca0f75 button.colab-df-convert');\n",
              "      buttonEl.style.display =\n",
              "        google.colab.kernel.accessAllowed ? 'block' : 'none';\n",
              "\n",
              "      async function convertToInteractive(key) {\n",
              "        const element = document.querySelector('#df-01863593-6fec-4779-b8d7-55c8e1ca0f75');\n",
              "        const dataTable =\n",
              "          await google.colab.kernel.invokeFunction('convertToInteractive',\n",
              "                                                    [key], {});\n",
              "        if (!dataTable) return;\n",
              "\n",
              "        const docLinkHtml = 'Like what you see? Visit the ' +\n",
              "          '<a target=\"_blank\" href=https://colab.research.google.com/notebooks/data_table.ipynb>data table notebook</a>'\n",
              "          + ' to learn more about interactive tables.';\n",
              "        element.innerHTML = '';\n",
              "        dataTable['output_type'] = 'display_data';\n",
              "        await google.colab.output.renderOutput(dataTable, element);\n",
              "        const docLink = document.createElement('div');\n",
              "        docLink.innerHTML = docLinkHtml;\n",
              "        element.appendChild(docLink);\n",
              "      }\n",
              "    </script>\n",
              "  </div>\n",
              "\n",
              "\n",
              "<div id=\"df-251ee644-8a11-4780-96e4-41fcd768e9bb\">\n",
              "  <button class=\"colab-df-quickchart\" onclick=\"quickchart('df-251ee644-8a11-4780-96e4-41fcd768e9bb')\"\n",
              "            title=\"Suggest charts\"\n",
              "            style=\"display:none;\">\n",
              "\n",
              "<svg xmlns=\"http://www.w3.org/2000/svg\" height=\"24px\"viewBox=\"0 0 24 24\"\n",
              "     width=\"24px\">\n",
              "    <g>\n",
              "        <path d=\"M19 3H5c-1.1 0-2 .9-2 2v14c0 1.1.9 2 2 2h14c1.1 0 2-.9 2-2V5c0-1.1-.9-2-2-2zM9 17H7v-7h2v7zm4 0h-2V7h2v10zm4 0h-2v-4h2v4z\"/>\n",
              "    </g>\n",
              "</svg>\n",
              "  </button>\n",
              "\n",
              "<style>\n",
              "  .colab-df-quickchart {\n",
              "      --bg-color: #E8F0FE;\n",
              "      --fill-color: #1967D2;\n",
              "      --hover-bg-color: #E2EBFA;\n",
              "      --hover-fill-color: #174EA6;\n",
              "      --disabled-fill-color: #AAA;\n",
              "      --disabled-bg-color: #DDD;\n",
              "  }\n",
              "\n",
              "  [theme=dark] .colab-df-quickchart {\n",
              "      --bg-color: #3B4455;\n",
              "      --fill-color: #D2E3FC;\n",
              "      --hover-bg-color: #434B5C;\n",
              "      --hover-fill-color: #FFFFFF;\n",
              "      --disabled-bg-color: #3B4455;\n",
              "      --disabled-fill-color: #666;\n",
              "  }\n",
              "\n",
              "  .colab-df-quickchart {\n",
              "    background-color: var(--bg-color);\n",
              "    border: none;\n",
              "    border-radius: 50%;\n",
              "    cursor: pointer;\n",
              "    display: none;\n",
              "    fill: var(--fill-color);\n",
              "    height: 32px;\n",
              "    padding: 0;\n",
              "    width: 32px;\n",
              "  }\n",
              "\n",
              "  .colab-df-quickchart:hover {\n",
              "    background-color: var(--hover-bg-color);\n",
              "    box-shadow: 0 1px 2px rgba(60, 64, 67, 0.3), 0 1px 3px 1px rgba(60, 64, 67, 0.15);\n",
              "    fill: var(--button-hover-fill-color);\n",
              "  }\n",
              "\n",
              "  .colab-df-quickchart-complete:disabled,\n",
              "  .colab-df-quickchart-complete:disabled:hover {\n",
              "    background-color: var(--disabled-bg-color);\n",
              "    fill: var(--disabled-fill-color);\n",
              "    box-shadow: none;\n",
              "  }\n",
              "\n",
              "  .colab-df-spinner {\n",
              "    border: 2px solid var(--fill-color);\n",
              "    border-color: transparent;\n",
              "    border-bottom-color: var(--fill-color);\n",
              "    animation:\n",
              "      spin 1s steps(1) infinite;\n",
              "  }\n",
              "\n",
              "  @keyframes spin {\n",
              "    0% {\n",
              "      border-color: transparent;\n",
              "      border-bottom-color: var(--fill-color);\n",
              "      border-left-color: var(--fill-color);\n",
              "    }\n",
              "    20% {\n",
              "      border-color: transparent;\n",
              "      border-left-color: var(--fill-color);\n",
              "      border-top-color: var(--fill-color);\n",
              "    }\n",
              "    30% {\n",
              "      border-color: transparent;\n",
              "      border-left-color: var(--fill-color);\n",
              "      border-top-color: var(--fill-color);\n",
              "      border-right-color: var(--fill-color);\n",
              "    }\n",
              "    40% {\n",
              "      border-color: transparent;\n",
              "      border-right-color: var(--fill-color);\n",
              "      border-top-color: var(--fill-color);\n",
              "    }\n",
              "    60% {\n",
              "      border-color: transparent;\n",
              "      border-right-color: var(--fill-color);\n",
              "    }\n",
              "    80% {\n",
              "      border-color: transparent;\n",
              "      border-right-color: var(--fill-color);\n",
              "      border-bottom-color: var(--fill-color);\n",
              "    }\n",
              "    90% {\n",
              "      border-color: transparent;\n",
              "      border-bottom-color: var(--fill-color);\n",
              "    }\n",
              "  }\n",
              "</style>\n",
              "\n",
              "  <script>\n",
              "    async function quickchart(key) {\n",
              "      const quickchartButtonEl =\n",
              "        document.querySelector('#' + key + ' button');\n",
              "      quickchartButtonEl.disabled = true;  // To prevent multiple clicks.\n",
              "      quickchartButtonEl.classList.add('colab-df-spinner');\n",
              "      try {\n",
              "        const charts = await google.colab.kernel.invokeFunction(\n",
              "            'suggestCharts', [key], {});\n",
              "      } catch (error) {\n",
              "        console.error('Error during call to suggestCharts:', error);\n",
              "      }\n",
              "      quickchartButtonEl.classList.remove('colab-df-spinner');\n",
              "      quickchartButtonEl.classList.add('colab-df-quickchart-complete');\n",
              "    }\n",
              "    (() => {\n",
              "      let quickchartButtonEl =\n",
              "        document.querySelector('#df-251ee644-8a11-4780-96e4-41fcd768e9bb button');\n",
              "      quickchartButtonEl.style.display =\n",
              "        google.colab.kernel.accessAllowed ? 'block' : 'none';\n",
              "    })();\n",
              "  </script>\n",
              "</div>\n",
              "\n",
              "    </div>\n",
              "  </div>\n"
            ],
            "application/vnd.google.colaboratory.intrinsic+json": {
              "type": "dataframe",
              "variable_name": "cnnhealth",
              "summary": "{\n  \"name\": \"cnnhealth\",\n  \"rows\": 4061,\n  \"fields\": [\n    {\n      \"column\": \"ID\",\n      \"properties\": {\n        \"dtype\": \"number\",\n        \"std\": 89617103662231104,\n        \"min\": 239366825018806272,\n        \"max\": 576880531301801984,\n        \"num_unique_values\": 4061,\n        \"samples\": [\n          294848433674649601,\n          343337995912503296,\n          239410205757145088\n        ],\n        \"semantic_type\": \"\",\n        \"description\": \"\"\n      }\n    },\n    {\n      \"column\": \"DateTime\",\n      \"properties\": {\n        \"dtype\": \"object\",\n        \"num_unique_values\": 4057,\n        \"samples\": [\n          \"Fri Jan 03 02:55:11 +0000 2014\",\n          \"Sun Jun 16 18:53:01 +0000 2013\",\n          \"Sat Aug 25 17:13:35 +0000 2012\"\n        ],\n        \"semantic_type\": \"\",\n        \"description\": \"\"\n      }\n    },\n    {\n      \"column\": \"Article Title and Link\",\n      \"properties\": {\n        \"dtype\": \"string\",\n        \"num_unique_values\": 4046,\n        \"samples\": [\n          \"Meet NYU's heroic nurses http://at.cnn.com/pcmeVK #Sandy\",\n          \"The debilitating outbreak sweeping the Americas http://www.cnn.com/2014/12/17/health/chikungunya-infects-the-americas/index.html?sr=sharebar_twitter\",\n          \"Could a condom company change the world? http://at.cnn.com/jtSHcqY @MySirRichards @PIH #Haiti\"\n        ],\n        \"semantic_type\": \"\",\n        \"description\": \"\"\n      }\n    }\n  ]\n}"
            }
          },
          "metadata": {},
          "execution_count": 2
        }
      ],
      "source": [
        "# Load CNN health data\n",
        "cnnhealth = pd.read_csv(\"/content/cnnhealth.txt\", sep=r\"(?<!\\s)[|](?!\\s)\", names=['ID', 'DateTime', 'Article Title and Link'], engine=\"python\")\n",
        "cnnhealth.head()"
      ]
    },
    {
      "cell_type": "code",
      "source": [
        "# Extract all URLs from article titles and links\n",
        "cnnhealth['URL'] = [re.findall(r'https?://\\S+', text) for text in cnnhealth['Article Title and Link']]\n",
        "\n",
        "# Drop rows with multiple or no URLs\n",
        "drop_indices = cnnhealth['Article Title and Link'][cnnhealth['URL'].apply(len) != 1].index\n",
        "cnnhealth.drop(drop_indices, inplace=True)\n",
        "\n",
        "# Extract CNN URL for articles\n",
        "cnnhealth['URL'] = [url[0] for url in cnnhealth['URL']]"
      ],
      "metadata": {
        "id": "R9WrPgv-PDGK"
      },
      "execution_count": null,
      "outputs": []
    },
    {
      "cell_type": "code",
      "source": [
        "# Function to fetch content from a URL\n",
        "def fetch_content(url):\n",
        "    try:\n",
        "        response = requests.get(url, timeout=10)\n",
        "        if response.status_code == 200:\n",
        "            return response.text\n",
        "        else:\n",
        "            return None\n",
        "    except Exception as e:\n",
        "        print(\"Error fetching content:\", e)\n",
        "        return None\n",
        "\n",
        "# Function to extract body content from HTML using BeautifulSoup\n",
        "def extract_body(html_content):\n",
        "    if html_content:\n",
        "        soup = BeautifulSoup(html_content, 'html.parser')\n",
        "        article_body = soup.findAll('p', class_='paragraph')\n",
        "        if article_body:\n",
        "            return article_body\n",
        "        else:\n",
        "            return None\n",
        "    else:\n",
        "        return None\n",
        "\n",
        "# Apply web scraping to extract content and store it in a new column\n",
        "def extract_content_with_progress(url_list):\n",
        "    content_list = []\n",
        "    for url in tqdm(url_list, desc='Extracting content'):\n",
        "        content = extract_body(fetch_content(url))\n",
        "        content_list.append(content)\n",
        "    return content_list\n",
        "\n",
        "# Apply web scraping to extract content and store it in a new column\n",
        "cnnhealth['Content'] = extract_content_with_progress(cnnhealth['URL'])"
      ],
      "metadata": {
        "colab": {
          "base_uri": "https://localhost:8080/"
        },
        "id": "q_TRtZzUKwoB",
        "outputId": "5882c49e-c848-4e4d-faf2-abddf0185bbd"
      },
      "execution_count": null,
      "outputs": [
        {
          "metadata": {
            "tags": null
          },
          "name": "stderr",
          "output_type": "stream",
          "text": [
            "Extracting content:   0%|          | 15/3299 [00:14<40:11,  1.36it/s]/usr/lib/python3.10/html/parser.py:170: XMLParsedAsHTMLWarning: It looks like you're parsing an XML document using an HTML parser. If this really is an HTML document (maybe it's XHTML?), you can ignore or filter this warning. If it's XML, you should know that using an XML parser will be more reliable. To parse this document as XML, make sure you have the lxml package installed, and pass the keyword argument `features=\"xml\"` into the BeautifulSoup constructor.\n",
            "  k = self.parse_starttag(i)\n",
            "Extracting content:   3%|▎         | 113/3299 [01:15<27:07,  1.96it/s]"
          ]
        },
        {
          "metadata": {
            "tags": null
          },
          "name": "stdout",
          "output_type": "stream",
          "text": [
            "Error fetching content: Failed to parse: https://t…\n"
          ]
        },
        {
          "metadata": {
            "tags": null
          },
          "name": "stderr",
          "output_type": "stream",
          "text": [
            "Extracting content:   6%|▌         | 200/3299 [02:04<41:49,  1.23it/s]"
          ]
        },
        {
          "metadata": {
            "tags": null
          },
          "name": "stdout",
          "output_type": "stream",
          "text": [
            "Error fetching content: Failed to parse: http://t.c…\n"
          ]
        },
        {
          "metadata": {
            "tags": null
          },
          "name": "stderr",
          "output_type": "stream",
          "text": [
            "Extracting content:   7%|▋         | 246/3299 [02:29<24:43,  2.06it/s]"
          ]
        },
        {
          "metadata": {
            "tags": null
          },
          "name": "stdout",
          "output_type": "stream",
          "text": [
            "Error fetching content: Failed to parse: http://…\n"
          ]
        },
        {
          "metadata": {
            "tags": null
          },
          "name": "stderr",
          "output_type": "stream",
          "text": [
            "Extracting content:   8%|▊         | 254/3299 [02:35<39:31,  1.28it/s]"
          ]
        },
        {
          "metadata": {
            "tags": null
          },
          "name": "stdout",
          "output_type": "stream",
          "text": [
            "Error fetching content: Failed to parse: http://t.co…\n"
          ]
        },
        {
          "metadata": {
            "tags": null
          },
          "name": "stderr",
          "output_type": "stream",
          "text": [
            "Extracting content:  11%|█         | 362/3299 [03:43<2:42:08,  3.31s/it]"
          ]
        },
        {
          "metadata": {
            "tags": null
          },
          "name": "stdout",
          "output_type": "stream",
          "text": [
            "Error fetching content: HTTPSConnectionPool(host='flipboard.com', port=443): Read timed out. (read timeout=10)\n"
          ]
        },
        {
          "metadata": {
            "tags": null
          },
          "name": "stderr",
          "output_type": "stream",
          "text": [
            "\rExtracting content:  11%|█         | 363/3299 [03:53<4:23:01,  5.38s/it]"
          ]
        },
        {
          "metadata": {
            "tags": null
          },
          "name": "stdout",
          "output_type": "stream",
          "text": [
            "Error fetching content: HTTPSConnectionPool(host='flipboard.com', port=443): Read timed out. (read timeout=10)\n"
          ]
        },
        {
          "metadata": {
            "tags": null
          },
          "name": "stderr",
          "output_type": "stream",
          "text": [
            "Extracting content:  11%|█         | 365/3299 [04:04<4:44:46,  5.82s/it]"
          ]
        },
        {
          "metadata": {
            "tags": null
          },
          "name": "stdout",
          "output_type": "stream",
          "text": [
            "Error fetching content: HTTPSConnectionPool(host='flipboard.com', port=443): Read timed out. (read timeout=10)\n"
          ]
        },
        {
          "metadata": {
            "tags": null
          },
          "name": "stderr",
          "output_type": "stream",
          "text": [
            "Extracting content:  12%|█▏        | 386/3299 [04:18<57:15,  1.18s/it]  "
          ]
        },
        {
          "metadata": {
            "tags": null
          },
          "name": "stdout",
          "output_type": "stream",
          "text": [
            "Error fetching content: Failed to parse: http://…\n"
          ]
        },
        {
          "metadata": {
            "tags": null
          },
          "name": "stderr",
          "output_type": "stream",
          "text": [
            "Extracting content:  12%|█▏        | 395/3299 [04:31<2:38:49,  3.28s/it]"
          ]
        },
        {
          "metadata": {
            "tags": null
          },
          "name": "stdout",
          "output_type": "stream",
          "text": [
            "Error fetching content: HTTPSConnectionPool(host='flipboard.com', port=443): Read timed out. (read timeout=10)\n"
          ]
        },
        {
          "metadata": {
            "tags": null
          },
          "name": "stderr",
          "output_type": "stream",
          "text": [
            "Extracting content:  12%|█▏        | 406/3299 [04:46<2:51:27,  3.56s/it]"
          ]
        },
        {
          "metadata": {
            "tags": null
          },
          "name": "stdout",
          "output_type": "stream",
          "text": [
            "Error fetching content: HTTPSConnectionPool(host='flipboard.com', port=443): Read timed out. (read timeout=10)\n"
          ]
        },
        {
          "metadata": {
            "tags": null
          },
          "name": "stderr",
          "output_type": "stream",
          "text": [
            "Extracting content:  17%|█▋        | 549/3299 [05:59<27:12,  1.68it/s]"
          ]
        },
        {
          "metadata": {
            "tags": null
          },
          "name": "stdout",
          "output_type": "stream",
          "text": [
            "Error fetching content: Failed to parse: http://t.co…\n"
          ]
        },
        {
          "metadata": {
            "tags": null
          },
          "name": "stderr",
          "output_type": "stream",
          "text": [
            "Extracting content:  19%|█▉        | 634/3299 [06:50<2:30:45,  3.39s/it]"
          ]
        },
        {
          "metadata": {
            "tags": null
          },
          "name": "stdout",
          "output_type": "stream",
          "text": [
            "Error fetching content: HTTPConnectionPool(host='upwave.co', port=80): Max retries exceeded with url: /1kTcVP2 (Caused by ConnectTimeoutError(<urllib3.connection.HTTPConnection object at 0x7b45757fb820>, 'Connection to upwave.co timed out. (connect timeout=10)'))\n"
          ]
        },
        {
          "metadata": {
            "tags": null
          },
          "name": "stderr",
          "output_type": "stream",
          "text": [
            "Extracting content:  21%|██        | 683/3299 [07:08<30:36,  1.42it/s]"
          ]
        },
        {
          "metadata": {
            "tags": null
          },
          "name": "stdout",
          "output_type": "stream",
          "text": [
            "Error fetching content: Failed to parse: http://t.co…\n",
            "Error fetching content: Failed to parse: http://…\n"
          ]
        },
        {
          "metadata": {
            "tags": null
          },
          "name": "stderr",
          "output_type": "stream",
          "text": [
            "Extracting content:  22%|██▏       | 721/3299 [07:34<2:26:31,  3.41s/it]"
          ]
        },
        {
          "metadata": {
            "tags": null
          },
          "name": "stdout",
          "output_type": "stream",
          "text": [
            "Error fetching content: HTTPConnectionPool(host='www.kansascity.com', port=80): Read timed out. (read timeout=10)\n"
          ]
        },
        {
          "metadata": {
            "tags": null
          },
          "name": "stderr",
          "output_type": "stream",
          "text": [
            "Extracting content:  23%|██▎       | 747/3299 [07:45<22:26,  1.90it/s]"
          ]
        },
        {
          "metadata": {
            "tags": null
          },
          "name": "stdout",
          "output_type": "stream",
          "text": [
            "Error fetching content: Failed to parse: http://t…\n"
          ]
        },
        {
          "metadata": {
            "tags": null
          },
          "name": "stderr",
          "output_type": "stream",
          "text": [
            "Extracting content:  23%|██▎       | 751/3299 [07:56<2:03:53,  2.92s/it]"
          ]
        },
        {
          "metadata": {
            "tags": null
          },
          "name": "stdout",
          "output_type": "stream",
          "text": [
            "Error fetching content: HTTPConnectionPool(host='upwave.co', port=80): Max retries exceeded with url: /1duFGv0 (Caused by ConnectTimeoutError(<urllib3.connection.HTTPConnection object at 0x7b455a8766b0>, 'Connection to upwave.co timed out. (connect timeout=10)'))\n"
          ]
        },
        {
          "metadata": {
            "tags": null
          },
          "name": "stderr",
          "output_type": "stream",
          "text": [
            "Extracting content:  24%|██▎       | 782/3299 [08:09<20:42,  2.03it/s]"
          ]
        },
        {
          "metadata": {
            "tags": null
          },
          "name": "stdout",
          "output_type": "stream",
          "text": [
            "Error fetching content: Failed to parse: http://…\n"
          ]
        },
        {
          "metadata": {
            "tags": null
          },
          "name": "stderr",
          "output_type": "stream",
          "text": [
            "Extracting content:  24%|██▍       | 791/3299 [08:12<12:19,  3.39it/s]"
          ]
        },
        {
          "metadata": {
            "tags": null
          },
          "name": "stdout",
          "output_type": "stream",
          "text": [
            "Error fetching content: Failed to parse: http://t…\n"
          ]
        },
        {
          "metadata": {
            "tags": null
          },
          "name": "stderr",
          "output_type": "stream",
          "text": [
            "Extracting content:  24%|██▍       | 798/3299 [08:15<16:20,  2.55it/s]"
          ]
        },
        {
          "metadata": {
            "tags": null
          },
          "name": "stdout",
          "output_type": "stream",
          "text": [
            "Error fetching content: Failed to parse: http://t.co…\n"
          ]
        },
        {
          "metadata": {
            "tags": null
          },
          "name": "stderr",
          "output_type": "stream",
          "text": [
            "Extracting content:  27%|██▋       | 907/3299 [09:06<07:47,  5.12it/s]"
          ]
        },
        {
          "metadata": {
            "tags": null
          },
          "name": "stdout",
          "output_type": "stream",
          "text": [
            "Error fetching content: Failed to parse: http://t.c…\n"
          ]
        },
        {
          "metadata": {
            "tags": null
          },
          "name": "stderr",
          "output_type": "stream",
          "text": [
            "Extracting content:  29%|██▉       | 956/3299 [09:28<13:19,  2.93it/s]"
          ]
        },
        {
          "metadata": {
            "tags": null
          },
          "name": "stdout",
          "output_type": "stream",
          "text": [
            "Error fetching content: HTTPConnectionPool(host='shpe.co', port=80): Max retries exceeded with url: /1eAdojE (Caused by NameResolutionError(\"<urllib3.connection.HTTPConnection object at 0x7b4544e66f20>: Failed to resolve 'shpe.co' ([Errno -2] Name or service not known)\"))\n"
          ]
        },
        {
          "metadata": {
            "tags": null
          },
          "name": "stderr",
          "output_type": "stream",
          "text": [
            "Extracting content:  29%|██▉       | 960/3299 [09:30<18:14,  2.14it/s]"
          ]
        },
        {
          "metadata": {
            "tags": null
          },
          "name": "stdout",
          "output_type": "stream",
          "text": [
            "Error fetching content: Failed to parse: http://t.…\n"
          ]
        },
        {
          "metadata": {
            "tags": null
          },
          "name": "stderr",
          "output_type": "stream",
          "text": [
            "Extracting content:  30%|██▉       | 984/3299 [09:49<29:09,  1.32it/s]"
          ]
        },
        {
          "metadata": {
            "tags": null
          },
          "name": "stdout",
          "output_type": "stream",
          "text": [
            "Error fetching content: Failed to parse: http://t…\n"
          ]
        },
        {
          "metadata": {
            "tags": null
          },
          "name": "stderr",
          "output_type": "stream",
          "text": [
            "Extracting content:  30%|███       | 994/3299 [09:53<19:04,  2.01it/s]"
          ]
        },
        {
          "metadata": {
            "tags": null
          },
          "name": "stdout",
          "output_type": "stream",
          "text": [
            "Error fetching content: Failed to parse: http://t.co…\n"
          ]
        },
        {
          "metadata": {
            "tags": null
          },
          "name": "stderr",
          "output_type": "stream",
          "text": [
            "Extracting content:  32%|███▏      | 1055/3299 [10:19<16:16,  2.30it/s]"
          ]
        },
        {
          "metadata": {
            "tags": null
          },
          "name": "stdout",
          "output_type": "stream",
          "text": [
            "Error fetching content: HTTPConnectionPool(host='healthysummer.me', port=80): Max retries exceeded with url: /2013/12/19/yoga-forget-what-you-think-you-know/ (Caused by NameResolutionError(\"<urllib3.connection.HTTPConnection object at 0x7b453b031db0>: Failed to resolve 'healthysummer.me' ([Errno -2] Name or service not known)\"))\n"
          ]
        },
        {
          "metadata": {
            "tags": null
          },
          "name": "stderr",
          "output_type": "stream",
          "text": [
            "Extracting content:  32%|███▏      | 1058/3299 [10:19<09:24,  3.97it/s]"
          ]
        },
        {
          "metadata": {
            "tags": null
          },
          "name": "stdout",
          "output_type": "stream",
          "text": [
            "Error fetching content: HTTPConnectionPool(host='shpe.co', port=80): Max retries exceeded with url: /1c1TMq4 (Caused by NameResolutionError(\"<urllib3.connection.HTTPConnection object at 0x7b453b0325f0>: Failed to resolve 'shpe.co' ([Errno -2] Name or service not known)\"))\n"
          ]
        },
        {
          "metadata": {
            "tags": null
          },
          "name": "stderr",
          "output_type": "stream",
          "text": [
            "Extracting content:  32%|███▏      | 1067/3299 [10:33<2:03:09,  3.31s/it]"
          ]
        },
        {
          "metadata": {
            "tags": null
          },
          "name": "stdout",
          "output_type": "stream",
          "text": [
            "Error fetching content: HTTPConnectionPool(host='upwave.co', port=80): Max retries exceeded with url: /1cArLCl (Caused by ConnectTimeoutError(<urllib3.connection.HTTPConnection object at 0x7b453a2b6590>, 'Connection to upwave.co timed out. (connect timeout=10)'))\n"
          ]
        },
        {
          "metadata": {
            "tags": null
          },
          "name": "stderr",
          "output_type": "stream",
          "text": [
            "Extracting content:  36%|███▌      | 1175/3299 [11:24<1:55:21,  3.26s/it]"
          ]
        },
        {
          "metadata": {
            "tags": null
          },
          "name": "stdout",
          "output_type": "stream",
          "text": [
            "Error fetching content: HTTPConnectionPool(host='upwave.co', port=80): Max retries exceeded with url: /17J2Wb9 (Caused by ConnectTimeoutError(<urllib3.connection.HTTPConnection object at 0x7b4530196e60>, 'Connection to upwave.co timed out. (connect timeout=10)'))\n"
          ]
        },
        {
          "metadata": {
            "tags": null
          },
          "name": "stderr",
          "output_type": "stream",
          "text": [
            "Extracting content:  38%|███▊      | 1259/3299 [12:06<17:03,  1.99it/s]"
          ]
        },
        {
          "metadata": {
            "tags": null
          },
          "name": "stdout",
          "output_type": "stream",
          "text": [
            "Error fetching content: Failed to parse: http://t.co…\n"
          ]
        },
        {
          "metadata": {
            "tags": null
          },
          "name": "stderr",
          "output_type": "stream",
          "text": [
            "Extracting content:  40%|███▉      | 1318/3299 [12:34<1:39:03,  3.00s/it]"
          ]
        },
        {
          "metadata": {
            "tags": null
          },
          "name": "stdout",
          "output_type": "stream",
          "text": [
            "Error fetching content: HTTPConnectionPool(host='upwave.co', port=80): Max retries exceeded with url: /18pyCjM (Caused by ConnectTimeoutError(<urllib3.connection.HTTPConnection object at 0x7b452856c5e0>, 'Connection to upwave.co timed out. (connect timeout=10)'))\n"
          ]
        },
        {
          "metadata": {
            "tags": null
          },
          "name": "stderr",
          "output_type": "stream",
          "text": [
            "Extracting content:  40%|████      | 1320/3299 [12:35<55:38,  1.69s/it]  "
          ]
        },
        {
          "metadata": {
            "tags": null
          },
          "name": "stdout",
          "output_type": "stream",
          "text": [
            "Error fetching content: Failed to parse: http://…\n"
          ]
        },
        {
          "metadata": {
            "tags": null
          },
          "name": "stderr",
          "output_type": "stream",
          "text": [
            "Extracting content:  40%|████      | 1325/3299 [12:45<1:33:13,  2.83s/it]"
          ]
        },
        {
          "metadata": {
            "tags": null
          },
          "name": "stdout",
          "output_type": "stream",
          "text": [
            "Error fetching content: HTTPConnectionPool(host='on.cnn.com', port=80): Max retries exceeded with url: /1bwg1Co (Caused by ConnectTimeoutError(<urllib3.connection.HTTPConnection object at 0x7b4527ea4bb0>, 'Connection to on.cnn.com timed out. (connect timeout=10)'))\n"
          ]
        },
        {
          "metadata": {
            "tags": null
          },
          "name": "stderr",
          "output_type": "stream",
          "text": [
            "Extracting content:  40%|████      | 1329/3299 [12:56<1:56:10,  3.54s/it]"
          ]
        },
        {
          "metadata": {
            "tags": null
          },
          "name": "stdout",
          "output_type": "stream",
          "text": [
            "Error fetching content: HTTPConnectionPool(host='on.cnn.com', port=80): Max retries exceeded with url: /1aG810k (Caused by ConnectTimeoutError(<urllib3.connection.HTTPConnection object at 0x7b45279a4c40>, 'Connection to on.cnn.com timed out. (connect timeout=10)'))\n"
          ]
        },
        {
          "metadata": {
            "tags": null
          },
          "name": "stderr",
          "output_type": "stream",
          "text": [
            "Extracting content:  40%|████      | 1333/3299 [13:07<2:02:58,  3.75s/it]"
          ]
        },
        {
          "metadata": {
            "tags": null
          },
          "name": "stdout",
          "output_type": "stream",
          "text": [
            "Error fetching content: HTTPConnectionPool(host='on.cnn.com', port=80): Max retries exceeded with url: /1agl2fP (Caused by ConnectTimeoutError(<urllib3.connection.HTTPConnection object at 0x7b45274a4970>, 'Connection to on.cnn.com timed out. (connect timeout=10)'))\n"
          ]
        },
        {
          "metadata": {
            "tags": null
          },
          "name": "stderr",
          "output_type": "stream",
          "text": [
            "\rExtracting content:  40%|████      | 1334/3299 [13:17<2:55:50,  5.37s/it]"
          ]
        },
        {
          "metadata": {
            "tags": null
          },
          "name": "stdout",
          "output_type": "stream",
          "text": [
            "Error fetching content: HTTPConnectionPool(host='on.cnn.com', port=80): Max retries exceeded with url: /1cFft0A (Caused by ConnectTimeoutError(<urllib3.connection.HTTPConnection object at 0x7b45274a51b0>, 'Connection to on.cnn.com timed out. (connect timeout=10)'))\n"
          ]
        },
        {
          "metadata": {
            "tags": null
          },
          "name": "stderr",
          "output_type": "stream",
          "text": [
            "Extracting content:  41%|████      | 1340/3299 [13:29<2:06:38,  3.88s/it]"
          ]
        },
        {
          "metadata": {
            "tags": null
          },
          "name": "stdout",
          "output_type": "stream",
          "text": [
            "Error fetching content: HTTPConnectionPool(host='on.cnn.com', port=80): Max retries exceeded with url: /1bgB37P (Caused by ConnectTimeoutError(<urllib3.connection.HTTPConnection object at 0x7b4526adb370>, 'Connection to on.cnn.com timed out. (connect timeout=10)'))\n"
          ]
        },
        {
          "metadata": {
            "tags": null
          },
          "name": "stderr",
          "output_type": "stream",
          "text": [
            "\rExtracting content:  41%|████      | 1341/3299 [13:39<3:05:53,  5.70s/it]"
          ]
        },
        {
          "metadata": {
            "tags": null
          },
          "name": "stdout",
          "output_type": "stream",
          "text": [
            "Error fetching content: HTTPConnectionPool(host='on.cnn.com', port=80): Max retries exceeded with url: /15ruChD (Caused by ConnectTimeoutError(<urllib3.connection.HTTPConnection object at 0x7b4526adba90>, 'Connection to on.cnn.com timed out. (connect timeout=10)'))\n"
          ]
        },
        {
          "metadata": {
            "tags": null
          },
          "name": "stderr",
          "output_type": "stream",
          "text": [
            "Extracting content:  41%|████      | 1343/3299 [13:49<3:11:44,  5.88s/it]"
          ]
        },
        {
          "metadata": {
            "tags": null
          },
          "name": "stdout",
          "output_type": "stream",
          "text": [
            "Error fetching content: HTTPConnectionPool(host='upwave.co', port=80): Max retries exceeded with url: /18SjdaS (Caused by ConnectTimeoutError(<urllib3.connection.HTTPConnection object at 0x7b452675e7a0>, 'Connection to upwave.co timed out. (connect timeout=10)'))\n"
          ]
        },
        {
          "metadata": {
            "tags": null
          },
          "name": "stderr",
          "output_type": "stream",
          "text": [
            "\rExtracting content:  41%|████      | 1344/3299 [13:59<3:52:03,  7.12s/it]"
          ]
        },
        {
          "metadata": {
            "tags": null
          },
          "name": "stdout",
          "output_type": "stream",
          "text": [
            "Error fetching content: HTTPConnectionPool(host='on.cnn.com', port=80): Max retries exceeded with url: /16y2hab (Caused by ConnectTimeoutError(<urllib3.connection.HTTPConnection object at 0x7b452675eec0>, 'Connection to on.cnn.com timed out. (connect timeout=10)'))\n"
          ]
        },
        {
          "metadata": {
            "tags": null
          },
          "name": "stderr",
          "output_type": "stream",
          "text": [
            "Extracting content:  41%|████      | 1346/3299 [14:10<3:33:28,  6.56s/it]"
          ]
        },
        {
          "metadata": {
            "tags": null
          },
          "name": "stdout",
          "output_type": "stream",
          "text": [
            "Error fetching content: HTTPConnectionPool(host='on.cnn.com', port=80): Max retries exceeded with url: /16y2hab (Caused by ConnectTimeoutError(<urllib3.connection.HTTPConnection object at 0x7b45265d9ab0>, 'Connection to on.cnn.com timed out. (connect timeout=10)'))\n"
          ]
        },
        {
          "metadata": {
            "tags": null
          },
          "name": "stderr",
          "output_type": "stream",
          "text": [
            "\rExtracting content:  41%|████      | 1347/3299 [14:20<4:07:02,  7.59s/it]"
          ]
        },
        {
          "metadata": {
            "tags": null
          },
          "name": "stdout",
          "output_type": "stream",
          "text": [
            "Error fetching content: HTTPConnectionPool(host='on.cnn.com', port=80): Max retries exceeded with url: /16xeLyX (Caused by ConnectTimeoutError(<urllib3.connection.HTTPConnection object at 0x7b45265da2f0>, 'Connection to on.cnn.com timed out. (connect timeout=10)'))\n"
          ]
        },
        {
          "metadata": {
            "tags": null
          },
          "name": "stderr",
          "output_type": "stream",
          "text": [
            "Extracting content:  41%|████      | 1350/3299 [14:30<3:05:33,  5.71s/it]"
          ]
        },
        {
          "metadata": {
            "tags": null
          },
          "name": "stdout",
          "output_type": "stream",
          "text": [
            "Error fetching content: HTTPConnectionPool(host='on.cnn.com', port=80): Max retries exceeded with url: /17eEngB (Caused by ConnectTimeoutError(<urllib3.connection.HTTPConnection object at 0x7b45260ed1e0>, 'Connection to on.cnn.com timed out. (connect timeout=10)'))\n"
          ]
        },
        {
          "metadata": {
            "tags": null
          },
          "name": "stderr",
          "output_type": "stream",
          "text": [
            "Extracting content:  41%|████      | 1352/3299 [14:40<3:10:12,  5.86s/it]"
          ]
        },
        {
          "metadata": {
            "tags": null
          },
          "name": "stdout",
          "output_type": "stream",
          "text": [
            "Error fetching content: HTTPConnectionPool(host='on.cnn.com', port=80): Max retries exceeded with url: /1coPDhd (Caused by ConnectTimeoutError(<urllib3.connection.HTTPConnection object at 0x7b4525d68cd0>, 'Connection to on.cnn.com timed out. (connect timeout=10)'))\n"
          ]
        },
        {
          "metadata": {
            "tags": null
          },
          "name": "stderr",
          "output_type": "stream",
          "text": [
            "\rExtracting content:  41%|████      | 1353/3299 [14:50<3:50:31,  7.11s/it]"
          ]
        },
        {
          "metadata": {
            "tags": null
          },
          "name": "stdout",
          "output_type": "stream",
          "text": [
            "Error fetching content: HTTPConnectionPool(host='on.cnn.com', port=80): Max retries exceeded with url: /1cn3Ew2 (Caused by ConnectTimeoutError(<urllib3.connection.HTTPConnection object at 0x7b4525d694e0>, 'Connection to on.cnn.com timed out. (connect timeout=10)'))\n"
          ]
        },
        {
          "metadata": {
            "tags": null
          },
          "name": "stderr",
          "output_type": "stream",
          "text": [
            "Extracting content:  41%|████      | 1355/3299 [15:01<3:33:19,  6.58s/it]"
          ]
        },
        {
          "metadata": {
            "tags": null
          },
          "name": "stdout",
          "output_type": "stream",
          "text": [
            "Error fetching content: HTTPConnectionPool(host='on.cnn.com', port=80): Max retries exceeded with url: /1cn3Ew2 (Caused by ConnectTimeoutError(<urllib3.connection.HTTPConnection object at 0x7b4525be0c70>, 'Connection to on.cnn.com timed out. (connect timeout=10)'))\n"
          ]
        },
        {
          "metadata": {
            "tags": null
          },
          "name": "stderr",
          "output_type": "stream",
          "text": [
            "\rExtracting content:  41%|████      | 1356/3299 [15:11<4:06:29,  7.61s/it]"
          ]
        },
        {
          "metadata": {
            "tags": null
          },
          "name": "stdout",
          "output_type": "stream",
          "text": [
            "Error fetching content: HTTPConnectionPool(host='on.cnn.com', port=80): Max retries exceeded with url: /19ZTATf (Caused by ConnectTimeoutError(<urllib3.connection.HTTPConnection object at 0x7b4525be14b0>, 'Connection to on.cnn.com timed out. (connect timeout=10)'))\n"
          ]
        },
        {
          "metadata": {
            "tags": null
          },
          "name": "stderr",
          "output_type": "stream",
          "text": [
            "Extracting content:  41%|████      | 1360/3299 [15:21<2:40:59,  4.98s/it]"
          ]
        },
        {
          "metadata": {
            "tags": null
          },
          "name": "stdout",
          "output_type": "stream",
          "text": [
            "Error fetching content: HTTPConnectionPool(host='on.cnn.com', port=80): Max retries exceeded with url: /1dYpxQ9 (Caused by ConnectTimeoutError(<urllib3.connection.HTTPConnection object at 0x7b45256a3550>, 'Connection to on.cnn.com timed out. (connect timeout=10)'))\n",
            "Error fetching content: ('Connection aborted.', RemoteDisconnected('Remote end closed connection without response'))\n"
          ]
        },
        {
          "metadata": {
            "tags": null
          },
          "name": "stderr",
          "output_type": "stream",
          "text": [
            "\rExtracting content:  41%|████▏     | 1363/3299 [15:25<1:33:18,  2.89s/it]"
          ]
        },
        {
          "metadata": {
            "tags": null
          },
          "name": "stdout",
          "output_type": "stream",
          "text": [
            "Error fetching content: ('Connection aborted.', RemoteDisconnected('Remote end closed connection without response'))\n",
            "Error fetching content: ('Connection aborted.', RemoteDisconnected('Remote end closed connection without response'))\n"
          ]
        },
        {
          "metadata": {
            "tags": null
          },
          "name": "stderr",
          "output_type": "stream",
          "text": [
            "\rExtracting content:  41%|████▏     | 1365/3299 [15:35<1:56:10,  3.60s/it]"
          ]
        },
        {
          "metadata": {
            "tags": null
          },
          "name": "stdout",
          "output_type": "stream",
          "text": [
            "Error fetching content: HTTPConnectionPool(host='on.cnn.com', port=80): Max retries exceeded with url: /16inogx (Caused by ConnectTimeoutError(<urllib3.connection.HTTPConnection object at 0x7b45256a35b0>, 'Connection to on.cnn.com timed out. (connect timeout=10)'))\n"
          ]
        },
        {
          "metadata": {
            "tags": null
          },
          "name": "stderr",
          "output_type": "stream",
          "text": [
            "Extracting content:  42%|████▏     | 1381/3299 [15:50<1:42:22,  3.20s/it]"
          ]
        },
        {
          "metadata": {
            "tags": null
          },
          "name": "stdout",
          "output_type": "stream",
          "text": [
            "Error fetching content: HTTPConnectionPool(host='on.cnn.com', port=80): Max retries exceeded with url: /16Aj9sg (Caused by ConnectTimeoutError(<urllib3.connection.HTTPConnection object at 0x7b4523c2a530>, 'Connection to on.cnn.com timed out. (connect timeout=10)'))\n"
          ]
        },
        {
          "metadata": {
            "tags": null
          },
          "name": "stderr",
          "output_type": "stream",
          "text": [
            "Extracting content:  42%|████▏     | 1384/3299 [16:01<2:13:02,  4.17s/it]"
          ]
        },
        {
          "metadata": {
            "tags": null
          },
          "name": "stdout",
          "output_type": "stream",
          "text": [
            "Error fetching content: HTTPConnectionPool(host='on.cnn.com', port=80): Max retries exceeded with url: /1dGBBp7 (Caused by ConnectTimeoutError(<urllib3.connection.HTTPConnection object at 0x7b4523ad8ca0>, 'Connection to on.cnn.com timed out. (connect timeout=10)'))\n"
          ]
        },
        {
          "metadata": {
            "tags": null
          },
          "name": "stderr",
          "output_type": "stream",
          "text": [
            "Extracting content:  42%|████▏     | 1386/3299 [16:11<2:42:49,  5.11s/it]"
          ]
        },
        {
          "metadata": {
            "tags": null
          },
          "name": "stdout",
          "output_type": "stream",
          "text": [
            "Error fetching content: HTTPConnectionPool(host='on.cnn.com', port=80): Max retries exceeded with url: /18S6e5D (Caused by ConnectTimeoutError(<urllib3.connection.HTTPConnection object at 0x7b45238e7550>, 'Connection to on.cnn.com timed out. (connect timeout=10)'))\n"
          ]
        },
        {
          "metadata": {
            "tags": null
          },
          "name": "stderr",
          "output_type": "stream",
          "text": [
            "Extracting content:  42%|████▏     | 1389/3299 [16:22<2:36:20,  4.91s/it]"
          ]
        },
        {
          "metadata": {
            "tags": null
          },
          "name": "stdout",
          "output_type": "stream",
          "text": [
            "Error fetching content: HTTPConnectionPool(host='on.cnn.com', port=80): Max retries exceeded with url: /1aPZ31W (Caused by ConnectTimeoutError(<urllib3.connection.HTTPConnection object at 0x7b45232700d0>, 'Connection to on.cnn.com timed out. (connect timeout=10)'))\n"
          ]
        },
        {
          "metadata": {
            "tags": null
          },
          "name": "stderr",
          "output_type": "stream",
          "text": [
            "Extracting content:  42%|████▏     | 1395/3299 [16:33<1:46:00,  3.34s/it]"
          ]
        },
        {
          "metadata": {
            "tags": null
          },
          "name": "stdout",
          "output_type": "stream",
          "text": [
            "Error fetching content: HTTPConnectionPool(host='on.cnn.com', port=80): Max retries exceeded with url: /16mwTYg (Caused by ConnectTimeoutError(<urllib3.connection.HTTPConnection object at 0x7b45229b7940>, 'Connection to on.cnn.com timed out. (connect timeout=10)'))\n"
          ]
        },
        {
          "metadata": {
            "tags": null
          },
          "name": "stderr",
          "output_type": "stream",
          "text": [
            "Extracting content:  43%|████▎     | 1404/3299 [16:47<1:28:45,  2.81s/it]"
          ]
        },
        {
          "metadata": {
            "tags": null
          },
          "name": "stdout",
          "output_type": "stream",
          "text": [
            "Error fetching content: HTTPConnectionPool(host='on.cnn.com', port=80): Max retries exceeded with url: /1goZl0q (Caused by ConnectTimeoutError(<urllib3.connection.HTTPConnection object at 0x7b45218aac50>, 'Connection to on.cnn.com timed out. (connect timeout=10)'))\n"
          ]
        },
        {
          "metadata": {
            "tags": null
          },
          "name": "stderr",
          "output_type": "stream",
          "text": [
            "Extracting content:  43%|████▎     | 1408/3299 [16:48<33:42,  1.07s/it]"
          ]
        },
        {
          "metadata": {
            "tags": null
          },
          "name": "stdout",
          "output_type": "stream",
          "text": [
            "Error fetching content: Failed to parse: http://t.…\n"
          ]
        },
        {
          "metadata": {
            "tags": null
          },
          "name": "stderr",
          "output_type": "stream",
          "text": [
            "Extracting content:  43%|████▎     | 1413/3299 [16:59<1:35:21,  3.03s/it]"
          ]
        },
        {
          "metadata": {
            "tags": null
          },
          "name": "stdout",
          "output_type": "stream",
          "text": [
            "Error fetching content: HTTPConnectionPool(host='on.cnn.com', port=80): Max retries exceeded with url: /1d8UHE9 (Caused by ConnectTimeoutError(<urllib3.connection.HTTPConnection object at 0x7b4520ca0d60>, 'Connection to on.cnn.com timed out. (connect timeout=10)'))\n"
          ]
        },
        {
          "metadata": {
            "tags": null
          },
          "name": "stderr",
          "output_type": "stream",
          "text": [
            "Extracting content:  43%|████▎     | 1419/3299 [17:10<1:28:50,  2.84s/it]"
          ]
        },
        {
          "metadata": {
            "tags": null
          },
          "name": "stdout",
          "output_type": "stream",
          "text": [
            "Error fetching content: HTTPConnectionPool(host='on.cnn.com', port=80): Max retries exceeded with url: /17qLpkp (Caused by ConnectTimeoutError(<urllib3.connection.HTTPConnection object at 0x7b45205d1570>, 'Connection to on.cnn.com timed out. (connect timeout=10)'))\n"
          ]
        },
        {
          "metadata": {
            "tags": null
          },
          "name": "stderr",
          "output_type": "stream",
          "text": [
            "Extracting content:  43%|████▎     | 1421/3299 [17:21<2:12:45,  4.24s/it]"
          ]
        },
        {
          "metadata": {
            "tags": null
          },
          "name": "stdout",
          "output_type": "stream",
          "text": [
            "Error fetching content: HTTPConnectionPool(host='on.cnn.com', port=80): Max retries exceeded with url: /17pNFZd (Caused by ConnectTimeoutError(<urllib3.connection.HTTPConnection object at 0x7b4520253190>, 'Connection to on.cnn.com timed out. (connect timeout=10)'))\n"
          ]
        },
        {
          "metadata": {
            "tags": null
          },
          "name": "stderr",
          "output_type": "stream",
          "text": [
            "Extracting content:  43%|████▎     | 1428/3299 [17:34<1:54:07,  3.66s/it]"
          ]
        },
        {
          "metadata": {
            "tags": null
          },
          "name": "stdout",
          "output_type": "stream",
          "text": [
            "Error fetching content: HTTPConnectionPool(host='on.cnn.com', port=80): Max retries exceeded with url: /14DyRmC (Caused by ConnectTimeoutError(<urllib3.connection.HTTPConnection object at 0x7b451f6d0580>, 'Connection to on.cnn.com timed out. (connect timeout=10)'))\n"
          ]
        },
        {
          "metadata": {
            "tags": null
          },
          "name": "stderr",
          "output_type": "stream",
          "text": [
            "Extracting content:  43%|████▎     | 1430/3299 [17:44<2:31:58,  4.88s/it]"
          ]
        },
        {
          "metadata": {
            "tags": null
          },
          "name": "stdout",
          "output_type": "stream",
          "text": [
            "Error fetching content: HTTPConnectionPool(host='on.cnn.com', port=80): Max retries exceeded with url: /18B0Gyi (Caused by ConnectTimeoutError(<urllib3.connection.HTTPConnection object at 0x7b451f353760>, 'Connection to on.cnn.com timed out. (connect timeout=10)'))\n"
          ]
        },
        {
          "metadata": {
            "tags": null
          },
          "name": "stderr",
          "output_type": "stream",
          "text": [
            "\rExtracting content:  43%|████▎     | 1431/3299 [17:44<1:49:20,  3.51s/it]"
          ]
        },
        {
          "metadata": {
            "tags": null
          },
          "name": "stdout",
          "output_type": "stream",
          "text": [
            "Error fetching content: Failed to parse: http://t…\n"
          ]
        },
        {
          "metadata": {
            "tags": null
          },
          "name": "stderr",
          "output_type": "stream",
          "text": [
            "Extracting content:  43%|████▎     | 1434/3299 [17:55<2:03:12,  3.96s/it]"
          ]
        },
        {
          "metadata": {
            "tags": null
          },
          "name": "stdout",
          "output_type": "stream",
          "text": [
            "Error fetching content: HTTPConnectionPool(host='on.cnn.com', port=80): Max retries exceeded with url: /17CqV97 (Caused by ConnectTimeoutError(<urllib3.connection.HTTPConnection object at 0x7b451eefb250>, 'Connection to on.cnn.com timed out. (connect timeout=10)'))\n"
          ]
        },
        {
          "metadata": {
            "tags": null
          },
          "name": "stderr",
          "output_type": "stream",
          "text": [
            "Extracting content:  44%|████▎     | 1437/3299 [18:05<2:16:47,  4.41s/it]"
          ]
        },
        {
          "metadata": {
            "tags": null
          },
          "name": "stdout",
          "output_type": "stream",
          "text": [
            "Error fetching content: HTTPConnectionPool(host='on.cnn.com', port=80): Max retries exceeded with url: /14ZxqlW (Caused by ConnectTimeoutError(<urllib3.connection.HTTPConnection object at 0x7b451eb7f520>, 'Connection to on.cnn.com timed out. (connect timeout=10)'))\n"
          ]
        },
        {
          "metadata": {
            "tags": null
          },
          "name": "stderr",
          "output_type": "stream",
          "text": [
            "Extracting content:  44%|████▎     | 1441/3299 [18:16<2:09:58,  4.20s/it]"
          ]
        },
        {
          "metadata": {
            "tags": null
          },
          "name": "stdout",
          "output_type": "stream",
          "text": [
            "Error fetching content: HTTPConnectionPool(host='on.cnn.com', port=80): Max retries exceeded with url: /17CA9QU (Caused by ConnectTimeoutError(<urllib3.connection.HTTPConnection object at 0x7b451e347850>, 'Connection to on.cnn.com timed out. (connect timeout=10)'))\n"
          ]
        },
        {
          "metadata": {
            "tags": null
          },
          "name": "stderr",
          "output_type": "stream",
          "text": [
            "Extracting content:  44%|████▍     | 1448/3299 [18:28<1:52:33,  3.65s/it]"
          ]
        },
        {
          "metadata": {
            "tags": null
          },
          "name": "stdout",
          "output_type": "stream",
          "text": [
            "Error fetching content: HTTPConnectionPool(host='on.cnn.com', port=80): Max retries exceeded with url: /14kEIx0 (Caused by ConnectTimeoutError(<urllib3.connection.HTTPConnection object at 0x7b451d935540>, 'Connection to on.cnn.com timed out. (connect timeout=10)'))\n"
          ]
        },
        {
          "metadata": {
            "tags": null
          },
          "name": "stderr",
          "output_type": "stream",
          "text": [
            "Extracting content:  44%|████▍     | 1452/3299 [18:39<2:03:28,  4.01s/it]"
          ]
        },
        {
          "metadata": {
            "tags": null
          },
          "name": "stdout",
          "output_type": "stream",
          "text": [
            "Error fetching content: HTTPConnectionPool(host='on.cnn.com', port=80): Max retries exceeded with url: /14HGWdj (Caused by ConnectTimeoutError(<urllib3.connection.HTTPConnection object at 0x7b451d26ac50>, 'Connection to on.cnn.com timed out. (connect timeout=10)'))\n"
          ]
        },
        {
          "metadata": {
            "tags": null
          },
          "name": "stderr",
          "output_type": "stream",
          "text": [
            "\rExtracting content:  44%|████▍     | 1453/3299 [18:49<2:58:47,  5.81s/it]"
          ]
        },
        {
          "metadata": {
            "tags": null
          },
          "name": "stdout",
          "output_type": "stream",
          "text": [
            "Error fetching content: HTTPConnectionPool(host='on.cnn.com', port=80): Max retries exceeded with url: /1ckDfMr (Caused by ConnectTimeoutError(<urllib3.connection.HTTPConnection object at 0x7b451d26b490>, 'Connection to on.cnn.com timed out. (connect timeout=10)'))\n"
          ]
        },
        {
          "metadata": {
            "tags": null
          },
          "name": "stderr",
          "output_type": "stream",
          "text": [
            "Extracting content:  44%|████▍     | 1465/3299 [19:03<1:43:16,  3.38s/it]"
          ]
        },
        {
          "metadata": {
            "tags": null
          },
          "name": "stdout",
          "output_type": "stream",
          "text": [
            "Error fetching content: HTTPConnectionPool(host='on.cnn.com', port=80): Max retries exceeded with url: /17fASZX (Caused by ConnectTimeoutError(<urllib3.connection.HTTPConnection object at 0x7b451b7fc2b0>, 'Connection to on.cnn.com timed out. (connect timeout=10)'))\n"
          ]
        },
        {
          "metadata": {
            "tags": null
          },
          "name": "stderr",
          "output_type": "stream",
          "text": [
            "Extracting content:  44%|████▍     | 1467/3299 [19:14<2:24:09,  4.72s/it]"
          ]
        },
        {
          "metadata": {
            "tags": null
          },
          "name": "stdout",
          "output_type": "stream",
          "text": [
            "Error fetching content: HTTPConnectionPool(host='on.cnn.com', port=80): Max retries exceeded with url: /14VinpN (Caused by ConnectTimeoutError(<urllib3.connection.HTTPConnection object at 0x7b451b48d780>, 'Connection to on.cnn.com timed out. (connect timeout=10)'))\n"
          ]
        },
        {
          "metadata": {
            "tags": null
          },
          "name": "stderr",
          "output_type": "stream",
          "text": [
            "\rExtracting content:  44%|████▍     | 1468/3299 [19:24<3:12:34,  6.31s/it]"
          ]
        },
        {
          "metadata": {
            "tags": null
          },
          "name": "stdout",
          "output_type": "stream",
          "text": [
            "Error fetching content: HTTPConnectionPool(host='on.cnn.com', port=80): Max retries exceeded with url: /13XdD2S (Caused by ConnectTimeoutError(<urllib3.connection.HTTPConnection object at 0x7b451b48dfc0>, 'Connection to on.cnn.com timed out. (connect timeout=10)'))\n"
          ]
        },
        {
          "metadata": {
            "tags": null
          },
          "name": "stderr",
          "output_type": "stream",
          "text": [
            "Extracting content:  45%|████▍     | 1478/3299 [19:36<1:26:35,  2.85s/it]"
          ]
        },
        {
          "metadata": {
            "tags": null
          },
          "name": "stdout",
          "output_type": "stream",
          "text": [
            "Error fetching content: HTTPConnectionPool(host='on.cnn.com', port=80): Max retries exceeded with url: /1cVdUwc (Caused by ConnectTimeoutError(<urllib3.connection.HTTPConnection object at 0x7b451a406b60>, 'Connection to on.cnn.com timed out. (connect timeout=10)'))\n"
          ]
        },
        {
          "metadata": {
            "tags": null
          },
          "name": "stderr",
          "output_type": "stream",
          "text": [
            "Extracting content:  45%|████▍     | 1480/3299 [19:47<2:10:47,  4.31s/it]"
          ]
        },
        {
          "metadata": {
            "tags": null
          },
          "name": "stdout",
          "output_type": "stream",
          "text": [
            "Error fetching content: HTTPConnectionPool(host='on.cnn.com', port=80): Max retries exceeded with url: /1d3wr8I (Caused by ConnectTimeoutError(<urllib3.connection.HTTPConnection object at 0x7b451a085990>, 'Connection to on.cnn.com timed out. (connect timeout=10)'))\n"
          ]
        },
        {
          "metadata": {
            "tags": null
          },
          "name": "stderr",
          "output_type": "stream",
          "text": [
            "\rExtracting content:  45%|████▍     | 1481/3299 [19:47<1:36:30,  3.18s/it]"
          ]
        },
        {
          "metadata": {
            "tags": null
          },
          "name": "stdout",
          "output_type": "stream",
          "text": [
            "Error fetching content: Failed to parse: http://t.…\n"
          ]
        },
        {
          "metadata": {
            "tags": null
          },
          "name": "stderr",
          "output_type": "stream",
          "text": [
            "Extracting content:  45%|████▌     | 1488/3299 [19:58<1:42:12,  3.39s/it]"
          ]
        },
        {
          "metadata": {
            "tags": null
          },
          "name": "stdout",
          "output_type": "stream",
          "text": [
            "Error fetching content: HTTPConnectionPool(host='on.cnn.com', port=80): Max retries exceeded with url: /18A1BQf (Caused by ConnectTimeoutError(<urllib3.connection.HTTPConnection object at 0x7b4519181ea0>, 'Connection to on.cnn.com timed out. (connect timeout=10)'))\n"
          ]
        },
        {
          "metadata": {
            "tags": null
          },
          "name": "stderr",
          "output_type": "stream",
          "text": [
            "\rExtracting content:  45%|████▌     | 1489/3299 [20:08<2:39:56,  5.30s/it]"
          ]
        },
        {
          "metadata": {
            "tags": null
          },
          "name": "stdout",
          "output_type": "stream",
          "text": [
            "Error fetching content: HTTPConnectionPool(host='on.cnn.com', port=80): Max retries exceeded with url: /18zNhah (Caused by ConnectTimeoutError(<urllib3.connection.HTTPConnection object at 0x7b4519182740>, 'Connection to on.cnn.com timed out. (connect timeout=10)'))\n"
          ]
        },
        {
          "metadata": {
            "tags": null
          },
          "name": "stderr",
          "output_type": "stream",
          "text": [
            "\rExtracting content:  45%|████▌     | 1491/3299 [20:19<2:36:00,  5.18s/it]"
          ]
        },
        {
          "metadata": {
            "tags": null
          },
          "name": "stdout",
          "output_type": "stream",
          "text": [
            "Error fetching content: HTTPConnectionPool(host='on.cnn.com', port=80): Max retries exceeded with url: /16q8AgT (Caused by ConnectTimeoutError(<urllib3.connection.HTTPConnection object at 0x7b4519182980>, 'Connection to on.cnn.com timed out. (connect timeout=10)'))\n"
          ]
        },
        {
          "metadata": {
            "tags": null
          },
          "name": "stderr",
          "output_type": "stream",
          "text": [
            "Extracting content:  45%|████▌     | 1493/3299 [20:29<2:46:47,  5.54s/it]"
          ]
        },
        {
          "metadata": {
            "tags": null
          },
          "name": "stdout",
          "output_type": "stream",
          "text": [
            "Error fetching content: HTTPConnectionPool(host='on.cnn.com', port=80): Max retries exceeded with url: /14BTmPt (Caused by ConnectTimeoutError(<urllib3.connection.HTTPConnection object at 0x7b4518ffd900>, 'Connection to on.cnn.com timed out. (connect timeout=10)'))\n"
          ]
        },
        {
          "metadata": {
            "tags": null
          },
          "name": "stderr",
          "output_type": "stream",
          "text": [
            "Extracting content:  45%|████▌     | 1497/3299 [20:40<1:58:22,  3.94s/it]"
          ]
        },
        {
          "metadata": {
            "tags": null
          },
          "name": "stdout",
          "output_type": "stream",
          "text": [
            "Error fetching content: HTTPConnectionPool(host='on.cnn.com', port=80): Max retries exceeded with url: /1a61Ypn (Caused by ConnectTimeoutError(<urllib3.connection.HTTPConnection object at 0x7b4518ae7c10>, 'Connection to on.cnn.com timed out. (connect timeout=10)'))\n"
          ]
        },
        {
          "metadata": {
            "tags": null
          },
          "name": "stderr",
          "output_type": "stream",
          "text": [
            "Extracting content:  46%|████▌     | 1505/3299 [20:52<1:22:39,  2.76s/it]"
          ]
        },
        {
          "metadata": {
            "tags": null
          },
          "name": "stdout",
          "output_type": "stream",
          "text": [
            "Error fetching content: HTTPConnectionPool(host='on.cnn.com', port=80): Max retries exceeded with url: /1cIwDdA (Caused by ConnectTimeoutError(<urllib3.connection.HTTPConnection object at 0x7b4517c2e170>, 'Connection to on.cnn.com timed out. (connect timeout=10)'))\n"
          ]
        },
        {
          "metadata": {
            "tags": null
          },
          "name": "stderr",
          "output_type": "stream",
          "text": [
            "Extracting content:  46%|████▌     | 1508/3299 [21:02<1:56:51,  3.91s/it]"
          ]
        },
        {
          "metadata": {
            "tags": null
          },
          "name": "stdout",
          "output_type": "stream",
          "text": [
            "Error fetching content: HTTPConnectionPool(host='on.cnn.com', port=80): Max retries exceeded with url: /14emLPm (Caused by ConnectTimeoutError(<urllib3.connection.HTTPConnection object at 0x7b451772cac0>, 'Connection to on.cnn.com timed out. (connect timeout=10)'))\n"
          ]
        },
        {
          "metadata": {
            "tags": null
          },
          "name": "stderr",
          "output_type": "stream",
          "text": [
            "\rExtracting content:  46%|████▌     | 1509/3299 [21:12<2:47:25,  5.61s/it]"
          ]
        },
        {
          "metadata": {
            "tags": null
          },
          "name": "stdout",
          "output_type": "stream",
          "text": [
            "Error fetching content: HTTPConnectionPool(host='on.cnn.com', port=80): Max retries exceeded with url: /14e3Rs3 (Caused by ConnectTimeoutError(<urllib3.connection.HTTPConnection object at 0x7b451772d1e0>, 'Connection to on.cnn.com timed out. (connect timeout=10)'))\n"
          ]
        },
        {
          "metadata": {
            "tags": null
          },
          "name": "stderr",
          "output_type": "stream",
          "text": [
            "Extracting content:  46%|████▌     | 1511/3299 [21:23<2:53:53,  5.84s/it]"
          ]
        },
        {
          "metadata": {
            "tags": null
          },
          "name": "stdout",
          "output_type": "stream",
          "text": [
            "Error fetching content: HTTPConnectionPool(host='on.cnn.com', port=80): Max retries exceeded with url: /13n9THC (Caused by ConnectTimeoutError(<urllib3.connection.HTTPConnection object at 0x7b4517572620>, 'Connection to on.cnn.com timed out. (connect timeout=10)'))\n"
          ]
        },
        {
          "metadata": {
            "tags": null
          },
          "name": "stderr",
          "output_type": "stream",
          "text": [
            "Extracting content:  46%|████▌     | 1514/3299 [21:33<2:32:13,  5.12s/it]"
          ]
        },
        {
          "metadata": {
            "tags": null
          },
          "name": "stdout",
          "output_type": "stream",
          "text": [
            "Error fetching content: HTTPConnectionPool(host='on.cnn.com', port=80): Max retries exceeded with url: /145lev5 (Caused by ConnectTimeoutError(<urllib3.connection.HTTPConnection object at 0x7b4517603790>, 'Connection to on.cnn.com timed out. (connect timeout=10)'))\n"
          ]
        },
        {
          "metadata": {
            "tags": null
          },
          "name": "stderr",
          "output_type": "stream",
          "text": [
            "Extracting content:  46%|████▌     | 1518/3299 [21:44<2:06:33,  4.26s/it]"
          ]
        },
        {
          "metadata": {
            "tags": null
          },
          "name": "stdout",
          "output_type": "stream",
          "text": [
            "Error fetching content: HTTPConnectionPool(host='on.cnn.com', port=80): Max retries exceeded with url: /15KDAFB (Caused by ConnectTimeoutError(<urllib3.connection.HTTPConnection object at 0x7b45170ad1b0>, 'Connection to on.cnn.com timed out. (connect timeout=10)'))\n"
          ]
        },
        {
          "metadata": {
            "tags": null
          },
          "name": "stderr",
          "output_type": "stream",
          "text": [
            "\rExtracting content:  46%|████▌     | 1519/3299 [21:54<2:52:43,  5.82s/it]"
          ]
        },
        {
          "metadata": {
            "tags": null
          },
          "name": "stdout",
          "output_type": "stream",
          "text": [
            "Error fetching content: HTTPConnectionPool(host='on.cnn.com', port=80): Max retries exceeded with url: /15LPu1X (Caused by ConnectTimeoutError(<urllib3.connection.HTTPConnection object at 0x7b45170ad9f0>, 'Connection to on.cnn.com timed out. (connect timeout=10)'))\n"
          ]
        },
        {
          "metadata": {
            "tags": null
          },
          "name": "stderr",
          "output_type": "stream",
          "text": [
            "Extracting content:  46%|████▌     | 1523/3299 [22:05<2:12:04,  4.46s/it]"
          ]
        },
        {
          "metadata": {
            "tags": null
          },
          "name": "stdout",
          "output_type": "stream",
          "text": [
            "Error fetching content: HTTPConnectionPool(host='on.cnn.com', port=80): Max retries exceeded with url: /12V7EQL (Caused by ConnectTimeoutError(<urllib3.connection.HTTPConnection object at 0x7b4516d25090>, 'Connection to on.cnn.com timed out. (connect timeout=10)'))\n"
          ]
        },
        {
          "metadata": {
            "tags": null
          },
          "name": "stderr",
          "output_type": "stream",
          "text": [
            "Extracting content:  46%|████▋     | 1527/3299 [22:15<2:00:16,  4.07s/it]"
          ]
        },
        {
          "metadata": {
            "tags": null
          },
          "name": "stdout",
          "output_type": "stream",
          "text": [
            "Error fetching content: HTTPConnectionPool(host='on.cnn.com', port=80): Max retries exceeded with url: /1ehdA6x (Caused by ConnectTimeoutError(<urllib3.connection.HTTPConnection object at 0x7b4516bafeb0>, 'Connection to on.cnn.com timed out. (connect timeout=10)'))\n"
          ]
        },
        {
          "metadata": {
            "tags": null
          },
          "name": "stderr",
          "output_type": "stream",
          "text": [
            "\rExtracting content:  46%|████▋     | 1528/3299 [22:25<2:46:03,  5.63s/it]"
          ]
        },
        {
          "metadata": {
            "tags": null
          },
          "name": "stdout",
          "output_type": "stream",
          "text": [
            "Error fetching content: HTTPConnectionPool(host='on.cnn.com', port=80): Max retries exceeded with url: /19BXRBn (Caused by ConnectTimeoutError(<urllib3.connection.HTTPConnection object at 0x7b4516be88b0>, 'Connection to on.cnn.com timed out. (connect timeout=10)'))\n"
          ]
        },
        {
          "metadata": {
            "tags": null
          },
          "name": "stderr",
          "output_type": "stream",
          "text": [
            "\rExtracting content:  46%|████▋     | 1529/3299 [22:35<3:21:12,  6.82s/it]"
          ]
        },
        {
          "metadata": {
            "tags": null
          },
          "name": "stdout",
          "output_type": "stream",
          "text": [
            "Error fetching content: HTTPConnectionPool(host='on.cnn.com', port=80): Max retries exceeded with url: /19BPLZx (Caused by ConnectTimeoutError(<urllib3.connection.HTTPConnection object at 0x7b4516be90f0>, 'Connection to on.cnn.com timed out. (connect timeout=10)'))\n"
          ]
        },
        {
          "metadata": {
            "tags": null
          },
          "name": "stderr",
          "output_type": "stream",
          "text": [
            "Extracting content:  46%|████▋     | 1531/3299 [22:46<3:09:27,  6.43s/it]"
          ]
        },
        {
          "metadata": {
            "tags": null
          },
          "name": "stdout",
          "output_type": "stream",
          "text": [
            "Error fetching content: HTTPConnectionPool(host='on.cnn.com', port=80): Max retries exceeded with url: /1aZuSVO (Caused by ConnectTimeoutError(<urllib3.connection.HTTPConnection object at 0x7b451682a7a0>, 'Connection to on.cnn.com timed out. (connect timeout=10)'))\n"
          ]
        },
        {
          "metadata": {
            "tags": null
          },
          "name": "stderr",
          "output_type": "stream",
          "text": [
            "Extracting content:  47%|████▋     | 1537/3299 [22:57<1:43:30,  3.52s/it]"
          ]
        },
        {
          "metadata": {
            "tags": null
          },
          "name": "stdout",
          "output_type": "stream",
          "text": [
            "Error fetching content: HTTPConnectionPool(host='on.cnn.com', port=80): Max retries exceeded with url: /1ebuQdp (Caused by ConnectTimeoutError(<urllib3.connection.HTTPConnection object at 0x7b4515e25360>, 'Connection to on.cnn.com timed out. (connect timeout=10)'))\n"
          ]
        },
        {
          "metadata": {
            "tags": null
          },
          "name": "stderr",
          "output_type": "stream",
          "text": [
            "Extracting content:  47%|████▋     | 1540/3299 [23:07<2:04:48,  4.26s/it]"
          ]
        },
        {
          "metadata": {
            "tags": null
          },
          "name": "stdout",
          "output_type": "stream",
          "text": [
            "Error fetching content: HTTPConnectionPool(host='on.cnn.com', port=80): Max retries exceeded with url: /13i1ZCE (Caused by ConnectTimeoutError(<urllib3.connection.HTTPConnection object at 0x7b451591c2e0>, 'Connection to on.cnn.com timed out. (connect timeout=10)'))\n"
          ]
        },
        {
          "metadata": {
            "tags": null
          },
          "name": "stderr",
          "output_type": "stream",
          "text": [
            "Extracting content:  47%|████▋     | 1542/3299 [23:18<2:30:51,  5.15s/it]"
          ]
        },
        {
          "metadata": {
            "tags": null
          },
          "name": "stdout",
          "output_type": "stream",
          "text": [
            "Error fetching content: HTTPConnectionPool(host='on.cnn.com', port=80): Max retries exceeded with url: /13X0Hg2 (Caused by ConnectTimeoutError(<urllib3.connection.HTTPConnection object at 0x7b45157980a0>, 'Connection to on.cnn.com timed out. (connect timeout=10)'))\n"
          ]
        },
        {
          "metadata": {
            "tags": null
          },
          "name": "stderr",
          "output_type": "stream",
          "text": [
            "\rExtracting content:  47%|████▋     | 1543/3299 [23:28<3:12:21,  6.57s/it]"
          ]
        },
        {
          "metadata": {
            "tags": null
          },
          "name": "stdout",
          "output_type": "stream",
          "text": [
            "Error fetching content: HTTPConnectionPool(host='on.cnn.com', port=80): Max retries exceeded with url: /13shzba (Caused by ConnectTimeoutError(<urllib3.connection.HTTPConnection object at 0x7b45157988e0>, 'Connection to on.cnn.com timed out. (connect timeout=10)'))\n"
          ]
        },
        {
          "metadata": {
            "tags": null
          },
          "name": "stderr",
          "output_type": "stream",
          "text": [
            "Extracting content:  48%|████▊     | 1583/3299 [23:50<1:09:44,  2.44s/it]"
          ]
        },
        {
          "metadata": {
            "tags": null
          },
          "name": "stdout",
          "output_type": "stream",
          "text": [
            "Error fetching content: HTTPConnectionPool(host='on.cnn.com', port=80): Max retries exceeded with url: /1bJzyAH (Caused by ConnectTimeoutError(<urllib3.connection.HTTPConnection object at 0x7b4510e80ee0>, 'Connection to on.cnn.com timed out. (connect timeout=10)'))\n"
          ]
        },
        {
          "metadata": {
            "tags": null
          },
          "name": "stderr",
          "output_type": "stream",
          "text": [
            "Extracting content:  50%|████▉     | 1637/3299 [24:01<07:09,  3.87it/s]"
          ]
        },
        {
          "metadata": {
            "tags": null
          },
          "name": "stdout",
          "output_type": "stream",
          "text": [
            "Error fetching content: HTTPConnectionPool(host='on.cnn.com', port=80): Max retries exceeded with url: /15fu7nP (Caused by ConnectTimeoutError(<urllib3.connection.HTTPConnection object at 0x7b45105f7730>, 'Connection to on.cnn.com timed out. (connect timeout=10)'))\n"
          ]
        },
        {
          "metadata": {
            "tags": null
          },
          "name": "stderr",
          "output_type": "stream",
          "text": [
            "Extracting content:  51%|█████     | 1671/3299 [24:02<02:16, 11.90it/s]"
          ]
        },
        {
          "metadata": {
            "tags": null
          },
          "name": "stdout",
          "output_type": "stream",
          "text": [
            "Error fetching content: ('Connection aborted.', RemoteDisconnected('Remote end closed connection without response'))\n",
            "Error fetching content: ('Connection aborted.', RemoteDisconnected('Remote end closed connection without response'))\n"
          ]
        },
        {
          "metadata": {
            "tags": null
          },
          "name": "stderr",
          "output_type": "stream",
          "text": [
            "Extracting content:  52%|█████▏    | 1724/3299 [24:02<00:36, 43.46it/s]"
          ]
        },
        {
          "metadata": {
            "tags": null
          },
          "name": "stdout",
          "output_type": "stream",
          "text": [
            "Error fetching content: HTTPConnectionPool(host='on.cnn.com', port=80): Max retries exceeded with url: /11pVr3P (Caused by ConnectTimeoutError(<urllib3.connection.HTTPConnection object at 0x7b45105f78b0>, 'Connection to on.cnn.com timed out. (connect timeout=10)'))\n"
          ]
        },
        {
          "metadata": {
            "tags": null
          },
          "name": "stderr",
          "output_type": "stream",
          "text": [
            "\rExtracting content:  53%|█████▎    | 1737/3299 [24:12<06:43,  3.87it/s]"
          ]
        },
        {
          "metadata": {
            "tags": null
          },
          "name": "stdout",
          "output_type": "stream",
          "text": [
            "Error fetching content: Failed to parse: http://t.co…\n"
          ]
        },
        {
          "metadata": {
            "tags": null
          },
          "name": "stderr",
          "output_type": "stream",
          "text": [
            "\rExtracting content:  53%|█████▎    | 1742/3299 [24:22<13:11,  1.97it/s]"
          ]
        },
        {
          "metadata": {
            "tags": null
          },
          "name": "stdout",
          "output_type": "stream",
          "text": [
            "Error fetching content: HTTPConnectionPool(host='on.cnn.com', port=80): Max retries exceeded with url: /16KclLy (Caused by ConnectTimeoutError(<urllib3.connection.HTTPConnection object at 0x7b4510280eb0>, 'Connection to on.cnn.com timed out. (connect timeout=10)'))\n"
          ]
        },
        {
          "metadata": {
            "tags": null
          },
          "name": "stderr",
          "output_type": "stream",
          "text": [
            "\rExtracting content:  53%|█████▎    | 1743/3299 [24:24<14:04,  1.84it/s]"
          ]
        },
        {
          "metadata": {
            "tags": null
          },
          "name": "stdout",
          "output_type": "stream",
          "text": [
            "Error fetching content: HTTPConnectionPool(host='on.cnn.com', port=80): Max retries exceeded with url: /102LiJF (Caused by ConnectTimeoutError(<urllib3.connection.HTTPConnection object at 0x7b45102819c0>, 'Connection to on.cnn.com timed out. (connect timeout=10)'))\n"
          ]
        },
        {
          "metadata": {
            "tags": null
          },
          "name": "stderr",
          "output_type": "stream",
          "text": [
            "Extracting content:  53%|█████▎    | 1745/3299 [24:44<38:46,  1.50s/it]"
          ]
        },
        {
          "metadata": {
            "tags": null
          },
          "name": "stdout",
          "output_type": "stream",
          "text": [
            "Error fetching content: HTTPConnectionPool(host='on.cnn.com', port=80): Max retries exceeded with url: /102JZKw (Caused by ConnectTimeoutError(<urllib3.connection.HTTPConnection object at 0x7b4510282620>, 'Connection to on.cnn.com timed out. (connect timeout=10)'))\n"
          ]
        },
        {
          "metadata": {
            "tags": null
          },
          "name": "stderr",
          "output_type": "stream",
          "text": [
            "\rExtracting content:  53%|█████▎    | 1746/3299 [24:54<53:34,  2.07s/it]"
          ]
        },
        {
          "metadata": {
            "tags": null
          },
          "name": "stdout",
          "output_type": "stream",
          "text": [
            "Error fetching content: HTTPConnectionPool(host='on.cnn.com', port=80): Max retries exceeded with url: /1038PKd (Caused by ConnectTimeoutError(<urllib3.connection.HTTPConnection object at 0x7b4510282ce0>, 'Connection to on.cnn.com timed out. (connect timeout=10)'))\n"
          ]
        },
        {
          "metadata": {
            "tags": null
          },
          "name": "stderr",
          "output_type": "stream",
          "text": [
            "\rExtracting content:  53%|█████▎    | 1747/3299 [25:04<1:11:32,  2.77s/it]"
          ]
        },
        {
          "metadata": {
            "tags": null
          },
          "name": "stdout",
          "output_type": "stream",
          "text": [
            "Error fetching content: HTTPConnectionPool(host='on.cnn.com', port=80): Max retries exceeded with url: /102IGeK (Caused by ConnectTimeoutError(<urllib3.connection.HTTPConnection object at 0x7b4510283520>, 'Connection to on.cnn.com timed out. (connect timeout=10)'))\n"
          ]
        },
        {
          "metadata": {
            "tags": null
          },
          "name": "stderr",
          "output_type": "stream",
          "text": [
            "\rExtracting content:  53%|█████▎    | 1748/3299 [25:06<1:08:47,  2.66s/it]"
          ]
        },
        {
          "metadata": {
            "tags": null
          },
          "name": "stdout",
          "output_type": "stream",
          "text": [
            "Error fetching content: HTTPConnectionPool(host='on.cnn.com', port=80): Max retries exceeded with url: /102IGeK (Caused by ConnectTimeoutError(<urllib3.connection.HTTPConnection object at 0x7b45102827d0>, 'Connection to on.cnn.com timed out. (connect timeout=10)'))\n"
          ]
        },
        {
          "metadata": {
            "tags": null
          },
          "name": "stderr",
          "output_type": "stream",
          "text": [
            "Extracting content:  53%|█████▎    | 1763/3299 [25:26<35:12,  1.38s/it]  "
          ]
        },
        {
          "metadata": {
            "tags": null
          },
          "name": "stdout",
          "output_type": "stream",
          "text": [
            "Error fetching content: HTTPConnectionPool(host='on.cnn.com', port=80): Max retries exceeded with url: /102KWCK (Caused by ConnectTimeoutError(<urllib3.connection.HTTPConnection object at 0x7b4510282c80>, 'Connection to on.cnn.com timed out. (connect timeout=10)'))\n"
          ]
        },
        {
          "metadata": {
            "tags": null
          },
          "name": "stderr",
          "output_type": "stream",
          "text": [
            "Extracting content:  58%|█████▊    | 1903/3299 [25:38<06:38,  3.50it/s]"
          ]
        },
        {
          "metadata": {
            "tags": null
          },
          "name": "stdout",
          "output_type": "stream",
          "text": [
            "Error fetching content: HTTPConnectionPool(host='on.cnn.com', port=80): Max retries exceeded with url: /10plI1Z (Caused by ConnectTimeoutError(<urllib3.connection.HTTPConnection object at 0x7b45102c5c00>, 'Connection to on.cnn.com timed out. (connect timeout=10)'))\n"
          ]
        },
        {
          "metadata": {
            "tags": null
          },
          "name": "stderr",
          "output_type": "stream",
          "text": [
            "Extracting content:  59%|█████▉    | 1954/3299 [25:50<06:57,  3.22it/s]"
          ]
        },
        {
          "metadata": {
            "tags": null
          },
          "name": "stdout",
          "output_type": "stream",
          "text": [
            "Error fetching content: HTTPConnectionPool(host='on.cnn.com', port=80): Max retries exceeded with url: /10IBAw0 (Caused by ConnectTimeoutError(<urllib3.connection.HTTPConnection object at 0x7b450ff42f80>, 'Connection to on.cnn.com timed out. (connect timeout=10)'))\n"
          ]
        },
        {
          "metadata": {
            "tags": null
          },
          "name": "stderr",
          "output_type": "stream",
          "text": [
            "Extracting content:  61%|██████▏   | 2027/3299 [25:53<01:26, 14.78it/s]"
          ]
        },
        {
          "metadata": {
            "tags": null
          },
          "name": "stdout",
          "output_type": "stream",
          "text": [
            "Error fetching content: ('Connection aborted.', RemoteDisconnected('Remote end closed connection without response'))\n"
          ]
        },
        {
          "metadata": {
            "tags": null
          },
          "name": "stderr",
          "output_type": "stream",
          "text": [
            "Extracting content:  62%|██████▏   | 2046/3299 [26:03<05:03,  4.13it/s]"
          ]
        },
        {
          "metadata": {
            "tags": null
          },
          "name": "stdout",
          "output_type": "stream",
          "text": [
            "Error fetching content: HTTPConnectionPool(host='on.cnn.com', port=80): Max retries exceeded with url: /15ApskV (Caused by ConnectTimeoutError(<urllib3.connection.HTTPConnection object at 0x7b450fbfe230>, 'Connection to on.cnn.com timed out. (connect timeout=10)'))\n"
          ]
        },
        {
          "metadata": {
            "tags": null
          },
          "name": "stderr",
          "output_type": "stream",
          "text": [
            "Extracting content:  76%|███████▌  | 2500/3299 [26:29<00:23, 34.11it/s]"
          ]
        },
        {
          "metadata": {
            "tags": null
          },
          "name": "stdout",
          "output_type": "stream",
          "text": [
            "Error fetching content: HTTPConnectionPool(host='t.c', port=80): Max retries exceeded with url: / (Caused by NameResolutionError(\"<urllib3.connection.HTTPConnection object at 0x7b450f5a4fd0>: Failed to resolve 't.c' ([Errno -2] Name or service not known)\"))\n"
          ]
        },
        {
          "metadata": {
            "tags": null
          },
          "name": "stderr",
          "output_type": "stream",
          "text": [
            "Extracting content:  76%|███████▋  | 2521/3299 [26:29<00:20, 38.39it/s]"
          ]
        },
        {
          "metadata": {
            "tags": null
          },
          "name": "stdout",
          "output_type": "stream",
          "text": [
            "Error fetching content: HTTPSConnectionPool(host='makingcancerhistory.com', port=443): Max retries exceeded with url: /WhyMDA/Myths.html (Caused by SSLError(SSLError(1, '[SSL: WRONG_SIGNATURE_TYPE] wrong signature type (_ssl.c:1007)')))\n"
          ]
        },
        {
          "metadata": {
            "tags": null
          },
          "name": "stderr",
          "output_type": "stream",
          "text": [
            "Extracting content:  80%|███████▉  | 2639/3299 [26:34<00:12, 51.48it/s]"
          ]
        },
        {
          "metadata": {
            "tags": null
          },
          "name": "stdout",
          "output_type": "stream",
          "text": [
            "Error fetching content: HTTPConnectionPool(host='t.', port=80): Max retries exceeded with url: / (Caused by NameResolutionError(\"<urllib3.connection.HTTPConnection object at 0x7b450f139e40>: Failed to resolve 't' ([Errno -2] Name or service not known)\"))\n"
          ]
        },
        {
          "metadata": {
            "tags": null
          },
          "name": "stderr",
          "output_type": "stream",
          "text": [
            "Extracting content:  81%|████████  | 2662/3299 [26:34<00:13, 47.87it/s]"
          ]
        },
        {
          "metadata": {
            "tags": null
          },
          "name": "stdout",
          "output_type": "stream",
          "text": [
            "Error fetching content: HTTPConnectionPool(host='t.c', port=80): Max retries exceeded with url: / (Caused by NameResolutionError(\"<urllib3.connection.HTTPConnection object at 0x7b450f13b610>: Failed to resolve 't.c' ([Errno -2] Name or service not known)\"))\n"
          ]
        },
        {
          "metadata": {
            "tags": null
          },
          "name": "stderr",
          "output_type": "stream",
          "text": [
            "Extracting content: 100%|██████████| 3299/3299 [26:55<00:00,  2.04it/s]"
          ]
        },
        {
          "metadata": {
            "tags": null
          },
          "name": "stdout",
          "output_type": "stream",
          "text": [
            "Error fetching content: HTTPConnectionPool(host='on.cnn.com', port=80): Max retries exceeded with url: /SO1PxT (Caused by ConnectTimeoutError(<urllib3.connection.HTTPConnection object at 0x7b450dbd85b0>, 'Connection to on.cnn.com timed out. (connect timeout=10)'))\n"
          ]
        },
        {
          "metadata": {
            "tags": null
          },
          "name": "stderr",
          "output_type": "stream",
          "text": [
            "\n"
          ]
        }
      ]
    },
    {
      "cell_type": "code",
      "source": [
        "# Drop rows with missing content\n",
        "cnnhealth.dropna(subset=['Content'], inplace=True)\n",
        "\n",
        "# Combine content paragraphs into a single string\n",
        "cnnhealth['Content'] = [\" \".join([p_tag.text.strip() for p_tag in content]) for content in cnnhealth['Content']]"
      ],
      "metadata": {
        "id": "G_1LYUMD-Ofm"
      },
      "execution_count": null,
      "outputs": []
    },
    {
      "cell_type": "code",
      "source": [
        "# Clean the content data\n",
        "def clean_text(text):\n",
        "    text = re.sub(r'-', ' ', text)  # Substitute hyphens with empty spaces\n",
        "    text = re.sub(r'[^a-zA-Z\\s]', '', text)  # Remove non-alphabetic characters\n",
        "    text = text.lower()  # Convert text to lowercase\n",
        "    return text\n",
        "\n",
        "cnnhealth['Content'] = cnnhealth['Content'].apply(clean_text)"
      ],
      "metadata": {
        "id": "dkaPESWZHcB_"
      },
      "execution_count": null,
      "outputs": []
    },
    {
      "cell_type": "code",
      "source": [
        "# Convert to wordnet tags\n",
        "def get_wordnet_pos(tag):\n",
        "    if tag.startswith('J'):\n",
        "        return wordnet.ADJ\n",
        "    elif tag.startswith('V'):\n",
        "        return wordnet.VERB\n",
        "    elif tag.startswith('N'):\n",
        "        return wordnet.NOUN\n",
        "    elif tag.startswith('R'):\n",
        "        return wordnet.ADV\n",
        "    else:\n",
        "        return None  # Use default POS for lemmatization"
      ],
      "metadata": {
        "id": "-1323tzLOuRf"
      },
      "execution_count": null,
      "outputs": []
    },
    {
      "cell_type": "code",
      "source": [
        "# Tokenize and preprocess text data\n",
        "def preprocess_text(text):\n",
        "    tokens = word_tokenize(text)  # Tokenize text\n",
        "    lemmatizer = WordNetLemmatizer()  # Initialize lemmatizer\n",
        "    pos_tags = nltk.pos_tag(tokens)  # Get part-of-speech tags\n",
        "    for i, (token, tag) in enumerate(pos_tags):\n",
        "        pos = get_wordnet_pos(tag)  # Convert NLTK POS tags to WordNet POS tags\n",
        "        if pos:\n",
        "            tokens[i] = lemmatizer.lemmatize(token, pos=pos)  # Lemmatize tokens\n",
        "        else:\n",
        "            tokens[i] = lemmatizer.lemmatize(token)  # Use default POS for lemmatization\n",
        "    stop_words = set(stopwords.words('english'))  # Get stopwords\n",
        "    custom_stopwords = [    # Custom stopwords\n",
        "    \"patient\", \"doctor\", \"say\", \"year\", \"state\", \"day\", \"need\", \"come\", \"well\",\n",
        "    \"make\", \"think\", \"know\", \"go\", \"use\", \"one\", \"like\", \"people\", \"may\",\n",
        "    \"many\", \"still\", \"even\", \"two\", \"way\", \"good\", \"much\", \"back\", \"new\",\n",
        "    \"time\", \"first\", \"really\",\n",
        "    \"a\", \"b\", \"c\", \"d\", \"e\", \"f\", \"g\", \"h\", \"i\", \"j\", \"k\", \"l\", \"m\", \"n\",\n",
        "    \"o\", \"p\", \"q\", \"r\", \"s\", \"t\", \"u\", \"v\", \"w\", \"x\", \"y\", \"z\"\n",
        "    ]\n",
        "    tokens = [token for token in tokens if token not in stop_words and token not in custom_stopwords]  # Remove stopwords\n",
        "    return ' '.join(tokens)\n",
        "\n",
        "cnnhealth['Content'] = cnnhealth['Content'].apply(preprocess_text)"
      ],
      "metadata": {
        "id": "8kLZQrTPzm1p"
      },
      "execution_count": null,
      "outputs": []
    },
    {
      "cell_type": "code",
      "source": [
        "# Save preprocessed data to CSV\n",
        "cnnhealth.to_csv('cnnhealth_preprocessed.csv', index=False)"
      ],
      "metadata": {
        "id": "49KAL4r3AS2y"
      },
      "execution_count": null,
      "outputs": []
    },
    {
      "cell_type": "code",
      "source": [
        "# Define the directory path containing the .txt files\n",
        "directory = '/content'\n",
        "\n",
        "# Initialize an empty list to store DataFrames\n",
        "dfs = []\n",
        "\n",
        "# Iterate over all files in the directory\n",
        "for filename in os.listdir(directory):\n",
        "    if filename.endswith('.txt'):\n",
        "        # Read the .txt file into a DataFrame\n",
        "        df_name = os.path.splitext(filename)[0]  # Extract filename without extension\n",
        "        try:\n",
        "            df = pd.read_csv(os.path.join(directory, filename),\n",
        "                             sep=r\"(?<!\\s)[|](?!\\s)\",\n",
        "                             names=['ID', 'DateTime', 'Article Title and Link'],\n",
        "                             engine=\"python\")\n",
        "            # Add the DataFrame to the list\n",
        "            dfs.append(df)\n",
        "            print(f\"DataFrame '{df_name}' loaded with {len(df)} rows.\")\n",
        "        except UnicodeDecodeError:\n",
        "            print(f\"Error reading {filename}: UnicodeDecodeError. Skipping this file.\")\n",
        "\n",
        "# Concatenate all DataFrames in the list into one DataFrame\n",
        "combined_df = pd.concat(dfs, ignore_index=True)\n",
        "\n",
        "# Display the combined DataFrame\n",
        "print(\"Combined DataFrame:\")\n",
        "print(combined_df)"
      ],
      "metadata": {
        "id": "HjgVm5rcqaAd",
        "outputId": "1bf8eff0-79fb-4ca6-a2fe-363586f13a06",
        "colab": {
          "base_uri": "https://localhost:8080/"
        }
      },
      "execution_count": 2,
      "outputs": [
        {
          "output_type": "stream",
          "name": "stdout",
          "text": [
            "DataFrame 'everydayhealth' loaded with 3239 rows.\n",
            "DataFrame 'nprhealth' loaded with 4837 rows.\n",
            "DataFrame 'cnnhealth' loaded with 4061 rows.\n",
            "DataFrame 'cbchealth' loaded with 3741 rows.\n",
            "DataFrame 'latimeshealth' loaded with 4171 rows.\n",
            "Combined DataFrame:\n",
            "                       ID                        DateTime  \\\n",
            "0      304596701757464576  Thu Feb 21 14:21:27 +0000 2013   \n",
            "1      304595191329853441  Thu Feb 21 14:15:27 +0000 2013   \n",
            "2      304587659018371072  Thu Feb 21 13:45:31 +0000 2013   \n",
            "3      304580073380524032  Thu Feb 21 13:15:22 +0000 2013   \n",
            "4      304572560270573569  Thu Feb 21 12:45:31 +0000 2013   \n",
            "...                   ...                             ...   \n",
            "20044  144952345170690052  Fri Dec 09 01:31:46 +0000 2011   \n",
            "20045  144936916838649857  Fri Dec 09 00:30:28 +0000 2011   \n",
            "20046  144917037414756354  Thu Dec 08 23:11:28 +0000 2011   \n",
            "20047  144881597869592576  Thu Dec 08 20:50:39 +0000 2011   \n",
            "20048  144861369597050880  Thu Dec 08 19:30:16 +0000 2011   \n",
            "\n",
            "                                  Article Title and Link  \n",
            "0      #FastFood Makes Up 11 Percent of #Calories in ...  \n",
            "1      10 snacks to help you lose weight, burn fat, a...  \n",
            "2      10 foods that boost your skin AND slim your wa...  \n",
            "3      What a heart attack feels like in women (it's ...  \n",
            "4      #McDonalds oatmeal has almost 7 teaspoons of s...  \n",
            "...                                                  ...  \n",
            "20044  Shift work: Good for your pocketbook, bad for ...  \n",
            "20045  Hold the pasta: Starchy food linked to breast ...  \n",
            "20046  Chronic pain is common child complaint, study ...  \n",
            "20047  Sporadic low-carb diets may help lower weight,...  \n",
            "20048  O.B. Ultra tampons are coming back, and the co...  \n",
            "\n",
            "[20049 rows x 3 columns]\n"
          ]
        }
      ]
    },
    {
      "cell_type": "code",
      "source": [
        "# Extract all URLs from article titles and links in combined_df\n",
        "combined_df['URL'] = [re.findall(r'https?://\\S+', text) for text in combined_df['Article Title and Link']]\n",
        "\n",
        "# Drop rows with multiple or no URLs\n",
        "drop_indices = combined_df['Article Title and Link'][combined_df['URL'].apply(len) != 1].index\n",
        "combined_df.drop(drop_indices, inplace=True)\n",
        "\n",
        "# Extract URL for articles\n",
        "combined_df['URL'] = [url[0] for url in combined_df['URL']]\n"
      ],
      "metadata": {
        "id": "2uO-qr0QN4uU"
      },
      "execution_count": 3,
      "outputs": []
    },
    {
      "cell_type": "code",
      "source": [
        "!pip install fake-useragent"
      ],
      "metadata": {
        "id": "zN2VKf--XtCc",
        "outputId": "3719b794-c210-46db-ca2f-46a17dd328d0",
        "colab": {
          "base_uri": "https://localhost:8080/"
        }
      },
      "execution_count": 57,
      "outputs": [
        {
          "output_type": "stream",
          "name": "stdout",
          "text": [
            "Collecting fake-useragent\n",
            "  Downloading fake_useragent-1.5.1-py3-none-any.whl (17 kB)\n",
            "Installing collected packages: fake-useragent\n",
            "Successfully installed fake-useragent-1.5.1\n"
          ]
        }
      ]
    },
    {
      "cell_type": "code",
      "source": [
        "# Calculate the total number of rows\n",
        "total_rows = len(combined_df)\n",
        "\n",
        "# Calculate the size of each split\n",
        "split_size = total_rows // 10\n",
        "\n",
        "# Define the start and end indices for each split\n",
        "split_1 = combined_df.iloc[:split_size].copy()\n",
        "split_2 = combined_df.iloc[split_size:2*split_size].copy()\n",
        "split_3 = combined_df.iloc[2*split_size:3*split_size].copy()\n",
        "split_4 = combined_df.iloc[3*split_size:4*split_size].copy()\n",
        "split_5 = combined_df.iloc[4*split_size:5*split_size].copy()\n",
        "split_6 = combined_df.iloc[5*split_size:6*split_size].copy()\n",
        "split_7 = combined_df.iloc[6*split_size:7*split_size].copy()\n",
        "split_8 = combined_df.iloc[7*split_size:8*split_size].copy()\n",
        "split_9 = combined_df.iloc[8*split_size:9*split_size].copy()\n",
        "split_10 = combined_df.iloc[9*split_size:].copy()"
      ],
      "metadata": {
        "id": "6H5kM__OYobU"
      },
      "execution_count": 5,
      "outputs": []
    },
    {
      "cell_type": "code",
      "source": [
        "import requests\n",
        "from fake_useragent import UserAgent\n",
        "from bs4 import BeautifulSoup\n",
        "from urllib.parse import urlparse\n",
        "\n",
        "# Create a UserAgent instance\n",
        "ua = UserAgent()\n",
        "\n",
        "# Function to fetch content from a URL\n",
        "def fetch_content(url):\n",
        "    try:\n",
        "        # Define user-agent header using a random user agent\n",
        "        headers = {'User-Agent': ua.random}\n",
        "\n",
        "        # Create a session to handle cookies and maintain connection state\n",
        "        with requests.Session() as session:\n",
        "            response = session.get(url, headers=headers, timeout=4, allow_redirects=True)\n",
        "            response.raise_for_status()  # Raise an error for 4xx and 5xx status codes\n",
        "            final_url = response.url  # Get the final URL after following redirects\n",
        "            website_name = get_website_name(final_url)\n",
        "            return (response.text, website_name)\n",
        "    except Exception as e:\n",
        "        print(\"Error fetching content:\", e)\n",
        "        return (None, None)\n",
        "\n",
        "# Function to extract website name from URL\n",
        "def get_website_name(url):\n",
        "    parsed_url = urlparse(url)\n",
        "    return parsed_url.netloc\n",
        "\n",
        "# Function to extract body content from HTML using BeautifulSoup\n",
        "def extract_body(html_content_with_website_name):\n",
        "    html_content, website_name = html_content_with_website_name\n",
        "    if html_content:\n",
        "        soup = BeautifulSoup(html_content, 'html.parser')\n",
        "        if soup:\n",
        "            if website_name == 'www.cnn.com':\n",
        "                article_body = soup.findAll('p', class_='paragraph')\n",
        "            elif website_name == 'www.health.usnews.com':\n",
        "                article_body = soup.findAll('p')\n",
        "            elif website_name == 'www.latimes.com':\n",
        "                article_body = soup.findAll('p')\n",
        "            elif website_name == 'www.npr.org':\n",
        "                storytext_div = soup.find('div', id='storytext')\n",
        "                if storytext_div:\n",
        "                    article_body = storytext_div.find_all('p')\n",
        "                else:\n",
        "                    article_body = None\n",
        "            elif website_name == 'www.cbc.ca':\n",
        "                storytext_div = soup.find('div', class_='story')\n",
        "                if storytext_div:\n",
        "                    article_body = storytext_div.find_all('p')\n",
        "                else:\n",
        "                    article_body = None\n",
        "            else:\n",
        "                article_body = None\n",
        "\n",
        "            if article_body:\n",
        "                return article_body\n",
        "            else:\n",
        "                return None\n",
        "        else:\n",
        "            return None\n",
        "    else:\n",
        "        return None\n",
        "\n",
        "# Apply web scraping to extract content and store it in a new column\n",
        "def extract_content_with_progress(url_list):\n",
        "    content_list = []\n",
        "    for url in tqdm(url_list, desc='Extracting content'):\n",
        "        content = extract_body(fetch_content(url))\n",
        "        content_list.append(content)\n",
        "    return content_list\n",
        "\n",
        "# Apply web scraping to extract content and store it in a new column\n",
        "#combined_df['Content'] = extract_content_with_progress(combined_df['URL'])"
      ],
      "metadata": {
        "id": "FRU39yS1Vosk"
      },
      "execution_count": 62,
      "outputs": []
    },
    {
      "cell_type": "code",
      "source": [
        "split_1['Content'] = extract_content_with_progress(split_1['URL'])\n",
        "split_1.to_csv('split_1_preprocessed.csv', index=False)"
      ],
      "metadata": {
        "id": "7oM_CgS2aJZz"
      },
      "execution_count": null,
      "outputs": []
    },
    {
      "cell_type": "code",
      "source": [
        "split_2['Content'] = extract_content_with_progress(split_2['URL'])\n",
        "split_2.to_csv('split_2_preprocessed.csv', index=False)"
      ],
      "metadata": {
        "id": "Eom3GqaGwuHh"
      },
      "execution_count": null,
      "outputs": []
    },
    {
      "cell_type": "code",
      "source": [
        "split_3['Content'] = extract_content_with_progress(split_3['URL'])\n",
        "split_3.to_csv('split_3_preprocessed.csv', index=False)"
      ],
      "metadata": {
        "id": "QoyyOud3cjju"
      },
      "execution_count": null,
      "outputs": []
    },
    {
      "cell_type": "code",
      "source": [
        "split_4['Content'] = extract_content_with_progress(split_4['URL'])\n",
        "split_4.to_csv('split_4_preprocessed.csv', index=False)"
      ],
      "metadata": {
        "id": "0gmAn27OwzAc"
      },
      "execution_count": null,
      "outputs": []
    },
    {
      "cell_type": "code",
      "source": [
        "split_5['Content'] = extract_content_with_progress(split_5['URL'])\n",
        "split_5.to_csv('split_5_preprocessed.csv', index=False)"
      ],
      "metadata": {
        "id": "NgVUlb80w0zP"
      },
      "execution_count": null,
      "outputs": []
    },
    {
      "cell_type": "code",
      "source": [
        "split_6['Content'] = extract_content_with_progress(split_6['URL'])\n",
        "split_6.to_csv('split_6_preprocessed.csv', index=False)"
      ],
      "metadata": {
        "id": "5nLHIfjjfl82"
      },
      "execution_count": null,
      "outputs": []
    },
    {
      "cell_type": "code",
      "source": [
        "split_7['Content'] = extract_content_with_progress(split_7['URL'])\n",
        "split_7.to_csv('split_7_preprocessed.csv', index=False)"
      ],
      "metadata": {
        "colab": {
          "base_uri": "https://localhost:8080/"
        },
        "id": "wIUiWqDEfl1o",
        "outputId": "b2e73052-cc87-4c6a-d2fb-3ca26e9a55ce"
      },
      "execution_count": 7,
      "outputs": [
        {
          "output_type": "stream",
          "name": "stderr",
          "text": [
            "Extracting content:   4%|▍         | 75/1797 [01:21<23:04,  1.24it/s]"
          ]
        },
        {
          "output_type": "stream",
          "name": "stdout",
          "text": [
            "Error fetching content: 404 Client Error: Not Found for url: https://www.cbc.ca/5-medical-costs-you-may-have-to-pay-for-1.2945539?cmp=rss\n"
          ]
        },
        {
          "output_type": "stream",
          "name": "stderr",
          "text": [
            "Extracting content:   5%|▍         | 88/1797 [01:33<20:53,  1.36it/s]"
          ]
        },
        {
          "output_type": "stream",
          "name": "stdout",
          "text": [
            "Error fetching content: 404 Client Error: Not Found for url: https://www.cbc.ca/regional-psychiatric-centre-could-face-eviction-under-saskatchewan-laws-1.2940777?cmp=rss\n"
          ]
        },
        {
          "output_type": "stream",
          "name": "stderr",
          "text": [
            "Extracting content:   6%|▋         | 113/1797 [01:57<30:50,  1.10s/it]"
          ]
        },
        {
          "output_type": "stream",
          "name": "stdout",
          "text": [
            "Error fetching content: Failed to parse: http://t.…\n"
          ]
        },
        {
          "output_type": "stream",
          "name": "stderr",
          "text": [
            "Extracting content:   9%|▉         | 165/1797 [02:53<23:22,  1.16it/s]"
          ]
        },
        {
          "output_type": "stream",
          "name": "stdout",
          "text": [
            "Error fetching content: 404 Client Error: Not Found for url: https://t.co/%E2%80%A6\n"
          ]
        },
        {
          "output_type": "stream",
          "name": "stderr",
          "text": [
            "Extracting content:  11%|█         | 202/1797 [03:30<17:42,  1.50it/s]"
          ]
        },
        {
          "output_type": "stream",
          "name": "stdout",
          "text": [
            "Error fetching content: 404 Client Error: Not Found for url: https://t.co/8%E2%80%A6\n"
          ]
        },
        {
          "output_type": "stream",
          "name": "stderr",
          "text": [
            "Extracting content:  21%|██        | 376/1797 [06:21<14:33,  1.63it/s]"
          ]
        },
        {
          "output_type": "stream",
          "name": "stdout",
          "text": [
            "Error fetching content: 404 Client Error: Not Found for url: https://t.co/Nbp%E2%80%A6\n"
          ]
        },
        {
          "output_type": "stream",
          "name": "stderr",
          "text": [
            "Extracting content:  24%|██▍       | 437/1797 [07:19<18:14,  1.24it/s]"
          ]
        },
        {
          "output_type": "stream",
          "name": "stdout",
          "text": [
            "Error fetching content: 404 Client Error: Not Found for url: https://t.co/6BLDS%E2%80%A6\n"
          ]
        },
        {
          "output_type": "stream",
          "name": "stderr",
          "text": [
            "Extracting content:  26%|██▌       | 461/1797 [07:46<22:38,  1.02s/it]"
          ]
        },
        {
          "output_type": "stream",
          "name": "stdout",
          "text": [
            "Error fetching content: Failed to parse: http://t.co…\n"
          ]
        },
        {
          "output_type": "stream",
          "name": "stderr",
          "text": [
            "Extracting content:  28%|██▊       | 501/1797 [08:23<16:01,  1.35it/s]"
          ]
        },
        {
          "output_type": "stream",
          "name": "stdout",
          "text": [
            "Error fetching content: 404 Client Error: Not Found for url: https://www.royalcollege.ca/portal/page/portal/rc/advocacy/policy/ebbdel\n"
          ]
        },
        {
          "output_type": "stream",
          "name": "stderr",
          "text": [
            "Extracting content:  29%|██▉       | 524/1797 [08:46<19:31,  1.09it/s]"
          ]
        },
        {
          "output_type": "stream",
          "name": "stdout",
          "text": [
            "Error fetching content: Failed to parse: http://t.co…\n"
          ]
        },
        {
          "output_type": "stream",
          "name": "stderr",
          "text": [
            "Extracting content:  32%|███▏      | 567/1797 [09:31<27:12,  1.33s/it]"
          ]
        },
        {
          "output_type": "stream",
          "name": "stdout",
          "text": [
            "Error fetching content: 404 Client Error: Not Found for url: http://pbs.twimg.com/media/B1Scq1XCQAAssWU.png\n"
          ]
        },
        {
          "output_type": "stream",
          "name": "stderr",
          "text": [
            "Extracting content:  34%|███▍      | 608/1797 [10:19<25:36,  1.29s/it]"
          ]
        },
        {
          "output_type": "stream",
          "name": "stdout",
          "text": [
            "Error fetching content: HTTPConnectionPool(host='cnw.ca', port=80): Max retries exceeded with url: /AywWG (Caused by NewConnectionError('<urllib3.connection.HTTPConnection object at 0x7c87ab260fa0>: Failed to establish a new connection: [Errno 111] Connection refused'))\n"
          ]
        },
        {
          "output_type": "stream",
          "name": "stderr",
          "text": [
            "Extracting content:  37%|███▋      | 671/1797 [11:49<15:37,  1.20it/s]"
          ]
        },
        {
          "output_type": "stream",
          "name": "stdout",
          "text": [
            "Error fetching content: 404 Client Error: Not Found for url: https://t.co/R7L7O%E2%80%A6\n"
          ]
        },
        {
          "output_type": "stream",
          "name": "stderr",
          "text": [
            "Extracting content:  38%|███▊      | 683/1797 [12:02<18:18,  1.01it/s]"
          ]
        },
        {
          "output_type": "stream",
          "name": "stdout",
          "text": [
            "Error fetching content: 404 Client Error: Not Found for url: http://pbs.twimg.com/media/Bz_72tkIQAEDQ4W.jpg\n"
          ]
        },
        {
          "output_type": "stream",
          "name": "stderr",
          "text": [
            "Extracting content:  39%|███▉      | 698/1797 [12:18<16:49,  1.09it/s]"
          ]
        },
        {
          "output_type": "stream",
          "name": "stdout",
          "text": [
            "Error fetching content: 503 Server Error: Service Unavailable for url: https://www.cbc.ca/news/canada/newfoundland-labrador/downsizing-staring-myself-down-in-the-gym-mirror-1.2794892?cmp=rss\n"
          ]
        },
        {
          "output_type": "stream",
          "name": "stderr",
          "text": [
            "Extracting content:  41%|████      | 741/1797 [13:05<19:26,  1.10s/it]"
          ]
        },
        {
          "output_type": "stream",
          "name": "stdout",
          "text": [
            "Error fetching content: HTTPConnectionPool(host='buzz.mw', port=80): Max retries exceeded with url: /bc432_f (Caused by NameResolutionError(\"<urllib3.connection.HTTPConnection object at 0x7c87ab7f3fa0>: Failed to resolve 'buzz.mw' ([Errno -2] Name or service not known)\"))\n"
          ]
        },
        {
          "output_type": "stream",
          "name": "stderr",
          "text": [
            "Extracting content:  43%|████▎     | 775/1797 [13:38<14:50,  1.15it/s]"
          ]
        },
        {
          "output_type": "stream",
          "name": "stdout",
          "text": [
            "Error fetching content: 404 Client Error: Not Found for url: https://www.cbc.ca/newsblogs/yourcommunity/2014/10/live-chat-the-ebola-crisis-in-africa.html\n"
          ]
        },
        {
          "output_type": "stream",
          "name": "stderr",
          "text": [
            "Extracting content:  46%|████▌     | 820/1797 [14:26<13:06,  1.24it/s]"
          ]
        },
        {
          "output_type": "stream",
          "name": "stdout",
          "text": [
            "Error fetching content: Failed to parse: http://t…\n"
          ]
        },
        {
          "output_type": "stream",
          "name": "stderr",
          "text": [
            "Extracting content:  46%|████▋     | 834/1797 [14:41<12:39,  1.27it/s]"
          ]
        },
        {
          "output_type": "stream",
          "name": "stdout",
          "text": [
            "Error fetching content: 404 Client Error: Not Found for url: https://t.co/PzpqUxN%E2%80%A6\n"
          ]
        },
        {
          "output_type": "stream",
          "name": "stderr",
          "text": [
            "Extracting content:  48%|████▊     | 864/1797 [15:16<19:06,  1.23s/it]"
          ]
        },
        {
          "output_type": "stream",
          "name": "stdout",
          "text": [
            "Error fetching content: 404 Client Error: Not Found for url: https://t.co/p%E2%80%A6\n"
          ]
        },
        {
          "output_type": "stream",
          "name": "stderr",
          "text": [
            "Extracting content:  50%|████▉     | 891/1797 [15:46<13:58,  1.08it/s]"
          ]
        },
        {
          "output_type": "stream",
          "name": "stdout",
          "text": [
            "Error fetching content: 404 Client Error: Not Found for url: https://t.co/EHCSJ%E2%80%A6\n"
          ]
        },
        {
          "output_type": "stream",
          "name": "stderr",
          "text": [
            "Extracting content:  51%|█████     | 908/1797 [16:02<11:38,  1.27it/s]"
          ]
        },
        {
          "output_type": "stream",
          "name": "stdout",
          "text": [
            "Error fetching content: 403 Client Error: Forbidden for url: https://www.acpjournals.org/doi/10.7326/P14-9034?articleID=1905125\n"
          ]
        },
        {
          "output_type": "stream",
          "name": "stderr",
          "text": [
            "Extracting content:  52%|█████▏    | 933/1797 [16:28<14:51,  1.03s/it]"
          ]
        },
        {
          "output_type": "stream",
          "name": "stdout",
          "text": [
            "Error fetching content: Failed to parse: http://…\n"
          ]
        },
        {
          "output_type": "stream",
          "name": "stderr",
          "text": [
            "Extracting content:  54%|█████▍    | 975/1797 [17:14<15:27,  1.13s/it]"
          ]
        },
        {
          "output_type": "stream",
          "name": "stdout",
          "text": [
            "Error fetching content: 404 Client Error: Not Found for url: http://investors.linkp.com/releasedetail.cfm?ReleaseID=869082&utm_source=twitter_phac&utm_medium=social&utm_content=sept4_EBOLA_en&utm_campaign=social_media_14\n"
          ]
        },
        {
          "output_type": "stream",
          "name": "stderr",
          "text": [
            "Extracting content:  56%|█████▋    | 1015/1797 [17:55<12:29,  1.04it/s]"
          ]
        },
        {
          "output_type": "stream",
          "name": "stdout",
          "text": [
            "Error fetching content: 500 Server Error: Internal Server Error for url: http://fw.to/a1izGyX\n"
          ]
        },
        {
          "output_type": "stream",
          "name": "stderr",
          "text": [
            "Extracting content:  58%|█████▊    | 1048/1797 [18:32<12:13,  1.02it/s]"
          ]
        },
        {
          "output_type": "stream",
          "name": "stdout",
          "text": [
            "Error fetching content: 404 Client Error: Not Found for url: https://www.cbc.ca/player/Sports/Top+Stories/ID/2493711834\n"
          ]
        },
        {
          "output_type": "stream",
          "name": "stderr",
          "text": [
            "Extracting content:  59%|█████▊    | 1054/1797 [18:38<10:18,  1.20it/s]"
          ]
        },
        {
          "output_type": "stream",
          "name": "stdout",
          "text": [
            "Error fetching content: 500 Server Error: Internal Server Error for url: http://fw.to/Qm7u0KZ\n"
          ]
        },
        {
          "output_type": "stream",
          "name": "stderr",
          "text": [
            "Extracting content:  60%|█████▉    | 1075/1797 [19:00<12:31,  1.04s/it]"
          ]
        },
        {
          "output_type": "stream",
          "name": "stdout",
          "text": [
            "Error fetching content: 404 Client Error: Not Found for url: https://www.cmaj.ca/site/earlyreleases/19aug14_conscience-should-guide-doctors-at-end-of-life.xhtml\n"
          ]
        },
        {
          "output_type": "stream",
          "name": "stderr",
          "text": [
            "Extracting content:  60%|██████    | 1087/1797 [19:12<09:50,  1.20it/s]"
          ]
        },
        {
          "output_type": "stream",
          "name": "stdout",
          "text": [
            "Error fetching content: 404 Client Error: Not Found for url: https://www.cbc.ca/player/AudioMobile/The+Current/ID/2491585698\n"
          ]
        },
        {
          "output_type": "stream",
          "name": "stderr",
          "text": [
            "Extracting content:  64%|██████▍   | 1159/1797 [20:34<11:16,  1.06s/it]"
          ]
        },
        {
          "output_type": "stream",
          "name": "stdout",
          "text": [
            "Error fetching content: 404 Client Error: Not Found for url: https://www.cbc.ca/news/1.2707973?utm_content=bufferbf715&utm_medium=social&utm_source=twitter.com&utm_campaign=buffer\n"
          ]
        },
        {
          "output_type": "stream",
          "name": "stderr",
          "text": [
            "Extracting content:  68%|██████▊   | 1220/1797 [21:40<10:03,  1.05s/it]"
          ]
        },
        {
          "output_type": "stream",
          "name": "stdout",
          "text": [
            "Error fetching content: 404 Client Error: Not Found for url: https://t.co/MNy%E2%80%A6\n"
          ]
        },
        {
          "output_type": "stream",
          "name": "stderr",
          "text": [
            "Extracting content:  69%|██████▊   | 1232/1797 [21:51<06:45,  1.39it/s]"
          ]
        },
        {
          "output_type": "stream",
          "name": "stdout",
          "text": [
            "Error fetching content: 403 Client Error: Forbidden for url: http://www.nejm.org/doi/full/10.1056/NEJMe1406410\n"
          ]
        },
        {
          "output_type": "stream",
          "name": "stderr",
          "text": [
            "Extracting content:  70%|██████▉   | 1249/1797 [22:05<04:28,  2.04it/s]"
          ]
        },
        {
          "output_type": "stream",
          "name": "stdout",
          "text": [
            "Error fetching content: 404 Client Error: Not Found for url: https://t.co/Hf%E2%80%A6\n"
          ]
        },
        {
          "output_type": "stream",
          "name": "stderr",
          "text": [
            "Extracting content:  71%|███████   | 1271/1797 [22:29<15:43,  1.79s/it]"
          ]
        },
        {
          "output_type": "stream",
          "name": "stdout",
          "text": [
            "Error fetching content: HTTPSConnectionPool(host='www.cbc.ca', port=443): Read timed out. (read timeout=4)\n"
          ]
        },
        {
          "output_type": "stream",
          "name": "stderr",
          "text": [
            "Extracting content:  71%|███████   | 1279/1797 [22:36<07:42,  1.12it/s]"
          ]
        },
        {
          "output_type": "stream",
          "name": "stdout",
          "text": [
            "Error fetching content: 404 Client Error: Not Found for url: https://www.cihi.ca:443/cihi-ext-portal/internet/en/document/spending+and+health+workforce/workforce/nurses/release_8july14\n"
          ]
        },
        {
          "output_type": "stream",
          "name": "stderr",
          "text": [
            "Extracting content:  73%|███████▎  | 1304/1797 [22:59<06:30,  1.26it/s]"
          ]
        },
        {
          "output_type": "stream",
          "name": "stdout",
          "text": [
            "Error fetching content: 404 Client Error: Not Found for url: https://www.cbc.ca/player/News/Health/ID/2470479222\n"
          ]
        },
        {
          "output_type": "stream",
          "name": "stderr",
          "text": [
            "Extracting content:  76%|███████▌  | 1363/1797 [23:52<05:10,  1.40it/s]"
          ]
        },
        {
          "output_type": "stream",
          "name": "stdout",
          "text": [
            "Error fetching content: 404 Client Error: Not Found for url: https://www.cbc.ca/player/News/Health/ID/2466098231\n",
            "Error fetching content: 404 Client Error: Not Found for url: https://t.co/JjZa%E2%80%A6\n"
          ]
        },
        {
          "output_type": "stream",
          "name": "stderr",
          "text": [
            "Extracting content:  79%|███████▊  | 1411/1797 [24:36<05:14,  1.23it/s]"
          ]
        },
        {
          "output_type": "stream",
          "name": "stdout",
          "text": [
            "Error fetching content: 404 Client Error: Not Found for url: https://t.co/kTJLi%E2%80%A6\n"
          ]
        },
        {
          "output_type": "stream",
          "name": "stderr",
          "text": [
            "Extracting content:  79%|███████▉  | 1422/1797 [24:47<06:52,  1.10s/it]"
          ]
        },
        {
          "output_type": "stream",
          "name": "stdout",
          "text": [
            "Error fetching content: Failed to parse: http://…\n"
          ]
        },
        {
          "output_type": "stream",
          "name": "stderr",
          "text": [
            "Extracting content:  80%|███████▉  | 1436/1797 [24:57<03:40,  1.64it/s]"
          ]
        },
        {
          "output_type": "stream",
          "name": "stdout",
          "text": [
            "Error fetching content: 404 Client Error: Not Found for url: https://t.co/U%E2%80%A6\n"
          ]
        },
        {
          "output_type": "stream",
          "name": "stderr",
          "text": [
            "Extracting content:  81%|████████  | 1455/1797 [25:16<05:28,  1.04it/s]"
          ]
        },
        {
          "output_type": "stream",
          "name": "stdout",
          "text": [
            "Error fetching content: HTTPConnectionPool(host='cbc.sh', port=80): Max retries exceeded with url: /kcf1d7P (Caused by NewConnectionError('<urllib3.connection.HTTPConnection object at 0x7c87ab0d2b90>: Failed to establish a new connection: [Errno 101] Network is unreachable'))\n"
          ]
        },
        {
          "output_type": "stream",
          "name": "stderr",
          "text": [
            "Extracting content:  83%|████████▎ | 1487/1797 [25:51<06:01,  1.17s/it]"
          ]
        },
        {
          "output_type": "stream",
          "name": "stdout",
          "text": [
            "Error fetching content: Failed to parse: http://t.co…\n"
          ]
        },
        {
          "output_type": "stream",
          "name": "stderr",
          "text": [
            "Extracting content:  88%|████████▊ | 1578/1797 [27:23<03:03,  1.19it/s]"
          ]
        },
        {
          "output_type": "stream",
          "name": "stdout",
          "text": [
            "Error fetching content: Failed to parse: http://…\n"
          ]
        },
        {
          "output_type": "stream",
          "name": "stderr",
          "text": [
            "Extracting content:  91%|█████████ | 1636/1797 [28:22<03:01,  1.12s/it]"
          ]
        },
        {
          "output_type": "stream",
          "name": "stdout",
          "text": [
            "Error fetching content: 404 Client Error: Not Found for url: https://www.cbc.ca/player/News/Health/ID/2452843594\n"
          ]
        },
        {
          "output_type": "stream",
          "name": "stderr",
          "text": [
            "Extracting content:  92%|█████████▏| 1656/1797 [28:46<04:47,  2.04s/it]"
          ]
        },
        {
          "output_type": "stream",
          "name": "stdout",
          "text": [
            "Error fetching content: HTTPConnectionPool(host='cbc.sh', port=80): Max retries exceeded with url: /mVLBAJR (Caused by ConnectTimeoutError(<urllib3.connection.HTTPConnection object at 0x7c87aba0a680>, 'Connection to cbc.sh timed out. (connect timeout=4)'))\n"
          ]
        },
        {
          "output_type": "stream",
          "name": "stderr",
          "text": [
            "Extracting content:  94%|█████████▍| 1688/1797 [29:19<02:03,  1.14s/it]"
          ]
        },
        {
          "output_type": "stream",
          "name": "stdout",
          "text": [
            "Error fetching content: Failed to parse: http://…\n"
          ]
        },
        {
          "output_type": "stream",
          "name": "stderr",
          "text": [
            "Extracting content:  94%|█████████▍| 1695/1797 [29:28<01:52,  1.10s/it]"
          ]
        },
        {
          "output_type": "stream",
          "name": "stdout",
          "text": [
            "Error fetching content: Failed to parse: http://t.…\n",
            "Error fetching content: Failed to parse: http://t.co…\n"
          ]
        },
        {
          "output_type": "stream",
          "name": "stderr",
          "text": [
            "Extracting content:  95%|█████████▍| 1704/1797 [29:35<01:39,  1.07s/it]"
          ]
        },
        {
          "output_type": "stream",
          "name": "stdout",
          "text": [
            "Error fetching content: Failed to parse: http://…\n"
          ]
        },
        {
          "output_type": "stream",
          "name": "stderr",
          "text": [
            "Extracting content:  95%|█████████▌| 1711/1797 [29:41<01:12,  1.19it/s]"
          ]
        },
        {
          "output_type": "stream",
          "name": "stdout",
          "text": [
            "Error fetching content: 404 Client Error: Not Found for url: https://www.who.int/mediacentre/news/releases/2014/hepatitis-guidelines/en/\n"
          ]
        },
        {
          "output_type": "stream",
          "name": "stderr",
          "text": [
            "Extracting content: 100%|██████████| 1797/1797 [31:06<00:00,  1.04s/it]\n"
          ]
        }
      ]
    },
    {
      "cell_type": "code",
      "source": [
        "split_8['Content'] = extract_content_with_progress(split_8['URL'])\n",
        "split_8.to_csv('split_8_preprocessed.csv', index=False)"
      ],
      "metadata": {
        "colab": {
          "base_uri": "https://localhost:8080/"
        },
        "id": "eLTzn5iHflfo",
        "outputId": "e46ec3ae-85e6-43e7-b705-580f8bec2352"
      },
      "execution_count": 7,
      "outputs": [
        {
          "output_type": "stream",
          "name": "stderr",
          "text": [
            "Extracting content:   5%|▌         | 96/1797 [01:42<23:26,  1.21it/s]"
          ]
        },
        {
          "output_type": "stream",
          "name": "stdout",
          "text": [
            "Error fetching content: 404 Client Error: Not Found for url: https://www.cbc.ca/newsblogs/yourcommunity/2014/02/live-chat-youth-obsession-with-technology.html\n"
          ]
        },
        {
          "output_type": "stream",
          "name": "stderr",
          "text": [
            "Extracting content:   7%|▋         | 124/1797 [02:14<17:30,  1.59it/s]"
          ]
        },
        {
          "output_type": "stream",
          "name": "stdout",
          "text": [
            "Error fetching content: 404 Client Error: Not Found for url: https://t.co/eUft%E2%80%A6\n"
          ]
        },
        {
          "output_type": "stream",
          "name": "stderr",
          "text": [
            "Extracting content:  12%|█▏        | 209/1797 [03:47<20:03,  1.32it/s]"
          ]
        },
        {
          "output_type": "stream",
          "name": "stdout",
          "text": [
            "Error fetching content: 404 Client Error: Not Found for url: http://www.ices.on.ca/webpage.cfm?site_id=1&org_id=117&morg_id=0&gsec_id=3086&item_id=8662&utility_link_id=3086\n"
          ]
        },
        {
          "output_type": "stream",
          "name": "stderr",
          "text": [
            "Extracting content:  14%|█▍        | 248/1797 [04:30<48:42,  1.89s/it]"
          ]
        },
        {
          "output_type": "stream",
          "name": "stdout",
          "text": [
            "Error fetching content: HTTPSConnectionPool(host='www.cbc.ca', port=443): Read timed out. (read timeout=4)\n"
          ]
        },
        {
          "output_type": "stream",
          "name": "stderr",
          "text": [
            "Extracting content:  15%|█▌        | 271/1797 [04:56<34:12,  1.35s/it]"
          ]
        },
        {
          "output_type": "stream",
          "name": "stdout",
          "text": [
            "Error fetching content: Failed to parse: http://t…\n"
          ]
        },
        {
          "output_type": "stream",
          "name": "stderr",
          "text": [
            "Extracting content:  24%|██▎       | 423/1797 [07:48<17:32,  1.31it/s]"
          ]
        },
        {
          "output_type": "stream",
          "name": "stdout",
          "text": [
            "Error fetching content: 500 Server Error: Internal Server Error for url: https://www.cbc.ca/news/health/avoid-promoting-antibiotics-in-farm-animals-fda-asks-1.2460413?cmp=rss\n"
          ]
        },
        {
          "output_type": "stream",
          "name": "stderr",
          "text": [
            "Extracting content:  24%|██▍       | 438/1797 [08:08<48:46,  2.15s/it]"
          ]
        },
        {
          "output_type": "stream",
          "name": "stdout",
          "text": [
            "Error fetching content: HTTPSConnectionPool(host='www.cbc.ca', port=443): Read timed out. (read timeout=4)\n"
          ]
        },
        {
          "output_type": "stream",
          "name": "stderr",
          "text": [
            "Extracting content:  34%|███▎      | 606/1797 [11:15<21:16,  1.07s/it]"
          ]
        },
        {
          "output_type": "stream",
          "name": "stdout",
          "text": [
            "Error fetching content: 404 Client Error: Not Found for url: https://www.cbc.ca/news/health/bike-helmet-mandate-for-all-sought-by-pediatricians-1.2288888?cmp=rss\n"
          ]
        },
        {
          "output_type": "stream",
          "name": "stderr",
          "text": [
            "Extracting content:  45%|████▌     | 815/1797 [15:05<20:42,  1.27s/it]"
          ]
        },
        {
          "output_type": "stream",
          "name": "stdout",
          "text": [
            "Error fetching content: 404 Client Error: Not Found for url: https://www.cbc.ca/news/health/story/2013/09/13/testosterone-estrogen-men.html?cmp=rss\n"
          ]
        },
        {
          "output_type": "stream",
          "name": "stderr",
          "text": [
            "Extracting content:  46%|████▌     | 830/1797 [15:22<19:41,  1.22s/it]"
          ]
        },
        {
          "output_type": "stream",
          "name": "stdout",
          "text": [
            "Error fetching content: 404 Client Error: Not Found for url: https://www.cbc.ca/player/News/Health/ID/2405542163?cmp=rss\n"
          ]
        },
        {
          "output_type": "stream",
          "name": "stderr",
          "text": [
            "Extracting content:  46%|████▋     | 834/1797 [15:25<14:05,  1.14it/s]"
          ]
        },
        {
          "output_type": "stream",
          "name": "stdout",
          "text": [
            "Error fetching content: 404 Client Error: Not Found for url: https://www.cbc.ca/manitoba/scene/theatre/2013/09/10/actress-explains-life-with-schizophrenia-through-theatre/?cmp=rss\n"
          ]
        },
        {
          "output_type": "stream",
          "name": "stderr",
          "text": [
            "Extracting content:  52%|█████▏    | 940/1797 [17:34<16:16,  1.14s/it]"
          ]
        },
        {
          "output_type": "stream",
          "name": "stdout",
          "text": [
            "Error fetching content: 500 Server Error: Internal Server Error for url: https://www.cbc.ca/news/health/ms-blocked-vein-theory-disputed-in-canadian-study-1.1377884?cmp=rss\n"
          ]
        },
        {
          "output_type": "stream",
          "name": "stderr",
          "text": [
            "Extracting content:  55%|█████▍    | 983/1797 [18:31<14:59,  1.11s/it]"
          ]
        },
        {
          "output_type": "stream",
          "name": "stdout",
          "text": [
            "Error fetching content: 404 Client Error: Not Found for url: https://www.cbc.ca/newsblogs/yourcommunity/2013/08/lululemon-under-fire-for-fat-shaming-marketing.html?cmp=rss\n"
          ]
        },
        {
          "output_type": "stream",
          "name": "stderr",
          "text": [
            "Extracting content:  55%|█████▌    | 994/1797 [18:45<16:42,  1.25s/it]"
          ]
        },
        {
          "output_type": "stream",
          "name": "stdout",
          "text": [
            "Error fetching content: 404 Client Error: Not Found for url: https://www.cbc.ca/newsblogs/yourcommunity/2013/07/viral-camp-gyno-ad-is-a-game-changer.html?cmp=rss\n"
          ]
        },
        {
          "output_type": "stream",
          "name": "stderr",
          "text": [
            "Extracting content:  56%|█████▌    | 999/1797 [18:49<11:03,  1.20it/s]"
          ]
        },
        {
          "output_type": "stream",
          "name": "stdout",
          "text": [
            "Error fetching content: 404 Client Error: Not Found for url: https://www.cbc.ca/newsblogs/yourcommunity/2013/07/young-cancer-victim-lives-on-in-favourite-game.html?cmp=rss\n"
          ]
        },
        {
          "output_type": "stream",
          "name": "stderr",
          "text": [
            "Extracting content:  56%|█████▌    | 1006/1797 [18:57<11:00,  1.20it/s]"
          ]
        },
        {
          "output_type": "stream",
          "name": "stdout",
          "text": [
            "Error fetching content: 404 Client Error: Not Found for url: https://www.cbc.ca/player/News/Health/ID/2398762062?cmp=rss\n"
          ]
        },
        {
          "output_type": "stream",
          "name": "stderr",
          "text": [
            "Extracting content:  57%|█████▋    | 1017/1797 [19:07<10:00,  1.30it/s]"
          ]
        },
        {
          "output_type": "stream",
          "name": "stdout",
          "text": [
            "Error fetching content: 404 Client Error: Not Found for url: https://www.cbc.ca/news/yourcommunity/2013/07/jenny-mccarthys-view-gig-irks-medical-experts.html?cmp=rss\n"
          ]
        },
        {
          "output_type": "stream",
          "name": "stderr",
          "text": [
            "Extracting content:  57%|█████▋    | 1024/1797 [19:14<09:55,  1.30it/s]"
          ]
        },
        {
          "output_type": "stream",
          "name": "stdout",
          "text": [
            "Error fetching content: 404 Client Error: Not Found for url: https://www.cbc.ca/news/yourcommunity/2013/07/doctors-prescribe-fruit-vegetables-to-obese-patients-in-nyc.html?cmp=rss\n"
          ]
        },
        {
          "output_type": "stream",
          "name": "stderr",
          "text": [
            "Extracting content:  57%|█████▋    | 1031/1797 [19:22<11:03,  1.15it/s]"
          ]
        },
        {
          "output_type": "stream",
          "name": "stdout",
          "text": [
            "Error fetching content: 404 Client Error: Not Found for url: https://www.cbc.ca/news/yourcommunity/2013/07/what-age-do-you-think-people-are-happiest-at.html?cmp=rss\n"
          ]
        },
        {
          "output_type": "stream",
          "name": "stderr",
          "text": [
            "Extracting content:  60%|█████▉    | 1078/1797 [20:19<14:25,  1.20s/it]"
          ]
        },
        {
          "output_type": "stream",
          "name": "stdout",
          "text": [
            "Error fetching content: 404 Client Error: Not Found for url: https://www.cbc.ca/player/News/Health/Audio/ID/2396464878?cmp=rss\n"
          ]
        },
        {
          "output_type": "stream",
          "name": "stderr",
          "text": [
            "Extracting content:  60%|██████    | 1080/1797 [20:21<12:10,  1.02s/it]"
          ]
        },
        {
          "output_type": "stream",
          "name": "stdout",
          "text": [
            "Error fetching content: 404 Client Error: Not Found for url: https://www.cbc.ca/news/yourcommunity/2013/07/friendly-robot-helps-kids-brave-needles.html?cmp=rss\n"
          ]
        },
        {
          "output_type": "stream",
          "name": "stderr",
          "text": [
            "Extracting content:  62%|██████▏   | 1106/1797 [20:51<11:42,  1.02s/it]"
          ]
        },
        {
          "output_type": "stream",
          "name": "stdout",
          "text": [
            "Error fetching content: 404 Client Error: Not Found for url: https://www.cbc.ca/news/yourcommunity/2013/07/cleft-lip-puppy-counsels-kids-with-facial-differences.html?cmp=rss\n"
          ]
        },
        {
          "output_type": "stream",
          "name": "stderr",
          "text": [
            "Extracting content:  62%|██████▏   | 1116/1797 [21:06<23:13,  2.05s/it]"
          ]
        },
        {
          "output_type": "stream",
          "name": "stdout",
          "text": [
            "Error fetching content: HTTPSConnectionPool(host='www.cbc.ca', port=443): Read timed out. (read timeout=4)\n"
          ]
        },
        {
          "output_type": "stream",
          "name": "stderr",
          "text": [
            "Extracting content:  64%|██████▍   | 1147/1797 [21:51<24:48,  2.29s/it]"
          ]
        },
        {
          "output_type": "stream",
          "name": "stdout",
          "text": [
            "Error fetching content: HTTPSConnectionPool(host='www.cbc.ca', port=443): Read timed out. (read timeout=4)\n"
          ]
        },
        {
          "output_type": "stream",
          "name": "stderr",
          "text": [
            "Extracting content:  65%|██████▍   | 1167/1797 [22:12<08:14,  1.28it/s]"
          ]
        },
        {
          "output_type": "stream",
          "name": "stdout",
          "text": [
            "Error fetching content: 404 Client Error: Not Found for url: https://www.cbc.ca/news/yourcommunity/2013/06/starbucks-rolls-out-calorie-info-on-us-store-menus.html?cmp=rss\n"
          ]
        },
        {
          "output_type": "stream",
          "name": "stderr",
          "text": [
            "Extracting content:  66%|██████▋   | 1194/1797 [22:41<08:15,  1.22it/s]"
          ]
        },
        {
          "output_type": "stream",
          "name": "stdout",
          "text": [
            "Error fetching content: 404 Client Error: Not Found for url: https://www.cbc.ca/news/yourcommunity/2013/06/cbcnewsca-readers-share-1st-person-yaz-yasmin-stories.html?cmp=rss\n"
          ]
        },
        {
          "output_type": "stream",
          "name": "stderr",
          "text": [
            "Extracting content:  69%|██████▉   | 1237/1797 [23:29<09:33,  1.02s/it]"
          ]
        },
        {
          "output_type": "stream",
          "name": "stdout",
          "text": [
            "Error fetching content: 500 Server Error: Internal Server Error for url: https://www.cbc.ca/news/canada/montreal/quebec-hospital-wants-1-000-patients-to-come-in-for-hiv-hepatitis-tests-1.1415495?cmp=rss\n"
          ]
        },
        {
          "output_type": "stream",
          "name": "stderr",
          "text": [
            "Extracting content:  69%|██████▉   | 1242/1797 [23:34<06:53,  1.34it/s]"
          ]
        },
        {
          "output_type": "stream",
          "name": "stdout",
          "text": [
            "Error fetching content: 404 Client Error: Not Found for url: https://www.cbc.ca/news/health/story/2013/05/31/medication-poisoning-children.html?cmp=rss\n"
          ]
        },
        {
          "output_type": "stream",
          "name": "stderr",
          "text": [
            "Extracting content:  72%|███████▏  | 1287/1797 [24:25<10:30,  1.24s/it]"
          ]
        },
        {
          "output_type": "stream",
          "name": "stdout",
          "text": [
            "Error fetching content: 404 Client Error: Not Found for url: https://www.cbc.ca/news/health/what-happens-when-a-virus-becomes-a-commodity-1.1394977?cmp=rss\n"
          ]
        },
        {
          "output_type": "stream",
          "name": "stderr",
          "text": [
            "Extracting content:  72%|███████▏  | 1289/1797 [24:26<08:22,  1.01it/s]"
          ]
        },
        {
          "output_type": "stream",
          "name": "stdout",
          "text": [
            "Error fetching content: 500 Server Error: Internal Server Error for url: https://www.cbc.ca/news/health/wait-time-and-primary-care-reforms-stalled-1.1331952?cmp=rss\n"
          ]
        },
        {
          "output_type": "stream",
          "name": "stderr",
          "text": [
            "Extracting content:  73%|███████▎  | 1317/1797 [24:59<07:18,  1.09it/s]"
          ]
        },
        {
          "output_type": "stream",
          "name": "stdout",
          "text": [
            "Error fetching content: 500 Server Error: Internal Server Error for url: https://www.cbc.ca/news/health/new-coronavirus-tested-at-canada-s-national-lab-1.1353114?cmp=rss\n"
          ]
        },
        {
          "output_type": "stream",
          "name": "stderr",
          "text": [
            "Extracting content:  75%|███████▍  | 1339/1797 [25:23<06:49,  1.12it/s]"
          ]
        },
        {
          "output_type": "stream",
          "name": "stdout",
          "text": [
            "Error fetching content: 'utf-8' codec can't decode byte 0xf4 in position 78: invalid continuation byte\n"
          ]
        },
        {
          "output_type": "stream",
          "name": "stderr",
          "text": [
            "Extracting content:  75%|███████▌  | 1353/1797 [25:36<05:17,  1.40it/s]"
          ]
        },
        {
          "output_type": "stream",
          "name": "stdout",
          "text": [
            "Error fetching content: 404 Client Error: Not Found for url: https://www.cbc.ca/player/News/Health/ID/2383599419?cmp=rss\n"
          ]
        },
        {
          "output_type": "stream",
          "name": "stderr",
          "text": [
            "Extracting content:  77%|███████▋  | 1379/1797 [26:01<06:05,  1.14it/s]"
          ]
        },
        {
          "output_type": "stream",
          "name": "stdout",
          "text": [
            "Error fetching content: 404 Client Error: Not Found for url: https://www.cbc.ca/news/yourcommunity/2013/05/caffeinated-gum-to-be-probed-by-fda.html?cmp=rss\n"
          ]
        },
        {
          "output_type": "stream",
          "name": "stderr",
          "text": [
            "Extracting content:  79%|███████▊  | 1413/1797 [26:38<07:11,  1.12s/it]"
          ]
        },
        {
          "output_type": "stream",
          "name": "stdout",
          "text": [
            "Error fetching content: 404 Client Error: Not Found for url: https://www.cbc.ca/news/interactives/cost-of-aging?cmp=rss\n"
          ]
        },
        {
          "output_type": "stream",
          "name": "stderr",
          "text": [
            "Extracting content:  89%|████████▉ | 1599/1797 [28:57<02:17,  1.44it/s]"
          ]
        },
        {
          "output_type": "stream",
          "name": "stdout",
          "text": [
            "Error fetching content: 404 Client Error: Not Found for url: http://pbs.twimg.com/media/B9CC8s6CYAAcMFm.jpg\n"
          ]
        },
        {
          "output_type": "stream",
          "name": "stderr",
          "text": [
            "Extracting content:  90%|█████████ | 1622/1797 [29:10<01:19,  2.19it/s]"
          ]
        },
        {
          "output_type": "stream",
          "name": "stdout",
          "text": [
            "Error fetching content: 404 Client Error: Not Found for url: https://t.co/kNe8Pa%E2%80%A6\n"
          ]
        },
        {
          "output_type": "stream",
          "name": "stderr",
          "text": [
            "Extracting content: 100%|█████████▉| 1795/1797 [30:57<00:00,  2.14it/s]"
          ]
        },
        {
          "output_type": "stream",
          "name": "stdout",
          "text": [
            "Error fetching content: Failed to parse: http://t…\n"
          ]
        },
        {
          "output_type": "stream",
          "name": "stderr",
          "text": [
            "Extracting content: 100%|██████████| 1797/1797 [30:58<00:00,  1.03s/it]\n"
          ]
        }
      ]
    },
    {
      "cell_type": "code",
      "source": [
        "split_9['Content'] = extract_content_with_progress(split_9['URL'])\n",
        "split_9.to_csv('split_9_preprocessed.csv', index=False)"
      ],
      "metadata": {
        "colab": {
          "base_uri": "https://localhost:8080/"
        },
        "id": "6svbcjPlflcL",
        "outputId": "7908a3e1-7595-4abd-89c7-35f40faeead9"
      },
      "execution_count": 8,
      "outputs": [
        {
          "output_type": "stream",
          "name": "stderr",
          "text": [
            "Extracting content:   0%|          | 5/1797 [00:03<17:26,  1.71it/s]"
          ]
        },
        {
          "output_type": "stream",
          "name": "stdout",
          "text": [
            "Error fetching content: 404 Client Error: Not Found for url: https://t.co/x%E2%80%A6\n"
          ]
        },
        {
          "output_type": "stream",
          "name": "stderr",
          "text": [
            "Extracting content:   1%|          | 10/1797 [00:09<24:45,  1.20it/s]"
          ]
        },
        {
          "output_type": "stream",
          "name": "stdout",
          "text": [
            "Error fetching content: 404 Client Error: Not Found for url: https://t.co/T5g%E2%80%A6\n"
          ]
        },
        {
          "output_type": "stream",
          "name": "stderr",
          "text": [
            "Extracting content:   1%|          | 18/1797 [00:12<14:48,  2.00it/s]"
          ]
        },
        {
          "output_type": "stream",
          "name": "stdout",
          "text": [
            "Error fetching content: 404 Client Error: Not Found for url: https://www.latimes.com/local/countygovernment/la-me-truvada-20141203-story.html.\n"
          ]
        },
        {
          "output_type": "stream",
          "name": "stderr",
          "text": [
            "Extracting content:   5%|▍         | 82/1797 [00:51<19:56,  1.43it/s]"
          ]
        },
        {
          "output_type": "stream",
          "name": "stdout",
          "text": [
            "Error fetching content: 404 Client Error: Not Found for url: https://t.co/kBeiU5%E2%80%A6\n"
          ]
        },
        {
          "output_type": "stream",
          "name": "stderr",
          "text": [
            "Extracting content:   6%|▌         | 105/1797 [01:11<17:42,  1.59it/s]"
          ]
        },
        {
          "output_type": "stream",
          "name": "stdout",
          "text": [
            "Error fetching content: 503 Server Error: Service Unavailable for url: https://www.latimes.com/science/sciencenow/la-sci-sn-laundry-pod-dangers-children-20141110-story.html\n"
          ]
        },
        {
          "output_type": "stream",
          "name": "stderr",
          "text": [
            "\rExtracting content:   6%|▌         | 106/1797 [01:11<14:53,  1.89it/s]"
          ]
        },
        {
          "output_type": "stream",
          "name": "stdout",
          "text": [
            "Error fetching content: 503 Server Error: Service Unavailable for url: https://www.latimes.com/science/sciencenow/la-sci-sn-laundry-pod-dangers-children-20141110-story.html\n"
          ]
        },
        {
          "output_type": "stream",
          "name": "stderr",
          "text": [
            "\rExtracting content:   6%|▌         | 107/1797 [01:12<14:42,  1.91it/s]"
          ]
        },
        {
          "output_type": "stream",
          "name": "stdout",
          "text": [
            "Error fetching content: 503 Server Error: Service Unavailable for url: https://www.latimes.com/nation/la-sci-sn-regular-marijuana-shrinks-brain-20141110-story.html\n"
          ]
        },
        {
          "output_type": "stream",
          "name": "stderr",
          "text": [
            "Extracting content:   7%|▋         | 120/1797 [01:20<11:49,  2.36it/s]"
          ]
        },
        {
          "output_type": "stream",
          "name": "stdout",
          "text": [
            "Error fetching content: 404 Client Error: Not Found for url: http://pbs.twimg.com/media/B1zsxZTIcAEvlUa.jpg\n"
          ]
        },
        {
          "output_type": "stream",
          "name": "stderr",
          "text": [
            "Extracting content:   7%|▋         | 132/1797 [01:29<13:36,  2.04it/s]"
          ]
        },
        {
          "output_type": "stream",
          "name": "stdout",
          "text": [
            "Error fetching content: 404 Client Error: Not Found for url: https://t.co/F%E2%80%A6\n"
          ]
        },
        {
          "output_type": "stream",
          "name": "stderr",
          "text": [
            "Extracting content:   8%|▊         | 145/1797 [01:39<29:35,  1.07s/it]"
          ]
        },
        {
          "output_type": "stream",
          "name": "stdout",
          "text": [
            "Error fetching content: 404 Client Error: Not Found for url: https://www.ebay.com/itm/SOLID-IRISH-CLADDAGH-HEART-925-Sterling-Silver-Ring-SIZES-5-10-/370887562653?pt=Gemstone_Rings&var=&hash=item565a9f159d\n"
          ]
        },
        {
          "output_type": "stream",
          "name": "stderr",
          "text": [
            "Extracting content:  16%|█▋        | 294/1797 [03:37<15:27,  1.62it/s]"
          ]
        },
        {
          "output_type": "stream",
          "name": "stdout",
          "text": [
            "Error fetching content: 404 Client Error: Not Found for url: https://t.co/iNeZ0pN%E2%80%A6\n"
          ]
        },
        {
          "output_type": "stream",
          "name": "stderr",
          "text": [
            "Extracting content:  19%|█▉        | 345/1797 [04:17<15:26,  1.57it/s]"
          ]
        },
        {
          "output_type": "stream",
          "name": "stdout",
          "text": [
            "Error fetching content: 500 Server Error: Internal Server Error for url: http://fw.to/Ey4F7xF\n"
          ]
        },
        {
          "output_type": "stream",
          "name": "stderr",
          "text": [
            "Extracting content:  21%|██        | 376/1797 [04:45<21:52,  1.08it/s]"
          ]
        },
        {
          "output_type": "stream",
          "name": "stdout",
          "text": [
            "Error fetching content: Failed to parse: http://t.c…\n"
          ]
        },
        {
          "output_type": "stream",
          "name": "stderr",
          "text": [
            "Extracting content:  22%|██▏       | 404/1797 [05:04<09:57,  2.33it/s]"
          ]
        },
        {
          "output_type": "stream",
          "name": "stdout",
          "text": [
            "Error fetching content: 404 Client Error: Not Found for url: http://fw.to/iRaG7JK\n",
            "Error fetching content: 500 Server Error: Internal Server Error for url: http://fw.to/Yap8Ncg\n"
          ]
        },
        {
          "output_type": "stream",
          "name": "stderr",
          "text": [
            "\rExtracting content:  23%|██▎       | 405/1797 [05:04<11:41,  1.98it/s]"
          ]
        },
        {
          "output_type": "stream",
          "name": "stdout",
          "text": [
            "Error fetching content: 404 Client Error: Not Found for url: http://fw.to/OLiMeJc\n"
          ]
        },
        {
          "output_type": "stream",
          "name": "stderr",
          "text": [
            "Extracting content:  23%|██▎       | 413/1797 [05:09<14:07,  1.63it/s]"
          ]
        },
        {
          "output_type": "stream",
          "name": "stdout",
          "text": [
            "Error fetching content: 404 Client Error: Not Found for url: https://www.latimes.com/health/la-he-5-questions-sl-storylink.html?track=rss&utm_source=dlvr.it&utm_medium=twitter&dlvrit=52999\n"
          ]
        },
        {
          "output_type": "stream",
          "name": "stderr",
          "text": [
            "Extracting content:  23%|██▎       | 419/1797 [05:13<12:00,  1.91it/s]"
          ]
        },
        {
          "output_type": "stream",
          "name": "stdout",
          "text": [
            "Error fetching content: 404 Client Error: Not Found for url: http://fw.to/aLTUDwD\n"
          ]
        },
        {
          "output_type": "stream",
          "name": "stderr",
          "text": [
            "Extracting content:  24%|██▍       | 432/1797 [05:22<15:32,  1.46it/s]"
          ]
        },
        {
          "output_type": "stream",
          "name": "stdout",
          "text": [
            "Error fetching content: 404 Client Error: Not Found for url: https://t.co/%E2%80%A6\n"
          ]
        },
        {
          "output_type": "stream",
          "name": "stderr",
          "text": [
            "Extracting content:  24%|██▍       | 440/1797 [05:28<12:40,  1.78it/s]"
          ]
        },
        {
          "output_type": "stream",
          "name": "stdout",
          "text": [
            "Error fetching content: Failed to parse: http://t…\n"
          ]
        },
        {
          "output_type": "stream",
          "name": "stderr",
          "text": [
            "Extracting content:  27%|██▋       | 486/1797 [06:00<10:14,  2.13it/s]"
          ]
        },
        {
          "output_type": "stream",
          "name": "stdout",
          "text": [
            "Error fetching content: Failed to parse: http://t.co…\n",
            "Error fetching content: 500 Server Error: Internal Server Error for url: http://fw.to/6FmngsU\n"
          ]
        },
        {
          "output_type": "stream",
          "name": "stderr",
          "text": [
            "Extracting content:  32%|███▏      | 568/1797 [07:03<13:21,  1.53it/s]"
          ]
        },
        {
          "output_type": "stream",
          "name": "stdout",
          "text": [
            "Error fetching content: 404 Client Error: Not Found for url: http://pbs.twimg.com/media/Bnc1yUSCUAAc6Fc.jpg\n"
          ]
        },
        {
          "output_type": "stream",
          "name": "stderr",
          "text": [
            "Extracting content:  33%|███▎      | 586/1797 [07:17<32:30,  1.61s/it]"
          ]
        },
        {
          "output_type": "stream",
          "name": "stdout",
          "text": [
            "Error fetching content: HTTPConnectionPool(host='lati.ms', port=80): Max retries exceeded with url: /wyb25 (Caused by ConnectTimeoutError(<urllib3.connection.HTTPConnection object at 0x7c72cad94c10>, 'Connection to lati.ms timed out. (connect timeout=4)'))\n"
          ]
        },
        {
          "output_type": "stream",
          "name": "stderr",
          "text": [
            "Extracting content:  33%|███▎      | 596/1797 [07:25<14:57,  1.34it/s]"
          ]
        },
        {
          "output_type": "stream",
          "name": "stdout",
          "text": [
            "Error fetching content: Failed to parse: http://…\n"
          ]
        },
        {
          "output_type": "stream",
          "name": "stderr",
          "text": [
            "\rExtracting content:  33%|███▎      | 598/1797 [07:26<11:36,  1.72it/s]"
          ]
        },
        {
          "output_type": "stream",
          "name": "stdout",
          "text": [
            "Error fetching content: Failed to parse: http://t.co…\n"
          ]
        },
        {
          "output_type": "stream",
          "name": "stderr",
          "text": [
            "\rExtracting content:  33%|███▎      | 600/1797 [07:26<07:51,  2.54it/s]"
          ]
        },
        {
          "output_type": "stream",
          "name": "stdout",
          "text": [
            "Error fetching content: 404 Client Error: Not Found for url: https://t.co/qF%E2%80%A6\n"
          ]
        },
        {
          "output_type": "stream",
          "name": "stderr",
          "text": [
            "\rExtracting content:  33%|███▎      | 601/1797 [07:26<07:05,  2.81it/s]"
          ]
        },
        {
          "output_type": "stream",
          "name": "stdout",
          "text": [
            "Error fetching content: 404 Client Error: Not Found for url: https://t.co/a6xeW%E2%80%A6\n"
          ]
        },
        {
          "output_type": "stream",
          "name": "stderr",
          "text": [
            "Extracting content:  34%|███▎      | 603/1797 [07:27<06:38,  3.00it/s]"
          ]
        },
        {
          "output_type": "stream",
          "name": "stdout",
          "text": [
            "Error fetching content: 404 Client Error: Not Found for url: https://t.co/vFG%E2%80%A6\n"
          ]
        },
        {
          "output_type": "stream",
          "name": "stderr",
          "text": [
            "Extracting content:  34%|███▍      | 608/1797 [07:34<31:39,  1.60s/it]"
          ]
        },
        {
          "output_type": "stream",
          "name": "stdout",
          "text": [
            "Error fetching content: HTTPConnectionPool(host='lati.ms', port=80): Max retries exceeded with url: /wcmWE (Caused by ConnectTimeoutError(<urllib3.connection.HTTPConnection object at 0x7c72c97bdf00>, 'Connection to lati.ms timed out. (connect timeout=4)'))\n"
          ]
        },
        {
          "output_type": "stream",
          "name": "stderr",
          "text": [
            "Extracting content:  34%|███▍      | 613/1797 [07:41<37:35,  1.91s/it]"
          ]
        },
        {
          "output_type": "stream",
          "name": "stdout",
          "text": [
            "Error fetching content: HTTPConnectionPool(host='lati.ms', port=80): Max retries exceeded with url: /wcn3t (Caused by ConnectTimeoutError(<urllib3.connection.HTTPConnection object at 0x7c72c8f60cd0>, 'Connection to lati.ms timed out. (connect timeout=4)'))\n"
          ]
        },
        {
          "output_type": "stream",
          "name": "stderr",
          "text": [
            "Extracting content:  34%|███▍      | 616/1797 [07:47<43:15,  2.20s/it]"
          ]
        },
        {
          "output_type": "stream",
          "name": "stdout",
          "text": [
            "Error fetching content: HTTPConnectionPool(host='lati.ms', port=80): Max retries exceeded with url: /wcnmp (Caused by ConnectTimeoutError(<urllib3.connection.HTTPConnection object at 0x7c72c8cf3970>, 'Connection to lati.ms timed out. (connect timeout=4)'))\n"
          ]
        },
        {
          "output_type": "stream",
          "name": "stderr",
          "text": [
            "Extracting content:  35%|███▍      | 621/1797 [07:56<44:14,  2.26s/it]"
          ]
        },
        {
          "output_type": "stream",
          "name": "stdout",
          "text": [
            "Error fetching content: HTTPConnectionPool(host='lati.ms', port=80): Max retries exceeded with url: /wcnwm (Caused by ConnectTimeoutError(<urllib3.connection.HTTPConnection object at 0x7c72c84997b0>, 'Connection to lati.ms timed out. (connect timeout=4)'))\n"
          ]
        },
        {
          "output_type": "stream",
          "name": "stderr",
          "text": [
            "Extracting content:  35%|███▌      | 629/1797 [08:07<38:41,  1.99s/it]"
          ]
        },
        {
          "output_type": "stream",
          "name": "stdout",
          "text": [
            "Error fetching content: HTTPConnectionPool(host='lati.ms', port=80): Max retries exceeded with url: /wcnGQ (Caused by ConnectTimeoutError(<urllib3.connection.HTTPConnection object at 0x7c72c77aedd0>, 'Connection to lati.ms timed out. (connect timeout=4)'))\n"
          ]
        },
        {
          "output_type": "stream",
          "name": "stderr",
          "text": [
            "\rExtracting content:  35%|███▌      | 630/1797 [08:11<50:28,  2.60s/it]"
          ]
        },
        {
          "output_type": "stream",
          "name": "stdout",
          "text": [
            "Error fetching content: HTTPConnectionPool(host='lati.ms', port=80): Max retries exceeded with url: /wck9k (Caused by ConnectTimeoutError(<urllib3.connection.HTTPConnection object at 0x7c72c77af700>, 'Connection to lati.ms timed out. (connect timeout=4)'))\n"
          ]
        },
        {
          "output_type": "stream",
          "name": "stderr",
          "text": [
            "\rExtracting content:  35%|███▌      | 631/1797 [08:11<37:42,  1.94s/it]"
          ]
        },
        {
          "output_type": "stream",
          "name": "stdout",
          "text": [
            "Error fetching content: Failed to parse: http://…\n"
          ]
        },
        {
          "output_type": "stream",
          "name": "stderr",
          "text": [
            "Extracting content:  35%|███▌      | 637/1797 [08:20<39:05,  2.02s/it]"
          ]
        },
        {
          "output_type": "stream",
          "name": "stdout",
          "text": [
            "Error fetching content: HTTPConnectionPool(host='lati.ms', port=80): Max retries exceeded with url: /w81Es (Caused by ConnectTimeoutError(<urllib3.connection.HTTPConnection object at 0x7c72c71bf280>, 'Connection to lati.ms timed out. (connect timeout=4)'))\n"
          ]
        },
        {
          "output_type": "stream",
          "name": "stderr",
          "text": [
            "\rExtracting content:  36%|███▌      | 638/1797 [08:21<29:28,  1.53s/it]"
          ]
        },
        {
          "output_type": "stream",
          "name": "stdout",
          "text": [
            "Error fetching content: 404 Client Error: Not Found for url: https://t.co/2MBvgup3R%E2%80%A6\n"
          ]
        },
        {
          "output_type": "stream",
          "name": "stderr",
          "text": [
            "Extracting content:  36%|███▋      | 652/1797 [08:37<33:31,  1.76s/it]"
          ]
        },
        {
          "output_type": "stream",
          "name": "stdout",
          "text": [
            "Error fetching content: HTTPConnectionPool(host='lati.ms', port=80): Max retries exceeded with url: /vZDwu (Caused by ConnectTimeoutError(<urllib3.connection.HTTPConnection object at 0x7c72c5a16890>, 'Connection to lati.ms timed out. (connect timeout=4)'))\n"
          ]
        },
        {
          "output_type": "stream",
          "name": "stderr",
          "text": [
            "Extracting content:  38%|███▊      | 679/1797 [09:05<32:57,  1.77s/it]"
          ]
        },
        {
          "output_type": "stream",
          "name": "stdout",
          "text": [
            "Error fetching content: HTTPConnectionPool(host='lati.ms', port=80): Max retries exceeded with url: /vrzsC (Caused by ConnectTimeoutError(<urllib3.connection.HTTPConnection object at 0x7c72c28f5690>, 'Connection to lati.ms timed out. (connect timeout=4)'))\n"
          ]
        },
        {
          "output_type": "stream",
          "name": "stderr",
          "text": [
            "Extracting content:  39%|███▊      | 692/1797 [09:20<33:33,  1.82s/it]"
          ]
        },
        {
          "output_type": "stream",
          "name": "stdout",
          "text": [
            "Error fetching content: HTTPConnectionPool(host='lati.ms', port=80): Max retries exceeded with url: /vahc0 (Caused by ConnectTimeoutError(<urllib3.connection.HTTPConnection object at 0x7c72c12ae9e0>, 'Connection to lati.ms timed out. (connect timeout=4)'))\n"
          ]
        },
        {
          "output_type": "stream",
          "name": "stderr",
          "text": [
            "Extracting content:  41%|████      | 734/1797 [10:03<34:03,  1.92s/it]"
          ]
        },
        {
          "output_type": "stream",
          "name": "stdout",
          "text": [
            "Error fetching content: HTTPConnectionPool(host='lati.ms', port=80): Max retries exceeded with url: /umUDr (Caused by ConnectTimeoutError(<urllib3.connection.HTTPConnection object at 0x7c72bc73f070>, 'Connection to lati.ms timed out. (connect timeout=4)'))\n"
          ]
        },
        {
          "output_type": "stream",
          "name": "stderr",
          "text": [
            "Extracting content:  43%|████▎     | 772/1797 [10:43<31:56,  1.87s/it]"
          ]
        },
        {
          "output_type": "stream",
          "name": "stdout",
          "text": [
            "Error fetching content: HTTPConnectionPool(host='lati.ms', port=80): Max retries exceeded with url: /tSC3W (Caused by ConnectTimeoutError(<urllib3.connection.HTTPConnection object at 0x7c72b83c9b40>, 'Connection to lati.ms timed out. (connect timeout=4)'))\n"
          ]
        },
        {
          "output_type": "stream",
          "name": "stderr",
          "text": [
            "\rExtracting content:  43%|████▎     | 773/1797 [10:44<29:09,  1.71s/it]"
          ]
        },
        {
          "output_type": "stream",
          "name": "stdout",
          "text": [
            "Error fetching content: 404 Client Error: Not Found for url: http://pbs.twimg.com/media/BgvNoclCcAA9Mwo.jpg\n"
          ]
        },
        {
          "output_type": "stream",
          "name": "stderr",
          "text": [
            "Extracting content:  43%|████▎     | 779/1797 [10:48<15:16,  1.11it/s]"
          ]
        },
        {
          "output_type": "stream",
          "name": "stdout",
          "text": [
            "Error fetching content: 404 Client Error: Not Found for url: https://www.latimes.com:443/local/lanow/la%E2%80%A6...\n"
          ]
        },
        {
          "output_type": "stream",
          "name": "stderr",
          "text": [
            "Extracting content:  45%|████▍     | 805/1797 [11:14<23:07,  1.40s/it]"
          ]
        },
        {
          "output_type": "stream",
          "name": "stdout",
          "text": [
            "Error fetching content: 401 Client Error: HTTP Forbidden for url: https://www.wsj.com/articles/BL-DFB-20909\n"
          ]
        },
        {
          "output_type": "stream",
          "name": "stderr",
          "text": [
            "Extracting content:  45%|████▌     | 813/1797 [11:24<29:43,  1.81s/it]"
          ]
        },
        {
          "output_type": "stream",
          "name": "stdout",
          "text": [
            "Error fetching content: HTTPConnectionPool(host='lati.ms', port=80): Max retries exceeded with url: /tvXJc (Caused by ConnectTimeoutError(<urllib3.connection.HTTPConnection object at 0x7c72b440af50>, 'Connection to lati.ms timed out. (connect timeout=4)'))\n"
          ]
        },
        {
          "output_type": "stream",
          "name": "stderr",
          "text": [
            "Extracting content:  48%|████▊     | 861/1797 [12:17<10:12,  1.53it/s]"
          ]
        },
        {
          "output_type": "stream",
          "name": "stdout",
          "text": [
            "Error fetching content: 404 Client Error: Not Found for url: http://pbs.twimg.com/media/Be6wmjYCYAA9jjz.jpg\n"
          ]
        },
        {
          "output_type": "stream",
          "name": "stderr",
          "text": [
            "Extracting content:  48%|████▊     | 865/1797 [12:20<10:07,  1.53it/s]"
          ]
        },
        {
          "output_type": "stream",
          "name": "stdout",
          "text": [
            "Error fetching content: HTTPConnectionPool(host='www.latimes.com.preview.tribdev.com', port=80): Max retries exceeded with url: /science/sciencenow/la-sci-sn-sexually-transmitted-cancer-hounds-canines-for-11000-years-20140123,0,3327765.story (Caused by NameResolutionError(\"<urllib3.connection.HTTPConnection object at 0x7c72ae7a7bb0>: Failed to resolve 'www.latimes.com.preview.tribdev.com' ([Errno -2] Name or service not known)\"))\n"
          ]
        },
        {
          "output_type": "stream",
          "name": "stderr",
          "text": [
            "Extracting content:  49%|████▉     | 880/1797 [12:39<24:57,  1.63s/it]"
          ]
        },
        {
          "output_type": "stream",
          "name": "stdout",
          "text": [
            "Error fetching content: Failed to parse: http://t.co…\n"
          ]
        },
        {
          "output_type": "stream",
          "name": "stderr",
          "text": [
            "Extracting content:  49%|████▉     | 889/1797 [12:45<10:16,  1.47it/s]"
          ]
        },
        {
          "output_type": "stream",
          "name": "stdout",
          "text": [
            "Error fetching content: 404 Client Error: Not Found for url: https://t.co/%E2%80%A6\n"
          ]
        },
        {
          "output_type": "stream",
          "name": "stderr",
          "text": [
            "Extracting content:  51%|█████     | 915/1797 [13:22<16:22,  1.11s/it]"
          ]
        },
        {
          "output_type": "stream",
          "name": "stdout",
          "text": [
            "Error fetching content: 404 Client Error: Not Found for url: https://t.co/%E2%80%A6\n"
          ]
        },
        {
          "output_type": "stream",
          "name": "stderr",
          "text": [
            "Extracting content:  52%|█████▏    | 939/1797 [13:51<17:53,  1.25s/it]"
          ]
        },
        {
          "output_type": "stream",
          "name": "stdout",
          "text": [
            "Error fetching content: 404 Client Error: Not Found for url: https://www.latimes.com/science/sciencenow/la-sci-sn-top-science-stories-of-2013-gallery-20131220,0,5430923.photogallery\n"
          ]
        },
        {
          "output_type": "stream",
          "name": "stderr",
          "text": [
            "Extracting content:  53%|█████▎    | 953/1797 [14:22<47:32,  3.38s/it]"
          ]
        },
        {
          "output_type": "stream",
          "name": "stdout",
          "text": [
            "Error fetching content: HTTPSConnectionPool(host='www.latimes.com', port=443): Read timed out. (read timeout=4)\n"
          ]
        },
        {
          "output_type": "stream",
          "name": "stderr",
          "text": [
            "Extracting content:  53%|█████▎    | 958/1797 [14:31<33:03,  2.36s/it]"
          ]
        },
        {
          "output_type": "stream",
          "name": "stdout",
          "text": [
            "Error fetching content: HTTPSConnectionPool(host='www.latimes.com', port=443): Read timed out. (read timeout=4)\n"
          ]
        },
        {
          "output_type": "stream",
          "name": "stderr",
          "text": [
            "Extracting content:  55%|█████▍    | 980/1797 [15:03<29:19,  2.15s/it]"
          ]
        },
        {
          "output_type": "stream",
          "name": "stdout",
          "text": [
            "Error fetching content: HTTPConnectionPool(host='lati.ms', port=80): Max retries exceeded with url: /r7eBL (Caused by ConnectTimeoutError(<urllib3.connection.HTTPConnection object at 0x7c72a203a050>, 'Connection to lati.ms timed out. (connect timeout=4)'))\n"
          ]
        },
        {
          "output_type": "stream",
          "name": "stderr",
          "text": [
            "Extracting content:  55%|█████▌    | 997/1797 [15:24<25:27,  1.91s/it]"
          ]
        },
        {
          "output_type": "stream",
          "name": "stdout",
          "text": [
            "Error fetching content: HTTPConnectionPool(host='lati.ms', port=80): Max retries exceeded with url: /qdQXJ (Caused by ConnectTimeoutError(<urllib3.connection.HTTPConnection object at 0x7c72a02391e0>, 'Connection to lati.ms timed out. (connect timeout=4)'))\n"
          ]
        },
        {
          "output_type": "stream",
          "name": "stderr",
          "text": [
            "Extracting content:  56%|█████▌    | 999/1797 [15:25<16:45,  1.26s/it]"
          ]
        },
        {
          "output_type": "stream",
          "name": "stdout",
          "text": [
            "Error fetching content: 404 Client Error: Not Found for url: https://t.co/wrJ8QXW%E2%80%A6\n"
          ]
        },
        {
          "output_type": "stream",
          "name": "stderr",
          "text": [
            "\rExtracting content:  56%|█████▌    | 1000/1797 [15:26<12:45,  1.04it/s]"
          ]
        },
        {
          "output_type": "stream",
          "name": "stdout",
          "text": [
            "Error fetching content: 404 Client Error: Not Found for url: https://t.co/%E2%80%A6\n"
          ]
        },
        {
          "output_type": "stream",
          "name": "stderr",
          "text": [
            "Extracting content:  56%|█████▌    | 1009/1797 [15:38<26:45,  2.04s/it]"
          ]
        },
        {
          "output_type": "stream",
          "name": "stdout",
          "text": [
            "Error fetching content: HTTPConnectionPool(host='lati.ms', port=80): Max retries exceeded with url: /qI1S4 (Caused by ConnectTimeoutError(<urllib3.connection.HTTPConnection object at 0x7c729f2eea70>, 'Connection to lati.ms timed out. (connect timeout=4)'))\n"
          ]
        },
        {
          "output_type": "stream",
          "name": "stderr",
          "text": [
            "Extracting content:  57%|█████▋    | 1018/1797 [15:45<09:50,  1.32it/s]"
          ]
        },
        {
          "output_type": "stream",
          "name": "stdout",
          "text": [
            "Error fetching content: Failed to parse: http://t.c…\n"
          ]
        },
        {
          "output_type": "stream",
          "name": "stderr",
          "text": [
            "Extracting content:  57%|█████▋    | 1031/1797 [15:56<08:36,  1.48it/s]"
          ]
        },
        {
          "output_type": "stream",
          "name": "stdout",
          "text": [
            "Error fetching content: 404 Client Error: Not Found for url: http://pbs.twimg.com/media/BYE64JlCAAAlxWg.jpg\n"
          ]
        },
        {
          "output_type": "stream",
          "name": "stderr",
          "text": [
            "\rExtracting content:  57%|█████▋    | 1032/1797 [16:00<21:17,  1.67s/it]"
          ]
        },
        {
          "output_type": "stream",
          "name": "stdout",
          "text": [
            "Error fetching content: HTTPConnectionPool(host='lati.ms', port=80): Max retries exceeded with url: /qpSGn (Caused by ConnectTimeoutError(<urllib3.connection.HTTPConnection object at 0x7c729ccc7e80>, 'Connection to lati.ms timed out. (connect timeout=4)'))\n"
          ]
        },
        {
          "output_type": "stream",
          "name": "stderr",
          "text": [
            "Extracting content:  58%|█████▊    | 1041/1797 [16:11<24:17,  1.93s/it]"
          ]
        },
        {
          "output_type": "stream",
          "name": "stdout",
          "text": [
            "Error fetching content: HTTPConnectionPool(host='lati.ms', port=80): Max retries exceeded with url: /qdQHS (Caused by ConnectTimeoutError(<urllib3.connection.HTTPConnection object at 0x7c729bdca170>, 'Connection to lati.ms timed out. (connect timeout=4)'))\n"
          ]
        },
        {
          "output_type": "stream",
          "name": "stderr",
          "text": [
            "Extracting content:  58%|█████▊    | 1047/1797 [16:19<23:21,  1.87s/it]"
          ]
        },
        {
          "output_type": "stream",
          "name": "stdout",
          "text": [
            "Error fetching content: HTTPConnectionPool(host='lati.ms', port=80): Max retries exceeded with url: /qdQWw (Caused by ConnectTimeoutError(<urllib3.connection.HTTPConnection object at 0x7c729b511c00>, 'Connection to lati.ms timed out. (connect timeout=4)'))\n"
          ]
        },
        {
          "output_type": "stream",
          "name": "stderr",
          "text": [
            "Extracting content:  58%|█████▊    | 1051/1797 [16:22<11:50,  1.05it/s]"
          ]
        },
        {
          "output_type": "stream",
          "name": "stdout",
          "text": [
            "Error fetching content: Failed to parse: http://t.co…\n"
          ]
        },
        {
          "output_type": "stream",
          "name": "stderr",
          "text": [
            "\rExtracting content:  59%|█████▊    | 1053/1797 [16:26<17:50,  1.44s/it]"
          ]
        },
        {
          "output_type": "stream",
          "name": "stdout",
          "text": [
            "Error fetching content: HTTPConnectionPool(host='lati.ms', port=80): Max retries exceeded with url: /qdQBp (Caused by ConnectTimeoutError(<urllib3.connection.HTTPConnection object at 0x7c729ac7f4f0>, 'Connection to lati.ms timed out. (connect timeout=4)'))\n"
          ]
        },
        {
          "output_type": "stream",
          "name": "stderr",
          "text": [
            "Extracting content:  59%|█████▉    | 1058/1797 [16:33<22:13,  1.80s/it]"
          ]
        },
        {
          "output_type": "stream",
          "name": "stdout",
          "text": [
            "Error fetching content: HTTPConnectionPool(host='lati.ms', port=80): Max retries exceeded with url: /qfNwi (Caused by ConnectTimeoutError(<urllib3.connection.HTTPConnection object at 0x7c729a6298d0>, 'Connection to lati.ms timed out. (connect timeout=4)'))\n"
          ]
        },
        {
          "output_type": "stream",
          "name": "stderr",
          "text": [
            "\rExtracting content:  59%|█████▉    | 1059/1797 [16:37<30:04,  2.44s/it]"
          ]
        },
        {
          "output_type": "stream",
          "name": "stdout",
          "text": [
            "Error fetching content: HTTPConnectionPool(host='lati.ms', port=80): Max retries exceeded with url: /qdQrv (Caused by ConnectTimeoutError(<urllib3.connection.HTTPConnection object at 0x7c729a62a110>, 'Connection to lati.ms timed out. (connect timeout=4)'))\n"
          ]
        },
        {
          "output_type": "stream",
          "name": "stderr",
          "text": [
            "\rExtracting content:  59%|█████▉    | 1060/1797 [16:41<35:45,  2.91s/it]"
          ]
        },
        {
          "output_type": "stream",
          "name": "stdout",
          "text": [
            "Error fetching content: HTTPConnectionPool(host='lati.ms', port=80): Max retries exceeded with url: /qdRMh (Caused by ConnectTimeoutError(<urllib3.connection.HTTPConnection object at 0x7c729a62a920>, 'Connection to lati.ms timed out. (connect timeout=4)'))\n"
          ]
        },
        {
          "output_type": "stream",
          "name": "stderr",
          "text": [
            "Extracting content:  60%|█████▉    | 1070/1797 [16:51<13:19,  1.10s/it]"
          ]
        },
        {
          "output_type": "stream",
          "name": "stdout",
          "text": [
            "Error fetching content: Failed to parse: http://t.c…\n"
          ]
        },
        {
          "output_type": "stream",
          "name": "stderr",
          "text": [
            "Extracting content:  60%|█████▉    | 1077/1797 [16:57<11:10,  1.07it/s]"
          ]
        },
        {
          "output_type": "stream",
          "name": "stdout",
          "text": [
            "Error fetching content: Failed to parse: http://…\n"
          ]
        },
        {
          "output_type": "stream",
          "name": "stderr",
          "text": [
            "Extracting content:  61%|██████    | 1089/1797 [17:07<09:22,  1.26it/s]"
          ]
        },
        {
          "output_type": "stream",
          "name": "stdout",
          "text": [
            "Error fetching content: Failed to parse: http://t.c…\n"
          ]
        },
        {
          "output_type": "stream",
          "name": "stderr",
          "text": [
            "Extracting content:  62%|██████▏   | 1107/1797 [17:24<11:26,  1.00it/s]"
          ]
        },
        {
          "output_type": "stream",
          "name": "stdout",
          "text": [
            "Error fetching content: 404 Client Error: Not Found for url: http://pbs.twimg.com/media/BV09rtyCUAAq_JU.jpg\n"
          ]
        },
        {
          "output_type": "stream",
          "name": "stderr",
          "text": [
            "Extracting content:  62%|██████▏   | 1112/1797 [17:31<19:39,  1.72s/it]"
          ]
        },
        {
          "output_type": "stream",
          "name": "stdout",
          "text": [
            "Error fetching content: HTTPConnectionPool(host='lati.ms', port=80): Max retries exceeded with url: /prpvi (Caused by ConnectTimeoutError(<urllib3.connection.HTTPConnection object at 0x7c7294d216c0>, 'Connection to lati.ms timed out. (connect timeout=4)'))\n"
          ]
        },
        {
          "output_type": "stream",
          "name": "stderr",
          "text": [
            "Extracting content:  62%|██████▏   | 1116/1797 [17:38<24:03,  2.12s/it]"
          ]
        },
        {
          "output_type": "stream",
          "name": "stdout",
          "text": [
            "Error fetching content: HTTPConnectionPool(host='lati.ms', port=80): Max retries exceeded with url: /pqMrr (Caused by ConnectTimeoutError(<urllib3.connection.HTTPConnection object at 0x7c729469b460>, 'Connection to lati.ms timed out. (connect timeout=4)'))\n"
          ]
        },
        {
          "output_type": "stream",
          "name": "stderr",
          "text": [
            "\rExtracting content:  62%|██████▏   | 1117/1797 [17:42<30:20,  2.68s/it]"
          ]
        },
        {
          "output_type": "stream",
          "name": "stdout",
          "text": [
            "Error fetching content: HTTPConnectionPool(host='lati.ms', port=80): Max retries exceeded with url: /pqIAa (Caused by ConnectTimeoutError(<urllib3.connection.HTTPConnection object at 0x7c729469bb20>, 'Connection to lati.ms timed out. (connect timeout=4)'))\n"
          ]
        },
        {
          "output_type": "stream",
          "name": "stderr",
          "text": [
            "Extracting content:  62%|██████▏   | 1119/1797 [17:47<30:39,  2.71s/it]"
          ]
        },
        {
          "output_type": "stream",
          "name": "stdout",
          "text": [
            "Error fetching content: HTTPConnectionPool(host='lati.ms', port=80): Max retries exceeded with url: /ppbYm (Caused by ConnectTimeoutError(<urllib3.connection.HTTPConnection object at 0x7c729447f550>, 'Connection to lati.ms timed out. (connect timeout=4)'))\n"
          ]
        },
        {
          "output_type": "stream",
          "name": "stderr",
          "text": [
            "Extracting content:  62%|██████▏   | 1122/1797 [18:05<55:02,  4.89s/it]"
          ]
        },
        {
          "output_type": "stream",
          "name": "stdout",
          "text": [
            "Error fetching content: HTTPConnectionPool(host='lati.ms', port=80): Max retries exceeded with url: /poXNE (Caused by ConnectTimeoutError(<urllib3.connection.HTTPConnection object at 0x7c729430f760>, 'Connection to lati.ms timed out. (connect timeout=4)'))\n"
          ]
        },
        {
          "output_type": "stream",
          "name": "stderr",
          "text": [
            "Extracting content:  63%|██████▎   | 1124/1797 [18:09<42:01,  3.75s/it]"
          ]
        },
        {
          "output_type": "stream",
          "name": "stdout",
          "text": [
            "Error fetching content: HTTPConnectionPool(host='lati.ms', port=80): Max retries exceeded with url: /pmzPb (Caused by ConnectTimeoutError(<urllib3.connection.HTTPConnection object at 0x7c7293f38f40>, 'Connection to lati.ms timed out. (connect timeout=4)'))\n"
          ]
        },
        {
          "output_type": "stream",
          "name": "stderr",
          "text": [
            "\rExtracting content:  63%|██████▎   | 1125/1797 [18:13<42:51,  3.83s/it]"
          ]
        },
        {
          "output_type": "stream",
          "name": "stdout",
          "text": [
            "Error fetching content: HTTPConnectionPool(host='lati.ms', port=80): Max retries exceeded with url: /pmr2z (Caused by ConnectTimeoutError(<urllib3.connection.HTTPConnection object at 0x7c7293f39930>, 'Connection to lati.ms timed out. (connect timeout=4)'))\n"
          ]
        },
        {
          "output_type": "stream",
          "name": "stderr",
          "text": [
            "\rExtracting content:  63%|██████▎   | 1126/1797 [18:17<43:24,  3.88s/it]"
          ]
        },
        {
          "output_type": "stream",
          "name": "stdout",
          "text": [
            "Error fetching content: HTTPConnectionPool(host='lati.ms', port=80): Max retries exceeded with url: /pmtw3 (Caused by ConnectTimeoutError(<urllib3.connection.HTTPConnection object at 0x7c7293f3a080>, 'Connection to lati.ms timed out. (connect timeout=4)'))\n"
          ]
        },
        {
          "output_type": "stream",
          "name": "stderr",
          "text": [
            "\rExtracting content:  63%|██████▎   | 1127/1797 [18:21<43:47,  3.92s/it]"
          ]
        },
        {
          "output_type": "stream",
          "name": "stdout",
          "text": [
            "Error fetching content: HTTPConnectionPool(host='lati.ms', port=80): Max retries exceeded with url: /pib3o (Caused by ConnectTimeoutError(<urllib3.connection.HTTPConnection object at 0x7c7293f39e10>, 'Connection to lati.ms timed out. (connect timeout=4)'))\n"
          ]
        },
        {
          "output_type": "stream",
          "name": "stderr",
          "text": [
            "\rExtracting content:  63%|██████▎   | 1128/1797 [18:25<44:01,  3.95s/it]"
          ]
        },
        {
          "output_type": "stream",
          "name": "stdout",
          "text": [
            "Error fetching content: HTTPConnectionPool(host='lati.ms', port=80): Max retries exceeded with url: /pibgl (Caused by ConnectTimeoutError(<urllib3.connection.HTTPConnection object at 0x7c7293f392d0>, 'Connection to lati.ms timed out. (connect timeout=4)'))\n"
          ]
        },
        {
          "output_type": "stream",
          "name": "stderr",
          "text": [
            "Extracting content:  63%|██████▎   | 1130/1797 [18:31<38:41,  3.48s/it]"
          ]
        },
        {
          "output_type": "stream",
          "name": "stdout",
          "text": [
            "Error fetching content: HTTPConnectionPool(host='lati.ms', port=80): Max retries exceeded with url: /pfADD (Caused by ConnectTimeoutError(<urllib3.connection.HTTPConnection object at 0x7c7293f14820>, 'Connection to lati.ms timed out. (connect timeout=4)'))\n"
          ]
        },
        {
          "output_type": "stream",
          "name": "stderr",
          "text": [
            "\rExtracting content:  63%|██████▎   | 1131/1797 [18:35<40:29,  3.65s/it]"
          ]
        },
        {
          "output_type": "stream",
          "name": "stdout",
          "text": [
            "Error fetching content: HTTPConnectionPool(host='lati.ms', port=80): Max retries exceeded with url: /pfCoK (Caused by ConnectTimeoutError(<urllib3.connection.HTTPConnection object at 0x7c7293f15060>, 'Connection to lati.ms timed out. (connect timeout=4)'))\n"
          ]
        },
        {
          "output_type": "stream",
          "name": "stderr",
          "text": [
            "\rExtracting content:  63%|██████▎   | 1132/1797 [18:39<41:38,  3.76s/it]"
          ]
        },
        {
          "output_type": "stream",
          "name": "stdout",
          "text": [
            "Error fetching content: HTTPConnectionPool(host='lati.ms', port=80): Max retries exceeded with url: /pfd2Y (Caused by ConnectTimeoutError(<urllib3.connection.HTTPConnection object at 0x7c7293f15a80>, 'Connection to lati.ms timed out. (connect timeout=4)'))\n"
          ]
        },
        {
          "output_type": "stream",
          "name": "stderr",
          "text": [
            "\rExtracting content:  63%|██████▎   | 1133/1797 [18:43<42:24,  3.83s/it]"
          ]
        },
        {
          "output_type": "stream",
          "name": "stdout",
          "text": [
            "Error fetching content: HTTPConnectionPool(host='lati.ms', port=80): Max retries exceeded with url: /pdIdd (Caused by ConnectTimeoutError(<urllib3.connection.HTTPConnection object at 0x7c7293f16320>, 'Connection to lati.ms timed out. (connect timeout=4)'))\n"
          ]
        },
        {
          "output_type": "stream",
          "name": "stderr",
          "text": [
            "\rExtracting content:  63%|██████▎   | 1134/1797 [18:47<42:57,  3.89s/it]"
          ]
        },
        {
          "output_type": "stream",
          "name": "stdout",
          "text": [
            "Error fetching content: HTTPConnectionPool(host='lati.ms', port=80): Max retries exceeded with url: /pdD4g (Caused by ConnectTimeoutError(<urllib3.connection.HTTPConnection object at 0x7c7293f155d0>, 'Connection to lati.ms timed out. (connect timeout=4)'))\n"
          ]
        },
        {
          "output_type": "stream",
          "name": "stderr",
          "text": [
            "\rExtracting content:  63%|██████▎   | 1135/1797 [18:51<43:17,  3.92s/it]"
          ]
        },
        {
          "output_type": "stream",
          "name": "stdout",
          "text": [
            "Error fetching content: HTTPConnectionPool(host='lati.ms', port=80): Max retries exceeded with url: /pdt2r (Caused by ConnectTimeoutError(<urllib3.connection.HTTPConnection object at 0x7c7293f149a0>, 'Connection to lati.ms timed out. (connect timeout=4)'))\n"
          ]
        },
        {
          "output_type": "stream",
          "name": "stderr",
          "text": [
            "Extracting content:  63%|██████▎   | 1137/1797 [18:56<36:37,  3.33s/it]"
          ]
        },
        {
          "output_type": "stream",
          "name": "stdout",
          "text": [
            "Error fetching content: HTTPConnectionPool(host='lati.ms', port=80): Max retries exceeded with url: /pdcCC (Caused by ConnectTimeoutError(<urllib3.connection.HTTPConnection object at 0x7c7293d002b0>, 'Connection to lati.ms timed out. (connect timeout=4)'))\n"
          ]
        },
        {
          "output_type": "stream",
          "name": "stderr",
          "text": [
            "\rExtracting content:  63%|██████▎   | 1138/1797 [19:00<38:48,  3.53s/it]"
          ]
        },
        {
          "output_type": "stream",
          "name": "stdout",
          "text": [
            "Error fetching content: HTTPConnectionPool(host='lati.ms', port=80): Max retries exceeded with url: /pcX0K (Caused by ConnectTimeoutError(<urllib3.connection.HTTPConnection object at 0x7c7293d00af0>, 'Connection to lati.ms timed out. (connect timeout=4)'))\n"
          ]
        },
        {
          "output_type": "stream",
          "name": "stderr",
          "text": [
            "\rExtracting content:  63%|██████▎   | 1139/1797 [19:00<27:53,  2.54s/it]"
          ]
        },
        {
          "output_type": "stream",
          "name": "stdout",
          "text": [
            "Error fetching content: 404 Client Error: Not Found for url: https://t.co/fpxyHTmA%E2%80%A6\n"
          ]
        },
        {
          "output_type": "stream",
          "name": "stderr",
          "text": [
            "\rExtracting content:  63%|██████▎   | 1140/1797 [19:05<36:02,  3.29s/it]"
          ]
        },
        {
          "output_type": "stream",
          "name": "stdout",
          "text": [
            "Error fetching content: HTTPConnectionPool(host='lati.ms', port=80): Max retries exceeded with url: /pbbA7 (Caused by ConnectTimeoutError(<urllib3.connection.HTTPConnection object at 0x7c7293d00f70>, 'Connection to lati.ms timed out. (connect timeout=4)'))\n"
          ]
        },
        {
          "output_type": "stream",
          "name": "stderr",
          "text": [
            "\rExtracting content:  63%|██████▎   | 1141/1797 [19:09<38:22,  3.51s/it]"
          ]
        },
        {
          "output_type": "stream",
          "name": "stdout",
          "text": [
            "Error fetching content: HTTPConnectionPool(host='lati.ms', port=80): Max retries exceeded with url: /pbazu (Caused by ConnectTimeoutError(<urllib3.connection.HTTPConnection object at 0x7c7293d011b0>, 'Connection to lati.ms timed out. (connect timeout=4)'))\n",
            "Error fetching content: Failed to parse: http://t.c…\n"
          ]
        },
        {
          "output_type": "stream",
          "name": "stderr",
          "text": [
            "Extracting content:  64%|██████▎   | 1144/1797 [19:15<28:29,  2.62s/it]"
          ]
        },
        {
          "output_type": "stream",
          "name": "stdout",
          "text": [
            "Error fetching content: HTTPConnectionPool(host='lati.ms', port=80): Max retries exceeded with url: /p4tvV (Caused by ConnectTimeoutError(<urllib3.connection.HTTPConnection object at 0x7c7293ab38b0>, 'Connection to lati.ms timed out. (connect timeout=4)'))\n"
          ]
        },
        {
          "output_type": "stream",
          "name": "stderr",
          "text": [
            "\rExtracting content:  64%|██████▎   | 1145/1797 [19:19<32:24,  2.98s/it]"
          ]
        },
        {
          "output_type": "stream",
          "name": "stdout",
          "text": [
            "Error fetching content: HTTPConnectionPool(host='lati.ms', port=80): Max retries exceeded with url: /p4BgV (Caused by ConnectTimeoutError(<urllib3.connection.HTTPConnection object at 0x7c7293aec130>, 'Connection to lati.ms timed out. (connect timeout=4)'))\n"
          ]
        },
        {
          "output_type": "stream",
          "name": "stderr",
          "text": [
            "\rExtracting content:  64%|██████▍   | 1146/1797 [19:23<35:24,  3.26s/it]"
          ]
        },
        {
          "output_type": "stream",
          "name": "stdout",
          "text": [
            "Error fetching content: HTTPConnectionPool(host='lati.ms', port=80): Max retries exceeded with url: /p2hiD (Caused by ConnectTimeoutError(<urllib3.connection.HTTPConnection object at 0x7c7293ab3d90>, 'Connection to lati.ms timed out. (connect timeout=4)'))\n"
          ]
        },
        {
          "output_type": "stream",
          "name": "stderr",
          "text": [
            "\rExtracting content:  64%|██████▍   | 1147/1797 [19:23<26:07,  2.41s/it]"
          ]
        },
        {
          "output_type": "stream",
          "name": "stdout",
          "text": [
            "Error fetching content: 404 Client Error: Not Found for url: https://t.co/%E2%80%A6\n"
          ]
        },
        {
          "output_type": "stream",
          "name": "stderr",
          "text": [
            "\rExtracting content:  64%|██████▍   | 1148/1797 [19:27<31:01,  2.87s/it]"
          ]
        },
        {
          "output_type": "stream",
          "name": "stdout",
          "text": [
            "Error fetching content: HTTPConnectionPool(host='lati.ms', port=80): Max retries exceeded with url: /p1CxD (Caused by ConnectTimeoutError(<urllib3.connection.HTTPConnection object at 0x7c7293ab3820>, 'Connection to lati.ms timed out. (connect timeout=4)'))\n"
          ]
        },
        {
          "output_type": "stream",
          "name": "stderr",
          "text": [
            "\rExtracting content:  64%|██████▍   | 1149/1797 [19:31<34:33,  3.20s/it]"
          ]
        },
        {
          "output_type": "stream",
          "name": "stdout",
          "text": [
            "Error fetching content: HTTPConnectionPool(host='lati.ms', port=80): Max retries exceeded with url: /p1BKc (Caused by ConnectTimeoutError(<urllib3.connection.HTTPConnection object at 0x7c7293aecac0>, 'Connection to lati.ms timed out. (connect timeout=4)'))\n"
          ]
        },
        {
          "output_type": "stream",
          "name": "stderr",
          "text": [
            "\rExtracting content:  64%|██████▍   | 1150/1797 [19:35<37:04,  3.44s/it]"
          ]
        },
        {
          "output_type": "stream",
          "name": "stdout",
          "text": [
            "Error fetching content: HTTPConnectionPool(host='lati.ms', port=80): Max retries exceeded with url: /p07HE (Caused by ConnectTimeoutError(<urllib3.connection.HTTPConnection object at 0x7c7293aed1e0>, 'Connection to lati.ms timed out. (connect timeout=4)'))\n"
          ]
        },
        {
          "output_type": "stream",
          "name": "stderr",
          "text": [
            "\rExtracting content:  64%|██████▍   | 1151/1797 [19:39<39:06,  3.63s/it]"
          ]
        },
        {
          "output_type": "stream",
          "name": "stdout",
          "text": [
            "Error fetching content: HTTPConnectionPool(host='lati.ms', port=80): Max retries exceeded with url: /p05kA (Caused by ConnectTimeoutError(<urllib3.connection.HTTPConnection object at 0x7c7293aeda20>, 'Connection to lati.ms timed out. (connect timeout=4)'))\n"
          ]
        },
        {
          "output_type": "stream",
          "name": "stderr",
          "text": [
            "\rExtracting content:  64%|██████▍   | 1152/1797 [19:43<40:15,  3.75s/it]"
          ]
        },
        {
          "output_type": "stream",
          "name": "stdout",
          "text": [
            "Error fetching content: HTTPConnectionPool(host='lati.ms', port=80): Max retries exceeded with url: /oZsKn (Caused by ConnectTimeoutError(<urllib3.connection.HTTPConnection object at 0x7c7293aee260>, 'Connection to lati.ms timed out. (connect timeout=4)'))\n"
          ]
        },
        {
          "output_type": "stream",
          "name": "stderr",
          "text": [
            "\rExtracting content:  64%|██████▍   | 1153/1797 [19:47<41:03,  3.82s/it]"
          ]
        },
        {
          "output_type": "stream",
          "name": "stdout",
          "text": [
            "Error fetching content: HTTPConnectionPool(host='lati.ms', port=80): Max retries exceeded with url: /oZrdU (Caused by ConnectTimeoutError(<urllib3.connection.HTTPConnection object at 0x7c7293ab3190>, 'Connection to lati.ms timed out. (connect timeout=4)'))\n"
          ]
        },
        {
          "output_type": "stream",
          "name": "stderr",
          "text": [
            "\rExtracting content:  64%|██████▍   | 1154/1797 [19:51<41:35,  3.88s/it]"
          ]
        },
        {
          "output_type": "stream",
          "name": "stdout",
          "text": [
            "Error fetching content: HTTPConnectionPool(host='lati.ms', port=80): Max retries exceeded with url: /oXIym (Caused by ConnectTimeoutError(<urllib3.connection.HTTPConnection object at 0x7c7293aee3e0>, 'Connection to lati.ms timed out. (connect timeout=4)'))\n"
          ]
        },
        {
          "output_type": "stream",
          "name": "stderr",
          "text": [
            "\rExtracting content:  64%|██████▍   | 1155/1797 [19:51<29:52,  2.79s/it]"
          ]
        },
        {
          "output_type": "stream",
          "name": "stdout",
          "text": [
            "Error fetching content: 404 Client Error: Not Found for url: https://t.co/Yk%E2%80%A6\n"
          ]
        },
        {
          "output_type": "stream",
          "name": "stderr",
          "text": [
            "\rExtracting content:  64%|██████▍   | 1156/1797 [19:55<33:43,  3.16s/it]"
          ]
        },
        {
          "output_type": "stream",
          "name": "stdout",
          "text": [
            "Error fetching content: HTTPConnectionPool(host='lati.ms', port=80): Max retries exceeded with url: /oXhYJ (Caused by ConnectTimeoutError(<urllib3.connection.HTTPConnection object at 0x7c7293aed420>, 'Connection to lati.ms timed out. (connect timeout=4)'))\n"
          ]
        },
        {
          "output_type": "stream",
          "name": "stderr",
          "text": [
            "\rExtracting content:  64%|██████▍   | 1157/1797 [19:59<36:24,  3.41s/it]"
          ]
        },
        {
          "output_type": "stream",
          "name": "stdout",
          "text": [
            "Error fetching content: HTTPConnectionPool(host='lati.ms', port=80): Max retries exceeded with url: /oXd7r (Caused by ConnectTimeoutError(<urllib3.connection.HTTPConnection object at 0x7c7293aed990>, 'Connection to lati.ms timed out. (connect timeout=4)'))\n"
          ]
        },
        {
          "output_type": "stream",
          "name": "stderr",
          "text": [
            "\rExtracting content:  64%|██████▍   | 1158/1797 [20:03<38:15,  3.59s/it]"
          ]
        },
        {
          "output_type": "stream",
          "name": "stdout",
          "text": [
            "Error fetching content: HTTPConnectionPool(host='lati.ms', port=80): Max retries exceeded with url: /oW1PS (Caused by ConnectTimeoutError(<urllib3.connection.HTTPConnection object at 0x7c7293aec250>, 'Connection to lati.ms timed out. (connect timeout=4)'))\n"
          ]
        },
        {
          "output_type": "stream",
          "name": "stderr",
          "text": [
            "\rExtracting content:  64%|██████▍   | 1159/1797 [20:07<39:32,  3.72s/it]"
          ]
        },
        {
          "output_type": "stream",
          "name": "stdout",
          "text": [
            "Error fetching content: HTTPConnectionPool(host='lati.ms', port=80): Max retries exceeded with url: /oVrGg (Caused by ConnectTimeoutError(<urllib3.connection.HTTPConnection object at 0x7c7293ab3c40>, 'Connection to lati.ms timed out. (connect timeout=4)'))\n"
          ]
        },
        {
          "output_type": "stream",
          "name": "stderr",
          "text": [
            "\rExtracting content:  65%|██████▍   | 1160/1797 [20:11<40:48,  3.84s/it]"
          ]
        },
        {
          "output_type": "stream",
          "name": "stdout",
          "text": [
            "Error fetching content: HTTPConnectionPool(host='lati.ms', port=80): Max retries exceeded with url: /oVnEM (Caused by ConnectTimeoutError(<urllib3.connection.HTTPConnection object at 0x7c7293aec7f0>, 'Connection to lati.ms timed out. (connect timeout=4)'))\n"
          ]
        },
        {
          "output_type": "stream",
          "name": "stderr",
          "text": [
            "\rExtracting content:  65%|██████▍   | 1161/1797 [20:15<41:16,  3.89s/it]"
          ]
        },
        {
          "output_type": "stream",
          "name": "stdout",
          "text": [
            "Error fetching content: HTTPConnectionPool(host='lati.ms', port=80): Max retries exceeded with url: /oVnsm (Caused by ConnectTimeoutError(<urllib3.connection.HTTPConnection object at 0x7c7293aed390>, 'Connection to lati.ms timed out. (connect timeout=4)'))\n"
          ]
        },
        {
          "output_type": "stream",
          "name": "stderr",
          "text": [
            "\rExtracting content:  65%|██████▍   | 1162/1797 [20:16<29:43,  2.81s/it]"
          ]
        },
        {
          "output_type": "stream",
          "name": "stdout",
          "text": [
            "Error fetching content: 404 Client Error: Not Found for url: https://t.co/Aut%E2%80%A6\n"
          ]
        },
        {
          "output_type": "stream",
          "name": "stderr",
          "text": [
            "Extracting content:  65%|██████▍   | 1164/1797 [20:17<17:18,  1.64s/it]"
          ]
        },
        {
          "output_type": "stream",
          "name": "stdout",
          "text": [
            "Error fetching content: 404 Client Error: Not Found for url: https://t.co/q4xDQU%E2%80%A6\n"
          ]
        },
        {
          "output_type": "stream",
          "name": "stderr",
          "text": [
            "\rExtracting content:  65%|██████▍   | 1165/1797 [20:21<24:46,  2.35s/it]"
          ]
        },
        {
          "output_type": "stream",
          "name": "stdout",
          "text": [
            "Error fetching content: HTTPConnectionPool(host='lati.ms', port=80): Max retries exceeded with url: /oQIvC (Caused by ConnectTimeoutError(<urllib3.connection.HTTPConnection object at 0x7c7293aef4c0>, 'Connection to lati.ms timed out. (connect timeout=4)'))\n"
          ]
        },
        {
          "output_type": "stream",
          "name": "stderr",
          "text": [
            "Extracting content:  65%|██████▍   | 1167/1797 [20:26<27:53,  2.66s/it]"
          ]
        },
        {
          "output_type": "stream",
          "name": "stdout",
          "text": [
            "Error fetching content: HTTPConnectionPool(host='lati.ms', port=80): Max retries exceeded with url: /oPpKa (Caused by ConnectTimeoutError(<urllib3.connection.HTTPConnection object at 0x7c729389eef0>, 'Connection to lati.ms timed out. (connect timeout=4)'))\n"
          ]
        },
        {
          "output_type": "stream",
          "name": "stderr",
          "text": [
            "\rExtracting content:  65%|██████▍   | 1168/1797 [20:30<32:07,  3.06s/it]"
          ]
        },
        {
          "output_type": "stream",
          "name": "stdout",
          "text": [
            "Error fetching content: HTTPConnectionPool(host='lati.ms', port=80): Max retries exceeded with url: /oPoPO (Caused by ConnectTimeoutError(<urllib3.connection.HTTPConnection object at 0x7c729389ee90>, 'Connection to lati.ms timed out. (connect timeout=4)'))\n"
          ]
        },
        {
          "output_type": "stream",
          "name": "stderr",
          "text": [
            "\rExtracting content:  65%|██████▌   | 1169/1797 [20:34<35:02,  3.35s/it]"
          ]
        },
        {
          "output_type": "stream",
          "name": "stdout",
          "text": [
            "Error fetching content: HTTPConnectionPool(host='lati.ms', port=80): Max retries exceeded with url: /oPox7 (Caused by ConnectTimeoutError(<urllib3.connection.HTTPConnection object at 0x7c729389f700>, 'Connection to lati.ms timed out. (connect timeout=4)'))\n"
          ]
        },
        {
          "output_type": "stream",
          "name": "stderr",
          "text": [
            "Extracting content:  65%|██████▌   | 1171/1797 [20:39<30:53,  2.96s/it]"
          ]
        },
        {
          "output_type": "stream",
          "name": "stdout",
          "text": [
            "Error fetching content: HTTPConnectionPool(host='lati.ms', port=80): Max retries exceeded with url: /oNpvF (Caused by ConnectTimeoutError(<urllib3.connection.HTTPConnection object at 0x7c72938d1720>, 'Connection to lati.ms timed out. (connect timeout=4)'))\n"
          ]
        },
        {
          "output_type": "stream",
          "name": "stderr",
          "text": [
            "\rExtracting content:  65%|██████▌   | 1172/1797 [20:43<34:11,  3.28s/it]"
          ]
        },
        {
          "output_type": "stream",
          "name": "stdout",
          "text": [
            "Error fetching content: HTTPConnectionPool(host='lati.ms', port=80): Max retries exceeded with url: /oN0IL (Caused by ConnectTimeoutError(<urllib3.connection.HTTPConnection object at 0x7c729389fe50>, 'Connection to lati.ms timed out. (connect timeout=4)'))\n"
          ]
        },
        {
          "output_type": "stream",
          "name": "stderr",
          "text": [
            "\rExtracting content:  65%|██████▌   | 1173/1797 [20:47<36:25,  3.50s/it]"
          ]
        },
        {
          "output_type": "stream",
          "name": "stdout",
          "text": [
            "Error fetching content: HTTPConnectionPool(host='lati.ms', port=80): Max retries exceeded with url: /oN1B0 (Caused by ConnectTimeoutError(<urllib3.connection.HTTPConnection object at 0x7c729389eda0>, 'Connection to lati.ms timed out. (connect timeout=4)'))\n"
          ]
        },
        {
          "output_type": "stream",
          "name": "stderr",
          "text": [
            "\rExtracting content:  65%|██████▌   | 1174/1797 [20:47<26:27,  2.55s/it]"
          ]
        },
        {
          "output_type": "stream",
          "name": "stdout",
          "text": [
            "Error fetching content: 404 Client Error: Not Found for url: https://t.co/kJZ5zdYi%E2%80%A6\n"
          ]
        },
        {
          "output_type": "stream",
          "name": "stderr",
          "text": [
            "\rExtracting content:  65%|██████▌   | 1175/1797 [20:51<30:58,  2.99s/it]"
          ]
        },
        {
          "output_type": "stream",
          "name": "stdout",
          "text": [
            "Error fetching content: HTTPConnectionPool(host='lati.ms', port=80): Max retries exceeded with url: /oMDp8 (Caused by ConnectTimeoutError(<urllib3.connection.HTTPConnection object at 0x7c729389e920>, 'Connection to lati.ms timed out. (connect timeout=4)'))\n"
          ]
        },
        {
          "output_type": "stream",
          "name": "stderr",
          "text": [
            "\rExtracting content:  65%|██████▌   | 1176/1797 [20:55<34:06,  3.30s/it]"
          ]
        },
        {
          "output_type": "stream",
          "name": "stdout",
          "text": [
            "Error fetching content: HTTPConnectionPool(host='lati.ms', port=80): Max retries exceeded with url: /oMjDz (Caused by ConnectTimeoutError(<urllib3.connection.HTTPConnection object at 0x7c72938d0d60>, 'Connection to lati.ms timed out. (connect timeout=4)'))\n"
          ]
        },
        {
          "output_type": "stream",
          "name": "stderr",
          "text": [
            "\rExtracting content:  65%|██████▌   | 1177/1797 [20:59<36:16,  3.51s/it]"
          ]
        },
        {
          "output_type": "stream",
          "name": "stdout",
          "text": [
            "Error fetching content: HTTPConnectionPool(host='lati.ms', port=80): Max retries exceeded with url: /oKFXy (Caused by ConnectTimeoutError(<urllib3.connection.HTTPConnection object at 0x7c729389e8f0>, 'Connection to lati.ms timed out. (connect timeout=4)'))\n"
          ]
        },
        {
          "output_type": "stream",
          "name": "stderr",
          "text": [
            "\rExtracting content:  66%|██████▌   | 1178/1797 [21:03<37:46,  3.66s/it]"
          ]
        },
        {
          "output_type": "stream",
          "name": "stdout",
          "text": [
            "Error fetching content: HTTPConnectionPool(host='lati.ms', port=80): Max retries exceeded with url: /oKEIX (Caused by ConnectTimeoutError(<urllib3.connection.HTTPConnection object at 0x7c729389edd0>, 'Connection to lati.ms timed out. (connect timeout=4)'))\n"
          ]
        },
        {
          "output_type": "stream",
          "name": "stderr",
          "text": [
            "\rExtracting content:  66%|██████▌   | 1179/1797 [21:07<38:47,  3.77s/it]"
          ]
        },
        {
          "output_type": "stream",
          "name": "stdout",
          "text": [
            "Error fetching content: HTTPConnectionPool(host='lati.ms', port=80): Max retries exceeded with url: /oItsx (Caused by ConnectTimeoutError(<urllib3.connection.HTTPConnection object at 0x7c729389fb50>, 'Connection to lati.ms timed out. (connect timeout=4)'))\n"
          ]
        },
        {
          "output_type": "stream",
          "name": "stderr",
          "text": [
            "\rExtracting content:  66%|██████▌   | 1180/1797 [21:11<39:29,  3.84s/it]"
          ]
        },
        {
          "output_type": "stream",
          "name": "stdout",
          "text": [
            "Error fetching content: HTTPConnectionPool(host='lati.ms', port=80): Max retries exceeded with url: /oIsu1 (Caused by ConnectTimeoutError(<urllib3.connection.HTTPConnection object at 0x7c72938d0a90>, 'Connection to lati.ms timed out. (connect timeout=4)'))\n"
          ]
        },
        {
          "output_type": "stream",
          "name": "stderr",
          "text": [
            "\rExtracting content:  66%|██████▌   | 1181/1797 [21:15<39:57,  3.89s/it]"
          ]
        },
        {
          "output_type": "stream",
          "name": "stdout",
          "text": [
            "Error fetching content: HTTPConnectionPool(host='lati.ms', port=80): Max retries exceeded with url: /oIrQw (Caused by ConnectTimeoutError(<urllib3.connection.HTTPConnection object at 0x7c72938d1210>, 'Connection to lati.ms timed out. (connect timeout=4)'))\n"
          ]
        },
        {
          "output_type": "stream",
          "name": "stderr",
          "text": [
            "\rExtracting content:  66%|██████▌   | 1182/1797 [21:20<40:31,  3.95s/it]"
          ]
        },
        {
          "output_type": "stream",
          "name": "stdout",
          "text": [
            "Error fetching content: HTTPConnectionPool(host='lati.ms', port=80): Max retries exceeded with url: /oIrIM (Caused by ConnectTimeoutError(<urllib3.connection.HTTPConnection object at 0x7c72938d1900>, 'Connection to lati.ms timed out. (connect timeout=4)'))\n"
          ]
        },
        {
          "output_type": "stream",
          "name": "stderr",
          "text": [
            "Extracting content:  66%|██████▌   | 1185/1797 [21:25<28:43,  2.82s/it]"
          ]
        },
        {
          "output_type": "stream",
          "name": "stdout",
          "text": [
            "Error fetching content: HTTPConnectionPool(host='lati.ms', port=80): Max retries exceeded with url: /oEaez (Caused by ConnectTimeoutError(<urllib3.connection.HTTPConnection object at 0x7c729302f1c0>, 'Connection to lati.ms timed out. (connect timeout=4)'))\n"
          ]
        },
        {
          "output_type": "stream",
          "name": "stderr",
          "text": [
            "Extracting content:  66%|██████▌   | 1187/1797 [21:30<27:36,  2.72s/it]"
          ]
        },
        {
          "output_type": "stream",
          "name": "stdout",
          "text": [
            "Error fetching content: HTTPConnectionPool(host='lati.ms', port=80): Max retries exceeded with url: /oDTpS (Caused by ConnectTimeoutError(<urllib3.connection.HTTPConnection object at 0x7c7292bd7f40>, 'Connection to lati.ms timed out. (connect timeout=4)'))\n"
          ]
        },
        {
          "output_type": "stream",
          "name": "stderr",
          "text": [
            "\rExtracting content:  66%|██████▌   | 1188/1797 [21:34<31:30,  3.10s/it]"
          ]
        },
        {
          "output_type": "stream",
          "name": "stdout",
          "text": [
            "Error fetching content: HTTPConnectionPool(host='lati.ms', port=80): Max retries exceeded with url: /oDULt (Caused by ConnectTimeoutError(<urllib3.connection.HTTPConnection object at 0x7c7292c0c940>, 'Connection to lati.ms timed out. (connect timeout=4)'))\n"
          ]
        },
        {
          "output_type": "stream",
          "name": "stderr",
          "text": [
            "\rExtracting content:  66%|██████▌   | 1189/1797 [21:38<34:12,  3.38s/it]"
          ]
        },
        {
          "output_type": "stream",
          "name": "stdout",
          "text": [
            "Error fetching content: HTTPConnectionPool(host='lati.ms', port=80): Max retries exceeded with url: /oDYby (Caused by ConnectTimeoutError(<urllib3.connection.HTTPConnection object at 0x7c7292c0d000>, 'Connection to lati.ms timed out. (connect timeout=4)'))\n"
          ]
        },
        {
          "output_type": "stream",
          "name": "stderr",
          "text": [
            "\rExtracting content:  66%|██████▌   | 1190/1797 [21:42<36:05,  3.57s/it]"
          ]
        },
        {
          "output_type": "stream",
          "name": "stdout",
          "text": [
            "Error fetching content: HTTPConnectionPool(host='lati.ms', port=80): Max retries exceeded with url: /oDWjB (Caused by ConnectTimeoutError(<urllib3.connection.HTTPConnection object at 0x7c7292c0d840>, 'Connection to lati.ms timed out. (connect timeout=4)'))\n"
          ]
        },
        {
          "output_type": "stream",
          "name": "stderr",
          "text": [
            "\rExtracting content:  66%|██████▋   | 1191/1797 [21:46<37:23,  3.70s/it]"
          ]
        },
        {
          "output_type": "stream",
          "name": "stdout",
          "text": [
            "Error fetching content: HTTPConnectionPool(host='lati.ms', port=80): Max retries exceeded with url: /oDTCx (Caused by ConnectTimeoutError(<urllib3.connection.HTTPConnection object at 0x7c7292c0e080>, 'Connection to lati.ms timed out. (connect timeout=4)'))\n"
          ]
        },
        {
          "output_type": "stream",
          "name": "stderr",
          "text": [
            "\rExtracting content:  66%|██████▋   | 1192/1797 [21:46<26:51,  2.66s/it]"
          ]
        },
        {
          "output_type": "stream",
          "name": "stdout",
          "text": [
            "Error fetching content: 404 Client Error: Not Found for url: https://t.co/dEJyf4a%E2%80%A6\n"
          ]
        },
        {
          "output_type": "stream",
          "name": "stderr",
          "text": [
            "Extracting content:  66%|██████▋   | 1194/1797 [21:51<27:29,  2.74s/it]"
          ]
        },
        {
          "output_type": "stream",
          "name": "stdout",
          "text": [
            "Error fetching content: HTTPConnectionPool(host='lati.ms', port=80): Max retries exceeded with url: /oBiYJ (Caused by ConnectTimeoutError(<urllib3.connection.HTTPConnection object at 0x7c72929c3130>, 'Connection to lati.ms timed out. (connect timeout=4)'))\n"
          ]
        },
        {
          "output_type": "stream",
          "name": "stderr",
          "text": [
            "\rExtracting content:  66%|██████▋   | 1195/1797 [21:55<31:16,  3.12s/it]"
          ]
        },
        {
          "output_type": "stream",
          "name": "stdout",
          "text": [
            "Error fetching content: HTTPConnectionPool(host='lati.ms', port=80): Max retries exceeded with url: /oBiw7 (Caused by ConnectTimeoutError(<urllib3.connection.HTTPConnection object at 0x7c72929c3970>, 'Connection to lati.ms timed out. (connect timeout=4)'))\n"
          ]
        },
        {
          "output_type": "stream",
          "name": "stderr",
          "text": [
            "Extracting content:  67%|██████▋   | 1197/1797 [22:01<30:32,  3.05s/it]"
          ]
        },
        {
          "output_type": "stream",
          "name": "stdout",
          "text": [
            "Error fetching content: HTTPConnectionPool(host='lati.ms', port=80): Max retries exceeded with url: /oB4Kd (Caused by ConnectTimeoutError(<urllib3.connection.HTTPConnection object at 0x7c72927addb0>, 'Connection to lati.ms timed out. (connect timeout=4)'))\n",
            "Error fetching content: Failed to parse: http://t.co…\n"
          ]
        },
        {
          "output_type": "stream",
          "name": "stderr",
          "text": [
            "\rExtracting content:  67%|██████▋   | 1199/1797 [22:05<25:39,  2.57s/it]"
          ]
        },
        {
          "output_type": "stream",
          "name": "stdout",
          "text": [
            "Error fetching content: HTTPConnectionPool(host='lati.ms', port=80): Max retries exceeded with url: /ozEAI (Caused by ConnectTimeoutError(<urllib3.connection.HTTPConnection object at 0x7c72927ae680>, 'Connection to lati.ms timed out. (connect timeout=4)'))\n"
          ]
        },
        {
          "output_type": "stream",
          "name": "stderr",
          "text": [
            "\rExtracting content:  67%|██████▋   | 1200/1797 [22:09<29:08,  2.93s/it]"
          ]
        },
        {
          "output_type": "stream",
          "name": "stdout",
          "text": [
            "Error fetching content: HTTPConnectionPool(host='lati.ms', port=80): Max retries exceeded with url: /ozFT8 (Caused by ConnectTimeoutError(<urllib3.connection.HTTPConnection object at 0x7c72927aee30>, 'Connection to lati.ms timed out. (connect timeout=4)'))\n"
          ]
        },
        {
          "output_type": "stream",
          "name": "stderr",
          "text": [
            "\rExtracting content:  67%|██████▋   | 1201/1797 [22:13<31:54,  3.21s/it]"
          ]
        },
        {
          "output_type": "stream",
          "name": "stdout",
          "text": [
            "Error fetching content: HTTPConnectionPool(host='lati.ms', port=80): Max retries exceeded with url: /ozASM (Caused by ConnectTimeoutError(<urllib3.connection.HTTPConnection object at 0x7c72927af580>, 'Connection to lati.ms timed out. (connect timeout=4)'))\n"
          ]
        },
        {
          "output_type": "stream",
          "name": "stderr",
          "text": [
            "\rExtracting content:  67%|██████▋   | 1202/1797 [22:17<34:01,  3.43s/it]"
          ]
        },
        {
          "output_type": "stream",
          "name": "stdout",
          "text": [
            "Error fetching content: HTTPConnectionPool(host='lati.ms', port=80): Max retries exceeded with url: /ozABn (Caused by ConnectTimeoutError(<urllib3.connection.HTTPConnection object at 0x7c72927afdc0>, 'Connection to lati.ms timed out. (connect timeout=4)'))\n"
          ]
        },
        {
          "output_type": "stream",
          "name": "stderr",
          "text": [
            "\rExtracting content:  67%|██████▋   | 1203/1797 [22:21<35:39,  3.60s/it]"
          ]
        },
        {
          "output_type": "stream",
          "name": "stdout",
          "text": [
            "Error fetching content: HTTPConnectionPool(host='lati.ms', port=80): Max retries exceeded with url: /ozkfh (Caused by ConnectTimeoutError(<urllib3.connection.HTTPConnection object at 0x7c72927af9a0>, 'Connection to lati.ms timed out. (connect timeout=4)'))\n"
          ]
        },
        {
          "output_type": "stream",
          "name": "stderr",
          "text": [
            "\rExtracting content:  67%|██████▋   | 1204/1797 [22:25<36:45,  3.72s/it]"
          ]
        },
        {
          "output_type": "stream",
          "name": "stdout",
          "text": [
            "Error fetching content: HTTPConnectionPool(host='lati.ms', port=80): Max retries exceeded with url: /oyRzI (Caused by ConnectTimeoutError(<urllib3.connection.HTTPConnection object at 0x7c72927af2b0>, 'Connection to lati.ms timed out. (connect timeout=4)'))\n"
          ]
        },
        {
          "output_type": "stream",
          "name": "stderr",
          "text": [
            "\rExtracting content:  67%|██████▋   | 1205/1797 [22:29<37:32,  3.81s/it]"
          ]
        },
        {
          "output_type": "stream",
          "name": "stdout",
          "text": [
            "Error fetching content: HTTPConnectionPool(host='lati.ms', port=80): Max retries exceeded with url: /oyPUA (Caused by ConnectTimeoutError(<urllib3.connection.HTTPConnection object at 0x7c72927aee90>, 'Connection to lati.ms timed out. (connect timeout=4)'))\n"
          ]
        },
        {
          "output_type": "stream",
          "name": "stderr",
          "text": [
            "\rExtracting content:  67%|██████▋   | 1206/1797 [22:33<38:04,  3.87s/it]"
          ]
        },
        {
          "output_type": "stream",
          "name": "stdout",
          "text": [
            "Error fetching content: HTTPConnectionPool(host='lati.ms', port=80): Max retries exceeded with url: /oyNiq (Caused by ConnectTimeoutError(<urllib3.connection.HTTPConnection object at 0x7c72927ae650>, 'Connection to lati.ms timed out. (connect timeout=4)'))\n"
          ]
        },
        {
          "output_type": "stream",
          "name": "stderr",
          "text": [
            "\rExtracting content:  67%|██████▋   | 1207/1797 [22:37<38:26,  3.91s/it]"
          ]
        },
        {
          "output_type": "stream",
          "name": "stdout",
          "text": [
            "Error fetching content: HTTPConnectionPool(host='lati.ms', port=80): Max retries exceeded with url: /oyM1B (Caused by ConnectTimeoutError(<urllib3.connection.HTTPConnection object at 0x7c72927ad5a0>, 'Connection to lati.ms timed out. (connect timeout=4)'))\n"
          ]
        },
        {
          "output_type": "stream",
          "name": "stderr",
          "text": [
            "\rExtracting content:  67%|██████▋   | 1208/1797 [22:41<38:40,  3.94s/it]"
          ]
        },
        {
          "output_type": "stream",
          "name": "stdout",
          "text": [
            "Error fetching content: HTTPConnectionPool(host='lati.ms', port=80): Max retries exceeded with url: /oxvb5 (Caused by ConnectTimeoutError(<urllib3.connection.HTTPConnection object at 0x7c72927d8640>, 'Connection to lati.ms timed out. (connect timeout=4)'))\n"
          ]
        },
        {
          "output_type": "stream",
          "name": "stderr",
          "text": [
            "\rExtracting content:  67%|██████▋   | 1209/1797 [22:45<38:49,  3.96s/it]"
          ]
        },
        {
          "output_type": "stream",
          "name": "stdout",
          "text": [
            "Error fetching content: HTTPConnectionPool(host='lati.ms', port=80): Max retries exceeded with url: /oxu0i (Caused by ConnectTimeoutError(<urllib3.connection.HTTPConnection object at 0x7c72927aecb0>, 'Connection to lati.ms timed out. (connect timeout=4)'))\n"
          ]
        },
        {
          "output_type": "stream",
          "name": "stderr",
          "text": [
            "\rExtracting content:  67%|██████▋   | 1210/1797 [22:49<38:54,  3.98s/it]"
          ]
        },
        {
          "output_type": "stream",
          "name": "stdout",
          "text": [
            "Error fetching content: HTTPConnectionPool(host='lati.ms', port=80): Max retries exceeded with url: /ox2be (Caused by ConnectTimeoutError(<urllib3.connection.HTTPConnection object at 0x7c72927af700>, 'Connection to lati.ms timed out. (connect timeout=4)'))\n"
          ]
        },
        {
          "output_type": "stream",
          "name": "stderr",
          "text": [
            "Extracting content:  67%|██████▋   | 1212/1797 [22:54<33:45,  3.46s/it]"
          ]
        },
        {
          "output_type": "stream",
          "name": "stdout",
          "text": [
            "Error fetching content: HTTPConnectionPool(host='lati.ms', port=80): Max retries exceeded with url: /owUyU (Caused by ConnectTimeoutError(<urllib3.connection.HTTPConnection object at 0x7c7292599450>, 'Connection to lati.ms timed out. (connect timeout=4)'))\n"
          ]
        },
        {
          "output_type": "stream",
          "name": "stderr",
          "text": [
            "Extracting content:  68%|██████▊   | 1214/1797 [22:59<29:58,  3.08s/it]"
          ]
        },
        {
          "output_type": "stream",
          "name": "stdout",
          "text": [
            "Error fetching content: HTTPConnectionPool(host='lati.ms', port=80): Max retries exceeded with url: /oqjcM (Caused by ConnectTimeoutError(<urllib3.connection.HTTPConnection object at 0x7c72925e46d0>, 'Connection to lati.ms timed out. (connect timeout=4)'))\n"
          ]
        },
        {
          "output_type": "stream",
          "name": "stderr",
          "text": [
            "\rExtracting content:  68%|██████▊   | 1215/1797 [23:00<22:44,  2.34s/it]"
          ]
        },
        {
          "output_type": "stream",
          "name": "stdout",
          "text": [
            "Error fetching content: Failed to parse: http://t.co…\n"
          ]
        },
        {
          "output_type": "stream",
          "name": "stderr",
          "text": [
            "\rExtracting content:  68%|██████▊   | 1217/1797 [23:04<21:10,  2.19s/it]"
          ]
        },
        {
          "output_type": "stream",
          "name": "stdout",
          "text": [
            "Error fetching content: HTTPConnectionPool(host='lati.ms', port=80): Max retries exceeded with url: /ooElD (Caused by ConnectTimeoutError(<urllib3.connection.HTTPConnection object at 0x7c7291f3e1d0>, 'Connection to lati.ms timed out. (connect timeout=4)'))\n"
          ]
        },
        {
          "output_type": "stream",
          "name": "stderr",
          "text": [
            "\rExtracting content:  68%|██████▊   | 1218/1797 [23:08<25:29,  2.64s/it]"
          ]
        },
        {
          "output_type": "stream",
          "name": "stdout",
          "text": [
            "Error fetching content: HTTPConnectionPool(host='lati.ms', port=80): Max retries exceeded with url: /omRc7 (Caused by ConnectTimeoutError(<urllib3.connection.HTTPConnection object at 0x7c7291f3ea10>, 'Connection to lati.ms timed out. (connect timeout=4)'))\n"
          ]
        },
        {
          "output_type": "stream",
          "name": "stderr",
          "text": [
            "\rExtracting content:  68%|██████▊   | 1219/1797 [23:12<28:54,  3.00s/it]"
          ]
        },
        {
          "output_type": "stream",
          "name": "stdout",
          "text": [
            "Error fetching content: HTTPConnectionPool(host='lati.ms', port=80): Max retries exceeded with url: /omQih (Caused by ConnectTimeoutError(<urllib3.connection.HTTPConnection object at 0x7c7291f3ea40>, 'Connection to lati.ms timed out. (connect timeout=4)'))\n"
          ]
        },
        {
          "output_type": "stream",
          "name": "stderr",
          "text": [
            "\rExtracting content:  68%|██████▊   | 1220/1797 [23:16<31:29,  3.28s/it]"
          ]
        },
        {
          "output_type": "stream",
          "name": "stdout",
          "text": [
            "Error fetching content: HTTPConnectionPool(host='lati.ms', port=80): Max retries exceeded with url: /omyAi (Caused by ConnectTimeoutError(<urllib3.connection.HTTPConnection object at 0x7c7291f3dff0>, 'Connection to lati.ms timed out. (connect timeout=4)'))\n"
          ]
        },
        {
          "output_type": "stream",
          "name": "stderr",
          "text": [
            "\rExtracting content:  68%|██████▊   | 1221/1797 [23:20<33:25,  3.48s/it]"
          ]
        },
        {
          "output_type": "stream",
          "name": "stdout",
          "text": [
            "Error fetching content: HTTPConnectionPool(host='lati.ms', port=80): Max retries exceeded with url: /okhA4 (Caused by ConnectTimeoutError(<urllib3.connection.HTTPConnection object at 0x7c7291f3f250>, 'Connection to lati.ms timed out. (connect timeout=4)'))\n"
          ]
        },
        {
          "output_type": "stream",
          "name": "stderr",
          "text": [
            "\rExtracting content:  68%|██████▊   | 1222/1797 [23:20<24:29,  2.55s/it]"
          ]
        },
        {
          "output_type": "stream",
          "name": "stdout",
          "text": [
            "Error fetching content: 404 Client Error: Not Found for url: https://t.co/ZhFxkBRO%E2%80%A6\n"
          ]
        },
        {
          "output_type": "stream",
          "name": "stderr",
          "text": [
            "\rExtracting content:  68%|██████▊   | 1223/1797 [23:25<30:06,  3.15s/it]"
          ]
        },
        {
          "output_type": "stream",
          "name": "stdout",
          "text": [
            "Error fetching content: HTTPConnectionPool(host='lati.ms', port=80): Max retries exceeded with url: /ojuAf (Caused by ConnectTimeoutError(<urllib3.connection.HTTPConnection object at 0x7c7291f3fb20>, 'Connection to lati.ms timed out. (connect timeout=4)'))\n"
          ]
        },
        {
          "output_type": "stream",
          "name": "stderr",
          "text": [
            "\rExtracting content:  68%|██████▊   | 1224/1797 [23:29<32:28,  3.40s/it]"
          ]
        },
        {
          "output_type": "stream",
          "name": "stdout",
          "text": [
            "Error fetching content: HTTPConnectionPool(host='lati.ms', port=80): Max retries exceeded with url: /oi4UO (Caused by ConnectTimeoutError(<urllib3.connection.HTTPConnection object at 0x7c7291f70490>, 'Connection to lati.ms timed out. (connect timeout=4)'))\n"
          ]
        },
        {
          "output_type": "stream",
          "name": "stderr",
          "text": [
            "\rExtracting content:  68%|██████▊   | 1225/1797 [23:33<34:08,  3.58s/it]"
          ]
        },
        {
          "output_type": "stream",
          "name": "stdout",
          "text": [
            "Error fetching content: HTTPConnectionPool(host='lati.ms', port=80): Max retries exceeded with url: /oi3Hi (Caused by ConnectTimeoutError(<urllib3.connection.HTTPConnection object at 0x7c7291f70cd0>, 'Connection to lati.ms timed out. (connect timeout=4)'))\n"
          ]
        },
        {
          "output_type": "stream",
          "name": "stderr",
          "text": [
            "\rExtracting content:  68%|██████▊   | 1226/1797 [23:37<35:17,  3.71s/it]"
          ]
        },
        {
          "output_type": "stream",
          "name": "stdout",
          "text": [
            "Error fetching content: HTTPConnectionPool(host='lati.ms', port=80): Max retries exceeded with url: /ohWlT (Caused by ConnectTimeoutError(<urllib3.connection.HTTPConnection object at 0x7c7291f3f940>, 'Connection to lati.ms timed out. (connect timeout=4)'))\n",
            "Error fetching content: Failed to parse: http://t.…\n"
          ]
        },
        {
          "output_type": "stream",
          "name": "stderr",
          "text": [
            "Extracting content:  68%|██████▊   | 1230/1797 [23:42<22:45,  2.41s/it]"
          ]
        },
        {
          "output_type": "stream",
          "name": "stdout",
          "text": [
            "Error fetching content: HTTPConnectionPool(host='lati.ms', port=80): Max retries exceeded with url: /odJJp (Caused by ConnectTimeoutError(<urllib3.connection.HTTPConnection object at 0x7c7291f29180>, 'Connection to lati.ms timed out. (connect timeout=4)'))\n"
          ]
        },
        {
          "output_type": "stream",
          "name": "stderr",
          "text": [
            "\rExtracting content:  69%|██████▊   | 1231/1797 [23:46<26:48,  2.84s/it]"
          ]
        },
        {
          "output_type": "stream",
          "name": "stdout",
          "text": [
            "Error fetching content: HTTPConnectionPool(host='lati.ms', port=80): Max retries exceeded with url: /odJS3 (Caused by ConnectTimeoutError(<urllib3.connection.HTTPConnection object at 0x7c7291f299c0>, 'Connection to lati.ms timed out. (connect timeout=4)'))\n"
          ]
        },
        {
          "output_type": "stream",
          "name": "stderr",
          "text": [
            "\rExtracting content:  69%|██████▊   | 1232/1797 [23:50<29:51,  3.17s/it]"
          ]
        },
        {
          "output_type": "stream",
          "name": "stdout",
          "text": [
            "Error fetching content: HTTPConnectionPool(host='lati.ms', port=80): Max retries exceeded with url: /odJJp (Caused by ConnectTimeoutError(<urllib3.connection.HTTPConnection object at 0x7c7291f2a200>, 'Connection to lati.ms timed out. (connect timeout=4)'))\n"
          ]
        },
        {
          "output_type": "stream",
          "name": "stderr",
          "text": [
            "\rExtracting content:  69%|██████▊   | 1233/1797 [23:54<32:04,  3.41s/it]"
          ]
        },
        {
          "output_type": "stream",
          "name": "stdout",
          "text": [
            "Error fetching content: HTTPConnectionPool(host='lati.ms', port=80): Max retries exceeded with url: /odMSB (Caused by ConnectTimeoutError(<urllib3.connection.HTTPConnection object at 0x7c7291f29570>, 'Connection to lati.ms timed out. (connect timeout=4)'))\n"
          ]
        },
        {
          "output_type": "stream",
          "name": "stderr",
          "text": [
            "Extracting content:  69%|██████▉   | 1236/1797 [24:00<24:28,  2.62s/it]"
          ]
        },
        {
          "output_type": "stream",
          "name": "stdout",
          "text": [
            "Error fetching content: HTTPConnectionPool(host='lati.ms', port=80): Max retries exceeded with url: /odaey (Caused by ConnectTimeoutError(<urllib3.connection.HTTPConnection object at 0x7c72918e7d90>, 'Connection to lati.ms timed out. (connect timeout=4)'))\n",
            "Error fetching content: Failed to parse: http://t.…\n"
          ]
        },
        {
          "output_type": "stream",
          "name": "stderr",
          "text": [
            "\rExtracting content:  69%|██████▉   | 1238/1797 [24:04<21:47,  2.34s/it]"
          ]
        },
        {
          "output_type": "stream",
          "name": "stdout",
          "text": [
            "Error fetching content: HTTPConnectionPool(host='lati.ms', port=80): Max retries exceeded with url: /o9wcg (Caused by ConnectTimeoutError(<urllib3.connection.HTTPConnection object at 0x7c729191c790>, 'Connection to lati.ms timed out. (connect timeout=4)'))\n"
          ]
        },
        {
          "output_type": "stream",
          "name": "stderr",
          "text": [
            "\rExtracting content:  69%|██████▉   | 1239/1797 [24:08<25:34,  2.75s/it]"
          ]
        },
        {
          "output_type": "stream",
          "name": "stdout",
          "text": [
            "Error fetching content: HTTPConnectionPool(host='lati.ms', port=80): Max retries exceeded with url: /o98k2 (Caused by ConnectTimeoutError(<urllib3.connection.HTTPConnection object at 0x7c729191ce50>, 'Connection to lati.ms timed out. (connect timeout=4)'))\n"
          ]
        },
        {
          "output_type": "stream",
          "name": "stderr",
          "text": [
            "Extracting content:  69%|██████▉   | 1241/1797 [24:12<25:26,  2.75s/it]"
          ]
        },
        {
          "output_type": "stream",
          "name": "stdout",
          "text": [
            "Error fetching content: HTTPConnectionPool(host='lati.ms', port=80): Max retries exceeded with url: /o8IPi (Caused by ConnectTimeoutError(<urllib3.connection.HTTPConnection object at 0x7c72916cd420>, 'Connection to lati.ms timed out. (connect timeout=4)'))\n"
          ]
        },
        {
          "output_type": "stream",
          "name": "stderr",
          "text": [
            "\rExtracting content:  69%|██████▉   | 1242/1797 [24:16<28:40,  3.10s/it]"
          ]
        },
        {
          "output_type": "stream",
          "name": "stdout",
          "text": [
            "Error fetching content: HTTPConnectionPool(host='lati.ms', port=80): Max retries exceeded with url: /o8Flg (Caused by ConnectTimeoutError(<urllib3.connection.HTTPConnection object at 0x7c72916cdc60>, 'Connection to lati.ms timed out. (connect timeout=4)'))\n"
          ]
        },
        {
          "output_type": "stream",
          "name": "stderr",
          "text": [
            "Extracting content:  69%|██████▉   | 1246/1797 [24:19<10:41,  1.16s/it]"
          ]
        },
        {
          "output_type": "stream",
          "name": "stdout",
          "text": [
            "Error fetching content: 404 Client Error: Not Found for url: https://t.co/XuSrgl5%E2%80%A6\n"
          ]
        },
        {
          "output_type": "stream",
          "name": "stderr",
          "text": [
            "\rExtracting content:  69%|██████▉   | 1247/1797 [24:23<18:24,  2.01s/it]"
          ]
        },
        {
          "output_type": "stream",
          "name": "stdout",
          "text": [
            "Error fetching content: HTTPConnectionPool(host='lati.ms', port=80): Max retries exceeded with url: /o6W3C (Caused by ConnectTimeoutError(<urllib3.connection.HTTPConnection object at 0x7c729158fc70>, 'Connection to lati.ms timed out. (connect timeout=4)'))\n"
          ]
        },
        {
          "output_type": "stream",
          "name": "stderr",
          "text": [
            "\rExtracting content:  69%|██████▉   | 1248/1797 [24:27<23:48,  2.60s/it]"
          ]
        },
        {
          "output_type": "stream",
          "name": "stdout",
          "text": [
            "Error fetching content: HTTPConnectionPool(host='lati.ms', port=80): Max retries exceeded with url: /o6EtR (Caused by ConnectTimeoutError(<urllib3.connection.HTTPConnection object at 0x7c729158e770>, 'Connection to lati.ms timed out. (connect timeout=4)'))\n"
          ]
        },
        {
          "output_type": "stream",
          "name": "stderr",
          "text": [
            "\rExtracting content:  70%|██████▉   | 1249/1797 [24:28<21:24,  2.34s/it]"
          ]
        },
        {
          "output_type": "stream",
          "name": "stdout",
          "text": [
            "Error fetching content: Failed to parse: http://…\n"
          ]
        },
        {
          "output_type": "stream",
          "name": "stderr",
          "text": [
            "Extracting content:  70%|██████▉   | 1253/1797 [24:29<08:08,  1.11it/s]"
          ]
        },
        {
          "output_type": "stream",
          "name": "stdout",
          "text": [
            "Error fetching content: 404 Client Error: Not Found for url: https://t.co/Ado%E2%80%A6\n"
          ]
        },
        {
          "output_type": "stream",
          "name": "stderr",
          "text": [
            "Extracting content:  70%|██████▉   | 1255/1797 [24:34<15:21,  1.70s/it]"
          ]
        },
        {
          "output_type": "stream",
          "name": "stdout",
          "text": [
            "Error fetching content: HTTPConnectionPool(host='lati.ms', port=80): Max retries exceeded with url: /o4eAR (Caused by ConnectTimeoutError(<urllib3.connection.HTTPConnection object at 0x7c7290273700>, 'Connection to lati.ms timed out. (connect timeout=4)'))\n"
          ]
        },
        {
          "output_type": "stream",
          "name": "stderr",
          "text": [
            "\rExtracting content:  70%|██████▉   | 1256/1797 [24:38<21:16,  2.36s/it]"
          ]
        },
        {
          "output_type": "stream",
          "name": "stdout",
          "text": [
            "Error fetching content: HTTPConnectionPool(host='lati.ms', port=80): Max retries exceeded with url: /nZCLx (Caused by ConnectTimeoutError(<urllib3.connection.HTTPConnection object at 0x7c7290273e20>, 'Connection to lati.ms timed out. (connect timeout=4)'))\n"
          ]
        },
        {
          "output_type": "stream",
          "name": "stderr",
          "text": [
            "\rExtracting content:  70%|██████▉   | 1257/1797 [24:42<25:33,  2.84s/it]"
          ]
        },
        {
          "output_type": "stream",
          "name": "stdout",
          "text": [
            "Error fetching content: HTTPConnectionPool(host='lati.ms', port=80): Max retries exceeded with url: /o1gjK (Caused by ConnectTimeoutError(<urllib3.connection.HTTPConnection object at 0x7c72902a46a0>, 'Connection to lati.ms timed out. (connect timeout=4)'))\n"
          ]
        },
        {
          "output_type": "stream",
          "name": "stderr",
          "text": [
            "\rExtracting content:  70%|███████   | 1258/1797 [24:46<28:35,  3.18s/it]"
          ]
        },
        {
          "output_type": "stream",
          "name": "stdout",
          "text": [
            "Error fetching content: HTTPConnectionPool(host='lati.ms', port=80): Max retries exceeded with url: /o0JJ8 (Caused by ConnectTimeoutError(<urllib3.connection.HTTPConnection object at 0x7c7290273d90>, 'Connection to lati.ms timed out. (connect timeout=4)'))\n"
          ]
        },
        {
          "output_type": "stream",
          "name": "stderr",
          "text": [
            "\rExtracting content:  70%|███████   | 1259/1797 [24:50<30:43,  3.43s/it]"
          ]
        },
        {
          "output_type": "stream",
          "name": "stdout",
          "text": [
            "Error fetching content: HTTPConnectionPool(host='lati.ms', port=80): Max retries exceeded with url: /o07M6 (Caused by ConnectTimeoutError(<urllib3.connection.HTTPConnection object at 0x7c72902736a0>, 'Connection to lati.ms timed out. (connect timeout=4)'))\n"
          ]
        },
        {
          "output_type": "stream",
          "name": "stderr",
          "text": [
            "\rExtracting content:  70%|███████   | 1260/1797 [24:54<32:13,  3.60s/it]"
          ]
        },
        {
          "output_type": "stream",
          "name": "stdout",
          "text": [
            "Error fetching content: HTTPConnectionPool(host='lati.ms', port=80): Max retries exceeded with url: /nZRFZ (Caused by ConnectTimeoutError(<urllib3.connection.HTTPConnection object at 0x7c72902a4c70>, 'Connection to lati.ms timed out. (connect timeout=4)'))\n"
          ]
        },
        {
          "output_type": "stream",
          "name": "stderr",
          "text": [
            "Extracting content:  70%|███████   | 1262/1797 [24:59<27:43,  3.11s/it]"
          ]
        },
        {
          "output_type": "stream",
          "name": "stdout",
          "text": [
            "Error fetching content: HTTPConnectionPool(host='lati.ms', port=80): Max retries exceeded with url: /nYrxp (Caused by ConnectTimeoutError(<urllib3.connection.HTTPConnection object at 0x7c72902a4e20>, 'Connection to lati.ms timed out. (connect timeout=4)'))\n"
          ]
        },
        {
          "output_type": "stream",
          "name": "stderr",
          "text": [
            "\rExtracting content:  70%|███████   | 1263/1797 [25:03<30:04,  3.38s/it]"
          ]
        },
        {
          "output_type": "stream",
          "name": "stdout",
          "text": [
            "Error fetching content: HTTPConnectionPool(host='lati.ms', port=80): Max retries exceeded with url: /nWfD4 (Caused by ConnectTimeoutError(<urllib3.connection.HTTPConnection object at 0x7c7290273910>, 'Connection to lati.ms timed out. (connect timeout=4)'))\n"
          ]
        },
        {
          "output_type": "stream",
          "name": "stderr",
          "text": [
            "\rExtracting content:  70%|███████   | 1264/1797 [25:07<31:44,  3.57s/it]"
          ]
        },
        {
          "output_type": "stream",
          "name": "stdout",
          "text": [
            "Error fetching content: HTTPConnectionPool(host='lati.ms', port=80): Max retries exceeded with url: /nWcIn (Caused by ConnectTimeoutError(<urllib3.connection.HTTPConnection object at 0x7c7290272e30>, 'Connection to lati.ms timed out. (connect timeout=4)'))\n",
            "Error fetching content: Failed to parse: http://…\n"
          ]
        },
        {
          "output_type": "stream",
          "name": "stderr",
          "text": [
            "\rExtracting content:  70%|███████   | 1266/1797 [25:11<25:13,  2.85s/it]"
          ]
        },
        {
          "output_type": "stream",
          "name": "stdout",
          "text": [
            "Error fetching content: HTTPConnectionPool(host='lati.ms', port=80): Max retries exceeded with url: /nVU5w (Caused by ConnectTimeoutError(<urllib3.connection.HTTPConnection object at 0x7c72902a41c0>, 'Connection to lati.ms timed out. (connect timeout=4)'))\n"
          ]
        },
        {
          "output_type": "stream",
          "name": "stderr",
          "text": [
            "\rExtracting content:  71%|███████   | 1267/1797 [25:15<27:43,  3.14s/it]"
          ]
        },
        {
          "output_type": "stream",
          "name": "stdout",
          "text": [
            "Error fetching content: HTTPConnectionPool(host='lati.ms', port=80): Max retries exceeded with url: /nVGsx (Caused by ConnectTimeoutError(<urllib3.connection.HTTPConnection object at 0x7c72902a5ff0>, 'Connection to lati.ms timed out. (connect timeout=4)'))\n"
          ]
        },
        {
          "output_type": "stream",
          "name": "stderr",
          "text": [
            "\rExtracting content:  71%|███████   | 1268/1797 [25:19<29:40,  3.37s/it]"
          ]
        },
        {
          "output_type": "stream",
          "name": "stdout",
          "text": [
            "Error fetching content: HTTPConnectionPool(host='lati.ms', port=80): Max retries exceeded with url: /nVoqX (Caused by ConnectTimeoutError(<urllib3.connection.HTTPConnection object at 0x7c72902a6770>, 'Connection to lati.ms timed out. (connect timeout=4)'))\n"
          ]
        },
        {
          "output_type": "stream",
          "name": "stderr",
          "text": [
            "\rExtracting content:  71%|███████   | 1269/1797 [25:23<31:10,  3.54s/it]"
          ]
        },
        {
          "output_type": "stream",
          "name": "stdout",
          "text": [
            "Error fetching content: HTTPConnectionPool(host='lati.ms', port=80): Max retries exceeded with url: /nU6Z8 (Caused by ConnectTimeoutError(<urllib3.connection.HTTPConnection object at 0x7c7290272f50>, 'Connection to lati.ms timed out. (connect timeout=4)'))\n"
          ]
        },
        {
          "output_type": "stream",
          "name": "stderr",
          "text": [
            "\rExtracting content:  71%|███████   | 1270/1797 [25:27<32:16,  3.67s/it]"
          ]
        },
        {
          "output_type": "stream",
          "name": "stdout",
          "text": [
            "Error fetching content: HTTPConnectionPool(host='lati.ms', port=80): Max retries exceeded with url: /nTE3G (Caused by ConnectTimeoutError(<urllib3.connection.HTTPConnection object at 0x7c7290273a00>, 'Connection to lati.ms timed out. (connect timeout=4)'))\n"
          ]
        },
        {
          "output_type": "stream",
          "name": "stderr",
          "text": [
            "\rExtracting content:  71%|███████   | 1271/1797 [25:31<33:03,  3.77s/it]"
          ]
        },
        {
          "output_type": "stream",
          "name": "stdout",
          "text": [
            "Error fetching content: HTTPConnectionPool(host='lati.ms', port=80): Max retries exceeded with url: /nTDy6 (Caused by ConnectTimeoutError(<urllib3.connection.HTTPConnection object at 0x7c72902a5ae0>, 'Connection to lati.ms timed out. (connect timeout=4)'))\n"
          ]
        },
        {
          "output_type": "stream",
          "name": "stderr",
          "text": [
            "\rExtracting content:  71%|███████   | 1272/1797 [25:32<26:34,  3.04s/it]"
          ]
        },
        {
          "output_type": "stream",
          "name": "stdout",
          "text": [
            "Error fetching content: 404 Client Error: Not Found for url: http://pbs.twimg.com/media/BRVM_dhCQAACzmB.jpg\n"
          ]
        },
        {
          "output_type": "stream",
          "name": "stderr",
          "text": [
            "\rExtracting content:  71%|███████   | 1274/1797 [25:36<22:34,  2.59s/it]"
          ]
        },
        {
          "output_type": "stream",
          "name": "stdout",
          "text": [
            "Error fetching content: HTTPConnectionPool(host='lati.ms', port=80): Max retries exceeded with url: /nQCl5 (Caused by ConnectTimeoutError(<urllib3.connection.HTTPConnection object at 0x7c72902a62f0>, 'Connection to lati.ms timed out. (connect timeout=4)'))\n"
          ]
        },
        {
          "output_type": "stream",
          "name": "stderr",
          "text": [
            "\rExtracting content:  71%|███████   | 1275/1797 [25:40<25:37,  2.95s/it]"
          ]
        },
        {
          "output_type": "stream",
          "name": "stdout",
          "text": [
            "Error fetching content: HTTPConnectionPool(host='lati.ms', port=80): Max retries exceeded with url: /nJ2ps (Caused by ConnectTimeoutError(<urllib3.connection.HTTPConnection object at 0x7c7290272f50>, 'Connection to lati.ms timed out. (connect timeout=4)'))\n"
          ]
        },
        {
          "output_type": "stream",
          "name": "stderr",
          "text": [
            "\rExtracting content:  71%|███████   | 1276/1797 [25:44<27:58,  3.22s/it]"
          ]
        },
        {
          "output_type": "stream",
          "name": "stdout",
          "text": [
            "Error fetching content: HTTPConnectionPool(host='lati.ms', port=80): Max retries exceeded with url: /nOc1E (Caused by ConnectTimeoutError(<urllib3.connection.HTTPConnection object at 0x7c7290273bb0>, 'Connection to lati.ms timed out. (connect timeout=4)'))\n"
          ]
        },
        {
          "output_type": "stream",
          "name": "stderr",
          "text": [
            "Extracting content:  71%|███████   | 1279/1797 [25:49<21:54,  2.54s/it]"
          ]
        },
        {
          "output_type": "stream",
          "name": "stdout",
          "text": [
            "Error fetching content: HTTPConnectionPool(host='lati.ms', port=80): Max retries exceeded with url: /nJ2Vi (Caused by ConnectTimeoutError(<urllib3.connection.HTTPConnection object at 0x7c728ff63b50>, 'Connection to lati.ms timed out. (connect timeout=4)'))\n"
          ]
        },
        {
          "output_type": "stream",
          "name": "stderr",
          "text": [
            "\rExtracting content:  71%|███████   | 1280/1797 [25:53<25:32,  2.96s/it]"
          ]
        },
        {
          "output_type": "stream",
          "name": "stdout",
          "text": [
            "Error fetching content: HTTPConnectionPool(host='lati.ms', port=80): Max retries exceeded with url: /nJ25T (Caused by ConnectTimeoutError(<urllib3.connection.HTTPConnection object at 0x7c72902d82e0>, 'Connection to lati.ms timed out. (connect timeout=4)'))\n"
          ]
        },
        {
          "output_type": "stream",
          "name": "stderr",
          "text": [
            "Extracting content:  71%|███████▏  | 1282/1797 [25:57<20:09,  2.35s/it]"
          ]
        },
        {
          "output_type": "stream",
          "name": "stdout",
          "text": [
            "Error fetching content: HTTPConnectionPool(host='lati.ms', port=80): Max retries exceeded with url: /nJ3Ag (Caused by ConnectTimeoutError(<urllib3.connection.HTTPConnection object at 0x7c72902d8d90>, 'Connection to lati.ms timed out. (connect timeout=4)'))\n",
            "Error fetching content: 404 Client Error: Not Found for url: http://pbs.twimg.com/media/BQ70qkCCAAEe_fz.jpg\n"
          ]
        },
        {
          "output_type": "stream",
          "name": "stderr",
          "text": [
            "\rExtracting content:  71%|███████▏  | 1283/1797 [26:01<24:19,  2.84s/it]"
          ]
        },
        {
          "output_type": "stream",
          "name": "stdout",
          "text": [
            "Error fetching content: HTTPConnectionPool(host='lati.ms', port=80): Max retries exceeded with url: /nGsjI (Caused by ConnectTimeoutError(<urllib3.connection.HTTPConnection object at 0x7c72902d88b0>, 'Connection to lati.ms timed out. (connect timeout=4)'))\n"
          ]
        },
        {
          "output_type": "stream",
          "name": "stderr",
          "text": [
            "Extracting content:  72%|███████▏  | 1285/1797 [26:06<23:35,  2.76s/it]"
          ]
        },
        {
          "output_type": "stream",
          "name": "stdout",
          "text": [
            "Error fetching content: HTTPConnectionPool(host='lati.ms', port=80): Max retries exceeded with url: /nAbzx (Caused by ConnectTimeoutError(<urllib3.connection.HTTPConnection object at 0x7c72902da260>, 'Connection to lati.ms timed out. (connect timeout=4)'))\n"
          ]
        },
        {
          "output_type": "stream",
          "name": "stderr",
          "text": [
            "\rExtracting content:  72%|███████▏  | 1286/1797 [26:11<28:19,  3.33s/it]"
          ]
        },
        {
          "output_type": "stream",
          "name": "stdout",
          "text": [
            "Error fetching content: HTTPConnectionPool(host='lati.ms', port=80): Max retries exceeded with url: /nAb6n (Caused by ConnectTimeoutError(<urllib3.connection.HTTPConnection object at 0x7c728ff635e0>, 'Connection to lati.ms timed out. (connect timeout=4)'))\n"
          ]
        },
        {
          "output_type": "stream",
          "name": "stderr",
          "text": [
            "\rExtracting content:  72%|███████▏  | 1287/1797 [26:15<30:01,  3.53s/it]"
          ]
        },
        {
          "output_type": "stream",
          "name": "stdout",
          "text": [
            "Error fetching content: HTTPConnectionPool(host='lati.ms', port=80): Max retries exceeded with url: /nyyaj (Caused by ConnectTimeoutError(<urllib3.connection.HTTPConnection object at 0x7c72902d87c0>, 'Connection to lati.ms timed out. (connect timeout=4)'))\n"
          ]
        },
        {
          "output_type": "stream",
          "name": "stderr",
          "text": [
            "\rExtracting content:  72%|███████▏  | 1288/1797 [26:19<31:10,  3.68s/it]"
          ]
        },
        {
          "output_type": "stream",
          "name": "stdout",
          "text": [
            "Error fetching content: HTTPConnectionPool(host='lati.ms', port=80): Max retries exceeded with url: /nymUQ (Caused by ConnectTimeoutError(<urllib3.connection.HTTPConnection object at 0x7c72902d9150>, 'Connection to lati.ms timed out. (connect timeout=4)'))\n"
          ]
        },
        {
          "output_type": "stream",
          "name": "stderr",
          "text": [
            "\rExtracting content:  72%|███████▏  | 1289/1797 [26:23<31:58,  3.78s/it]"
          ]
        },
        {
          "output_type": "stream",
          "name": "stdout",
          "text": [
            "Error fetching content: HTTPConnectionPool(host='lati.ms', port=80): Max retries exceeded with url: /nyhRr (Caused by ConnectTimeoutError(<urllib3.connection.HTTPConnection object at 0x7c72902d9960>, 'Connection to lati.ms timed out. (connect timeout=4)'))\n"
          ]
        },
        {
          "output_type": "stream",
          "name": "stderr",
          "text": [
            "\rExtracting content:  72%|███████▏  | 1290/1797 [26:27<32:30,  3.85s/it]"
          ]
        },
        {
          "output_type": "stream",
          "name": "stdout",
          "text": [
            "Error fetching content: HTTPConnectionPool(host='lati.ms', port=80): Max retries exceeded with url: /nxv1a (Caused by ConnectTimeoutError(<urllib3.connection.HTTPConnection object at 0x7c72902da500>, 'Connection to lati.ms timed out. (connect timeout=4)'))\n"
          ]
        },
        {
          "output_type": "stream",
          "name": "stderr",
          "text": [
            "\rExtracting content:  72%|███████▏  | 1291/1797 [26:31<32:51,  3.90s/it]"
          ]
        },
        {
          "output_type": "stream",
          "name": "stdout",
          "text": [
            "Error fetching content: HTTPConnectionPool(host='lati.ms', port=80): Max retries exceeded with url: /nxllQ (Caused by ConnectTimeoutError(<urllib3.connection.HTTPConnection object at 0x7c728ff63ca0>, 'Connection to lati.ms timed out. (connect timeout=4)'))\n"
          ]
        },
        {
          "output_type": "stream",
          "name": "stderr",
          "text": [
            "Extracting content:  72%|███████▏  | 1293/1797 [26:36<27:33,  3.28s/it]"
          ]
        },
        {
          "output_type": "stream",
          "name": "stdout",
          "text": [
            "Error fetching content: HTTPConnectionPool(host='lati.ms', port=80): Max retries exceeded with url: /nw7mY (Caused by ConnectTimeoutError(<urllib3.connection.HTTPConnection object at 0x7c7290005c30>, 'Connection to lati.ms timed out. (connect timeout=4)'))\n"
          ]
        },
        {
          "output_type": "stream",
          "name": "stderr",
          "text": [
            "\rExtracting content:  72%|███████▏  | 1294/1797 [26:40<29:21,  3.50s/it]"
          ]
        },
        {
          "output_type": "stream",
          "name": "stdout",
          "text": [
            "Error fetching content: HTTPConnectionPool(host='lati.ms', port=80): Max retries exceeded with url: /nvVsR (Caused by ConnectTimeoutError(<urllib3.connection.HTTPConnection object at 0x7c7290006470>, 'Connection to lati.ms timed out. (connect timeout=4)'))\n"
          ]
        },
        {
          "output_type": "stream",
          "name": "stderr",
          "text": [
            "\rExtracting content:  72%|███████▏  | 1295/1797 [26:44<30:36,  3.66s/it]"
          ]
        },
        {
          "output_type": "stream",
          "name": "stdout",
          "text": [
            "Error fetching content: HTTPConnectionPool(host='lati.ms', port=80): Max retries exceeded with url: /nvUT8 (Caused by ConnectTimeoutError(<urllib3.connection.HTTPConnection object at 0x7c7290006cb0>, 'Connection to lati.ms timed out. (connect timeout=4)'))\n"
          ]
        },
        {
          "output_type": "stream",
          "name": "stderr",
          "text": [
            "\rExtracting content:  72%|███████▏  | 1296/1797 [26:44<21:57,  2.63s/it]"
          ]
        },
        {
          "output_type": "stream",
          "name": "stdout",
          "text": [
            "Error fetching content: 404 Client Error: Not Found for url: https://t.co/pGK3%E2%80%A6\n"
          ]
        },
        {
          "output_type": "stream",
          "name": "stderr",
          "text": [
            "\rExtracting content:  72%|███████▏  | 1297/1797 [26:48<25:22,  3.05s/it]"
          ]
        },
        {
          "output_type": "stream",
          "name": "stdout",
          "text": [
            "Error fetching content: HTTPConnectionPool(host='lati.ms', port=80): Max retries exceeded with url: /nvS4M (Caused by ConnectTimeoutError(<urllib3.connection.HTTPConnection object at 0x7c7290007370>, 'Connection to lati.ms timed out. (connect timeout=4)'))\n"
          ]
        },
        {
          "output_type": "stream",
          "name": "stderr",
          "text": [
            "\rExtracting content:  72%|███████▏  | 1298/1797 [26:52<27:43,  3.33s/it]"
          ]
        },
        {
          "output_type": "stream",
          "name": "stdout",
          "text": [
            "Error fetching content: HTTPConnectionPool(host='lati.ms', port=80): Max retries exceeded with url: /nts54 (Caused by ConnectTimeoutError(<urllib3.connection.HTTPConnection object at 0x7c7290006650>, 'Connection to lati.ms timed out. (connect timeout=4)'))\n"
          ]
        },
        {
          "output_type": "stream",
          "name": "stderr",
          "text": [
            "\rExtracting content:  72%|███████▏  | 1299/1797 [26:56<29:21,  3.54s/it]"
          ]
        },
        {
          "output_type": "stream",
          "name": "stdout",
          "text": [
            "Error fetching content: HTTPConnectionPool(host='lati.ms', port=80): Max retries exceeded with url: /ntekR (Caused by ConnectTimeoutError(<urllib3.connection.HTTPConnection object at 0x7c72900063b0>, 'Connection to lati.ms timed out. (connect timeout=4)'))\n"
          ]
        },
        {
          "output_type": "stream",
          "name": "stderr",
          "text": [
            "Extracting content:  72%|███████▏  | 1301/1797 [27:01<25:13,  3.05s/it]"
          ]
        },
        {
          "output_type": "stream",
          "name": "stdout",
          "text": [
            "Error fetching content: HTTPConnectionPool(host='lati.ms', port=80): Max retries exceeded with url: /nsXhk (Caused by ConnectTimeoutError(<urllib3.connection.HTTPConnection object at 0x7c7290007730>, 'Connection to lati.ms timed out. (connect timeout=4)'))\n"
          ]
        },
        {
          "output_type": "stream",
          "name": "stderr",
          "text": [
            "\rExtracting content:  72%|███████▏  | 1302/1797 [27:05<27:33,  3.34s/it]"
          ]
        },
        {
          "output_type": "stream",
          "name": "stdout",
          "text": [
            "Error fetching content: HTTPConnectionPool(host='lati.ms', port=80): Max retries exceeded with url: /nrtfs (Caused by ConnectTimeoutError(<urllib3.connection.HTTPConnection object at 0x7c72900077f0>, 'Connection to lati.ms timed out. (connect timeout=4)'))\n"
          ]
        },
        {
          "output_type": "stream",
          "name": "stderr",
          "text": [
            "\rExtracting content:  73%|███████▎  | 1303/1797 [27:06<22:16,  2.71s/it]"
          ]
        },
        {
          "output_type": "stream",
          "name": "stdout",
          "text": [
            "Error fetching content: Failed to parse: http://t.c…\n"
          ]
        },
        {
          "output_type": "stream",
          "name": "stderr",
          "text": [
            "\rExtracting content:  73%|███████▎  | 1305/1797 [27:10<19:32,  2.38s/it]"
          ]
        },
        {
          "output_type": "stream",
          "name": "stdout",
          "text": [
            "Error fetching content: HTTPConnectionPool(host='lati.ms', port=80): Max retries exceeded with url: /nr21L (Caused by ConnectTimeoutError(<urllib3.connection.HTTPConnection object at 0x7c728fdea920>, 'Connection to lati.ms timed out. (connect timeout=4)'))\n"
          ]
        },
        {
          "output_type": "stream",
          "name": "stderr",
          "text": [
            "\rExtracting content:  73%|███████▎  | 1306/1797 [27:14<22:49,  2.79s/it]"
          ]
        },
        {
          "output_type": "stream",
          "name": "stdout",
          "text": [
            "Error fetching content: HTTPConnectionPool(host='lati.ms', port=80): Max retries exceeded with url: /nqjW7 (Caused by ConnectTimeoutError(<urllib3.connection.HTTPConnection object at 0x7c728fdeb160>, 'Connection to lati.ms timed out. (connect timeout=4)'))\n"
          ]
        },
        {
          "output_type": "stream",
          "name": "stderr",
          "text": [
            "\rExtracting content:  73%|███████▎  | 1307/1797 [27:18<25:23,  3.11s/it]"
          ]
        },
        {
          "output_type": "stream",
          "name": "stdout",
          "text": [
            "Error fetching content: HTTPConnectionPool(host='lati.ms', port=80): Max retries exceeded with url: /nqieB (Caused by ConnectTimeoutError(<urllib3.connection.HTTPConnection object at 0x7c728fdeb9a0>, 'Connection to lati.ms timed out. (connect timeout=4)'))\n"
          ]
        },
        {
          "output_type": "stream",
          "name": "stderr",
          "text": [
            "\rExtracting content:  73%|███████▎  | 1308/1797 [27:22<27:20,  3.36s/it]"
          ]
        },
        {
          "output_type": "stream",
          "name": "stdout",
          "text": [
            "Error fetching content: HTTPConnectionPool(host='lati.ms', port=80): Max retries exceeded with url: /no9SS (Caused by ConnectTimeoutError(<urllib3.connection.HTTPConnection object at 0x7c728fe20220>, 'Connection to lati.ms timed out. (connect timeout=4)'))\n"
          ]
        },
        {
          "output_type": "stream",
          "name": "stderr",
          "text": [
            "\rExtracting content:  73%|███████▎  | 1309/1797 [27:26<28:46,  3.54s/it]"
          ]
        },
        {
          "output_type": "stream",
          "name": "stdout",
          "text": [
            "Error fetching content: HTTPConnectionPool(host='lati.ms', port=80): Max retries exceeded with url: /nmWmF (Caused by ConnectTimeoutError(<urllib3.connection.HTTPConnection object at 0x7c728fdeae90>, 'Connection to lati.ms timed out. (connect timeout=4)'))\n"
          ]
        },
        {
          "output_type": "stream",
          "name": "stderr",
          "text": [
            "\rExtracting content:  73%|███████▎  | 1310/1797 [27:30<29:49,  3.67s/it]"
          ]
        },
        {
          "output_type": "stream",
          "name": "stdout",
          "text": [
            "Error fetching content: HTTPConnectionPool(host='lati.ms', port=80): Max retries exceeded with url: /nmWUi (Caused by ConnectTimeoutError(<urllib3.connection.HTTPConnection object at 0x7c728fdea140>, 'Connection to lati.ms timed out. (connect timeout=4)'))\n"
          ]
        },
        {
          "output_type": "stream",
          "name": "stderr",
          "text": [
            "\rExtracting content:  73%|███████▎  | 1311/1797 [27:34<30:33,  3.77s/it]"
          ]
        },
        {
          "output_type": "stream",
          "name": "stdout",
          "text": [
            "Error fetching content: HTTPConnectionPool(host='lati.ms', port=80): Max retries exceeded with url: /nmVq5 (Caused by ConnectTimeoutError(<urllib3.connection.HTTPConnection object at 0x7c728fdea4d0>, 'Connection to lati.ms timed out. (connect timeout=4)'))\n"
          ]
        },
        {
          "output_type": "stream",
          "name": "stderr",
          "text": [
            "\rExtracting content:  73%|███████▎  | 1312/1797 [27:38<31:03,  3.84s/it]"
          ]
        },
        {
          "output_type": "stream",
          "name": "stdout",
          "text": [
            "Error fetching content: HTTPConnectionPool(host='lati.ms', port=80): Max retries exceeded with url: /nmYwA (Caused by ConnectTimeoutError(<urllib3.connection.HTTPConnection object at 0x7c728fe20a60>, 'Connection to lati.ms timed out. (connect timeout=4)'))\n"
          ]
        },
        {
          "output_type": "stream",
          "name": "stderr",
          "text": [
            "\rExtracting content:  73%|███████▎  | 1313/1797 [27:42<31:23,  3.89s/it]"
          ]
        },
        {
          "output_type": "stream",
          "name": "stdout",
          "text": [
            "Error fetching content: HTTPConnectionPool(host='lati.ms', port=80): Max retries exceeded with url: /nmV5h (Caused by ConnectTimeoutError(<urllib3.connection.HTTPConnection object at 0x7c728fe21390>, 'Connection to lati.ms timed out. (connect timeout=4)'))\n"
          ]
        },
        {
          "output_type": "stream",
          "name": "stderr",
          "text": [
            "\rExtracting content:  73%|███████▎  | 1314/1797 [27:46<31:37,  3.93s/it]"
          ]
        },
        {
          "output_type": "stream",
          "name": "stdout",
          "text": [
            "Error fetching content: HTTPConnectionPool(host='lati.ms', port=80): Max retries exceeded with url: /nmX6r (Caused by ConnectTimeoutError(<urllib3.connection.HTTPConnection object at 0x7c728fdea200>, 'Connection to lati.ms timed out. (connect timeout=4)'))\n"
          ]
        },
        {
          "output_type": "stream",
          "name": "stderr",
          "text": [
            "\rExtracting content:  73%|███████▎  | 1315/1797 [27:50<31:48,  3.96s/it]"
          ]
        },
        {
          "output_type": "stream",
          "name": "stdout",
          "text": [
            "Error fetching content: HTTPConnectionPool(host='lati.ms', port=80): Max retries exceeded with url: /nmXA3 (Caused by ConnectTimeoutError(<urllib3.connection.HTTPConnection object at 0x7c728fdeb1f0>, 'Connection to lati.ms timed out. (connect timeout=4)'))\n"
          ]
        },
        {
          "output_type": "stream",
          "name": "stderr",
          "text": [
            "\rExtracting content:  73%|███████▎  | 1316/1797 [27:54<31:52,  3.98s/it]"
          ]
        },
        {
          "output_type": "stream",
          "name": "stdout",
          "text": [
            "Error fetching content: HTTPConnectionPool(host='lati.ms', port=80): Max retries exceeded with url: /nmSuK (Caused by ConnectTimeoutError(<urllib3.connection.HTTPConnection object at 0x7c728fdebb80>, 'Connection to lati.ms timed out. (connect timeout=4)'))\n"
          ]
        },
        {
          "output_type": "stream",
          "name": "stderr",
          "text": [
            "\rExtracting content:  73%|███████▎  | 1317/1797 [27:58<31:53,  3.99s/it]"
          ]
        },
        {
          "output_type": "stream",
          "name": "stdout",
          "text": [
            "Error fetching content: HTTPConnectionPool(host='lati.ms', port=80): Max retries exceeded with url: /nmPWy (Caused by ConnectTimeoutError(<urllib3.connection.HTTPConnection object at 0x7c728fe206a0>, 'Connection to lati.ms timed out. (connect timeout=4)'))\n"
          ]
        },
        {
          "output_type": "stream",
          "name": "stderr",
          "text": [
            "\rExtracting content:  73%|███████▎  | 1318/1797 [28:02<31:53,  3.99s/it]"
          ]
        },
        {
          "output_type": "stream",
          "name": "stdout",
          "text": [
            "Error fetching content: HTTPConnectionPool(host='lati.ms', port=80): Max retries exceeded with url: /nmG2y (Caused by ConnectTimeoutError(<urllib3.connection.HTTPConnection object at 0x7c728fe20040>, 'Connection to lati.ms timed out. (connect timeout=4)'))\n"
          ]
        },
        {
          "output_type": "stream",
          "name": "stderr",
          "text": [
            "\rExtracting content:  73%|███████▎  | 1319/1797 [28:06<31:51,  4.00s/it]"
          ]
        },
        {
          "output_type": "stream",
          "name": "stdout",
          "text": [
            "Error fetching content: HTTPConnectionPool(host='lati.ms', port=80): Max retries exceeded with url: /nm97M (Caused by ConnectTimeoutError(<urllib3.connection.HTTPConnection object at 0x7c728fdeb5b0>, 'Connection to lati.ms timed out. (connect timeout=4)'))\n"
          ]
        },
        {
          "output_type": "stream",
          "name": "stderr",
          "text": [
            "\rExtracting content:  73%|███████▎  | 1320/1797 [28:10<31:49,  4.00s/it]"
          ]
        },
        {
          "output_type": "stream",
          "name": "stdout",
          "text": [
            "Error fetching content: HTTPConnectionPool(host='lati.ms', port=80): Max retries exceeded with url: /nkCsQ (Caused by ConnectTimeoutError(<urllib3.connection.HTTPConnection object at 0x7c728fdeb8e0>, 'Connection to lati.ms timed out. (connect timeout=4)'))\n"
          ]
        },
        {
          "output_type": "stream",
          "name": "stderr",
          "text": [
            "\rExtracting content:  74%|███████▎  | 1321/1797 [28:14<31:46,  4.00s/it]"
          ]
        },
        {
          "output_type": "stream",
          "name": "stdout",
          "text": [
            "Error fetching content: HTTPConnectionPool(host='lati.ms', port=80): Max retries exceeded with url: /nkN7L (Caused by ConnectTimeoutError(<urllib3.connection.HTTPConnection object at 0x7c728fdea8f0>, 'Connection to lati.ms timed out. (connect timeout=4)'))\n"
          ]
        },
        {
          "output_type": "stream",
          "name": "stderr",
          "text": [
            "\rExtracting content:  74%|███████▎  | 1322/1797 [28:18<31:43,  4.01s/it]"
          ]
        },
        {
          "output_type": "stream",
          "name": "stdout",
          "text": [
            "Error fetching content: HTTPConnectionPool(host='lati.ms', port=80): Max retries exceeded with url: /nkMS6 (Caused by ConnectTimeoutError(<urllib3.connection.HTTPConnection object at 0x7c728fe214e0>, 'Connection to lati.ms timed out. (connect timeout=4)'))\n"
          ]
        },
        {
          "output_type": "stream",
          "name": "stderr",
          "text": [
            "\rExtracting content:  74%|███████▎  | 1323/1797 [28:22<31:44,  4.02s/it]"
          ]
        },
        {
          "output_type": "stream",
          "name": "stdout",
          "text": [
            "Error fetching content: HTTPConnectionPool(host='lati.ms', port=80): Max retries exceeded with url: /nkuNh (Caused by ConnectTimeoutError(<urllib3.connection.HTTPConnection object at 0x7c728fe21000>, 'Connection to lati.ms timed out. (connect timeout=4)'))\n"
          ]
        },
        {
          "output_type": "stream",
          "name": "stderr",
          "text": [
            "\rExtracting content:  74%|███████▎  | 1324/1797 [28:23<23:28,  2.98s/it]"
          ]
        },
        {
          "output_type": "stream",
          "name": "stdout",
          "text": [
            "Error fetching content: 404 Client Error: Not Found for url: https://www.latimes.com/videogallery/76771490/Health/Can-your-pet-make-you-healthy\n"
          ]
        },
        {
          "output_type": "stream",
          "name": "stderr",
          "text": [
            "\rExtracting content:  74%|███████▎  | 1325/1797 [28:27<25:51,  3.29s/it]"
          ]
        },
        {
          "output_type": "stream",
          "name": "stdout",
          "text": [
            "Error fetching content: HTTPConnectionPool(host='lati.ms', port=80): Max retries exceeded with url: /nkCl4 (Caused by ConnectTimeoutError(<urllib3.connection.HTTPConnection object at 0x7c728fdea830>, 'Connection to lati.ms timed out. (connect timeout=4)'))\n"
          ]
        },
        {
          "output_type": "stream",
          "name": "stderr",
          "text": [
            "\rExtracting content:  74%|███████▍  | 1326/1797 [28:31<27:31,  3.51s/it]"
          ]
        },
        {
          "output_type": "stream",
          "name": "stdout",
          "text": [
            "Error fetching content: HTTPConnectionPool(host='lati.ms', port=80): Max retries exceeded with url: /nkoD9 (Caused by ConnectTimeoutError(<urllib3.connection.HTTPConnection object at 0x7c728fdea6e0>, 'Connection to lati.ms timed out. (connect timeout=4)'))\n"
          ]
        },
        {
          "output_type": "stream",
          "name": "stderr",
          "text": [
            "\rExtracting content:  74%|███████▍  | 1327/1797 [28:35<28:38,  3.66s/it]"
          ]
        },
        {
          "output_type": "stream",
          "name": "stdout",
          "text": [
            "Error fetching content: HTTPConnectionPool(host='lati.ms', port=80): Max retries exceeded with url: /nkmv8 (Caused by ConnectTimeoutError(<urllib3.connection.HTTPConnection object at 0x7c728fdeb460>, 'Connection to lati.ms timed out. (connect timeout=4)'))\n"
          ]
        },
        {
          "output_type": "stream",
          "name": "stderr",
          "text": [
            "Extracting content:  74%|███████▍  | 1329/1797 [28:40<25:12,  3.23s/it]"
          ]
        },
        {
          "output_type": "stream",
          "name": "stdout",
          "text": [
            "Error fetching content: HTTPConnectionPool(host='lati.ms', port=80): Max retries exceeded with url: /nivSf (Caused by ConnectTimeoutError(<urllib3.connection.HTTPConnection object at 0x7c728fbd4760>, 'Connection to lati.ms timed out. (connect timeout=4)'))\n"
          ]
        },
        {
          "output_type": "stream",
          "name": "stderr",
          "text": [
            "\rExtracting content:  74%|███████▍  | 1330/1797 [28:44<26:58,  3.47s/it]"
          ]
        },
        {
          "output_type": "stream",
          "name": "stdout",
          "text": [
            "Error fetching content: HTTPConnectionPool(host='lati.ms', port=80): Max retries exceeded with url: /nisYz (Caused by ConnectTimeoutError(<urllib3.connection.HTTPConnection object at 0x7c728fbd4fa0>, 'Connection to lati.ms timed out. (connect timeout=4)'))\n"
          ]
        },
        {
          "output_type": "stream",
          "name": "stderr",
          "text": [
            "\rExtracting content:  74%|███████▍  | 1331/1797 [28:48<28:11,  3.63s/it]"
          ]
        },
        {
          "output_type": "stream",
          "name": "stdout",
          "text": [
            "Error fetching content: HTTPConnectionPool(host='lati.ms', port=80): Max retries exceeded with url: /niw1p (Caused by ConnectTimeoutError(<urllib3.connection.HTTPConnection object at 0x7c728fbd5960>, 'Connection to lati.ms timed out. (connect timeout=4)'))\n"
          ]
        },
        {
          "output_type": "stream",
          "name": "stderr",
          "text": [
            "\rExtracting content:  74%|███████▍  | 1332/1797 [28:52<29:04,  3.75s/it]"
          ]
        },
        {
          "output_type": "stream",
          "name": "stdout",
          "text": [
            "Error fetching content: HTTPConnectionPool(host='lati.ms', port=80): Max retries exceeded with url: /nivCH (Caused by ConnectTimeoutError(<urllib3.connection.HTTPConnection object at 0x7c728fbd6020>, 'Connection to lati.ms timed out. (connect timeout=4)'))\n"
          ]
        },
        {
          "output_type": "stream",
          "name": "stderr",
          "text": [
            "\rExtracting content:  74%|███████▍  | 1333/1797 [28:56<29:36,  3.83s/it]"
          ]
        },
        {
          "output_type": "stream",
          "name": "stdout",
          "text": [
            "Error fetching content: HTTPConnectionPool(host='lati.ms', port=80): Max retries exceeded with url: /nioGm (Caused by ConnectTimeoutError(<urllib3.connection.HTTPConnection object at 0x7c728fbd6860>, 'Connection to lati.ms timed out. (connect timeout=4)'))\n"
          ]
        },
        {
          "output_type": "stream",
          "name": "stderr",
          "text": [
            "\rExtracting content:  74%|███████▍  | 1334/1797 [29:00<29:58,  3.88s/it]"
          ]
        },
        {
          "output_type": "stream",
          "name": "stdout",
          "text": [
            "Error fetching content: HTTPConnectionPool(host='lati.ms', port=80): Max retries exceeded with url: /nioCJ (Caused by ConnectTimeoutError(<urllib3.connection.HTTPConnection object at 0x7c728fbd7190>, 'Connection to lati.ms timed out. (connect timeout=4)'))\n"
          ]
        },
        {
          "output_type": "stream",
          "name": "stderr",
          "text": [
            "Extracting content:  74%|███████▍  | 1337/1797 [29:06<21:49,  2.85s/it]"
          ]
        },
        {
          "output_type": "stream",
          "name": "stdout",
          "text": [
            "Error fetching content: HTTPConnectionPool(host='lati.ms', port=80): Max retries exceeded with url: /nihdx (Caused by ConnectTimeoutError(<urllib3.connection.HTTPConnection object at 0x7c728f9d05b0>, 'Connection to lati.ms timed out. (connect timeout=4)'))\n"
          ]
        },
        {
          "output_type": "stream",
          "name": "stderr",
          "text": [
            "\rExtracting content:  74%|███████▍  | 1338/1797 [29:10<24:27,  3.20s/it]"
          ]
        },
        {
          "output_type": "stream",
          "name": "stdout",
          "text": [
            "Error fetching content: HTTPConnectionPool(host='lati.ms', port=80): Max retries exceeded with url: /nhKww (Caused by ConnectTimeoutError(<urllib3.connection.HTTPConnection object at 0x7c728f9d0cd0>, 'Connection to lati.ms timed out. (connect timeout=4)'))\n"
          ]
        },
        {
          "output_type": "stream",
          "name": "stderr",
          "text": [
            "\rExtracting content:  75%|███████▍  | 1339/1797 [29:14<26:15,  3.44s/it]"
          ]
        },
        {
          "output_type": "stream",
          "name": "stdout",
          "text": [
            "Error fetching content: HTTPConnectionPool(host='lati.ms', port=80): Max retries exceeded with url: /ni0L4 (Caused by ConnectTimeoutError(<urllib3.connection.HTTPConnection object at 0x7c728f9d0e20>, 'Connection to lati.ms timed out. (connect timeout=4)'))\n"
          ]
        },
        {
          "output_type": "stream",
          "name": "stderr",
          "text": [
            "Extracting content:  75%|███████▍  | 1341/1797 [29:18<22:54,  3.01s/it]"
          ]
        },
        {
          "output_type": "stream",
          "name": "stdout",
          "text": [
            "Error fetching content: HTTPConnectionPool(host='lati.ms', port=80): Max retries exceeded with url: /ni4v6 (Caused by ConnectTimeoutError(<urllib3.connection.HTTPConnection object at 0x7c728fa21cc0>, 'Connection to lati.ms timed out. (connect timeout=4)'))\n"
          ]
        },
        {
          "output_type": "stream",
          "name": "stderr",
          "text": [
            "\rExtracting content:  75%|███████▍  | 1342/1797 [29:22<25:12,  3.32s/it]"
          ]
        },
        {
          "output_type": "stream",
          "name": "stdout",
          "text": [
            "Error fetching content: HTTPConnectionPool(host='lati.ms', port=80): Max retries exceeded with url: /nhZXH (Caused by ConnectTimeoutError(<urllib3.connection.HTTPConnection object at 0x7c728fa224d0>, 'Connection to lati.ms timed out. (connect timeout=4)'))\n"
          ]
        },
        {
          "output_type": "stream",
          "name": "stderr",
          "text": [
            "\rExtracting content:  75%|███████▍  | 1343/1797 [29:26<26:42,  3.53s/it]"
          ]
        },
        {
          "output_type": "stream",
          "name": "stdout",
          "text": [
            "Error fetching content: HTTPConnectionPool(host='lati.ms', port=80): Max retries exceeded with url: /nhJVa (Caused by ConnectTimeoutError(<urllib3.connection.HTTPConnection object at 0x7c728fa22d10>, 'Connection to lati.ms timed out. (connect timeout=4)'))\n"
          ]
        },
        {
          "output_type": "stream",
          "name": "stderr",
          "text": [
            "Extracting content:  75%|███████▍  | 1345/1797 [29:31<23:27,  3.11s/it]"
          ]
        },
        {
          "output_type": "stream",
          "name": "stdout",
          "text": [
            "Error fetching content: HTTPConnectionPool(host='lati.ms', port=80): Max retries exceeded with url: /ng2TF (Caused by ConnectTimeoutError(<urllib3.connection.HTTPConnection object at 0x7c728f77e2f0>, 'Connection to lati.ms timed out. (connect timeout=4)'))\n"
          ]
        },
        {
          "output_type": "stream",
          "name": "stderr",
          "text": [
            "\rExtracting content:  75%|███████▍  | 1346/1797 [29:35<25:26,  3.38s/it]"
          ]
        },
        {
          "output_type": "stream",
          "name": "stdout",
          "text": [
            "Error fetching content: HTTPConnectionPool(host='lati.ms', port=80): Max retries exceeded with url: /ng3h8 (Caused by ConnectTimeoutError(<urllib3.connection.HTTPConnection object at 0x7c728f77e9e0>, 'Connection to lati.ms timed out. (connect timeout=4)'))\n"
          ]
        },
        {
          "output_type": "stream",
          "name": "stderr",
          "text": [
            "\rExtracting content:  75%|███████▍  | 1347/1797 [29:39<26:47,  3.57s/it]"
          ]
        },
        {
          "output_type": "stream",
          "name": "stdout",
          "text": [
            "Error fetching content: HTTPConnectionPool(host='lati.ms', port=80): Max retries exceeded with url: /ng5Gb (Caused by ConnectTimeoutError(<urllib3.connection.HTTPConnection object at 0x7c728f77f250>, 'Connection to lati.ms timed out. (connect timeout=4)'))\n"
          ]
        },
        {
          "output_type": "stream",
          "name": "stderr",
          "text": [
            "\rExtracting content:  75%|███████▌  | 1348/1797 [29:43<27:43,  3.70s/it]"
          ]
        },
        {
          "output_type": "stream",
          "name": "stdout",
          "text": [
            "Error fetching content: HTTPConnectionPool(host='lati.ms', port=80): Max retries exceeded with url: /nfXKa (Caused by ConnectTimeoutError(<urllib3.connection.HTTPConnection object at 0x7c728f77fa90>, 'Connection to lati.ms timed out. (connect timeout=4)'))\n"
          ]
        },
        {
          "output_type": "stream",
          "name": "stderr",
          "text": [
            "\rExtracting content:  75%|███████▌  | 1349/1797 [29:47<28:20,  3.80s/it]"
          ]
        },
        {
          "output_type": "stream",
          "name": "stdout",
          "text": [
            "Error fetching content: HTTPConnectionPool(host='lati.ms', port=80): Max retries exceeded with url: /nfWdQ (Caused by ConnectTimeoutError(<urllib3.connection.HTTPConnection object at 0x7c728f7ac310>, 'Connection to lati.ms timed out. (connect timeout=4)'))\n"
          ]
        },
        {
          "output_type": "stream",
          "name": "stderr",
          "text": [
            "Extracting content:  75%|███████▌  | 1351/1797 [29:52<24:10,  3.25s/it]"
          ]
        },
        {
          "output_type": "stream",
          "name": "stdout",
          "text": [
            "Error fetching content: HTTPConnectionPool(host='lati.ms', port=80): Max retries exceeded with url: /nfnVD (Caused by ConnectTimeoutError(<urllib3.connection.HTTPConnection object at 0x7c728f322f50>, 'Connection to lati.ms timed out. (connect timeout=4)'))\n"
          ]
        },
        {
          "output_type": "stream",
          "name": "stderr",
          "text": [
            "\rExtracting content:  75%|███████▌  | 1352/1797 [29:56<25:48,  3.48s/it]"
          ]
        },
        {
          "output_type": "stream",
          "name": "stdout",
          "text": [
            "Error fetching content: HTTPConnectionPool(host='lati.ms', port=80): Max retries exceeded with url: /nf586 (Caused by ConnectTimeoutError(<urllib3.connection.HTTPConnection object at 0x7c728f323790>, 'Connection to lati.ms timed out. (connect timeout=4)'))\n"
          ]
        },
        {
          "output_type": "stream",
          "name": "stderr",
          "text": [
            "\rExtracting content:  75%|███████▌  | 1353/1797 [30:00<26:56,  3.64s/it]"
          ]
        },
        {
          "output_type": "stream",
          "name": "stdout",
          "text": [
            "Error fetching content: HTTPConnectionPool(host='lati.ms', port=80): Max retries exceeded with url: /ndFgY (Caused by ConnectTimeoutError(<urllib3.connection.HTTPConnection object at 0x7c728f322920>, 'Connection to lati.ms timed out. (connect timeout=4)'))\n"
          ]
        },
        {
          "output_type": "stream",
          "name": "stderr",
          "text": [
            "\rExtracting content:  75%|███████▌  | 1354/1797 [30:04<27:42,  3.75s/it]"
          ]
        },
        {
          "output_type": "stream",
          "name": "stdout",
          "text": [
            "Error fetching content: HTTPConnectionPool(host='lati.ms', port=80): Max retries exceeded with url: /ndw31 (Caused by ConnectTimeoutError(<urllib3.connection.HTTPConnection object at 0x7c728f15c130>, 'Connection to lati.ms timed out. (connect timeout=4)'))\n"
          ]
        },
        {
          "output_type": "stream",
          "name": "stderr",
          "text": [
            "Extracting content:  75%|███████▌  | 1356/1797 [30:09<23:51,  3.25s/it]"
          ]
        },
        {
          "output_type": "stream",
          "name": "stdout",
          "text": [
            "Error fetching content: HTTPConnectionPool(host='lati.ms', port=80): Max retries exceeded with url: /ndnuw (Caused by ConnectTimeoutError(<urllib3.connection.HTTPConnection object at 0x7c728f15e2c0>, 'Connection to lati.ms timed out. (connect timeout=4)'))\n"
          ]
        },
        {
          "output_type": "stream",
          "name": "stderr",
          "text": [
            "\rExtracting content:  76%|███████▌  | 1357/1797 [30:13<25:29,  3.48s/it]"
          ]
        },
        {
          "output_type": "stream",
          "name": "stdout",
          "text": [
            "Error fetching content: HTTPConnectionPool(host='lati.ms', port=80): Max retries exceeded with url: /ndoSl (Caused by ConnectTimeoutError(<urllib3.connection.HTTPConnection object at 0x7c728f15eb00>, 'Connection to lati.ms timed out. (connect timeout=4)'))\n"
          ]
        },
        {
          "output_type": "stream",
          "name": "stderr",
          "text": [
            "\rExtracting content:  76%|███████▌  | 1358/1797 [30:17<26:36,  3.64s/it]"
          ]
        },
        {
          "output_type": "stream",
          "name": "stdout",
          "text": [
            "Error fetching content: HTTPConnectionPool(host='lati.ms', port=80): Max retries exceeded with url: /ndloi (Caused by ConnectTimeoutError(<urllib3.connection.HTTPConnection object at 0x7c728f15f340>, 'Connection to lati.ms timed out. (connect timeout=4)'))\n"
          ]
        },
        {
          "output_type": "stream",
          "name": "stderr",
          "text": [
            "\rExtracting content:  76%|███████▌  | 1359/1797 [30:17<19:10,  2.63s/it]"
          ]
        },
        {
          "output_type": "stream",
          "name": "stdout",
          "text": [
            "Error fetching content: 404 Client Error: Not Found for url: https://t.co/rOf%E2%80%A6\n"
          ]
        },
        {
          "output_type": "stream",
          "name": "stderr",
          "text": [
            "Extracting content:  76%|███████▌  | 1361/1797 [30:24<22:14,  3.06s/it]"
          ]
        },
        {
          "output_type": "stream",
          "name": "stdout",
          "text": [
            "Error fetching content: HTTPConnectionPool(host='lati.ms', port=80): Max retries exceeded with url: /ncS5F (Caused by ConnectTimeoutError(<urllib3.connection.HTTPConnection object at 0x7c728f0742e0>, 'Connection to lati.ms timed out. (connect timeout=4)'))\n"
          ]
        },
        {
          "output_type": "stream",
          "name": "stderr",
          "text": [
            "\rExtracting content:  76%|███████▌  | 1362/1797 [30:28<24:16,  3.35s/it]"
          ]
        },
        {
          "output_type": "stream",
          "name": "stdout",
          "text": [
            "Error fetching content: HTTPConnectionPool(host='lati.ms', port=80): Max retries exceeded with url: /ncRz5 (Caused by ConnectTimeoutError(<urllib3.connection.HTTPConnection object at 0x7c728f15fe80>, 'Connection to lati.ms timed out. (connect timeout=4)'))\n"
          ]
        },
        {
          "output_type": "stream",
          "name": "stderr",
          "text": [
            "\rExtracting content:  76%|███████▌  | 1363/1797 [30:32<25:39,  3.55s/it]"
          ]
        },
        {
          "output_type": "stream",
          "name": "stdout",
          "text": [
            "Error fetching content: HTTPConnectionPool(host='lati.ms', port=80): Max retries exceeded with url: /ncO93 (Caused by ConnectTimeoutError(<urllib3.connection.HTTPConnection object at 0x7c728f0740a0>, 'Connection to lati.ms timed out. (connect timeout=4)'))\n"
          ]
        },
        {
          "output_type": "stream",
          "name": "stderr",
          "text": [
            "\rExtracting content:  76%|███████▌  | 1364/1797 [30:36<26:36,  3.69s/it]"
          ]
        },
        {
          "output_type": "stream",
          "name": "stdout",
          "text": [
            "Error fetching content: HTTPConnectionPool(host='lati.ms', port=80): Max retries exceeded with url: /ncKTh (Caused by ConnectTimeoutError(<urllib3.connection.HTTPConnection object at 0x7c728f075360>, 'Connection to lati.ms timed out. (connect timeout=4)'))\n",
            "Error fetching content: Failed to parse: http://t.…\n"
          ]
        },
        {
          "output_type": "stream",
          "name": "stderr",
          "text": [
            "\rExtracting content:  76%|███████▌  | 1366/1797 [30:40<20:55,  2.91s/it]"
          ]
        },
        {
          "output_type": "stream",
          "name": "stdout",
          "text": [
            "Error fetching content: HTTPConnectionPool(host='lati.ms', port=80): Max retries exceeded with url: /ncGCf (Caused by ConnectTimeoutError(<urllib3.connection.HTTPConnection object at 0x7c728f075ba0>, 'Connection to lati.ms timed out. (connect timeout=4)'))\n"
          ]
        },
        {
          "output_type": "stream",
          "name": "stderr",
          "text": [
            "\rExtracting content:  76%|███████▌  | 1367/1797 [30:44<22:49,  3.18s/it]"
          ]
        },
        {
          "output_type": "stream",
          "name": "stdout",
          "text": [
            "Error fetching content: HTTPConnectionPool(host='lati.ms', port=80): Max retries exceeded with url: /nbazp (Caused by ConnectTimeoutError(<urllib3.connection.HTTPConnection object at 0x7c728f076590>, 'Connection to lati.ms timed out. (connect timeout=4)'))\n"
          ]
        },
        {
          "output_type": "stream",
          "name": "stderr",
          "text": [
            "\rExtracting content:  76%|███████▌  | 1368/1797 [30:48<24:19,  3.40s/it]"
          ]
        },
        {
          "output_type": "stream",
          "name": "stdout",
          "text": [
            "Error fetching content: HTTPConnectionPool(host='lati.ms', port=80): Max retries exceeded with url: /nba76 (Caused by ConnectTimeoutError(<urllib3.connection.HTTPConnection object at 0x7c728f076e00>, 'Connection to lati.ms timed out. (connect timeout=4)'))\n"
          ]
        },
        {
          "output_type": "stream",
          "name": "stderr",
          "text": [
            "Extracting content:  76%|███████▌  | 1370/1797 [30:52<18:33,  2.61s/it]"
          ]
        },
        {
          "output_type": "stream",
          "name": "stdout",
          "text": [
            "Error fetching content: HTTPConnectionPool(host='lati.ms', port=80): Max retries exceeded with url: /naHDD (Caused by ConnectTimeoutError(<urllib3.connection.HTTPConnection object at 0x7c728f0765c0>, 'Connection to lati.ms timed out. (connect timeout=4)'))\n",
            "Error fetching content: 404 Client Error: Not Found for url: http://pbs.twimg.com/media/BPt74ksCUAA-iv8.jpg\n",
            "Error fetching content: Failed to parse: http://t.co…\n"
          ]
        },
        {
          "output_type": "stream",
          "name": "stderr",
          "text": [
            "\rExtracting content:  76%|███████▋  | 1372/1797 [30:56<16:37,  2.35s/it]"
          ]
        },
        {
          "output_type": "stream",
          "name": "stdout",
          "text": [
            "Error fetching content: HTTPConnectionPool(host='lati.ms', port=80): Max retries exceeded with url: /n8JhR (Caused by ConnectTimeoutError(<urllib3.connection.HTTPConnection object at 0x7c728f0763b0>, 'Connection to lati.ms timed out. (connect timeout=4)'))\n"
          ]
        },
        {
          "output_type": "stream",
          "name": "stderr",
          "text": [
            "\rExtracting content:  76%|███████▋  | 1373/1797 [31:00<19:24,  2.75s/it]"
          ]
        },
        {
          "output_type": "stream",
          "name": "stdout",
          "text": [
            "Error fetching content: HTTPConnectionPool(host='lati.ms', port=80): Max retries exceeded with url: /n93m6 (Caused by ConnectTimeoutError(<urllib3.connection.HTTPConnection object at 0x7c728f075330>, 'Connection to lati.ms timed out. (connect timeout=4)'))\n"
          ]
        },
        {
          "output_type": "stream",
          "name": "stderr",
          "text": [
            "\rExtracting content:  76%|███████▋  | 1374/1797 [31:04<21:39,  3.07s/it]"
          ]
        },
        {
          "output_type": "stream",
          "name": "stdout",
          "text": [
            "Error fetching content: HTTPConnectionPool(host='lati.ms', port=80): Max retries exceeded with url: /n986n (Caused by ConnectTimeoutError(<urllib3.connection.HTTPConnection object at 0x7c728f074340>, 'Connection to lati.ms timed out. (connect timeout=4)'))\n"
          ]
        },
        {
          "output_type": "stream",
          "name": "stderr",
          "text": [
            "\rExtracting content:  77%|███████▋  | 1375/1797 [31:08<23:22,  3.32s/it]"
          ]
        },
        {
          "output_type": "stream",
          "name": "stdout",
          "text": [
            "Error fetching content: HTTPConnectionPool(host='lati.ms', port=80): Max retries exceeded with url: /n8JRx (Caused by ConnectTimeoutError(<urllib3.connection.HTTPConnection object at 0x7c728f074910>, 'Connection to lati.ms timed out. (connect timeout=4)'))\n"
          ]
        },
        {
          "output_type": "stream",
          "name": "stderr",
          "text": [
            "\rExtracting content:  77%|███████▋  | 1376/1797 [31:12<24:39,  3.51s/it]"
          ]
        },
        {
          "output_type": "stream",
          "name": "stdout",
          "text": [
            "Error fetching content: HTTPConnectionPool(host='lati.ms', port=80): Max retries exceeded with url: /n8Igz (Caused by ConnectTimeoutError(<urllib3.connection.HTTPConnection object at 0x7c728f03f640>, 'Connection to lati.ms timed out. (connect timeout=4)'))\n"
          ]
        },
        {
          "output_type": "stream",
          "name": "stderr",
          "text": [
            "\rExtracting content:  77%|███████▋  | 1377/1797 [31:16<25:35,  3.66s/it]"
          ]
        },
        {
          "output_type": "stream",
          "name": "stdout",
          "text": [
            "Error fetching content: HTTPConnectionPool(host='lati.ms', port=80): Max retries exceeded with url: /n8Fl7 (Caused by ConnectTimeoutError(<urllib3.connection.HTTPConnection object at 0x7c728f03ef80>, 'Connection to lati.ms timed out. (connect timeout=4)'))\n"
          ]
        },
        {
          "output_type": "stream",
          "name": "stderr",
          "text": [
            "\rExtracting content:  77%|███████▋  | 1378/1797 [31:20<26:14,  3.76s/it]"
          ]
        },
        {
          "output_type": "stream",
          "name": "stdout",
          "text": [
            "Error fetching content: HTTPConnectionPool(host='lati.ms', port=80): Max retries exceeded with url: /n8h0z (Caused by ConnectTimeoutError(<urllib3.connection.HTTPConnection object at 0x7c728f03e830>, 'Connection to lati.ms timed out. (connect timeout=4)'))\n"
          ]
        },
        {
          "output_type": "stream",
          "name": "stderr",
          "text": [
            "\rExtracting content:  77%|███████▋  | 1379/1797 [31:24<26:41,  3.83s/it]"
          ]
        },
        {
          "output_type": "stream",
          "name": "stdout",
          "text": [
            "Error fetching content: HTTPConnectionPool(host='lati.ms', port=80): Max retries exceeded with url: /n8hKe (Caused by ConnectTimeoutError(<urllib3.connection.HTTPConnection object at 0x7c728f03dfc0>, 'Connection to lati.ms timed out. (connect timeout=4)'))\n"
          ]
        },
        {
          "output_type": "stream",
          "name": "stderr",
          "text": [
            "\rExtracting content:  77%|███████▋  | 1380/1797 [31:28<27:03,  3.89s/it]"
          ]
        },
        {
          "output_type": "stream",
          "name": "stdout",
          "text": [
            "Error fetching content: HTTPConnectionPool(host='lati.ms', port=80): Max retries exceeded with url: /n75Ts (Caused by ConnectTimeoutError(<urllib3.connection.HTTPConnection object at 0x7c728f03d5d0>, 'Connection to lati.ms timed out. (connect timeout=4)'))\n"
          ]
        },
        {
          "output_type": "stream",
          "name": "stderr",
          "text": [
            "\rExtracting content:  77%|███████▋  | 1381/1797 [31:32<27:14,  3.93s/it]"
          ]
        },
        {
          "output_type": "stream",
          "name": "stdout",
          "text": [
            "Error fetching content: HTTPConnectionPool(host='lati.ms', port=80): Max retries exceeded with url: /n75Yf (Caused by ConnectTimeoutError(<urllib3.connection.HTTPConnection object at 0x7c728f03e650>, 'Connection to lati.ms timed out. (connect timeout=4)'))\n"
          ]
        },
        {
          "output_type": "stream",
          "name": "stderr",
          "text": [
            "\rExtracting content:  77%|███████▋  | 1382/1797 [31:36<27:20,  3.95s/it]"
          ]
        },
        {
          "output_type": "stream",
          "name": "stdout",
          "text": [
            "Error fetching content: HTTPConnectionPool(host='lati.ms', port=80): Max retries exceeded with url: /n6TLg (Caused by ConnectTimeoutError(<urllib3.connection.HTTPConnection object at 0x7c728f03ee00>, 'Connection to lati.ms timed out. (connect timeout=4)'))\n"
          ]
        },
        {
          "output_type": "stream",
          "name": "stderr",
          "text": [
            "\rExtracting content:  77%|███████▋  | 1383/1797 [31:40<27:23,  3.97s/it]"
          ]
        },
        {
          "output_type": "stream",
          "name": "stdout",
          "text": [
            "Error fetching content: HTTPConnectionPool(host='lati.ms', port=80): Max retries exceeded with url: /n6u2J (Caused by ConnectTimeoutError(<urllib3.connection.HTTPConnection object at 0x7c728f03f5b0>, 'Connection to lati.ms timed out. (connect timeout=4)'))\n"
          ]
        },
        {
          "output_type": "stream",
          "name": "stderr",
          "text": [
            "\rExtracting content:  77%|███████▋  | 1384/1797 [31:44<27:24,  3.98s/it]"
          ]
        },
        {
          "output_type": "stream",
          "name": "stdout",
          "text": [
            "Error fetching content: HTTPConnectionPool(host='lati.ms', port=80): Max retries exceeded with url: /n6LMH (Caused by ConnectTimeoutError(<urllib3.connection.HTTPConnection object at 0x7c728f03fe80>, 'Connection to lati.ms timed out. (connect timeout=4)'))\n"
          ]
        },
        {
          "output_type": "stream",
          "name": "stderr",
          "text": [
            "\rExtracting content:  77%|███████▋  | 1385/1797 [31:48<27:24,  3.99s/it]"
          ]
        },
        {
          "output_type": "stream",
          "name": "stdout",
          "text": [
            "Error fetching content: HTTPConnectionPool(host='lati.ms', port=80): Max retries exceeded with url: /n6Izv (Caused by ConnectTimeoutError(<urllib3.connection.HTTPConnection object at 0x7c728f03cf10>, 'Connection to lati.ms timed out. (connect timeout=4)'))\n"
          ]
        },
        {
          "output_type": "stream",
          "name": "stderr",
          "text": [
            "\rExtracting content:  77%|███████▋  | 1386/1797 [31:52<27:22,  4.00s/it]"
          ]
        },
        {
          "output_type": "stream",
          "name": "stdout",
          "text": [
            "Error fetching content: HTTPConnectionPool(host='lati.ms', port=80): Max retries exceeded with url: /n6tHY (Caused by ConnectTimeoutError(<urllib3.connection.HTTPConnection object at 0x7c728f03f640>, 'Connection to lati.ms timed out. (connect timeout=4)'))\n"
          ]
        },
        {
          "output_type": "stream",
          "name": "stderr",
          "text": [
            "Extracting content:  77%|███████▋  | 1389/1797 [31:59<20:50,  3.07s/it]"
          ]
        },
        {
          "output_type": "stream",
          "name": "stdout",
          "text": [
            "Error fetching content: HTTPConnectionPool(host='lati.ms', port=80): Max retries exceeded with url: /n5YDj (Caused by ConnectTimeoutError(<urllib3.connection.HTTPConnection object at 0x7c728ef649a0>, 'Connection to lati.ms timed out. (connect timeout=4)'))\n"
          ]
        },
        {
          "output_type": "stream",
          "name": "stderr",
          "text": [
            "Extracting content:  77%|███████▋  | 1391/1797 [32:03<19:04,  2.82s/it]"
          ]
        },
        {
          "output_type": "stream",
          "name": "stdout",
          "text": [
            "Error fetching content: HTTPConnectionPool(host='lati.ms', port=80): Max retries exceeded with url: /n4AB1 (Caused by ConnectTimeoutError(<urllib3.connection.HTTPConnection object at 0x7c728ef64d00>, 'Connection to lati.ms timed out. (connect timeout=4)'))\n"
          ]
        },
        {
          "output_type": "stream",
          "name": "stderr",
          "text": [
            "\rExtracting content:  77%|███████▋  | 1392/1797 [32:07<21:26,  3.18s/it]"
          ]
        },
        {
          "output_type": "stream",
          "name": "stdout",
          "text": [
            "Error fetching content: HTTPConnectionPool(host='lati.ms', port=80): Max retries exceeded with url: /n4AYP (Caused by ConnectTimeoutError(<urllib3.connection.HTTPConnection object at 0x7c728ef65060>, 'Connection to lati.ms timed out. (connect timeout=4)'))\n"
          ]
        },
        {
          "output_type": "stream",
          "name": "stderr",
          "text": [
            "\rExtracting content:  78%|███████▊  | 1393/1797 [32:11<23:04,  3.43s/it]"
          ]
        },
        {
          "output_type": "stream",
          "name": "stdout",
          "text": [
            "Error fetching content: HTTPConnectionPool(host='lati.ms', port=80): Max retries exceeded with url: /n4iJo (Caused by ConnectTimeoutError(<urllib3.connection.HTTPConnection object at 0x7c728ef64e80>, 'Connection to lati.ms timed out. (connect timeout=4)'))\n",
            "Error fetching content: Failed to parse: http://…\n"
          ]
        },
        {
          "output_type": "stream",
          "name": "stderr",
          "text": [
            "\rExtracting content:  78%|███████▊  | 1395/1797 [32:15<18:34,  2.77s/it]"
          ]
        },
        {
          "output_type": "stream",
          "name": "stdout",
          "text": [
            "Error fetching content: HTTPConnectionPool(host='lati.ms', port=80): Max retries exceeded with url: /n4oSk (Caused by ConnectTimeoutError(<urllib3.connection.HTTPConnection object at 0x7c728ef64790>, 'Connection to lati.ms timed out. (connect timeout=4)'))\n"
          ]
        },
        {
          "output_type": "stream",
          "name": "stderr",
          "text": [
            "\rExtracting content:  78%|███████▊  | 1396/1797 [32:17<17:03,  2.55s/it]"
          ]
        },
        {
          "output_type": "stream",
          "name": "stdout",
          "text": [
            "Error fetching content: 404 Client Error: Not Found for url: https://www.dumblittleman.com/2013/07/dont-waste-another-day-get-motivated.html\n"
          ]
        },
        {
          "output_type": "stream",
          "name": "stderr",
          "text": [
            "\rExtracting content:  78%|███████▊  | 1397/1797 [32:21<19:33,  2.93s/it]"
          ]
        },
        {
          "output_type": "stream",
          "name": "stdout",
          "text": [
            "Error fetching content: HTTPConnectionPool(host='lati.ms', port=80): Max retries exceeded with url: /n44jP (Caused by ConnectTimeoutError(<urllib3.connection.HTTPConnection object at 0x7c728ef65360>, 'Connection to lati.ms timed out. (connect timeout=4)'))\n",
            "Error fetching content: Failed to parse: http://…\n"
          ]
        },
        {
          "output_type": "stream",
          "name": "stderr",
          "text": [
            "Extracting content:  78%|███████▊  | 1400/1797 [32:26<16:10,  2.44s/it]"
          ]
        },
        {
          "output_type": "stream",
          "name": "stdout",
          "text": [
            "Error fetching content: HTTPConnectionPool(host='lati.ms', port=80): Max retries exceeded with url: /n3Fl2 (Caused by ConnectTimeoutError(<urllib3.connection.HTTPConnection object at 0x7c728f016a40>, 'Connection to lati.ms timed out. (connect timeout=4)'))\n"
          ]
        },
        {
          "output_type": "stream",
          "name": "stderr",
          "text": [
            "Extracting content:  78%|███████▊  | 1402/1797 [32:31<16:31,  2.51s/it]"
          ]
        },
        {
          "output_type": "stream",
          "name": "stdout",
          "text": [
            "Error fetching content: HTTPConnectionPool(host='lati.ms', port=80): Max retries exceeded with url: /n3ElO (Caused by ConnectTimeoutError(<urllib3.connection.HTTPConnection object at 0x7c728ed2cfa0>, 'Connection to lati.ms timed out. (connect timeout=4)'))\n"
          ]
        },
        {
          "output_type": "stream",
          "name": "stderr",
          "text": [
            "\rExtracting content:  78%|███████▊  | 1403/1797 [32:35<19:11,  2.92s/it]"
          ]
        },
        {
          "output_type": "stream",
          "name": "stdout",
          "text": [
            "Error fetching content: HTTPConnectionPool(host='lati.ms', port=80): Max retries exceeded with url: /n3DP7 (Caused by ConnectTimeoutError(<urllib3.connection.HTTPConnection object at 0x7c728ed2d8d0>, 'Connection to lati.ms timed out. (connect timeout=4)'))\n"
          ]
        },
        {
          "output_type": "stream",
          "name": "stderr",
          "text": [
            "\rExtracting content:  78%|███████▊  | 1404/1797 [32:39<21:08,  3.23s/it]"
          ]
        },
        {
          "output_type": "stream",
          "name": "stdout",
          "text": [
            "Error fetching content: HTTPConnectionPool(host='lati.ms', port=80): Max retries exceeded with url: /n2cUS (Caused by ConnectTimeoutError(<urllib3.connection.HTTPConnection object at 0x7c728ed2e020>, 'Connection to lati.ms timed out. (connect timeout=4)'))\n"
          ]
        },
        {
          "output_type": "stream",
          "name": "stderr",
          "text": [
            "\rExtracting content:  78%|███████▊  | 1405/1797 [32:43<22:33,  3.45s/it]"
          ]
        },
        {
          "output_type": "stream",
          "name": "stdout",
          "text": [
            "Error fetching content: HTTPConnectionPool(host='lati.ms', port=80): Max retries exceeded with url: /n2eBh (Caused by ConnectTimeoutError(<urllib3.connection.HTTPConnection object at 0x7c728ed2e980>, 'Connection to lati.ms timed out. (connect timeout=4)'))\n"
          ]
        },
        {
          "output_type": "stream",
          "name": "stderr",
          "text": [
            "\rExtracting content:  78%|███████▊  | 1406/1797 [32:47<23:33,  3.61s/it]"
          ]
        },
        {
          "output_type": "stream",
          "name": "stdout",
          "text": [
            "Error fetching content: HTTPConnectionPool(host='lati.ms', port=80): Max retries exceeded with url: /n2dW4 (Caused by ConnectTimeoutError(<urllib3.connection.HTTPConnection object at 0x7c728ed2f0a0>, 'Connection to lati.ms timed out. (connect timeout=4)'))\n"
          ]
        },
        {
          "output_type": "stream",
          "name": "stderr",
          "text": [
            "\rExtracting content:  78%|███████▊  | 1407/1797 [32:51<24:15,  3.73s/it]"
          ]
        },
        {
          "output_type": "stream",
          "name": "stdout",
          "text": [
            "Error fetching content: HTTPConnectionPool(host='lati.ms', port=80): Max retries exceeded with url: /n268R (Caused by ConnectTimeoutError(<urllib3.connection.HTTPConnection object at 0x7c728f017a00>, 'Connection to lati.ms timed out. (connect timeout=4)'))\n"
          ]
        },
        {
          "output_type": "stream",
          "name": "stderr",
          "text": [
            "\rExtracting content:  78%|███████▊  | 1408/1797 [32:55<24:43,  3.81s/it]"
          ]
        },
        {
          "output_type": "stream",
          "name": "stdout",
          "text": [
            "Error fetching content: HTTPConnectionPool(host='lati.ms', port=80): Max retries exceeded with url: /n23yL (Caused by ConnectTimeoutError(<urllib3.connection.HTTPConnection object at 0x7c728f017850>, 'Connection to lati.ms timed out. (connect timeout=4)'))\n"
          ]
        },
        {
          "output_type": "stream",
          "name": "stderr",
          "text": [
            "\rExtracting content:  78%|███████▊  | 1409/1797 [32:59<25:03,  3.87s/it]"
          ]
        },
        {
          "output_type": "stream",
          "name": "stdout",
          "text": [
            "Error fetching content: HTTPConnectionPool(host='lati.ms', port=80): Max retries exceeded with url: /n1RwG (Caused by ConnectTimeoutError(<urllib3.connection.HTTPConnection object at 0x7c728f016f20>, 'Connection to lati.ms timed out. (connect timeout=4)'))\n"
          ]
        },
        {
          "output_type": "stream",
          "name": "stderr",
          "text": [
            "\rExtracting content:  78%|███████▊  | 1410/1797 [33:03<25:25,  3.94s/it]"
          ]
        },
        {
          "output_type": "stream",
          "name": "stdout",
          "text": [
            "Error fetching content: HTTPConnectionPool(host='lati.ms', port=80): Max retries exceeded with url: /n1sVE (Caused by ConnectTimeoutError(<urllib3.connection.HTTPConnection object at 0x7c728ed2e890>, 'Connection to lati.ms timed out. (connect timeout=4)'))\n"
          ]
        },
        {
          "output_type": "stream",
          "name": "stderr",
          "text": [
            "\rExtracting content:  79%|███████▊  | 1411/1797 [33:07<25:29,  3.96s/it]"
          ]
        },
        {
          "output_type": "stream",
          "name": "stdout",
          "text": [
            "Error fetching content: HTTPConnectionPool(host='lati.ms', port=80): Max retries exceeded with url: /n1OvW (Caused by ConnectTimeoutError(<urllib3.connection.HTTPConnection object at 0x7c728ed2df00>, 'Connection to lati.ms timed out. (connect timeout=4)'))\n"
          ]
        },
        {
          "output_type": "stream",
          "name": "stderr",
          "text": [
            "\rExtracting content:  79%|███████▊  | 1412/1797 [33:11<25:31,  3.98s/it]"
          ]
        },
        {
          "output_type": "stream",
          "name": "stdout",
          "text": [
            "Error fetching content: HTTPConnectionPool(host='lati.ms', port=80): Max retries exceeded with url: /n1Qc6 (Caused by ConnectTimeoutError(<urllib3.connection.HTTPConnection object at 0x7c728f017220>, 'Connection to lati.ms timed out. (connect timeout=4)'))\n"
          ]
        },
        {
          "output_type": "stream",
          "name": "stderr",
          "text": [
            "\rExtracting content:  79%|███████▊  | 1413/1797 [33:15<25:31,  3.99s/it]"
          ]
        },
        {
          "output_type": "stream",
          "name": "stdout",
          "text": [
            "Error fetching content: HTTPConnectionPool(host='lati.ms', port=80): Max retries exceeded with url: /n1o0C (Caused by ConnectTimeoutError(<urllib3.connection.HTTPConnection object at 0x7c728f016ec0>, 'Connection to lati.ms timed out. (connect timeout=4)'))\n"
          ]
        },
        {
          "output_type": "stream",
          "name": "stderr",
          "text": [
            "\rExtracting content:  79%|███████▊  | 1414/1797 [33:19<25:30,  4.00s/it]"
          ]
        },
        {
          "output_type": "stream",
          "name": "stdout",
          "text": [
            "Error fetching content: HTTPConnectionPool(host='lati.ms', port=80): Max retries exceeded with url: /n1cPD (Caused by ConnectTimeoutError(<urllib3.connection.HTTPConnection object at 0x7c728f017ac0>, 'Connection to lati.ms timed out. (connect timeout=4)'))\n"
          ]
        },
        {
          "output_type": "stream",
          "name": "stderr",
          "text": [
            "Extracting content:  79%|███████▉  | 1416/1797 [33:24<20:45,  3.27s/it]"
          ]
        },
        {
          "output_type": "stream",
          "name": "stdout",
          "text": [
            "Error fetching content: HTTPConnectionPool(host='lati.ms', port=80): Max retries exceeded with url: /mZrRN (Caused by ConnectTimeoutError(<urllib3.connection.HTTPConnection object at 0x7c728f017880>, 'Connection to lati.ms timed out. (connect timeout=4)'))\n"
          ]
        },
        {
          "output_type": "stream",
          "name": "stderr",
          "text": [
            "Extracting content:  79%|███████▉  | 1418/1797 [33:29<18:47,  2.98s/it]"
          ]
        },
        {
          "output_type": "stream",
          "name": "stdout",
          "text": [
            "Error fetching content: HTTPConnectionPool(host='lati.ms', port=80): Max retries exceeded with url: /mZLgB (Caused by ConnectTimeoutError(<urllib3.connection.HTTPConnection object at 0x7c728ee14220>, 'Connection to lati.ms timed out. (connect timeout=4)'))\n"
          ]
        },
        {
          "output_type": "stream",
          "name": "stderr",
          "text": [
            "\rExtracting content:  79%|███████▉  | 1419/1797 [33:33<20:45,  3.29s/it]"
          ]
        },
        {
          "output_type": "stream",
          "name": "stdout",
          "text": [
            "Error fetching content: HTTPConnectionPool(host='lati.ms', port=80): Max retries exceeded with url: /mZKH8 (Caused by ConnectTimeoutError(<urllib3.connection.HTTPConnection object at 0x7c728eddfa00>, 'Connection to lati.ms timed out. (connect timeout=4)'))\n"
          ]
        },
        {
          "output_type": "stream",
          "name": "stderr",
          "text": [
            "\rExtracting content:  79%|███████▉  | 1420/1797 [33:37<22:03,  3.51s/it]"
          ]
        },
        {
          "output_type": "stream",
          "name": "stdout",
          "text": [
            "Error fetching content: HTTPConnectionPool(host='lati.ms', port=80): Max retries exceeded with url: /mZtLH (Caused by ConnectTimeoutError(<urllib3.connection.HTTPConnection object at 0x7c728ee14a60>, 'Connection to lati.ms timed out. (connect timeout=4)'))\n"
          ]
        },
        {
          "output_type": "stream",
          "name": "stderr",
          "text": [
            "\rExtracting content:  79%|███████▉  | 1421/1797 [33:41<22:56,  3.66s/it]"
          ]
        },
        {
          "output_type": "stream",
          "name": "stdout",
          "text": [
            "Error fetching content: HTTPConnectionPool(host='lati.ms', port=80): Max retries exceeded with url: /mZyfH (Caused by ConnectTimeoutError(<urllib3.connection.HTTPConnection object at 0x7c728ee153c0>, 'Connection to lati.ms timed out. (connect timeout=4)'))\n"
          ]
        },
        {
          "output_type": "stream",
          "name": "stderr",
          "text": [
            "\rExtracting content:  79%|███████▉  | 1422/1797 [33:45<23:32,  3.77s/it]"
          ]
        },
        {
          "output_type": "stream",
          "name": "stdout",
          "text": [
            "Error fetching content: HTTPConnectionPool(host='lati.ms', port=80): Max retries exceeded with url: /mZrB2 (Caused by ConnectTimeoutError(<urllib3.connection.HTTPConnection object at 0x7c728ee15ae0>, 'Connection to lati.ms timed out. (connect timeout=4)'))\n"
          ]
        },
        {
          "output_type": "stream",
          "name": "stderr",
          "text": [
            "\rExtracting content:  79%|███████▉  | 1423/1797 [33:49<23:56,  3.84s/it]"
          ]
        },
        {
          "output_type": "stream",
          "name": "stdout",
          "text": [
            "Error fetching content: HTTPConnectionPool(host='lati.ms', port=80): Max retries exceeded with url: /mZqKI (Caused by ConnectTimeoutError(<urllib3.connection.HTTPConnection object at 0x7c728ee16440>, 'Connection to lati.ms timed out. (connect timeout=4)'))\n"
          ]
        },
        {
          "output_type": "stream",
          "name": "stderr",
          "text": [
            "\rExtracting content:  79%|███████▉  | 1424/1797 [33:53<24:11,  3.89s/it]"
          ]
        },
        {
          "output_type": "stream",
          "name": "stdout",
          "text": [
            "Error fetching content: HTTPConnectionPool(host='lati.ms', port=80): Max retries exceeded with url: /mZ3qM (Caused by ConnectTimeoutError(<urllib3.connection.HTTPConnection object at 0x7c728ee16b90>, 'Connection to lati.ms timed out. (connect timeout=4)'))\n"
          ]
        },
        {
          "output_type": "stream",
          "name": "stderr",
          "text": [
            "\rExtracting content:  79%|███████▉  | 1425/1797 [33:57<24:21,  3.93s/it]"
          ]
        },
        {
          "output_type": "stream",
          "name": "stdout",
          "text": [
            "Error fetching content: HTTPConnectionPool(host='lati.ms', port=80): Max retries exceeded with url: /mYL6V (Caused by ConnectTimeoutError(<urllib3.connection.HTTPConnection object at 0x7c728ee163b0>, 'Connection to lati.ms timed out. (connect timeout=4)'))\n"
          ]
        },
        {
          "output_type": "stream",
          "name": "stderr",
          "text": [
            "Extracting content:  79%|███████▉  | 1427/1797 [34:01<20:15,  3.29s/it]"
          ]
        },
        {
          "output_type": "stream",
          "name": "stdout",
          "text": [
            "Error fetching content: HTTPConnectionPool(host='lati.ms', port=80): Max retries exceeded with url: /mXrn3 (Caused by ConnectTimeoutError(<urllib3.connection.HTTPConnection object at 0x7c728ee164d0>, 'Connection to lati.ms timed out. (connect timeout=4)'))\n"
          ]
        },
        {
          "output_type": "stream",
          "name": "stderr",
          "text": [
            "Extracting content:  80%|███████▉  | 1431/1797 [34:08<15:22,  2.52s/it]"
          ]
        },
        {
          "output_type": "stream",
          "name": "stdout",
          "text": [
            "Error fetching content: HTTPConnectionPool(host='lati.ms', port=80): Max retries exceeded with url: /mWdj1 (Caused by ConnectTimeoutError(<urllib3.connection.HTTPConnection object at 0x7c728ebc2a10>, 'Connection to lati.ms timed out. (connect timeout=4)'))\n"
          ]
        },
        {
          "output_type": "stream",
          "name": "stderr",
          "text": [
            "Extracting content:  80%|███████▉  | 1433/1797 [34:13<15:37,  2.58s/it]"
          ]
        },
        {
          "output_type": "stream",
          "name": "stdout",
          "text": [
            "Error fetching content: HTTPConnectionPool(host='lati.ms', port=80): Max retries exceeded with url: /mVd1k (Caused by ConnectTimeoutError(<urllib3.connection.HTTPConnection object at 0x7c728ec00250>, 'Connection to lati.ms timed out. (connect timeout=4)'))\n"
          ]
        },
        {
          "output_type": "stream",
          "name": "stderr",
          "text": [
            "\rExtracting content:  80%|███████▉  | 1434/1797 [34:17<18:11,  3.01s/it]"
          ]
        },
        {
          "output_type": "stream",
          "name": "stdout",
          "text": [
            "Error fetching content: HTTPConnectionPool(host='lati.ms', port=80): Max retries exceeded with url: /mVkuy (Caused by ConnectTimeoutError(<urllib3.connection.HTTPConnection object at 0x7c728ebc1e10>, 'Connection to lati.ms timed out. (connect timeout=4)'))\n"
          ]
        },
        {
          "output_type": "stream",
          "name": "stderr",
          "text": [
            "\rExtracting content:  80%|███████▉  | 1435/1797 [34:21<19:57,  3.31s/it]"
          ]
        },
        {
          "output_type": "stream",
          "name": "stdout",
          "text": [
            "Error fetching content: HTTPConnectionPool(host='lati.ms', port=80): Max retries exceeded with url: /mVkli (Caused by ConnectTimeoutError(<urllib3.connection.HTTPConnection object at 0x7c728ebc2bf0>, 'Connection to lati.ms timed out. (connect timeout=4)'))\n"
          ]
        },
        {
          "output_type": "stream",
          "name": "stderr",
          "text": [
            "\rExtracting content:  80%|███████▉  | 1436/1797 [34:25<21:10,  3.52s/it]"
          ]
        },
        {
          "output_type": "stream",
          "name": "stdout",
          "text": [
            "Error fetching content: HTTPConnectionPool(host='lati.ms', port=80): Max retries exceeded with url: /mVemr (Caused by ConnectTimeoutError(<urllib3.connection.HTTPConnection object at 0x7c728ebc2ec0>, 'Connection to lati.ms timed out. (connect timeout=4)'))\n"
          ]
        },
        {
          "output_type": "stream",
          "name": "stderr",
          "text": [
            "\rExtracting content:  80%|███████▉  | 1437/1797 [34:29<22:00,  3.67s/it]"
          ]
        },
        {
          "output_type": "stream",
          "name": "stdout",
          "text": [
            "Error fetching content: HTTPConnectionPool(host='lati.ms', port=80): Max retries exceeded with url: /mVdK2 (Caused by ConnectTimeoutError(<urllib3.connection.HTTPConnection object at 0x7c728ebc3670>, 'Connection to lati.ms timed out. (connect timeout=4)'))\n"
          ]
        },
        {
          "output_type": "stream",
          "name": "stderr",
          "text": [
            "\rExtracting content:  80%|████████  | 1438/1797 [34:33<22:33,  3.77s/it]"
          ]
        },
        {
          "output_type": "stream",
          "name": "stdout",
          "text": [
            "Error fetching content: HTTPConnectionPool(host='lati.ms', port=80): Max retries exceeded with url: /mVdlO (Caused by ConnectTimeoutError(<urllib3.connection.HTTPConnection object at 0x7c728ec00610>, 'Connection to lati.ms timed out. (connect timeout=4)'))\n"
          ]
        },
        {
          "output_type": "stream",
          "name": "stderr",
          "text": [
            "\rExtracting content:  80%|████████  | 1439/1797 [34:37<22:55,  3.84s/it]"
          ]
        },
        {
          "output_type": "stream",
          "name": "stdout",
          "text": [
            "Error fetching content: HTTPConnectionPool(host='lati.ms', port=80): Max retries exceeded with url: /mV7m6 (Caused by ConnectTimeoutError(<urllib3.connection.HTTPConnection object at 0x7c728ebc2350>, 'Connection to lati.ms timed out. (connect timeout=4)'))\n"
          ]
        },
        {
          "output_type": "stream",
          "name": "stderr",
          "text": [
            "\rExtracting content:  80%|████████  | 1440/1797 [34:41<23:13,  3.90s/it]"
          ]
        },
        {
          "output_type": "stream",
          "name": "stdout",
          "text": [
            "Error fetching content: HTTPConnectionPool(host='lati.ms', port=80): Max retries exceeded with url: /mUEX6 (Caused by ConnectTimeoutError(<urllib3.connection.HTTPConnection object at 0x7c728ebc2470>, 'Connection to lati.ms timed out. (connect timeout=4)'))\n"
          ]
        },
        {
          "output_type": "stream",
          "name": "stderr",
          "text": [
            "\rExtracting content:  80%|████████  | 1441/1797 [34:45<23:21,  3.94s/it]"
          ]
        },
        {
          "output_type": "stream",
          "name": "stdout",
          "text": [
            "Error fetching content: HTTPConnectionPool(host='lati.ms', port=80): Max retries exceeded with url: /mUpjj (Caused by ConnectTimeoutError(<urllib3.connection.HTTPConnection object at 0x7c728ebc1f00>, 'Connection to lati.ms timed out. (connect timeout=4)'))\n"
          ]
        },
        {
          "output_type": "stream",
          "name": "stderr",
          "text": [
            "\rExtracting content:  80%|████████  | 1442/1797 [34:49<23:25,  3.96s/it]"
          ]
        },
        {
          "output_type": "stream",
          "name": "stdout",
          "text": [
            "Error fetching content: HTTPConnectionPool(host='lati.ms', port=80): Max retries exceeded with url: /mT4eN (Caused by ConnectTimeoutError(<urllib3.connection.HTTPConnection object at 0x7c728ebc17b0>, 'Connection to lati.ms timed out. (connect timeout=4)'))\n"
          ]
        },
        {
          "output_type": "stream",
          "name": "stderr",
          "text": [
            "\rExtracting content:  80%|████████  | 1443/1797 [34:53<23:27,  3.98s/it]"
          ]
        },
        {
          "output_type": "stream",
          "name": "stdout",
          "text": [
            "Error fetching content: HTTPConnectionPool(host='lati.ms', port=80): Max retries exceeded with url: /mT472 (Caused by ConnectTimeoutError(<urllib3.connection.HTTPConnection object at 0x7c728ec00190>, 'Connection to lati.ms timed out. (connect timeout=4)'))\n"
          ]
        },
        {
          "output_type": "stream",
          "name": "stderr",
          "text": [
            "\rExtracting content:  80%|████████  | 1444/1797 [34:57<23:27,  3.99s/it]"
          ]
        },
        {
          "output_type": "stream",
          "name": "stdout",
          "text": [
            "Error fetching content: HTTPConnectionPool(host='lati.ms', port=80): Max retries exceeded with url: /mSX3u (Caused by ConnectTimeoutError(<urllib3.connection.HTTPConnection object at 0x7c728ebc1a80>, 'Connection to lati.ms timed out. (connect timeout=4)'))\n"
          ]
        },
        {
          "output_type": "stream",
          "name": "stderr",
          "text": [
            "\rExtracting content:  80%|████████  | 1445/1797 [35:01<23:25,  3.99s/it]"
          ]
        },
        {
          "output_type": "stream",
          "name": "stdout",
          "text": [
            "Error fetching content: HTTPConnectionPool(host='lati.ms', port=80): Max retries exceeded with url: /mSWeF (Caused by ConnectTimeoutError(<urllib3.connection.HTTPConnection object at 0x7c728ebc31c0>, 'Connection to lati.ms timed out. (connect timeout=4)'))\n"
          ]
        },
        {
          "output_type": "stream",
          "name": "stderr",
          "text": [
            "\rExtracting content:  80%|████████  | 1446/1797 [35:05<23:23,  4.00s/it]"
          ]
        },
        {
          "output_type": "stream",
          "name": "stdout",
          "text": [
            "Error fetching content: HTTPConnectionPool(host='lati.ms', port=80): Max retries exceeded with url: /mSHkf (Caused by ConnectTimeoutError(<urllib3.connection.HTTPConnection object at 0x7c728ebc2920>, 'Connection to lati.ms timed out. (connect timeout=4)'))\n"
          ]
        },
        {
          "output_type": "stream",
          "name": "stderr",
          "text": [
            "\rExtracting content:  81%|████████  | 1447/1797 [35:09<23:21,  4.00s/it]"
          ]
        },
        {
          "output_type": "stream",
          "name": "stdout",
          "text": [
            "Error fetching content: HTTPConnectionPool(host='lati.ms', port=80): Max retries exceeded with url: /mSUwk (Caused by ConnectTimeoutError(<urllib3.connection.HTTPConnection object at 0x7c728ebc1660>, 'Connection to lati.ms timed out. (connect timeout=4)'))\n"
          ]
        },
        {
          "output_type": "stream",
          "name": "stderr",
          "text": [
            "\rExtracting content:  81%|████████  | 1448/1797 [35:13<23:19,  4.01s/it]"
          ]
        },
        {
          "output_type": "stream",
          "name": "stdout",
          "text": [
            "Error fetching content: HTTPConnectionPool(host='lati.ms', port=80): Max retries exceeded with url: /mSQZ0 (Caused by ConnectTimeoutError(<urllib3.connection.HTTPConnection object at 0x7c728ec00550>, 'Connection to lati.ms timed out. (connect timeout=4)'))\n"
          ]
        },
        {
          "output_type": "stream",
          "name": "stderr",
          "text": [
            "\rExtracting content:  81%|████████  | 1449/1797 [35:17<23:15,  4.01s/it]"
          ]
        },
        {
          "output_type": "stream",
          "name": "stdout",
          "text": [
            "Error fetching content: HTTPConnectionPool(host='lati.ms', port=80): Max retries exceeded with url: /mShPS (Caused by ConnectTimeoutError(<urllib3.connection.HTTPConnection object at 0x7c728ebc3a90>, 'Connection to lati.ms timed out. (connect timeout=4)'))\n"
          ]
        },
        {
          "output_type": "stream",
          "name": "stderr",
          "text": [
            "\rExtracting content:  81%|████████  | 1450/1797 [35:21<23:11,  4.01s/it]"
          ]
        },
        {
          "output_type": "stream",
          "name": "stdout",
          "text": [
            "Error fetching content: HTTPConnectionPool(host='lati.ms', port=80): Max retries exceeded with url: /mSgXY (Caused by ConnectTimeoutError(<urllib3.connection.HTTPConnection object at 0x7c728ebc2b60>, 'Connection to lati.ms timed out. (connect timeout=4)'))\n"
          ]
        },
        {
          "output_type": "stream",
          "name": "stderr",
          "text": [
            "Extracting content:  81%|████████  | 1452/1797 [35:26<18:51,  3.28s/it]"
          ]
        },
        {
          "output_type": "stream",
          "name": "stdout",
          "text": [
            "Error fetching content: HTTPConnectionPool(host='lati.ms', port=80): Max retries exceeded with url: /mS7om (Caused by ConnectTimeoutError(<urllib3.connection.HTTPConnection object at 0x7c728e56aa10>, 'Connection to lati.ms timed out. (connect timeout=4)'))\n"
          ]
        },
        {
          "output_type": "stream",
          "name": "stderr",
          "text": [
            "\rExtracting content:  81%|████████  | 1453/1797 [35:30<20:04,  3.50s/it]"
          ]
        },
        {
          "output_type": "stream",
          "name": "stdout",
          "text": [
            "Error fetching content: HTTPConnectionPool(host='lati.ms', port=80): Max retries exceeded with url: /mQYBR (Caused by ConnectTimeoutError(<urllib3.connection.HTTPConnection object at 0x7c728e56b130>, 'Connection to lati.ms timed out. (connect timeout=4)'))\n"
          ]
        },
        {
          "output_type": "stream",
          "name": "stderr",
          "text": [
            "\rExtracting content:  81%|████████  | 1454/1797 [35:34<20:53,  3.65s/it]"
          ]
        },
        {
          "output_type": "stream",
          "name": "stdout",
          "text": [
            "Error fetching content: HTTPConnectionPool(host='lati.ms', port=80): Max retries exceeded with url: /mQukC (Caused by ConnectTimeoutError(<urllib3.connection.HTTPConnection object at 0x7c728e56b970>, 'Connection to lati.ms timed out. (connect timeout=4)'))\n"
          ]
        },
        {
          "output_type": "stream",
          "name": "stderr",
          "text": [
            "Extracting content:  81%|████████  | 1456/1797 [35:38<17:30,  3.08s/it]"
          ]
        },
        {
          "output_type": "stream",
          "name": "stdout",
          "text": [
            "Error fetching content: HTTPConnectionPool(host='lati.ms', port=80): Max retries exceeded with url: /mQmW5 (Caused by ConnectTimeoutError(<urllib3.connection.HTTPConnection object at 0x7c728df2f790>, 'Connection to lati.ms timed out. (connect timeout=4)'))\n"
          ]
        },
        {
          "output_type": "stream",
          "name": "stderr",
          "text": [
            "\rExtracting content:  81%|████████  | 1457/1797 [35:42<19:03,  3.36s/it]"
          ]
        },
        {
          "output_type": "stream",
          "name": "stdout",
          "text": [
            "Error fetching content: HTTPConnectionPool(host='lati.ms', port=80): Max retries exceeded with url: /mQvAM (Caused by ConnectTimeoutError(<urllib3.connection.HTTPConnection object at 0x7c728df2ffa0>, 'Connection to lati.ms timed out. (connect timeout=4)'))\n"
          ]
        },
        {
          "output_type": "stream",
          "name": "stderr",
          "text": [
            "\rExtracting content:  81%|████████  | 1458/1797 [35:46<20:08,  3.57s/it]"
          ]
        },
        {
          "output_type": "stream",
          "name": "stdout",
          "text": [
            "Error fetching content: HTTPConnectionPool(host='lati.ms', port=80): Max retries exceeded with url: /mQboV (Caused by ConnectTimeoutError(<urllib3.connection.HTTPConnection object at 0x7c728df6c850>, 'Connection to lati.ms timed out. (connect timeout=4)'))\n"
          ]
        },
        {
          "output_type": "stream",
          "name": "stderr",
          "text": [
            "\rExtracting content:  81%|████████  | 1459/1797 [35:50<20:50,  3.70s/it]"
          ]
        },
        {
          "output_type": "stream",
          "name": "stdout",
          "text": [
            "Error fetching content: HTTPConnectionPool(host='lati.ms', port=80): Max retries exceeded with url: /mQqmQ (Caused by ConnectTimeoutError(<urllib3.connection.HTTPConnection object at 0x7c728df6d090>, 'Connection to lati.ms timed out. (connect timeout=4)'))\n"
          ]
        },
        {
          "output_type": "stream",
          "name": "stderr",
          "text": [
            "\rExtracting content:  81%|████████  | 1460/1797 [35:54<21:18,  3.79s/it]"
          ]
        },
        {
          "output_type": "stream",
          "name": "stdout",
          "text": [
            "Error fetching content: HTTPConnectionPool(host='lati.ms', port=80): Max retries exceeded with url: /mQekN (Caused by ConnectTimeoutError(<urllib3.connection.HTTPConnection object at 0x7c728df6d8a0>, 'Connection to lati.ms timed out. (connect timeout=4)'))\n"
          ]
        },
        {
          "output_type": "stream",
          "name": "stderr",
          "text": [
            "\rExtracting content:  81%|████████▏ | 1461/1797 [35:58<21:36,  3.86s/it]"
          ]
        },
        {
          "output_type": "stream",
          "name": "stdout",
          "text": [
            "Error fetching content: HTTPConnectionPool(host='lati.ms', port=80): Max retries exceeded with url: /mQaQt (Caused by ConnectTimeoutError(<urllib3.connection.HTTPConnection object at 0x7c728df6e230>, 'Connection to lati.ms timed out. (connect timeout=4)'))\n"
          ]
        },
        {
          "output_type": "stream",
          "name": "stderr",
          "text": [
            "\rExtracting content:  81%|████████▏ | 1462/1797 [36:02<21:48,  3.90s/it]"
          ]
        },
        {
          "output_type": "stream",
          "name": "stdout",
          "text": [
            "Error fetching content: HTTPConnectionPool(host='lati.ms', port=80): Max retries exceeded with url: /mPPVX (Caused by ConnectTimeoutError(<urllib3.connection.HTTPConnection object at 0x7c728df2f820>, 'Connection to lati.ms timed out. (connect timeout=4)'))\n"
          ]
        },
        {
          "output_type": "stream",
          "name": "stderr",
          "text": [
            "\rExtracting content:  81%|████████▏ | 1463/1797 [36:03<15:39,  2.81s/it]"
          ]
        },
        {
          "output_type": "stream",
          "name": "stdout",
          "text": [
            "Error fetching content: 404 Client Error: Not Found for url: https://t.co/qfm%E2%80%A6\n"
          ]
        },
        {
          "output_type": "stream",
          "name": "stderr",
          "text": [
            "\rExtracting content:  81%|████████▏ | 1464/1797 [36:07<17:36,  3.17s/it]"
          ]
        },
        {
          "output_type": "stream",
          "name": "stdout",
          "text": [
            "Error fetching content: HTTPConnectionPool(host='lati.ms', port=80): Max retries exceeded with url: /mOz9X (Caused by ConnectTimeoutError(<urllib3.connection.HTTPConnection object at 0x7c728df2efe0>, 'Connection to lati.ms timed out. (connect timeout=4)'))\n"
          ]
        },
        {
          "output_type": "stream",
          "name": "stderr",
          "text": [
            "\rExtracting content:  82%|████████▏ | 1465/1797 [36:11<18:56,  3.42s/it]"
          ]
        },
        {
          "output_type": "stream",
          "name": "stdout",
          "text": [
            "Error fetching content: HTTPConnectionPool(host='lati.ms', port=80): Max retries exceeded with url: /mOzih (Caused by ConnectTimeoutError(<urllib3.connection.HTTPConnection object at 0x7c728df6d180>, 'Connection to lati.ms timed out. (connect timeout=4)'))\n"
          ]
        },
        {
          "output_type": "stream",
          "name": "stderr",
          "text": [
            "\rExtracting content:  82%|████████▏ | 1466/1797 [36:15<19:51,  3.60s/it]"
          ]
        },
        {
          "output_type": "stream",
          "name": "stdout",
          "text": [
            "Error fetching content: HTTPConnectionPool(host='lati.ms', port=80): Max retries exceeded with url: /mOunv (Caused by ConnectTimeoutError(<urllib3.connection.HTTPConnection object at 0x7c728df6c940>, 'Connection to lati.ms timed out. (connect timeout=4)'))\n"
          ]
        },
        {
          "output_type": "stream",
          "name": "stderr",
          "text": [
            "\rExtracting content:  82%|████████▏ | 1467/1797 [36:19<21:21,  3.88s/it]"
          ]
        },
        {
          "output_type": "stream",
          "name": "stdout",
          "text": [
            "Error fetching content: HTTPConnectionPool(host='lati.ms', port=80): Max retries exceeded with url: /mOucH (Caused by ConnectTimeoutError(<urllib3.connection.HTTPConnection object at 0x7c728df6c1f0>, 'Connection to lati.ms timed out. (connect timeout=4)'))\n"
          ]
        },
        {
          "output_type": "stream",
          "name": "stderr",
          "text": [
            "Extracting content:  82%|████████▏ | 1469/1797 [36:24<17:34,  3.22s/it]"
          ]
        },
        {
          "output_type": "stream",
          "name": "stdout",
          "text": [
            "Error fetching content: HTTPConnectionPool(host='lati.ms', port=80): Max retries exceeded with url: /mOiJU (Caused by ConnectTimeoutError(<urllib3.connection.HTTPConnection object at 0x7c728db00670>, 'Connection to lati.ms timed out. (connect timeout=4)'))\n"
          ]
        },
        {
          "output_type": "stream",
          "name": "stderr",
          "text": [
            "\rExtracting content:  82%|████████▏ | 1470/1797 [36:28<18:49,  3.46s/it]"
          ]
        },
        {
          "output_type": "stream",
          "name": "stdout",
          "text": [
            "Error fetching content: HTTPConnectionPool(host='lati.ms', port=80): Max retries exceeded with url: /mOiDc (Caused by ConnectTimeoutError(<urllib3.connection.HTTPConnection object at 0x7c728db00d90>, 'Connection to lati.ms timed out. (connect timeout=4)'))\n"
          ]
        },
        {
          "output_type": "stream",
          "name": "stderr",
          "text": [
            "\rExtracting content:  82%|████████▏ | 1471/1797 [36:32<19:40,  3.62s/it]"
          ]
        },
        {
          "output_type": "stream",
          "name": "stdout",
          "text": [
            "Error fetching content: HTTPConnectionPool(host='lati.ms', port=80): Max retries exceeded with url: /mNLlN (Caused by ConnectTimeoutError(<urllib3.connection.HTTPConnection object at 0x7c728db015d0>, 'Connection to lati.ms timed out. (connect timeout=4)'))\n"
          ]
        },
        {
          "output_type": "stream",
          "name": "stderr",
          "text": [
            "\rExtracting content:  82%|████████▏ | 1472/1797 [36:36<20:15,  3.74s/it]"
          ]
        },
        {
          "output_type": "stream",
          "name": "stdout",
          "text": [
            "Error fetching content: HTTPConnectionPool(host='lati.ms', port=80): Max retries exceeded with url: /mNK04 (Caused by ConnectTimeoutError(<urllib3.connection.HTTPConnection object at 0x7c728db01e10>, 'Connection to lati.ms timed out. (connect timeout=4)'))\n"
          ]
        },
        {
          "output_type": "stream",
          "name": "stderr",
          "text": [
            "\rExtracting content:  82%|████████▏ | 1473/1797 [36:40<20:37,  3.82s/it]"
          ]
        },
        {
          "output_type": "stream",
          "name": "stdout",
          "text": [
            "Error fetching content: HTTPConnectionPool(host='lati.ms', port=80): Max retries exceeded with url: /mNza9 (Caused by ConnectTimeoutError(<urllib3.connection.HTTPConnection object at 0x7c728db027d0>, 'Connection to lati.ms timed out. (connect timeout=4)'))\n"
          ]
        },
        {
          "output_type": "stream",
          "name": "stderr",
          "text": [
            "Extracting content:  82%|████████▏ | 1475/1797 [36:44<17:16,  3.22s/it]"
          ]
        },
        {
          "output_type": "stream",
          "name": "stdout",
          "text": [
            "Error fetching content: HTTPConnectionPool(host='lati.ms', port=80): Max retries exceeded with url: /mMd5F (Caused by ConnectTimeoutError(<urllib3.connection.HTTPConnection object at 0x7c728db00280>, 'Connection to lati.ms timed out. (connect timeout=4)'))\n"
          ]
        },
        {
          "output_type": "stream",
          "name": "stderr",
          "text": [
            "\rExtracting content:  82%|████████▏ | 1476/1797 [36:49<18:32,  3.46s/it]"
          ]
        },
        {
          "output_type": "stream",
          "name": "stdout",
          "text": [
            "Error fetching content: HTTPConnectionPool(host='lati.ms', port=80): Max retries exceeded with url: /mM0Ow (Caused by ConnectTimeoutError(<urllib3.connection.HTTPConnection object at 0x7c728db00f70>, 'Connection to lati.ms timed out. (connect timeout=4)'))\n"
          ]
        },
        {
          "output_type": "stream",
          "name": "stderr",
          "text": [
            "\rExtracting content:  82%|████████▏ | 1477/1797 [36:53<19:21,  3.63s/it]"
          ]
        },
        {
          "output_type": "stream",
          "name": "stdout",
          "text": [
            "Error fetching content: HTTPConnectionPool(host='lati.ms', port=80): Max retries exceeded with url: /mLZvJ (Caused by ConnectTimeoutError(<urllib3.connection.HTTPConnection object at 0x7c728db01bd0>, 'Connection to lati.ms timed out. (connect timeout=4)'))\n"
          ]
        },
        {
          "output_type": "stream",
          "name": "stderr",
          "text": [
            "\rExtracting content:  82%|████████▏ | 1478/1797 [36:53<14:45,  2.78s/it]"
          ]
        },
        {
          "output_type": "stream",
          "name": "stdout",
          "text": [
            "Error fetching content: Failed to parse: http://t.co…\n"
          ]
        },
        {
          "output_type": "stream",
          "name": "stderr",
          "text": [
            "\rExtracting content:  82%|████████▏ | 1480/1797 [36:57<12:47,  2.42s/it]"
          ]
        },
        {
          "output_type": "stream",
          "name": "stdout",
          "text": [
            "Error fetching content: HTTPConnectionPool(host='lati.ms', port=80): Max retries exceeded with url: /mLYaW (Caused by ConnectTimeoutError(<urllib3.connection.HTTPConnection object at 0x7c728db03b80>, 'Connection to lati.ms timed out. (connect timeout=4)'))\n"
          ]
        },
        {
          "output_type": "stream",
          "name": "stderr",
          "text": [
            "Extracting content:  82%|████████▏ | 1482/1797 [37:02<13:07,  2.50s/it]"
          ]
        },
        {
          "output_type": "stream",
          "name": "stdout",
          "text": [
            "Error fetching content: HTTPConnectionPool(host='lati.ms', port=80): Max retries exceeded with url: /mLWG2 (Caused by ConnectTimeoutError(<urllib3.connection.HTTPConnection object at 0x7c728d50c670>, 'Connection to lati.ms timed out. (connect timeout=4)'))\n"
          ]
        },
        {
          "output_type": "stream",
          "name": "stderr",
          "text": [
            "\rExtracting content:  83%|████████▎ | 1483/1797 [37:06<15:14,  2.91s/it]"
          ]
        },
        {
          "output_type": "stream",
          "name": "stdout",
          "text": [
            "Error fetching content: HTTPConnectionPool(host='lati.ms', port=80): Max retries exceeded with url: /mLqM8 (Caused by ConnectTimeoutError(<urllib3.connection.HTTPConnection object at 0x7c728d50ceb0>, 'Connection to lati.ms timed out. (connect timeout=4)'))\n"
          ]
        },
        {
          "output_type": "stream",
          "name": "stderr",
          "text": [
            "\rExtracting content:  83%|████████▎ | 1484/1797 [37:10<16:47,  3.22s/it]"
          ]
        },
        {
          "output_type": "stream",
          "name": "stdout",
          "text": [
            "Error fetching content: HTTPConnectionPool(host='lati.ms', port=80): Max retries exceeded with url: /mJVN7 (Caused by ConnectTimeoutError(<urllib3.connection.HTTPConnection object at 0x7c728d50d7e0>, 'Connection to lati.ms timed out. (connect timeout=4)'))\n"
          ]
        },
        {
          "output_type": "stream",
          "name": "stderr",
          "text": [
            "Extracting content:  83%|████████▎ | 1487/1797 [37:15<13:19,  2.58s/it]"
          ]
        },
        {
          "output_type": "stream",
          "name": "stdout",
          "text": [
            "Error fetching content: HTTPConnectionPool(host='lati.ms', port=80): Max retries exceeded with url: /mJWeO (Caused by ConnectTimeoutError(<urllib3.connection.HTTPConnection object at 0x7c728d50d2d0>, 'Connection to lati.ms timed out. (connect timeout=4)'))\n"
          ]
        },
        {
          "output_type": "stream",
          "name": "stderr",
          "text": [
            "\rExtracting content:  83%|████████▎ | 1488/1797 [37:19<15:30,  3.01s/it]"
          ]
        },
        {
          "output_type": "stream",
          "name": "stdout",
          "text": [
            "Error fetching content: HTTPConnectionPool(host='lati.ms', port=80): Max retries exceeded with url: /mIn89 (Caused by ConnectTimeoutError(<urllib3.connection.HTTPConnection object at 0x7c728d50d810>, 'Connection to lati.ms timed out. (connect timeout=4)'))\n"
          ]
        },
        {
          "output_type": "stream",
          "name": "stderr",
          "text": [
            "\rExtracting content:  83%|████████▎ | 1489/1797 [37:23<16:58,  3.31s/it]"
          ]
        },
        {
          "output_type": "stream",
          "name": "stdout",
          "text": [
            "Error fetching content: HTTPConnectionPool(host='lati.ms', port=80): Max retries exceeded with url: /mInq2 (Caused by ConnectTimeoutError(<urllib3.connection.HTTPConnection object at 0x7c728d50db70>, 'Connection to lati.ms timed out. (connect timeout=4)'))\n"
          ]
        },
        {
          "output_type": "stream",
          "name": "stderr",
          "text": [
            "\rExtracting content:  83%|████████▎ | 1490/1797 [37:27<17:59,  3.52s/it]"
          ]
        },
        {
          "output_type": "stream",
          "name": "stdout",
          "text": [
            "Error fetching content: HTTPConnectionPool(host='lati.ms', port=80): Max retries exceeded with url: /mIn1o (Caused by ConnectTimeoutError(<urllib3.connection.HTTPConnection object at 0x7c728d50cdc0>, 'Connection to lati.ms timed out. (connect timeout=4)'))\n"
          ]
        },
        {
          "output_type": "stream",
          "name": "stderr",
          "text": [
            "\rExtracting content:  83%|████████▎ | 1491/1797 [37:31<18:41,  3.66s/it]"
          ]
        },
        {
          "output_type": "stream",
          "name": "stdout",
          "text": [
            "Error fetching content: HTTPConnectionPool(host='lati.ms', port=80): Max retries exceeded with url: /mIm1q (Caused by ConnectTimeoutError(<urllib3.connection.HTTPConnection object at 0x7c728d50c580>, 'Connection to lati.ms timed out. (connect timeout=4)'))\n"
          ]
        },
        {
          "output_type": "stream",
          "name": "stderr",
          "text": [
            "\rExtracting content:  83%|████████▎ | 1492/1797 [37:35<19:09,  3.77s/it]"
          ]
        },
        {
          "output_type": "stream",
          "name": "stdout",
          "text": [
            "Error fetching content: HTTPConnectionPool(host='lati.ms', port=80): Max retries exceeded with url: /mIktC (Caused by ConnectTimeoutError(<urllib3.connection.HTTPConnection object at 0x7c728d50ee90>, 'Connection to lati.ms timed out. (connect timeout=4)'))\n"
          ]
        },
        {
          "output_type": "stream",
          "name": "stderr",
          "text": [
            "\rExtracting content:  83%|████████▎ | 1493/1797 [37:39<19:27,  3.84s/it]"
          ]
        },
        {
          "output_type": "stream",
          "name": "stdout",
          "text": [
            "Error fetching content: HTTPConnectionPool(host='lati.ms', port=80): Max retries exceeded with url: /mHxCI (Caused by ConnectTimeoutError(<urllib3.connection.HTTPConnection object at 0x7c728d95c340>, 'Connection to lati.ms timed out. (connect timeout=4)'))\n"
          ]
        },
        {
          "output_type": "stream",
          "name": "stderr",
          "text": [
            "\rExtracting content:  83%|████████▎ | 1494/1797 [37:43<19:39,  3.89s/it]"
          ]
        },
        {
          "output_type": "stream",
          "name": "stdout",
          "text": [
            "Error fetching content: HTTPConnectionPool(host='lati.ms', port=80): Max retries exceeded with url: /mIkea (Caused by ConnectTimeoutError(<urllib3.connection.HTTPConnection object at 0x7c728d50c3d0>, 'Connection to lati.ms timed out. (connect timeout=4)'))\n"
          ]
        },
        {
          "output_type": "stream",
          "name": "stderr",
          "text": [
            "Extracting content:  83%|████████▎ | 1496/1797 [37:48<16:26,  3.28s/it]"
          ]
        },
        {
          "output_type": "stream",
          "name": "stdout",
          "text": [
            "Error fetching content: HTTPConnectionPool(host='lati.ms', port=80): Max retries exceeded with url: /mHFUR (Caused by ConnectTimeoutError(<urllib3.connection.HTTPConnection object at 0x7c728d50f9d0>, 'Connection to lati.ms timed out. (connect timeout=4)'))\n"
          ]
        },
        {
          "output_type": "stream",
          "name": "stderr",
          "text": [
            "\rExtracting content:  83%|████████▎ | 1497/1797 [37:53<18:22,  3.68s/it]"
          ]
        },
        {
          "output_type": "stream",
          "name": "stdout",
          "text": [
            "Error fetching content: HTTPConnectionPool(host='lati.ms', port=80): Max retries exceeded with url: /mHDQ8 (Caused by ConnectTimeoutError(<urllib3.connection.HTTPConnection object at 0x7c728d360220>, 'Connection to lati.ms timed out. (connect timeout=4)'))\n"
          ]
        },
        {
          "output_type": "stream",
          "name": "stderr",
          "text": [
            "\rExtracting content:  83%|████████▎ | 1498/1797 [37:57<18:49,  3.78s/it]"
          ]
        },
        {
          "output_type": "stream",
          "name": "stdout",
          "text": [
            "Error fetching content: HTTPConnectionPool(host='lati.ms', port=80): Max retries exceeded with url: /mHmLW (Caused by ConnectTimeoutError(<urllib3.connection.HTTPConnection object at 0x7c728d360a90>, 'Connection to lati.ms timed out. (connect timeout=4)'))\n"
          ]
        },
        {
          "output_type": "stream",
          "name": "stderr",
          "text": [
            "\rExtracting content:  83%|████████▎ | 1499/1797 [38:01<19:06,  3.85s/it]"
          ]
        },
        {
          "output_type": "stream",
          "name": "stdout",
          "text": [
            "Error fetching content: HTTPConnectionPool(host='lati.ms', port=80): Max retries exceeded with url: /mHmzi (Caused by ConnectTimeoutError(<urllib3.connection.HTTPConnection object at 0x7c728d3613c0>, 'Connection to lati.ms timed out. (connect timeout=4)'))\n"
          ]
        },
        {
          "output_type": "stream",
          "name": "stderr",
          "text": [
            "Extracting content:  84%|████████▎ | 1501/1797 [38:05<13:37,  2.76s/it]"
          ]
        },
        {
          "output_type": "stream",
          "name": "stdout",
          "text": [
            "Error fetching content: HTTPConnectionPool(host='lati.ms', port=80): Max retries exceeded with url: /mFPDB (Caused by ConnectTimeoutError(<urllib3.connection.HTTPConnection object at 0x7c728d361c00>, 'Connection to lati.ms timed out. (connect timeout=4)'))\n",
            "Error fetching content: 404 Client Error: Not Found for url: http://pbs.twimg.com/media/BOVncpSCYAAzNqC.jpg\n"
          ]
        },
        {
          "output_type": "stream",
          "name": "stderr",
          "text": [
            "\rExtracting content:  84%|████████▎ | 1502/1797 [38:09<15:25,  3.14s/it]"
          ]
        },
        {
          "output_type": "stream",
          "name": "stdout",
          "text": [
            "Error fetching content: HTTPConnectionPool(host='lati.ms', port=80): Max retries exceeded with url: /mE6BP (Caused by ConnectTimeoutError(<urllib3.connection.HTTPConnection object at 0x7c728d50fb20>, 'Connection to lati.ms timed out. (connect timeout=4)'))\n"
          ]
        },
        {
          "output_type": "stream",
          "name": "stderr",
          "text": [
            "\rExtracting content:  84%|████████▎ | 1503/1797 [38:13<16:39,  3.40s/it]"
          ]
        },
        {
          "output_type": "stream",
          "name": "stdout",
          "text": [
            "Error fetching content: HTTPConnectionPool(host='lati.ms', port=80): Max retries exceeded with url: /mE83z (Caused by ConnectTimeoutError(<urllib3.connection.HTTPConnection object at 0x7c728d360df0>, 'Connection to lati.ms timed out. (connect timeout=4)'))\n",
            "Error fetching content: Failed to parse: http://…\n",
            "Error fetching content: Failed to parse: http://t.…\n"
          ]
        },
        {
          "output_type": "stream",
          "name": "stderr",
          "text": [
            "\rExtracting content:  84%|████████▍ | 1506/1797 [38:17<10:51,  2.24s/it]"
          ]
        },
        {
          "output_type": "stream",
          "name": "stdout",
          "text": [
            "Error fetching content: HTTPConnectionPool(host='lati.ms', port=80): Max retries exceeded with url: /mDROA (Caused by ConnectTimeoutError(<urllib3.connection.HTTPConnection object at 0x7c728d360520>, 'Connection to lati.ms timed out. (connect timeout=4)'))\n"
          ]
        },
        {
          "output_type": "stream",
          "name": "stderr",
          "text": [
            "\rExtracting content:  84%|████████▍ | 1507/1797 [38:21<12:38,  2.61s/it]"
          ]
        },
        {
          "output_type": "stream",
          "name": "stdout",
          "text": [
            "Error fetching content: HTTPConnectionPool(host='lati.ms', port=80): Max retries exceeded with url: /mDQeP (Caused by ConnectTimeoutError(<urllib3.connection.HTTPConnection object at 0x7c728d3601c0>, 'Connection to lati.ms timed out. (connect timeout=4)'))\n"
          ]
        },
        {
          "output_type": "stream",
          "name": "stderr",
          "text": [
            "\rExtracting content:  84%|████████▍ | 1508/1797 [38:21<09:57,  2.07s/it]"
          ]
        },
        {
          "output_type": "stream",
          "name": "stdout",
          "text": [
            "Error fetching content: 404 Client Error: Not Found for url: https://t.co/8%E2%80%A6\n"
          ]
        },
        {
          "output_type": "stream",
          "name": "stderr",
          "text": [
            "\rExtracting content:  84%|████████▍ | 1509/1797 [38:25<12:15,  2.55s/it]"
          ]
        },
        {
          "output_type": "stream",
          "name": "stdout",
          "text": [
            "Error fetching content: HTTPConnectionPool(host='lati.ms', port=80): Max retries exceeded with url: /mDIKg (Caused by ConnectTimeoutError(<urllib3.connection.HTTPConnection object at 0x7c728d50f040>, 'Connection to lati.ms timed out. (connect timeout=4)'))\n"
          ]
        },
        {
          "output_type": "stream",
          "name": "stderr",
          "text": [
            "\rExtracting content:  84%|████████▍ | 1510/1797 [38:29<14:02,  2.94s/it]"
          ]
        },
        {
          "output_type": "stream",
          "name": "stdout",
          "text": [
            "Error fetching content: HTTPConnectionPool(host='lati.ms', port=80): Max retries exceeded with url: /mDm3n (Caused by ConnectTimeoutError(<urllib3.connection.HTTPConnection object at 0x7c728d362560>, 'Connection to lati.ms timed out. (connect timeout=4)'))\n"
          ]
        },
        {
          "output_type": "stream",
          "name": "stderr",
          "text": [
            "\rExtracting content:  84%|████████▍ | 1511/1797 [38:33<15:23,  3.23s/it]"
          ]
        },
        {
          "output_type": "stream",
          "name": "stdout",
          "text": [
            "Error fetching content: HTTPConnectionPool(host='lati.ms', port=80): Max retries exceeded with url: /mDexp (Caused by ConnectTimeoutError(<urllib3.connection.HTTPConnection object at 0x7c728d362710>, 'Connection to lati.ms timed out. (connect timeout=4)'))\n"
          ]
        },
        {
          "output_type": "stream",
          "name": "stderr",
          "text": [
            "\rExtracting content:  84%|████████▍ | 1512/1797 [38:37<16:23,  3.45s/it]"
          ]
        },
        {
          "output_type": "stream",
          "name": "stdout",
          "text": [
            "Error fetching content: HTTPConnectionPool(host='lati.ms', port=80): Max retries exceeded with url: /mDbGV (Caused by ConnectTimeoutError(<urllib3.connection.HTTPConnection object at 0x7c728d3603a0>, 'Connection to lati.ms timed out. (connect timeout=4)'))\n"
          ]
        },
        {
          "output_type": "stream",
          "name": "stderr",
          "text": [
            "Extracting content:  84%|████████▍ | 1514/1797 [38:42<14:36,  3.10s/it]"
          ]
        },
        {
          "output_type": "stream",
          "name": "stdout",
          "text": [
            "Error fetching content: HTTPConnectionPool(host='lati.ms', port=80): Max retries exceeded with url: /mBLcO (Caused by ConnectTimeoutError(<urllib3.connection.HTTPConnection object at 0x7c728d50f070>, 'Connection to lati.ms timed out. (connect timeout=4)'))\n"
          ]
        },
        {
          "output_type": "stream",
          "name": "stderr",
          "text": [
            "\rExtracting content:  84%|████████▍ | 1515/1797 [38:46<15:49,  3.37s/it]"
          ]
        },
        {
          "output_type": "stream",
          "name": "stdout",
          "text": [
            "Error fetching content: HTTPConnectionPool(host='lati.ms', port=80): Max retries exceeded with url: /mBK9W (Caused by ConnectTimeoutError(<urllib3.connection.HTTPConnection object at 0x7c728d368250>, 'Connection to lati.ms timed out. (connect timeout=4)'))\n"
          ]
        },
        {
          "output_type": "stream",
          "name": "stderr",
          "text": [
            "\rExtracting content:  84%|████████▍ | 1516/1797 [38:50<16:39,  3.56s/it]"
          ]
        },
        {
          "output_type": "stream",
          "name": "stdout",
          "text": [
            "Error fetching content: HTTPConnectionPool(host='lati.ms', port=80): Max retries exceeded with url: /mBG4g (Caused by ConnectTimeoutError(<urllib3.connection.HTTPConnection object at 0x7c728d368a60>, 'Connection to lati.ms timed out. (connect timeout=4)'))\n"
          ]
        },
        {
          "output_type": "stream",
          "name": "stderr",
          "text": [
            "\rExtracting content:  84%|████████▍ | 1517/1797 [38:54<17:13,  3.69s/it]"
          ]
        },
        {
          "output_type": "stream",
          "name": "stdout",
          "text": [
            "Error fetching content: HTTPConnectionPool(host='lati.ms', port=80): Max retries exceeded with url: /mBBkX (Caused by ConnectTimeoutError(<urllib3.connection.HTTPConnection object at 0x7c728d369420>, 'Connection to lati.ms timed out. (connect timeout=4)'))\n"
          ]
        },
        {
          "output_type": "stream",
          "name": "stderr",
          "text": [
            "\rExtracting content:  84%|████████▍ | 1518/1797 [38:58<17:43,  3.81s/it]"
          ]
        },
        {
          "output_type": "stream",
          "name": "stdout",
          "text": [
            "Error fetching content: HTTPConnectionPool(host='lati.ms', port=80): Max retries exceeded with url: /mBxJa (Caused by ConnectTimeoutError(<urllib3.connection.HTTPConnection object at 0x7c728d369c90>, 'Connection to lati.ms timed out. (connect timeout=4)'))\n"
          ]
        },
        {
          "output_type": "stream",
          "name": "stderr",
          "text": [
            "\rExtracting content:  85%|████████▍ | 1519/1797 [39:02<17:56,  3.87s/it]"
          ]
        },
        {
          "output_type": "stream",
          "name": "stdout",
          "text": [
            "Error fetching content: HTTPConnectionPool(host='lati.ms', port=80): Max retries exceeded with url: /mB0Ty (Caused by ConnectTimeoutError(<urllib3.connection.HTTPConnection object at 0x7c728d50f040>, 'Connection to lati.ms timed out. (connect timeout=4)'))\n"
          ]
        },
        {
          "output_type": "stream",
          "name": "stderr",
          "text": [
            "\rExtracting content:  85%|████████▍ | 1520/1797 [39:07<18:03,  3.91s/it]"
          ]
        },
        {
          "output_type": "stream",
          "name": "stdout",
          "text": [
            "Error fetching content: HTTPConnectionPool(host='lati.ms', port=80): Max retries exceeded with url: /mB4w6 (Caused by ConnectTimeoutError(<urllib3.connection.HTTPConnection object at 0x7c728d369150>, 'Connection to lati.ms timed out. (connect timeout=4)'))\n"
          ]
        },
        {
          "output_type": "stream",
          "name": "stderr",
          "text": [
            "Extracting content:  85%|████████▍ | 1522/1797 [39:11<15:01,  3.28s/it]"
          ]
        },
        {
          "output_type": "stream",
          "name": "stdout",
          "text": [
            "Error fetching content: HTTPConnectionPool(host='lati.ms', port=80): Max retries exceeded with url: /mAPel (Caused by ConnectTimeoutError(<urllib3.connection.HTTPConnection object at 0x7c728d36ae90>, 'Connection to lati.ms timed out. (connect timeout=4)'))\n"
          ]
        },
        {
          "output_type": "stream",
          "name": "stderr",
          "text": [
            "\rExtracting content:  85%|████████▍ | 1523/1797 [39:15<15:58,  3.50s/it]"
          ]
        },
        {
          "output_type": "stream",
          "name": "stdout",
          "text": [
            "Error fetching content: HTTPConnectionPool(host='lati.ms', port=80): Max retries exceeded with url: /mAHiN (Caused by ConnectTimeoutError(<urllib3.connection.HTTPConnection object at 0x7c728d36b5b0>, 'Connection to lati.ms timed out. (connect timeout=4)'))\n"
          ]
        },
        {
          "output_type": "stream",
          "name": "stderr",
          "text": [
            "\rExtracting content:  85%|████████▍ | 1524/1797 [39:19<16:36,  3.65s/it]"
          ]
        },
        {
          "output_type": "stream",
          "name": "stdout",
          "text": [
            "Error fetching content: HTTPConnectionPool(host='lati.ms', port=80): Max retries exceeded with url: /mzg9W (Caused by ConnectTimeoutError(<urllib3.connection.HTTPConnection object at 0x7c728d36bdc0>, 'Connection to lati.ms timed out. (connect timeout=4)'))\n"
          ]
        },
        {
          "output_type": "stream",
          "name": "stderr",
          "text": [
            "\rExtracting content:  85%|████████▍ | 1525/1797 [39:23<17:02,  3.76s/it]"
          ]
        },
        {
          "output_type": "stream",
          "name": "stdout",
          "text": [
            "Error fetching content: HTTPConnectionPool(host='lati.ms', port=80): Max retries exceeded with url: /mzfOA (Caused by ConnectTimeoutError(<urllib3.connection.HTTPConnection object at 0x7c728d3b4760>, 'Connection to lati.ms timed out. (connect timeout=4)'))\n"
          ]
        },
        {
          "output_type": "stream",
          "name": "stderr",
          "text": [
            "\rExtracting content:  85%|████████▍ | 1526/1797 [39:27<17:19,  3.84s/it]"
          ]
        },
        {
          "output_type": "stream",
          "name": "stdout",
          "text": [
            "Error fetching content: HTTPConnectionPool(host='lati.ms', port=80): Max retries exceeded with url: /mzgD0 (Caused by ConnectTimeoutError(<urllib3.connection.HTTPConnection object at 0x7c728d36b880>, 'Connection to lati.ms timed out. (connect timeout=4)'))\n"
          ]
        },
        {
          "output_type": "stream",
          "name": "stderr",
          "text": [
            "\rExtracting content:  85%|████████▍ | 1527/1797 [39:31<17:31,  3.89s/it]"
          ]
        },
        {
          "output_type": "stream",
          "name": "stdout",
          "text": [
            "Error fetching content: HTTPConnectionPool(host='lati.ms', port=80): Max retries exceeded with url: /mzfkE (Caused by ConnectTimeoutError(<urllib3.connection.HTTPConnection object at 0x7c728d36b100>, 'Connection to lati.ms timed out. (connect timeout=4)'))\n"
          ]
        },
        {
          "output_type": "stream",
          "name": "stderr",
          "text": [
            "\rExtracting content:  85%|████████▌ | 1528/1797 [39:35<17:37,  3.93s/it]"
          ]
        },
        {
          "output_type": "stream",
          "name": "stdout",
          "text": [
            "Error fetching content: HTTPConnectionPool(host='lati.ms', port=80): Max retries exceeded with url: /mze1v (Caused by ConnectTimeoutError(<urllib3.connection.HTTPConnection object at 0x7c728d36ac80>, 'Connection to lati.ms timed out. (connect timeout=4)'))\n"
          ]
        },
        {
          "output_type": "stream",
          "name": "stderr",
          "text": [
            "\rExtracting content:  85%|████████▌ | 1529/1797 [39:39<17:39,  3.95s/it]"
          ]
        },
        {
          "output_type": "stream",
          "name": "stdout",
          "text": [
            "Error fetching content: HTTPConnectionPool(host='lati.ms', port=80): Max retries exceeded with url: /myZip (Caused by ConnectTimeoutError(<urllib3.connection.HTTPConnection object at 0x7c728d3b5030>, 'Connection to lati.ms timed out. (connect timeout=4)'))\n"
          ]
        },
        {
          "output_type": "stream",
          "name": "stderr",
          "text": [
            "\rExtracting content:  85%|████████▌ | 1530/1797 [39:43<17:40,  3.97s/it]"
          ]
        },
        {
          "output_type": "stream",
          "name": "stdout",
          "text": [
            "Error fetching content: HTTPConnectionPool(host='lati.ms', port=80): Max retries exceeded with url: /myRAi (Caused by ConnectTimeoutError(<urllib3.connection.HTTPConnection object at 0x7c728d36ab90>, 'Connection to lati.ms timed out. (connect timeout=4)'))\n"
          ]
        },
        {
          "output_type": "stream",
          "name": "stderr",
          "text": [
            "\rExtracting content:  85%|████████▌ | 1531/1797 [39:47<17:40,  3.99s/it]"
          ]
        },
        {
          "output_type": "stream",
          "name": "stdout",
          "text": [
            "Error fetching content: HTTPConnectionPool(host='lati.ms', port=80): Max retries exceeded with url: /myBDq (Caused by ConnectTimeoutError(<urllib3.connection.HTTPConnection object at 0x7c728d36a890>, 'Connection to lati.ms timed out. (connect timeout=4)'))\n",
            "Error fetching content: Failed to parse: http://t.co…\n"
          ]
        },
        {
          "output_type": "stream",
          "name": "stderr",
          "text": [
            "Extracting content:  85%|████████▌ | 1534/1797 [39:52<11:55,  2.72s/it]"
          ]
        },
        {
          "output_type": "stream",
          "name": "stdout",
          "text": [
            "Error fetching content: HTTPConnectionPool(host='lati.ms', port=80): Max retries exceeded with url: /mwYeI (Caused by ConnectTimeoutError(<urllib3.connection.HTTPConnection object at 0x7c728d3b7b20>, 'Connection to lati.ms timed out. (connect timeout=4)'))\n"
          ]
        },
        {
          "output_type": "stream",
          "name": "stderr",
          "text": [
            "\rExtracting content:  85%|████████▌ | 1535/1797 [39:52<09:04,  2.08s/it]"
          ]
        },
        {
          "output_type": "stream",
          "name": "stdout",
          "text": [
            "Error fetching content: 404 Client Error: Not Found for url: http://www.attunefoods.com/blog/2013/06/unprocessed-foods-and-six-ways-to-have-a-happier-healthier-summer/\n"
          ]
        },
        {
          "output_type": "stream",
          "name": "stderr",
          "text": [
            "\rExtracting content:  85%|████████▌ | 1536/1797 [39:53<06:50,  1.57s/it]"
          ]
        },
        {
          "output_type": "stream",
          "name": "stdout",
          "text": [
            "Error fetching content: 404 Client Error: Not Found for url: https://t.co/cLr%E2%80%A6\n"
          ]
        },
        {
          "output_type": "stream",
          "name": "stderr",
          "text": [
            "\rExtracting content:  86%|████████▌ | 1537/1797 [39:57<09:46,  2.26s/it]"
          ]
        },
        {
          "output_type": "stream",
          "name": "stdout",
          "text": [
            "Error fetching content: HTTPConnectionPool(host='lati.ms', port=80): Max retries exceeded with url: /mwgnG (Caused by ConnectTimeoutError(<urllib3.connection.HTTPConnection object at 0x7c728d3b7d30>, 'Connection to lati.ms timed out. (connect timeout=4)'))\n"
          ]
        },
        {
          "output_type": "stream",
          "name": "stderr",
          "text": [
            "\rExtracting content:  86%|████████▌ | 1538/1797 [40:01<12:00,  2.78s/it]"
          ]
        },
        {
          "output_type": "stream",
          "name": "stdout",
          "text": [
            "Error fetching content: HTTPConnectionPool(host='lati.ms', port=80): Max retries exceeded with url: /mwevT (Caused by ConnectTimeoutError(<urllib3.connection.HTTPConnection object at 0x7c728d374460>, 'Connection to lati.ms timed out. (connect timeout=4)'))\n"
          ]
        },
        {
          "output_type": "stream",
          "name": "stderr",
          "text": [
            "Extracting content:  86%|████████▌ | 1540/1797 [40:05<11:39,  2.72s/it]"
          ]
        },
        {
          "output_type": "stream",
          "name": "stdout",
          "text": [
            "Error fetching content: HTTPConnectionPool(host='lati.ms', port=80): Max retries exceeded with url: /muMLU (Caused by ConnectTimeoutError(<urllib3.connection.HTTPConnection object at 0x7c728d3743a0>, 'Connection to lati.ms timed out. (connect timeout=4)'))\n"
          ]
        },
        {
          "output_type": "stream",
          "name": "stderr",
          "text": [
            "\rExtracting content:  86%|████████▌ | 1541/1797 [40:09<13:14,  3.10s/it]"
          ]
        },
        {
          "output_type": "stream",
          "name": "stdout",
          "text": [
            "Error fetching content: HTTPConnectionPool(host='lati.ms', port=80): Max retries exceeded with url: /mvnpD (Caused by ConnectTimeoutError(<urllib3.connection.HTTPConnection object at 0x7c728d376230>, 'Connection to lati.ms timed out. (connect timeout=4)'))\n"
          ]
        },
        {
          "output_type": "stream",
          "name": "stderr",
          "text": [
            "\rExtracting content:  86%|████████▌ | 1542/1797 [40:13<14:19,  3.37s/it]"
          ]
        },
        {
          "output_type": "stream",
          "name": "stdout",
          "text": [
            "Error fetching content: HTTPConnectionPool(host='lati.ms', port=80): Max retries exceeded with url: /muP5m (Caused by ConnectTimeoutError(<urllib3.connection.HTTPConnection object at 0x7c728d376a40>, 'Connection to lati.ms timed out. (connect timeout=4)'))\n"
          ]
        },
        {
          "output_type": "stream",
          "name": "stderr",
          "text": [
            "\rExtracting content:  86%|████████▌ | 1543/1797 [40:17<15:04,  3.56s/it]"
          ]
        },
        {
          "output_type": "stream",
          "name": "stdout",
          "text": [
            "Error fetching content: HTTPConnectionPool(host='lati.ms', port=80): Max retries exceeded with url: /muNJG (Caused by ConnectTimeoutError(<urllib3.connection.HTTPConnection object at 0x7c728d377280>, 'Connection to lati.ms timed out. (connect timeout=4)'))\n"
          ]
        },
        {
          "output_type": "stream",
          "name": "stderr",
          "text": [
            "\rExtracting content:  86%|████████▌ | 1544/1797 [40:21<15:35,  3.70s/it]"
          ]
        },
        {
          "output_type": "stream",
          "name": "stdout",
          "text": [
            "Error fetching content: HTTPConnectionPool(host='lati.ms', port=80): Max retries exceeded with url: /muNg7 (Caused by ConnectTimeoutError(<urllib3.connection.HTTPConnection object at 0x7c728d377160>, 'Connection to lati.ms timed out. (connect timeout=4)'))\n"
          ]
        },
        {
          "output_type": "stream",
          "name": "stderr",
          "text": [
            "\rExtracting content:  86%|████████▌ | 1545/1797 [40:25<15:55,  3.79s/it]"
          ]
        },
        {
          "output_type": "stream",
          "name": "stdout",
          "text": [
            "Error fetching content: HTTPConnectionPool(host='lati.ms', port=80): Max retries exceeded with url: /muLnI (Caused by ConnectTimeoutError(<urllib3.connection.HTTPConnection object at 0x7c728d376a10>, 'Connection to lati.ms timed out. (connect timeout=4)'))\n"
          ]
        },
        {
          "output_type": "stream",
          "name": "stderr",
          "text": [
            "\rExtracting content:  86%|████████▌ | 1546/1797 [40:29<16:08,  3.86s/it]"
          ]
        },
        {
          "output_type": "stream",
          "name": "stdout",
          "text": [
            "Error fetching content: HTTPConnectionPool(host='lati.ms', port=80): Max retries exceeded with url: /msAAt (Caused by ConnectTimeoutError(<urllib3.connection.HTTPConnection object at 0x7c728d376080>, 'Connection to lati.ms timed out. (connect timeout=4)'))\n"
          ]
        },
        {
          "output_type": "stream",
          "name": "stderr",
          "text": [
            "\rExtracting content:  86%|████████▌ | 1547/1797 [40:34<16:25,  3.94s/it]"
          ]
        },
        {
          "output_type": "stream",
          "name": "stdout",
          "text": [
            "Error fetching content: HTTPConnectionPool(host='lati.ms', port=80): Max retries exceeded with url: /muGwL (Caused by ConnectTimeoutError(<urllib3.connection.HTTPConnection object at 0x7c728d374ee0>, 'Connection to lati.ms timed out. (connect timeout=4)'))\n"
          ]
        },
        {
          "output_type": "stream",
          "name": "stderr",
          "text": [
            "\rExtracting content:  86%|████████▌ | 1548/1797 [40:34<11:44,  2.83s/it]"
          ]
        },
        {
          "output_type": "stream",
          "name": "stdout",
          "text": [
            "Error fetching content: 404 Client Error: Not Found for url: https://t.co/L%E2%80%A6\n"
          ]
        },
        {
          "output_type": "stream",
          "name": "stderr",
          "text": [
            "\rExtracting content:  86%|████████▌ | 1549/1797 [40:38<13:09,  3.18s/it]"
          ]
        },
        {
          "output_type": "stream",
          "name": "stdout",
          "text": [
            "Error fetching content: HTTPConnectionPool(host='lati.ms', port=80): Max retries exceeded with url: /muqWH (Caused by ConnectTimeoutError(<urllib3.connection.HTTPConnection object at 0x7c728d377820>, 'Connection to lati.ms timed out. (connect timeout=4)'))\n"
          ]
        },
        {
          "output_type": "stream",
          "name": "stderr",
          "text": [
            "\rExtracting content:  86%|████████▋ | 1550/1797 [40:42<14:07,  3.43s/it]"
          ]
        },
        {
          "output_type": "stream",
          "name": "stdout",
          "text": [
            "Error fetching content: HTTPConnectionPool(host='lati.ms', port=80): Max retries exceeded with url: /murF2 (Caused by ConnectTimeoutError(<urllib3.connection.HTTPConnection object at 0x7c728d3d8490>, 'Connection to lati.ms timed out. (connect timeout=4)'))\n"
          ]
        },
        {
          "output_type": "stream",
          "name": "stderr",
          "text": [
            "\rExtracting content:  86%|████████▋ | 1551/1797 [40:46<14:46,  3.61s/it]"
          ]
        },
        {
          "output_type": "stream",
          "name": "stdout",
          "text": [
            "Error fetching content: HTTPConnectionPool(host='lati.ms', port=80): Max retries exceeded with url: /muiPw (Caused by ConnectTimeoutError(<urllib3.connection.HTTPConnection object at 0x7c728d375120>, 'Connection to lati.ms timed out. (connect timeout=4)'))\n"
          ]
        },
        {
          "output_type": "stream",
          "name": "stderr",
          "text": [
            "\rExtracting content:  86%|████████▋ | 1552/1797 [40:50<15:13,  3.73s/it]"
          ]
        },
        {
          "output_type": "stream",
          "name": "stdout",
          "text": [
            "Error fetching content: HTTPConnectionPool(host='lati.ms', port=80): Max retries exceeded with url: /mspmJ (Caused by ConnectTimeoutError(<urllib3.connection.HTTPConnection object at 0x7c728d374520>, 'Connection to lati.ms timed out. (connect timeout=4)'))\n"
          ]
        },
        {
          "output_type": "stream",
          "name": "stderr",
          "text": [
            "\rExtracting content:  86%|████████▋ | 1553/1797 [40:54<15:30,  3.81s/it]"
          ]
        },
        {
          "output_type": "stream",
          "name": "stdout",
          "text": [
            "Error fetching content: HTTPConnectionPool(host='lati.ms', port=80): Max retries exceeded with url: /msAt8 (Caused by ConnectTimeoutError(<urllib3.connection.HTTPConnection object at 0x7c728d3764d0>, 'Connection to lati.ms timed out. (connect timeout=4)'))\n"
          ]
        },
        {
          "output_type": "stream",
          "name": "stderr",
          "text": [
            "\rExtracting content:  86%|████████▋ | 1554/1797 [40:58<15:41,  3.87s/it]"
          ]
        },
        {
          "output_type": "stream",
          "name": "stdout",
          "text": [
            "Error fetching content: HTTPConnectionPool(host='lati.ms', port=80): Max retries exceeded with url: /msvo8 (Caused by ConnectTimeoutError(<urllib3.connection.HTTPConnection object at 0x7c728d377550>, 'Connection to lati.ms timed out. (connect timeout=4)'))\n"
          ]
        },
        {
          "output_type": "stream",
          "name": "stderr",
          "text": [
            "\rExtracting content:  87%|████████▋ | 1555/1797 [41:02<15:47,  3.91s/it]"
          ]
        },
        {
          "output_type": "stream",
          "name": "stdout",
          "text": [
            "Error fetching content: HTTPConnectionPool(host='lati.ms', port=80): Max retries exceeded with url: /msqfI (Caused by ConnectTimeoutError(<urllib3.connection.HTTPConnection object at 0x7c728d3771f0>, 'Connection to lati.ms timed out. (connect timeout=4)'))\n"
          ]
        },
        {
          "output_type": "stream",
          "name": "stderr",
          "text": [
            "\rExtracting content:  87%|████████▋ | 1556/1797 [41:06<15:51,  3.95s/it]"
          ]
        },
        {
          "output_type": "stream",
          "name": "stdout",
          "text": [
            "Error fetching content: HTTPConnectionPool(host='lati.ms', port=80): Max retries exceeded with url: /msjRX (Caused by ConnectTimeoutError(<urllib3.connection.HTTPConnection object at 0x7c728d3767d0>, 'Connection to lati.ms timed out. (connect timeout=4)'))\n"
          ]
        },
        {
          "output_type": "stream",
          "name": "stderr",
          "text": [
            "Extracting content:  87%|████████▋ | 1558/1797 [41:11<13:17,  3.34s/it]"
          ]
        },
        {
          "output_type": "stream",
          "name": "stdout",
          "text": [
            "Error fetching content: HTTPConnectionPool(host='lati.ms', port=80): Max retries exceeded with url: /msawA (Caused by ConnectTimeoutError(<urllib3.connection.HTTPConnection object at 0x7c728d3b4cd0>, 'Connection to lati.ms timed out. (connect timeout=4)'))\n"
          ]
        },
        {
          "output_type": "stream",
          "name": "stderr",
          "text": [
            "\rExtracting content:  87%|████████▋ | 1559/1797 [41:12<10:19,  2.60s/it]"
          ]
        },
        {
          "output_type": "stream",
          "name": "stdout",
          "text": [
            "Error fetching content: 404 Client Error: Not Found for url: https://www.mayoclinic.org/news2013-rst/7543\n"
          ]
        },
        {
          "output_type": "stream",
          "name": "stderr",
          "text": [
            "\rExtracting content:  87%|████████▋ | 1560/1797 [41:16<11:57,  3.03s/it]"
          ]
        },
        {
          "output_type": "stream",
          "name": "stdout",
          "text": [
            "Error fetching content: HTTPConnectionPool(host='lati.ms', port=80): Max retries exceeded with url: /mrlje (Caused by ConnectTimeoutError(<urllib3.connection.HTTPConnection object at 0x7c728d3dafe0>, 'Connection to lati.ms timed out. (connect timeout=4)'))\n"
          ]
        },
        {
          "output_type": "stream",
          "name": "stderr",
          "text": [
            "\rExtracting content:  87%|████████▋ | 1561/1797 [41:20<13:04,  3.32s/it]"
          ]
        },
        {
          "output_type": "stream",
          "name": "stdout",
          "text": [
            "Error fetching content: HTTPConnectionPool(host='lati.ms', port=80): Max retries exceeded with url: /mqil8 (Caused by ConnectTimeoutError(<urllib3.connection.HTTPConnection object at 0x7c728d3db550>, 'Connection to lati.ms timed out. (connect timeout=4)'))\n"
          ]
        },
        {
          "output_type": "stream",
          "name": "stderr",
          "text": [
            "\rExtracting content:  87%|████████▋ | 1562/1797 [41:24<13:49,  3.53s/it]"
          ]
        },
        {
          "output_type": "stream",
          "name": "stdout",
          "text": [
            "Error fetching content: HTTPConnectionPool(host='lati.ms', port=80): Max retries exceeded with url: /mqhN1 (Caused by ConnectTimeoutError(<urllib3.connection.HTTPConnection object at 0x7c728d3b4f10>, 'Connection to lati.ms timed out. (connect timeout=4)'))\n"
          ]
        },
        {
          "output_type": "stream",
          "name": "stderr",
          "text": [
            "\rExtracting content:  87%|████████▋ | 1563/1797 [41:28<14:19,  3.67s/it]"
          ]
        },
        {
          "output_type": "stream",
          "name": "stdout",
          "text": [
            "Error fetching content: HTTPConnectionPool(host='lati.ms', port=80): Max retries exceeded with url: /mqh7x (Caused by ConnectTimeoutError(<urllib3.connection.HTTPConnection object at 0x7c728d3b4430>, 'Connection to lati.ms timed out. (connect timeout=4)'))\n"
          ]
        },
        {
          "output_type": "stream",
          "name": "stderr",
          "text": [
            "\rExtracting content:  87%|████████▋ | 1564/1797 [41:32<14:39,  3.78s/it]"
          ]
        },
        {
          "output_type": "stream",
          "name": "stdout",
          "text": [
            "Error fetching content: HTTPConnectionPool(host='lati.ms', port=80): Max retries exceeded with url: /mqgVO (Caused by ConnectTimeoutError(<urllib3.connection.HTTPConnection object at 0x7c728d3dace0>, 'Connection to lati.ms timed out. (connect timeout=4)'))\n"
          ]
        },
        {
          "output_type": "stream",
          "name": "stderr",
          "text": [
            "\rExtracting content:  87%|████████▋ | 1565/1797 [41:36<14:52,  3.85s/it]"
          ]
        },
        {
          "output_type": "stream",
          "name": "stdout",
          "text": [
            "Error fetching content: HTTPConnectionPool(host='lati.ms', port=80): Max retries exceeded with url: /mpNKp (Caused by ConnectTimeoutError(<urllib3.connection.HTTPConnection object at 0x7c728d3da3e0>, 'Connection to lati.ms timed out. (connect timeout=4)'))\n"
          ]
        },
        {
          "output_type": "stream",
          "name": "stderr",
          "text": [
            "\rExtracting content:  87%|████████▋ | 1566/1797 [41:40<15:05,  3.92s/it]"
          ]
        },
        {
          "output_type": "stream",
          "name": "stdout",
          "text": [
            "Error fetching content: HTTPConnectionPool(host='lati.ms', port=80): Max retries exceeded with url: /mpY1c (Caused by ConnectTimeoutError(<urllib3.connection.HTTPConnection object at 0x7c728d3dbd00>, 'Connection to lati.ms timed out. (connect timeout=4)'))\n"
          ]
        },
        {
          "output_type": "stream",
          "name": "stderr",
          "text": [
            "Extracting content:  87%|████████▋ | 1569/1797 [41:46<10:43,  2.82s/it]"
          ]
        },
        {
          "output_type": "stream",
          "name": "stdout",
          "text": [
            "Error fetching content: HTTPConnectionPool(host='lati.ms', port=80): Max retries exceeded with url: /mpz3U (Caused by ConnectTimeoutError(<urllib3.connection.HTTPConnection object at 0x7c728cd5e230>, 'Connection to lati.ms timed out. (connect timeout=4)'))\n"
          ]
        },
        {
          "output_type": "stream",
          "name": "stderr",
          "text": [
            "\rExtracting content:  87%|████████▋ | 1570/1797 [41:50<12:02,  3.18s/it]"
          ]
        },
        {
          "output_type": "stream",
          "name": "stdout",
          "text": [
            "Error fetching content: HTTPConnectionPool(host='lati.ms', port=80): Max retries exceeded with url: /mo7py (Caused by ConnectTimeoutError(<urllib3.connection.HTTPConnection object at 0x7c728cd5e950>, 'Connection to lati.ms timed out. (connect timeout=4)'))\n"
          ]
        },
        {
          "output_type": "stream",
          "name": "stderr",
          "text": [
            "\rExtracting content:  87%|████████▋ | 1571/1797 [41:54<12:55,  3.43s/it]"
          ]
        },
        {
          "output_type": "stream",
          "name": "stdout",
          "text": [
            "Error fetching content: HTTPConnectionPool(host='lati.ms', port=80): Max retries exceeded with url: /mo77C (Caused by ConnectTimeoutError(<urllib3.connection.HTTPConnection object at 0x7c728cd5f190>, 'Connection to lati.ms timed out. (connect timeout=4)'))\n"
          ]
        },
        {
          "output_type": "stream",
          "name": "stderr",
          "text": [
            "Extracting content:  88%|████████▊ | 1573/1797 [41:58<11:18,  3.03s/it]"
          ]
        },
        {
          "output_type": "stream",
          "name": "stdout",
          "text": [
            "Error fetching content: HTTPConnectionPool(host='lati.ms', port=80): Max retries exceeded with url: /mo0NK (Caused by ConnectTimeoutError(<urllib3.connection.HTTPConnection object at 0x7c728cc8ba30>, 'Connection to lati.ms timed out. (connect timeout=4)'))\n"
          ]
        },
        {
          "output_type": "stream",
          "name": "stderr",
          "text": [
            "\rExtracting content:  88%|████████▊ | 1574/1797 [42:02<12:21,  3.32s/it]"
          ]
        },
        {
          "output_type": "stream",
          "name": "stdout",
          "text": [
            "Error fetching content: HTTPConnectionPool(host='lati.ms', port=80): Max retries exceeded with url: /mnZfF (Caused by ConnectTimeoutError(<urllib3.connection.HTTPConnection object at 0x7c728ccc0190>, 'Connection to lati.ms timed out. (connect timeout=4)'))\n"
          ]
        },
        {
          "output_type": "stream",
          "name": "stderr",
          "text": [
            "\rExtracting content:  88%|████████▊ | 1575/1797 [42:06<13:03,  3.53s/it]"
          ]
        },
        {
          "output_type": "stream",
          "name": "stdout",
          "text": [
            "Error fetching content: HTTPConnectionPool(host='lati.ms', port=80): Max retries exceeded with url: /mnvco (Caused by ConnectTimeoutError(<urllib3.connection.HTTPConnection object at 0x7c728cc8b1c0>, 'Connection to lati.ms timed out. (connect timeout=4)'))\n"
          ]
        },
        {
          "output_type": "stream",
          "name": "stderr",
          "text": [
            "\rExtracting content:  88%|████████▊ | 1576/1797 [42:10<13:33,  3.68s/it]"
          ]
        },
        {
          "output_type": "stream",
          "name": "stdout",
          "text": [
            "Error fetching content: HTTPConnectionPool(host='lati.ms', port=80): Max retries exceeded with url: /mnpJo (Caused by ConnectTimeoutError(<urllib3.connection.HTTPConnection object at 0x7c728ccc09a0>, 'Connection to lati.ms timed out. (connect timeout=4)'))\n"
          ]
        },
        {
          "output_type": "stream",
          "name": "stderr",
          "text": [
            "\rExtracting content:  88%|████████▊ | 1577/1797 [42:14<13:51,  3.78s/it]"
          ]
        },
        {
          "output_type": "stream",
          "name": "stdout",
          "text": [
            "Error fetching content: HTTPConnectionPool(host='lati.ms', port=80): Max retries exceeded with url: /mniM0 (Caused by ConnectTimeoutError(<urllib3.connection.HTTPConnection object at 0x7c728ccc12d0>, 'Connection to lati.ms timed out. (connect timeout=4)'))\n"
          ]
        },
        {
          "output_type": "stream",
          "name": "stderr",
          "text": [
            "\rExtracting content:  88%|████████▊ | 1578/1797 [42:18<14:03,  3.85s/it]"
          ]
        },
        {
          "output_type": "stream",
          "name": "stdout",
          "text": [
            "Error fetching content: HTTPConnectionPool(host='lati.ms', port=80): Max retries exceeded with url: /mlCz1 (Caused by ConnectTimeoutError(<urllib3.connection.HTTPConnection object at 0x7c728ccc1b10>, 'Connection to lati.ms timed out. (connect timeout=4)'))\n"
          ]
        },
        {
          "output_type": "stream",
          "name": "stderr",
          "text": [
            "\rExtracting content:  88%|████████▊ | 1579/1797 [42:22<14:10,  3.90s/it]"
          ]
        },
        {
          "output_type": "stream",
          "name": "stdout",
          "text": [
            "Error fetching content: HTTPConnectionPool(host='lati.ms', port=80): Max retries exceeded with url: /mlyPU (Caused by ConnectTimeoutError(<urllib3.connection.HTTPConnection object at 0x7c728cc8b8e0>, 'Connection to lati.ms timed out. (connect timeout=4)'))\n"
          ]
        },
        {
          "output_type": "stream",
          "name": "stderr",
          "text": [
            "\rExtracting content:  88%|████████▊ | 1580/1797 [42:26<14:13,  3.93s/it]"
          ]
        },
        {
          "output_type": "stream",
          "name": "stdout",
          "text": [
            "Error fetching content: HTTPConnectionPool(host='lati.ms', port=80): Max retries exceeded with url: /mlAvJ (Caused by ConnectTimeoutError(<urllib3.connection.HTTPConnection object at 0x7c728cc8b340>, 'Connection to lati.ms timed out. (connect timeout=4)'))\n"
          ]
        },
        {
          "output_type": "stream",
          "name": "stderr",
          "text": [
            "\rExtracting content:  88%|████████▊ | 1581/1797 [42:30<14:14,  3.96s/it]"
          ]
        },
        {
          "output_type": "stream",
          "name": "stdout",
          "text": [
            "Error fetching content: HTTPConnectionPool(host='lati.ms', port=80): Max retries exceeded with url: /mlvDN (Caused by ConnectTimeoutError(<urllib3.connection.HTTPConnection object at 0x7c728ccc1b10>, 'Connection to lati.ms timed out. (connect timeout=4)'))\n",
            "Error fetching content: Failed to parse: http://t.c…\n"
          ]
        },
        {
          "output_type": "stream",
          "name": "stderr",
          "text": [
            "\rExtracting content:  88%|████████▊ | 1583/1797 [42:34<10:54,  3.06s/it]"
          ]
        },
        {
          "output_type": "stream",
          "name": "stdout",
          "text": [
            "Error fetching content: HTTPConnectionPool(host='lati.ms', port=80): Max retries exceeded with url: /mlapT (Caused by ConnectTimeoutError(<urllib3.connection.HTTPConnection object at 0x7c728ccc1060>, 'Connection to lati.ms timed out. (connect timeout=4)'))\n"
          ]
        },
        {
          "output_type": "stream",
          "name": "stderr",
          "text": [
            "\rExtracting content:  88%|████████▊ | 1584/1797 [42:38<11:41,  3.29s/it]"
          ]
        },
        {
          "output_type": "stream",
          "name": "stdout",
          "text": [
            "Error fetching content: HTTPConnectionPool(host='lati.ms', port=80): Max retries exceeded with url: /ml4Mw (Caused by ConnectTimeoutError(<urllib3.connection.HTTPConnection object at 0x7c728ccc09d0>, 'Connection to lati.ms timed out. (connect timeout=4)'))\n"
          ]
        },
        {
          "output_type": "stream",
          "name": "stderr",
          "text": [
            "\rExtracting content:  88%|████████▊ | 1585/1797 [42:43<12:19,  3.49s/it]"
          ]
        },
        {
          "output_type": "stream",
          "name": "stdout",
          "text": [
            "Error fetching content: HTTPConnectionPool(host='lati.ms', port=80): Max retries exceeded with url: /ml3Uu (Caused by ConnectTimeoutError(<urllib3.connection.HTTPConnection object at 0x7c728cc8bbe0>, 'Connection to lati.ms timed out. (connect timeout=4)'))\n"
          ]
        },
        {
          "output_type": "stream",
          "name": "stderr",
          "text": [
            "\rExtracting content:  88%|████████▊ | 1586/1797 [42:47<12:45,  3.63s/it]"
          ]
        },
        {
          "output_type": "stream",
          "name": "stdout",
          "text": [
            "Error fetching content: HTTPConnectionPool(host='lati.ms', port=80): Max retries exceeded with url: /mkUYb (Caused by ConnectTimeoutError(<urllib3.connection.HTTPConnection object at 0x7c728cc8b820>, 'Connection to lati.ms timed out. (connect timeout=4)'))\n"
          ]
        },
        {
          "output_type": "stream",
          "name": "stderr",
          "text": [
            "\rExtracting content:  88%|████████▊ | 1587/1797 [42:51<13:04,  3.74s/it]"
          ]
        },
        {
          "output_type": "stream",
          "name": "stdout",
          "text": [
            "Error fetching content: HTTPConnectionPool(host='lati.ms', port=80): Max retries exceeded with url: /miRms (Caused by ConnectTimeoutError(<urllib3.connection.HTTPConnection object at 0x7c728ccc0370>, 'Connection to lati.ms timed out. (connect timeout=4)'))\n"
          ]
        },
        {
          "output_type": "stream",
          "name": "stderr",
          "text": [
            "\rExtracting content:  88%|████████▊ | 1588/1797 [42:55<13:17,  3.82s/it]"
          ]
        },
        {
          "output_type": "stream",
          "name": "stdout",
          "text": [
            "Error fetching content: HTTPConnectionPool(host='lati.ms', port=80): Max retries exceeded with url: /miNFh (Caused by ConnectTimeoutError(<urllib3.connection.HTTPConnection object at 0x7c728ccc1120>, 'Connection to lati.ms timed out. (connect timeout=4)'))\n"
          ]
        },
        {
          "output_type": "stream",
          "name": "stderr",
          "text": [
            "Extracting content:  88%|████████▊ | 1590/1797 [42:55<07:18,  2.12s/it]"
          ]
        },
        {
          "output_type": "stream",
          "name": "stdout",
          "text": [
            "Error fetching content: 404 Client Error: Not Found for url: https://t.co/srzX5V2N%E2%80%A6\n",
            "Error fetching content: 404 Client Error: Not Found for url: http://bit.ly/11gnsYb\n"
          ]
        },
        {
          "output_type": "stream",
          "name": "stderr",
          "text": [
            "\rExtracting content:  89%|████████▊ | 1592/1797 [43:00<07:06,  2.08s/it]"
          ]
        },
        {
          "output_type": "stream",
          "name": "stdout",
          "text": [
            "Error fetching content: HTTPConnectionPool(host='lati.ms', port=80): Max retries exceeded with url: /mi6Ws (Caused by ConnectTimeoutError(<urllib3.connection.HTTPConnection object at 0x7c728cc8bcd0>, 'Connection to lati.ms timed out. (connect timeout=4)'))\n"
          ]
        },
        {
          "output_type": "stream",
          "name": "stderr",
          "text": [
            "Extracting content:  89%|████████▉ | 1595/1797 [43:05<07:15,  2.16s/it]"
          ]
        },
        {
          "output_type": "stream",
          "name": "stdout",
          "text": [
            "Error fetching content: HTTPConnectionPool(host='lati.ms', port=80): Max retries exceeded with url: /mhiBz (Caused by ConnectTimeoutError(<urllib3.connection.HTTPConnection object at 0x7c728cd05b70>, 'Connection to lati.ms timed out. (connect timeout=4)'))\n"
          ]
        },
        {
          "output_type": "stream",
          "name": "stderr",
          "text": [
            "\rExtracting content:  89%|████████▉ | 1596/1797 [43:09<08:57,  2.67s/it]"
          ]
        },
        {
          "output_type": "stream",
          "name": "stdout",
          "text": [
            "Error fetching content: HTTPConnectionPool(host='lati.ms', port=80): Max retries exceeded with url: /mhipx (Caused by ConnectTimeoutError(<urllib3.connection.HTTPConnection object at 0x7c728ccc3130>, 'Connection to lati.ms timed out. (connect timeout=4)'))\n",
            "Error fetching content: 404 Client Error: Not Found for url: http://pbs.twimg.com/media/BNX3HypCYAAqkLf.jpg\n"
          ]
        },
        {
          "output_type": "stream",
          "name": "stderr",
          "text": [
            "\rExtracting content:  89%|████████▉ | 1598/1797 [43:13<08:00,  2.42s/it]"
          ]
        },
        {
          "output_type": "stream",
          "name": "stdout",
          "text": [
            "Error fetching content: HTTPConnectionPool(host='lati.ms', port=80): Max retries exceeded with url: /mhhOH (Caused by ConnectTimeoutError(<urllib3.connection.HTTPConnection object at 0x7c728ccc3cd0>, 'Connection to lati.ms timed out. (connect timeout=4)'))\n"
          ]
        },
        {
          "output_type": "stream",
          "name": "stderr",
          "text": [
            "\rExtracting content:  89%|████████▉ | 1599/1797 [43:17<09:14,  2.80s/it]"
          ]
        },
        {
          "output_type": "stream",
          "name": "stdout",
          "text": [
            "Error fetching content: HTTPConnectionPool(host='lati.ms', port=80): Max retries exceeded with url: /mhehB (Caused by ConnectTimeoutError(<urllib3.connection.HTTPConnection object at 0x7c728cd05060>, 'Connection to lati.ms timed out. (connect timeout=4)'))\n"
          ]
        },
        {
          "output_type": "stream",
          "name": "stderr",
          "text": [
            "\rExtracting content:  89%|████████▉ | 1600/1797 [43:21<10:12,  3.11s/it]"
          ]
        },
        {
          "output_type": "stream",
          "name": "stdout",
          "text": [
            "Error fetching content: HTTPConnectionPool(host='lati.ms', port=80): Max retries exceeded with url: /mhdBW (Caused by ConnectTimeoutError(<urllib3.connection.HTTPConnection object at 0x7c728cd04820>, 'Connection to lati.ms timed out. (connect timeout=4)'))\n"
          ]
        },
        {
          "output_type": "stream",
          "name": "stderr",
          "text": [
            "Extracting content:  89%|████████▉ | 1602/1797 [43:26<09:17,  2.86s/it]"
          ]
        },
        {
          "output_type": "stream",
          "name": "stdout",
          "text": [
            "Error fetching content: HTTPConnectionPool(host='lati.ms', port=80): Max retries exceeded with url: /mgM5G (Caused by ConnectTimeoutError(<urllib3.connection.HTTPConnection object at 0x7c728ccc19f0>, 'Connection to lati.ms timed out. (connect timeout=4)'))\n",
            "Error fetching content: Failed to parse: http://…\n"
          ]
        },
        {
          "output_type": "stream",
          "name": "stderr",
          "text": [
            "\rExtracting content:  89%|████████▉ | 1604/1797 [43:30<07:59,  2.48s/it]"
          ]
        },
        {
          "output_type": "stream",
          "name": "stdout",
          "text": [
            "Error fetching content: HTTPConnectionPool(host='lati.ms', port=80): Max retries exceeded with url: /mgKPf (Caused by ConnectTimeoutError(<urllib3.connection.HTTPConnection object at 0x7c728ccc0f70>, 'Connection to lati.ms timed out. (connect timeout=4)'))\n"
          ]
        },
        {
          "output_type": "stream",
          "name": "stderr",
          "text": [
            "\rExtracting content:  89%|████████▉ | 1605/1797 [43:34<09:06,  2.85s/it]"
          ]
        },
        {
          "output_type": "stream",
          "name": "stdout",
          "text": [
            "Error fetching content: HTTPConnectionPool(host='lati.ms', port=80): Max retries exceeded with url: /mgFsO (Caused by ConnectTimeoutError(<urllib3.connection.HTTPConnection object at 0x7c728ccc0250>, 'Connection to lati.ms timed out. (connect timeout=4)'))\n"
          ]
        },
        {
          "output_type": "stream",
          "name": "stderr",
          "text": [
            "\rExtracting content:  89%|████████▉ | 1606/1797 [43:38<10:00,  3.15s/it]"
          ]
        },
        {
          "output_type": "stream",
          "name": "stdout",
          "text": [
            "Error fetching content: HTTPConnectionPool(host='lati.ms', port=80): Max retries exceeded with url: /mgDTB (Caused by ConnectTimeoutError(<urllib3.connection.HTTPConnection object at 0x7c728cd06c50>, 'Connection to lati.ms timed out. (connect timeout=4)'))\n"
          ]
        },
        {
          "output_type": "stream",
          "name": "stderr",
          "text": [
            "Extracting content:  89%|████████▉ | 1608/1797 [43:43<09:18,  2.95s/it]"
          ]
        },
        {
          "output_type": "stream",
          "name": "stdout",
          "text": [
            "Error fetching content: HTTPConnectionPool(host='lati.ms', port=80): Max retries exceeded with url: /mf4l5 (Caused by ConnectTimeoutError(<urllib3.connection.HTTPConnection object at 0x7c728cd079d0>, 'Connection to lati.ms timed out. (connect timeout=4)'))\n"
          ]
        },
        {
          "output_type": "stream",
          "name": "stderr",
          "text": [
            "\rExtracting content:  90%|████████▉ | 1609/1797 [43:47<10:11,  3.25s/it]"
          ]
        },
        {
          "output_type": "stream",
          "name": "stdout",
          "text": [
            "Error fetching content: HTTPConnectionPool(host='lati.ms', port=80): Max retries exceeded with url: /mf20B (Caused by ConnectTimeoutError(<urllib3.connection.HTTPConnection object at 0x7c728ccc1db0>, 'Connection to lati.ms timed out. (connect timeout=4)'))\n"
          ]
        },
        {
          "output_type": "stream",
          "name": "stderr",
          "text": [
            "\rExtracting content:  90%|████████▉ | 1610/1797 [43:51<10:49,  3.47s/it]"
          ]
        },
        {
          "output_type": "stream",
          "name": "stdout",
          "text": [
            "Error fetching content: HTTPConnectionPool(host='lati.ms', port=80): Max retries exceeded with url: /mf52m (Caused by ConnectTimeoutError(<urllib3.connection.HTTPConnection object at 0x7c728ccc25f0>, 'Connection to lati.ms timed out. (connect timeout=4)'))\n"
          ]
        },
        {
          "output_type": "stream",
          "name": "stderr",
          "text": [
            "\rExtracting content:  90%|████████▉ | 1611/1797 [43:55<11:15,  3.63s/it]"
          ]
        },
        {
          "output_type": "stream",
          "name": "stdout",
          "text": [
            "Error fetching content: HTTPConnectionPool(host='lati.ms', port=80): Max retries exceeded with url: /meJ7E (Caused by ConnectTimeoutError(<urllib3.connection.HTTPConnection object at 0x7c728ccc2230>, 'Connection to lati.ms timed out. (connect timeout=4)'))\n"
          ]
        },
        {
          "output_type": "stream",
          "name": "stderr",
          "text": [
            "\rExtracting content:  90%|████████▉ | 1612/1797 [43:59<11:32,  3.74s/it]"
          ]
        },
        {
          "output_type": "stream",
          "name": "stdout",
          "text": [
            "Error fetching content: HTTPConnectionPool(host='lati.ms', port=80): Max retries exceeded with url: /meYUN (Caused by ConnectTimeoutError(<urllib3.connection.HTTPConnection object at 0x7c728cd06dd0>, 'Connection to lati.ms timed out. (connect timeout=4)'))\n"
          ]
        },
        {
          "output_type": "stream",
          "name": "stderr",
          "text": [
            "\rExtracting content:  90%|████████▉ | 1613/1797 [44:03<11:43,  3.82s/it]"
          ]
        },
        {
          "output_type": "stream",
          "name": "stdout",
          "text": [
            "Error fetching content: HTTPConnectionPool(host='lati.ms', port=80): Max retries exceeded with url: /meUeQ (Caused by ConnectTimeoutError(<urllib3.connection.HTTPConnection object at 0x7c728cd07e50>, 'Connection to lati.ms timed out. (connect timeout=4)'))\n"
          ]
        },
        {
          "output_type": "stream",
          "name": "stderr",
          "text": [
            "Extracting content:  90%|████████▉ | 1615/1797 [44:08<09:53,  3.26s/it]"
          ]
        },
        {
          "output_type": "stream",
          "name": "stdout",
          "text": [
            "Error fetching content: HTTPConnectionPool(host='lati.ms', port=80): Max retries exceeded with url: /meNM7 (Caused by ConnectTimeoutError(<urllib3.connection.HTTPConnection object at 0x7c728cacb4f0>, 'Connection to lati.ms timed out. (connect timeout=4)'))\n"
          ]
        },
        {
          "output_type": "stream",
          "name": "stderr",
          "text": [
            "Extracting content:  90%|████████▉ | 1617/1797 [44:12<08:49,  2.94s/it]"
          ]
        },
        {
          "output_type": "stream",
          "name": "stdout",
          "text": [
            "Error fetching content: HTTPConnectionPool(host='lati.ms', port=80): Max retries exceeded with url: /melsK (Caused by ConnectTimeoutError(<urllib3.connection.HTTPConnection object at 0x7c728caf9510>, 'Connection to lati.ms timed out. (connect timeout=4)'))\n"
          ]
        },
        {
          "output_type": "stream",
          "name": "stderr",
          "text": [
            "Extracting content:  90%|█████████ | 1619/1797 [44:17<08:33,  2.88s/it]"
          ]
        },
        {
          "output_type": "stream",
          "name": "stdout",
          "text": [
            "Error fetching content: HTTPConnectionPool(host='lati.ms', port=80): Max retries exceeded with url: /mdVR7 (Caused by ConnectTimeoutError(<urllib3.connection.HTTPConnection object at 0x7c728c949060>, 'Connection to lati.ms timed out. (connect timeout=4)'))\n"
          ]
        },
        {
          "output_type": "stream",
          "name": "stderr",
          "text": [
            "\rExtracting content:  90%|█████████ | 1620/1797 [44:21<09:30,  3.22s/it]"
          ]
        },
        {
          "output_type": "stream",
          "name": "stdout",
          "text": [
            "Error fetching content: HTTPConnectionPool(host='lati.ms', port=80): Max retries exceeded with url: /mcE2m (Caused by ConnectTimeoutError(<urllib3.connection.HTTPConnection object at 0x7c728c949a50>, 'Connection to lati.ms timed out. (connect timeout=4)'))\n"
          ]
        },
        {
          "output_type": "stream",
          "name": "stderr",
          "text": [
            "\rExtracting content:  90%|█████████ | 1621/1797 [44:25<10:08,  3.46s/it]"
          ]
        },
        {
          "output_type": "stream",
          "name": "stdout",
          "text": [
            "Error fetching content: HTTPConnectionPool(host='lati.ms', port=80): Max retries exceeded with url: /mcGYX (Caused by ConnectTimeoutError(<urllib3.connection.HTTPConnection object at 0x7c728c948b50>, 'Connection to lati.ms timed out. (connect timeout=4)'))\n"
          ]
        },
        {
          "output_type": "stream",
          "name": "stderr",
          "text": [
            "\rExtracting content:  90%|█████████ | 1622/1797 [44:29<10:34,  3.62s/it]"
          ]
        },
        {
          "output_type": "stream",
          "name": "stdout",
          "text": [
            "Error fetching content: HTTPConnectionPool(host='lati.ms', port=80): Max retries exceeded with url: /mcGGR (Caused by ConnectTimeoutError(<urllib3.connection.HTTPConnection object at 0x7c728c94a0e0>, 'Connection to lati.ms timed out. (connect timeout=4)'))\n"
          ]
        },
        {
          "output_type": "stream",
          "name": "stderr",
          "text": [
            "Extracting content:  90%|█████████ | 1624/1797 [44:34<09:11,  3.19s/it]"
          ]
        },
        {
          "output_type": "stream",
          "name": "stdout",
          "text": [
            "Error fetching content: HTTPConnectionPool(host='lati.ms', port=80): Max retries exceeded with url: /mcBZu (Caused by ConnectTimeoutError(<urllib3.connection.HTTPConnection object at 0x7c728c8a9630>, 'Connection to lati.ms timed out. (connect timeout=4)'))\n"
          ]
        },
        {
          "output_type": "stream",
          "name": "stderr",
          "text": [
            "\rExtracting content:  90%|█████████ | 1625/1797 [44:38<09:50,  3.44s/it]"
          ]
        },
        {
          "output_type": "stream",
          "name": "stdout",
          "text": [
            "Error fetching content: HTTPConnectionPool(host='lati.ms', port=80): Max retries exceeded with url: /mcl5f (Caused by ConnectTimeoutError(<urllib3.connection.HTTPConnection object at 0x7c728c8a9e10>, 'Connection to lati.ms timed out. (connect timeout=4)'))\n"
          ]
        },
        {
          "output_type": "stream",
          "name": "stderr",
          "text": [
            "\rExtracting content:  90%|█████████ | 1626/1797 [44:42<10:17,  3.61s/it]"
          ]
        },
        {
          "output_type": "stream",
          "name": "stdout",
          "text": [
            "Error fetching content: HTTPConnectionPool(host='lati.ms', port=80): Max retries exceeded with url: /mcxlH (Caused by ConnectTimeoutError(<urllib3.connection.HTTPConnection object at 0x7c728c8a9150>, 'Connection to lati.ms timed out. (connect timeout=4)'))\n"
          ]
        },
        {
          "output_type": "stream",
          "name": "stderr",
          "text": [
            "\rExtracting content:  91%|█████████ | 1627/1797 [44:46<10:34,  3.73s/it]"
          ]
        },
        {
          "output_type": "stream",
          "name": "stdout",
          "text": [
            "Error fetching content: HTTPConnectionPool(host='lati.ms', port=80): Max retries exceeded with url: /mcvFF (Caused by ConnectTimeoutError(<urllib3.connection.HTTPConnection object at 0x7c728c8aa7d0>, 'Connection to lati.ms timed out. (connect timeout=4)'))\n"
          ]
        },
        {
          "output_type": "stream",
          "name": "stderr",
          "text": [
            "\rExtracting content:  91%|█████████ | 1628/1797 [44:50<10:45,  3.82s/it]"
          ]
        },
        {
          "output_type": "stream",
          "name": "stdout",
          "text": [
            "Error fetching content: HTTPConnectionPool(host='lati.ms', port=80): Max retries exceeded with url: /mcb12 (Caused by ConnectTimeoutError(<urllib3.connection.HTTPConnection object at 0x7c728c8aae90>, 'Connection to lati.ms timed out. (connect timeout=4)'))\n"
          ]
        },
        {
          "output_type": "stream",
          "name": "stderr",
          "text": [
            "\rExtracting content:  91%|█████████ | 1629/1797 [44:54<10:51,  3.88s/it]"
          ]
        },
        {
          "output_type": "stream",
          "name": "stdout",
          "text": [
            "Error fetching content: HTTPConnectionPool(host='lati.ms', port=80): Max retries exceeded with url: /mcaqY (Caused by ConnectTimeoutError(<urllib3.connection.HTTPConnection object at 0x7c728c8ab6d0>, 'Connection to lati.ms timed out. (connect timeout=4)'))\n"
          ]
        },
        {
          "output_type": "stream",
          "name": "stderr",
          "text": [
            "\rExtracting content:  91%|█████████ | 1630/1797 [44:59<10:54,  3.92s/it]"
          ]
        },
        {
          "output_type": "stream",
          "name": "stdout",
          "text": [
            "Error fetching content: HTTPConnectionPool(host='lati.ms', port=80): Max retries exceeded with url: /mc0xR (Caused by ConnectTimeoutError(<urllib3.connection.HTTPConnection object at 0x7c728c94b820>, 'Connection to lati.ms timed out. (connect timeout=4)'))\n"
          ]
        },
        {
          "output_type": "stream",
          "name": "stderr",
          "text": [
            "Extracting content:  91%|█████████ | 1632/1797 [45:03<09:00,  3.28s/it]"
          ]
        },
        {
          "output_type": "stream",
          "name": "stdout",
          "text": [
            "Error fetching content: HTTPConnectionPool(host='lati.ms', port=80): Max retries exceeded with url: /mbsxW (Caused by ConnectTimeoutError(<urllib3.connection.HTTPConnection object at 0x7c728c8a9ab0>, 'Connection to lati.ms timed out. (connect timeout=4)'))\n"
          ]
        },
        {
          "output_type": "stream",
          "name": "stderr",
          "text": [
            "\rExtracting content:  91%|█████████ | 1633/1797 [45:07<09:33,  3.50s/it]"
          ]
        },
        {
          "output_type": "stream",
          "name": "stdout",
          "text": [
            "Error fetching content: HTTPConnectionPool(host='lati.ms', port=80): Max retries exceeded with url: /mahRe (Caused by ConnectTimeoutError(<urllib3.connection.HTTPConnection object at 0x7c728c8a9420>, 'Connection to lati.ms timed out. (connect timeout=4)'))\n",
            "Error fetching content: Failed to parse: http://t…\n"
          ]
        },
        {
          "output_type": "stream",
          "name": "stderr",
          "text": [
            "\rExtracting content:  91%|█████████ | 1635/1797 [45:11<07:34,  2.81s/it]"
          ]
        },
        {
          "output_type": "stream",
          "name": "stdout",
          "text": [
            "Error fetching content: HTTPConnectionPool(host='lati.ms', port=80): Max retries exceeded with url: /mbnev (Caused by ConnectTimeoutError(<urllib3.connection.HTTPConnection object at 0x7c728c8aa7d0>, 'Connection to lati.ms timed out. (connect timeout=4)'))\n"
          ]
        },
        {
          "output_type": "stream",
          "name": "stderr",
          "text": [
            "\rExtracting content:  91%|█████████ | 1636/1797 [45:15<08:20,  3.11s/it]"
          ]
        },
        {
          "output_type": "stream",
          "name": "stdout",
          "text": [
            "Error fetching content: HTTPConnectionPool(host='lati.ms', port=80): Max retries exceeded with url: /malSM (Caused by ConnectTimeoutError(<urllib3.connection.HTTPConnection object at 0x7c728c8ab580>, 'Connection to lati.ms timed out. (connect timeout=4)'))\n"
          ]
        },
        {
          "output_type": "stream",
          "name": "stderr",
          "text": [
            "\rExtracting content:  91%|█████████ | 1637/1797 [45:19<08:54,  3.34s/it]"
          ]
        },
        {
          "output_type": "stream",
          "name": "stdout",
          "text": [
            "Error fetching content: HTTPConnectionPool(host='lati.ms', port=80): Max retries exceeded with url: /marYs (Caused by ConnectTimeoutError(<urllib3.connection.HTTPConnection object at 0x7c728c8aae60>, 'Connection to lati.ms timed out. (connect timeout=4)'))\n",
            "Error fetching content: Failed to parse: http://t.co…\n"
          ]
        },
        {
          "output_type": "stream",
          "name": "stderr",
          "text": [
            "\rExtracting content:  91%|█████████ | 1639/1797 [45:23<07:18,  2.78s/it]"
          ]
        },
        {
          "output_type": "stream",
          "name": "stdout",
          "text": [
            "Error fetching content: HTTPConnectionPool(host='lati.ms', port=80): Max retries exceeded with url: /makf6 (Caused by ConnectTimeoutError(<urllib3.connection.HTTPConnection object at 0x7c728c8aac80>, 'Connection to lati.ms timed out. (connect timeout=4)'))\n"
          ]
        },
        {
          "output_type": "stream",
          "name": "stderr",
          "text": [
            "\rExtracting content:  91%|█████████▏| 1640/1797 [45:27<08:01,  3.07s/it]"
          ]
        },
        {
          "output_type": "stream",
          "name": "stdout",
          "text": [
            "Error fetching content: HTTPConnectionPool(host='lati.ms', port=80): Max retries exceeded with url: /mahro (Caused by ConnectTimeoutError(<urllib3.connection.HTTPConnection object at 0x7c728c8ab010>, 'Connection to lati.ms timed out. (connect timeout=4)'))\n"
          ]
        },
        {
          "output_type": "stream",
          "name": "stderr",
          "text": [
            "\rExtracting content:  91%|█████████▏| 1641/1797 [45:31<08:35,  3.30s/it]"
          ]
        },
        {
          "output_type": "stream",
          "name": "stdout",
          "text": [
            "Error fetching content: HTTPConnectionPool(host='lati.ms', port=80): Max retries exceeded with url: /mad0U (Caused by ConnectTimeoutError(<urllib3.connection.HTTPConnection object at 0x7c728c8ab1c0>, 'Connection to lati.ms timed out. (connect timeout=4)'))\n"
          ]
        },
        {
          "output_type": "stream",
          "name": "stderr",
          "text": [
            "\rExtracting content:  91%|█████████▏| 1642/1797 [45:33<07:11,  2.79s/it]"
          ]
        },
        {
          "output_type": "stream",
          "name": "stdout",
          "text": [
            "Error fetching content: 502 Server Error: Bad Gateway for url: http://apps.washingtonpost.com/g/page/national/high-heels-can-be-a-pain-in-the-feet/237/\n"
          ]
        },
        {
          "output_type": "stream",
          "name": "stderr",
          "text": [
            "\rExtracting content:  91%|█████████▏| 1643/1797 [45:37<08:00,  3.12s/it]"
          ]
        },
        {
          "output_type": "stream",
          "name": "stdout",
          "text": [
            "Error fetching content: HTTPConnectionPool(host='lati.ms', port=80): Max retries exceeded with url: /m9Qvy (Caused by ConnectTimeoutError(<urllib3.connection.HTTPConnection object at 0x7c728c8e4c70>, 'Connection to lati.ms timed out. (connect timeout=4)'))\n"
          ]
        },
        {
          "output_type": "stream",
          "name": "stderr",
          "text": [
            "\rExtracting content:  91%|█████████▏| 1644/1797 [45:41<08:35,  3.37s/it]"
          ]
        },
        {
          "output_type": "stream",
          "name": "stdout",
          "text": [
            "Error fetching content: HTTPConnectionPool(host='lati.ms', port=80): Max retries exceeded with url: /m9Plq (Caused by ConnectTimeoutError(<urllib3.connection.HTTPConnection object at 0x7c728c8e54e0>, 'Connection to lati.ms timed out. (connect timeout=4)'))\n"
          ]
        },
        {
          "output_type": "stream",
          "name": "stderr",
          "text": [
            "\rExtracting content:  92%|█████████▏| 1645/1797 [45:45<09:00,  3.56s/it]"
          ]
        },
        {
          "output_type": "stream",
          "name": "stdout",
          "text": [
            "Error fetching content: HTTPConnectionPool(host='lati.ms', port=80): Max retries exceeded with url: /m9tEp (Caused by ConnectTimeoutError(<urllib3.connection.HTTPConnection object at 0x7c728c8e5cc0>, 'Connection to lati.ms timed out. (connect timeout=4)'))\n"
          ]
        },
        {
          "output_type": "stream",
          "name": "stderr",
          "text": [
            "\rExtracting content:  92%|█████████▏| 1646/1797 [45:49<09:17,  3.69s/it]"
          ]
        },
        {
          "output_type": "stream",
          "name": "stdout",
          "text": [
            "Error fetching content: HTTPConnectionPool(host='lati.ms', port=80): Max retries exceeded with url: /m9ILe (Caused by ConnectTimeoutError(<urllib3.connection.HTTPConnection object at 0x7c728c8aa230>, 'Connection to lati.ms timed out. (connect timeout=4)'))\n"
          ]
        },
        {
          "output_type": "stream",
          "name": "stderr",
          "text": [
            "\rExtracting content:  92%|█████████▏| 1647/1797 [45:53<09:31,  3.81s/it]"
          ]
        },
        {
          "output_type": "stream",
          "name": "stdout",
          "text": [
            "Error fetching content: HTTPConnectionPool(host='lati.ms', port=80): Max retries exceeded with url: /m8ZBR (Caused by ConnectTimeoutError(<urllib3.connection.HTTPConnection object at 0x7c728c8ab9d0>, 'Connection to lati.ms timed out. (connect timeout=4)'))\n"
          ]
        },
        {
          "output_type": "stream",
          "name": "stderr",
          "text": [
            "\rExtracting content:  92%|█████████▏| 1648/1797 [45:57<09:36,  3.87s/it]"
          ]
        },
        {
          "output_type": "stream",
          "name": "stdout",
          "text": [
            "Error fetching content: HTTPConnectionPool(host='lati.ms', port=80): Max retries exceeded with url: /m99OP (Caused by ConnectTimeoutError(<urllib3.connection.HTTPConnection object at 0x7c728c8aaf50>, 'Connection to lati.ms timed out. (connect timeout=4)'))\n"
          ]
        },
        {
          "output_type": "stream",
          "name": "stderr",
          "text": [
            "\rExtracting content:  92%|█████████▏| 1649/1797 [46:01<09:39,  3.91s/it]"
          ]
        },
        {
          "output_type": "stream",
          "name": "stdout",
          "text": [
            "Error fetching content: HTTPConnectionPool(host='lati.ms', port=80): Max retries exceeded with url: /m80lg (Caused by ConnectTimeoutError(<urllib3.connection.HTTPConnection object at 0x7c728c8e5240>, 'Connection to lati.ms timed out. (connect timeout=4)'))\n"
          ]
        },
        {
          "output_type": "stream",
          "name": "stderr",
          "text": [
            "\rExtracting content:  92%|█████████▏| 1650/1797 [46:05<09:39,  3.94s/it]"
          ]
        },
        {
          "output_type": "stream",
          "name": "stdout",
          "text": [
            "Error fetching content: HTTPConnectionPool(host='lati.ms', port=80): Max retries exceeded with url: /m7ZGG (Caused by ConnectTimeoutError(<urllib3.connection.HTTPConnection object at 0x7c728c8e4ee0>, 'Connection to lati.ms timed out. (connect timeout=4)'))\n"
          ]
        },
        {
          "output_type": "stream",
          "name": "stderr",
          "text": [
            "Extracting content:  92%|█████████▏| 1652/1797 [46:10<08:02,  3.33s/it]"
          ]
        },
        {
          "output_type": "stream",
          "name": "stdout",
          "text": [
            "Error fetching content: HTTPConnectionPool(host='lati.ms', port=80): Max retries exceeded with url: /m7sWA (Caused by ConnectTimeoutError(<urllib3.connection.HTTPConnection object at 0x7c728c694790>, 'Connection to lati.ms timed out. (connect timeout=4)'))\n"
          ]
        },
        {
          "output_type": "stream",
          "name": "stderr",
          "text": [
            "\rExtracting content:  92%|█████████▏| 1653/1797 [46:14<08:28,  3.53s/it]"
          ]
        },
        {
          "output_type": "stream",
          "name": "stdout",
          "text": [
            "Error fetching content: HTTPConnectionPool(host='lati.ms', port=80): Max retries exceeded with url: /m7rOQ (Caused by ConnectTimeoutError(<urllib3.connection.HTTPConnection object at 0x7c728c694fd0>, 'Connection to lati.ms timed out. (connect timeout=4)'))\n"
          ]
        },
        {
          "output_type": "stream",
          "name": "stderr",
          "text": [
            "\rExtracting content:  92%|█████████▏| 1654/1797 [46:18<08:45,  3.68s/it]"
          ]
        },
        {
          "output_type": "stream",
          "name": "stdout",
          "text": [
            "Error fetching content: HTTPConnectionPool(host='lati.ms', port=80): Max retries exceeded with url: /m7DR6 (Caused by ConnectTimeoutError(<urllib3.connection.HTTPConnection object at 0x7c728c695930>, 'Connection to lati.ms timed out. (connect timeout=4)'))\n"
          ]
        },
        {
          "output_type": "stream",
          "name": "stderr",
          "text": [
            "Extracting content:  92%|█████████▏| 1656/1797 [46:23<07:25,  3.16s/it]"
          ]
        },
        {
          "output_type": "stream",
          "name": "stdout",
          "text": [
            "Error fetching content: HTTPConnectionPool(host='lati.ms', port=80): Max retries exceeded with url: /m70l1 (Caused by ConnectTimeoutError(<urllib3.connection.HTTPConnection object at 0x7c728c6948b0>, 'Connection to lati.ms timed out. (connect timeout=4)'))\n"
          ]
        },
        {
          "output_type": "stream",
          "name": "stderr",
          "text": [
            "\rExtracting content:  92%|█████████▏| 1657/1797 [46:27<07:57,  3.41s/it]"
          ]
        },
        {
          "output_type": "stream",
          "name": "stdout",
          "text": [
            "Error fetching content: HTTPConnectionPool(host='lati.ms', port=80): Max retries exceeded with url: /m72HF (Caused by ConnectTimeoutError(<urllib3.connection.HTTPConnection object at 0x7c728c696fe0>, 'Connection to lati.ms timed out. (connect timeout=4)'))\n"
          ]
        },
        {
          "output_type": "stream",
          "name": "stderr",
          "text": [
            "Extracting content:  92%|█████████▏| 1660/1797 [46:28<03:16,  1.44s/it]"
          ]
        },
        {
          "output_type": "stream",
          "name": "stdout",
          "text": [
            "Error fetching content: 404 Client Error: Not Found for url: https://t.co/ACREVvx%E2%80%A6\n"
          ]
        },
        {
          "output_type": "stream",
          "name": "stderr",
          "text": [
            "\rExtracting content:  92%|█████████▏| 1661/1797 [46:32<05:00,  2.21s/it]"
          ]
        },
        {
          "output_type": "stream",
          "name": "stdout",
          "text": [
            "Error fetching content: HTTPConnectionPool(host='lati.ms', port=80): Max retries exceeded with url: /m6ujG (Caused by ConnectTimeoutError(<urllib3.connection.HTTPConnection object at 0x7c728c053310>, 'Connection to lati.ms timed out. (connect timeout=4)'))\n"
          ]
        },
        {
          "output_type": "stream",
          "name": "stderr",
          "text": [
            "\rExtracting content:  92%|█████████▏| 1662/1797 [46:36<06:11,  2.75s/it]"
          ]
        },
        {
          "output_type": "stream",
          "name": "stdout",
          "text": [
            "Error fetching content: HTTPConnectionPool(host='lati.ms', port=80): Max retries exceeded with url: /m5wR0 (Caused by ConnectTimeoutError(<urllib3.connection.HTTPConnection object at 0x7c728c053c10>, 'Connection to lati.ms timed out. (connect timeout=4)'))\n"
          ]
        },
        {
          "output_type": "stream",
          "name": "stderr",
          "text": [
            "\rExtracting content:  93%|█████████▎| 1663/1797 [46:40<06:59,  3.13s/it]"
          ]
        },
        {
          "output_type": "stream",
          "name": "stdout",
          "text": [
            "Error fetching content: HTTPConnectionPool(host='lati.ms', port=80): Max retries exceeded with url: /m5B9s (Caused by ConnectTimeoutError(<urllib3.connection.HTTPConnection object at 0x7c728c0844f0>, 'Connection to lati.ms timed out. (connect timeout=4)'))\n"
          ]
        },
        {
          "output_type": "stream",
          "name": "stderr",
          "text": [
            "\rExtracting content:  93%|█████████▎| 1664/1797 [46:44<07:31,  3.39s/it]"
          ]
        },
        {
          "output_type": "stream",
          "name": "stdout",
          "text": [
            "Error fetching content: HTTPConnectionPool(host='lati.ms', port=80): Max retries exceeded with url: /m55Gk (Caused by ConnectTimeoutError(<urllib3.connection.HTTPConnection object at 0x7c728c084d30>, 'Connection to lati.ms timed out. (connect timeout=4)'))\n"
          ]
        },
        {
          "output_type": "stream",
          "name": "stderr",
          "text": [
            "\rExtracting content:  93%|█████████▎| 1665/1797 [46:48<07:52,  3.58s/it]"
          ]
        },
        {
          "output_type": "stream",
          "name": "stdout",
          "text": [
            "Error fetching content: HTTPConnectionPool(host='lati.ms', port=80): Max retries exceeded with url: /m4w9a (Caused by ConnectTimeoutError(<urllib3.connection.HTTPConnection object at 0x7c728c085660>, 'Connection to lati.ms timed out. (connect timeout=4)'))\n"
          ]
        },
        {
          "output_type": "stream",
          "name": "stderr",
          "text": [
            "\rExtracting content:  93%|█████████▎| 1666/1797 [46:52<08:05,  3.71s/it]"
          ]
        },
        {
          "output_type": "stream",
          "name": "stdout",
          "text": [
            "Error fetching content: HTTPConnectionPool(host='lati.ms', port=80): Max retries exceeded with url: /m32Nb (Caused by ConnectTimeoutError(<urllib3.connection.HTTPConnection object at 0x7c728c0535e0>, 'Connection to lati.ms timed out. (connect timeout=4)'))\n"
          ]
        },
        {
          "output_type": "stream",
          "name": "stderr",
          "text": [
            "\rExtracting content:  93%|█████████▎| 1667/1797 [46:56<08:14,  3.81s/it]"
          ]
        },
        {
          "output_type": "stream",
          "name": "stdout",
          "text": [
            "Error fetching content: HTTPConnectionPool(host='lati.ms', port=80): Max retries exceeded with url: /m4vfO (Caused by ConnectTimeoutError(<urllib3.connection.HTTPConnection object at 0x7c728c052f80>, 'Connection to lati.ms timed out. (connect timeout=4)'))\n"
          ]
        },
        {
          "output_type": "stream",
          "name": "stderr",
          "text": [
            "Extracting content:  93%|█████████▎| 1669/1797 [47:01<06:50,  3.21s/it]"
          ]
        },
        {
          "output_type": "stream",
          "name": "stdout",
          "text": [
            "Error fetching content: HTTPConnectionPool(host='lati.ms', port=80): Max retries exceeded with url: /m4uXz (Caused by ConnectTimeoutError(<urllib3.connection.HTTPConnection object at 0x7c728c0847c0>, 'Connection to lati.ms timed out. (connect timeout=4)'))\n"
          ]
        },
        {
          "output_type": "stream",
          "name": "stderr",
          "text": [
            "Extracting content:  93%|█████████▎| 1671/1797 [47:05<06:05,  2.90s/it]"
          ]
        },
        {
          "output_type": "stream",
          "name": "stdout",
          "text": [
            "Error fetching content: HTTPConnectionPool(host='lati.ms', port=80): Max retries exceeded with url: /m3vMW (Caused by ConnectTimeoutError(<urllib3.connection.HTTPConnection object at 0x7c728c0842e0>, 'Connection to lati.ms timed out. (connect timeout=4)'))\n"
          ]
        },
        {
          "output_type": "stream",
          "name": "stderr",
          "text": [
            "\rExtracting content:  93%|█████████▎| 1672/1797 [47:09<06:44,  3.23s/it]"
          ]
        },
        {
          "output_type": "stream",
          "name": "stdout",
          "text": [
            "Error fetching content: HTTPConnectionPool(host='lati.ms', port=80): Max retries exceeded with url: /m3pzk (Caused by ConnectTimeoutError(<urllib3.connection.HTTPConnection object at 0x7c728c0859f0>, 'Connection to lati.ms timed out. (connect timeout=4)'))\n"
          ]
        },
        {
          "output_type": "stream",
          "name": "stderr",
          "text": [
            "\rExtracting content:  93%|█████████▎| 1673/1797 [47:13<07:09,  3.47s/it]"
          ]
        },
        {
          "output_type": "stream",
          "name": "stdout",
          "text": [
            "Error fetching content: HTTPConnectionPool(host='lati.ms', port=80): Max retries exceeded with url: /m3oQY (Caused by ConnectTimeoutError(<urllib3.connection.HTTPConnection object at 0x7c728c084850>, 'Connection to lati.ms timed out. (connect timeout=4)'))\n"
          ]
        },
        {
          "output_type": "stream",
          "name": "stderr",
          "text": [
            "\rExtracting content:  93%|█████████▎| 1674/1797 [47:17<07:26,  3.63s/it]"
          ]
        },
        {
          "output_type": "stream",
          "name": "stdout",
          "text": [
            "Error fetching content: HTTPConnectionPool(host='lati.ms', port=80): Max retries exceeded with url: /m36EJ (Caused by ConnectTimeoutError(<urllib3.connection.HTTPConnection object at 0x7c728c085f00>, 'Connection to lati.ms timed out. (connect timeout=4)'))\n"
          ]
        },
        {
          "output_type": "stream",
          "name": "stderr",
          "text": [
            "\rExtracting content:  93%|█████████▎| 1675/1797 [47:21<07:37,  3.75s/it]"
          ]
        },
        {
          "output_type": "stream",
          "name": "stdout",
          "text": [
            "Error fetching content: HTTPConnectionPool(host='lati.ms', port=80): Max retries exceeded with url: /m3vBs (Caused by ConnectTimeoutError(<urllib3.connection.HTTPConnection object at 0x7c728c0862f0>, 'Connection to lati.ms timed out. (connect timeout=4)'))\n"
          ]
        },
        {
          "output_type": "stream",
          "name": "stderr",
          "text": [
            "\rExtracting content:  93%|█████████▎| 1676/1797 [47:26<08:04,  4.00s/it]"
          ]
        },
        {
          "output_type": "stream",
          "name": "stdout",
          "text": [
            "Error fetching content: HTTPConnectionPool(host='lati.ms', port=80): Max retries exceeded with url: /m33hr (Caused by ConnectTimeoutError(<urllib3.connection.HTTPConnection object at 0x7c728c086ce0>, 'Connection to lati.ms timed out. (connect timeout=4)'))\n"
          ]
        },
        {
          "output_type": "stream",
          "name": "stderr",
          "text": [
            "\rExtracting content:  93%|█████████▎| 1677/1797 [47:30<08:00,  4.01s/it]"
          ]
        },
        {
          "output_type": "stream",
          "name": "stdout",
          "text": [
            "Error fetching content: HTTPConnectionPool(host='lati.ms', port=80): Max retries exceeded with url: /m2V99 (Caused by ConnectTimeoutError(<urllib3.connection.HTTPConnection object at 0x7c728c087430>, 'Connection to lati.ms timed out. (connect timeout=4)'))\n"
          ]
        },
        {
          "output_type": "stream",
          "name": "stderr",
          "text": [
            "\rExtracting content:  93%|█████████▎| 1678/1797 [47:34<07:56,  4.01s/it]"
          ]
        },
        {
          "output_type": "stream",
          "name": "stdout",
          "text": [
            "Error fetching content: HTTPConnectionPool(host='lati.ms', port=80): Max retries exceeded with url: /m3oDu (Caused by ConnectTimeoutError(<urllib3.connection.HTTPConnection object at 0x7c728c087d90>, 'Connection to lati.ms timed out. (connect timeout=4)'))\n"
          ]
        },
        {
          "output_type": "stream",
          "name": "stderr",
          "text": [
            "Extracting content:  93%|█████████▎| 1680/1797 [47:39<06:23,  3.28s/it]"
          ]
        },
        {
          "output_type": "stream",
          "name": "stdout",
          "text": [
            "Error fetching content: HTTPConnectionPool(host='lati.ms', port=80): Max retries exceeded with url: /m2U1N (Caused by ConnectTimeoutError(<urllib3.connection.HTTPConnection object at 0x7c728c0ec6d0>, 'Connection to lati.ms timed out. (connect timeout=4)'))\n"
          ]
        },
        {
          "output_type": "stream",
          "name": "stderr",
          "text": [
            "\rExtracting content:  94%|█████████▎| 1681/1797 [47:39<04:34,  2.36s/it]"
          ]
        },
        {
          "output_type": "stream",
          "name": "stdout",
          "text": [
            "Error fetching content: 404 Client Error: Not Found for url: https://t.co/cl%E2%80%A6\n"
          ]
        },
        {
          "output_type": "stream",
          "name": "stderr",
          "text": [
            "\rExtracting content:  94%|█████████▎| 1682/1797 [47:43<05:28,  2.86s/it]"
          ]
        },
        {
          "output_type": "stream",
          "name": "stdout",
          "text": [
            "Error fetching content: HTTPConnectionPool(host='lati.ms', port=80): Max retries exceeded with url: /m2DUK (Caused by ConnectTimeoutError(<urllib3.connection.HTTPConnection object at 0x7c728c0ecb50>, 'Connection to lati.ms timed out. (connect timeout=4)'))\n"
          ]
        },
        {
          "output_type": "stream",
          "name": "stderr",
          "text": [
            "\rExtracting content:  94%|█████████▎| 1683/1797 [47:47<06:05,  3.20s/it]"
          ]
        },
        {
          "output_type": "stream",
          "name": "stdout",
          "text": [
            "Error fetching content: HTTPConnectionPool(host='lati.ms', port=80): Max retries exceeded with url: /m0RYi (Caused by ConnectTimeoutError(<urllib3.connection.HTTPConnection object at 0x7c728c0ec970>, 'Connection to lati.ms timed out. (connect timeout=4)'))\n"
          ]
        },
        {
          "output_type": "stream",
          "name": "stderr",
          "text": [
            "\rExtracting content:  94%|█████████▎| 1684/1797 [47:51<06:29,  3.45s/it]"
          ]
        },
        {
          "output_type": "stream",
          "name": "stdout",
          "text": [
            "Error fetching content: HTTPConnectionPool(host='lati.ms', port=80): Max retries exceeded with url: /m1eh0 (Caused by ConnectTimeoutError(<urllib3.connection.HTTPConnection object at 0x7c728c0ed780>, 'Connection to lati.ms timed out. (connect timeout=4)'))\n"
          ]
        },
        {
          "output_type": "stream",
          "name": "stderr",
          "text": [
            "\rExtracting content:  94%|█████████▍| 1685/1797 [47:55<06:44,  3.62s/it]"
          ]
        },
        {
          "output_type": "stream",
          "name": "stdout",
          "text": [
            "Error fetching content: HTTPConnectionPool(host='lati.ms', port=80): Max retries exceeded with url: /m1f2m (Caused by ConnectTimeoutError(<urllib3.connection.HTTPConnection object at 0x7c728c0ee0e0>, 'Connection to lati.ms timed out. (connect timeout=4)'))\n"
          ]
        },
        {
          "output_type": "stream",
          "name": "stderr",
          "text": [
            "\rExtracting content:  94%|█████████▍| 1686/1797 [47:59<06:58,  3.77s/it]"
          ]
        },
        {
          "output_type": "stream",
          "name": "stdout",
          "text": [
            "Error fetching content: HTTPConnectionPool(host='lati.ms', port=80): Max retries exceeded with url: /m1dGD (Caused by ConnectTimeoutError(<urllib3.connection.HTTPConnection object at 0x7c728c0ee920>, 'Connection to lati.ms timed out. (connect timeout=4)'))\n"
          ]
        },
        {
          "output_type": "stream",
          "name": "stderr",
          "text": [
            "\rExtracting content:  94%|█████████▍| 1687/1797 [48:03<07:03,  3.85s/it]"
          ]
        },
        {
          "output_type": "stream",
          "name": "stdout",
          "text": [
            "Error fetching content: HTTPConnectionPool(host='lati.ms', port=80): Max retries exceeded with url: /m19p4 (Caused by ConnectTimeoutError(<urllib3.connection.HTTPConnection object at 0x7c728c0ed960>, 'Connection to lati.ms timed out. (connect timeout=4)'))\n"
          ]
        },
        {
          "output_type": "stream",
          "name": "stderr",
          "text": [
            "\rExtracting content:  94%|█████████▍| 1688/1797 [48:07<07:04,  3.90s/it]"
          ]
        },
        {
          "output_type": "stream",
          "name": "stdout",
          "text": [
            "Error fetching content: HTTPConnectionPool(host='lati.ms', port=80): Max retries exceeded with url: /m14NY (Caused by ConnectTimeoutError(<urllib3.connection.HTTPConnection object at 0x7c728c0ed420>, 'Connection to lati.ms timed out. (connect timeout=4)'))\n"
          ]
        },
        {
          "output_type": "stream",
          "name": "stderr",
          "text": [
            "\rExtracting content:  94%|█████████▍| 1689/1797 [48:11<07:04,  3.93s/it]"
          ]
        },
        {
          "output_type": "stream",
          "name": "stdout",
          "text": [
            "Error fetching content: HTTPConnectionPool(host='lati.ms', port=80): Max retries exceeded with url: /m11fw (Caused by ConnectTimeoutError(<urllib3.connection.HTTPConnection object at 0x7c728c0ec6a0>, 'Connection to lati.ms timed out. (connect timeout=4)'))\n"
          ]
        },
        {
          "output_type": "stream",
          "name": "stderr",
          "text": [
            "Extracting content:  94%|█████████▍| 1692/1797 [48:17<05:02,  2.88s/it]"
          ]
        },
        {
          "output_type": "stream",
          "name": "stdout",
          "text": [
            "Error fetching content: HTTPConnectionPool(host='lati.ms', port=80): Max retries exceeded with url: /m0ILf (Caused by ConnectTimeoutError(<urllib3.connection.HTTPConnection object at 0x7c728be7b940>, 'Connection to lati.ms timed out. (connect timeout=4)'))\n"
          ]
        },
        {
          "output_type": "stream",
          "name": "stderr",
          "text": [
            "\rExtracting content:  94%|█████████▍| 1693/1797 [48:21<05:34,  3.22s/it]"
          ]
        },
        {
          "output_type": "stream",
          "name": "stdout",
          "text": [
            "Error fetching content: HTTPConnectionPool(host='lati.ms', port=80): Max retries exceeded with url: /m0ovM (Caused by ConnectTimeoutError(<urllib3.connection.HTTPConnection object at 0x7c728be7b010>, 'Connection to lati.ms timed out. (connect timeout=4)'))\n"
          ]
        },
        {
          "output_type": "stream",
          "name": "stderr",
          "text": [
            "\rExtracting content:  94%|█████████▍| 1694/1797 [48:25<05:55,  3.46s/it]"
          ]
        },
        {
          "output_type": "stream",
          "name": "stdout",
          "text": [
            "Error fetching content: HTTPConnectionPool(host='lati.ms', port=80): Max retries exceeded with url: /m0ram (Caused by ConnectTimeoutError(<urllib3.connection.HTTPConnection object at 0x7c728be7a860>, 'Connection to lati.ms timed out. (connect timeout=4)'))\n"
          ]
        },
        {
          "output_type": "stream",
          "name": "stderr",
          "text": [
            "\rExtracting content:  94%|█████████▍| 1695/1797 [48:29<06:12,  3.65s/it]"
          ]
        },
        {
          "output_type": "stream",
          "name": "stdout",
          "text": [
            "Error fetching content: HTTPConnectionPool(host='lati.ms', port=80): Max retries exceeded with url: /m0fg6 (Caused by ConnectTimeoutError(<urllib3.connection.HTTPConnection object at 0x7c728be79ab0>, 'Connection to lati.ms timed out. (connect timeout=4)'))\n"
          ]
        },
        {
          "output_type": "stream",
          "name": "stderr",
          "text": [
            "\rExtracting content:  94%|█████████▍| 1696/1797 [48:33<06:19,  3.76s/it]"
          ]
        },
        {
          "output_type": "stream",
          "name": "stdout",
          "text": [
            "Error fetching content: HTTPConnectionPool(host='lati.ms', port=80): Max retries exceeded with url: /m0c6k (Caused by ConnectTimeoutError(<urllib3.connection.HTTPConnection object at 0x7c728be79e10>, 'Connection to lati.ms timed out. (connect timeout=4)'))\n"
          ]
        },
        {
          "output_type": "stream",
          "name": "stderr",
          "text": [
            "\rExtracting content:  94%|█████████▍| 1697/1797 [48:37<06:23,  3.83s/it]"
          ]
        },
        {
          "output_type": "stream",
          "name": "stdout",
          "text": [
            "Error fetching content: HTTPConnectionPool(host='lati.ms', port=80): Max retries exceeded with url: /lYMaH (Caused by ConnectTimeoutError(<urllib3.connection.HTTPConnection object at 0x7c728be7bdf0>, 'Connection to lati.ms timed out. (connect timeout=4)'))\n"
          ]
        },
        {
          "output_type": "stream",
          "name": "stderr",
          "text": [
            "\rExtracting content:  94%|█████████▍| 1698/1797 [48:41<06:24,  3.89s/it]"
          ]
        },
        {
          "output_type": "stream",
          "name": "stdout",
          "text": [
            "Error fetching content: HTTPConnectionPool(host='lati.ms', port=80): Max retries exceeded with url: /lYSSG (Caused by ConnectTimeoutError(<urllib3.connection.HTTPConnection object at 0x7c728be799c0>, 'Connection to lati.ms timed out. (connect timeout=4)'))\n"
          ]
        },
        {
          "output_type": "stream",
          "name": "stderr",
          "text": [
            "\rExtracting content:  95%|█████████▍| 1699/1797 [48:45<06:24,  3.93s/it]"
          ]
        },
        {
          "output_type": "stream",
          "name": "stdout",
          "text": [
            "Error fetching content: HTTPConnectionPool(host='lati.ms', port=80): Max retries exceeded with url: /lYT6d (Caused by ConnectTimeoutError(<urllib3.connection.HTTPConnection object at 0x7c728be7a680>, 'Connection to lati.ms timed out. (connect timeout=4)'))\n"
          ]
        },
        {
          "output_type": "stream",
          "name": "stderr",
          "text": [
            "\rExtracting content:  95%|█████████▍| 1700/1797 [48:49<06:23,  3.95s/it]"
          ]
        },
        {
          "output_type": "stream",
          "name": "stdout",
          "text": [
            "Error fetching content: HTTPConnectionPool(host='lati.ms', port=80): Max retries exceeded with url: /lYSqC (Caused by ConnectTimeoutError(<urllib3.connection.HTTPConnection object at 0x7c728be7b040>, 'Connection to lati.ms timed out. (connect timeout=4)'))\n"
          ]
        },
        {
          "output_type": "stream",
          "name": "stderr",
          "text": [
            "Extracting content:  95%|█████████▍| 1702/1797 [48:55<05:35,  3.53s/it]"
          ]
        },
        {
          "output_type": "stream",
          "name": "stdout",
          "text": [
            "Error fetching content: HTTPConnectionPool(host='lati.ms', port=80): Max retries exceeded with url: /lYHqv (Caused by ConnectTimeoutError(<urllib3.connection.HTTPConnection object at 0x7c728bedc520>, 'Connection to lati.ms timed out. (connect timeout=4)'))\n"
          ]
        },
        {
          "output_type": "stream",
          "name": "stderr",
          "text": [
            "\rExtracting content:  95%|█████████▍| 1703/1797 [48:59<05:45,  3.68s/it]"
          ]
        },
        {
          "output_type": "stream",
          "name": "stdout",
          "text": [
            "Error fetching content: HTTPConnectionPool(host='lati.ms', port=80): Max retries exceeded with url: /lYdb5 (Caused by ConnectTimeoutError(<urllib3.connection.HTTPConnection object at 0x7c728bedcd60>, 'Connection to lati.ms timed out. (connect timeout=4)'))\n"
          ]
        },
        {
          "output_type": "stream",
          "name": "stderr",
          "text": [
            "\rExtracting content:  95%|█████████▍| 1704/1797 [49:03<05:51,  3.78s/it]"
          ]
        },
        {
          "output_type": "stream",
          "name": "stdout",
          "text": [
            "Error fetching content: HTTPConnectionPool(host='lati.ms', port=80): Max retries exceeded with url: /lYnWY (Caused by ConnectTimeoutError(<urllib3.connection.HTTPConnection object at 0x7c728bedd5a0>, 'Connection to lati.ms timed out. (connect timeout=4)'))\n"
          ]
        },
        {
          "output_type": "stream",
          "name": "stderr",
          "text": [
            "\rExtracting content:  95%|█████████▍| 1705/1797 [49:03<04:11,  2.73s/it]"
          ]
        },
        {
          "output_type": "stream",
          "name": "stdout",
          "text": [
            "Error fetching content: 404 Client Error: Not Found for url: https://t.co/sjrsMjT%E2%80%A6\n"
          ]
        },
        {
          "output_type": "stream",
          "name": "stderr",
          "text": [
            "\rExtracting content:  95%|█████████▍| 1706/1797 [49:07<04:43,  3.12s/it]"
          ]
        },
        {
          "output_type": "stream",
          "name": "stdout",
          "text": [
            "Error fetching content: HTTPConnectionPool(host='lati.ms', port=80): Max retries exceeded with url: /lYcln (Caused by ConnectTimeoutError(<urllib3.connection.HTTPConnection object at 0x7c728beddc30>, 'Connection to lati.ms timed out. (connect timeout=4)'))\n"
          ]
        },
        {
          "output_type": "stream",
          "name": "stderr",
          "text": [
            "\rExtracting content:  95%|█████████▍| 1707/1797 [49:11<05:04,  3.39s/it]"
          ]
        },
        {
          "output_type": "stream",
          "name": "stdout",
          "text": [
            "Error fetching content: HTTPConnectionPool(host='lati.ms', port=80): Max retries exceeded with url: /lY1Uw (Caused by ConnectTimeoutError(<urllib3.connection.HTTPConnection object at 0x7c728bede5f0>, 'Connection to lati.ms timed out. (connect timeout=4)'))\n"
          ]
        },
        {
          "output_type": "stream",
          "name": "stderr",
          "text": [
            "\rExtracting content:  95%|█████████▌| 1708/1797 [49:15<05:18,  3.57s/it]"
          ]
        },
        {
          "output_type": "stream",
          "name": "stdout",
          "text": [
            "Error fetching content: HTTPConnectionPool(host='lati.ms', port=80): Max retries exceeded with url: /lY1B3 (Caused by ConnectTimeoutError(<urllib3.connection.HTTPConnection object at 0x7c728bedee30>, 'Connection to lati.ms timed out. (connect timeout=4)'))\n"
          ]
        },
        {
          "output_type": "stream",
          "name": "stderr",
          "text": [
            "\rExtracting content:  95%|█████████▌| 1709/1797 [49:19<05:26,  3.71s/it]"
          ]
        },
        {
          "output_type": "stream",
          "name": "stdout",
          "text": [
            "Error fetching content: HTTPConnectionPool(host='lati.ms', port=80): Max retries exceeded with url: /lXZtP (Caused by ConnectTimeoutError(<urllib3.connection.HTTPConnection object at 0x7c728bedd840>, 'Connection to lati.ms timed out. (connect timeout=4)'))\n"
          ]
        },
        {
          "output_type": "stream",
          "name": "stderr",
          "text": [
            "\rExtracting content:  95%|█████████▌| 1710/1797 [49:23<05:30,  3.80s/it]"
          ]
        },
        {
          "output_type": "stream",
          "name": "stdout",
          "text": [
            "Error fetching content: HTTPConnectionPool(host='lati.ms', port=80): Max retries exceeded with url: /lXZfK (Caused by ConnectTimeoutError(<urllib3.connection.HTTPConnection object at 0x7c728beddc00>, 'Connection to lati.ms timed out. (connect timeout=4)'))\n"
          ]
        },
        {
          "output_type": "stream",
          "name": "stderr",
          "text": [
            "\rExtracting content:  95%|█████████▌| 1711/1797 [49:27<05:32,  3.86s/it]"
          ]
        },
        {
          "output_type": "stream",
          "name": "stdout",
          "text": [
            "Error fetching content: HTTPConnectionPool(host='lati.ms', port=80): Max retries exceeded with url: /lXZ5l (Caused by ConnectTimeoutError(<urllib3.connection.HTTPConnection object at 0x7c728bedd330>, 'Connection to lati.ms timed out. (connect timeout=4)'))\n"
          ]
        },
        {
          "output_type": "stream",
          "name": "stderr",
          "text": [
            "\rExtracting content:  95%|█████████▌| 1712/1797 [49:32<05:37,  3.97s/it]"
          ]
        },
        {
          "output_type": "stream",
          "name": "stdout",
          "text": [
            "Error fetching content: HTTPConnectionPool(host='lati.ms', port=80): Max retries exceeded with url: /lXYZk (Caused by ConnectTimeoutError(<urllib3.connection.HTTPConnection object at 0x7c728bedcac0>, 'Connection to lati.ms timed out. (connect timeout=4)'))\n"
          ]
        },
        {
          "output_type": "stream",
          "name": "stderr",
          "text": [
            "\rExtracting content:  95%|█████████▌| 1713/1797 [49:36<05:34,  3.98s/it]"
          ]
        },
        {
          "output_type": "stream",
          "name": "stdout",
          "text": [
            "Error fetching content: HTTPConnectionPool(host='lati.ms', port=80): Max retries exceeded with url: /lWrbM (Caused by ConnectTimeoutError(<urllib3.connection.HTTPConnection object at 0x7c728beb7f70>, 'Connection to lati.ms timed out. (connect timeout=4)'))\n"
          ]
        },
        {
          "output_type": "stream",
          "name": "stderr",
          "text": [
            "\rExtracting content:  95%|█████████▌| 1714/1797 [49:40<05:31,  3.99s/it]"
          ]
        },
        {
          "output_type": "stream",
          "name": "stdout",
          "text": [
            "Error fetching content: HTTPConnectionPool(host='lati.ms', port=80): Max retries exceeded with url: /lWqvw (Caused by ConnectTimeoutError(<urllib3.connection.HTTPConnection object at 0x7c728bedce50>, 'Connection to lati.ms timed out. (connect timeout=4)'))\n"
          ]
        },
        {
          "output_type": "stream",
          "name": "stderr",
          "text": [
            "\rExtracting content:  95%|█████████▌| 1715/1797 [49:44<05:27,  4.00s/it]"
          ]
        },
        {
          "output_type": "stream",
          "name": "stdout",
          "text": [
            "Error fetching content: HTTPConnectionPool(host='lati.ms', port=80): Max retries exceeded with url: /lWpaY (Caused by ConnectTimeoutError(<urllib3.connection.HTTPConnection object at 0x7c728bedd810>, 'Connection to lati.ms timed out. (connect timeout=4)'))\n"
          ]
        },
        {
          "output_type": "stream",
          "name": "stderr",
          "text": [
            "\rExtracting content:  95%|█████████▌| 1716/1797 [49:48<05:24,  4.00s/it]"
          ]
        },
        {
          "output_type": "stream",
          "name": "stdout",
          "text": [
            "Error fetching content: HTTPConnectionPool(host='lati.ms', port=80): Max retries exceeded with url: /lWbFn (Caused by ConnectTimeoutError(<urllib3.connection.HTTPConnection object at 0x7c728bede260>, 'Connection to lati.ms timed out. (connect timeout=4)'))\n"
          ]
        },
        {
          "output_type": "stream",
          "name": "stderr",
          "text": [
            "\rExtracting content:  96%|█████████▌| 1717/1797 [49:52<05:20,  4.00s/it]"
          ]
        },
        {
          "output_type": "stream",
          "name": "stdout",
          "text": [
            "Error fetching content: HTTPConnectionPool(host='lati.ms', port=80): Max retries exceeded with url: /lWbvQ (Caused by ConnectTimeoutError(<urllib3.connection.HTTPConnection object at 0x7c728bede920>, 'Connection to lati.ms timed out. (connect timeout=4)'))\n"
          ]
        },
        {
          "output_type": "stream",
          "name": "stderr",
          "text": [
            "\rExtracting content:  96%|█████████▌| 1718/1797 [49:56<05:16,  4.01s/it]"
          ]
        },
        {
          "output_type": "stream",
          "name": "stdout",
          "text": [
            "Error fetching content: HTTPConnectionPool(host='lati.ms', port=80): Max retries exceeded with url: /lVIEg (Caused by ConnectTimeoutError(<urllib3.connection.HTTPConnection object at 0x7c728beb7df0>, 'Connection to lati.ms timed out. (connect timeout=4)'))\n"
          ]
        },
        {
          "output_type": "stream",
          "name": "stderr",
          "text": [
            "Extracting content:  96%|█████████▌| 1720/1797 [50:00<03:38,  2.84s/it]"
          ]
        },
        {
          "output_type": "stream",
          "name": "stdout",
          "text": [
            "Error fetching content: HTTPConnectionPool(host='lati.ms', port=80): Max retries exceeded with url: /lVEA7 (Caused by ConnectTimeoutError(<urllib3.connection.HTTPConnection object at 0x7c728bedef80>, 'Connection to lati.ms timed out. (connect timeout=4)'))\n",
            "Error fetching content: 500 Server Error: Internal Server Error for url: http://soa.li/8yU7xSZ\n"
          ]
        },
        {
          "output_type": "stream",
          "name": "stderr",
          "text": [
            "Extracting content:  96%|█████████▌| 1723/1797 [50:06<03:19,  2.69s/it]"
          ]
        },
        {
          "output_type": "stream",
          "name": "stdout",
          "text": [
            "Error fetching content: HTTPConnectionPool(host='lati.ms', port=80): Max retries exceeded with url: /lVGlt (Caused by ConnectTimeoutError(<urllib3.connection.HTTPConnection object at 0x7c728bddb5b0>, 'Connection to lati.ms timed out. (connect timeout=4)'))\n"
          ]
        },
        {
          "output_type": "stream",
          "name": "stderr",
          "text": [
            "\rExtracting content:  96%|█████████▌| 1724/1797 [50:11<03:47,  3.12s/it]"
          ]
        },
        {
          "output_type": "stream",
          "name": "stdout",
          "text": [
            "Error fetching content: HTTPConnectionPool(host='lati.ms', port=80): Max retries exceeded with url: /lVCyH (Caused by ConnectTimeoutError(<urllib3.connection.HTTPConnection object at 0x7c728bddbcd0>, 'Connection to lati.ms timed out. (connect timeout=4)'))\n"
          ]
        },
        {
          "output_type": "stream",
          "name": "stderr",
          "text": [
            "\rExtracting content:  96%|█████████▌| 1725/1797 [50:15<04:03,  3.39s/it]"
          ]
        },
        {
          "output_type": "stream",
          "name": "stdout",
          "text": [
            "Error fetching content: HTTPConnectionPool(host='lati.ms', port=80): Max retries exceeded with url: /lVzJk (Caused by ConnectTimeoutError(<urllib3.connection.HTTPConnection object at 0x7c728be00550>, 'Connection to lati.ms timed out. (connect timeout=4)'))\n"
          ]
        },
        {
          "output_type": "stream",
          "name": "stderr",
          "text": [
            "\rExtracting content:  96%|█████████▌| 1726/1797 [50:15<02:52,  2.44s/it]"
          ]
        },
        {
          "output_type": "stream",
          "name": "stdout",
          "text": [
            "Error fetching content: 404 Client Error: Not Found for url: https://t.co/4%E2%80%A6\n",
            "Error fetching content: Failed to parse: http://t.co…\n"
          ]
        },
        {
          "output_type": "stream",
          "name": "stderr",
          "text": [
            "\rExtracting content:  96%|█████████▌| 1728/1797 [50:19<02:34,  2.24s/it]"
          ]
        },
        {
          "output_type": "stream",
          "name": "stdout",
          "text": [
            "Error fetching content: HTTPConnectionPool(host='lati.ms', port=80): Max retries exceeded with url: /lTJdb (Caused by ConnectTimeoutError(<urllib3.connection.HTTPConnection object at 0x7c728bddb7c0>, 'Connection to lati.ms timed out. (connect timeout=4)'))\n"
          ]
        },
        {
          "output_type": "stream",
          "name": "stderr",
          "text": [
            "\rExtracting content:  96%|█████████▌| 1729/1797 [50:23<03:02,  2.68s/it]"
          ]
        },
        {
          "output_type": "stream",
          "name": "stdout",
          "text": [
            "Error fetching content: HTTPConnectionPool(host='lati.ms', port=80): Max retries exceeded with url: /lTZ07 (Caused by ConnectTimeoutError(<urllib3.connection.HTTPConnection object at 0x7c728bddad10>, 'Connection to lati.ms timed out. (connect timeout=4)'))\n"
          ]
        },
        {
          "output_type": "stream",
          "name": "stderr",
          "text": [
            "\rExtracting content:  96%|█████████▋| 1730/1797 [50:27<03:22,  3.03s/it]"
          ]
        },
        {
          "output_type": "stream",
          "name": "stdout",
          "text": [
            "Error fetching content: HTTPConnectionPool(host='lati.ms', port=80): Max retries exceeded with url: /lTX0H (Caused by ConnectTimeoutError(<urllib3.connection.HTTPConnection object at 0x7c728be00dc0>, 'Connection to lati.ms timed out. (connect timeout=4)'))\n"
          ]
        },
        {
          "output_type": "stream",
          "name": "stderr",
          "text": [
            "\rExtracting content:  96%|█████████▋| 1731/1797 [50:31<03:37,  3.29s/it]"
          ]
        },
        {
          "output_type": "stream",
          "name": "stdout",
          "text": [
            "Error fetching content: HTTPConnectionPool(host='lati.ms', port=80): Max retries exceeded with url: /lTWks (Caused by ConnectTimeoutError(<urllib3.connection.HTTPConnection object at 0x7c728be01600>, 'Connection to lati.ms timed out. (connect timeout=4)'))\n"
          ]
        },
        {
          "output_type": "stream",
          "name": "stderr",
          "text": [
            "\rExtracting content:  96%|█████████▋| 1732/1797 [50:35<03:47,  3.49s/it]"
          ]
        },
        {
          "output_type": "stream",
          "name": "stdout",
          "text": [
            "Error fetching content: HTTPConnectionPool(host='lati.ms', port=80): Max retries exceeded with url: /lTrPb (Caused by ConnectTimeoutError(<urllib3.connection.HTTPConnection object at 0x7c728be01f60>, 'Connection to lati.ms timed out. (connect timeout=4)'))\n"
          ]
        },
        {
          "output_type": "stream",
          "name": "stderr",
          "text": [
            "\rExtracting content:  96%|█████████▋| 1733/1797 [50:39<03:53,  3.64s/it]"
          ]
        },
        {
          "output_type": "stream",
          "name": "stdout",
          "text": [
            "Error fetching content: HTTPConnectionPool(host='lati.ms', port=80): Max retries exceeded with url: /lTEli (Caused by ConnectTimeoutError(<urllib3.connection.HTTPConnection object at 0x7c728bddad40>, 'Connection to lati.ms timed out. (connect timeout=4)'))\n"
          ]
        },
        {
          "output_type": "stream",
          "name": "stderr",
          "text": [
            "\rExtracting content:  96%|█████████▋| 1734/1797 [50:43<03:56,  3.75s/it]"
          ]
        },
        {
          "output_type": "stream",
          "name": "stdout",
          "text": [
            "Error fetching content: HTTPConnectionPool(host='lati.ms', port=80): Max retries exceeded with url: /lTxZK (Caused by ConnectTimeoutError(<urllib3.connection.HTTPConnection object at 0x7c728bddbf10>, 'Connection to lati.ms timed out. (connect timeout=4)'))\n"
          ]
        },
        {
          "output_type": "stream",
          "name": "stderr",
          "text": [
            "\rExtracting content:  97%|█████████▋| 1735/1797 [50:47<03:57,  3.83s/it]"
          ]
        },
        {
          "output_type": "stream",
          "name": "stdout",
          "text": [
            "Error fetching content: HTTPConnectionPool(host='lati.ms', port=80): Max retries exceeded with url: /lThlv (Caused by ConnectTimeoutError(<urllib3.connection.HTTPConnection object at 0x7c728be00eb0>, 'Connection to lati.ms timed out. (connect timeout=4)'))\n"
          ]
        },
        {
          "output_type": "stream",
          "name": "stderr",
          "text": [
            "\rExtracting content:  97%|█████████▋| 1736/1797 [50:51<03:56,  3.88s/it]"
          ]
        },
        {
          "output_type": "stream",
          "name": "stdout",
          "text": [
            "Error fetching content: HTTPConnectionPool(host='lati.ms', port=80): Max retries exceeded with url: /lSYvs (Caused by ConnectTimeoutError(<urllib3.connection.HTTPConnection object at 0x7c728be00a00>, 'Connection to lati.ms timed out. (connect timeout=4)'))\n"
          ]
        },
        {
          "output_type": "stream",
          "name": "stderr",
          "text": [
            "Extracting content:  97%|█████████▋| 1738/1797 [50:56<03:18,  3.37s/it]"
          ]
        },
        {
          "output_type": "stream",
          "name": "stdout",
          "text": [
            "Error fetching content: HTTPConnectionPool(host='lati.ms', port=80): Max retries exceeded with url: /lSlnu (Caused by ConnectTimeoutError(<urllib3.connection.HTTPConnection object at 0x7c728ba927a0>, 'Connection to lati.ms timed out. (connect timeout=4)'))\n"
          ]
        },
        {
          "output_type": "stream",
          "name": "stderr",
          "text": [
            "\rExtracting content:  97%|█████████▋| 1739/1797 [51:00<03:26,  3.56s/it]"
          ]
        },
        {
          "output_type": "stream",
          "name": "stdout",
          "text": [
            "Error fetching content: HTTPConnectionPool(host='lati.ms', port=80): Max retries exceeded with url: /lPiX2 (Caused by ConnectTimeoutError(<urllib3.connection.HTTPConnection object at 0x7c728ba92fe0>, 'Connection to lati.ms timed out. (connect timeout=4)'))\n"
          ]
        },
        {
          "output_type": "stream",
          "name": "stderr",
          "text": [
            "\rExtracting content:  97%|█████████▋| 1740/1797 [51:04<03:30,  3.69s/it]"
          ]
        },
        {
          "output_type": "stream",
          "name": "stdout",
          "text": [
            "Error fetching content: HTTPConnectionPool(host='lati.ms', port=80): Max retries exceeded with url: /lPk8O (Caused by ConnectTimeoutError(<urllib3.connection.HTTPConnection object at 0x7c728ba930d0>, 'Connection to lati.ms timed out. (connect timeout=4)'))\n"
          ]
        },
        {
          "output_type": "stream",
          "name": "stderr",
          "text": [
            "\rExtracting content:  97%|█████████▋| 1741/1797 [51:08<03:32,  3.79s/it]"
          ]
        },
        {
          "output_type": "stream",
          "name": "stdout",
          "text": [
            "Error fetching content: HTTPConnectionPool(host='lati.ms', port=80): Max retries exceeded with url: /lPiae (Caused by ConnectTimeoutError(<urllib3.connection.HTTPConnection object at 0x7c728ba939a0>, 'Connection to lati.ms timed out. (connect timeout=4)'))\n"
          ]
        },
        {
          "output_type": "stream",
          "name": "stderr",
          "text": [
            "\rExtracting content:  97%|█████████▋| 1742/1797 [51:12<03:32,  3.85s/it]"
          ]
        },
        {
          "output_type": "stream",
          "name": "stdout",
          "text": [
            "Error fetching content: HTTPConnectionPool(host='lati.ms', port=80): Max retries exceeded with url: /lI3wn (Caused by ConnectTimeoutError(<urllib3.connection.HTTPConnection object at 0x7c728bac4220>, 'Connection to lati.ms timed out. (connect timeout=4)'))\n"
          ]
        },
        {
          "output_type": "stream",
          "name": "stderr",
          "text": [
            "\rExtracting content:  97%|█████████▋| 1743/1797 [51:16<03:32,  3.93s/it]"
          ]
        },
        {
          "output_type": "stream",
          "name": "stdout",
          "text": [
            "Error fetching content: HTTPConnectionPool(host='lati.ms', port=80): Max retries exceeded with url: /lPtlr (Caused by ConnectTimeoutError(<urllib3.connection.HTTPConnection object at 0x7c728bac48b0>, 'Connection to lati.ms timed out. (connect timeout=4)'))\n"
          ]
        },
        {
          "output_type": "stream",
          "name": "stderr",
          "text": [
            "\rExtracting content:  97%|█████████▋| 1744/1797 [51:20<03:29,  3.95s/it]"
          ]
        },
        {
          "output_type": "stream",
          "name": "stdout",
          "text": [
            "Error fetching content: HTTPConnectionPool(host='lati.ms', port=80): Max retries exceeded with url: /lPd2x (Caused by ConnectTimeoutError(<urllib3.connection.HTTPConnection object at 0x7c728bac5120>, 'Connection to lati.ms timed out. (connect timeout=4)'))\n"
          ]
        },
        {
          "output_type": "stream",
          "name": "stderr",
          "text": [
            "\rExtracting content:  97%|█████████▋| 1745/1797 [51:24<03:26,  3.97s/it]"
          ]
        },
        {
          "output_type": "stream",
          "name": "stdout",
          "text": [
            "Error fetching content: HTTPConnectionPool(host='lati.ms', port=80): Max retries exceeded with url: /lPt2m (Caused by ConnectTimeoutError(<urllib3.connection.HTTPConnection object at 0x7c728ba936d0>, 'Connection to lati.ms timed out. (connect timeout=4)'))\n"
          ]
        },
        {
          "output_type": "stream",
          "name": "stderr",
          "text": [
            "Extracting content:  97%|█████████▋| 1747/1797 [51:30<02:50,  3.40s/it]"
          ]
        },
        {
          "output_type": "stream",
          "name": "stdout",
          "text": [
            "Error fetching content: HTTPConnectionPool(host='lati.ms', port=80): Max retries exceeded with url: /lPkYF (Caused by ConnectTimeoutError(<urllib3.connection.HTTPConnection object at 0x7c728b97d720>, 'Connection to lati.ms timed out. (connect timeout=4)'))\n"
          ]
        },
        {
          "output_type": "stream",
          "name": "stderr",
          "text": [
            "\rExtracting content:  97%|█████████▋| 1748/1797 [51:34<02:55,  3.58s/it]"
          ]
        },
        {
          "output_type": "stream",
          "name": "stdout",
          "text": [
            "Error fetching content: HTTPConnectionPool(host='lati.ms', port=80): Max retries exceeded with url: /lPh0P (Caused by ConnectTimeoutError(<urllib3.connection.HTTPConnection object at 0x7c728b97d6f0>, 'Connection to lati.ms timed out. (connect timeout=4)'))\n"
          ]
        },
        {
          "output_type": "stream",
          "name": "stderr",
          "text": [
            "\rExtracting content:  97%|█████████▋| 1749/1797 [51:38<02:58,  3.71s/it]"
          ]
        },
        {
          "output_type": "stream",
          "name": "stdout",
          "text": [
            "Error fetching content: HTTPConnectionPool(host='lati.ms', port=80): Max retries exceeded with url: /lPclY (Caused by ConnectTimeoutError(<urllib3.connection.HTTPConnection object at 0x7c728b97e080>, 'Connection to lati.ms timed out. (connect timeout=4)'))\n"
          ]
        },
        {
          "output_type": "stream",
          "name": "stderr",
          "text": [
            "\rExtracting content:  97%|█████████▋| 1750/1797 [51:42<02:58,  3.80s/it]"
          ]
        },
        {
          "output_type": "stream",
          "name": "stdout",
          "text": [
            "Error fetching content: HTTPConnectionPool(host='lati.ms', port=80): Max retries exceeded with url: /lORT3 (Caused by ConnectTimeoutError(<urllib3.connection.HTTPConnection object at 0x7c728b97e7a0>, 'Connection to lati.ms timed out. (connect timeout=4)'))\n"
          ]
        },
        {
          "output_type": "stream",
          "name": "stderr",
          "text": [
            "\rExtracting content:  97%|█████████▋| 1751/1797 [51:46<02:57,  3.87s/it]"
          ]
        },
        {
          "output_type": "stream",
          "name": "stdout",
          "text": [
            "Error fetching content: HTTPConnectionPool(host='lati.ms', port=80): Max retries exceeded with url: /lPbLB (Caused by ConnectTimeoutError(<urllib3.connection.HTTPConnection object at 0x7c728b97efe0>, 'Connection to lati.ms timed out. (connect timeout=4)'))\n"
          ]
        },
        {
          "output_type": "stream",
          "name": "stderr",
          "text": [
            "\rExtracting content:  97%|█████████▋| 1752/1797 [51:46<02:05,  2.79s/it]"
          ]
        },
        {
          "output_type": "stream",
          "name": "stdout",
          "text": [
            "Error fetching content: 404 Client Error: Not Found for url: https://t.co/%E2%80%A6\n"
          ]
        },
        {
          "output_type": "stream",
          "name": "stderr",
          "text": [
            "\rExtracting content:  98%|█████████▊| 1753/1797 [51:50<02:18,  3.15s/it]"
          ]
        },
        {
          "output_type": "stream",
          "name": "stdout",
          "text": [
            "Error fetching content: HTTPConnectionPool(host='lati.ms', port=80): Max retries exceeded with url: /lONCa (Caused by ConnectTimeoutError(<urllib3.connection.HTTPConnection object at 0x7c728b97f6d0>, 'Connection to lati.ms timed out. (connect timeout=4)'))\n"
          ]
        },
        {
          "output_type": "stream",
          "name": "stderr",
          "text": [
            "\rExtracting content:  98%|█████████▊| 1754/1797 [51:54<02:26,  3.41s/it]"
          ]
        },
        {
          "output_type": "stream",
          "name": "stdout",
          "text": [
            "Error fetching content: HTTPConnectionPool(host='lati.ms', port=80): Max retries exceeded with url: /lODZN (Caused by ConnectTimeoutError(<urllib3.connection.HTTPConnection object at 0x7c728b9ac250>, 'Connection to lati.ms timed out. (connect timeout=4)'))\n"
          ]
        },
        {
          "output_type": "stream",
          "name": "stderr",
          "text": [
            "\rExtracting content:  98%|█████████▊| 1755/1797 [51:55<01:52,  2.68s/it]"
          ]
        },
        {
          "output_type": "stream",
          "name": "stdout",
          "text": [
            "Error fetching content: 401 Client Error: HTTP Forbidden for url: https://www.reuters.com\n"
          ]
        },
        {
          "output_type": "stream",
          "name": "stderr",
          "text": [
            "\rExtracting content:  98%|█████████▊| 1756/1797 [51:59<02:06,  3.08s/it]"
          ]
        },
        {
          "output_type": "stream",
          "name": "stdout",
          "text": [
            "Error fetching content: HTTPConnectionPool(host='lati.ms', port=80): Max retries exceeded with url: /lOtpW (Caused by ConnectTimeoutError(<urllib3.connection.HTTPConnection object at 0x7c728b97eb00>, 'Connection to lati.ms timed out. (connect timeout=4)'))\n"
          ]
        },
        {
          "output_type": "stream",
          "name": "stderr",
          "text": [
            "\rExtracting content:  98%|█████████▊| 1757/1797 [52:03<02:14,  3.36s/it]"
          ]
        },
        {
          "output_type": "stream",
          "name": "stdout",
          "text": [
            "Error fetching content: HTTPConnectionPool(host='lati.ms', port=80): Max retries exceeded with url: /lN9I1 (Caused by ConnectTimeoutError(<urllib3.connection.HTTPConnection object at 0x7c728b97d1b0>, 'Connection to lati.ms timed out. (connect timeout=4)'))\n"
          ]
        },
        {
          "output_type": "stream",
          "name": "stderr",
          "text": [
            "\rExtracting content:  98%|█████████▊| 1758/1797 [52:07<02:18,  3.55s/it]"
          ]
        },
        {
          "output_type": "stream",
          "name": "stdout",
          "text": [
            "Error fetching content: HTTPConnectionPool(host='lati.ms', port=80): Max retries exceeded with url: /lN5qk (Caused by ConnectTimeoutError(<urllib3.connection.HTTPConnection object at 0x7c728b97d240>, 'Connection to lati.ms timed out. (connect timeout=4)'))\n"
          ]
        },
        {
          "output_type": "stream",
          "name": "stderr",
          "text": [
            "\rExtracting content:  98%|█████████▊| 1759/1797 [52:11<02:20,  3.69s/it]"
          ]
        },
        {
          "output_type": "stream",
          "name": "stdout",
          "text": [
            "Error fetching content: HTTPConnectionPool(host='lati.ms', port=80): Max retries exceeded with url: /lN1iY (Caused by ConnectTimeoutError(<urllib3.connection.HTTPConnection object at 0x7c728b97d720>, 'Connection to lati.ms timed out. (connect timeout=4)'))\n"
          ]
        },
        {
          "output_type": "stream",
          "name": "stderr",
          "text": [
            "\rExtracting content:  98%|█████████▊| 1760/1797 [52:11<01:38,  2.65s/it]"
          ]
        },
        {
          "output_type": "stream",
          "name": "stdout",
          "text": [
            "Error fetching content: 404 Client Error: Not Found for url: https://t.co/cK73Jf%E2%80%A6\n"
          ]
        },
        {
          "output_type": "stream",
          "name": "stderr",
          "text": [
            "\rExtracting content:  98%|█████████▊| 1761/1797 [52:15<01:50,  3.06s/it]"
          ]
        },
        {
          "output_type": "stream",
          "name": "stdout",
          "text": [
            "Error fetching content: HTTPConnectionPool(host='lati.ms', port=80): Max retries exceeded with url: /lN0JG (Caused by ConnectTimeoutError(<urllib3.connection.HTTPConnection object at 0x7c728b97f910>, 'Connection to lati.ms timed out. (connect timeout=4)'))\n"
          ]
        },
        {
          "output_type": "stream",
          "name": "stderr",
          "text": [
            "\rExtracting content:  98%|█████████▊| 1762/1797 [52:19<01:57,  3.35s/it]"
          ]
        },
        {
          "output_type": "stream",
          "name": "stdout",
          "text": [
            "Error fetching content: HTTPConnectionPool(host='lati.ms', port=80): Max retries exceeded with url: /lMQXS (Caused by ConnectTimeoutError(<urllib3.connection.HTTPConnection object at 0x7c728b97fa00>, 'Connection to lati.ms timed out. (connect timeout=4)'))\n"
          ]
        },
        {
          "output_type": "stream",
          "name": "stderr",
          "text": [
            "\rExtracting content:  98%|█████████▊| 1763/1797 [52:19<01:22,  2.41s/it]"
          ]
        },
        {
          "output_type": "stream",
          "name": "stdout",
          "text": [
            "Error fetching content: 404 Client Error: Not Found for url: https://t.co/gUw635%E2%80%A6\n"
          ]
        },
        {
          "output_type": "stream",
          "name": "stderr",
          "text": [
            "\rExtracting content:  98%|█████████▊| 1764/1797 [52:23<01:35,  2.89s/it]"
          ]
        },
        {
          "output_type": "stream",
          "name": "stdout",
          "text": [
            "Error fetching content: HTTPConnectionPool(host='lati.ms', port=80): Max retries exceeded with url: /lMDae (Caused by ConnectTimeoutError(<urllib3.connection.HTTPConnection object at 0x7c728b97f700>, 'Connection to lati.ms timed out. (connect timeout=4)'))\n"
          ]
        },
        {
          "output_type": "stream",
          "name": "stderr",
          "text": [
            "\rExtracting content:  98%|█████████▊| 1765/1797 [52:27<01:43,  3.23s/it]"
          ]
        },
        {
          "output_type": "stream",
          "name": "stdout",
          "text": [
            "Error fetching content: HTTPConnectionPool(host='lati.ms', port=80): Max retries exceeded with url: /lMGzi (Caused by ConnectTimeoutError(<urllib3.connection.HTTPConnection object at 0x7c728b97f2b0>, 'Connection to lati.ms timed out. (connect timeout=4)'))\n"
          ]
        },
        {
          "output_type": "stream",
          "name": "stderr",
          "text": [
            "Extracting content:  98%|█████████▊| 1767/1797 [52:32<01:30,  3.01s/it]"
          ]
        },
        {
          "output_type": "stream",
          "name": "stdout",
          "text": [
            "Error fetching content: HTTPConnectionPool(host='lati.ms', port=80): Max retries exceeded with url: /lMr4a (Caused by ConnectTimeoutError(<urllib3.connection.HTTPConnection object at 0x7c728b884730>, 'Connection to lati.ms timed out. (connect timeout=4)'))\n"
          ]
        },
        {
          "output_type": "stream",
          "name": "stderr",
          "text": [
            "Extracting content:  98%|█████████▊| 1769/1797 [52:35<00:55,  1.97s/it]"
          ]
        },
        {
          "output_type": "stream",
          "name": "stdout",
          "text": [
            "Error fetching content: 404 Client Error: Not Found for url: https://t.co/4rf14%E2%80%A6\n"
          ]
        },
        {
          "output_type": "stream",
          "name": "stderr",
          "text": [
            "\rExtracting content:  98%|█████████▊| 1770/1797 [52:39<01:09,  2.58s/it]"
          ]
        },
        {
          "output_type": "stream",
          "name": "stdout",
          "text": [
            "Error fetching content: HTTPConnectionPool(host='lati.ms', port=80): Max retries exceeded with url: /lMkCT (Caused by ConnectTimeoutError(<urllib3.connection.HTTPConnection object at 0x7c728b803160>, 'Connection to lati.ms timed out. (connect timeout=4)'))\n"
          ]
        },
        {
          "output_type": "stream",
          "name": "stderr",
          "text": [
            "\rExtracting content:  99%|█████████▊| 1771/1797 [52:43<01:18,  3.01s/it]"
          ]
        },
        {
          "output_type": "stream",
          "name": "stdout",
          "text": [
            "Error fetching content: HTTPConnectionPool(host='lati.ms', port=80): Max retries exceeded with url: /lMcPa (Caused by ConnectTimeoutError(<urllib3.connection.HTTPConnection object at 0x7c728b803a60>, 'Connection to lati.ms timed out. (connect timeout=4)'))\n"
          ]
        },
        {
          "output_type": "stream",
          "name": "stderr",
          "text": [
            "\rExtracting content:  99%|█████████▊| 1772/1797 [52:47<01:22,  3.31s/it]"
          ]
        },
        {
          "output_type": "stream",
          "name": "stdout",
          "text": [
            "Error fetching content: HTTPConnectionPool(host='lati.ms', port=80): Max retries exceeded with url: /lKLCW (Caused by ConnectTimeoutError(<urllib3.connection.HTTPConnection object at 0x7c728b63c250>, 'Connection to lati.ms timed out. (connect timeout=4)'))\n"
          ]
        },
        {
          "output_type": "stream",
          "name": "stderr",
          "text": [
            "Extracting content:  99%|█████████▊| 1774/1797 [52:48<00:43,  1.90s/it]"
          ]
        },
        {
          "output_type": "stream",
          "name": "stdout",
          "text": [
            "Error fetching content: 404 Client Error: Not Found for url: https://t.co/%E2%80%A6\n"
          ]
        },
        {
          "output_type": "stream",
          "name": "stderr",
          "text": [
            "\rExtracting content:  99%|█████████▉| 1775/1797 [52:52<00:55,  2.54s/it]"
          ]
        },
        {
          "output_type": "stream",
          "name": "stdout",
          "text": [
            "Error fetching content: HTTPConnectionPool(host='lati.ms', port=80): Max retries exceeded with url: /lKtPL (Caused by ConnectTimeoutError(<urllib3.connection.HTTPConnection object at 0x7c728b5aa7d0>, 'Connection to lati.ms timed out. (connect timeout=4)'))\n"
          ]
        },
        {
          "output_type": "stream",
          "name": "stderr",
          "text": [
            "\rExtracting content:  99%|█████████▉| 1776/1797 [52:56<01:02,  2.98s/it]"
          ]
        },
        {
          "output_type": "stream",
          "name": "stdout",
          "text": [
            "Error fetching content: HTTPConnectionPool(host='lati.ms', port=80): Max retries exceeded with url: /lK8sT (Caused by ConnectTimeoutError(<urllib3.connection.HTTPConnection object at 0x7c728b5aa530>, 'Connection to lati.ms timed out. (connect timeout=4)'))\n"
          ]
        },
        {
          "output_type": "stream",
          "name": "stderr",
          "text": [
            "\rExtracting content:  99%|█████████▉| 1777/1797 [53:00<01:05,  3.29s/it]"
          ]
        },
        {
          "output_type": "stream",
          "name": "stdout",
          "text": [
            "Error fetching content: HTTPConnectionPool(host='lati.ms', port=80): Max retries exceeded with url: /lK8ii (Caused by ConnectTimeoutError(<urllib3.connection.HTTPConnection object at 0x7c728b5abd00>, 'Connection to lati.ms timed out. (connect timeout=4)'))\n"
          ]
        },
        {
          "output_type": "stream",
          "name": "stderr",
          "text": [
            "\rExtracting content:  99%|█████████▉| 1778/1797 [53:01<00:47,  2.51s/it]"
          ]
        },
        {
          "output_type": "stream",
          "name": "stdout",
          "text": [
            "Error fetching content: 404 Client Error: Not Found for url: https://www.latimes.com/news/local/la-me-rx-medical-board-20130605,0,5729243.story\n"
          ]
        },
        {
          "output_type": "stream",
          "name": "stderr",
          "text": [
            "\rExtracting content:  99%|█████████▉| 1779/1797 [53:05<00:53,  2.96s/it]"
          ]
        },
        {
          "output_type": "stream",
          "name": "stdout",
          "text": [
            "Error fetching content: HTTPConnectionPool(host='lati.ms', port=80): Max retries exceeded with url: /lJTA1 (Caused by ConnectTimeoutError(<urllib3.connection.HTTPConnection object at 0x7c728b5abac0>, 'Connection to lati.ms timed out. (connect timeout=4)'))\n"
          ]
        },
        {
          "output_type": "stream",
          "name": "stderr",
          "text": [
            "\rExtracting content:  99%|█████████▉| 1780/1797 [53:09<00:55,  3.27s/it]"
          ]
        },
        {
          "output_type": "stream",
          "name": "stdout",
          "text": [
            "Error fetching content: HTTPConnectionPool(host='lati.ms', port=80): Max retries exceeded with url: /lIrYs (Caused by ConnectTimeoutError(<urllib3.connection.HTTPConnection object at 0x7c728b5ab2b0>, 'Connection to lati.ms timed out. (connect timeout=4)'))\n"
          ]
        },
        {
          "output_type": "stream",
          "name": "stderr",
          "text": [
            "\rExtracting content:  99%|█████████▉| 1781/1797 [53:13<00:55,  3.50s/it]"
          ]
        },
        {
          "output_type": "stream",
          "name": "stdout",
          "text": [
            "Error fetching content: HTTPConnectionPool(host='lati.ms', port=80): Max retries exceeded with url: /lIrnO (Caused by ConnectTimeoutError(<urllib3.connection.HTTPConnection object at 0x7c728b5aa830>, 'Connection to lati.ms timed out. (connect timeout=4)'))\n"
          ]
        },
        {
          "output_type": "stream",
          "name": "stderr",
          "text": [
            "\rExtracting content:  99%|█████████▉| 1782/1797 [53:17<00:54,  3.65s/it]"
          ]
        },
        {
          "output_type": "stream",
          "name": "stdout",
          "text": [
            "Error fetching content: HTTPConnectionPool(host='lati.ms', port=80): Max retries exceeded with url: /lIn0c (Caused by ConnectTimeoutError(<urllib3.connection.HTTPConnection object at 0x7c728b5e4460>, 'Connection to lati.ms timed out. (connect timeout=4)'))\n"
          ]
        },
        {
          "output_type": "stream",
          "name": "stderr",
          "text": [
            "\rExtracting content:  99%|█████████▉| 1783/1797 [53:21<00:52,  3.76s/it]"
          ]
        },
        {
          "output_type": "stream",
          "name": "stdout",
          "text": [
            "Error fetching content: HTTPConnectionPool(host='lati.ms', port=80): Max retries exceeded with url: /lIk5N (Caused by ConnectTimeoutError(<urllib3.connection.HTTPConnection object at 0x7c728b5e4ca0>, 'Connection to lati.ms timed out. (connect timeout=4)'))\n"
          ]
        },
        {
          "output_type": "stream",
          "name": "stderr",
          "text": [
            "Extracting content:  99%|█████████▉| 1785/1797 [53:22<00:26,  2.22s/it]"
          ]
        },
        {
          "output_type": "stream",
          "name": "stdout",
          "text": [
            "Error fetching content: 404 Client Error: Not Found for url: https://www.latimes.com/business/money/la-fi-mo-betty-ford-center-deal-20130604,0,1311931.story?track=rss&utm_source=dlvr.it&utm_medium=twitter&dlvrit=63024\n"
          ]
        },
        {
          "output_type": "stream",
          "name": "stderr",
          "text": [
            "\rExtracting content:  99%|█████████▉| 1786/1797 [53:23<00:18,  1.64s/it]"
          ]
        },
        {
          "output_type": "stream",
          "name": "stdout",
          "text": [
            "Error fetching content: 404 Client Error: Not Found for url: https://t.co/M%E2%80%A6\n"
          ]
        },
        {
          "output_type": "stream",
          "name": "stderr",
          "text": [
            "\rExtracting content:  99%|█████████▉| 1787/1797 [53:27<00:23,  2.36s/it]"
          ]
        },
        {
          "output_type": "stream",
          "name": "stdout",
          "text": [
            "Error fetching content: HTTPConnectionPool(host='lati.ms', port=80): Max retries exceeded with url: /lIbHm (Caused by ConnectTimeoutError(<urllib3.connection.HTTPConnection object at 0x7c728af6b040>, 'Connection to lati.ms timed out. (connect timeout=4)'))\n",
            "Error fetching content: Failed to parse: http://t.…\n"
          ]
        },
        {
          "output_type": "stream",
          "name": "stderr",
          "text": [
            "\rExtracting content: 100%|█████████▉| 1789/1797 [53:31<00:17,  2.20s/it]"
          ]
        },
        {
          "output_type": "stream",
          "name": "stdout",
          "text": [
            "Error fetching content: HTTPConnectionPool(host='lati.ms', port=80): Max retries exceeded with url: /lI7Bz (Caused by ConnectTimeoutError(<urllib3.connection.HTTPConnection object at 0x7c728af98580>, 'Connection to lati.ms timed out. (connect timeout=4)'))\n"
          ]
        },
        {
          "output_type": "stream",
          "name": "stderr",
          "text": [
            "Extracting content: 100%|█████████▉| 1792/1797 [53:37<00:12,  2.44s/it]"
          ]
        },
        {
          "output_type": "stream",
          "name": "stdout",
          "text": [
            "Error fetching content: HTTPConnectionPool(host='lati.ms', port=80): Max retries exceeded with url: /lHFqG (Caused by ConnectTimeoutError(<urllib3.connection.HTTPConnection object at 0x7c728a8f9600>, 'Connection to lati.ms timed out. (connect timeout=4)'))\n"
          ]
        },
        {
          "output_type": "stream",
          "name": "stderr",
          "text": [
            "\rExtracting content: 100%|█████████▉| 1793/1797 [53:41<00:11,  2.88s/it]"
          ]
        },
        {
          "output_type": "stream",
          "name": "stdout",
          "text": [
            "Error fetching content: HTTPConnectionPool(host='lati.ms', port=80): Max retries exceeded with url: /lHtft (Caused by ConnectTimeoutError(<urllib3.connection.HTTPConnection object at 0x7c728a8f9cf0>, 'Connection to lati.ms timed out. (connect timeout=4)'))\n"
          ]
        },
        {
          "output_type": "stream",
          "name": "stderr",
          "text": [
            "\rExtracting content: 100%|█████████▉| 1794/1797 [53:45<00:09,  3.20s/it]"
          ]
        },
        {
          "output_type": "stream",
          "name": "stdout",
          "text": [
            "Error fetching content: HTTPConnectionPool(host='lati.ms', port=80): Max retries exceeded with url: /lFP2R (Caused by ConnectTimeoutError(<urllib3.connection.HTTPConnection object at 0x7c728a8fa530>, 'Connection to lati.ms timed out. (connect timeout=4)'))\n"
          ]
        },
        {
          "output_type": "stream",
          "name": "stderr",
          "text": [
            "Extracting content: 100%|█████████▉| 1796/1797 [53:50<00:02,  2.87s/it]"
          ]
        },
        {
          "output_type": "stream",
          "name": "stdout",
          "text": [
            "Error fetching content: HTTPConnectionPool(host='lati.ms', port=80): Max retries exceeded with url: /lFU8z (Caused by ConnectTimeoutError(<urllib3.connection.HTTPConnection object at 0x7c728a2ae2c0>, 'Connection to lati.ms timed out. (connect timeout=4)'))\n"
          ]
        },
        {
          "output_type": "stream",
          "name": "stderr",
          "text": [
            "Extracting content: 100%|██████████| 1797/1797 [53:54<00:00,  1.80s/it]"
          ]
        },
        {
          "output_type": "stream",
          "name": "stdout",
          "text": [
            "Error fetching content: HTTPConnectionPool(host='lati.ms', port=80): Max retries exceeded with url: /lFQf1 (Caused by ConnectTimeoutError(<urllib3.connection.HTTPConnection object at 0x7c728a2aec20>, 'Connection to lati.ms timed out. (connect timeout=4)'))\n"
          ]
        },
        {
          "output_type": "stream",
          "name": "stderr",
          "text": [
            "\n"
          ]
        }
      ]
    },
    {
      "cell_type": "code",
      "source": [
        "split_10['Content'] = extract_content_with_progress(split_10['URL'])\n",
        "split_10.to_csv('split_10_preprocessed.csv', index=False)"
      ],
      "metadata": {
        "colab": {
          "base_uri": "https://localhost:8080/"
        },
        "id": "z76moJfwflX5",
        "outputId": "02f65a62-96c0-417e-d609-8c53ea0d62e7"
      },
      "execution_count": 9,
      "outputs": [
        {
          "output_type": "stream",
          "name": "stderr",
          "text": [
            "Extracting content:   0%|          | 1/1799 [00:04<2:00:32,  4.02s/it]"
          ]
        },
        {
          "output_type": "stream",
          "name": "stdout",
          "text": [
            "Error fetching content: HTTPConnectionPool(host='lati.ms', port=80): Max retries exceeded with url: /lFOEJ (Caused by ConnectTimeoutError(<urllib3.connection.HTTPConnection object at 0x7c728a2af5e0>, 'Connection to lati.ms timed out. (connect timeout=4)'))\n"
          ]
        },
        {
          "output_type": "stream",
          "name": "stderr",
          "text": [
            "\rExtracting content:   0%|          | 2/1799 [00:04<53:33,  1.79s/it]  "
          ]
        },
        {
          "output_type": "stream",
          "name": "stdout",
          "text": [
            "Error fetching content: 404 Client Error: Not Found for url: https://t.co/%E2%80%A6\n"
          ]
        },
        {
          "output_type": "stream",
          "name": "stderr",
          "text": [
            "\rExtracting content:   0%|          | 3/1799 [00:08<1:23:54,  2.80s/it]"
          ]
        },
        {
          "output_type": "stream",
          "name": "stdout",
          "text": [
            "Error fetching content: HTTPConnectionPool(host='lati.ms', port=80): Max retries exceeded with url: /lFKgp (Caused by ConnectTimeoutError(<urllib3.connection.HTTPConnection object at 0x7c728a2d4370>, 'Connection to lati.ms timed out. (connect timeout=4)'))\n"
          ]
        },
        {
          "output_type": "stream",
          "name": "stderr",
          "text": [
            "\rExtracting content:   0%|          | 4/1799 [00:08<53:15,  1.78s/it]  "
          ]
        },
        {
          "output_type": "stream",
          "name": "stdout",
          "text": [
            "Error fetching content: 404 Client Error: Not Found for url: https://t.co/Fi3xz%E2%80%A6\n"
          ]
        },
        {
          "output_type": "stream",
          "name": "stderr",
          "text": [
            "\rExtracting content:   0%|          | 5/1799 [00:12<1:17:17,  2.58s/it]"
          ]
        },
        {
          "output_type": "stream",
          "name": "stdout",
          "text": [
            "Error fetching content: HTTPConnectionPool(host='lati.ms', port=80): Max retries exceeded with url: /lFCOg (Caused by ConnectTimeoutError(<urllib3.connection.HTTPConnection object at 0x7c728a2af8b0>, 'Connection to lati.ms timed out. (connect timeout=4)'))\n"
          ]
        },
        {
          "output_type": "stream",
          "name": "stderr",
          "text": [
            "Extracting content:   0%|          | 7/1799 [00:17<1:20:00,  2.68s/it]"
          ]
        },
        {
          "output_type": "stream",
          "name": "stdout",
          "text": [
            "Error fetching content: HTTPConnectionPool(host='lati.ms', port=80): Max retries exceeded with url: /lF8H2 (Caused by ConnectTimeoutError(<urllib3.connection.HTTPConnection object at 0x7c728a0946d0>, 'Connection to lati.ms timed out. (connect timeout=4)'))\n"
          ]
        },
        {
          "output_type": "stream",
          "name": "stderr",
          "text": [
            "\rExtracting content:   0%|          | 8/1799 [00:17<56:34,  1.90s/it]  "
          ]
        },
        {
          "output_type": "stream",
          "name": "stdout",
          "text": [
            "Error fetching content: 404 Client Error: Not Found for url: https://t.co/5GdMnaCd%E2%80%A6\n"
          ]
        },
        {
          "output_type": "stream",
          "name": "stderr",
          "text": [
            "Extracting content:   1%|          | 10/1799 [00:21<1:05:27,  2.20s/it]"
          ]
        },
        {
          "output_type": "stream",
          "name": "stdout",
          "text": [
            "Error fetching content: HTTPConnectionPool(host='lati.ms', port=80): Max retries exceeded with url: /lF5OC (Caused by ConnectTimeoutError(<urllib3.connection.HTTPConnection object at 0x7c7289e417b0>, 'Connection to lati.ms timed out. (connect timeout=4)'))\n"
          ]
        },
        {
          "output_type": "stream",
          "name": "stderr",
          "text": [
            "\rExtracting content:   1%|          | 11/1799 [00:25<1:21:59,  2.75s/it]"
          ]
        },
        {
          "output_type": "stream",
          "name": "stdout",
          "text": [
            "Error fetching content: HTTPConnectionPool(host='lati.ms', port=80): Max retries exceeded with url: /lEV3W (Caused by ConnectTimeoutError(<urllib3.connection.HTTPConnection object at 0x7c7289e41ed0>, 'Connection to lati.ms timed out. (connect timeout=4)'))\n"
          ]
        },
        {
          "output_type": "stream",
          "name": "stderr",
          "text": [
            "Extracting content:   1%|          | 13/1799 [00:26<46:14,  1.55s/it]  "
          ]
        },
        {
          "output_type": "stream",
          "name": "stdout",
          "text": [
            "Error fetching content: Failed to parse: http://t.co…\n"
          ]
        },
        {
          "output_type": "stream",
          "name": "stderr",
          "text": [
            "Extracting content:   1%|          | 20/1799 [00:29<15:48,  1.88it/s]"
          ]
        },
        {
          "output_type": "stream",
          "name": "stdout",
          "text": [
            "Error fetching content: Failed to parse: http://t.…\n"
          ]
        },
        {
          "output_type": "stream",
          "name": "stderr",
          "text": [
            "Extracting content:   1%|▏         | 26/1799 [00:36<48:13,  1.63s/it]"
          ]
        },
        {
          "output_type": "stream",
          "name": "stdout",
          "text": [
            "Error fetching content: HTTPConnectionPool(host='lati.ms', port=80): Max retries exceeded with url: /luboU (Caused by ConnectTimeoutError(<urllib3.connection.HTTPConnection object at 0x7c72862d5ba0>, 'Connection to lati.ms timed out. (connect timeout=4)'))\n"
          ]
        },
        {
          "output_type": "stream",
          "name": "stderr",
          "text": [
            "\rExtracting content:   2%|▏         | 27/1799 [00:40<1:08:09,  2.31s/it]"
          ]
        },
        {
          "output_type": "stream",
          "name": "stdout",
          "text": [
            "Error fetching content: HTTPConnectionPool(host='lati.ms', port=80): Max retries exceeded with url: /luaBf (Caused by ConnectTimeoutError(<urllib3.connection.HTTPConnection object at 0x7c72862d62f0>, 'Connection to lati.ms timed out. (connect timeout=4)'))\n"
          ]
        },
        {
          "output_type": "stream",
          "name": "stderr",
          "text": [
            "Extracting content:   2%|▏         | 29/1799 [00:44<1:11:29,  2.42s/it]"
          ]
        },
        {
          "output_type": "stream",
          "name": "stdout",
          "text": [
            "Error fetching content: HTTPConnectionPool(host='lati.ms', port=80): Max retries exceeded with url: /lu0Fd (Caused by ConnectTimeoutError(<urllib3.connection.HTTPConnection object at 0x7c7285c82740>, 'Connection to lati.ms timed out. (connect timeout=4)'))\n"
          ]
        },
        {
          "output_type": "stream",
          "name": "stderr",
          "text": [
            "Extracting content:   2%|▏         | 32/1799 [00:50<1:08:46,  2.34s/it]"
          ]
        },
        {
          "output_type": "stream",
          "name": "stdout",
          "text": [
            "Error fetching content: HTTPConnectionPool(host='lati.ms', port=80): Max retries exceeded with url: /ltqbu (Caused by ConnectTimeoutError(<urllib3.connection.HTTPConnection object at 0x7c72856c3130>, 'Connection to lati.ms timed out. (connect timeout=4)'))\n"
          ]
        },
        {
          "output_type": "stream",
          "name": "stderr",
          "text": [
            "Extracting content:   2%|▏         | 34/1799 [00:54<1:11:42,  2.44s/it]"
          ]
        },
        {
          "output_type": "stream",
          "name": "stdout",
          "text": [
            "Error fetching content: HTTPConnectionPool(host='lati.ms', port=80): Max retries exceeded with url: /lrJOn (Caused by ConnectTimeoutError(<urllib3.connection.HTTPConnection object at 0x7c7285073dc0>, 'Connection to lati.ms timed out. (connect timeout=4)'))\n"
          ]
        },
        {
          "output_type": "stream",
          "name": "stderr",
          "text": [
            "Extracting content:   2%|▏         | 36/1799 [00:59<1:13:00,  2.48s/it]"
          ]
        },
        {
          "output_type": "stream",
          "name": "stdout",
          "text": [
            "Error fetching content: HTTPConnectionPool(host='lati.ms', port=80): Max retries exceeded with url: /lrdFL (Caused by ConnectTimeoutError(<urllib3.connection.HTTPConnection object at 0x7c7284a54af0>, 'Connection to lati.ms timed out. (connect timeout=4)'))\n"
          ]
        },
        {
          "output_type": "stream",
          "name": "stderr",
          "text": [
            "\rExtracting content:   2%|▏         | 37/1799 [01:03<1:26:24,  2.94s/it]"
          ]
        },
        {
          "output_type": "stream",
          "name": "stdout",
          "text": [
            "Error fetching content: HTTPConnectionPool(host='lati.ms', port=80): Max retries exceeded with url: /lrsDG (Caused by ConnectTimeoutError(<urllib3.connection.HTTPConnection object at 0x7c7284a548e0>, 'Connection to lati.ms timed out. (connect timeout=4)'))\n"
          ]
        },
        {
          "output_type": "stream",
          "name": "stderr",
          "text": [
            "\rExtracting content:   2%|▏         | 38/1799 [01:07<1:41:22,  3.45s/it]"
          ]
        },
        {
          "output_type": "stream",
          "name": "stdout",
          "text": [
            "Error fetching content: HTTPConnectionPool(host='lati.ms', port=80): Max retries exceeded with url: /lrjwf (Caused by ConnectTimeoutError(<urllib3.connection.HTTPConnection object at 0x7c7284a55330>, 'Connection to lati.ms timed out. (connect timeout=4)'))\n",
            "Error fetching content: 404 Client Error: Not Found for url: http://bit.ly/11iLXs8\n"
          ]
        },
        {
          "output_type": "stream",
          "name": "stderr",
          "text": [
            "\rExtracting content:   2%|▏         | 40/1799 [01:11<1:22:12,  2.80s/it]"
          ]
        },
        {
          "output_type": "stream",
          "name": "stdout",
          "text": [
            "Error fetching content: HTTPConnectionPool(host='lati.ms', port=80): Max retries exceeded with url: /lr1qP (Caused by ConnectTimeoutError(<urllib3.connection.HTTPConnection object at 0x7c7284a55870>, 'Connection to lati.ms timed out. (connect timeout=4)'))\n"
          ]
        },
        {
          "output_type": "stream",
          "name": "stderr",
          "text": [
            "\rExtracting content:   2%|▏         | 41/1799 [01:15<1:30:56,  3.10s/it]"
          ]
        },
        {
          "output_type": "stream",
          "name": "stdout",
          "text": [
            "Error fetching content: HTTPConnectionPool(host='lati.ms', port=80): Max retries exceeded with url: /loSDj (Caused by ConnectTimeoutError(<urllib3.connection.HTTPConnection object at 0x7c7284a563b0>, 'Connection to lati.ms timed out. (connect timeout=4)'))\n"
          ]
        },
        {
          "output_type": "stream",
          "name": "stderr",
          "text": [
            "Extracting content:   2%|▏         | 43/1799 [01:21<1:26:32,  2.96s/it]"
          ]
        },
        {
          "output_type": "stream",
          "name": "stdout",
          "text": [
            "Error fetching content: HTTPConnectionPool(host='lati.ms', port=80): Max retries exceeded with url: /lnMhA (Caused by ConnectTimeoutError(<urllib3.connection.HTTPConnection object at 0x7c72846017e0>, 'Connection to lati.ms timed out. (connect timeout=4)'))\n",
            "Error fetching content: 404 Client Error: Not Found for url: http://bit.ly/10WHKFB\n"
          ]
        },
        {
          "output_type": "stream",
          "name": "stderr",
          "text": [
            "\rExtracting content:   3%|▎         | 45/1799 [01:25<1:14:45,  2.56s/it]"
          ]
        },
        {
          "output_type": "stream",
          "name": "stdout",
          "text": [
            "Error fetching content: HTTPConnectionPool(host='lati.ms', port=80): Max retries exceeded with url: /low5R (Caused by ConnectTimeoutError(<urllib3.connection.HTTPConnection object at 0x7c7284601ba0>, 'Connection to lati.ms timed out. (connect timeout=4)'))\n"
          ]
        },
        {
          "output_type": "stream",
          "name": "stderr",
          "text": [
            "Extracting content:   3%|▎         | 53/1799 [01:34<54:50,  1.88s/it]"
          ]
        },
        {
          "output_type": "stream",
          "name": "stdout",
          "text": [
            "Error fetching content: HTTPConnectionPool(host='lati.ms', port=80): Max retries exceeded with url: /lnNOg (Caused by ConnectTimeoutError(<urllib3.connection.HTTPConnection object at 0x7c72831e3d60>, 'Connection to lati.ms timed out. (connect timeout=4)'))\n"
          ]
        },
        {
          "output_type": "stream",
          "name": "stderr",
          "text": [
            "\rExtracting content:   3%|▎         | 54/1799 [01:38<1:13:51,  2.54s/it]"
          ]
        },
        {
          "output_type": "stream",
          "name": "stdout",
          "text": [
            "Error fetching content: HTTPConnectionPool(host='lati.ms', port=80): Max retries exceeded with url: /lntIG (Caused by ConnectTimeoutError(<urllib3.connection.HTTPConnection object at 0x7c72832145e0>, 'Connection to lati.ms timed out. (connect timeout=4)'))\n"
          ]
        },
        {
          "output_type": "stream",
          "name": "stderr",
          "text": [
            "\rExtracting content:   3%|▎         | 55/1799 [01:42<1:26:32,  2.98s/it]"
          ]
        },
        {
          "output_type": "stream",
          "name": "stdout",
          "text": [
            "Error fetching content: HTTPConnectionPool(host='lati.ms', port=80): Max retries exceeded with url: /lnJef (Caused by ConnectTimeoutError(<urllib3.connection.HTTPConnection object at 0x7c7283214e20>, 'Connection to lati.ms timed out. (connect timeout=4)'))\n"
          ]
        },
        {
          "output_type": "stream",
          "name": "stderr",
          "text": [
            "Extracting content:   3%|▎         | 57/1799 [01:47<1:22:12,  2.83s/it]"
          ]
        },
        {
          "output_type": "stream",
          "name": "stdout",
          "text": [
            "Error fetching content: HTTPConnectionPool(host='lati.ms', port=80): Max retries exceeded with url: /lnw1t (Caused by ConnectTimeoutError(<urllib3.connection.HTTPConnection object at 0x7c7282fc2bf0>, 'Connection to lati.ms timed out. (connect timeout=4)'))\n"
          ]
        },
        {
          "output_type": "stream",
          "name": "stderr",
          "text": [
            "\rExtracting content:   3%|▎         | 58/1799 [01:51<1:32:22,  3.18s/it]"
          ]
        },
        {
          "output_type": "stream",
          "name": "stdout",
          "text": [
            "Error fetching content: HTTPConnectionPool(host='lati.ms', port=80): Max retries exceeded with url: /lnbfz (Caused by ConnectTimeoutError(<urllib3.connection.HTTPConnection object at 0x7c7282fc3430>, 'Connection to lati.ms timed out. (connect timeout=4)'))\n"
          ]
        },
        {
          "output_type": "stream",
          "name": "stderr",
          "text": [
            "\rExtracting content:   3%|▎         | 59/1799 [01:55<1:39:31,  3.43s/it]"
          ]
        },
        {
          "output_type": "stream",
          "name": "stdout",
          "text": [
            "Error fetching content: HTTPConnectionPool(host='lati.ms', port=80): Max retries exceeded with url: /lnh6r (Caused by ConnectTimeoutError(<urllib3.connection.HTTPConnection object at 0x7c7282fc3c70>, 'Connection to lati.ms timed out. (connect timeout=4)'))\n"
          ]
        },
        {
          "output_type": "stream",
          "name": "stderr",
          "text": [
            "Extracting content:   3%|▎         | 62/1799 [02:01<1:18:38,  2.72s/it]"
          ]
        },
        {
          "output_type": "stream",
          "name": "stdout",
          "text": [
            "Error fetching content: HTTPConnectionPool(host='lati.ms', port=80): Max retries exceeded with url: /lmRiG (Caused by ConnectTimeoutError(<urllib3.connection.HTTPConnection object at 0x7c7282dd7e20>, 'Connection to lati.ms timed out. (connect timeout=4)'))\n"
          ]
        },
        {
          "output_type": "stream",
          "name": "stderr",
          "text": [
            "Extracting content:   4%|▎         | 64/1799 [02:06<1:22:37,  2.86s/it]"
          ]
        },
        {
          "output_type": "stream",
          "name": "stdout",
          "text": [
            "Error fetching content: HTTPConnectionPool(host='lati.ms', port=80): Max retries exceeded with url: /llksK (Caused by ConnectTimeoutError(<urllib3.connection.HTTPConnection object at 0x7c7282762920>, 'Connection to lati.ms timed out. (connect timeout=4)'))\n"
          ]
        },
        {
          "output_type": "stream",
          "name": "stderr",
          "text": [
            "\rExtracting content:   4%|▎         | 65/1799 [02:10<1:33:36,  3.24s/it]"
          ]
        },
        {
          "output_type": "stream",
          "name": "stdout",
          "text": [
            "Error fetching content: HTTPConnectionPool(host='lati.ms', port=80): Max retries exceeded with url: /lldx6 (Caused by ConnectTimeoutError(<urllib3.connection.HTTPConnection object at 0x7c7282763190>, 'Connection to lati.ms timed out. (connect timeout=4)'))\n"
          ]
        },
        {
          "output_type": "stream",
          "name": "stderr",
          "text": [
            "\rExtracting content:   4%|▎         | 66/1799 [02:14<1:40:13,  3.47s/it]"
          ]
        },
        {
          "output_type": "stream",
          "name": "stdout",
          "text": [
            "Error fetching content: HTTPConnectionPool(host='lati.ms', port=80): Max retries exceeded with url: /lldqU (Caused by ConnectTimeoutError(<urllib3.connection.HTTPConnection object at 0x7c7282763010>, 'Connection to lati.ms timed out. (connect timeout=4)'))\n"
          ]
        },
        {
          "output_type": "stream",
          "name": "stderr",
          "text": [
            "\rExtracting content:   4%|▎         | 67/1799 [02:18<1:44:52,  3.63s/it]"
          ]
        },
        {
          "output_type": "stream",
          "name": "stdout",
          "text": [
            "Error fetching content: HTTPConnectionPool(host='lati.ms', port=80): Max retries exceeded with url: /ll0AJ (Caused by ConnectTimeoutError(<urllib3.connection.HTTPConnection object at 0x7c7282762740>, 'Connection to lati.ms timed out. (connect timeout=4)'))\n"
          ]
        },
        {
          "output_type": "stream",
          "name": "stderr",
          "text": [
            "\rExtracting content:   4%|▍         | 68/1799 [02:22<1:48:06,  3.75s/it]"
          ]
        },
        {
          "output_type": "stream",
          "name": "stdout",
          "text": [
            "Error fetching content: HTTPConnectionPool(host='lati.ms', port=80): Max retries exceeded with url: /lkBnF (Caused by ConnectTimeoutError(<urllib3.connection.HTTPConnection object at 0x7c72827639d0>, 'Connection to lati.ms timed out. (connect timeout=4)'))\n"
          ]
        },
        {
          "output_type": "stream",
          "name": "stderr",
          "text": [
            "\rExtracting content:   4%|▍         | 69/1799 [02:26<1:50:20,  3.83s/it]"
          ]
        },
        {
          "output_type": "stream",
          "name": "stdout",
          "text": [
            "Error fetching content: HTTPConnectionPool(host='lati.ms', port=80): Max retries exceeded with url: /lkE2L (Caused by ConnectTimeoutError(<urllib3.connection.HTTPConnection object at 0x7c7282794250>, 'Connection to lati.ms timed out. (connect timeout=4)'))\n"
          ]
        },
        {
          "output_type": "stream",
          "name": "stderr",
          "text": [
            "\rExtracting content:   4%|▍         | 70/1799 [02:30<1:51:51,  3.88s/it]"
          ]
        },
        {
          "output_type": "stream",
          "name": "stdout",
          "text": [
            "Error fetching content: HTTPConnectionPool(host='lati.ms', port=80): Max retries exceeded with url: /lkvfS (Caused by ConnectTimeoutError(<urllib3.connection.HTTPConnection object at 0x7c7282794a90>, 'Connection to lati.ms timed out. (connect timeout=4)'))\n"
          ]
        },
        {
          "output_type": "stream",
          "name": "stderr",
          "text": [
            "Extracting content:   4%|▍         | 72/1799 [02:35<1:20:10,  2.79s/it]"
          ]
        },
        {
          "output_type": "stream",
          "name": "stdout",
          "text": [
            "Error fetching content: HTTPConnectionPool(host='lati.ms', port=80): Max retries exceeded with url: /lj7MW (Caused by ConnectTimeoutError(<urllib3.connection.HTTPConnection object at 0x7c72827952d0>, 'Connection to lati.ms timed out. (connect timeout=4)'))\n",
            "Error fetching content: 403 Client Error: Forbidden for url: http://slate.me/16Pwh2M\n"
          ]
        },
        {
          "output_type": "stream",
          "name": "stderr",
          "text": [
            "\rExtracting content:   4%|▍         | 73/1799 [02:39<1:30:43,  3.15s/it]"
          ]
        },
        {
          "output_type": "stream",
          "name": "stdout",
          "text": [
            "Error fetching content: HTTPConnectionPool(host='lati.ms', port=80): Max retries exceeded with url: /lj8tE (Caused by ConnectTimeoutError(<urllib3.connection.HTTPConnection object at 0x7c7282763e20>, 'Connection to lati.ms timed out. (connect timeout=4)'))\n"
          ]
        },
        {
          "output_type": "stream",
          "name": "stderr",
          "text": [
            "\rExtracting content:   4%|▍         | 74/1799 [02:43<1:38:10,  3.41s/it]"
          ]
        },
        {
          "output_type": "stream",
          "name": "stdout",
          "text": [
            "Error fetching content: HTTPConnectionPool(host='lati.ms', port=80): Max retries exceeded with url: /lj5Dh (Caused by ConnectTimeoutError(<urllib3.connection.HTTPConnection object at 0x7c72827626e0>, 'Connection to lati.ms timed out. (connect timeout=4)'))\n"
          ]
        },
        {
          "output_type": "stream",
          "name": "stderr",
          "text": [
            "\rExtracting content:   4%|▍         | 75/1799 [02:47<1:43:17,  3.59s/it]"
          ]
        },
        {
          "output_type": "stream",
          "name": "stdout",
          "text": [
            "Error fetching content: HTTPConnectionPool(host='lati.ms', port=80): Max retries exceeded with url: /lj5p8 (Caused by ConnectTimeoutError(<urllib3.connection.HTTPConnection object at 0x7c72827634f0>, 'Connection to lati.ms timed out. (connect timeout=4)'))\n"
          ]
        },
        {
          "output_type": "stream",
          "name": "stderr",
          "text": [
            "\rExtracting content:   4%|▍         | 76/1799 [02:51<1:46:47,  3.72s/it]"
          ]
        },
        {
          "output_type": "stream",
          "name": "stdout",
          "text": [
            "Error fetching content: HTTPConnectionPool(host='lati.ms', port=80): Max retries exceeded with url: /liYie (Caused by ConnectTimeoutError(<urllib3.connection.HTTPConnection object at 0x7c7282794a00>, 'Connection to lati.ms timed out. (connect timeout=4)'))\n"
          ]
        },
        {
          "output_type": "stream",
          "name": "stderr",
          "text": [
            "\rExtracting content:   4%|▍         | 77/1799 [02:55<1:49:15,  3.81s/it]"
          ]
        },
        {
          "output_type": "stream",
          "name": "stdout",
          "text": [
            "Error fetching content: HTTPConnectionPool(host='lati.ms', port=80): Max retries exceeded with url: /liPJe (Caused by ConnectTimeoutError(<urllib3.connection.HTTPConnection object at 0x7c7282794160>, 'Connection to lati.ms timed out. (connect timeout=4)'))\n"
          ]
        },
        {
          "output_type": "stream",
          "name": "stderr",
          "text": [
            "\rExtracting content:   4%|▍         | 78/1799 [02:59<1:50:59,  3.87s/it]"
          ]
        },
        {
          "output_type": "stream",
          "name": "stdout",
          "text": [
            "Error fetching content: HTTPConnectionPool(host='lati.ms', port=80): Max retries exceeded with url: /liPlx (Caused by ConnectTimeoutError(<urllib3.connection.HTTPConnection object at 0x7c7282763310>, 'Connection to lati.ms timed out. (connect timeout=4)'))\n",
            "Error fetching content: 404 Client Error: Not Found for url: http://bit.ly/12WIAnO\n"
          ]
        },
        {
          "output_type": "stream",
          "name": "stderr",
          "text": [
            "\rExtracting content:   4%|▍         | 80/1799 [03:03<1:26:38,  3.02s/it]"
          ]
        },
        {
          "output_type": "stream",
          "name": "stdout",
          "text": [
            "Error fetching content: HTTPConnectionPool(host='lati.ms', port=80): Max retries exceeded with url: /lirSw (Caused by ConnectTimeoutError(<urllib3.connection.HTTPConnection object at 0x7c7282762c50>, 'Connection to lati.ms timed out. (connect timeout=4)'))\n"
          ]
        },
        {
          "output_type": "stream",
          "name": "stderr",
          "text": [
            "Extracting content:   5%|▍         | 82/1799 [03:08<1:23:13,  2.91s/it]"
          ]
        },
        {
          "output_type": "stream",
          "name": "stdout",
          "text": [
            "Error fetching content: HTTPConnectionPool(host='lati.ms', port=80): Max retries exceeded with url: /lhTcZ (Caused by ConnectTimeoutError(<urllib3.connection.HTTPConnection object at 0x7c728254e050>, 'Connection to lati.ms timed out. (connect timeout=4)'))\n"
          ]
        },
        {
          "output_type": "stream",
          "name": "stderr",
          "text": [
            "\rExtracting content:   5%|▍         | 83/1799 [03:12<1:31:48,  3.21s/it]"
          ]
        },
        {
          "output_type": "stream",
          "name": "stdout",
          "text": [
            "Error fetching content: HTTPConnectionPool(host='lati.ms', port=80): Max retries exceeded with url: /lhRBC (Caused by ConnectTimeoutError(<urllib3.connection.HTTPConnection object at 0x7c728254e770>, 'Connection to lati.ms timed out. (connect timeout=4)'))\n"
          ]
        },
        {
          "output_type": "stream",
          "name": "stderr",
          "text": [
            "\rExtracting content:   5%|▍         | 84/1799 [03:16<1:38:16,  3.44s/it]"
          ]
        },
        {
          "output_type": "stream",
          "name": "stdout",
          "text": [
            "Error fetching content: HTTPConnectionPool(host='lati.ms', port=80): Max retries exceeded with url: /lgtyl (Caused by ConnectTimeoutError(<urllib3.connection.HTTPConnection object at 0x7c728254efb0>, 'Connection to lati.ms timed out. (connect timeout=4)'))\n"
          ]
        },
        {
          "output_type": "stream",
          "name": "stderr",
          "text": [
            "\rExtracting content:   5%|▍         | 85/1799 [03:20<1:42:54,  3.60s/it]"
          ]
        },
        {
          "output_type": "stream",
          "name": "stdout",
          "text": [
            "Error fetching content: HTTPConnectionPool(host='lati.ms', port=80): Max retries exceeded with url: /lgpzn (Caused by ConnectTimeoutError(<urllib3.connection.HTTPConnection object at 0x7c728254f070>, 'Connection to lati.ms timed out. (connect timeout=4)'))\n"
          ]
        },
        {
          "output_type": "stream",
          "name": "stderr",
          "text": [
            "\rExtracting content:   5%|▍         | 86/1799 [03:24<1:46:15,  3.72s/it]"
          ]
        },
        {
          "output_type": "stream",
          "name": "stdout",
          "text": [
            "Error fetching content: HTTPConnectionPool(host='lati.ms', port=80): Max retries exceeded with url: /lgfzG (Caused by ConnectTimeoutError(<urllib3.connection.HTTPConnection object at 0x7c728254e740>, 'Connection to lati.ms timed out. (connect timeout=4)'))\n"
          ]
        },
        {
          "output_type": "stream",
          "name": "stderr",
          "text": [
            "\rExtracting content:   5%|▍         | 87/1799 [03:28<1:48:38,  3.81s/it]"
          ]
        },
        {
          "output_type": "stream",
          "name": "stdout",
          "text": [
            "Error fetching content: HTTPConnectionPool(host='lati.ms', port=80): Max retries exceeded with url: /lgb4L (Caused by ConnectTimeoutError(<urllib3.connection.HTTPConnection object at 0x7c728254e020>, 'Connection to lati.ms timed out. (connect timeout=4)'))\n"
          ]
        },
        {
          "output_type": "stream",
          "name": "stderr",
          "text": [
            "\rExtracting content:   5%|▍         | 88/1799 [03:32<1:50:17,  3.87s/it]"
          ]
        },
        {
          "output_type": "stream",
          "name": "stdout",
          "text": [
            "Error fetching content: HTTPConnectionPool(host='lati.ms', port=80): Max retries exceeded with url: /lg4sO (Caused by ConnectTimeoutError(<urllib3.connection.HTTPConnection object at 0x7c728254f910>, 'Connection to lati.ms timed out. (connect timeout=4)'))\n"
          ]
        },
        {
          "output_type": "stream",
          "name": "stderr",
          "text": [
            "\rExtracting content:   5%|▍         | 89/1799 [03:36<1:51:28,  3.91s/it]"
          ]
        },
        {
          "output_type": "stream",
          "name": "stdout",
          "text": [
            "Error fetching content: HTTPConnectionPool(host='lati.ms', port=80): Max retries exceeded with url: /lfK1m (Caused by ConnectTimeoutError(<urllib3.connection.HTTPConnection object at 0x7c728257c070>, 'Connection to lati.ms timed out. (connect timeout=4)'))\n"
          ]
        },
        {
          "output_type": "stream",
          "name": "stderr",
          "text": [
            "\rExtracting content:   5%|▌         | 90/1799 [03:40<1:52:15,  3.94s/it]"
          ]
        },
        {
          "output_type": "stream",
          "name": "stdout",
          "text": [
            "Error fetching content: HTTPConnectionPool(host='lati.ms', port=80): Max retries exceeded with url: /lfLkZ (Caused by ConnectTimeoutError(<urllib3.connection.HTTPConnection object at 0x7c7282795270>, 'Connection to lati.ms timed out. (connect timeout=4)'))\n"
          ]
        },
        {
          "output_type": "stream",
          "name": "stderr",
          "text": [
            "Extracting content:   5%|▌         | 92/1799 [03:45<1:33:31,  3.29s/it]"
          ]
        },
        {
          "output_type": "stream",
          "name": "stdout",
          "text": [
            "Error fetching content: HTTPConnectionPool(host='lati.ms', port=80): Max retries exceeded with url: /lfzA7 (Caused by ConnectTimeoutError(<urllib3.connection.HTTPConnection object at 0x7c728254e410>, 'Connection to lati.ms timed out. (connect timeout=4)'))\n"
          ]
        },
        {
          "output_type": "stream",
          "name": "stderr",
          "text": [
            "\rExtracting content:   5%|▌         | 93/1799 [03:49<1:39:44,  3.51s/it]"
          ]
        },
        {
          "output_type": "stream",
          "name": "stdout",
          "text": [
            "Error fetching content: HTTPConnectionPool(host='lati.ms', port=80): Max retries exceeded with url: /le3iR (Caused by ConnectTimeoutError(<urllib3.connection.HTTPConnection object at 0x7c728254e830>, 'Connection to lati.ms timed out. (connect timeout=4)'))\n"
          ]
        },
        {
          "output_type": "stream",
          "name": "stderr",
          "text": [
            "\rExtracting content:   5%|▌         | 94/1799 [03:53<1:43:58,  3.66s/it]"
          ]
        },
        {
          "output_type": "stream",
          "name": "stdout",
          "text": [
            "Error fetching content: HTTPConnectionPool(host='lati.ms', port=80): Max retries exceeded with url: /ldOym (Caused by ConnectTimeoutError(<urllib3.connection.HTTPConnection object at 0x7c728254f2b0>, 'Connection to lati.ms timed out. (connect timeout=4)'))\n"
          ]
        },
        {
          "output_type": "stream",
          "name": "stderr",
          "text": [
            "\rExtracting content:   5%|▌         | 95/1799 [03:57<1:46:55,  3.76s/it]"
          ]
        },
        {
          "output_type": "stream",
          "name": "stdout",
          "text": [
            "Error fetching content: HTTPConnectionPool(host='lati.ms', port=80): Max retries exceeded with url: /ldOnH (Caused by ConnectTimeoutError(<urllib3.connection.HTTPConnection object at 0x7c728257cac0>, 'Connection to lati.ms timed out. (connect timeout=4)'))\n"
          ]
        },
        {
          "output_type": "stream",
          "name": "stderr",
          "text": [
            "\rExtracting content:   5%|▌         | 96/1799 [04:01<1:48:58,  3.84s/it]"
          ]
        },
        {
          "output_type": "stream",
          "name": "stdout",
          "text": [
            "Error fetching content: HTTPConnectionPool(host='lati.ms', port=80): Max retries exceeded with url: /ldLnf (Caused by ConnectTimeoutError(<urllib3.connection.HTTPConnection object at 0x7c728254f250>, 'Connection to lati.ms timed out. (connect timeout=4)'))\n"
          ]
        },
        {
          "output_type": "stream",
          "name": "stderr",
          "text": [
            "Extracting content:   5%|▌         | 98/1799 [04:06<1:36:18,  3.40s/it]"
          ]
        },
        {
          "output_type": "stream",
          "name": "stdout",
          "text": [
            "Error fetching content: HTTPConnectionPool(host='lati.ms', port=80): Max retries exceeded with url: /ldEPu (Caused by ConnectTimeoutError(<urllib3.connection.HTTPConnection object at 0x7c7282340700>, 'Connection to lati.ms timed out. (connect timeout=4)'))\n"
          ]
        },
        {
          "output_type": "stream",
          "name": "stderr",
          "text": [
            "\rExtracting content:   6%|▌         | 99/1799 [04:10<1:41:28,  3.58s/it]"
          ]
        },
        {
          "output_type": "stream",
          "name": "stdout",
          "text": [
            "Error fetching content: HTTPConnectionPool(host='lati.ms', port=80): Max retries exceeded with url: /ldheY (Caused by ConnectTimeoutError(<urllib3.connection.HTTPConnection object at 0x7c7282340f40>, 'Connection to lati.ms timed out. (connect timeout=4)'))\n",
            "Error fetching content: Failed to parse: http://t.c…\n"
          ]
        },
        {
          "output_type": "stream",
          "name": "stderr",
          "text": [
            "\rExtracting content:   6%|▌         | 101/1799 [04:14<1:20:47,  2.86s/it]"
          ]
        },
        {
          "output_type": "stream",
          "name": "stdout",
          "text": [
            "Error fetching content: HTTPConnectionPool(host='lati.ms', port=80): Max retries exceeded with url: /ld4NL (Caused by ConnectTimeoutError(<urllib3.connection.HTTPConnection object at 0x7c7282341a20>, 'Connection to lati.ms timed out. (connect timeout=4)'))\n"
          ]
        },
        {
          "output_type": "stream",
          "name": "stderr",
          "text": [
            "\rExtracting content:   6%|▌         | 102/1799 [04:18<1:29:29,  3.16s/it]"
          ]
        },
        {
          "output_type": "stream",
          "name": "stdout",
          "text": [
            "Error fetching content: HTTPConnectionPool(host='lati.ms', port=80): Max retries exceeded with url: /lcLqq (Caused by ConnectTimeoutError(<urllib3.connection.HTTPConnection object at 0x7c72823420e0>, 'Connection to lati.ms timed out. (connect timeout=4)'))\n"
          ]
        },
        {
          "output_type": "stream",
          "name": "stderr",
          "text": [
            "\rExtracting content:   6%|▌         | 103/1799 [04:22<1:35:42,  3.39s/it]"
          ]
        },
        {
          "output_type": "stream",
          "name": "stdout",
          "text": [
            "Error fetching content: HTTPConnectionPool(host='lati.ms', port=80): Max retries exceeded with url: /lbkF5 (Caused by ConnectTimeoutError(<urllib3.connection.HTTPConnection object at 0x7c7282342830>, 'Connection to lati.ms timed out. (connect timeout=4)'))\n"
          ]
        },
        {
          "output_type": "stream",
          "name": "stderr",
          "text": [
            "Extracting content:   6%|▌         | 110/1799 [04:31<55:42,  1.98s/it]"
          ]
        },
        {
          "output_type": "stream",
          "name": "stdout",
          "text": [
            "Error fetching content: HTTPConnectionPool(host='lati.ms', port=80): Max retries exceeded with url: /l9vjX (Caused by ConnectTimeoutError(<urllib3.connection.HTTPConnection object at 0x7c7281ae6e60>, 'Connection to lati.ms timed out. (connect timeout=4)'))\n"
          ]
        },
        {
          "output_type": "stream",
          "name": "stderr",
          "text": [
            "\rExtracting content:   6%|▌         | 111/1799 [04:35<1:12:43,  2.58s/it]"
          ]
        },
        {
          "output_type": "stream",
          "name": "stdout",
          "text": [
            "Error fetching content: HTTPConnectionPool(host='lati.ms', port=80): Max retries exceeded with url: /l9jnp (Caused by ConnectTimeoutError(<urllib3.connection.HTTPConnection object at 0x7c7281ae76a0>, 'Connection to lati.ms timed out. (connect timeout=4)'))\n"
          ]
        },
        {
          "output_type": "stream",
          "name": "stderr",
          "text": [
            "Extracting content:  10%|█         | 186/1799 [05:47<49:07,  1.83s/it]"
          ]
        },
        {
          "output_type": "stream",
          "name": "stdout",
          "text": [
            "Error fetching content: HTTPConnectionPool(host='lati.ms', port=80): Max retries exceeded with url: /jRdAJ (Caused by ConnectTimeoutError(<urllib3.connection.HTTPConnection object at 0x7c727983e4d0>, 'Connection to lati.ms timed out. (connect timeout=4)'))\n"
          ]
        },
        {
          "output_type": "stream",
          "name": "stderr",
          "text": [
            "Extracting content:  12%|█▏        | 215/1799 [06:14<19:58,  1.32it/s]"
          ]
        },
        {
          "output_type": "stream",
          "name": "stdout",
          "text": [
            "Error fetching content: 404 Client Error: Not Found for url: https://t.co/xv\n"
          ]
        },
        {
          "output_type": "stream",
          "name": "stderr",
          "text": [
            "Extracting content:  21%|██▏       | 384/1799 [09:03<47:17,  2.01s/it]"
          ]
        },
        {
          "output_type": "stream",
          "name": "stdout",
          "text": [
            "Error fetching content: HTTPConnectionPool(host='lati.ms', port=80): Max retries exceeded with url: /hAyc0 (Caused by ConnectTimeoutError(<urllib3.connection.HTTPConnection object at 0x7c7265c1c1f0>, 'Connection to lati.ms timed out. (connect timeout=4)'))\n"
          ]
        },
        {
          "output_type": "stream",
          "name": "stderr",
          "text": [
            "Extracting content:  23%|██▎       | 416/1799 [09:34<20:05,  1.15it/s]"
          ]
        },
        {
          "output_type": "stream",
          "name": "stdout",
          "text": [
            "Error fetching content: 404 Client Error: Not Found for url: https://www.latimes.com/health/boostershots/la-sci-sn-sex-and-housework-20130129,0,5881048.story?track=rss&utm_source=dlvr.it&utm_medium=twitter&dlvrit=53001\n"
          ]
        },
        {
          "output_type": "stream",
          "name": "stderr",
          "text": [
            "Extracting content:  25%|██▌       | 453/1799 [10:05<18:04,  1.24it/s]"
          ]
        },
        {
          "output_type": "stream",
          "name": "stdout",
          "text": [
            "Error fetching content: 404 Client Error: Not Found for url: https://www.latimes.com/health/boostershots/la-facebook-prose-memory-20130116,0,4953315.story?track=rss&utm_source=dlvr.it&utm_medium=twitter&dlvrit=53001\n"
          ]
        },
        {
          "output_type": "stream",
          "name": "stderr",
          "text": [
            "Extracting content:  25%|██▌       | 455/1799 [10:06<17:29,  1.28it/s]"
          ]
        },
        {
          "output_type": "stream",
          "name": "stdout",
          "text": [
            "Error fetching content: 404 Client Error: Not Found for url: https://www.latimes.com/health/boostershots/la-heb-tobacco-control-lung-association-report20130115,0,2330200.story?track=rss&utm_source=dlvr.it&utm_medium=twitter&dlvrit=53001\n"
          ]
        },
        {
          "output_type": "stream",
          "name": "stderr",
          "text": [
            "Extracting content:  27%|██▋       | 478/1799 [10:26<15:17,  1.44it/s]"
          ]
        },
        {
          "output_type": "stream",
          "name": "stdout",
          "text": [
            "Error fetching content: 400 Client Error: Bad Request for url: https://instagr.am/p/UQJgsOPwXI/\n"
          ]
        },
        {
          "output_type": "stream",
          "name": "stderr",
          "text": [
            "Extracting content:  34%|███▎      | 607/1799 [12:33<41:45,  2.10s/it]"
          ]
        },
        {
          "output_type": "stream",
          "name": "stdout",
          "text": [
            "Error fetching content: HTTPConnectionPool(host='lati.ms', port=80): Max retries exceeded with url: /fchzY (Caused by ConnectTimeoutError(<urllib3.connection.HTTPConnection object at 0x7c724e3851b0>, 'Connection to lati.ms timed out. (connect timeout=4)'))\n"
          ]
        },
        {
          "output_type": "stream",
          "name": "stderr",
          "text": [
            "\rExtracting content:  34%|███▍      | 608/1799 [12:37<53:05,  2.67s/it]"
          ]
        },
        {
          "output_type": "stream",
          "name": "stdout",
          "text": [
            "Error fetching content: HTTPConnectionPool(host='lati.ms', port=80): Max retries exceeded with url: /fbIPk (Caused by ConnectTimeoutError(<urllib3.connection.HTTPConnection object at 0x7c724e385840>, 'Connection to lati.ms timed out. (connect timeout=4)'))\n"
          ]
        },
        {
          "output_type": "stream",
          "name": "stderr",
          "text": [
            "Extracting content:  36%|███▌      | 652/1799 [13:18<14:53,  1.28it/s]"
          ]
        },
        {
          "output_type": "stream",
          "name": "stdout",
          "text": [
            "Error fetching content: 404 Client Error: Not Found for url: https://www.latimes.com/health/boostershots/la-heb-meningitis-facility-fda-20121026,0,4125339.story?track=rss&utm_source=dlvr.it&utm_medium=twitter&dlvrit=53001\n"
          ]
        },
        {
          "output_type": "stream",
          "name": "stderr",
          "text": [
            "\rExtracting content:  36%|███▋      | 653/1799 [13:19<13:33,  1.41it/s]"
          ]
        },
        {
          "output_type": "stream",
          "name": "stdout",
          "text": [
            "Error fetching content: 404 Client Error: Not Found for url: https://www.latimes.com/health/boostershots/la-heb-hypnosis-hot-flashes-menopause-20121025,0,4728822.story?track=rss&utm_source=dlvr.it&utm_medium=twitter&dlvrit=53001\n"
          ]
        },
        {
          "output_type": "stream",
          "name": "stderr",
          "text": [
            "\rExtracting content:  36%|███▋      | 654/1799 [13:20<12:40,  1.50it/s]"
          ]
        },
        {
          "output_type": "stream",
          "name": "stdout",
          "text": [
            "Error fetching content: 404 Client Error: Not Found for url: https://www.latimes.com/health/boostershots/la-heb-healthcare-act-misperceptions-survey-20121026,0,4862086.story?track=rss&utm_source=dlvr.it&utm_medium=twitter&dlvrit=53001\n"
          ]
        },
        {
          "output_type": "stream",
          "name": "stderr",
          "text": [
            "Extracting content:  37%|███▋      | 657/1799 [13:22<13:56,  1.37it/s]"
          ]
        },
        {
          "output_type": "stream",
          "name": "stdout",
          "text": [
            "Error fetching content: 404 Client Error: Not Found for url: https://www.latimes.com/health/boostershots/la-heb-whooping-cough-vaccine-adults-20121024,0,6371892.story?track=rss&utm_source=dlvr.it&utm_medium=twitter&dlvrit=53001\n"
          ]
        },
        {
          "output_type": "stream",
          "name": "stderr",
          "text": [
            "Extracting content:  39%|███▊      | 697/1799 [13:59<16:31,  1.11it/s]"
          ]
        },
        {
          "output_type": "stream",
          "name": "stdout",
          "text": [
            "Error fetching content: 404 Client Error: Not Found for url: https://www.latimes.com/news/la-chinese-writer-wins-nobel-for-literature-20121011,0,4883057.story?track=rss&utm_source=dlvr.it&utm_medium=twitter&dlvrit=53001\n"
          ]
        },
        {
          "output_type": "stream",
          "name": "stderr",
          "text": [
            "\rExtracting content:  39%|███▉      | 698/1799 [14:00<15:10,  1.21it/s]"
          ]
        },
        {
          "output_type": "stream",
          "name": "stdout",
          "text": [
            "Error fetching content: 404 Client Error: Not Found for url: https://www.latimes.com/news/la-fgw-security-chief-slain-20121011,0,1290073.story?track=rss&utm_source=dlvr.it&utm_medium=twitter&dlvrit=53001\n"
          ]
        },
        {
          "output_type": "stream",
          "name": "stderr",
          "text": [
            "Extracting content:  39%|███▉      | 706/1799 [14:07<16:24,  1.11it/s]"
          ]
        },
        {
          "output_type": "stream",
          "name": "stdout",
          "text": [
            "Error fetching content: 404 Client Error: Not Found for url: https://www.latimes.com/news/la-innocence-of-muslims-filmmaker-denies-probation-violation-m,0,2187085.story?track=rss&utm_source=dlvr.it&utm_medium=twitter&dlvrit=53001\n"
          ]
        },
        {
          "output_type": "stream",
          "name": "stderr",
          "text": [
            "Extracting content:  39%|███▉      | 709/1799 [14:10<14:50,  1.22it/s]"
          ]
        },
        {
          "output_type": "stream",
          "name": "stdout",
          "text": [
            "Error fetching content: 404 Client Error: Not Found for url: https://www.latimes.com/news/la-naw-state-dept-security-at-libya-consulate-adequate-20121010,0,2867291.story?track=rss&utm_source=dlvr.it&utm_medium=twitter&dlvrit=53001\n"
          ]
        },
        {
          "output_type": "stream",
          "name": "stderr",
          "text": [
            "Extracting content:  40%|████      | 720/1799 [14:19<14:36,  1.23it/s]"
          ]
        },
        {
          "output_type": "stream",
          "name": "stdout",
          "text": [
            "Error fetching content: 404 Client Error: Not Found for url: https://www.latimes.com/news/la-me-sf-sheriff-ouster-20121010,0,1365857.story?track=rss&utm_source=dlvr.it&utm_medium=twitter&dlvrit=53001\n"
          ]
        },
        {
          "output_type": "stream",
          "name": "stderr",
          "text": [
            "Extracting content:  41%|████      | 741/1799 [14:37<15:06,  1.17it/s]"
          ]
        },
        {
          "output_type": "stream",
          "name": "stdout",
          "text": [
            "Error fetching content: 404 Client Error: Not Found for url: https://www.latimes.com/news/la-protestants-lose-majority-in-us-m,0,4261451.story?track=rss&utm_source=dlvr.it&utm_medium=twitter&dlvrit=53001\n"
          ]
        },
        {
          "output_type": "stream",
          "name": "stderr",
          "text": [
            "Extracting content:  43%|████▎     | 768/1799 [15:02<14:17,  1.20it/s]"
          ]
        },
        {
          "output_type": "stream",
          "name": "stdout",
          "text": [
            "Error fetching content: 404 Client Error: Not Found for url: https://www.latimes.com/health/boostershots/la-heb-canadians-kidney-donation-20120927,0,3455040.story?track=rss&utm_source=dlvr.it&utm_medium=twitter&dlvrit=53001\n"
          ]
        },
        {
          "output_type": "stream",
          "name": "stderr",
          "text": [
            "Extracting content:  49%|████▉     | 882/1799 [17:11<13:44,  1.11it/s]"
          ]
        },
        {
          "output_type": "stream",
          "name": "stdout",
          "text": [
            "Error fetching content: 404 Client Error: Not Found for url: https://www.latimes.com/health/boostershots/la-heb-gonorrhea-treatment-antibiotics-20120810,0,5796950.story?track=rss&utm_source=dlvr.it&utm_medium=twitter&dlvrit=53001\n"
          ]
        },
        {
          "output_type": "stream",
          "name": "stderr",
          "text": [
            "Extracting content:  49%|████▉     | 885/1799 [17:13<12:14,  1.24it/s]"
          ]
        },
        {
          "output_type": "stream",
          "name": "stdout",
          "text": [
            "Error fetching content: 404 Client Error: Not Found for url: https://www.latimes.com/health/boostershots/la-heb-stress-attraction-20120809,0,7176962.story?track=rss&utm_source=dlvr.it&utm_medium=twitter&dlvrit=53001\n"
          ]
        },
        {
          "output_type": "stream",
          "name": "stderr",
          "text": [
            "Extracting content:  49%|████▉     | 889/1799 [17:16<11:54,  1.27it/s]"
          ]
        },
        {
          "output_type": "stream",
          "name": "stdout",
          "text": [
            "Error fetching content: 404 Client Error: Not Found for url: https://www.latimes.com/health/boostershots/la-heb-social-stereotypes-20120808,0,1778870.story?track=rss&utm_source=dlvr.it&utm_medium=twitter&dlvrit=53001\n"
          ]
        },
        {
          "output_type": "stream",
          "name": "stderr",
          "text": [
            "\rExtracting content:  49%|████▉     | 890/1799 [17:17<12:19,  1.23it/s]"
          ]
        },
        {
          "output_type": "stream",
          "name": "stdout",
          "text": [
            "Error fetching content: 404 Client Error: Not Found for url: https://www.latimes.com/health/boostershots/la-sci-sn-propecia-depression-20120808,0,104703.story?track=rss&utm_source=dlvr.it&utm_medium=twitter&dlvrit=53001\n"
          ]
        },
        {
          "output_type": "stream",
          "name": "stderr",
          "text": [
            "Extracting content:  50%|████▉     | 896/1799 [17:23<15:03,  1.00s/it]"
          ]
        },
        {
          "output_type": "stream",
          "name": "stdout",
          "text": [
            "Error fetching content: 404 Client Error: Not Found for url: https://www.latimes.com/health/boostershots/la-heb-fda-added-sugar-label-foods-20120803,0,7009961.story?track=rss&utm_source=dlvr.it&utm_medium=twitter&dlvrit=53001\n"
          ]
        },
        {
          "output_type": "stream",
          "name": "stderr",
          "text": [
            "Extracting content:  50%|█████     | 900/1799 [17:26<12:18,  1.22it/s]"
          ]
        },
        {
          "output_type": "stream",
          "name": "stdout",
          "text": [
            "Error fetching content: 404 Client Error: Not Found for url: https://www.latimes.com/health/boostershots/la-heb-intelligence-brain-connections-20120802,0,2842077.story?track=rss&utm_source=dlvr.it&utm_medium=twitter&dlvrit=53001\n"
          ]
        },
        {
          "output_type": "stream",
          "name": "stderr",
          "text": [
            "Extracting content:  51%|█████▏    | 923/1799 [17:48<13:04,  1.12it/s]"
          ]
        },
        {
          "output_type": "stream",
          "name": "stdout",
          "text": [
            "Error fetching content: 404 Client Error: Not Found for url: https://www.latimes.com/health/boostershots/la-heb-16-ounce-soda-new-york-city-calories-20120723,0,2800445.story?track=rss&utm_source=dlvr.it&utm_medium=twitter&dlvrit=53001\n"
          ]
        },
        {
          "output_type": "stream",
          "name": "stderr",
          "text": [
            "Extracting content:  52%|█████▏    | 932/1799 [17:57<13:37,  1.06it/s]"
          ]
        },
        {
          "output_type": "stream",
          "name": "stdout",
          "text": [
            "Error fetching content: 404 Client Error: Not Found for url: https://www.latimes.com/health/boostershots/la-heb-sports-obesity-20120719,0,6275537.story?track=rss&utm_source=dlvr.it&utm_medium=twitter&dlvrit=53001\n"
          ]
        },
        {
          "output_type": "stream",
          "name": "stderr",
          "text": [
            "Extracting content:  52%|█████▏    | 935/1799 [18:00<14:54,  1.04s/it]"
          ]
        },
        {
          "output_type": "stream",
          "name": "stdout",
          "text": [
            "Error fetching content: 404 Client Error: Not Found for url: https://www.latimes.com/health/boostershots/la-sci-sn-rem-sleep-muscle-paralysis-20120717,0,7077860.story?track=rss&utm_source=dlvr.it&utm_medium=twitter&dlvrit=53001\n"
          ]
        },
        {
          "output_type": "stream",
          "name": "stderr",
          "text": [
            "\rExtracting content:  52%|█████▏    | 936/1799 [18:01<12:54,  1.11it/s]"
          ]
        },
        {
          "output_type": "stream",
          "name": "stdout",
          "text": [
            "Error fetching content: 404 Client Error: Not Found for url: https://www.latimes.com/health/boostershots/la-sci-sn-fukushima-cancer-deaths-20120717,0,828961.story?track=rss&utm_source=dlvr.it&utm_medium=twitter&dlvrit=53001\n"
          ]
        },
        {
          "output_type": "stream",
          "name": "stderr",
          "text": [
            "Extracting content:  53%|█████▎    | 956/1799 [18:20<12:29,  1.12it/s]"
          ]
        },
        {
          "output_type": "stream",
          "name": "stdout",
          "text": [
            "Error fetching content: 404 Client Error: Not Found for url: https://www.latimes.com/health/boostershots/la-heb-moral-duty-to-buy-health-insurance-20120710,0,4297529.story?track=rss&utm_source=dlvr.it&utm_medium=twitter&dlvrit=53001\n"
          ]
        },
        {
          "output_type": "stream",
          "name": "stderr",
          "text": [
            "\rExtracting content:  53%|█████▎    | 957/1799 [18:21<12:28,  1.13it/s]"
          ]
        },
        {
          "output_type": "stream",
          "name": "stdout",
          "text": [
            "Error fetching content: 404 Client Error: Not Found for url: https://www.latimes.com/health/boostershots/la-sci-sn-radiation-ultrasound-20120710,0,7121660.story?track=rss&utm_source=dlvr.it&utm_medium=twitter&dlvrit=53001\n"
          ]
        },
        {
          "output_type": "stream",
          "name": "stderr",
          "text": [
            "Extracting content:  54%|█████▍    | 970/1799 [18:33<11:28,  1.20it/s]"
          ]
        },
        {
          "output_type": "stream",
          "name": "stdout",
          "text": [
            "Error fetching content: 404 Client Error: Not Found for url: https://www.latimes.com/health/boostershots/la-heb-intermittent-explosive-disorder-teens-20120703,0,2065845.story?track=rss&utm_source=dlvr.it&utm_medium=twitter&dlvrit=53001\n"
          ]
        },
        {
          "output_type": "stream",
          "name": "stderr",
          "text": [
            "\rExtracting content:  54%|█████▍    | 971/1799 [18:33<10:14,  1.35it/s]"
          ]
        },
        {
          "output_type": "stream",
          "name": "stdout",
          "text": [
            "Error fetching content: 404 Client Error: Not Found for url: https://www.latimes.com/health/boostershots/la-heb-big-food-obesity-20120702,0,7302201.story?track=rss&utm_source=dlvr.it&utm_medium=twitter&dlvrit=53001\n"
          ]
        },
        {
          "output_type": "stream",
          "name": "stderr",
          "text": [
            "Extracting content:  54%|█████▍    | 975/1799 [18:37<11:41,  1.17it/s]"
          ]
        },
        {
          "output_type": "stream",
          "name": "stdout",
          "text": [
            "Error fetching content: 404 Client Error: Not Found for url: https://www.latimes.com/health/boostershots/la-heb-teen-sexting-20120702,0,6604305.post?track=rss&utm_source=dlvr.it&utm_medium=twitter&dlvrit=53001\n"
          ]
        },
        {
          "output_type": "stream",
          "name": "stderr",
          "text": [
            "Extracting content:  54%|█████▍    | 978/1799 [18:40<12:12,  1.12it/s]"
          ]
        },
        {
          "output_type": "stream",
          "name": "stdout",
          "text": [
            "Error fetching content: 404 Client Error: Not Found for url: https://www.latimes.com/health/boostershots/la-heb-caffeine-elderly-muscle-growth-20120629,0,2574170.story?track=rss&utm_source=dlvr.it&utm_medium=twitter&dlvrit=53001\n"
          ]
        },
        {
          "output_type": "stream",
          "name": "stderr",
          "text": [
            "Extracting content:  55%|█████▍    | 986/1799 [18:46<10:35,  1.28it/s]"
          ]
        },
        {
          "output_type": "stream",
          "name": "stdout",
          "text": [
            "Error fetching content: 404 Client Error: Not Found for url: https://www.latimes.com/health/boostershots/la-heb-obesity-screening-20120626,0,248515.story?track=rss&utm_source=dlvr.it&utm_medium=twitter&dlvrit=53001\n"
          ]
        },
        {
          "output_type": "stream",
          "name": "stderr",
          "text": [
            "Extracting content:  55%|█████▌    | 990/1799 [18:50<10:54,  1.24it/s]"
          ]
        },
        {
          "output_type": "stream",
          "name": "stdout",
          "text": [
            "Error fetching content: 404 Client Error: Not Found for url: https://www.latimes.com/health/boostershots/la-sci-sn-bariatric-surgery-diabetes-20120625,0,801351.story?track=rss&utm_source=dlvr.it&utm_medium=twitter&dlvrit=53001\n"
          ]
        },
        {
          "output_type": "stream",
          "name": "stderr",
          "text": [
            "Extracting content:  55%|█████▌    | 993/1799 [18:52<10:31,  1.28it/s]"
          ]
        },
        {
          "output_type": "stream",
          "name": "stdout",
          "text": [
            "Error fetching content: 404 Client Error: Not Found for url: https://www.latimes.com/health/boostershots/la-heb-adele-song-rolling-in-the-deep-charlotte-neve-girl-coma-20120622,0,4567660.story?track=rss&utm_source=dlvr.it&utm_medium=twitter&dlvrit=53001\n"
          ]
        },
        {
          "output_type": "stream",
          "name": "stderr",
          "text": [
            "Extracting content:  55%|█████▌    | 997/1799 [18:56<11:24,  1.17it/s]"
          ]
        },
        {
          "output_type": "stream",
          "name": "stdout",
          "text": [
            "Error fetching content: 404 Client Error: Not Found for url: https://www.latimes.com/health/boostershots/la-heb-cereal-marketing-20120622,0,314017.story?track=rss&utm_source=dlvr.it&utm_medium=twitter&dlvrit=53001\n"
          ]
        },
        {
          "output_type": "stream",
          "name": "stderr",
          "text": [
            "Extracting content:  56%|█████▋    | 1014/1799 [19:11<10:40,  1.23it/s]"
          ]
        },
        {
          "output_type": "stream",
          "name": "stdout",
          "text": [
            "Error fetching content: 404 Client Error: Not Found for url: https://www.latimes.com/health/boostershots/la-sci-sn-gastric-bypass-alcoholism-20120618,0,3169875.story?track=rss&utm_source=dlvr.it&utm_medium=twitter&dlvrit=53001\n"
          ]
        },
        {
          "output_type": "stream",
          "name": "stderr",
          "text": [
            "Extracting content:  57%|█████▋    | 1017/1799 [19:14<09:56,  1.31it/s]"
          ]
        },
        {
          "output_type": "stream",
          "name": "stdout",
          "text": [
            "Error fetching content: 404 Client Error: Not Found for url: https://www.latimes.com/health/boostershots/la-heb-bacteria-human-body-ethics-20120614,0,6773174.story?track=rss&utm_source=dlvr.it&utm_medium=twitter&dlvrit=53001\n"
          ]
        },
        {
          "output_type": "stream",
          "name": "stderr",
          "text": [
            "Extracting content:  58%|█████▊    | 1036/1799 [19:30<10:52,  1.17it/s]"
          ]
        },
        {
          "output_type": "stream",
          "name": "stdout",
          "text": [
            "Error fetching content: 404 Client Error: Not Found for url: https://www.latimes.com/health/boostershots/la-heb-sheryl-crow-brain-tumor-meningioma-20120607,0,2983393.story?track=rss&utm_source=dlvr.it&utm_medium=twitter&dlvrit=53001\n"
          ]
        },
        {
          "output_type": "stream",
          "name": "stderr",
          "text": [
            "Extracting content:  60%|█████▉    | 1079/1799 [20:12<09:52,  1.21it/s]"
          ]
        },
        {
          "output_type": "stream",
          "name": "stdout",
          "text": [
            "Error fetching content: 404 Client Error: Not Found for url: https://www.latimes.com/health/boostershots/la-heb--fit-american-cities-20120522,0,3483836.story?track=rss&utm_source=dlvr.it&utm_medium=twitter&dlvrit=53001\n"
          ]
        },
        {
          "output_type": "stream",
          "name": "stderr",
          "text": [
            "Extracting content:  60%|██████    | 1081/1799 [20:14<10:30,  1.14it/s]"
          ]
        },
        {
          "output_type": "stream",
          "name": "stdout",
          "text": [
            "Error fetching content: 404 Client Error: Not Found for url: https://www.latimes.com/health/boostershots/la-sci-sn-diabetes-death-rate-20120522,0,1947673.story?track=rss&utm_source=dlvr.it&utm_medium=twitter&dlvrit=53001\n"
          ]
        },
        {
          "output_type": "stream",
          "name": "stderr",
          "text": [
            "Extracting content:  61%|██████    | 1100/1799 [20:32<09:31,  1.22it/s]"
          ]
        },
        {
          "output_type": "stream",
          "name": "stdout",
          "text": [
            "Error fetching content: 404 Client Error: Not Found for url: https://www.latimes.com/health/boostershots/la-heb-acupuncture-copd-breathing-20120514,0,6746779.story?track=rss&utm_source=dlvr.it&utm_medium=twitter&dlvrit=53001\n"
          ]
        },
        {
          "output_type": "stream",
          "name": "stderr",
          "text": [
            "Extracting content:  61%|██████▏   | 1103/1799 [20:34<09:54,  1.17it/s]"
          ]
        },
        {
          "output_type": "stream",
          "name": "stdout",
          "text": [
            "Error fetching content: 404 Client Error: Not Found for url: https://www.latimes.com/health/boostershots/la-sci-sn-batteries-children-20120514,0,2332903.story?track=rss&utm_source=dlvr.it&utm_medium=twitter&dlvrit=53001\n"
          ]
        },
        {
          "output_type": "stream",
          "name": "stderr",
          "text": [
            "Extracting content:  65%|██████▌   | 1170/1799 [21:37<07:53,  1.33it/s]"
          ]
        },
        {
          "output_type": "stream",
          "name": "stdout",
          "text": [
            "Error fetching content: 404 Client Error: Not Found for url: http://feeds.latimes.com/~r/latimes/features/health/~3/caEL8ZJsKow/la-he-depression-blood-test-20120418,0,6787106.story\n"
          ]
        },
        {
          "output_type": "stream",
          "name": "stderr",
          "text": [
            "Extracting content:  65%|██████▌   | 1174/1799 [21:40<08:35,  1.21it/s]"
          ]
        },
        {
          "output_type": "stream",
          "name": "stdout",
          "text": [
            "Error fetching content: 404 Client Error: Not Found for url: http://feeds.latimes.com/~r/latimes/features/health/~3/yNX1CjzFOng/la-fi-buffet-cancer-20120417,0,6031476.story\n"
          ]
        },
        {
          "output_type": "stream",
          "name": "stderr",
          "text": [
            "Extracting content:  66%|██████▌   | 1179/1799 [21:42<03:59,  2.59it/s]"
          ]
        },
        {
          "output_type": "stream",
          "name": "stdout",
          "text": [
            "Error fetching content: 404 Client Error: Not Found for url: http://feeds.latimes.com/~r/latimes/features/health/~3/-KdaiHgrd0o/la-he-eating-disorders-20120417,0,5984467.story\n",
            "Error fetching content: 404 Client Error: Not Found for url: http://feeds.latimes.com/~r/latimes/features/health/~3/-Rhjmb2kdwA/la-le-0417-tuesday-20120417,0,7772050.story\n"
          ]
        },
        {
          "output_type": "stream",
          "name": "stderr",
          "text": [
            "Extracting content:  66%|██████▌   | 1186/1799 [21:47<05:21,  1.91it/s]"
          ]
        },
        {
          "output_type": "stream",
          "name": "stdout",
          "text": [
            "Error fetching content: 404 Client Error: Not Found for url: http://feeds.latimes.com/~r/latimes/features/health/~3/t1vXchn_i7w/la-fi-adv-medical-prices-20120415,0,7993083.story\n",
            "Error fetching content: 404 Client Error: Not Found for url: http://feeds.latimes.com/~r/latimes/features/health/~3/KjiIrCxACKw/la-me-mental-health-consultants-20120415,0,3504566.story\n"
          ]
        },
        {
          "output_type": "stream",
          "name": "stderr",
          "text": [
            "Extracting content:  66%|██████▌   | 1189/1799 [21:47<03:00,  3.37it/s]"
          ]
        },
        {
          "output_type": "stream",
          "name": "stdout",
          "text": [
            "Error fetching content: 404 Client Error: Not Found for url: http://feeds.latimes.com/~r/latimes/features/health/~3/-Ys5Lo9nwwI/la-me-mental-health-20120415,0,4051609.story\n",
            "Error fetching content: 404 Client Error: Not Found for url: http://feeds.latimes.com/~r/latimes/features/health/~3/8EIf-X-F2CY/la-oe-garcia-anti-addiction-vaccine-20120415,0,3943730.story\n",
            "Error fetching content: 404 Client Error: Not Found for url: http://feeds.latimes.com/~r/latimes/features/health/~3/WJD9Xc7wiFs/la-he-try-this-close-to-wide-squat-20120414,0,340387.story\n"
          ]
        },
        {
          "output_type": "stream",
          "name": "stderr",
          "text": [
            "Extracting content:  66%|██████▌   | 1191/1799 [21:47<02:12,  4.59it/s]"
          ]
        },
        {
          "output_type": "stream",
          "name": "stdout",
          "text": [
            "Error fetching content: 404 Client Error: Not Found for url: http://feeds.latimes.com/~r/latimes/features/health/~3/9NKsc7PU-VY/la-he-sugar-studies-20120414,0,7965403.story\n",
            "Error fetching content: 404 Client Error: Not Found for url: http://feeds.latimes.com/~r/latimes/features/health/~3/qme4Jp7W7nc/la-he-five-questions-sean-astin-20120414,0,2142062.story\n"
          ]
        },
        {
          "output_type": "stream",
          "name": "stderr",
          "text": [
            "Extracting content:  66%|██████▋   | 1194/1799 [21:49<03:23,  2.97it/s]"
          ]
        },
        {
          "output_type": "stream",
          "name": "stdout",
          "text": [
            "Error fetching content: 404 Client Error: Not Found for url: http://feeds.latimes.com/~r/latimes/features/health/~3/R8xBGJjssTE/la-he-sugar-20120414,0,4074395.story\n",
            "Error fetching content: 404 Client Error: Not Found for url: http://feeds.latimes.com/~r/latimes/features/health/~3/W60rlL66Rzw/la-he-gadget-gruve-20120414,0,83772.story\n"
          ]
        },
        {
          "output_type": "stream",
          "name": "stderr",
          "text": [
            "\rExtracting content:  66%|██████▋   | 1195/1799 [21:49<02:51,  3.52it/s]"
          ]
        },
        {
          "output_type": "stream",
          "name": "stdout",
          "text": [
            "Error fetching content: 404 Client Error: Not Found for url: http://feeds.latimes.com/~r/latimes/features/health/~3/8W07iIpcV0Y/la-fi-lazarus-20120413,0,1837081.column\n",
            "Error fetching content: 404 Client Error: Not Found for url: http://feeds.latimes.com/~r/latimes/features/health/~3/452MXlpNnJQ/la-fi-0413-medicare-settlement-20120412,0,6847983.story\n"
          ]
        },
        {
          "output_type": "stream",
          "name": "stderr",
          "text": [
            "\rExtracting content:  67%|██████▋   | 1197/1799 [21:50<04:02,  2.48it/s]"
          ]
        },
        {
          "output_type": "stream",
          "name": "stdout",
          "text": [
            "Error fetching content: 404 Client Error: Not Found for url: http://feeds.latimes.com/~r/latimes/features/health/~3/x1V7xPsB5LU/la-he-antibiotic-resistant-bacteria-20120412,0,6511188.story\n"
          ]
        },
        {
          "output_type": "stream",
          "name": "stderr",
          "text": [
            "Extracting content:  67%|██████▋   | 1200/1799 [21:52<05:02,  1.98it/s]"
          ]
        },
        {
          "output_type": "stream",
          "name": "stdout",
          "text": [
            "Error fetching content: 404 Client Error: Not Found for url: http://feeds.latimes.com/~r/latimes/features/health/~3/oHdVu3Mjp2k/la-he-tax-day-car-crash-20120411,0,7797559.story\n"
          ]
        },
        {
          "output_type": "stream",
          "name": "stderr",
          "text": [
            "Extracting content:  67%|██████▋   | 1205/1799 [21:55<05:17,  1.87it/s]"
          ]
        },
        {
          "output_type": "stream",
          "name": "stdout",
          "text": [
            "Error fetching content: 404 Client Error: Not Found for url: http://feeds.latimes.com/~r/latimes/features/health/~3/ALPIXh9cpT4/la-me-health-nail-salons-20120410,0,3115837.story\n",
            "Error fetching content: 404 Client Error: Not Found for url: http://feeds.latimes.com/~r/latimes/features/health/~3/fXar9rJraFI/la-he-lung-cancer-screening-20120410,0,5920161.story\n"
          ]
        },
        {
          "output_type": "stream",
          "name": "stderr",
          "text": [
            "Extracting content:  67%|██████▋   | 1212/1799 [21:58<03:33,  2.75it/s]"
          ]
        },
        {
          "output_type": "stream",
          "name": "stdout",
          "text": [
            "Error fetching content: 404 Client Error: Not Found for url: http://feeds.latimes.com/~r/latimes/features/health/~3/w-ub89sDfls/la-le-0409-monday-20120409,0,710205.story\n",
            "Error fetching content: 404 Client Error: Not Found for url: http://feeds.latimes.com/~r/latimes/features/health/~3/X0uoeoww8U4/la-me-mental-health-task-force-20120409,0,677225.story\n",
            "Error fetching content: 404 Client Error: Not Found for url: http://feeds.latimes.com/~r/latimes/features/health/~3/KayD1FSRtGM/la-he-autism-obese-mothers-20120409,0,1741964.story\n"
          ]
        },
        {
          "output_type": "stream",
          "name": "stderr",
          "text": [
            "Extracting content:  68%|██████▊   | 1216/1799 [21:59<01:58,  4.94it/s]"
          ]
        },
        {
          "output_type": "stream",
          "name": "stdout",
          "text": [
            "Error fetching content: 404 Client Error: Not Found for url: http://feeds.latimes.com/~r/latimes/features/health/~3/ujZ1Atj06_0/la-na-obama-20120407,0,3563880.story\n",
            "Error fetching content: 404 Client Error: Not Found for url: http://feeds.latimes.com/~r/latimes/features/health/~3/pJgTs-iKkb0/la-le-0408-sunday-20120407,0,2868301.story\n",
            "Error fetching content: 404 Client Error: Not Found for url: http://feeds.latimes.com/~r/latimes/features/health/~3/6Y-Bqd7TWhQ/la-he-shilajit-20120407,0,5358725.story\n"
          ]
        },
        {
          "output_type": "stream",
          "name": "stderr",
          "text": [
            "\rExtracting content:  68%|██████▊   | 1218/1799 [21:59<01:36,  6.05it/s]"
          ]
        },
        {
          "output_type": "stream",
          "name": "stdout",
          "text": [
            "Error fetching content: 404 Client Error: Not Found for url: http://feeds.latimes.com/~r/latimes/features/health/~3/bFbNjzn3l9A/la-he-try-this-skateboard-pike-20120407,0,7863212.story\n",
            "Error fetching content: 404 Client Error: Not Found for url: http://feeds.latimes.com/~r/latimes/features/health/~3/m5jpV3JYLFY/la-he-gear-backpacking-20120407,0,1237088.column\n",
            "Error fetching content: 404 Client Error: Not Found for url: http://feeds.latimes.com/~r/latimes/features/health/~3/M41mKrmCqzk/la-he-five-questions-golf-yips-20120407,0,1483249.story\n"
          ]
        },
        {
          "output_type": "stream",
          "name": "stderr",
          "text": [
            "Extracting content:  68%|██████▊   | 1222/1799 [21:59<01:13,  7.90it/s]"
          ]
        },
        {
          "output_type": "stream",
          "name": "stdout",
          "text": [
            "Error fetching content: 404 Client Error: Not Found for url: http://feeds.latimes.com/~r/latimes/features/health/~3/-6x2gAnzfAk/la-he-twitter-friends-20120407,0,7428542.story\n",
            "Error fetching content: 404 Client Error: Not Found for url: http://feeds.latimes.com/~r/latimes/features/health/~3/w8cOYqZCL9U/la-hm-affairs-20120407,0,6967264.story\n",
            "Error fetching content: 404 Client Error: Not Found for url: http://feeds.latimes.com/~r/latimes/features/health/~3/mw5P3CgmXXA/la-fi-western-osteopathy-20120406,0,2761804.story\n"
          ]
        },
        {
          "output_type": "stream",
          "name": "stderr",
          "text": [
            "\rExtracting content:  68%|██████▊   | 1224/1799 [21:59<01:06,  8.65it/s]"
          ]
        },
        {
          "output_type": "stream",
          "name": "stdout",
          "text": [
            "Error fetching content: 404 Client Error: Not Found for url: http://feeds.latimes.com/~r/latimes/features/health/~3/B6J-bdDbzcI/la-na-holder-law-20120406,0,1819820.story\n",
            "Error fetching content: 404 Client Error: Not Found for url: http://feeds.latimes.com/~r/latimes/features/health/~3/Ll5N71act3I/la-fi-aetna-rate-hike-20120406,0,1870541.story\n",
            "Error fetching content: 404 Client Error: Not Found for url: http://feeds.latimes.com/~r/latimes/features/health/~3/WVSDTTz96ww/la-he-health-411-20120405,0,7997301.story\n"
          ]
        },
        {
          "output_type": "stream",
          "name": "stderr",
          "text": [
            "Extracting content:  68%|██████▊   | 1228/1799 [22:00<00:56, 10.06it/s]"
          ]
        },
        {
          "output_type": "stream",
          "name": "stdout",
          "text": [
            "Error fetching content: 404 Client Error: Not Found for url: http://feeds.latimes.com/~r/latimes/features/health/~3/rNY1BXl3UpQ/la-he-cancer-diagnosis-suicide-20120405,0,7614875.story\n",
            "Error fetching content: 404 Client Error: Not Found for url: http://feeds.latimes.com/~r/latimes/features/health/~3/ne2ON427xME/la-me-prosthetics-20120402,0,695471.story\n",
            "Error fetching content: 404 Client Error: Not Found for url: http://feeds.latimes.com/~r/latimes/features/health/~3/avH9XrXduec/la-ed-judicial-activism-obamacare-20120404,0,571508.story\n",
            "Error fetching content: 404 Client Error: Not Found for url: http://feeds.latimes.com/~r/latimes/features/health/~3/cQV5eW1vM8Q/la-he-ptsd-genes-20120404,0,6603955.story\n"
          ]
        },
        {
          "output_type": "stream",
          "name": "stderr",
          "text": [
            "Extracting content:  68%|██████▊   | 1231/1799 [22:01<02:29,  3.79it/s]"
          ]
        },
        {
          "output_type": "stream",
          "name": "stdout",
          "text": [
            "Error fetching content: 404 Client Error: Not Found for url: http://feeds.latimes.com/~r/latimes/features/health/~3/NtApSfx6xJM/la-he-obesity-20120403,0,3807756.story\n",
            "Error fetching content: 404 Client Error: Not Found for url: http://feeds.latimes.com/~r/latimes/features/health/~3/gcmsHTNKDxw/la-oe-0403-amar-brownstein-healthcare-mandate-supr-20120403,0,1449738.story\n"
          ]
        },
        {
          "output_type": "stream",
          "name": "stderr",
          "text": [
            "Extracting content:  69%|██████▊   | 1236/1799 [22:03<02:19,  4.03it/s]"
          ]
        },
        {
          "output_type": "stream",
          "name": "stdout",
          "text": [
            "Error fetching content: 404 Client Error: Not Found for url: http://feeds.latimes.com/~r/latimes/features/health/~3/Xo4XKUXJ8EY/la-na-hiv-women-20120401,0,7729529.story\n",
            "Error fetching content: 404 Client Error: Not Found for url: http://feeds.latimes.com/~r/latimes/features/health/~3/XNHifNvAr0Q/la-fi-0402-healthcare-law-calif-20120402,0,2753560.story\n",
            "Error fetching content: 404 Client Error: Not Found for url: http://feeds.latimes.com/~r/latimes/features/health/~3/h322nSh-0TM/la-le-0402-monday-20120402,0,452648.story\n"
          ]
        },
        {
          "output_type": "stream",
          "name": "stderr",
          "text": [
            "\rExtracting content:  69%|██████▉   | 1238/1799 [22:03<01:48,  5.16it/s]"
          ]
        },
        {
          "output_type": "stream",
          "name": "stdout",
          "text": [
            "Error fetching content: 404 Client Error: Not Found for url: http://feeds.latimes.com/~r/latimes/features/health/~3/0cluTgyxBwU/la-me-lopez-erfollowup-20120401,0,6799675.column\n",
            "Error fetching content: 404 Client Error: Not Found for url: http://feeds.latimes.com/~r/latimes/features/health/~3/S58ljQnT-ng/la-na-wisconsin-20120401,0,2772987.story\n",
            "Error fetching content: 404 Client Error: Not Found for url: http://feeds.latimes.com/~r/latimes/features/health/~3/M5vGcclLdVs/la-na-court-activism-20120401,0,6035000.story\n"
          ]
        },
        {
          "output_type": "stream",
          "name": "stderr",
          "text": [
            "\rExtracting content:  69%|██████▉   | 1240/1799 [22:03<01:29,  6.28it/s]"
          ]
        },
        {
          "output_type": "stream",
          "name": "stdout",
          "text": [
            "Error fetching content: 404 Client Error: Not Found for url: http://feeds.latimes.com/~r/latimes/features/health/~3/VvSrlYZrBTU/la-tr-webbuzz-20120401,0,2474064.story\n",
            "Error fetching content: 404 Client Error: Not Found for url: http://feeds.latimes.com/~r/latimes/features/health/~3/WQMo7zJVuH8/la-he-ziplining-20120331,0,2843115.story\n"
          ]
        },
        {
          "output_type": "stream",
          "name": "stderr",
          "text": [
            "Extracting content:  69%|██████▉   | 1245/1799 [22:04<01:48,  5.11it/s]"
          ]
        },
        {
          "output_type": "stream",
          "name": "stdout",
          "text": [
            "Error fetching content: 404 Client Error: Not Found for url: http://feeds.latimes.com/~r/latimes/features/health/~3/VVqLjYsHUdI/la-he-try-this-skin-cream-20120331,0,5431451.story\n",
            "Error fetching content: 404 Client Error: Not Found for url: http://feeds.latimes.com/~r/latimes/features/health/~3/RIwD9NHXK9Q/la-he-superfruits-side-20120331,0,751948.story\n",
            "Error fetching content: 404 Client Error: Not Found for url: http://feeds.latimes.com/~r/latimes/features/health/~3/JUwPe2WL0hI/la-he-ziplining-side-20120331,0,2819115.story\n"
          ]
        },
        {
          "output_type": "stream",
          "name": "stderr",
          "text": [
            "\rExtracting content:  69%|██████▉   | 1247/1799 [22:05<01:25,  6.42it/s]"
          ]
        },
        {
          "output_type": "stream",
          "name": "stdout",
          "text": [
            "Error fetching content: 404 Client Error: Not Found for url: http://feeds.latimes.com/~r/latimes/features/health/~3/p6pZBwnIMSs/la-he-five-questions-katherine-jenkins-20120331,0,6115694.story\n",
            "Error fetching content: 404 Client Error: Not Found for url: http://feeds.latimes.com/~r/latimes/features/health/~3/lKlR5d_O1IY/la-he-superfruits-20120331,0,7511231.story\n",
            "Error fetching content: 404 Client Error: Not Found for url: http://feeds.latimes.com/~r/latimes/features/health/~3/RbpD6nQi4OA/la-na-bpa-fda-20120331,0,1826637.story\n"
          ]
        },
        {
          "output_type": "stream",
          "name": "stderr",
          "text": [
            "Extracting content:  70%|██████▉   | 1251/1799 [22:05<01:06,  8.22it/s]"
          ]
        },
        {
          "output_type": "stream",
          "name": "stdout",
          "text": [
            "Error fetching content: 404 Client Error: Not Found for url: http://feeds.latimes.com/~r/latimes/features/health/~3/2nqbVzQGRTQ/la-le-postscript-brown-tax-hike-20120331,0,4708314.story\n",
            "Error fetching content: 404 Client Error: Not Found for url: http://feeds.latimes.com/~r/latimes/features/health/~3/hCdiworg5WE/la-he-pets-at-work-stress-20120331,0,6213318.story\n",
            "Error fetching content: 404 Client Error: Not Found for url: http://feeds.latimes.com/~r/latimes/features/health/~3/RuFnRW1iDhI/la-ed-healthcare-supreme-court-20120331,0,5022201.story\n"
          ]
        },
        {
          "output_type": "stream",
          "name": "stderr",
          "text": [
            "Extracting content:  70%|██████▉   | 1255/1799 [22:07<02:34,  3.52it/s]"
          ]
        },
        {
          "output_type": "stream",
          "name": "stdout",
          "text": [
            "Error fetching content: 404 Client Error: Not Found for url: http://feeds.latimes.com/~r/latimes/features/health/~3/WifdzRWOF84/la-fi-lazarus-20120330,0,1706007.column\n",
            "Error fetching content: 404 Client Error: Not Found for url: http://feeds.latimes.com/~r/latimes/features/health/~3/6l6WafO6peU/la-me-paul-crandall-20120330,0,2942090.story\n",
            "Error fetching content: 404 Client Error: Not Found for url: http://feeds.latimes.com/~r/latimes/features/health/~3/1MwsffBhqlQ/la-me-0330-autism-rates-20120330,0,7153628.story\n"
          ]
        },
        {
          "output_type": "stream",
          "name": "stderr",
          "text": [
            "Extracting content:  70%|██████▉   | 1259/1799 [22:07<01:31,  5.91it/s]"
          ]
        },
        {
          "output_type": "stream",
          "name": "stdout",
          "text": [
            "Error fetching content: 404 Client Error: Not Found for url: http://feeds.latimes.com/~r/latimes/features/health/~3/bMknYPUX__A/la-oe-stone-free-market-healthcare--20120330,0,2212170.story\n",
            "Error fetching content: 404 Client Error: Not Found for url: http://feeds.latimes.com/~r/latimes/features/health/~3/D0OUOYf8IRA/la-na-court-healthcare-20120330,0,7945933.story\n",
            "Error fetching content: 404 Client Error: Not Found for url: http://feeds.latimes.com/~r/latimes/features/health/~3/j2PVh_R5V60/la-me-uc-gay-20120330,0,303195.story\n"
          ]
        },
        {
          "output_type": "stream",
          "name": "stderr",
          "text": [
            "\rExtracting content:  70%|███████   | 1261/1799 [22:08<01:16,  7.04it/s]"
          ]
        },
        {
          "output_type": "stream",
          "name": "stdout",
          "text": [
            "Error fetching content: 404 Client Error: Not Found for url: http://feeds.latimes.com/~r/latimes/features/health/~3/iX1k1Qk5LDU/la-oe-bovard-supremecourt-precedent-healthcare-20120329,0,416245.story\n",
            "Error fetching content: 404 Client Error: Not Found for url: http://feeds.latimes.com/~r/latimes/features/health/~3/f4E9SoN4pyU/la-oe-mcmanus-healthcare-tax-versus-mandate-20120329,0,7759721.column\n"
          ]
        },
        {
          "output_type": "stream",
          "name": "stderr",
          "text": [
            "Extracting content:  70%|███████   | 1265/1799 [22:09<01:44,  5.11it/s]"
          ]
        },
        {
          "output_type": "stream",
          "name": "stdout",
          "text": [
            "Error fetching content: 404 Client Error: Not Found for url: http://feeds.latimes.com/~r/latimes/features/health/~3/EyZDZ1YAmIA/la-na-healthcare-election-20120329,0,1991435.story\n",
            "Error fetching content: 404 Client Error: Not Found for url: http://feeds.latimes.com/~r/latimes/features/health/~3/naEC3OUeaeU/la-me-healthcare-arguments-20120329,0,4873918.story\n",
            "Error fetching content: 404 Client Error: Not Found for url: http://feeds.latimes.com/~r/latimes/features/health/~3/8RW5NDFNgHw/la-na-court-healthcare-20120329,0,404700.story\n"
          ]
        },
        {
          "output_type": "stream",
          "name": "stderr",
          "text": [
            "\rExtracting content:  70%|███████   | 1266/1799 [22:10<02:59,  2.97it/s]"
          ]
        },
        {
          "output_type": "stream",
          "name": "stdout",
          "text": [
            "Error fetching content: 404 Client Error: Not Found for url: http://feeds.latimes.com/~r/latimes/features/health/~3/5Eb7iP_z9mM/la-ed-medicaid-obamacare-court-block-grant-20120328,0,7463046.story\n"
          ]
        },
        {
          "output_type": "stream",
          "name": "stderr",
          "text": [
            "Extracting content:  71%|███████   | 1271/1799 [22:11<02:16,  3.87it/s]"
          ]
        },
        {
          "output_type": "stream",
          "name": "stdout",
          "text": [
            "Error fetching content: 404 Client Error: Not Found for url: http://feeds.latimes.com/~r/latimes/features/health/~3/_ZqBYu-vpL0/la-na-court-healthcare-20120328,0,339163.story\n",
            "Error fetching content: 404 Client Error: Not Found for url: http://feeds.latimes.com/~r/latimes/features/health/~3/0A4zMXtZMLg/la-fi-hiltzik-20120328,0,1509403.column\n",
            "Error fetching content: 404 Client Error: Not Found for url: http://feeds.latimes.com/~r/latimes/features/health/~3/ypQ7haxeySQ/la-he-green-coffee-weight-loss-20120328,0,4627793.story\n"
          ]
        },
        {
          "output_type": "stream",
          "name": "stderr",
          "text": [
            "Extracting content:  71%|███████   | 1275/1799 [22:13<02:44,  3.19it/s]"
          ]
        },
        {
          "output_type": "stream",
          "name": "stdout",
          "text": [
            "Error fetching content: 404 Client Error: Not Found for url: http://feeds.latimes.com/~r/latimes/features/health/~3/Ru6zTLQHrAY/la-he-cheney-heart-transplant-20120327,0,1296991.story\n",
            "Error fetching content: 404 Client Error: Not Found for url: http://feeds.latimes.com/~r/latimes/features/health/~3/KuHXBiHE4zc/la-oe-kinsley-health-care-mandate-supreme-court-20120327,0,6597270.story\n",
            "Error fetching content: 404 Client Error: Not Found for url: http://feeds.latimes.com/~r/latimes/features/health/~3/cTbj6AXfSq4/la-he-tumor-attack-20120327,0,4255100.story\n"
          ]
        },
        {
          "output_type": "stream",
          "name": "stderr",
          "text": [
            "Extracting content:  71%|███████   | 1279/1799 [22:13<01:36,  5.38it/s]"
          ]
        },
        {
          "output_type": "stream",
          "name": "stdout",
          "text": [
            "Error fetching content: 404 Client Error: Not Found for url: http://feeds.latimes.com/~r/latimes/features/health/~3/jPMR7Aapjho/la-na-court-healthcare-20120327,0,273626.story\n",
            "Error fetching content: 404 Client Error: Not Found for url: http://feeds.latimes.com/~r/latimes/features/health/~3/kZLFN-pwsBM/la-na-romney-santorum-20120327,0,341476.story\n",
            "Error fetching content: 404 Client Error: Not Found for url: http://feeds.latimes.com/~r/latimes/features/health/~3/0EyZ3xnbNX4/la-he-bariatric-surgery-diabetes-20120327,0,6447925.story\n"
          ]
        },
        {
          "output_type": "stream",
          "name": "stderr",
          "text": [
            "Extracting content:  71%|███████▏  | 1283/1799 [22:15<02:45,  3.12it/s]"
          ]
        },
        {
          "output_type": "stream",
          "name": "stdout",
          "text": [
            "Error fetching content: 404 Client Error: Not Found for url: http://feeds.latimes.com/~r/latimes/features/health/~3/O5FxvAq-W0g/la-ed-health-obamacare-supreme-court-20120326,0,6115661.story\n",
            "Error fetching content: 404 Client Error: Not Found for url: http://feeds.latimes.com/~r/latimes/features/health/~3/qr42EC7AsZA/la-na-court-medicaid-20120326,0,2579954.story\n"
          ]
        },
        {
          "output_type": "stream",
          "name": "stderr",
          "text": [
            "Extracting content:  71%|███████▏  | 1285/1799 [22:15<01:51,  4.59it/s]"
          ]
        },
        {
          "output_type": "stream",
          "name": "stdout",
          "text": [
            "Error fetching content: 404 Client Error: Not Found for url: http://feeds.latimes.com/~r/latimes/features/health/~3/HVURT6SDi9A/la-na-court-qa-20120326,0,588358.story\n",
            "Error fetching content: 404 Client Error: Not Found for url: http://feeds.latimes.com/~r/latimes/features/health/~3/z9l3Hv5pFBs/la-me-lopez-medicalcosts-20120325,0,6538717.column\n",
            "Error fetching content: 404 Client Error: Not Found for url: http://feeds.latimes.com/~r/latimes/features/health/~3/vwy1AR-EapE/la-na-court-mandate-20120325,0,2010804.story\n"
          ]
        },
        {
          "output_type": "stream",
          "name": "stderr",
          "text": [
            "Extracting content:  72%|███████▏  | 1289/1799 [22:16<01:08,  7.44it/s]"
          ]
        },
        {
          "output_type": "stream",
          "name": "stdout",
          "text": [
            "Error fetching content: 404 Client Error: Not Found for url: http://feeds.latimes.com/~r/latimes/features/health/~3/PyooV8VNZfs/la-ed-plea-bargain-counsel-20120324,0,4090876.story\n",
            "Error fetching content: 404 Client Error: Not Found for url: http://feeds.latimes.com/~r/latimes/features/health/~3/weMti3Xk630/la-he-shrink-apps-side-20120324,0,4294281.story\n",
            "Error fetching content: 404 Client Error: Not Found for url: http://feeds.latimes.com/~r/latimes/features/health/~3/euSkiKTgIbU/la-he-shrink-apps-20120324,0,1200159.story\n",
            "Error fetching content: 404 Client Error: Not Found for url: http://feeds.latimes.com/~r/latimes/features/health/~3/hjIMbQ-9j6k/la-he-resveratrol-20120324,0,5423264.story\n"
          ]
        },
        {
          "output_type": "stream",
          "name": "stderr",
          "text": [
            "Extracting content:  72%|███████▏  | 1294/1799 [22:17<01:34,  5.33it/s]"
          ]
        },
        {
          "output_type": "stream",
          "name": "stdout",
          "text": [
            "Error fetching content: 404 Client Error: Not Found for url: http://feeds.latimes.com/~r/latimes/features/health/~3/xXIbKBqo5u0/la-he-gear-commuter-bikes-20120324,0,3657404.column\n",
            "Error fetching content: 404 Client Error: Not Found for url: http://feeds.latimes.com/~r/latimes/features/health/~3/YzKp_rFjtWY/la-he-try-this-booty-lifter-20120324,0,5700575.story\n",
            "Error fetching content: 404 Client Error: Not Found for url: http://feeds.latimes.com/~r/latimes/features/health/~3/Rtu6ef-0zmw/la-he-five-questions-walter-willett-20120324,0,4545134.story\n"
          ]
        },
        {
          "output_type": "stream",
          "name": "stderr",
          "text": [
            "Extracting content:  72%|███████▏  | 1297/1799 [22:17<01:10,  7.16it/s]"
          ]
        },
        {
          "output_type": "stream",
          "name": "stdout",
          "text": [
            "Error fetching content: 404 Client Error: Not Found for url: http://feeds.latimes.com/~r/latimes/features/health/~3/hO4gwOZ4f2E/la-me-sweetener-suit-20120307,0,5557862.story\n",
            "Error fetching content: 404 Client Error: Not Found for url: http://feeds.latimes.com/~r/latimes/features/health/~3/a0eCx9xJ5Pc/la-he-aricept-fda-20120323,0,698827.story\n",
            "Error fetching content: 404 Client Error: Not Found for url: http://feeds.latimes.com/~r/latimes/features/health/~3/vc1REBf5gGs/la-fi-small-business-insure-20120323,0,2658350.story\n"
          ]
        },
        {
          "output_type": "stream",
          "name": "stderr",
          "text": [
            "\rExtracting content:  72%|███████▏  | 1299/1799 [22:17<01:00,  8.25it/s]"
          ]
        },
        {
          "output_type": "stream",
          "name": "stdout",
          "text": [
            "Error fetching content: 404 Client Error: Not Found for url: http://feeds.latimes.com/~r/latimes/features/health/~3/9vu4McvZiFc/la-ed-health-rationing-obamacare-20120323,0,6353614.story\n",
            "Error fetching content: 404 Client Error: Not Found for url: http://feeds.latimes.com/~r/latimes/features/health/~3/a0eCx9xJ5Pc/la-he-aricept-fda-20120323,0,698827.story\n"
          ]
        },
        {
          "output_type": "stream",
          "name": "stderr",
          "text": [
            "Extracting content:  72%|███████▏  | 1302/1799 [22:19<01:49,  4.55it/s]"
          ]
        },
        {
          "output_type": "stream",
          "name": "stdout",
          "text": [
            "Error fetching content: 404 Client Error: Not Found for url: http://feeds.latimes.com/~r/latimes/features/health/~3/HojjYHPjH4M/la-he-health-411-20120322,0,7866227.story\n",
            "Error fetching content: 404 Client Error: Not Found for url: http://feeds.latimes.com/~r/latimes/features/health/~3/6j71sRdhN08/la-he-james-fell-marathon-20120322,0,2491545.story\n"
          ]
        },
        {
          "output_type": "stream",
          "name": "stderr",
          "text": [
            "\rExtracting content:  72%|███████▏  | 1304/1799 [22:19<01:27,  5.64it/s]"
          ]
        },
        {
          "output_type": "stream",
          "name": "stdout",
          "text": [
            "Error fetching content: 404 Client Error: Not Found for url: http://feeds.latimes.com/~r/latimes/features/health/~3/lUB7ox5F4-Y/la-he-heart-attack-warning-20120322,0,655419.story\n",
            "Error fetching content: 404 Client Error: Not Found for url: http://feeds.latimes.com/~r/latimes/features/health/~3/D31WNIZwWC0/la-fi-0323-dissolvable-tobacco-20120322,0,1783295.story\n"
          ]
        },
        {
          "output_type": "stream",
          "name": "stderr",
          "text": [
            "Extracting content:  73%|███████▎  | 1309/1799 [22:23<04:20,  1.88it/s]"
          ]
        },
        {
          "output_type": "stream",
          "name": "stdout",
          "text": [
            "Error fetching content: 404 Client Error: Not Found for url: http://feeds.latimes.com/~r/latimes/features/health/~3/mk-mH8d-5rM/la-na-obama-healthcare-20120321,0,7589480.story\n"
          ]
        },
        {
          "output_type": "stream",
          "name": "stderr",
          "text": [
            "\rExtracting content:  73%|███████▎  | 1310/1799 [22:23<04:29,  1.82it/s]"
          ]
        },
        {
          "output_type": "stream",
          "name": "stdout",
          "text": [
            "Error fetching content: 404 Client Error: Not Found for url: https://www.latimes.com/health/boostershots/la-heb-electroshock-depression-20120320,0,1060162.story?track=rss\n",
            "Error fetching content: 404 Client Error: Not Found for url: http://feeds.latimes.com/~r/latimes/features/health/~3/DpmzT6qX07c/la-he-marathon-resources-20120317,0,36862.story\n"
          ]
        },
        {
          "output_type": "stream",
          "name": "stderr",
          "text": [
            "Extracting content:  73%|███████▎  | 1313/1799 [22:24<03:22,  2.40it/s]"
          ]
        },
        {
          "output_type": "stream",
          "name": "stdout",
          "text": [
            "Error fetching content: 404 Client Error: Not Found for url: http://feeds.latimes.com/~r/latimes/features/health/~3/jIQbcRnIvZg/la-he-marathon-upcoming-20120317,0,7893094.story\n"
          ]
        },
        {
          "output_type": "stream",
          "name": "stderr",
          "text": [
            "Extracting content:  73%|███████▎  | 1318/1799 [22:26<02:23,  3.34it/s]"
          ]
        },
        {
          "output_type": "stream",
          "name": "stdout",
          "text": [
            "Error fetching content: 404 Client Error: Not Found for url: http://feeds.latimes.com/~r/latimes/features/health/~3/ef3_w037RSk/la-he-try-this-parkour-tic-tac-20120317,0,6107511.story\n",
            "Error fetching content: 404 Client Error: Not Found for url: http://feeds.latimes.com/~r/latimes/features/health/~3/_8IKkT1WyB0/la-he-five-questions-david-lynch-20120317,0,2005252.story\n",
            "Error fetching content: 404 Client Error: Not Found for url: http://feeds.latimes.com/~r/latimes/features/health/~3/V2Y9cOg3jGI/la-me-children-20120319,0,4183670.story\n"
          ]
        },
        {
          "output_type": "stream",
          "name": "stderr",
          "text": [
            "\rExtracting content:  73%|███████▎  | 1320/1799 [22:26<01:44,  4.56it/s]"
          ]
        },
        {
          "output_type": "stream",
          "name": "stdout",
          "text": [
            "Error fetching content: 404 Client Error: Not Found for url: http://feeds.latimes.com/~r/latimes/features/health/~3/beX8V2aDtvU/la-he-marathon-side-20120317,0,5030052.story\n",
            "Error fetching content: 404 Client Error: Not Found for url: http://feeds.latimes.com/~r/latimes/features/health/~3/S00dHaOTu30/la-sci-personalized-medicine-20120317,0,7998981.story\n",
            "Error fetching content: 404 Client Error: Not Found for url: http://feeds.latimes.com/~r/latimes/features/health/~3/wZG6QchhFTM/la-na-court-healthcare-20120318,0,208090.story\n"
          ]
        },
        {
          "output_type": "stream",
          "name": "stderr",
          "text": [
            "Extracting content:  74%|███████▎  | 1324/1799 [22:27<01:08,  6.89it/s]"
          ]
        },
        {
          "output_type": "stream",
          "name": "stdout",
          "text": [
            "Error fetching content: 404 Client Error: Not Found for url: http://feeds.latimes.com/~r/latimes/features/health/~3/vRpfHeuDvq8/la-fi-five-healthplans-20120318,0,3236549.story\n",
            "Error fetching content: 404 Client Error: Not Found for url: http://feeds.latimes.com/~r/latimes/features/health/~3/_8IKkT1WyB0/la-he-five-questions-david-lynch-20120317,0,2005252.story\n",
            "Error fetching content: 404 Client Error: Not Found for url: http://feeds.latimes.com/~r/latimes/features/health/~3/beX8V2aDtvU/la-he-marathon-side-20120317,0,5030052.story\n"
          ]
        },
        {
          "output_type": "stream",
          "name": "stderr",
          "text": [
            "\rExtracting content:  74%|███████▎  | 1326/1799 [22:27<00:59,  7.97it/s]"
          ]
        },
        {
          "output_type": "stream",
          "name": "stdout",
          "text": [
            "Error fetching content: 404 Client Error: Not Found for url: http://feeds.latimes.com/~r/latimes/features/health/~3/ef3_w037RSk/la-he-try-this-parkour-tic-tac-20120317,0,6107511.story\n",
            "Error fetching content: 404 Client Error: Not Found for url: http://feeds.latimes.com/~r/latimes/features/health/~3/skHpnyNQ41I/la-me-east-la-stores-20120318,0,7326134.story\n",
            "Error fetching content: 404 Client Error: Not Found for url: http://feeds.latimes.com/~r/latimes/features/health/~3/S00dHaOTu30/la-sci-personalized-medicine-20120317,0,7998981.story\n"
          ]
        },
        {
          "output_type": "stream",
          "name": "stderr",
          "text": [
            "Extracting content:  74%|███████▍  | 1330/1799 [22:27<00:46, 10.03it/s]"
          ]
        },
        {
          "output_type": "stream",
          "name": "stdout",
          "text": [
            "Error fetching content: 404 Client Error: Not Found for url: http://feeds.latimes.com/~r/latimes/features/health/~3/jIQbcRnIvZg/la-he-marathon-upcoming-20120317,0,7893094.story\n",
            "Error fetching content: 404 Client Error: Not Found for url: http://feeds.latimes.com/~r/latimes/features/health/~3/vRpfHeuDvq8/la-fi-five-healthplans-20120318,0,3236549.story\n",
            "Error fetching content: 404 Client Error: Not Found for url: http://feeds.latimes.com/~r/latimes/features/health/~3/ef3_w037RSk/la-he-try-this-parkour-tic-tac-20120317,0,6107511.story\n"
          ]
        },
        {
          "output_type": "stream",
          "name": "stderr",
          "text": [
            "\rExtracting content:  74%|███████▍  | 1332/1799 [22:28<00:45, 10.34it/s]"
          ]
        },
        {
          "output_type": "stream",
          "name": "stdout",
          "text": [
            "Error fetching content: 404 Client Error: Not Found for url: http://feeds.latimes.com/~r/latimes/features/health/~3/pr3ezpjgxik/la-he-marathon-20120317,0,5031047.story\n",
            "Error fetching content: 404 Client Error: Not Found for url: http://feeds.latimes.com/~r/latimes/features/health/~3/S00dHaOTu30/la-sci-personalized-medicine-20120317,0,7998981.story\n",
            "Error fetching content: 404 Client Error: Not Found for url: http://feeds.latimes.com/~r/latimes/features/health/~3/beX8V2aDtvU/la-he-marathon-side-20120317,0,5030052.story\n"
          ]
        },
        {
          "output_type": "stream",
          "name": "stderr",
          "text": [
            "Extracting content:  74%|███████▍  | 1336/1799 [22:28<00:43, 10.59it/s]"
          ]
        },
        {
          "output_type": "stream",
          "name": "stdout",
          "text": [
            "Error fetching content: 404 Client Error: Not Found for url: http://feeds.latimes.com/~r/latimes/features/health/~3/fC8ZdBVEJSQ/la-he-natural-products-20120317,0,1299239.story\n",
            "Error fetching content: 404 Client Error: Not Found for url: http://feeds.latimes.com/~r/latimes/features/health/~3/soyldfN8bTE/la-he-natural-products-skin-care-20120317,0,2445600.story\n",
            "Error fetching content: 404 Client Error: Not Found for url: http://feeds.latimes.com/~r/latimes/features/health/~3/Mw4PjlrbBHE/la-na-ryan-budget-20120317,0,3175431.story\n",
            "Error fetching content: 404 Client Error: Not Found for url: http://feeds.latimes.com/~r/latimes/features/health/~3/D8Unvjbpn5A/la-me-0317-jason-russell-20120317,0,3112291.story\n"
          ]
        },
        {
          "output_type": "stream",
          "name": "stderr",
          "text": [
            "\rExtracting content:  74%|███████▍  | 1338/1799 [22:29<01:18,  5.91it/s]"
          ]
        },
        {
          "output_type": "stream",
          "name": "stdout",
          "text": [
            "Error fetching content: 404 Client Error: Not Found for url: https://www.latimes.com/health/boostershots/la-heb-expo-baby-foods-20120316,0,5210786.story?track=rss\n"
          ]
        },
        {
          "output_type": "stream",
          "name": "stderr",
          "text": [
            "Extracting content:  75%|███████▍  | 1341/1799 [22:31<03:58,  1.92it/s]"
          ]
        },
        {
          "output_type": "stream",
          "name": "stdout",
          "text": [
            "Error fetching content: 404 Client Error: Not Found for url: http://feeds.latimes.com/~r/latimes/features/health/~3/wdZyJoOhUB4/la-fi-smoking-ads-20120315,0,2974215.story\n"
          ]
        },
        {
          "output_type": "stream",
          "name": "stderr",
          "text": [
            "Extracting content:  75%|███████▍  | 1345/1799 [22:32<02:36,  2.89it/s]"
          ]
        },
        {
          "output_type": "stream",
          "name": "stdout",
          "text": [
            "Error fetching content: 404 Client Error: Not Found for url: http://feeds.latimes.com/~r/latimes/features/health/~3/hDxuP1dWUYY/la-he-pap-tests-20120315,0,6680962.story\n",
            "Error fetching content: 404 Client Error: Not Found for url: http://feeds.latimes.com/~r/latimes/features/health/~3/hOWcHn50hAk/la-he-cadmium-breast-cancer-20120315,0,4351883.story\n",
            "Error fetching content: 404 Client Error: Not Found for url: http://feeds.latimes.com/~r/latimes/features/health/~3/ucIUoslvESI/la-oe-conover-health-myths-20120315,0,1400488.story\n"
          ]
        },
        {
          "output_type": "stream",
          "name": "stderr",
          "text": [
            "Extracting content:  75%|███████▌  | 1351/1799 [22:36<03:41,  2.03it/s]"
          ]
        },
        {
          "output_type": "stream",
          "name": "stdout",
          "text": [
            "Error fetching content: 404 Client Error: Not Found for url: http://feeds.latimes.com/~r/latimes/features/health/~3/2qQFbqXXK1w/la-me-mock-healthcase-20120314,0,2231608.story\n",
            "Error fetching content: 404 Client Error: Not Found for url: http://feeds.latimes.com/~r/latimes/features/health/~3/d1oc6-yRegQ/la-fi-regional-health-survey-20120314,0,1299353.story\n"
          ]
        },
        {
          "output_type": "stream",
          "name": "stderr",
          "text": [
            "Extracting content:  75%|███████▌  | 1354/1799 [22:37<03:44,  1.98it/s]"
          ]
        },
        {
          "output_type": "stream",
          "name": "stdout",
          "text": [
            "Error fetching content: 404 Client Error: Not Found for url: https://www.latimes.com/health/boostershots/la-heb-brain-injury-soldier-afghanistan-20120313,0,2448806.story?track=rss\n"
          ]
        },
        {
          "output_type": "stream",
          "name": "stderr",
          "text": [
            "Extracting content:  75%|███████▌  | 1358/1799 [22:40<03:52,  1.90it/s]"
          ]
        },
        {
          "output_type": "stream",
          "name": "stdout",
          "text": [
            "Error fetching content: 404 Client Error: Not Found for url: http://feeds.latimes.com/~r/latimes/features/health/~3/U8Z7IGURCzY/la-na-healthcare-exchanges-20120313,0,5088888.story\n",
            "Error fetching content: 404 Client Error: Not Found for url: http://feeds.latimes.com/~r/latimes/features/health/~3/_e7daMbCTQM/la-he-red-meat-20120313,0,565423.story\n"
          ]
        },
        {
          "output_type": "stream",
          "name": "stderr",
          "text": [
            "Extracting content:  76%|███████▌  | 1361/1799 [22:42<04:37,  1.58it/s]"
          ]
        },
        {
          "output_type": "stream",
          "name": "stdout",
          "text": [
            "Error fetching content: 404 Client Error: Not Found for url: http://feeds.latimes.com/~r/latimes/features/health/~3/fvtCQjK4xc8/la-he-health-411-20120313,0,7800691.story\n"
          ]
        },
        {
          "output_type": "stream",
          "name": "stderr",
          "text": [
            "Extracting content:  76%|███████▌  | 1366/1799 [22:43<02:18,  3.12it/s]"
          ]
        },
        {
          "output_type": "stream",
          "name": "stdout",
          "text": [
            "Error fetching content: 404 Client Error: Not Found for url: http://feeds.latimes.com/~r/latimes/features/health/~3/FD1yBBHK_00/la-oe-mcmanus-column-healthcare-and-the-election-20120311,0,698976.column\n",
            "Error fetching content: 404 Client Error: Not Found for url: http://feeds.latimes.com/~r/latimes/features/health/~3/IFcwn9ptmoM/la-ed-health-law-plaintiff-20120311,0,144917.story\n",
            "Error fetching content: 404 Client Error: Not Found for url: http://feeds.latimes.com/~r/latimes/features/health/~3/HgylYyUSECg/la-he-tough-mudder-side-20120310,0,4845036.column\n"
          ]
        },
        {
          "output_type": "stream",
          "name": "stderr",
          "text": [
            "Extracting content:  76%|███████▌  | 1368/1799 [22:43<01:40,  4.30it/s]"
          ]
        },
        {
          "output_type": "stream",
          "name": "stdout",
          "text": [
            "Error fetching content: 404 Client Error: Not Found for url: http://feeds.latimes.com/~r/latimes/features/health/~3/oscZVOEU_zw/la-he-gear-water-bottles-20120310,0,7244620.column\n",
            "Error fetching content: 404 Client Error: Not Found for url: http://feeds.latimes.com/~r/latimes/features/health/~3/17ByfqFChfU/la-he-muddy-events-20120310,0,6356854.story\n"
          ]
        },
        {
          "output_type": "stream",
          "name": "stderr",
          "text": [
            "Extracting content:  76%|███████▌  | 1370/1799 [22:44<01:15,  5.71it/s]"
          ]
        },
        {
          "output_type": "stream",
          "name": "stdout",
          "text": [
            "Error fetching content: 404 Client Error: Not Found for url: http://feeds.latimes.com/~r/latimes/features/health/~3/P58UMcT0Qx0/la-he-five-questions-daphne-oz-20120310,0,3261896.story\n",
            "Error fetching content: 404 Client Error: Not Found for url: http://feeds.latimes.com/~r/latimes/features/health/~3/Ga4mqhdKriw/la-fi-health-tech-20120310,0,2992592.story\n"
          ]
        },
        {
          "output_type": "stream",
          "name": "stderr",
          "text": [
            "Extracting content:  76%|███████▋  | 1372/1799 [22:44<01:00,  7.04it/s]"
          ]
        },
        {
          "output_type": "stream",
          "name": "stdout",
          "text": [
            "Error fetching content: 404 Client Error: Not Found for url: http://feeds.latimes.com/~r/latimes/features/health/~3/HDfUCRbEE2M/la-et-announcement-20120310,0,2191328.story\n",
            "Error fetching content: 404 Client Error: Not Found for url: http://feeds.latimes.com/~r/latimes/features/health/~3/kVBFyGCUCPo/la-he-play-list-amina-khan-20120310,0,7437772.story\n",
            "Error fetching content: 404 Client Error: Not Found for url: http://feeds.latimes.com/~r/latimes/features/health/~3/dfXiQB-QFkw/la-me-banks-20120310,0,5918586.column\n"
          ]
        },
        {
          "output_type": "stream",
          "name": "stderr",
          "text": [
            "Extracting content:  76%|███████▋  | 1376/1799 [22:44<00:44,  9.50it/s]"
          ]
        },
        {
          "output_type": "stream",
          "name": "stdout",
          "text": [
            "Error fetching content: 404 Client Error: Not Found for url: http://feeds.latimes.com/~r/latimes/features/health/~3/lfrOmZ2uKCs/la-he-try-this-ladder-drill-20120310,0,2385792.story\n",
            "Error fetching content: 404 Client Error: Not Found for url: http://feeds.latimes.com/~r/latimes/features/health/~3/1Jb9lbkAvDg/la-he-play-list-brain-20120310,0,12560.story\n",
            "Error fetching content: 404 Client Error: Not Found for url: http://feeds.latimes.com/~r/latimes/features/health/~3/vOyHv0ipih0/la-he-tough-mudder-20120310,0,655206.column\n"
          ]
        },
        {
          "output_type": "stream",
          "name": "stderr",
          "text": [
            "\rExtracting content:  77%|███████▋  | 1378/1799 [22:44<00:41, 10.17it/s]"
          ]
        },
        {
          "output_type": "stream",
          "name": "stdout",
          "text": [
            "Error fetching content: 404 Client Error: Not Found for url: http://feeds.latimes.com/~r/latimes/features/health/~3/ufwtSlZxOjg/la-ed-healthcare-poor-copay-20120309,0,200141.story\n",
            "Error fetching content: 404 Client Error: Not Found for url: http://feeds.latimes.com/~r/latimes/features/health/~3/jHu13-wxJVQ/la-na-healthcare-plaintiff-20120309,0,6657163.story\n",
            "Error fetching content: 404 Client Error: Not Found for url: http://feeds.latimes.com/~r/latimes/features/health/~3/5oV5FMb3NTw/la-me-hospital-spending-20120309,0,2964097.story\n"
          ]
        },
        {
          "output_type": "stream",
          "name": "stderr",
          "text": [
            "Extracting content:  77%|███████▋  | 1383/1799 [22:48<03:26,  2.01it/s]"
          ]
        },
        {
          "output_type": "stream",
          "name": "stdout",
          "text": [
            "Error fetching content: 404 Client Error: Not Found for url: http://feeds.latimes.com/~r/latimes/features/health/~3/axaKW7VxEwU/la-oe-miller-drugs-20120305,0,6946675.story\n"
          ]
        },
        {
          "output_type": "stream",
          "name": "stderr",
          "text": [
            "Extracting content:  77%|███████▋  | 1385/1799 [22:49<03:23,  2.04it/s]"
          ]
        },
        {
          "output_type": "stream",
          "name": "stdout",
          "text": [
            "Error fetching content: 404 Client Error: Not Found for url: http://feeds.latimes.com/~r/latimes/features/health/~3/ksoA--chadY/la-fi-ct-iatse-negotiations-20120308,0,2699736.story\n"
          ]
        },
        {
          "output_type": "stream",
          "name": "stderr",
          "text": [
            "Extracting content:  77%|███████▋  | 1387/1799 [22:50<02:42,  2.53it/s]"
          ]
        },
        {
          "output_type": "stream",
          "name": "stdout",
          "text": [
            "Error fetching content: 404 Client Error: Not Found for url: https://www.latimes.com/health/boostershots/la-heb-army-suicide-20120308,0,7002109.story?track=rss\n",
            "Error fetching content: 404 Client Error: Not Found for url: http://feeds.latimes.com/~r/latimes/features/health/~3/TnRuM7gsLIU/la-na-medicare-fraud-20120229,0,2397134.story\n"
          ]
        },
        {
          "output_type": "stream",
          "name": "stderr",
          "text": [
            "Extracting content:  77%|███████▋  | 1390/1799 [22:50<01:28,  4.65it/s]"
          ]
        },
        {
          "output_type": "stream",
          "name": "stdout",
          "text": [
            "Error fetching content: 404 Client Error: Not Found for url: http://feeds.latimes.com/~r/latimes/features/health/~3/yeIvGbFz_sI/la-na-gop-contraceptives-20120302,0,3196384.story\n",
            "Error fetching content: 404 Client Error: Not Found for url: http://feeds.latimes.com/~r/latimes/features/health/~3/pC0X4No4lTY/la-he-kidney-transplant-stem-cells-20120308,0,6483577.story\n",
            "Error fetching content: 404 Client Error: Not Found for url: http://feeds.latimes.com/~r/latimes/features/health/~3/E78u1s9Xar8/la-he-cancer-immunotherapy-20120305,0,6643402.story\n"
          ]
        },
        {
          "output_type": "stream",
          "name": "stderr",
          "text": [
            "Extracting content:  77%|███████▋  | 1392/1799 [22:50<01:07,  6.06it/s]"
          ]
        },
        {
          "output_type": "stream",
          "name": "stdout",
          "text": [
            "Error fetching content: 404 Client Error: Not Found for url: http://feeds.latimes.com/~r/latimes/features/health/~3/wmbrptvUcNg/la-fi-lazarus-20120302,0,1443862.column\n",
            "Error fetching content: 404 Client Error: Not Found for url: http://feeds.latimes.com/~r/latimes/features/health/~3/6JpRuUxcU_0/la-me-ventura-probe-20120307,0,7628521.story\n",
            "Error fetching content: 404 Client Error: Not Found for url: http://feeds.latimes.com/~r/latimes/features/health/~3/3nEd1G8NFNw/la-me-marijuana-20120302,0,4954045.story\n"
          ]
        },
        {
          "output_type": "stream",
          "name": "stderr",
          "text": [
            "Extracting content:  78%|███████▊  | 1396/1799 [22:51<00:47,  8.52it/s]"
          ]
        },
        {
          "output_type": "stream",
          "name": "stdout",
          "text": [
            "Error fetching content: 404 Client Error: Not Found for url: http://feeds.latimes.com/~r/latimes/features/health/~3/RIrOY_OnUC8/la-me-hospital-changes-20120305,0,5184223.story\n",
            "Error fetching content: 404 Client Error: Not Found for url: http://feeds.latimes.com/~r/latimes/features/health/~3/4HtIhJ0EPUs/la-me-holland-20120302,0,7290340.column\n",
            "Error fetching content: 404 Client Error: Not Found for url: http://feeds.latimes.com/~r/latimes/features/health/~3/GQtG25Z0Pos/la-he-estrogen-breast-cancer-20120307,0,1238385.story\n"
          ]
        },
        {
          "output_type": "stream",
          "name": "stderr",
          "text": [
            "Extracting content:  78%|███████▊  | 1408/1799 [23:00<03:03,  2.13it/s]"
          ]
        },
        {
          "output_type": "stream",
          "name": "stdout",
          "text": [
            "Error fetching content: 404 Client Error: Not Found for url: https://www.latimes.com/health/boostershots/la-heb-diesel-exhaust-cancer-20120302,0,2220205.story?track=rss\n",
            "Error fetching content: 404 Client Error: Not Found for url: http://feeds.latimes.com/~r/latimes/features/health/~3/9L4kKP_VG48/la-he-contraception-insurance-20120228,0,3844876.story\n",
            "Error fetching content: 404 Client Error: Not Found for url: http://feeds.latimes.com/~r/latimes/features/health/~3/24pey0sG0A0/la-heb-cigarette-warnings-blocked-20120301,0,4672693.story\n"
          ]
        },
        {
          "output_type": "stream",
          "name": "stderr",
          "text": [
            "\rExtracting content:  78%|███████▊  | 1409/1799 [23:00<02:28,  2.62it/s]"
          ]
        },
        {
          "output_type": "stream",
          "name": "stdout",
          "text": [
            "Error fetching content: 404 Client Error: Not Found for url: http://feeds.latimes.com/~r/latimes/features/health/~3/7OvwOprkSPw/os-racial-disparity-life-expectancy-20120228,0,7055042.story\n",
            "Error fetching content: 404 Client Error: Not Found for url: http://feeds.latimes.com/~r/latimes/features/health/~3/bqCbgy4j4EU/sc-health-0229-sex-fact-fiction-20120229,0,4037864.story\n"
          ]
        },
        {
          "output_type": "stream",
          "name": "stderr",
          "text": [
            "Extracting content:  79%|███████▊  | 1416/1799 [23:06<05:17,  1.21it/s]"
          ]
        },
        {
          "output_type": "stream",
          "name": "stdout",
          "text": [
            "Error fetching content: 404 Client Error: Not Found for url: https://www.latimes.com/health/boostershots/la-heb-kobe-bryant-mri-broken-nose-lakers-expert-20120228,0,429454.story?track=rss\n"
          ]
        },
        {
          "output_type": "stream",
          "name": "stderr",
          "text": [
            "Extracting content:  79%|███████▉  | 1418/1799 [23:08<05:18,  1.20it/s]"
          ]
        },
        {
          "output_type": "stream",
          "name": "stdout",
          "text": [
            "Error fetching content: 404 Client Error: Not Found for url: https://www.latimes.com/health/boostershots/la-heb-statins-20120228,0,7009058.story?track=rss\n"
          ]
        },
        {
          "output_type": "stream",
          "name": "stderr",
          "text": [
            "\rExtracting content:  79%|███████▉  | 1419/1799 [23:09<05:02,  1.26it/s]"
          ]
        },
        {
          "output_type": "stream",
          "name": "stdout",
          "text": [
            "Error fetching content: 404 Client Error: Not Found for url: https://www.latimes.com/health/boostershots/la-heb-end-of-life-20120228,0,4708265.story?track=rss\n"
          ]
        },
        {
          "output_type": "stream",
          "name": "stderr",
          "text": [
            "\rExtracting content:  79%|███████▉  | 1420/1799 [23:09<04:52,  1.30it/s]"
          ]
        },
        {
          "output_type": "stream",
          "name": "stdout",
          "text": [
            "Error fetching content: 404 Client Error: Not Found for url: https://www.latimes.com/health/boostershots/la-heb-health-care-reform-graphic-novel-20120228,0,2072789.story?track=rss\n"
          ]
        },
        {
          "output_type": "stream",
          "name": "stderr",
          "text": [
            "Extracting content:  79%|███████▉  | 1422/1799 [23:11<04:30,  1.40it/s]"
          ]
        },
        {
          "output_type": "stream",
          "name": "stdout",
          "text": [
            "Error fetching content: 404 Client Error: Not Found for url: https://www.latimes.com/health/boostershots/la-heb-ovary-stem-cell-human-cloning-20120227,0,2747845.story?track=rss\n"
          ]
        },
        {
          "output_type": "stream",
          "name": "stderr",
          "text": [
            "Extracting content:  79%|███████▉  | 1424/1799 [23:12<04:42,  1.33it/s]"
          ]
        },
        {
          "output_type": "stream",
          "name": "stdout",
          "text": [
            "Error fetching content: 404 Client Error: Not Found for url: https://www.latimes.com/health/boostershots/la-heb-video-games-activity-20120227,0,4364525.story?track=rss\n"
          ]
        },
        {
          "output_type": "stream",
          "name": "stderr",
          "text": [
            "Extracting content:  79%|███████▉  | 1429/1799 [23:16<03:51,  1.60it/s]"
          ]
        },
        {
          "output_type": "stream",
          "name": "stdout",
          "text": [
            "Error fetching content: 404 Client Error: Not Found for url: http://feeds.latimes.com/~r/latimes/features/health/~3/MpswGQjMiW8/la-he-qnexa-fda-20120223,0,1643846.story\n",
            "Error fetching content: 404 Client Error: Not Found for url: http://feeds.latimes.com/~r/latimes/features/health/~3/9sUMuQs7stQ/ct-x-broken-heart-syndrome-20120222,0,408256.story\n"
          ]
        },
        {
          "output_type": "stream",
          "name": "stderr",
          "text": [
            "\rExtracting content:  80%|███████▉  | 1431/1799 [23:16<02:21,  2.60it/s]"
          ]
        },
        {
          "output_type": "stream",
          "name": "stdout",
          "text": [
            "Error fetching content: 404 Client Error: Not Found for url: http://feeds.latimes.com/~r/latimes/features/health/~3/p4fC_Qk4XvM/la-he-pro-con-bed-sharing-20120220,0,2266150.story\n",
            "Error fetching content: 404 Client Error: Not Found for url: http://feeds.latimes.com/~r/latimes/features/health/~3/Xth-R7i3bhQ/ct-x-0222-birth-weight-autism-20120222,0,3558505.story\n"
          ]
        },
        {
          "output_type": "stream",
          "name": "stderr",
          "text": [
            "Extracting content:  80%|████████  | 1444/1799 [23:26<04:37,  1.28it/s]"
          ]
        },
        {
          "output_type": "stream",
          "name": "stdout",
          "text": [
            "Error fetching content: 404 Client Error: Not Found for url: https://www.latimes.com/health/boostershots/la-heb-vaccine-seizures-20120221,0,7701213.story?track=rss\n"
          ]
        },
        {
          "output_type": "stream",
          "name": "stderr",
          "text": [
            "Extracting content:  81%|████████  | 1457/1799 [23:36<02:20,  2.44it/s]"
          ]
        },
        {
          "output_type": "stream",
          "name": "stdout",
          "text": [
            "Error fetching content: 404 Client Error: Not Found for url: http://feeds.latimes.com/~r/latimes/features/health/~3/dTapbB5N79g/fl-hk-salt-therapy-20120202,0,5238145.story\n",
            "Error fetching content: 404 Client Error: Not Found for url: http://feeds.latimes.com/~r/latimes/features/health/~3/EBXQJ-drb-Y/la-heb-whitney-houston-toxicology-tests-20120213,0,1796115.story\n",
            "Error fetching content: 404 Client Error: Not Found for url: http://feeds.latimes.com/~r/latimes/features/health/~3/myT2-YrDW-U/la-heb-sleep-trouble-alzheimers-disease-20120214,0,1513208.story\n",
            "Error fetching content: 404 Client Error: Not Found for url: http://feeds.latimes.com/~r/latimes/features/health/~3/kRwEDVlaKhA/os-not-your-fathers-workplace-021212-20120214,0,413779.story\n"
          ]
        },
        {
          "output_type": "stream",
          "name": "stderr",
          "text": [
            "Extracting content:  82%|████████▏ | 1483/1799 [23:57<02:30,  2.09it/s]"
          ]
        },
        {
          "output_type": "stream",
          "name": "stdout",
          "text": [
            "Error fetching content: 404 Client Error: Not Found for url: http://feeds.latimes.com/~r/latimes/features/health/~3/zC94xpe5fk8/la-na-contraceptives-fight-20120209,0,6545662.story\n",
            "Error fetching content: 404 Client Error: Not Found for url: http://feeds.latimes.com/~r/latimes/features/health/~3/kMKKqd5HyoM/bs-hs-eye-doctors-20120208,0,6110779.story\n"
          ]
        },
        {
          "output_type": "stream",
          "name": "stderr",
          "text": [
            "Extracting content:  83%|████████▎ | 1486/1799 [23:57<01:25,  3.64it/s]"
          ]
        },
        {
          "output_type": "stream",
          "name": "stdout",
          "text": [
            "Error fetching content: 404 Client Error: Not Found for url: http://feeds.latimes.com/~r/latimes/features/health/~3/DnjgOvxdR0k/sc-health-0208-senior-health-cardiologist-20120208,0,631276.story\n",
            "Error fetching content: 404 Client Error: Not Found for url: http://feeds.latimes.com/~r/latimes/features/health/~3/EnuJ7ufi-8w/sc-health-0208-gastric-drugs-20120208,0,7399806.story\n",
            "Error fetching content: 404 Client Error: Not Found for url: http://feeds.latimes.com/~r/latimes/features/health/~3/dxd7pbKUlg8/la-heb-measles-super-bowl-vaccine-20120210,0,3586152.story\n"
          ]
        },
        {
          "output_type": "stream",
          "name": "stderr",
          "text": [
            "Extracting content:  84%|████████▎ | 1506/1799 [24:16<04:10,  1.17it/s]"
          ]
        },
        {
          "output_type": "stream",
          "name": "stdout",
          "text": [
            "Error fetching content: 404 Client Error: Not Found for url: https://www.latimes.com/health/boostershots/la-heb-walmart-healthy-foods-icon-20120207,0,6853674.story?track=rss\n"
          ]
        },
        {
          "output_type": "stream",
          "name": "stderr",
          "text": [
            "Extracting content:  84%|████████▍ | 1511/1799 [24:20<03:59,  1.20it/s]"
          ]
        },
        {
          "output_type": "stream",
          "name": "stdout",
          "text": [
            "Error fetching content: 404 Client Error: Not Found for url: https://www.latimes.com/health/boostershots/la-heb-race-mental-illness-20120206,0,6144413.story?track=rss\n"
          ]
        },
        {
          "output_type": "stream",
          "name": "stderr",
          "text": [
            "Extracting content:  85%|████████▍ | 1524/1799 [24:32<03:10,  1.44it/s]"
          ]
        },
        {
          "output_type": "stream",
          "name": "stdout",
          "text": [
            "Error fetching content: 404 Client Error: Not Found for url: http://feeds.latimes.com/~r/latimes/features/health/~3/1DxyQ55yyT8/la-heb-chronic-disease-toll-20120131,0,4923319.story\n"
          ]
        },
        {
          "output_type": "stream",
          "name": "stderr",
          "text": [
            "Extracting content:  85%|████████▍ | 1528/1799 [24:35<04:04,  1.11it/s]"
          ]
        },
        {
          "output_type": "stream",
          "name": "stdout",
          "text": [
            "Error fetching content: 404 Client Error: Not Found for url: http://feeds.latimes.com/~r/latimes/features/health/~3/Oy03pLQGOyQ/la-heb-stroke-sleep-apnea-20120201,0,292056.story\n"
          ]
        },
        {
          "output_type": "stream",
          "name": "stderr",
          "text": [
            "Extracting content:  86%|████████▌ | 1545/1799 [24:49<02:51,  1.48it/s]"
          ]
        },
        {
          "output_type": "stream",
          "name": "stdout",
          "text": [
            "Error fetching content: 404 Client Error: Not Found for url: https://www.latimes.com/health/boostershots/la-heb-partial-mastectomy-20120131,0,2836622.story?track=rss\n"
          ]
        },
        {
          "output_type": "stream",
          "name": "stderr",
          "text": [
            "Extracting content:  86%|████████▋ | 1554/1799 [24:57<03:13,  1.27it/s]"
          ]
        },
        {
          "output_type": "stream",
          "name": "stdout",
          "text": [
            "Error fetching content: 404 Client Error: Not Found for url: https://www.latimes.com/health/boostershots/la-heb-newborns-addiction-20120130,0,2251376.story?track=rss\n"
          ]
        },
        {
          "output_type": "stream",
          "name": "stderr",
          "text": [
            "Extracting content:  87%|████████▋ | 1559/1799 [25:00<01:58,  2.03it/s]"
          ]
        },
        {
          "output_type": "stream",
          "name": "stdout",
          "text": [
            "Error fetching content: 404 Client Error: Not Found for url: http://feeds.latimes.com/~r/latimes/features/health/~3/YHFC4z6QQN4/ct-met-frozen-embryo-debate-update-20120121,0,1751165.story\n",
            "Error fetching content: 404 Client Error: Not Found for url: http://feeds.latimes.com/~r/latimes/features/health/~3/zapEZ35XC1g/la-heb-interpersonal-violence-20120125,0,2988299.story\n"
          ]
        },
        {
          "output_type": "stream",
          "name": "stderr",
          "text": [
            "Extracting content:  87%|████████▋ | 1563/1799 [25:03<02:29,  1.58it/s]"
          ]
        },
        {
          "output_type": "stream",
          "name": "stdout",
          "text": [
            "Error fetching content: 404 Client Error: Not Found for url: http://feeds.latimes.com/~r/latimes/features/health/~3/8IfpfN7bXas/la-he-oral-hpv-20120127,0,1665761.story\n",
            "Error fetching content: 404 Client Error: Not Found for url: http://feeds.latimes.com/~r/latimes/features/health/~3/C4ye-tHcLIU/bs-hs-ask-the-expert-0126-20120120,0,4418336.story\n"
          ]
        },
        {
          "output_type": "stream",
          "name": "stderr",
          "text": [
            "Extracting content:  87%|████████▋ | 1572/1799 [25:10<03:03,  1.23it/s]"
          ]
        },
        {
          "output_type": "stream",
          "name": "stdout",
          "text": [
            "Error fetching content: 404 Client Error: Not Found for url: https://www.latimes.com/health/boostershots/la-heb-morgellons-disease-joni-mitchell-20120125,0,314846.story?track=rss\n"
          ]
        },
        {
          "output_type": "stream",
          "name": "stderr",
          "text": [
            "Extracting content:  89%|████████▊ | 1593/1799 [25:51<02:06,  1.63it/s]"
          ]
        },
        {
          "output_type": "stream",
          "name": "stdout",
          "text": [
            "Error fetching content: 404 Client Error: Not Found for url: http://feeds.latimes.com/~r/latimes/features/health/~3/_xcvjxtHRrg/sc-health-0118-cell-phone-20120118,0,1725662.story\n"
          ]
        },
        {
          "output_type": "stream",
          "name": "stderr",
          "text": [
            "Extracting content:  89%|████████▊ | 1595/1799 [25:52<01:41,  2.02it/s]"
          ]
        },
        {
          "output_type": "stream",
          "name": "stdout",
          "text": [
            "Error fetching content: 404 Client Error: Not Found for url: https://www.latimes.com/health/boostershots/la-heb-winter-sports-children-helmets-20120120,0,4064259.story?track=rss\n",
            "Error fetching content: 404 Client Error: Not Found for url: http://feeds.latimes.com/~r/latimes/features/health/~3/4ir2UJVZFOY/ct-x-new-mri-0118-20120118,0,7807589.story\n",
            "Error fetching content: 404 Client Error: Not Found for url: http://feeds.latimes.com/~r/latimes/features/health/~3/nFG_RXtIGKg/os-men-cancer-20120119,0,7211020.story\n"
          ]
        },
        {
          "output_type": "stream",
          "name": "stderr",
          "text": [
            "\rExtracting content:  89%|████████▉ | 1597/1799 [25:53<01:22,  2.44it/s]"
          ]
        },
        {
          "output_type": "stream",
          "name": "stdout",
          "text": [
            "Error fetching content: 404 Client Error: Not Found for url: https://www.latimes.com/health/boostershots/la-heb-fathers-obesity-20120120,0,5955876.story?track=rss\n",
            "Error fetching content: 404 Client Error: Not Found for url: http://feeds.latimes.com/~r/latimes/features/health/~3/oKRikz_FHH8/os-coffee-prevent-diabetes-20120116,0,572672.story\n"
          ]
        },
        {
          "output_type": "stream",
          "name": "stderr",
          "text": [
            "Extracting content:  89%|████████▉ | 1600/1799 [25:54<01:03,  3.13it/s]"
          ]
        },
        {
          "output_type": "stream",
          "name": "stdout",
          "text": [
            "Error fetching content: 404 Client Error: Not Found for url: https://www.latimes.com/health/boostershots/la-heb-fathers-obesity-20120120,0,5955876.story?track=rss\n",
            "Error fetching content: 404 Client Error: Not Found for url: http://feeds.latimes.com/~r/latimes/features/health/~3/F4czCy2JuxA/mc-low-fat-study-20120117,0,935700.story\n"
          ]
        },
        {
          "output_type": "stream",
          "name": "stderr",
          "text": [
            "\rExtracting content:  89%|████████▉ | 1601/1799 [25:54<01:19,  2.48it/s]"
          ]
        },
        {
          "output_type": "stream",
          "name": "stdout",
          "text": [
            "Error fetching content: 404 Client Error: Not Found for url: https://www.latimes.com/health/boostershots/la-heb-walking-television-20120120,0,3688584.story?track=rss\n"
          ]
        },
        {
          "output_type": "stream",
          "name": "stderr",
          "text": [
            "Extracting content:  89%|████████▉ | 1607/1799 [25:59<02:20,  1.37it/s]"
          ]
        },
        {
          "output_type": "stream",
          "name": "stdout",
          "text": [
            "Error fetching content: 404 Client Error: Not Found for url: https://www.latimes.com/health/boostershots/la-heb-betty-white-longevity-20120119,0,7295281.story?track=rss\n"
          ]
        },
        {
          "output_type": "stream",
          "name": "stderr",
          "text": [
            "Extracting content:  90%|████████▉ | 1618/1799 [26:10<02:43,  1.11it/s]"
          ]
        },
        {
          "output_type": "stream",
          "name": "stdout",
          "text": [
            "Error fetching content: 404 Client Error: Not Found for url: https://www.latimes.com/health/boostershots/la-heb-nose-job-rhinoplasty-younger-appearance-20120117,0,6885441.story?track=rss\n"
          ]
        },
        {
          "output_type": "stream",
          "name": "stderr",
          "text": [
            "Extracting content:  90%|█████████ | 1623/1799 [26:14<02:18,  1.27it/s]"
          ]
        },
        {
          "output_type": "stream",
          "name": "stdout",
          "text": [
            "Error fetching content: 404 Client Error: Not Found for url: https://www.latimes.com/health/boostershots/la-heb-plastic-brain-20120116,0,2792857.story?track=rss\n"
          ]
        },
        {
          "output_type": "stream",
          "name": "stderr",
          "text": [
            "\rExtracting content:  90%|█████████ | 1624/1799 [26:14<02:06,  1.39it/s]"
          ]
        },
        {
          "output_type": "stream",
          "name": "stdout",
          "text": [
            "Error fetching content: 404 Client Error: Not Found for url: https://www.latimes.com/health/boostershots/la-heb-fetal-alcohol-20120116,0,3663215.story?track=rss\n"
          ]
        },
        {
          "output_type": "stream",
          "name": "stderr",
          "text": [
            "Extracting content:  91%|█████████ | 1636/1799 [26:23<01:06,  2.44it/s]"
          ]
        },
        {
          "output_type": "stream",
          "name": "stdout",
          "text": [
            "Error fetching content: 404 Client Error: Not Found for url: http://feeds.latimes.com/~r/latimes/features/health/~3/wcv0yN2bBp0/ct-x-0111-fetal-heart-rate-20120111,0,3543440.story\n",
            "Error fetching content: 404 Client Error: Not Found for url: http://feeds.latimes.com/~r/latimes/features/health/~3/nNnIkkof1Sg/la-heb-marijuana-20120111,0,6192362.story\n",
            "Error fetching content: 404 Client Error: Not Found for url: http://feeds.latimes.com/~r/latimes/features/health/~3/8ltowD5tqEs/la-fi-oj-imports-stopped-20120111,0,850860.story\n"
          ]
        },
        {
          "output_type": "stream",
          "name": "stderr",
          "text": [
            "Extracting content:  92%|█████████▏| 1663/1799 [26:47<02:25,  1.07s/it]"
          ]
        },
        {
          "output_type": "stream",
          "name": "stdout",
          "text": [
            "Error fetching content: 404 Client Error: Not Found for url: http://feeds.latimes.com/~r/latimes/features/health/~3/IVvWzg0MlsY/mc-bethlehem-pain-relief-20120105,0,6337465.story\n"
          ]
        },
        {
          "output_type": "stream",
          "name": "stderr",
          "text": [
            "Extracting content:  93%|█████████▎| 1669/1799 [26:50<01:07,  1.93it/s]"
          ]
        },
        {
          "output_type": "stream",
          "name": "stdout",
          "text": [
            "Error fetching content: 404 Client Error: Not Found for url: http://feeds.latimes.com/~r/latimes/features/health/~3/WaO04yO3Pfc/la-na-navajo-hiv-20120105,0,4244652.story\n",
            "Error fetching content: 404 Client Error: Not Found for url: http://feeds.latimes.com/~r/latimes/features/health/~3/wnrMBqjTcQA/sc-health-0104-pharm-20120104,0,3036248.story\n"
          ]
        },
        {
          "output_type": "stream",
          "name": "stderr",
          "text": [
            "Extracting content:  93%|█████████▎| 1671/1799 [26:51<01:02,  2.06it/s]"
          ]
        },
        {
          "output_type": "stream",
          "name": "stdout",
          "text": [
            "Error fetching content: 404 Client Error: Not Found for url: http://feeds.latimes.com/~r/latimes/features/health/~3/ZtsLpKfkBjY/bs-md-new-years-gym-20111230,0,4646021.story\n"
          ]
        },
        {
          "output_type": "stream",
          "name": "stderr",
          "text": [
            "Extracting content:  94%|█████████▍| 1699/1799 [27:16<01:12,  1.38it/s]"
          ]
        },
        {
          "output_type": "stream",
          "name": "stdout",
          "text": [
            "Error fetching content: 404 Client Error: Not Found for url: http://feeds.latimes.com/~r/latimes/features/health/~3/rq3j2OugrkM/fl-suzy-cohen-122511-20111219,0,1632326.column\n",
            "Error fetching content: 404 Client Error: Not Found for url: http://feeds.latimes.com/~r/latimes/features/health/~3/TxjmlFo4_UA/sfl-health-pediatrician-qa,0,3168965.story\n"
          ]
        },
        {
          "output_type": "stream",
          "name": "stderr",
          "text": [
            "Extracting content:  95%|█████████▍| 1704/1799 [27:18<00:32,  2.93it/s]"
          ]
        },
        {
          "output_type": "stream",
          "name": "stdout",
          "text": [
            "Error fetching content: 404 Client Error: Not Found for url: http://feeds.latimes.com/~r/latimes/features/health/~3/Vq6BslpUj0s/bs-hs-ask-the-expert-1229-20111228,0,678197.story\n",
            "Error fetching content: 404 Client Error: Not Found for url: http://feeds.latimes.com/~r/latimes/features/health/~3/lhOn7xOE2jc/sc-health-1221-secret-diet-20111228,0,5937247.story\n",
            "Error fetching content: 404 Client Error: Not Found for url: http://feeds.latimes.com/~r/latimes/features/health/~3/M_cycnPqG64/ct-x-1228-obgyn-factoids-20111228,0,5148502.story\n"
          ]
        },
        {
          "output_type": "stream",
          "name": "stderr",
          "text": [
            "Extracting content:  96%|█████████▌| 1722/1799 [27:34<01:09,  1.11it/s]"
          ]
        },
        {
          "output_type": "stream",
          "name": "stdout",
          "text": [
            "Error fetching content: 404 Client Error: Not Found for url: http://feeds.latimes.com/~r/latimes/features/health/~3/Mrw6pz7n2xY/la-he-obesity-causes-20111219,0,6170668.story\n"
          ]
        },
        {
          "output_type": "stream",
          "name": "stderr",
          "text": [
            "Extracting content:  96%|█████████▌| 1726/1799 [27:35<00:33,  2.19it/s]"
          ]
        },
        {
          "output_type": "stream",
          "name": "stdout",
          "text": [
            "Error fetching content: 404 Client Error: Not Found for url: http://feeds.latimes.com/~r/latimes/features/health/~3/PAxS_Zi5ILI/la-na-court-healthcare-20111220,0,7552715.story\n",
            "Error fetching content: 404 Client Error: Not Found for url: http://feeds.latimes.com/~r/latimes/features/health/~3/N3Kib-Xw0ww/sc-health-1221-diabetic-sugar-20111221,0,3830959.story\n",
            "Error fetching content: 404 Client Error: Not Found for url: http://feeds.latimes.com/~r/latimes/features/health/~3/UumZpgRssu8/hc-caffeine-athleticism-1215-20111215,0,7865408.story\n"
          ]
        },
        {
          "output_type": "stream",
          "name": "stderr",
          "text": [
            "\rExtracting content:  96%|█████████▌| 1728/1799 [27:35<00:22,  3.09it/s]"
          ]
        },
        {
          "output_type": "stream",
          "name": "stdout",
          "text": [
            "Error fetching content: 404 Client Error: Not Found for url: http://feeds.latimes.com/~r/latimes/features/health/~3/q83n4JU154E/la-he-babies-salt-20111221,0,6606273.story\n"
          ]
        },
        {
          "output_type": "stream",
          "name": "stderr",
          "text": [
            "Extracting content:  96%|█████████▌| 1731/1799 [27:36<00:21,  3.18it/s]"
          ]
        },
        {
          "output_type": "stream",
          "name": "stdout",
          "text": [
            "Error fetching content: 404 Client Error: Not Found for url: http://feeds.latimes.com/~r/latimes/features/health/~3/8CifAeSeWVc/sc-health-1221-playlist-20111221,0,7328416.story\n",
            "Error fetching content: 404 Client Error: Not Found for url: http://feeds.latimes.com/~r/latimes/features/health/~3/3Ja9rQtn19E/sc-health-1221-pharm-20111221,0,4740185.story\n"
          ]
        },
        {
          "output_type": "stream",
          "name": "stderr",
          "text": [
            "Extracting content:  98%|█████████▊| 1756/1799 [27:58<00:28,  1.50it/s]"
          ]
        },
        {
          "output_type": "stream",
          "name": "stdout",
          "text": [
            "Error fetching content: 404 Client Error: Not Found for url: http://feeds.latimes.com/~r/latimes/features/health/~3/SulLTX19Aaw/mc-health-montessori-20111212,0,605903.story\n"
          ]
        },
        {
          "output_type": "stream",
          "name": "stderr",
          "text": [
            "\rExtracting content:  98%|█████████▊| 1757/1799 [27:59<00:30,  1.39it/s]"
          ]
        },
        {
          "output_type": "stream",
          "name": "stdout",
          "text": [
            "Error fetching content: 404 Client Error: Not Found for url: http://feeds.latimes.com/~r/latimes/features/health/~3/NZVa5e_7UZw/ct-x-1214-alternative-care-doctors-20111214,0,4834736.story\n"
          ]
        },
        {
          "output_type": "stream",
          "name": "stderr",
          "text": [
            "Extracting content:  98%|█████████▊| 1764/1799 [28:02<00:13,  2.65it/s]"
          ]
        },
        {
          "output_type": "stream",
          "name": "stdout",
          "text": [
            "Error fetching content: 404 Client Error: Not Found for url: http://feeds.latimes.com/~r/latimes/features/health/~3/foAA3M5YMhs/la-he-youth-drugs-20111215,0,4397646.story\n",
            "Error fetching content: 404 Client Error: Not Found for url: http://feeds.latimes.com/~r/latimes/features/health/~3/PtEElC1qJ0s/bs-hs-weave-problems-20111214,0,7008843.story\n",
            "Error fetching content: 404 Client Error: Not Found for url: http://feeds.latimes.com/~r/latimes/features/health/~3/KhrP47FISR8/la-he-drug-store-gifts-20111212,0,7440025.story\n"
          ]
        },
        {
          "output_type": "stream",
          "name": "stderr",
          "text": [
            "Extracting content:  99%|█████████▉| 1788/1799 [28:20<00:04,  2.50it/s]"
          ]
        },
        {
          "output_type": "stream",
          "name": "stdout",
          "text": [
            "Error fetching content: 404 Client Error: Not Found for url: http://feeds.latimes.com/~r/latimes/features/health/~3/ZSh6yiG-jdg/ct-met-hcg-diet-1207-20111207,0,4276774.story\n",
            "Error fetching content: 404 Client Error: Not Found for url: http://feeds.latimes.com/~r/latimes/features/health/~3/4PEbueqDo4s/sns-rt-us-mode-delivery-maternaltre7b62jf-20111207,0,5345171.story\n",
            "Error fetching content: 404 Client Error: Not Found for url: http://feeds.latimes.com/~r/latimes/features/health/~3/V871HpDYMLM/la-he-breast-cancer-drugs-20111208,0,5300399.story\n"
          ]
        },
        {
          "output_type": "stream",
          "name": "stderr",
          "text": [
            "Extracting content: 100%|█████████▉| 1791/1799 [28:22<00:02,  2.82it/s]"
          ]
        },
        {
          "output_type": "stream",
          "name": "stdout",
          "text": [
            "Error fetching content: 404 Client Error: Not Found for url: http://feeds.latimes.com/~r/latimes/features/health/~3/AYBnh01qkuo/os-carb-diet-cancer-20111209,0,7459472.story\n",
            "Error fetching content: 404 Client Error: Not Found for url: http://feeds.latimes.com/~r/latimes/features/health/~3/maIYoUqs0po/sns-rt-us-states-rankingtre7b52dp-20111206,0,2739896.story\n"
          ]
        },
        {
          "output_type": "stream",
          "name": "stderr",
          "text": [
            "Extracting content: 100%|██████████| 1799/1799 [28:30<00:00,  1.05it/s]\n"
          ]
        }
      ]
    },
    {
      "cell_type": "code",
      "source": [
        "# List to store DataFrames of all splits\n",
        "dfs = []\n",
        "\n",
        "# Read each CSV file and append its DataFrame to the list\n",
        "for i in range(1, 11):\n",
        "    filename = f'/content/split_{i}_preprocessed.csv'\n",
        "    df = pd.read_csv(filename)\n",
        "    dfs.append(df)\n",
        "\n",
        "# Concatenate all DataFrames in the list\n",
        "combined_df = pd.concat(dfs, ignore_index=True)"
      ],
      "metadata": {
        "id": "eftyxjYUnAUC"
      },
      "execution_count": 47,
      "outputs": []
    },
    {
      "cell_type": "code",
      "source": [
        "combined_df['Content'] = combined_df['Content'].apply(lambda x: [x])"
      ],
      "metadata": {
        "id": "A06f0SBk5vbX"
      },
      "execution_count": 48,
      "outputs": []
    },
    {
      "cell_type": "code",
      "source": [
        "# Drop rows with missing content\n",
        "combined_df.dropna(subset=['Content'], inplace=True)\n",
        "\n",
        "# Combine content paragraphs into a single string\n",
        "combined_df['Content'] = [\" \".join([str(p_tag).strip() for p_tag in content]) for content in combined_df['Content']]"
      ],
      "metadata": {
        "id": "58xoEhRuOjL5"
      },
      "execution_count": 49,
      "outputs": []
    },
    {
      "cell_type": "code",
      "source": [
        "combined_df.tail()"
      ],
      "metadata": {
        "id": "aIh0XU6C0AdA",
        "outputId": "4755683f-c7e5-4034-b2d3-c6292aabe315",
        "colab": {
          "base_uri": "https://localhost:8080/",
          "height": 397
        }
      },
      "execution_count": 52,
      "outputs": [
        {
          "output_type": "execute_result",
          "data": {
            "text/plain": [
              "                       ID                        DateTime  \\\n",
              "17967  144952345170690052  Fri Dec 09 01:31:46 +0000 2011   \n",
              "17968  144936916838649857  Fri Dec 09 00:30:28 +0000 2011   \n",
              "17969  144917037414756354  Thu Dec 08 23:11:28 +0000 2011   \n",
              "17970  144881597869592576  Thu Dec 08 20:50:39 +0000 2011   \n",
              "17971  144861369597050880  Thu Dec 08 19:30:16 +0000 2011   \n",
              "\n",
              "                                  Article Title and Link  \\\n",
              "17967  Shift work: Good for your pocketbook, bad for ...   \n",
              "17968  Hold the pasta: Starchy food linked to breast ...   \n",
              "17969  Chronic pain is common child complaint, study ...   \n",
              "17970  Sporadic low-carb diets may help lower weight,...   \n",
              "17971  O.B. Ultra tampons are coming back, and the co...   \n",
              "\n",
              "                        URL                                            Content  \n",
              "17967  http://lat.ms/srI28g  these days its just good to have a job but rem...  \n",
              "17968  http://lat.ms/vopkPz  this post has been corrected see note at botto...  \n",
              "17969  http://lat.ms/sqbbYO  chronic pain is usually thought of as a proble...  \n",
              "17970  http://lat.ms/vz4beE  an intermittent low carb diet could be better ...  \n",
              "17971  http://lat.ms/tu6n9S  women rejoice your ob ultra tampons are on the...  "
            ],
            "text/html": [
              "\n",
              "  <div id=\"df-7cf039b7-cf1f-435d-b65c-3b47f1ee3a8e\" class=\"colab-df-container\">\n",
              "    <div>\n",
              "<style scoped>\n",
              "    .dataframe tbody tr th:only-of-type {\n",
              "        vertical-align: middle;\n",
              "    }\n",
              "\n",
              "    .dataframe tbody tr th {\n",
              "        vertical-align: top;\n",
              "    }\n",
              "\n",
              "    .dataframe thead th {\n",
              "        text-align: right;\n",
              "    }\n",
              "</style>\n",
              "<table border=\"1\" class=\"dataframe\">\n",
              "  <thead>\n",
              "    <tr style=\"text-align: right;\">\n",
              "      <th></th>\n",
              "      <th>ID</th>\n",
              "      <th>DateTime</th>\n",
              "      <th>Article Title and Link</th>\n",
              "      <th>URL</th>\n",
              "      <th>Content</th>\n",
              "    </tr>\n",
              "  </thead>\n",
              "  <tbody>\n",
              "    <tr>\n",
              "      <th>17967</th>\n",
              "      <td>144952345170690052</td>\n",
              "      <td>Fri Dec 09 01:31:46 +0000 2011</td>\n",
              "      <td>Shift work: Good for your pocketbook, bad for ...</td>\n",
              "      <td>http://lat.ms/srI28g</td>\n",
              "      <td>these days its just good to have a job but rem...</td>\n",
              "    </tr>\n",
              "    <tr>\n",
              "      <th>17968</th>\n",
              "      <td>144936916838649857</td>\n",
              "      <td>Fri Dec 09 00:30:28 +0000 2011</td>\n",
              "      <td>Hold the pasta: Starchy food linked to breast ...</td>\n",
              "      <td>http://lat.ms/vopkPz</td>\n",
              "      <td>this post has been corrected see note at botto...</td>\n",
              "    </tr>\n",
              "    <tr>\n",
              "      <th>17969</th>\n",
              "      <td>144917037414756354</td>\n",
              "      <td>Thu Dec 08 23:11:28 +0000 2011</td>\n",
              "      <td>Chronic pain is common child complaint, study ...</td>\n",
              "      <td>http://lat.ms/sqbbYO</td>\n",
              "      <td>chronic pain is usually thought of as a proble...</td>\n",
              "    </tr>\n",
              "    <tr>\n",
              "      <th>17970</th>\n",
              "      <td>144881597869592576</td>\n",
              "      <td>Thu Dec 08 20:50:39 +0000 2011</td>\n",
              "      <td>Sporadic low-carb diets may help lower weight,...</td>\n",
              "      <td>http://lat.ms/vz4beE</td>\n",
              "      <td>an intermittent low carb diet could be better ...</td>\n",
              "    </tr>\n",
              "    <tr>\n",
              "      <th>17971</th>\n",
              "      <td>144861369597050880</td>\n",
              "      <td>Thu Dec 08 19:30:16 +0000 2011</td>\n",
              "      <td>O.B. Ultra tampons are coming back, and the co...</td>\n",
              "      <td>http://lat.ms/tu6n9S</td>\n",
              "      <td>women rejoice your ob ultra tampons are on the...</td>\n",
              "    </tr>\n",
              "  </tbody>\n",
              "</table>\n",
              "</div>\n",
              "    <div class=\"colab-df-buttons\">\n",
              "\n",
              "  <div class=\"colab-df-container\">\n",
              "    <button class=\"colab-df-convert\" onclick=\"convertToInteractive('df-7cf039b7-cf1f-435d-b65c-3b47f1ee3a8e')\"\n",
              "            title=\"Convert this dataframe to an interactive table.\"\n",
              "            style=\"display:none;\">\n",
              "\n",
              "  <svg xmlns=\"http://www.w3.org/2000/svg\" height=\"24px\" viewBox=\"0 -960 960 960\">\n",
              "    <path d=\"M120-120v-720h720v720H120Zm60-500h600v-160H180v160Zm220 220h160v-160H400v160Zm0 220h160v-160H400v160ZM180-400h160v-160H180v160Zm440 0h160v-160H620v160ZM180-180h160v-160H180v160Zm440 0h160v-160H620v160Z\"/>\n",
              "  </svg>\n",
              "    </button>\n",
              "\n",
              "  <style>\n",
              "    .colab-df-container {\n",
              "      display:flex;\n",
              "      gap: 12px;\n",
              "    }\n",
              "\n",
              "    .colab-df-convert {\n",
              "      background-color: #E8F0FE;\n",
              "      border: none;\n",
              "      border-radius: 50%;\n",
              "      cursor: pointer;\n",
              "      display: none;\n",
              "      fill: #1967D2;\n",
              "      height: 32px;\n",
              "      padding: 0 0 0 0;\n",
              "      width: 32px;\n",
              "    }\n",
              "\n",
              "    .colab-df-convert:hover {\n",
              "      background-color: #E2EBFA;\n",
              "      box-shadow: 0px 1px 2px rgba(60, 64, 67, 0.3), 0px 1px 3px 1px rgba(60, 64, 67, 0.15);\n",
              "      fill: #174EA6;\n",
              "    }\n",
              "\n",
              "    .colab-df-buttons div {\n",
              "      margin-bottom: 4px;\n",
              "    }\n",
              "\n",
              "    [theme=dark] .colab-df-convert {\n",
              "      background-color: #3B4455;\n",
              "      fill: #D2E3FC;\n",
              "    }\n",
              "\n",
              "    [theme=dark] .colab-df-convert:hover {\n",
              "      background-color: #434B5C;\n",
              "      box-shadow: 0px 1px 3px 1px rgba(0, 0, 0, 0.15);\n",
              "      filter: drop-shadow(0px 1px 2px rgba(0, 0, 0, 0.3));\n",
              "      fill: #FFFFFF;\n",
              "    }\n",
              "  </style>\n",
              "\n",
              "    <script>\n",
              "      const buttonEl =\n",
              "        document.querySelector('#df-7cf039b7-cf1f-435d-b65c-3b47f1ee3a8e button.colab-df-convert');\n",
              "      buttonEl.style.display =\n",
              "        google.colab.kernel.accessAllowed ? 'block' : 'none';\n",
              "\n",
              "      async function convertToInteractive(key) {\n",
              "        const element = document.querySelector('#df-7cf039b7-cf1f-435d-b65c-3b47f1ee3a8e');\n",
              "        const dataTable =\n",
              "          await google.colab.kernel.invokeFunction('convertToInteractive',\n",
              "                                                    [key], {});\n",
              "        if (!dataTable) return;\n",
              "\n",
              "        const docLinkHtml = 'Like what you see? Visit the ' +\n",
              "          '<a target=\"_blank\" href=https://colab.research.google.com/notebooks/data_table.ipynb>data table notebook</a>'\n",
              "          + ' to learn more about interactive tables.';\n",
              "        element.innerHTML = '';\n",
              "        dataTable['output_type'] = 'display_data';\n",
              "        await google.colab.output.renderOutput(dataTable, element);\n",
              "        const docLink = document.createElement('div');\n",
              "        docLink.innerHTML = docLinkHtml;\n",
              "        element.appendChild(docLink);\n",
              "      }\n",
              "    </script>\n",
              "  </div>\n",
              "\n",
              "\n",
              "<div id=\"df-5f163a01-976d-4be9-af7b-5a71c72d8116\">\n",
              "  <button class=\"colab-df-quickchart\" onclick=\"quickchart('df-5f163a01-976d-4be9-af7b-5a71c72d8116')\"\n",
              "            title=\"Suggest charts\"\n",
              "            style=\"display:none;\">\n",
              "\n",
              "<svg xmlns=\"http://www.w3.org/2000/svg\" height=\"24px\"viewBox=\"0 0 24 24\"\n",
              "     width=\"24px\">\n",
              "    <g>\n",
              "        <path d=\"M19 3H5c-1.1 0-2 .9-2 2v14c0 1.1.9 2 2 2h14c1.1 0 2-.9 2-2V5c0-1.1-.9-2-2-2zM9 17H7v-7h2v7zm4 0h-2V7h2v10zm4 0h-2v-4h2v4z\"/>\n",
              "    </g>\n",
              "</svg>\n",
              "  </button>\n",
              "\n",
              "<style>\n",
              "  .colab-df-quickchart {\n",
              "      --bg-color: #E8F0FE;\n",
              "      --fill-color: #1967D2;\n",
              "      --hover-bg-color: #E2EBFA;\n",
              "      --hover-fill-color: #174EA6;\n",
              "      --disabled-fill-color: #AAA;\n",
              "      --disabled-bg-color: #DDD;\n",
              "  }\n",
              "\n",
              "  [theme=dark] .colab-df-quickchart {\n",
              "      --bg-color: #3B4455;\n",
              "      --fill-color: #D2E3FC;\n",
              "      --hover-bg-color: #434B5C;\n",
              "      --hover-fill-color: #FFFFFF;\n",
              "      --disabled-bg-color: #3B4455;\n",
              "      --disabled-fill-color: #666;\n",
              "  }\n",
              "\n",
              "  .colab-df-quickchart {\n",
              "    background-color: var(--bg-color);\n",
              "    border: none;\n",
              "    border-radius: 50%;\n",
              "    cursor: pointer;\n",
              "    display: none;\n",
              "    fill: var(--fill-color);\n",
              "    height: 32px;\n",
              "    padding: 0;\n",
              "    width: 32px;\n",
              "  }\n",
              "\n",
              "  .colab-df-quickchart:hover {\n",
              "    background-color: var(--hover-bg-color);\n",
              "    box-shadow: 0 1px 2px rgba(60, 64, 67, 0.3), 0 1px 3px 1px rgba(60, 64, 67, 0.15);\n",
              "    fill: var(--button-hover-fill-color);\n",
              "  }\n",
              "\n",
              "  .colab-df-quickchart-complete:disabled,\n",
              "  .colab-df-quickchart-complete:disabled:hover {\n",
              "    background-color: var(--disabled-bg-color);\n",
              "    fill: var(--disabled-fill-color);\n",
              "    box-shadow: none;\n",
              "  }\n",
              "\n",
              "  .colab-df-spinner {\n",
              "    border: 2px solid var(--fill-color);\n",
              "    border-color: transparent;\n",
              "    border-bottom-color: var(--fill-color);\n",
              "    animation:\n",
              "      spin 1s steps(1) infinite;\n",
              "  }\n",
              "\n",
              "  @keyframes spin {\n",
              "    0% {\n",
              "      border-color: transparent;\n",
              "      border-bottom-color: var(--fill-color);\n",
              "      border-left-color: var(--fill-color);\n",
              "    }\n",
              "    20% {\n",
              "      border-color: transparent;\n",
              "      border-left-color: var(--fill-color);\n",
              "      border-top-color: var(--fill-color);\n",
              "    }\n",
              "    30% {\n",
              "      border-color: transparent;\n",
              "      border-left-color: var(--fill-color);\n",
              "      border-top-color: var(--fill-color);\n",
              "      border-right-color: var(--fill-color);\n",
              "    }\n",
              "    40% {\n",
              "      border-color: transparent;\n",
              "      border-right-color: var(--fill-color);\n",
              "      border-top-color: var(--fill-color);\n",
              "    }\n",
              "    60% {\n",
              "      border-color: transparent;\n",
              "      border-right-color: var(--fill-color);\n",
              "    }\n",
              "    80% {\n",
              "      border-color: transparent;\n",
              "      border-right-color: var(--fill-color);\n",
              "      border-bottom-color: var(--fill-color);\n",
              "    }\n",
              "    90% {\n",
              "      border-color: transparent;\n",
              "      border-bottom-color: var(--fill-color);\n",
              "    }\n",
              "  }\n",
              "</style>\n",
              "\n",
              "  <script>\n",
              "    async function quickchart(key) {\n",
              "      const quickchartButtonEl =\n",
              "        document.querySelector('#' + key + ' button');\n",
              "      quickchartButtonEl.disabled = true;  // To prevent multiple clicks.\n",
              "      quickchartButtonEl.classList.add('colab-df-spinner');\n",
              "      try {\n",
              "        const charts = await google.colab.kernel.invokeFunction(\n",
              "            'suggestCharts', [key], {});\n",
              "      } catch (error) {\n",
              "        console.error('Error during call to suggestCharts:', error);\n",
              "      }\n",
              "      quickchartButtonEl.classList.remove('colab-df-spinner');\n",
              "      quickchartButtonEl.classList.add('colab-df-quickchart-complete');\n",
              "    }\n",
              "    (() => {\n",
              "      let quickchartButtonEl =\n",
              "        document.querySelector('#df-5f163a01-976d-4be9-af7b-5a71c72d8116 button');\n",
              "      quickchartButtonEl.style.display =\n",
              "        google.colab.kernel.accessAllowed ? 'block' : 'none';\n",
              "    })();\n",
              "  </script>\n",
              "</div>\n",
              "\n",
              "    </div>\n",
              "  </div>\n"
            ],
            "application/vnd.google.colaboratory.intrinsic+json": {
              "type": "dataframe",
              "repr_error": "0"
            }
          },
          "metadata": {},
          "execution_count": 52
        }
      ]
    },
    {
      "cell_type": "code",
      "source": [
        "# Function to clean text\n",
        "def clean_text(text):\n",
        "    # Remove HTML tags\n",
        "    text = BeautifulSoup(text, 'html.parser').get_text()\n",
        "    # Substitute hyphens with empty spaces\n",
        "    text = re.sub(r'-', ' ', text)\n",
        "    # Remove non-alphabetic characters\n",
        "    text = re.sub(r'[^a-zA-Z\\s]', '', text)\n",
        "    # Convert text to lowercase\n",
        "    text = text.lower()\n",
        "    return text\n",
        "\n",
        "# Apply the clean_text function to the 'Content' column\n",
        "combined_df['Content'] = combined_df['Content'].apply(clean_text)"
      ],
      "metadata": {
        "id": "6u_IwlTNOjL6"
      },
      "execution_count": 51,
      "outputs": []
    },
    {
      "cell_type": "code",
      "source": [
        "# Convert to wordnet tags\n",
        "def get_wordnet_pos(tag):\n",
        "    if tag.startswith('J'):\n",
        "        return wordnet.ADJ\n",
        "    elif tag.startswith('V'):\n",
        "        return wordnet.VERB\n",
        "    elif tag.startswith('N'):\n",
        "        return wordnet.NOUN\n",
        "    elif tag.startswith('R'):\n",
        "        return wordnet.ADV\n",
        "    else:\n",
        "        return None  # Use default POS for lemmatization"
      ],
      "metadata": {
        "id": "oGZM5CJvOjL6"
      },
      "execution_count": 53,
      "outputs": []
    },
    {
      "cell_type": "code",
      "source": [
        "# Tokenize and preprocess text data\n",
        "def preprocess_text(text):\n",
        "    tokens = word_tokenize(text)  # Tokenize text\n",
        "    lemmatizer = WordNetLemmatizer()  # Initialize lemmatizer\n",
        "    pos_tags = nltk.pos_tag(tokens)  # Get part-of-speech tags\n",
        "    for i, (token, tag) in enumerate(pos_tags):\n",
        "        pos = get_wordnet_pos(tag)  # Convert NLTK POS tags to WordNet POS tags\n",
        "        if pos:\n",
        "            tokens[i] = lemmatizer.lemmatize(token, pos=pos)  # Lemmatize tokens\n",
        "        else:\n",
        "            tokens[i] = lemmatizer.lemmatize(token)  # Use default POS for lemmatization\n",
        "    stop_words = set(stopwords.words('english'))  # Get stopwords\n",
        "    custom_stopwords = [    # Custom stopwords\n",
        "    \"patient\", \"doctor\", \"say\", \"year\", \"state\", \"day\", \"need\", \"come\", \"well\",\n",
        "    \"make\", \"think\", \"know\", \"go\", \"use\", \"one\", \"like\", \"people\", \"may\",\n",
        "    \"many\", \"still\", \"even\", \"two\", \"way\", \"good\", \"much\", \"back\", \"new\",\n",
        "    \"time\", \"first\", \"really\",\n",
        "    \"a\", \"b\", \"c\", \"d\", \"e\", \"f\", \"g\", \"h\", \"i\", \"j\", \"k\", \"l\", \"m\", \"n\",\n",
        "    \"o\", \"p\", \"q\", \"r\", \"s\", \"t\", \"u\", \"v\", \"w\", \"x\", \"y\", \"z\"\n",
        "    ]\n",
        "    tokens = [token for token in tokens if token not in stop_words and token not in custom_stopwords]  # Remove stopwords\n",
        "    return ' '.join(tokens)\n",
        "\n",
        "combined_df['Content'] = combined_df['Content'].apply(preprocess_text)"
      ],
      "metadata": {
        "id": "0K2VTcFjOjL7"
      },
      "execution_count": 54,
      "outputs": []
    },
    {
      "cell_type": "code",
      "source": [
        "combined_df.iloc[1]['URL']"
      ],
      "metadata": {
        "id": "NQ3vCMP1yYMv",
        "outputId": "8f22c76b-6598-429e-fd45-b9e5126c2a51",
        "colab": {
          "base_uri": "https://localhost:8080/",
          "height": 35
        }
      },
      "execution_count": 56,
      "outputs": [
        {
          "output_type": "execute_result",
          "data": {
            "text/plain": [
              "'http://www.cbc.ca/news/health/sabra-hummus-recalled-in-u-s-1.3026865?cmp=rss'"
            ],
            "application/vnd.google.colaboratory.intrinsic+json": {
              "type": "string"
            }
          },
          "metadata": {},
          "execution_count": 56
        }
      ]
    },
    {
      "cell_type": "code",
      "source": [
        "# Save preprocessed data to CSV\n",
        "combined_df.to_csv('combined_preprocessed.csv', index=False)"
      ],
      "metadata": {
        "id": "PbXfpmHKOjL7"
      },
      "execution_count": 10,
      "outputs": []
    }
  ]
}